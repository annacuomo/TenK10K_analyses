{
 "cells": [
  {
   "cell_type": "code",
   "execution_count": 10,
   "id": "c90be5d2",
   "metadata": {},
   "outputs": [],
   "source": [
    "###### Getting inspiration from a plot from my own thesis:\n",
    "## https://github.com/annacuomo/Anna_PhD_notebooks/blob/main/Thesis/sc_datasets.ipynb\n",
    "#### which is itself inspired by: https://academic.oup.com/database/article/doi/10.1093/database/baaa073/6008692"
   ]
  },
  {
   "cell_type": "code",
   "execution_count": 54,
   "id": "9e09be95",
   "metadata": {},
   "outputs": [],
   "source": [
    "library(ggplot2)"
   ]
  },
  {
   "cell_type": "code",
   "execution_count": 55,
   "id": "6a9e3a34",
   "metadata": {},
   "outputs": [],
   "source": [
    "mydir = \"/share/ScratchGeneral/anncuo/SingleCellEQTLs_Review/\""
   ]
  },
  {
   "cell_type": "code",
   "execution_count": 56,
   "id": "a223b5b6",
   "metadata": {},
   "outputs": [
    {
     "data": {
      "text/html": [
       "'single_cell_eqtl_studies.csv'"
      ],
      "text/latex": [
       "'single\\_cell\\_eqtl\\_studies.csv'"
      ],
      "text/markdown": [
       "'single_cell_eqtl_studies.csv'"
      ],
      "text/plain": [
       "[1] \"single_cell_eqtl_studies.csv\""
      ]
     },
     "metadata": {},
     "output_type": "display_data"
    }
   ],
   "source": [
    "list.files(mydir)"
   ]
  },
  {
   "cell_type": "code",
   "execution_count": 57,
   "id": "1d5666e8",
   "metadata": {},
   "outputs": [],
   "source": [
    "myfile = paste0(mydir,\"single_cell_eqtl_studies.csv\")\n",
    "df = read.csv(myfile)"
   ]
  },
  {
   "cell_type": "code",
   "execution_count": 58,
   "id": "12f506a5",
   "metadata": {},
   "outputs": [
    {
     "data": {
      "text/html": [
       "22"
      ],
      "text/latex": [
       "22"
      ],
      "text/markdown": [
       "22"
      ],
      "text/plain": [
       "[1] 22"
      ]
     },
     "metadata": {},
     "output_type": "display_data"
    },
    {
     "data": {
      "text/html": [
       "<table class=\"dataframe\">\n",
       "<caption>A data.frame: 2 × 19</caption>\n",
       "<thead>\n",
       "\t<tr><th></th><th scope=col>Date</th><th scope=col>Shorthand</th><th scope=col>DOI</th><th scope=col>Reported.unique.individuals</th><th scope=col>Individuals.reported.ancestry</th><th scope=col>Reported.total.cells</th><th scope=col>Pseudobulk</th><th scope=col>Dynamic.eQTL</th><th scope=col>scRNA.seq.technique</th><th scope=col>eQTL.mapping.method</th><th scope=col>article.type</th><th scope=col>Authors</th><th scope=col>Journal</th><th scope=col>Single.cell.eQTL.analysis.of.activated.T.cell.subsets.reveals.activation.and.cell.type.dependent.effects.of.disease.risk.variants</th><th scope=col>bioRxiv.Date</th><th scope=col>Tissue</th><th scope=col>Organism</th><th scope=col>Notes</th><th scope=col>Title</th></tr>\n",
       "\t<tr><th></th><th scope=col>&lt;chr&gt;</th><th scope=col>&lt;chr&gt;</th><th scope=col>&lt;chr&gt;</th><th scope=col>&lt;chr&gt;</th><th scope=col>&lt;chr&gt;</th><th scope=col>&lt;chr&gt;</th><th scope=col>&lt;chr&gt;</th><th scope=col>&lt;chr&gt;</th><th scope=col>&lt;chr&gt;</th><th scope=col>&lt;chr&gt;</th><th scope=col>&lt;chr&gt;</th><th scope=col>&lt;chr&gt;</th><th scope=col>&lt;chr&gt;</th><th scope=col>&lt;chr&gt;</th><th scope=col>&lt;chr&gt;</th><th scope=col>&lt;chr&gt;</th><th scope=col>&lt;chr&gt;</th><th scope=col>&lt;chr&gt;</th><th scope=col>&lt;chr&gt;</th></tr>\n",
       "</thead>\n",
       "<tbody>\n",
       "\t<tr><th scope=row>1</th><td>08/06/2022</td><td>Daniszewski et al CellGenomics</td><td>10.1016/j.xgen.2022.100142</td><td>183</td><td>        </td><td>247,520     </td><td> </td><td></td><td></td><td>            </td><td>research article</td><td>                                                                                                                                                                    </td><td>Cell Genomics        </td><td>-                        </td><td>-         </td><td>iPSC-derived retinal organoids</td><td>human </td><td></td><td>Retinal ganglion cell-specific genetic regulation in primary open-angle glaucoma                                                                         </td></tr>\n",
       "\t<tr><th scope=row>2</th><td>07/06/2022</td><td>Oelen et al NatComm           </td><td>10.1038/s41467-022-30893-5</td><td>120</td><td>EUR (NL)</td><td>1,300,000.00</td><td>Y</td><td></td><td></td><td>correlation </td><td>research article</td><td>Roy Oelen, Dylan H. de Vries, Harm Brugge, Gracie Gordon, Martijn Vochteloo, BIOS Consortium,  Chun J. Ye, Harm-Jan Westra, Lude Franke,  Monique G.P. van der Wijst</td><td>Nature Communications</td><td>10.1101/2021.06.04.447088</td><td>06/06/2021</td><td>PBMCs                         </td><td>human </td><td></td><td>Single-cell RNA-sequencing of peripheral blood mononuclear cells reveals widespread, context-specific gene expression regulation upon pathogenic exposure</td></tr>\n",
       "</tbody>\n",
       "</table>\n"
      ],
      "text/latex": [
       "A data.frame: 2 × 19\n",
       "\\begin{tabular}{r|lllllllllllllllllll}\n",
       "  & Date & Shorthand & DOI & Reported.unique.individuals & Individuals.reported.ancestry & Reported.total.cells & Pseudobulk & Dynamic.eQTL & scRNA.seq.technique & eQTL.mapping.method & article.type & Authors & Journal & Single.cell.eQTL.analysis.of.activated.T.cell.subsets.reveals.activation.and.cell.type.dependent.effects.of.disease.risk.variants & bioRxiv.Date & Tissue & Organism & Notes & Title\\\\\n",
       "  & <chr> & <chr> & <chr> & <chr> & <chr> & <chr> & <chr> & <chr> & <chr> & <chr> & <chr> & <chr> & <chr> & <chr> & <chr> & <chr> & <chr> & <chr> & <chr>\\\\\n",
       "\\hline\n",
       "\t1 & 08/06/2022 & Daniszewski et al CellGenomics & 10.1016/j.xgen.2022.100142 & 183 &          & 247,520      &   &  &  &              & research article &                                                                                                                                                                      & Cell Genomics         & -                         & -          & iPSC-derived retinal organoids & human  &  & Retinal ganglion cell-specific genetic regulation in primary open-angle glaucoma                                                                         \\\\\n",
       "\t2 & 07/06/2022 & Oelen et al NatComm            & 10.1038/s41467-022-30893-5 & 120 & EUR (NL) & 1,300,000.00 & Y &  &  & correlation  & research article & Roy Oelen, Dylan H. de Vries, Harm Brugge, Gracie Gordon, Martijn Vochteloo, BIOS Consortium,  Chun J. Ye, Harm-Jan Westra, Lude Franke,  Monique G.P. van der Wijst & Nature Communications & 10.1101/2021.06.04.447088 & 06/06/2021 & PBMCs                          & human  &  & Single-cell RNA-sequencing of peripheral blood mononuclear cells reveals widespread, context-specific gene expression regulation upon pathogenic exposure\\\\\n",
       "\\end{tabular}\n"
      ],
      "text/markdown": [
       "\n",
       "A data.frame: 2 × 19\n",
       "\n",
       "| <!--/--> | Date &lt;chr&gt; | Shorthand &lt;chr&gt; | DOI &lt;chr&gt; | Reported.unique.individuals &lt;chr&gt; | Individuals.reported.ancestry &lt;chr&gt; | Reported.total.cells &lt;chr&gt; | Pseudobulk &lt;chr&gt; | Dynamic.eQTL &lt;chr&gt; | scRNA.seq.technique &lt;chr&gt; | eQTL.mapping.method &lt;chr&gt; | article.type &lt;chr&gt; | Authors &lt;chr&gt; | Journal &lt;chr&gt; | Single.cell.eQTL.analysis.of.activated.T.cell.subsets.reveals.activation.and.cell.type.dependent.effects.of.disease.risk.variants &lt;chr&gt; | bioRxiv.Date &lt;chr&gt; | Tissue &lt;chr&gt; | Organism &lt;chr&gt; | Notes &lt;chr&gt; | Title &lt;chr&gt; |\n",
       "|---|---|---|---|---|---|---|---|---|---|---|---|---|---|---|---|---|---|---|---|\n",
       "| 1 | 08/06/2022 | Daniszewski et al CellGenomics | 10.1016/j.xgen.2022.100142 | 183 | <!----> | 247,520      | <!----> | <!----> | <!----> | <!----> | research article | <!----> | Cell Genomics         | -                         | -          | iPSC-derived retinal organoids | human  | <!----> | Retinal ganglion cell-specific genetic regulation in primary open-angle glaucoma                                                                          |\n",
       "| 2 | 07/06/2022 | Oelen et al NatComm            | 10.1038/s41467-022-30893-5 | 120 | EUR (NL) | 1,300,000.00 | Y | <!----> | <!----> | correlation  | research article | Roy Oelen, Dylan H. de Vries, Harm Brugge, Gracie Gordon, Martijn Vochteloo, BIOS Consortium,  Chun J. Ye, Harm-Jan Westra, Lude Franke,  Monique G.P. van der Wijst | Nature Communications | 10.1101/2021.06.04.447088 | 06/06/2021 | PBMCs                          | human  | <!----> | Single-cell RNA-sequencing of peripheral blood mononuclear cells reveals widespread, context-specific gene expression regulation upon pathogenic exposure |\n",
       "\n"
      ],
      "text/plain": [
       "  Date       Shorthand                      DOI                       \n",
       "1 08/06/2022 Daniszewski et al CellGenomics 10.1016/j.xgen.2022.100142\n",
       "2 07/06/2022 Oelen et al NatComm            10.1038/s41467-022-30893-5\n",
       "  Reported.unique.individuals Individuals.reported.ancestry\n",
       "1 183                                                      \n",
       "2 120                         EUR (NL)                     \n",
       "  Reported.total.cells Pseudobulk Dynamic.eQTL scRNA.seq.technique\n",
       "1 247,520                                                         \n",
       "2 1,300,000.00         Y                                          \n",
       "  eQTL.mapping.method article.type    \n",
       "1                     research article\n",
       "2 correlation         research article\n",
       "  Authors                                                                                                                                                             \n",
       "1                                                                                                                                                                     \n",
       "2 Roy Oelen, Dylan H. de Vries, Harm Brugge, Gracie Gordon, Martijn Vochteloo, BIOS Consortium,  Chun J. Ye, Harm-Jan Westra, Lude Franke,  Monique G.P. van der Wijst\n",
       "  Journal              \n",
       "1 Cell Genomics        \n",
       "2 Nature Communications\n",
       "  Single.cell.eQTL.analysis.of.activated.T.cell.subsets.reveals.activation.and.cell.type.dependent.effects.of.disease.risk.variants\n",
       "1 -                                                                                                                                \n",
       "2 10.1101/2021.06.04.447088                                                                                                        \n",
       "  bioRxiv.Date Tissue                         Organism Notes\n",
       "1 -            iPSC-derived retinal organoids human         \n",
       "2 06/06/2021   PBMCs                          human         \n",
       "  Title                                                                                                                                                    \n",
       "1 Retinal ganglion cell-specific genetic regulation in primary open-angle glaucoma                                                                         \n",
       "2 Single-cell RNA-sequencing of peripheral blood mononuclear cells reveals widespread, context-specific gene expression regulation upon pathogenic exposure"
      ]
     },
     "metadata": {},
     "output_type": "display_data"
    }
   ],
   "source": [
    "nrow(df)\n",
    "head(df,2)"
   ]
  },
  {
   "cell_type": "code",
   "execution_count": 59,
   "id": "1b4921f2",
   "metadata": {},
   "outputs": [
    {
     "data": {
      "text/html": [
       "<style>\n",
       ".list-inline {list-style: none; margin:0; padding: 0}\n",
       ".list-inline>li {display: inline-block}\n",
       ".list-inline>li:not(:last-child)::after {content: \"\\00b7\"; padding: 0 .5ex}\n",
       "</style>\n",
       "<ol class=list-inline><li>'247,520'</li><li>'1,300,000.00'</li><li>'655,349'</li><li>'500,000'</li><li>'489'</li><li>'1,270,000.00'</li><li>'1,260,000.00'</li><li>'-'</li><li>'735,000'</li><li>'230,786'</li><li>'-'</li><li>'22,188'</li><li>'-'</li><li>'-'</li><li>'64,018'</li><li>'1,027,401'</li><li>'-'</li><li>'-'</li><li>'36,044'</li><li>'7,585'</li><li>'25,291'</li><li>''</li></ol>\n"
      ],
      "text/latex": [
       "\\begin{enumerate*}\n",
       "\\item '247,520'\n",
       "\\item '1,300,000.00'\n",
       "\\item '655,349'\n",
       "\\item '500,000'\n",
       "\\item '489'\n",
       "\\item '1,270,000.00'\n",
       "\\item '1,260,000.00'\n",
       "\\item '-'\n",
       "\\item '735,000'\n",
       "\\item '230,786'\n",
       "\\item '-'\n",
       "\\item '22,188'\n",
       "\\item '-'\n",
       "\\item '-'\n",
       "\\item '64,018'\n",
       "\\item '1,027,401'\n",
       "\\item '-'\n",
       "\\item '-'\n",
       "\\item '36,044'\n",
       "\\item '7,585'\n",
       "\\item '25,291'\n",
       "\\item ''\n",
       "\\end{enumerate*}\n"
      ],
      "text/markdown": [
       "1. '247,520'\n",
       "2. '1,300,000.00'\n",
       "3. '655,349'\n",
       "4. '500,000'\n",
       "5. '489'\n",
       "6. '1,270,000.00'\n",
       "7. '1,260,000.00'\n",
       "8. '-'\n",
       "9. '735,000'\n",
       "10. '230,786'\n",
       "11. '-'\n",
       "12. '22,188'\n",
       "13. '-'\n",
       "14. '-'\n",
       "15. '64,018'\n",
       "16. '1,027,401'\n",
       "17. '-'\n",
       "18. '-'\n",
       "19. '36,044'\n",
       "20. '7,585'\n",
       "21. '25,291'\n",
       "22. ''\n",
       "\n",
       "\n"
      ],
      "text/plain": [
       " [1] \"247,520\"      \"1,300,000.00\" \"655,349\"      \"500,000\"      \"489\"         \n",
       " [6] \"1,270,000.00\" \"1,260,000.00\" \"-\"            \"735,000\"      \"230,786\"     \n",
       "[11] \"-\"            \"22,188\"       \"-\"            \"-\"            \"64,018\"      \n",
       "[16] \"1,027,401\"    \"-\"            \"-\"            \"36,044\"       \"7,585\"       \n",
       "[21] \"25,291\"       \"\"            "
      ]
     },
     "metadata": {},
     "output_type": "display_data"
    }
   ],
   "source": [
    "df$Reported.total.cells"
   ]
  },
  {
   "cell_type": "code",
   "execution_count": 60,
   "id": "8e15e174",
   "metadata": {},
   "outputs": [
    {
     "data": {
      "text/html": [
       "<style>\n",
       ".list-inline {list-style: none; margin:0; padding: 0}\n",
       ".list-inline>li {display: inline-block}\n",
       ".list-inline>li:not(:last-child)::after {content: \"\\00b7\"; padding: 0 .5ex}\n",
       "</style>\n",
       "<ol class=list-inline><li>'Date'</li><li>'Shorthand'</li><li>'DOI'</li><li>'Reported.unique.individuals'</li><li>'Individuals.reported.ancestry'</li><li>'Reported.total.cells'</li><li>'Pseudobulk'</li><li>'Dynamic.eQTL'</li><li>'scRNA.seq.technique'</li><li>'eQTL.mapping.method'</li><li>'article.type'</li><li>'Authors'</li><li>'Journal'</li><li>'Single.cell.eQTL.analysis.of.activated.T.cell.subsets.reveals.activation.and.cell.type.dependent.effects.of.disease.risk.variants'</li><li>'bioRxiv.Date'</li><li>'Tissue'</li><li>'Organism'</li><li>'Notes'</li><li>'Title'</li></ol>\n"
      ],
      "text/latex": [
       "\\begin{enumerate*}\n",
       "\\item 'Date'\n",
       "\\item 'Shorthand'\n",
       "\\item 'DOI'\n",
       "\\item 'Reported.unique.individuals'\n",
       "\\item 'Individuals.reported.ancestry'\n",
       "\\item 'Reported.total.cells'\n",
       "\\item 'Pseudobulk'\n",
       "\\item 'Dynamic.eQTL'\n",
       "\\item 'scRNA.seq.technique'\n",
       "\\item 'eQTL.mapping.method'\n",
       "\\item 'article.type'\n",
       "\\item 'Authors'\n",
       "\\item 'Journal'\n",
       "\\item 'Single.cell.eQTL.analysis.of.activated.T.cell.subsets.reveals.activation.and.cell.type.dependent.effects.of.disease.risk.variants'\n",
       "\\item 'bioRxiv.Date'\n",
       "\\item 'Tissue'\n",
       "\\item 'Organism'\n",
       "\\item 'Notes'\n",
       "\\item 'Title'\n",
       "\\end{enumerate*}\n"
      ],
      "text/markdown": [
       "1. 'Date'\n",
       "2. 'Shorthand'\n",
       "3. 'DOI'\n",
       "4. 'Reported.unique.individuals'\n",
       "5. 'Individuals.reported.ancestry'\n",
       "6. 'Reported.total.cells'\n",
       "7. 'Pseudobulk'\n",
       "8. 'Dynamic.eQTL'\n",
       "9. 'scRNA.seq.technique'\n",
       "10. 'eQTL.mapping.method'\n",
       "11. 'article.type'\n",
       "12. 'Authors'\n",
       "13. 'Journal'\n",
       "14. 'Single.cell.eQTL.analysis.of.activated.T.cell.subsets.reveals.activation.and.cell.type.dependent.effects.of.disease.risk.variants'\n",
       "15. 'bioRxiv.Date'\n",
       "16. 'Tissue'\n",
       "17. 'Organism'\n",
       "18. 'Notes'\n",
       "19. 'Title'\n",
       "\n",
       "\n"
      ],
      "text/plain": [
       " [1] \"Date\"                                                                                                                             \n",
       " [2] \"Shorthand\"                                                                                                                        \n",
       " [3] \"DOI\"                                                                                                                              \n",
       " [4] \"Reported.unique.individuals\"                                                                                                      \n",
       " [5] \"Individuals.reported.ancestry\"                                                                                                    \n",
       " [6] \"Reported.total.cells\"                                                                                                             \n",
       " [7] \"Pseudobulk\"                                                                                                                       \n",
       " [8] \"Dynamic.eQTL\"                                                                                                                     \n",
       " [9] \"scRNA.seq.technique\"                                                                                                              \n",
       "[10] \"eQTL.mapping.method\"                                                                                                              \n",
       "[11] \"article.type\"                                                                                                                     \n",
       "[12] \"Authors\"                                                                                                                          \n",
       "[13] \"Journal\"                                                                                                                          \n",
       "[14] \"Single.cell.eQTL.analysis.of.activated.T.cell.subsets.reveals.activation.and.cell.type.dependent.effects.of.disease.risk.variants\"\n",
       "[15] \"bioRxiv.Date\"                                                                                                                     \n",
       "[16] \"Tissue\"                                                                                                                           \n",
       "[17] \"Organism\"                                                                                                                         \n",
       "[18] \"Notes\"                                                                                                                            \n",
       "[19] \"Title\"                                                                                                                            "
      ]
     },
     "metadata": {},
     "output_type": "display_data"
    }
   ],
   "source": [
    "colnames(df)"
   ]
  },
  {
   "cell_type": "code",
   "execution_count": 61,
   "id": "5a76aa94",
   "metadata": {},
   "outputs": [
    {
     "data": {
      "text/html": [
       "<table class=\"dataframe\">\n",
       "<caption>A data.frame: 6 × 4</caption>\n",
       "<thead>\n",
       "\t<tr><th></th><th scope=col>Date</th><th scope=col>Reported.total.cells</th><th scope=col>Reported.unique.individuals</th><th scope=col>Shorthand</th></tr>\n",
       "\t<tr><th></th><th scope=col>&lt;chr&gt;</th><th scope=col>&lt;chr&gt;</th><th scope=col>&lt;chr&gt;</th><th scope=col>&lt;chr&gt;</th></tr>\n",
       "</thead>\n",
       "<tbody>\n",
       "\t<tr><th scope=row>17</th><td>30102020</td><td>-    </td><td>-  </td><td>Mandric et al NatComm       </td></tr>\n",
       "\t<tr><th scope=row>18</th><td>09032020</td><td>-    </td><td>-  </td><td>van der Wijst et al eLife   </td></tr>\n",
       "\t<tr><th scope=row>19</th><td>10022020</td><td>36044</td><td>125</td><td>Cuomo et al NatComm         </td></tr>\n",
       "\t<tr><th scope=row>20</th><td>19042019</td><td>7585 </td><td>53 </td><td>Sarkar et al PlosGenet      </td></tr>\n",
       "\t<tr><th scope=row>21</th><td>02042018</td><td>25291</td><td>45 </td><td>van der Wijst et al NatGenet</td></tr>\n",
       "\t<tr><th scope=row>22</th><td>11122017</td><td>     </td><td>23 </td><td>Kang et al NatBiotech       </td></tr>\n",
       "</tbody>\n",
       "</table>\n"
      ],
      "text/latex": [
       "A data.frame: 6 × 4\n",
       "\\begin{tabular}{r|llll}\n",
       "  & Date & Reported.total.cells & Reported.unique.individuals & Shorthand\\\\\n",
       "  & <chr> & <chr> & <chr> & <chr>\\\\\n",
       "\\hline\n",
       "\t17 & 30102020 & -     & -   & Mandric et al NatComm       \\\\\n",
       "\t18 & 09032020 & -     & -   & van der Wijst et al eLife   \\\\\n",
       "\t19 & 10022020 & 36044 & 125 & Cuomo et al NatComm         \\\\\n",
       "\t20 & 19042019 & 7585  & 53  & Sarkar et al PlosGenet      \\\\\n",
       "\t21 & 02042018 & 25291 & 45  & van der Wijst et al NatGenet\\\\\n",
       "\t22 & 11122017 &       & 23  & Kang et al NatBiotech       \\\\\n",
       "\\end{tabular}\n"
      ],
      "text/markdown": [
       "\n",
       "A data.frame: 6 × 4\n",
       "\n",
       "| <!--/--> | Date &lt;chr&gt; | Reported.total.cells &lt;chr&gt; | Reported.unique.individuals &lt;chr&gt; | Shorthand &lt;chr&gt; |\n",
       "|---|---|---|---|---|\n",
       "| 17 | 30102020 | -     | -   | Mandric et al NatComm        |\n",
       "| 18 | 09032020 | -     | -   | van der Wijst et al eLife    |\n",
       "| 19 | 10022020 | 36044 | 125 | Cuomo et al NatComm          |\n",
       "| 20 | 19042019 | 7585  | 53  | Sarkar et al PlosGenet       |\n",
       "| 21 | 02042018 | 25291 | 45  | van der Wijst et al NatGenet |\n",
       "| 22 | 11122017 | <!----> | 23  | Kang et al NatBiotech        |\n",
       "\n"
      ],
      "text/plain": [
       "   Date     Reported.total.cells Reported.unique.individuals\n",
       "17 30102020 -                    -                          \n",
       "18 09032020 -                    -                          \n",
       "19 10022020 36044                125                        \n",
       "20 19042019 7585                 53                         \n",
       "21 02042018 25291                45                         \n",
       "22 11122017                      23                         \n",
       "   Shorthand                   \n",
       "17 Mandric et al NatComm       \n",
       "18 van der Wijst et al eLife   \n",
       "19 Cuomo et al NatComm         \n",
       "20 Sarkar et al PlosGenet      \n",
       "21 van der Wijst et al NatGenet\n",
       "22 Kang et al NatBiotech       "
      ]
     },
     "metadata": {},
     "output_type": "display_data"
    }
   ],
   "source": [
    "sel_columns = c(\"Date\",\"Reported.total.cells\",\"Reported.unique.individuals\",\"Shorthand\")\n",
    "df_sel = df[df$Shorthand != \"Ma et al Gene\",sel_columns]\n",
    "df_sel$Reported.total.cells = gsub(\",\",\"\",df_sel$Reported.total.cells)\n",
    "df_sel$Date = gsub(\"/\",\"\",df_sel$Date)\n",
    "tail(df_sel)"
   ]
  },
  {
   "cell_type": "code",
   "execution_count": 62,
   "id": "5ae6b906",
   "metadata": {},
   "outputs": [
    {
     "data": {
      "text/html": [
       "<style>\n",
       ".list-inline {list-style: none; margin:0; padding: 0}\n",
       ".list-inline>li {display: inline-block}\n",
       ".list-inline>li:not(:last-child)::after {content: \"\\00b7\"; padding: 0 .5ex}\n",
       "</style>\n",
       "<ol class=list-inline><li>'247520'</li><li>'1300000.00'</li><li>'655349'</li><li>'500000'</li><li>'1270000.00'</li><li>'1260000.00'</li><li>'-'</li><li>'735000'</li><li>'230786'</li><li>'-'</li><li>'22188'</li><li>'-'</li><li>'-'</li><li>'64018'</li><li>'1027401'</li><li>'-'</li><li>'-'</li><li>'36044'</li><li>'7585'</li><li>'25291'</li><li>''</li></ol>\n"
      ],
      "text/latex": [
       "\\begin{enumerate*}\n",
       "\\item '247520'\n",
       "\\item '1300000.00'\n",
       "\\item '655349'\n",
       "\\item '500000'\n",
       "\\item '1270000.00'\n",
       "\\item '1260000.00'\n",
       "\\item '-'\n",
       "\\item '735000'\n",
       "\\item '230786'\n",
       "\\item '-'\n",
       "\\item '22188'\n",
       "\\item '-'\n",
       "\\item '-'\n",
       "\\item '64018'\n",
       "\\item '1027401'\n",
       "\\item '-'\n",
       "\\item '-'\n",
       "\\item '36044'\n",
       "\\item '7585'\n",
       "\\item '25291'\n",
       "\\item ''\n",
       "\\end{enumerate*}\n"
      ],
      "text/markdown": [
       "1. '247520'\n",
       "2. '1300000.00'\n",
       "3. '655349'\n",
       "4. '500000'\n",
       "5. '1270000.00'\n",
       "6. '1260000.00'\n",
       "7. '-'\n",
       "8. '735000'\n",
       "9. '230786'\n",
       "10. '-'\n",
       "11. '22188'\n",
       "12. '-'\n",
       "13. '-'\n",
       "14. '64018'\n",
       "15. '1027401'\n",
       "16. '-'\n",
       "17. '-'\n",
       "18. '36044'\n",
       "19. '7585'\n",
       "20. '25291'\n",
       "21. ''\n",
       "\n",
       "\n"
      ],
      "text/plain": [
       " [1] \"247520\"     \"1300000.00\" \"655349\"     \"500000\"     \"1270000.00\"\n",
       " [6] \"1260000.00\" \"-\"          \"735000\"     \"230786\"     \"-\"         \n",
       "[11] \"22188\"      \"-\"          \"-\"          \"64018\"      \"1027401\"   \n",
       "[16] \"-\"          \"-\"          \"36044\"      \"7585\"       \"25291\"     \n",
       "[21] \"\"          "
      ]
     },
     "metadata": {},
     "output_type": "display_data"
    }
   ],
   "source": [
    "df_sel$Reported.total.cells"
   ]
  },
  {
   "cell_type": "code",
   "execution_count": 63,
   "id": "f5ece3bf",
   "metadata": {},
   "outputs": [
    {
     "name": "stderr",
     "output_type": "stream",
     "text": [
      "Warning message in eval(expr, envir, enclos):\n",
      "“NAs introduced by coercion”\n",
      "Warning message in eval(expr, envir, enclos):\n",
      "“NAs introduced by coercion”\n"
     ]
    }
   ],
   "source": [
    "df_sel$Reported.unique.individuals = as.numeric(as.character(df_sel$Reported.unique.individuals))\n",
    "df_sel$Reported.total.cells = as.numeric(as.character(df_sel$Reported.total.cells))\n",
    "# df_sel = df_sel[!(is.na(df_sel$Reported.total.cells)),]\n",
    "df_sel = df_sel[!(is.na(df_sel$Reported.unique.individuals)),]\n",
    "df_sel$Date = as.Date(as.character(df_sel$Date), \"%d%m%Y\")"
   ]
  },
  {
   "cell_type": "code",
   "execution_count": 70,
   "id": "988db7d3",
   "metadata": {},
   "outputs": [
    {
     "data": {
      "text/html": [
       "<table class=\"dataframe\">\n",
       "<caption>A data.frame: 15 × 4</caption>\n",
       "<thead>\n",
       "\t<tr><th></th><th scope=col>Date</th><th scope=col>Reported.total.cells</th><th scope=col>Reported.unique.individuals</th><th scope=col>Shorthand</th></tr>\n",
       "\t<tr><th></th><th scope=col>&lt;date&gt;</th><th scope=col>&lt;dbl&gt;</th><th scope=col>&lt;dbl&gt;</th><th scope=col>&lt;chr&gt;</th></tr>\n",
       "</thead>\n",
       "<tbody>\n",
       "\t<tr><th scope=row>1</th><td>2022-06-08</td><td> 247520</td><td>183</td><td>Daniszewski et al CellGenomics</td></tr>\n",
       "\t<tr><th scope=row>2</th><td>2022-06-07</td><td>1300000</td><td>120</td><td>Oelen et al NatComm           </td></tr>\n",
       "\t<tr><th scope=row>3</th><td>2022-05-26</td><td> 655349</td><td>119</td><td>Soskic et al NatGenet         </td></tr>\n",
       "\t<tr><th scope=row>4</th><td>2022-05-11</td><td> 500000</td><td>259</td><td>Nathan et al Nature           </td></tr>\n",
       "\t<tr><th scope=row>6</th><td>2022-04-08</td><td>1270000</td><td>982</td><td>Yazar et al Science           </td></tr>\n",
       "\t<tr><th scope=row>7</th><td>2022-04-08</td><td>1260000</td><td>264</td><td>Perez et al Science           </td></tr>\n",
       "\t<tr><th scope=row>9</th><td>2022-02-25</td><td> 735000</td><td> 89</td><td>Schmiedel et al SciImmun      </td></tr>\n",
       "\t<tr><th scope=row>10</th><td>2022-01-21</td><td> 230786</td><td> 19</td><td>Elorbany et al PlosGenet      </td></tr>\n",
       "\t<tr><th scope=row>12</th><td>2021-09-01</td><td>  22188</td><td> 68</td><td>Kumasaka et al bioRxiv        </td></tr>\n",
       "\t<tr><th scope=row>15</th><td>2021-03-05</td><td>  64018</td><td> 79</td><td>Neavin et al GB               </td></tr>\n",
       "\t<tr><th scope=row>16</th><td>2021-03-04</td><td>1027401</td><td>215</td><td>Jerber et al NatGenet         </td></tr>\n",
       "\t<tr><th scope=row>19</th><td>2020-02-10</td><td>  36044</td><td>125</td><td>Cuomo et al NatComm           </td></tr>\n",
       "\t<tr><th scope=row>20</th><td>2019-04-19</td><td>   7585</td><td> 53</td><td>Sarkar et al PlosGenet        </td></tr>\n",
       "\t<tr><th scope=row>21</th><td>2018-04-02</td><td>  25291</td><td> 45</td><td>van der Wijst et al NatGenet  </td></tr>\n",
       "\t<tr><th scope=row>22</th><td>2017-12-11</td><td>     NA</td><td> 23</td><td>Kang et al NatBiotech         </td></tr>\n",
       "</tbody>\n",
       "</table>\n"
      ],
      "text/latex": [
       "A data.frame: 15 × 4\n",
       "\\begin{tabular}{r|llll}\n",
       "  & Date & Reported.total.cells & Reported.unique.individuals & Shorthand\\\\\n",
       "  & <date> & <dbl> & <dbl> & <chr>\\\\\n",
       "\\hline\n",
       "\t1 & 2022-06-08 &  247520 & 183 & Daniszewski et al CellGenomics\\\\\n",
       "\t2 & 2022-06-07 & 1300000 & 120 & Oelen et al NatComm           \\\\\n",
       "\t3 & 2022-05-26 &  655349 & 119 & Soskic et al NatGenet         \\\\\n",
       "\t4 & 2022-05-11 &  500000 & 259 & Nathan et al Nature           \\\\\n",
       "\t6 & 2022-04-08 & 1270000 & 982 & Yazar et al Science           \\\\\n",
       "\t7 & 2022-04-08 & 1260000 & 264 & Perez et al Science           \\\\\n",
       "\t9 & 2022-02-25 &  735000 &  89 & Schmiedel et al SciImmun      \\\\\n",
       "\t10 & 2022-01-21 &  230786 &  19 & Elorbany et al PlosGenet      \\\\\n",
       "\t12 & 2021-09-01 &   22188 &  68 & Kumasaka et al bioRxiv        \\\\\n",
       "\t15 & 2021-03-05 &   64018 &  79 & Neavin et al GB               \\\\\n",
       "\t16 & 2021-03-04 & 1027401 & 215 & Jerber et al NatGenet         \\\\\n",
       "\t19 & 2020-02-10 &   36044 & 125 & Cuomo et al NatComm           \\\\\n",
       "\t20 & 2019-04-19 &    7585 &  53 & Sarkar et al PlosGenet        \\\\\n",
       "\t21 & 2018-04-02 &   25291 &  45 & van der Wijst et al NatGenet  \\\\\n",
       "\t22 & 2017-12-11 &      NA &  23 & Kang et al NatBiotech         \\\\\n",
       "\\end{tabular}\n"
      ],
      "text/markdown": [
       "\n",
       "A data.frame: 15 × 4\n",
       "\n",
       "| <!--/--> | Date &lt;date&gt; | Reported.total.cells &lt;dbl&gt; | Reported.unique.individuals &lt;dbl&gt; | Shorthand &lt;chr&gt; |\n",
       "|---|---|---|---|---|\n",
       "| 1 | 2022-06-08 |  247520 | 183 | Daniszewski et al CellGenomics |\n",
       "| 2 | 2022-06-07 | 1300000 | 120 | Oelen et al NatComm            |\n",
       "| 3 | 2022-05-26 |  655349 | 119 | Soskic et al NatGenet          |\n",
       "| 4 | 2022-05-11 |  500000 | 259 | Nathan et al Nature            |\n",
       "| 6 | 2022-04-08 | 1270000 | 982 | Yazar et al Science            |\n",
       "| 7 | 2022-04-08 | 1260000 | 264 | Perez et al Science            |\n",
       "| 9 | 2022-02-25 |  735000 |  89 | Schmiedel et al SciImmun       |\n",
       "| 10 | 2022-01-21 |  230786 |  19 | Elorbany et al PlosGenet       |\n",
       "| 12 | 2021-09-01 |   22188 |  68 | Kumasaka et al bioRxiv         |\n",
       "| 15 | 2021-03-05 |   64018 |  79 | Neavin et al GB                |\n",
       "| 16 | 2021-03-04 | 1027401 | 215 | Jerber et al NatGenet          |\n",
       "| 19 | 2020-02-10 |   36044 | 125 | Cuomo et al NatComm            |\n",
       "| 20 | 2019-04-19 |    7585 |  53 | Sarkar et al PlosGenet         |\n",
       "| 21 | 2018-04-02 |   25291 |  45 | van der Wijst et al NatGenet   |\n",
       "| 22 | 2017-12-11 |      NA |  23 | Kang et al NatBiotech          |\n",
       "\n"
      ],
      "text/plain": [
       "   Date       Reported.total.cells Reported.unique.individuals\n",
       "1  2022-06-08  247520              183                        \n",
       "2  2022-06-07 1300000              120                        \n",
       "3  2022-05-26  655349              119                        \n",
       "4  2022-05-11  500000              259                        \n",
       "6  2022-04-08 1270000              982                        \n",
       "7  2022-04-08 1260000              264                        \n",
       "9  2022-02-25  735000               89                        \n",
       "10 2022-01-21  230786               19                        \n",
       "12 2021-09-01   22188               68                        \n",
       "15 2021-03-05   64018               79                        \n",
       "16 2021-03-04 1027401              215                        \n",
       "19 2020-02-10   36044              125                        \n",
       "20 2019-04-19    7585               53                        \n",
       "21 2018-04-02   25291               45                        \n",
       "22 2017-12-11      NA               23                        \n",
       "   Shorthand                     \n",
       "1  Daniszewski et al CellGenomics\n",
       "2  Oelen et al NatComm           \n",
       "3  Soskic et al NatGenet         \n",
       "4  Nathan et al Nature           \n",
       "6  Yazar et al Science           \n",
       "7  Perez et al Science           \n",
       "9  Schmiedel et al SciImmun      \n",
       "10 Elorbany et al PlosGenet      \n",
       "12 Kumasaka et al bioRxiv        \n",
       "15 Neavin et al GB               \n",
       "16 Jerber et al NatGenet         \n",
       "19 Cuomo et al NatComm           \n",
       "20 Sarkar et al PlosGenet        \n",
       "21 van der Wijst et al NatGenet  \n",
       "22 Kang et al NatBiotech         "
      ]
     },
     "metadata": {},
     "output_type": "display_data"
    }
   ],
   "source": [
    "df_sel"
   ]
  },
  {
   "cell_type": "code",
   "execution_count": 65,
   "id": "af22a02a",
   "metadata": {},
   "outputs": [
    {
     "data": {
      "image/png": "[encoded data removed]",
      "text/plain": [
       "plot without title"
      ]
     },
     "metadata": {
      "image/png": {
       "height": 360,
       "width": 720
      }
     },
     "output_type": "display_data"
    }
   ],
   "source": [
    "options(repr.plot.width=12, repr.plot.height=6)\n",
    "ggplot(df_sel, aes(x = Date, y = Reported.unique.individuals)) + \n",
    "    geom_point(shape = 21, fill = \"gray20\", size = 6, col = \"gray30\") +\n",
    "    scale_x_date(date_breaks=\"1 year\") +\n",
    "    theme_classic() +\n",
    "    theme(legend.position = \"none\", axis.text.x = element_text(angle = 45, hjust = 1, size = 11))"
   ]
  },
  {
   "cell_type": "code",
   "execution_count": 71,
   "id": "2d6cdd40",
   "metadata": {},
   "outputs": [
    {
     "name": "stderr",
     "output_type": "stream",
     "text": [
      "Warning message:\n",
      "“Removed 1 rows containing missing values (geom_point).”\n"
     ]
    },
    {
     "data": {
      "image/png": "[encoded data removed]",
      "text/plain": [
       "plot without title"
      ]
     },
     "metadata": {
      "image/png": {
       "height": 360,
       "width": 720
      }
     },
     "output_type": "display_data"
    }
   ],
   "source": [
    "ggplot(df_sel, aes(x = Date, y = log10(Reported.total.cells))) + \n",
    "    geom_point(shape = 21, fill = \"gray20\", size = 5, col = \"gray30\") +\n",
    "    scale_x_date(date_breaks=\"1 year\") +\n",
    "#     theme_bw() +\n",
    "    theme_classic() +\n",
    "    theme(legend.position = \"none\", axis.text.x = element_text(angle = 45, hjust = 1, size = 11))"
   ]
  },
  {
   "cell_type": "code",
   "execution_count": null,
   "id": "ccaf2237",
   "metadata": {},
   "outputs": [],
   "source": []
  }
 ],
 "metadata": {
  "kernelspec": {
   "display_name": "Single Cell Notebook (R 4.1.2)",
   "language": "R",
   "name": "singlecell"
  },
  "language_info": {
   "codemirror_mode": "r",
   "file_extension": ".r",
   "mimetype": "text/x-r-source",
   "name": "R",
   "pygments_lexer": "r",
   "version": "4.1.2"
  }
 },
 "nbformat": 4,
 "nbformat_minor": 5
}
