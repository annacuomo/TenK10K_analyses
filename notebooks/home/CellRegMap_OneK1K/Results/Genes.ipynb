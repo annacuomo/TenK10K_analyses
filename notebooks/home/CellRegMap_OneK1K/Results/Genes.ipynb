{
 "cells": [
  {
   "cell_type": "code",
   "execution_count": 442,
   "id": "64d43600",
   "metadata": {},
   "outputs": [],
   "source": [
    "library(qvalue)"
   ]
  },
  {
   "cell_type": "code",
   "execution_count": 2,
   "id": "c9c36bdf",
   "metadata": {},
   "outputs": [],
   "source": [
    "mydir = \"/share/ScratchGeneral/anncuo/OneK1K/\"\n",
    "input_files_dir = paste0(mydir,\"input_files_CellRegMap/\")"
   ]
  },
  {
   "cell_type": "code",
   "execution_count": null,
   "id": "c4c71da6",
   "metadata": {},
   "outputs": [],
   "source": []
  },
  {
   "cell_type": "code",
   "execution_count": 444,
   "id": "e31a2c0b",
   "metadata": {},
   "outputs": [],
   "source": [
    "# B cells GxC interaction betas"
   ]
  },
  {
   "cell_type": "code",
   "execution_count": 445,
   "id": "128d32ad",
   "metadata": {},
   "outputs": [
    {
     "data": {
      "text/html": [
       "314"
      ],
      "text/latex": [
       "314"
      ],
      "text/markdown": [
       "314"
      ],
      "text/plain": [
       "[1] 314"
      ]
     },
     "metadata": {},
     "output_type": "display_data"
    }
   ],
   "source": [
    "results_folder = paste0(mydir ,\"CRM_interaction/Bcells_noplasma_Bcell_eQTLs/betas/\")\n",
    "genes_done = gsub(\"_betaG.csv\",\"\",list.files(results_folder,\"_betaG.csv\"))\n",
    "length(genes_done)\n",
    "# genes_done"
   ]
  },
  {
   "cell_type": "code",
   "execution_count": 446,
   "id": "0a71d53f",
   "metadata": {},
   "outputs": [],
   "source": [
    "feature_variant_file = paste0(input_files_dir,\"fvf_Bcell_betas.csv\")\n",
    "fvf = as.data.frame(read.csv(feature_variant_file, row.names=1))"
   ]
  },
  {
   "cell_type": "code",
   "execution_count": 447,
   "id": "b8edd727",
   "metadata": {},
   "outputs": [
    {
     "data": {
      "text/html": [
       "312"
      ],
      "text/latex": [
       "312"
      ],
      "text/markdown": [
       "312"
      ],
      "text/plain": [
       "[1] 312"
      ]
     },
     "metadata": {},
     "output_type": "display_data"
    },
    {
     "data": {
      "text/html": [
       "1.00641025641026"
      ],
      "text/latex": [
       "1.00641025641026"
      ],
      "text/markdown": [
       "1.00641025641026"
      ],
      "text/plain": [
       "[1] 1.00641"
      ]
     },
     "metadata": {},
     "output_type": "display_data"
    }
   ],
   "source": [
    "length(unique(fvf$feature))\n",
    "length(genes_done)/length(unique(fvf$feature))"
   ]
  },
  {
   "cell_type": "code",
   "execution_count": 448,
   "id": "a388120d",
   "metadata": {},
   "outputs": [
    {
     "name": "stdout",
     "output_type": "stream",
     "text": [
      "[1] \"chr6\" \"34\"   \"34\"   \"100%\"\n",
      "[1] \"chr14\" \"12\"    \"12\"    \"100%\" \n",
      "[1] \"chr15\" \"9\"     \"9\"     \"100%\" \n",
      "[1] \"chr16\" \"13\"    \"13\"    \"100%\" \n",
      "[1] \"chr19\" \"24\"    \"24\"    \"100%\" \n"
     ]
    }
   ],
   "source": [
    "for (i in 1:22){\n",
    "    if (!(i %in% c(6,14,15,16,19))){next}\n",
    "    res = fvf[fvf$chrom == i,]\n",
    "    all_genes = unique(res$feature)\n",
    "    genes = all_genes[all_genes %in% genes_done]\n",
    "    print(c(paste0(\"chr\",i),\n",
    "            length(genes), \n",
    "            length(all_genes), \n",
    "            paste0(round(100*length(genes)/length(all_genes), digits=0),\"%\")))\n",
    "}"
   ]
  },
  {
   "cell_type": "code",
   "execution_count": 347,
   "id": "f1529c7e",
   "metadata": {},
   "outputs": [],
   "source": [
    "## done: chromosomes 1-5, 7-13, 17-18, 20-22\n",
    "## started: chromosomes 6, 14-16, 19"
   ]
  },
  {
   "cell_type": "code",
   "execution_count": null,
   "id": "b985e0a9",
   "metadata": {},
   "outputs": [],
   "source": []
  },
  {
   "cell_type": "code",
   "execution_count": 340,
   "id": "3597c7a8",
   "metadata": {},
   "outputs": [],
   "source": [
    "# Monocyte sex interaction betas"
   ]
  },
  {
   "cell_type": "code",
   "execution_count": 317,
   "id": "468035ff",
   "metadata": {},
   "outputs": [
    {
     "data": {
      "text/html": [
       "68"
      ],
      "text/latex": [
       "68"
      ],
      "text/markdown": [
       "68"
      ],
      "text/plain": [
       "[1] 68"
      ]
     },
     "metadata": {},
     "output_type": "display_data"
    },
    {
     "data": {
      "text/html": [
       "<style>\n",
       ".list-inline {list-style: none; margin:0; padding: 0}\n",
       ".list-inline>li {display: inline-block}\n",
       ".list-inline>li:not(:last-child)::after {content: \"\\00b7\"; padding: 0 .5ex}\n",
       "</style>\n",
       "<ol class=list-inline><li>'ANPEP'</li><li>'ASAH1'</li><li>'C1orf86'</li><li>'C2orf81'</li><li>'C3orf14'</li><li>'CALM2'</li><li>'CD300E'</li><li>'CD36'</li><li>'CD40'</li><li>'CDC42'</li><li>'CHP1'</li><li>'CITED2'</li><li>'CST3'</li><li>'CSTA'</li><li>'CTSC'</li><li>'DARS2'</li><li>'DDX5'</li><li>'DECR1'</li><li>'EPSTI1'</li><li>'FAM198B'</li><li>'FCGR2B'</li><li>'FIBCD1'</li><li>'FIS1'</li><li>'FTL'</li><li>'GBP2'</li><li>'H1F0'</li><li>'HFE'</li><li>'HIST1H2BD'</li><li>'HLA-A'</li><li>'HLA-DPA1'</li><li>'HMGN1'</li><li>'HSD17B11'</li><li>'ICAM3'</li><li>'L1TD1'</li><li>'LILRA5'</li><li>'LIPA'</li><li>'LMNA'</li><li>'LYRM4'</li><li>'MAP3K8'</li><li>'MMEL1'</li><li>'NDUFA12'</li><li>'NDUFS8'</li><li>'OSTF1'</li><li>'PCBP2'</li><li>'PPDPF'</li><li>'PRKCB'</li><li>'PSMB9'</li><li>'RGS1'</li><li>'RNF13'</li><li>'RNF144B'</li><li>'RP11-290F20.3'</li><li>'RP11-347P5.1'</li><li>'RP11-362F19.1'</li><li>'RPL12'</li><li>'RPL28'</li><li>'RPL36AL'</li><li>'RPS16'</li><li>'RPS7'</li><li>'RPS8'</li><li>'SEC11A'</li><li>'SERPINB1'</li><li>'SERPINB9'</li><li>'SETD9'</li><li>'SNHG8'</li><li>'TMEM176B'</li><li>'TMSB10'</li><li>'TOMM7'</li><li>'UBA52'</li></ol>\n"
      ],
      "text/latex": [
       "\\begin{enumerate*}\n",
       "\\item 'ANPEP'\n",
       "\\item 'ASAH1'\n",
       "\\item 'C1orf86'\n",
       "\\item 'C2orf81'\n",
       "\\item 'C3orf14'\n",
       "\\item 'CALM2'\n",
       "\\item 'CD300E'\n",
       "\\item 'CD36'\n",
       "\\item 'CD40'\n",
       "\\item 'CDC42'\n",
       "\\item 'CHP1'\n",
       "\\item 'CITED2'\n",
       "\\item 'CST3'\n",
       "\\item 'CSTA'\n",
       "\\item 'CTSC'\n",
       "\\item 'DARS2'\n",
       "\\item 'DDX5'\n",
       "\\item 'DECR1'\n",
       "\\item 'EPSTI1'\n",
       "\\item 'FAM198B'\n",
       "\\item 'FCGR2B'\n",
       "\\item 'FIBCD1'\n",
       "\\item 'FIS1'\n",
       "\\item 'FTL'\n",
       "\\item 'GBP2'\n",
       "\\item 'H1F0'\n",
       "\\item 'HFE'\n",
       "\\item 'HIST1H2BD'\n",
       "\\item 'HLA-A'\n",
       "\\item 'HLA-DPA1'\n",
       "\\item 'HMGN1'\n",
       "\\item 'HSD17B11'\n",
       "\\item 'ICAM3'\n",
       "\\item 'L1TD1'\n",
       "\\item 'LILRA5'\n",
       "\\item 'LIPA'\n",
       "\\item 'LMNA'\n",
       "\\item 'LYRM4'\n",
       "\\item 'MAP3K8'\n",
       "\\item 'MMEL1'\n",
       "\\item 'NDUFA12'\n",
       "\\item 'NDUFS8'\n",
       "\\item 'OSTF1'\n",
       "\\item 'PCBP2'\n",
       "\\item 'PPDPF'\n",
       "\\item 'PRKCB'\n",
       "\\item 'PSMB9'\n",
       "\\item 'RGS1'\n",
       "\\item 'RNF13'\n",
       "\\item 'RNF144B'\n",
       "\\item 'RP11-290F20.3'\n",
       "\\item 'RP11-347P5.1'\n",
       "\\item 'RP11-362F19.1'\n",
       "\\item 'RPL12'\n",
       "\\item 'RPL28'\n",
       "\\item 'RPL36AL'\n",
       "\\item 'RPS16'\n",
       "\\item 'RPS7'\n",
       "\\item 'RPS8'\n",
       "\\item 'SEC11A'\n",
       "\\item 'SERPINB1'\n",
       "\\item 'SERPINB9'\n",
       "\\item 'SETD9'\n",
       "\\item 'SNHG8'\n",
       "\\item 'TMEM176B'\n",
       "\\item 'TMSB10'\n",
       "\\item 'TOMM7'\n",
       "\\item 'UBA52'\n",
       "\\end{enumerate*}\n"
      ],
      "text/markdown": [
       "1. 'ANPEP'\n",
       "2. 'ASAH1'\n",
       "3. 'C1orf86'\n",
       "4. 'C2orf81'\n",
       "5. 'C3orf14'\n",
       "6. 'CALM2'\n",
       "7. 'CD300E'\n",
       "8. 'CD36'\n",
       "9. 'CD40'\n",
       "10. 'CDC42'\n",
       "11. 'CHP1'\n",
       "12. 'CITED2'\n",
       "13. 'CST3'\n",
       "14. 'CSTA'\n",
       "15. 'CTSC'\n",
       "16. 'DARS2'\n",
       "17. 'DDX5'\n",
       "18. 'DECR1'\n",
       "19. 'EPSTI1'\n",
       "20. 'FAM198B'\n",
       "21. 'FCGR2B'\n",
       "22. 'FIBCD1'\n",
       "23. 'FIS1'\n",
       "24. 'FTL'\n",
       "25. 'GBP2'\n",
       "26. 'H1F0'\n",
       "27. 'HFE'\n",
       "28. 'HIST1H2BD'\n",
       "29. 'HLA-A'\n",
       "30. 'HLA-DPA1'\n",
       "31. 'HMGN1'\n",
       "32. 'HSD17B11'\n",
       "33. 'ICAM3'\n",
       "34. 'L1TD1'\n",
       "35. 'LILRA5'\n",
       "36. 'LIPA'\n",
       "37. 'LMNA'\n",
       "38. 'LYRM4'\n",
       "39. 'MAP3K8'\n",
       "40. 'MMEL1'\n",
       "41. 'NDUFA12'\n",
       "42. 'NDUFS8'\n",
       "43. 'OSTF1'\n",
       "44. 'PCBP2'\n",
       "45. 'PPDPF'\n",
       "46. 'PRKCB'\n",
       "47. 'PSMB9'\n",
       "48. 'RGS1'\n",
       "49. 'RNF13'\n",
       "50. 'RNF144B'\n",
       "51. 'RP11-290F20.3'\n",
       "52. 'RP11-347P5.1'\n",
       "53. 'RP11-362F19.1'\n",
       "54. 'RPL12'\n",
       "55. 'RPL28'\n",
       "56. 'RPL36AL'\n",
       "57. 'RPS16'\n",
       "58. 'RPS7'\n",
       "59. 'RPS8'\n",
       "60. 'SEC11A'\n",
       "61. 'SERPINB1'\n",
       "62. 'SERPINB9'\n",
       "63. 'SETD9'\n",
       "64. 'SNHG8'\n",
       "65. 'TMEM176B'\n",
       "66. 'TMSB10'\n",
       "67. 'TOMM7'\n",
       "68. 'UBA52'\n",
       "\n",
       "\n"
      ],
      "text/plain": [
       " [1] \"ANPEP\"         \"ASAH1\"         \"C1orf86\"       \"C2orf81\"      \n",
       " [5] \"C3orf14\"       \"CALM2\"         \"CD300E\"        \"CD36\"         \n",
       " [9] \"CD40\"          \"CDC42\"         \"CHP1\"          \"CITED2\"       \n",
       "[13] \"CST3\"          \"CSTA\"          \"CTSC\"          \"DARS2\"        \n",
       "[17] \"DDX5\"          \"DECR1\"         \"EPSTI1\"        \"FAM198B\"      \n",
       "[21] \"FCGR2B\"        \"FIBCD1\"        \"FIS1\"          \"FTL\"          \n",
       "[25] \"GBP2\"          \"H1F0\"          \"HFE\"           \"HIST1H2BD\"    \n",
       "[29] \"HLA-A\"         \"HLA-DPA1\"      \"HMGN1\"         \"HSD17B11\"     \n",
       "[33] \"ICAM3\"         \"L1TD1\"         \"LILRA5\"        \"LIPA\"         \n",
       "[37] \"LMNA\"          \"LYRM4\"         \"MAP3K8\"        \"MMEL1\"        \n",
       "[41] \"NDUFA12\"       \"NDUFS8\"        \"OSTF1\"         \"PCBP2\"        \n",
       "[45] \"PPDPF\"         \"PRKCB\"         \"PSMB9\"         \"RGS1\"         \n",
       "[49] \"RNF13\"         \"RNF144B\"       \"RP11-290F20.3\" \"RP11-347P5.1\" \n",
       "[53] \"RP11-362F19.1\" \"RPL12\"         \"RPL28\"         \"RPL36AL\"      \n",
       "[57] \"RPS16\"         \"RPS7\"          \"RPS8\"          \"SEC11A\"       \n",
       "[61] \"SERPINB1\"      \"SERPINB9\"      \"SETD9\"         \"SNHG8\"        \n",
       "[65] \"TMEM176B\"      \"TMSB10\"        \"TOMM7\"         \"UBA52\"        "
      ]
     },
     "metadata": {},
     "output_type": "display_data"
    }
   ],
   "source": [
    "results_folder = paste0(mydir ,\"CRM_interaction/Monocytes_Mono_eQTLs/sex_interactions/betas/\")\n",
    "genes_done = gsub(\"_betaG.csv\",\"\",list.files(results_folder,\"_betaG.csv\"))\n",
    "length(genes_done)\n",
    "genes_done"
   ]
  },
  {
   "cell_type": "code",
   "execution_count": 283,
   "id": "e8237103",
   "metadata": {},
   "outputs": [],
   "source": [
    "feature_variant_file = paste0(input_files_dir,\"sex_beta_fvf_Monocyte.csv\")\n",
    "fvf = as.data.frame(read.csv(feature_variant_file, row.names=1))"
   ]
  },
  {
   "cell_type": "code",
   "execution_count": 284,
   "id": "d5d451e0",
   "metadata": {},
   "outputs": [
    {
     "data": {
      "text/html": [
       "68"
      ],
      "text/latex": [
       "68"
      ],
      "text/markdown": [
       "68"
      ],
      "text/plain": [
       "[1] 68"
      ]
     },
     "metadata": {},
     "output_type": "display_data"
    },
    {
     "data": {
      "text/html": [
       "1"
      ],
      "text/latex": [
       "1"
      ],
      "text/markdown": [
       "1"
      ],
      "text/plain": [
       "[1] 1"
      ]
     },
     "metadata": {},
     "output_type": "display_data"
    }
   ],
   "source": [
    "length(unique(fvf$feature))\n",
    "length(genes_done)/length(unique(fvf$feature))"
   ]
  },
  {
   "cell_type": "code",
   "execution_count": 285,
   "id": "e71cd43e",
   "metadata": {},
   "outputs": [
    {
     "name": "stdout",
     "output_type": "stream",
     "text": [
      "[1] \"chr20\" \"4\"     \"4\"     \"100%\" \n"
     ]
    }
   ],
   "source": [
    "for (i in 1:22){\n",
    "    if (!(i %in% c(20))){next}\n",
    "    res = fvf[fvf$chrom == i,]\n",
    "    all_genes = unique(res$feature)\n",
    "    genes = all_genes[all_genes %in% genes_done]\n",
    "    print(c(paste0(\"chr\",i),\n",
    "            length(genes), \n",
    "            length(all_genes), \n",
    "            paste0(round(100*length(genes)/length(all_genes), digits=0),\"%\")))\n",
    "}"
   ]
  },
  {
   "cell_type": "code",
   "execution_count": null,
   "id": "845994fb",
   "metadata": {},
   "outputs": [],
   "source": []
  },
  {
   "cell_type": "code",
   "execution_count": null,
   "id": "30425bf1",
   "metadata": {},
   "outputs": [],
   "source": []
  },
  {
   "cell_type": "code",
   "execution_count": null,
   "id": "2f212b18",
   "metadata": {},
   "outputs": [],
   "source": []
  },
  {
   "cell_type": "code",
   "execution_count": null,
   "id": "5905fbc0",
   "metadata": {},
   "outputs": [],
   "source": [
    "# B cells GxC interactions"
   ]
  },
  {
   "cell_type": "code",
   "execution_count": 87,
   "id": "836d5453",
   "metadata": {},
   "outputs": [
    {
     "data": {
      "text/html": [
       "1466"
      ],
      "text/latex": [
       "1466"
      ],
      "text/markdown": [
       "1466"
      ],
      "text/plain": [
       "[1] 1466"
      ]
     },
     "metadata": {},
     "output_type": "display_data"
    }
   ],
   "source": [
    "results_folder = paste0(mydir ,\"CRM_interaction/Bcells_Bcell_eQTLs/\")\n",
    "genes_done = gsub(\".tsv\",\"\",list.files(results_folder,\"tsv\"))\n",
    "length(genes_done)\n",
    "# genes_done"
   ]
  },
  {
   "cell_type": "code",
   "execution_count": 88,
   "id": "d513617a",
   "metadata": {},
   "outputs": [],
   "source": [
    "feature_variant_file = paste0(input_files_dir,\"fvf_Bcell_eqtls.csv\")\n",
    "fvf = as.data.frame(read.csv(feature_variant_file, row.names=1))"
   ]
  },
  {
   "cell_type": "code",
   "execution_count": 90,
   "id": "2270c4e3",
   "metadata": {},
   "outputs": [
    {
     "data": {
      "text/html": [
       "1466"
      ],
      "text/latex": [
       "1466"
      ],
      "text/markdown": [
       "1466"
      ],
      "text/plain": [
       "[1] 1466"
      ]
     },
     "metadata": {},
     "output_type": "display_data"
    },
    {
     "data": {
      "text/html": [
       "1"
      ],
      "text/latex": [
       "1"
      ],
      "text/markdown": [
       "1"
      ],
      "text/plain": [
       "[1] 1"
      ]
     },
     "metadata": {},
     "output_type": "display_data"
    }
   ],
   "source": [
    "length(unique(fvf$feature))\n",
    "length(genes_done)/length(unique(fvf$feature))"
   ]
  },
  {
   "cell_type": "code",
   "execution_count": 91,
   "id": "f850a95a",
   "metadata": {},
   "outputs": [
    {
     "data": {
      "text/html": [
       "'/share/ScratchGeneral/anncuo/OneK1K/input_files_CellRegMap/fvf_Bcell_eqtls.csv'"
      ],
      "text/latex": [
       "'/share/ScratchGeneral/anncuo/OneK1K/input\\_files\\_CellRegMap/fvf\\_Bcell\\_eqtls.csv'"
      ],
      "text/markdown": [
       "'/share/ScratchGeneral/anncuo/OneK1K/input_files_CellRegMap/fvf_Bcell_eqtls.csv'"
      ],
      "text/plain": [
       "[1] \"/share/ScratchGeneral/anncuo/OneK1K/input_files_CellRegMap/fvf_Bcell_eqtls.csv\""
      ]
     },
     "metadata": {},
     "output_type": "display_data"
    }
   ],
   "source": [
    "feature_variant_file"
   ]
  },
  {
   "cell_type": "code",
   "execution_count": 92,
   "id": "4c69b843",
   "metadata": {
    "scrolled": true
   },
   "outputs": [],
   "source": [
    "# head(fvf, 100)"
   ]
  },
  {
   "cell_type": "code",
   "execution_count": 93,
   "id": "705a9162",
   "metadata": {},
   "outputs": [
    {
     "name": "stdout",
     "output_type": "stream",
     "text": [
      "[1] \"chr1\" \"129\"  \"129\"  \"100%\"\n",
      "[1] \"chr2\" \"101\"  \"101\"  \"100%\"\n",
      "[1] \"chr3\" \"75\"   \"75\"   \"100%\"\n",
      "[1] \"chr4\" \"45\"   \"45\"   \"100%\"\n",
      "[1] \"chr5\" \"61\"   \"61\"   \"100%\"\n",
      "[1] \"chr6\" \"241\"  \"241\"  \"100%\"\n",
      "[1] \"chr7\" \"83\"   \"83\"   \"100%\"\n",
      "[1] \"chr8\" \"52\"   \"52\"   \"100%\"\n",
      "[1] \"chr9\" \"43\"   \"43\"   \"100%\"\n",
      "[1] \"chr10\" \"39\"    \"39\"    \"100%\" \n",
      "[1] \"chr11\" \"90\"    \"90\"    \"100%\" \n",
      "[1] \"chr12\" \"71\"    \"71\"    \"100%\" \n",
      "[1] \"chr13\" \"17\"    \"17\"    \"100%\" \n",
      "[1] \"chr14\" \"33\"    \"33\"    \"100%\" \n",
      "[1] \"chr15\" \"35\"    \"35\"    \"100%\" \n",
      "[1] \"chr16\" \"56\"    \"56\"    \"100%\" \n",
      "[1] \"chr17\" \"88\"    \"88\"    \"100%\" \n",
      "[1] \"chr18\" \"15\"    \"15\"    \"100%\" \n",
      "[1] \"chr19\" \"110\"   \"110\"   \"100%\" \n",
      "[1] \"chr20\" \"28\"    \"28\"    \"100%\" \n",
      "[1] \"chr21\" \"21\"    \"21\"    \"100%\" \n",
      "[1] \"chr22\" \"33\"    \"33\"    \"100%\" \n"
     ]
    }
   ],
   "source": [
    "for (i in 1:22){\n",
    "#     if (i %in% c(1,2,3,4,5,8,9,10,13,14,15,16,18,20,21,22)){next}\n",
    "    res = fvf[fvf$chrom == i,]\n",
    "    all_genes = unique(res$feature)\n",
    "    genes = all_genes[all_genes %in% genes_done]\n",
    "    print(c(paste0(\"chr\",i),\n",
    "            length(genes), \n",
    "            length(all_genes), \n",
    "            paste0(round(100*length(genes)/length(all_genes), digits=0),\"%\")))\n",
    "}"
   ]
  },
  {
   "cell_type": "code",
   "execution_count": 94,
   "id": "22467411",
   "metadata": {},
   "outputs": [],
   "source": [
    "## done: chromosomes 1-16, 18-22\n",
    "## not finished: chromosomes 17"
   ]
  },
  {
   "cell_type": "code",
   "execution_count": 95,
   "id": "5d7bac49",
   "metadata": {},
   "outputs": [
    {
     "data": {
      "text/html": [],
      "text/latex": [],
      "text/markdown": [],
      "text/plain": [
       "character(0)"
      ]
     },
     "metadata": {},
     "output_type": "display_data"
    }
   ],
   "source": [
    "res = fvf[fvf$chrom == \"6\",]\n",
    "all_genes = unique(res$feature)\n",
    "all_genes[!(all_genes %in% genes_done)]"
   ]
  },
  {
   "cell_type": "code",
   "execution_count": 96,
   "id": "70391a9f",
   "metadata": {},
   "outputs": [
    {
     "data": {
      "text/html": [],
      "text/latex": [],
      "text/markdown": [],
      "text/plain": [
       "character(0)"
      ]
     },
     "metadata": {},
     "output_type": "display_data"
    }
   ],
   "source": [
    "res = fvf[fvf$chrom == \"5\",]\n",
    "all_genes = unique(res$feature)\n",
    "all_genes[!(all_genes %in% genes_done)]"
   ]
  },
  {
   "cell_type": "code",
   "execution_count": null,
   "id": "e3dc6484",
   "metadata": {},
   "outputs": [],
   "source": []
  },
  {
   "cell_type": "code",
   "execution_count": null,
   "id": "47717639",
   "metadata": {},
   "outputs": [],
   "source": []
  },
  {
   "cell_type": "code",
   "execution_count": null,
   "id": "5bfecbde",
   "metadata": {},
   "outputs": [],
   "source": []
  },
  {
   "cell_type": "code",
   "execution_count": null,
   "id": "f4ecaa12",
   "metadata": {},
   "outputs": [],
   "source": [
    "# Monocyte sex interaction "
   ]
  },
  {
   "cell_type": "code",
   "execution_count": 97,
   "id": "518dd872",
   "metadata": {},
   "outputs": [
    {
     "data": {
      "text/html": [
       "905"
      ],
      "text/latex": [
       "905"
      ],
      "text/markdown": [
       "905"
      ],
      "text/plain": [
       "[1] 905"
      ]
     },
     "metadata": {},
     "output_type": "display_data"
    }
   ],
   "source": [
    "results_folder = paste0(mydir ,\"CRM_interaction/Monocytes_Mono_eQTLs/sex_interactions/\")\n",
    "genes_done = gsub(\".tsv\",\"\",list.files(results_folder,\"tsv\"))\n",
    "length(genes_done)\n",
    "# genes_done"
   ]
  },
  {
   "cell_type": "code",
   "execution_count": 1051,
   "id": "7a8f788b",
   "metadata": {},
   "outputs": [],
   "source": [
    "# genes_done"
   ]
  },
  {
   "cell_type": "code",
   "execution_count": 1052,
   "id": "c03eb456",
   "metadata": {},
   "outputs": [],
   "source": [
    "feature_variant_file = paste0(input_files_dir,\"fvf_Monocyte_eqtls.csv\")\n",
    "fvf = as.data.frame(read.csv(feature_variant_file, row.names=1))"
   ]
  },
  {
   "cell_type": "code",
   "execution_count": 1054,
   "id": "27243410",
   "metadata": {},
   "outputs": [
    {
     "data": {
      "text/html": [
       "905"
      ],
      "text/latex": [
       "905"
      ],
      "text/markdown": [
       "905"
      ],
      "text/plain": [
       "[1] 905"
      ]
     },
     "metadata": {},
     "output_type": "display_data"
    },
    {
     "data": {
      "text/html": [
       "1"
      ],
      "text/latex": [
       "1"
      ],
      "text/markdown": [
       "1"
      ],
      "text/plain": [
       "[1] 1"
      ]
     },
     "metadata": {},
     "output_type": "display_data"
    }
   ],
   "source": [
    "length(unique(fvf$feature))\n",
    "length(genes_done)/length(unique(fvf$feature))"
   ]
  },
  {
   "cell_type": "code",
   "execution_count": 780,
   "id": "61716d09",
   "metadata": {},
   "outputs": [
    {
     "name": "stdout",
     "output_type": "stream",
     "text": [
      "[1] \"chr1\" \"86\"   \"86\"   \"100%\"\n",
      "[1] \"chr2\" \"37\"   \"37\"   \"100%\"\n",
      "[1] \"chr3\" \"28\"   \"28\"   \"100%\"\n",
      "[1] \"chr4\" \"31\"   \"31\"   \"100%\"\n",
      "[1] \"chr5\" \"26\"   \"26\"   \"100%\"\n",
      "[1] \"chr6\" \"218\"  \"218\"  \"100%\"\n",
      "[1] \"chr7\" \"39\"   \"39\"   \"100%\"\n",
      "[1] \"chr8\" \"25\"   \"25\"   \"100%\"\n",
      "[1] \"chr9\" \"27\"   \"27\"   \"100%\"\n",
      "[1] \"chr10\" \"30\"    \"30\"    \"100%\" \n",
      "[1] \"chr11\" \"40\"    \"40\"    \"100%\" \n",
      "[1] \"chr12\" \"45\"    \"45\"    \"100%\" \n",
      "[1] \"chr13\" \"7\"     \"7\"     \"100%\" \n",
      "[1] \"chr14\" \"24\"    \"24\"    \"100%\" \n",
      "[1] \"chr15\" \"11\"    \"11\"    \"100%\" \n",
      "[1] \"chr16\" \"28\"    \"28\"    \"100%\" \n",
      "[1] \"chr17\" \"55\"    \"55\"    \"100%\" \n",
      "[1] \"chr18\" \"12\"    \"12\"    \"100%\" \n",
      "[1] \"chr19\" \"57\"    \"57\"    \"100%\" \n",
      "[1] \"chr20\" \"21\"    \"21\"    \"100%\" \n",
      "[1] \"chr21\" \"29\"    \"29\"    \"100%\" \n",
      "[1] \"chr22\" \"29\"    \"29\"    \"100%\" \n"
     ]
    }
   ],
   "source": [
    "for (i in 1:22){\n",
    "#     if (!(i %in% c(14,15,16,18))){next}\n",
    "#     if (i %in% c(1,2,3,4,5,6,7,8,9,11,12,13,17,19,20,21,22)){next}\n",
    "    res = fvf[fvf$chrom == i,]\n",
    "    all_genes = unique(res$feature)\n",
    "    genes = all_genes[all_genes %in% genes_done]\n",
    "    print(c(paste0(\"chr\",i),\n",
    "            length(genes), \n",
    "            length(all_genes), \n",
    "            paste0(round(100*length(genes)/length(all_genes), digits=0),\"%\")))\n",
    "}"
   ]
  },
  {
   "cell_type": "code",
   "execution_count": 655,
   "id": "f6fe5444",
   "metadata": {},
   "outputs": [],
   "source": [
    "## done: chromosomes 1-13, 17, 19-22\n",
    "## started at least: chromosomes 14-16, 18"
   ]
  },
  {
   "cell_type": "code",
   "execution_count": null,
   "id": "9efdb725",
   "metadata": {},
   "outputs": [],
   "source": []
  },
  {
   "cell_type": "code",
   "execution_count": 145,
   "id": "c42e0a25",
   "metadata": {},
   "outputs": [],
   "source": [
    "### Summarised results"
   ]
  },
  {
   "cell_type": "code",
   "execution_count": 361,
   "id": "ccd9f650",
   "metadata": {},
   "outputs": [
    {
     "data": {
      "text/html": [
       "1466"
      ],
      "text/latex": [
       "1466"
      ],
      "text/markdown": [
       "1466"
      ],
      "text/plain": [
       "[1] 1466"
      ]
     },
     "metadata": {},
     "output_type": "display_data"
    },
    {
     "data": {
      "text/html": [
       "<table class=\"dataframe\">\n",
       "<caption>A data.frame: 6 × 5</caption>\n",
       "<thead>\n",
       "\t<tr><th></th><th scope=col>gene</th><th scope=col>n_snps</th><th scope=col>snp_id</th><th scope=col>pv_raw</th><th scope=col>pv_Bonf</th></tr>\n",
       "\t<tr><th></th><th scope=col>&lt;chr&gt;</th><th scope=col>&lt;int&gt;</th><th scope=col>&lt;chr&gt;</th><th scope=col>&lt;dbl&gt;</th><th scope=col>&lt;dbl&gt;</th></tr>\n",
       "</thead>\n",
       "<tbody>\n",
       "\t<tr><th scope=row>0</th><td>VPREB3      </td><td>1</td><td>22:24093998</td><td>4.927083e-02</td><td>4.927083e-02</td></tr>\n",
       "\t<tr><th scope=row>1</th><td>ARFGAP3     </td><td>1</td><td>22:43028803</td><td>1.504560e-02</td><td>1.504560e-02</td></tr>\n",
       "\t<tr><th scope=row>2</th><td>RPS8        </td><td>1</td><td>1:45241285 </td><td>2.315208e-02</td><td>2.315208e-02</td></tr>\n",
       "\t<tr><th scope=row>3</th><td>SMDT1       </td><td>2</td><td>22:42468535</td><td>9.429772e-08</td><td>1.885954e-07</td></tr>\n",
       "\t<tr><th scope=row>4</th><td>RP4-539M6.22</td><td>1</td><td>22:31025552</td><td>2.832393e-02</td><td>2.832393e-02</td></tr>\n",
       "\t<tr><th scope=row>5</th><td>CD96        </td><td>2</td><td>3:111253069</td><td>1.009690e-07</td><td>2.019380e-07</td></tr>\n",
       "</tbody>\n",
       "</table>\n"
      ],
      "text/latex": [
       "A data.frame: 6 × 5\n",
       "\\begin{tabular}{r|lllll}\n",
       "  & gene & n\\_snps & snp\\_id & pv\\_raw & pv\\_Bonf\\\\\n",
       "  & <chr> & <int> & <chr> & <dbl> & <dbl>\\\\\n",
       "\\hline\n",
       "\t0 & VPREB3       & 1 & 22:24093998 & 4.927083e-02 & 4.927083e-02\\\\\n",
       "\t1 & ARFGAP3      & 1 & 22:43028803 & 1.504560e-02 & 1.504560e-02\\\\\n",
       "\t2 & RPS8         & 1 & 1:45241285  & 2.315208e-02 & 2.315208e-02\\\\\n",
       "\t3 & SMDT1        & 2 & 22:42468535 & 9.429772e-08 & 1.885954e-07\\\\\n",
       "\t4 & RP4-539M6.22 & 1 & 22:31025552 & 2.832393e-02 & 2.832393e-02\\\\\n",
       "\t5 & CD96         & 2 & 3:111253069 & 1.009690e-07 & 2.019380e-07\\\\\n",
       "\\end{tabular}\n"
      ],
      "text/markdown": [
       "\n",
       "A data.frame: 6 × 5\n",
       "\n",
       "| <!--/--> | gene &lt;chr&gt; | n_snps &lt;int&gt; | snp_id &lt;chr&gt; | pv_raw &lt;dbl&gt; | pv_Bonf &lt;dbl&gt; |\n",
       "|---|---|---|---|---|---|\n",
       "| 0 | VPREB3       | 1 | 22:24093998 | 4.927083e-02 | 4.927083e-02 |\n",
       "| 1 | ARFGAP3      | 1 | 22:43028803 | 1.504560e-02 | 1.504560e-02 |\n",
       "| 2 | RPS8         | 1 | 1:45241285  | 2.315208e-02 | 2.315208e-02 |\n",
       "| 3 | SMDT1        | 2 | 22:42468535 | 9.429772e-08 | 1.885954e-07 |\n",
       "| 4 | RP4-539M6.22 | 1 | 22:31025552 | 2.832393e-02 | 2.832393e-02 |\n",
       "| 5 | CD96         | 2 | 3:111253069 | 1.009690e-07 | 2.019380e-07 |\n",
       "\n"
      ],
      "text/plain": [
       "  gene         n_snps snp_id      pv_raw       pv_Bonf     \n",
       "0 VPREB3       1      22:24093998 4.927083e-02 4.927083e-02\n",
       "1 ARFGAP3      1      22:43028803 1.504560e-02 1.504560e-02\n",
       "2 RPS8         1      1:45241285  2.315208e-02 2.315208e-02\n",
       "3 SMDT1        2      22:42468535 9.429772e-08 1.885954e-07\n",
       "4 RP4-539M6.22 1      22:31025552 2.832393e-02 2.832393e-02\n",
       "5 CD96         2      3:111253069 1.009690e-07 2.019380e-07"
      ]
     },
     "metadata": {},
     "output_type": "display_data"
    }
   ],
   "source": [
    "results_folder = paste0(mydir ,\"CRM_interaction/Bcells_Bcell_eQTLs/\")\n",
    "df = read.csv(paste0(results_folder,\"summary.csv\"), row.names=1)\n",
    "nrow(df)\n",
    "head(df)"
   ]
  },
  {
   "cell_type": "code",
   "execution_count": 362,
   "id": "f08cb8b9",
   "metadata": {},
   "outputs": [
    {
     "data": {
      "image/png": "[encoded data removed]",
      "text/plain": [
       "Plot with title “Histogram of df$pv_Bonf”"
      ]
     },
     "metadata": {
      "image/png": {
       "height": 420,
       "width": 420
      }
     },
     "output_type": "display_data"
    }
   ],
   "source": [
    "hist(df$pv_Bonf)"
   ]
  },
  {
   "cell_type": "code",
   "execution_count": 363,
   "id": "eabfcf22",
   "metadata": {},
   "outputs": [
    {
     "data": {
      "text/html": [
       "<style>\n",
       ".list-inline {list-style: none; margin:0; padding: 0}\n",
       ".list-inline>li {display: inline-block}\n",
       ".list-inline>li:not(:last-child)::after {content: \"\\00b7\"; padding: 0 .5ex}\n",
       "</style>\n",
       "<ol class=list-inline><li>312</li><li>1466</li><li>0.212824010914052</li></ol>\n"
      ],
      "text/latex": [
       "\\begin{enumerate*}\n",
       "\\item 312\n",
       "\\item 1466\n",
       "\\item 0.212824010914052\n",
       "\\end{enumerate*}\n"
      ],
      "text/markdown": [
       "1. 312\n",
       "2. 1466\n",
       "3. 0.212824010914052\n",
       "\n",
       "\n"
      ],
      "text/plain": [
       "[1]  312.000000 1466.000000    0.212824"
      ]
     },
     "metadata": {},
     "output_type": "display_data"
    }
   ],
   "source": [
    "df$qv = qvalue(df$pv_raw)$qvalues\n",
    "c(nrow(df[df$qv<0.05,]), nrow(df), nrow(df[df$qv<0.05,])/nrow(df))"
   ]
  },
  {
   "cell_type": "code",
   "execution_count": 364,
   "id": "65a8567e",
   "metadata": {},
   "outputs": [],
   "source": [
    "beta_fvf = df[df$qv<0.05,]\n",
    "beta_fvf$feature = beta_fvf$gene\n",
    "# beta_fvf$chrom = gsub(\"-.*\",\"\",gsub(\"\\\\:\",\"-\",beta_fvf$snp_id))\n",
    "beta_fvf$chrom = gsub(\"\\\\:.*\",\"\",beta_fvf$snp_id)"
   ]
  },
  {
   "cell_type": "code",
   "execution_count": 365,
   "id": "acc19d2b",
   "metadata": {},
   "outputs": [
    {
     "data": {
      "text/html": [
       "312"
      ],
      "text/latex": [
       "312"
      ],
      "text/markdown": [
       "312"
      ],
      "text/plain": [
       "[1] 312"
      ]
     },
     "metadata": {},
     "output_type": "display_data"
    },
    {
     "data": {
      "text/html": [
       "<table class=\"dataframe\">\n",
       "<caption>A data.frame: 6 × 8</caption>\n",
       "<thead>\n",
       "\t<tr><th></th><th scope=col>gene</th><th scope=col>n_snps</th><th scope=col>snp_id</th><th scope=col>pv_raw</th><th scope=col>pv_Bonf</th><th scope=col>qv</th><th scope=col>feature</th><th scope=col>chrom</th></tr>\n",
       "\t<tr><th></th><th scope=col>&lt;chr&gt;</th><th scope=col>&lt;int&gt;</th><th scope=col>&lt;chr&gt;</th><th scope=col>&lt;dbl&gt;</th><th scope=col>&lt;dbl&gt;</th><th scope=col>&lt;dbl&gt;</th><th scope=col>&lt;chr&gt;</th><th scope=col>&lt;chr&gt;</th></tr>\n",
       "</thead>\n",
       "<tbody>\n",
       "\t<tr><th scope=row>1</th><td>ARFGAP3     </td><td>1</td><td>22:43028803</td><td>1.504560e-02</td><td>1.504560e-02</td><td>3.051288e-02</td><td>ARFGAP3     </td><td>22</td></tr>\n",
       "\t<tr><th scope=row>2</th><td>RPS8        </td><td>1</td><td>1:45241285 </td><td>2.315208e-02</td><td>2.315208e-02</td><td>4.279052e-02</td><td>RPS8        </td><td>1 </td></tr>\n",
       "\t<tr><th scope=row>3</th><td>SMDT1       </td><td>2</td><td>22:42468535</td><td>9.429772e-08</td><td>1.885954e-07</td><td>1.404235e-06</td><td>SMDT1       </td><td>22</td></tr>\n",
       "\t<tr><th scope=row>4</th><td>RP4-539M6.22</td><td>1</td><td>22:31025552</td><td>2.832393e-02</td><td>2.832393e-02</td><td>4.872116e-02</td><td>RP4-539M6.22</td><td>22</td></tr>\n",
       "\t<tr><th scope=row>5</th><td>CD96        </td><td>2</td><td>3:111253069</td><td>1.009690e-07</td><td>2.019380e-07</td><td>1.461814e-06</td><td>CD96        </td><td>3 </td></tr>\n",
       "\t<tr><th scope=row>6</th><td>FAM118A     </td><td>2</td><td>22:45808977</td><td>7.769390e-05</td><td>1.553878e-04</td><td>4.999293e-04</td><td>FAM118A     </td><td>22</td></tr>\n",
       "</tbody>\n",
       "</table>\n"
      ],
      "text/latex": [
       "A data.frame: 6 × 8\n",
       "\\begin{tabular}{r|llllllll}\n",
       "  & gene & n\\_snps & snp\\_id & pv\\_raw & pv\\_Bonf & qv & feature & chrom\\\\\n",
       "  & <chr> & <int> & <chr> & <dbl> & <dbl> & <dbl> & <chr> & <chr>\\\\\n",
       "\\hline\n",
       "\t1 & ARFGAP3      & 1 & 22:43028803 & 1.504560e-02 & 1.504560e-02 & 3.051288e-02 & ARFGAP3      & 22\\\\\n",
       "\t2 & RPS8         & 1 & 1:45241285  & 2.315208e-02 & 2.315208e-02 & 4.279052e-02 & RPS8         & 1 \\\\\n",
       "\t3 & SMDT1        & 2 & 22:42468535 & 9.429772e-08 & 1.885954e-07 & 1.404235e-06 & SMDT1        & 22\\\\\n",
       "\t4 & RP4-539M6.22 & 1 & 22:31025552 & 2.832393e-02 & 2.832393e-02 & 4.872116e-02 & RP4-539M6.22 & 22\\\\\n",
       "\t5 & CD96         & 2 & 3:111253069 & 1.009690e-07 & 2.019380e-07 & 1.461814e-06 & CD96         & 3 \\\\\n",
       "\t6 & FAM118A      & 2 & 22:45808977 & 7.769390e-05 & 1.553878e-04 & 4.999293e-04 & FAM118A      & 22\\\\\n",
       "\\end{tabular}\n"
      ],
      "text/markdown": [
       "\n",
       "A data.frame: 6 × 8\n",
       "\n",
       "| <!--/--> | gene &lt;chr&gt; | n_snps &lt;int&gt; | snp_id &lt;chr&gt; | pv_raw &lt;dbl&gt; | pv_Bonf &lt;dbl&gt; | qv &lt;dbl&gt; | feature &lt;chr&gt; | chrom &lt;chr&gt; |\n",
       "|---|---|---|---|---|---|---|---|---|\n",
       "| 1 | ARFGAP3      | 1 | 22:43028803 | 1.504560e-02 | 1.504560e-02 | 3.051288e-02 | ARFGAP3      | 22 |\n",
       "| 2 | RPS8         | 1 | 1:45241285  | 2.315208e-02 | 2.315208e-02 | 4.279052e-02 | RPS8         | 1  |\n",
       "| 3 | SMDT1        | 2 | 22:42468535 | 9.429772e-08 | 1.885954e-07 | 1.404235e-06 | SMDT1        | 22 |\n",
       "| 4 | RP4-539M6.22 | 1 | 22:31025552 | 2.832393e-02 | 2.832393e-02 | 4.872116e-02 | RP4-539M6.22 | 22 |\n",
       "| 5 | CD96         | 2 | 3:111253069 | 1.009690e-07 | 2.019380e-07 | 1.461814e-06 | CD96         | 3  |\n",
       "| 6 | FAM118A      | 2 | 22:45808977 | 7.769390e-05 | 1.553878e-04 | 4.999293e-04 | FAM118A      | 22 |\n",
       "\n"
      ],
      "text/plain": [
       "  gene         n_snps snp_id      pv_raw       pv_Bonf      qv          \n",
       "1 ARFGAP3      1      22:43028803 1.504560e-02 1.504560e-02 3.051288e-02\n",
       "2 RPS8         1      1:45241285  2.315208e-02 2.315208e-02 4.279052e-02\n",
       "3 SMDT1        2      22:42468535 9.429772e-08 1.885954e-07 1.404235e-06\n",
       "4 RP4-539M6.22 1      22:31025552 2.832393e-02 2.832393e-02 4.872116e-02\n",
       "5 CD96         2      3:111253069 1.009690e-07 2.019380e-07 1.461814e-06\n",
       "6 FAM118A      2      22:45808977 7.769390e-05 1.553878e-04 4.999293e-04\n",
       "  feature      chrom\n",
       "1 ARFGAP3      22   \n",
       "2 RPS8         1    \n",
       "3 SMDT1        22   \n",
       "4 RP4-539M6.22 22   \n",
       "5 CD96         3    \n",
       "6 FAM118A      22   "
      ]
     },
     "metadata": {},
     "output_type": "display_data"
    }
   ],
   "source": [
    "nrow(beta_fvf)\n",
    "head(beta_fvf)"
   ]
  },
  {
   "cell_type": "code",
   "execution_count": 366,
   "id": "0cb94eed",
   "metadata": {},
   "outputs": [],
   "source": [
    "Bcell_beta_file = paste0(input_files_dir,\"fvf_Bcell_betas.csv\")\n",
    "write.csv(beta_fvf, Bcell_beta_file)"
   ]
  },
  {
   "cell_type": "code",
   "execution_count": null,
   "id": "84c22023",
   "metadata": {},
   "outputs": [],
   "source": []
  },
  {
   "cell_type": "code",
   "execution_count": null,
   "id": "830b6bf1",
   "metadata": {},
   "outputs": [],
   "source": []
  },
  {
   "cell_type": "code",
   "execution_count": null,
   "id": "937f0ce6",
   "metadata": {},
   "outputs": [],
   "source": []
  },
  {
   "cell_type": "code",
   "execution_count": 512,
   "id": "f493e23d",
   "metadata": {},
   "outputs": [],
   "source": [
    "dynamic_B_genes_CRM = unique(df[df$qv<0.05,\"gene\"])"
   ]
  },
  {
   "cell_type": "code",
   "execution_count": 513,
   "id": "a6fc0a59",
   "metadata": {},
   "outputs": [
    {
     "data": {
      "text/html": [
       "<table class=\"dataframe\">\n",
       "<caption>A data.table: 2 × 11</caption>\n",
       "<thead>\n",
       "\t<tr><th></th><th scope=col>GeneID</th><th scope=col>snpid</th><th scope=col>anova</th><th scope=col>p.value</th><th scope=col>fdr</th><th scope=col>anova_sq</th><th scope=col>p.value_sq</th><th scope=col>fdr_sq</th><th scope=col>id</th><th scope=col>singular</th><th scope=col>singular_sq</th></tr>\n",
       "\t<tr><th></th><th scope=col>&lt;chr&gt;</th><th scope=col>&lt;chr&gt;</th><th scope=col>&lt;list&gt;</th><th scope=col>&lt;dbl&gt;</th><th scope=col>&lt;dbl&gt;</th><th scope=col>&lt;list&gt;</th><th scope=col>&lt;dbl&gt;</th><th scope=col>&lt;dbl&gt;</th><th scope=col>&lt;chr&gt;</th><th scope=col>&lt;lgl&gt;</th><th scope=col>&lt;lgl&gt;</th></tr>\n",
       "</thead>\n",
       "<tbody>\n",
       "\t<tr><th scope=row>1</th><td>PPA1</td><td>10:71963608_A</td><td>15.000000, 16.000000, -7871.558581, -7870.257037, -7771.993991, -7764.054808, 3950.779291, 3951.128519, -7901.558581, -7902.257037, NA, 0.698456, NA, 1.000000, NA, 0.403303</td><td>0.4033030</td><td>0.7946625</td><td>16.0000000, 18.0000000, -8275.2382811, -8272.0825183, -8169.0360516, -8152.6050101, 4153.6191406, 4154.0412591, -8307.2382811, -8308.0825183, NA, 0.8442371, NA, 2.0000000, NA, 0.6556563</td><td>0.6556563</td><td>1.0000000</td><td>10:71963608_A-PPA1</td><td>FALSE</td><td>FALSE</td></tr>\n",
       "\t<tr><th scope=row>2</th><td>GDI2</td><td>10:5855403_C </td><td>15.0000000, 16.0000000, -5414.1029960, -5413.4603514, -5314.5384059, -5307.2581219, 2722.0514980, 2722.7301757, -5444.1029960, -5445.4603514, NA, 1.3573554, NA, 1.0000000, NA, 0.2439963</td><td>0.2439963</td><td>0.6506389</td><td>16.0000000, 18.0000000, -5869.3416840, -5867.0102079, -5763.1394545, -5747.5326997, 2950.6708420, 2951.5051039, -5901.3416840, -5903.0102079, NA, 1.6685239, NA, 2.0000000, NA, 0.4341948</td><td>0.4341948</td><td>0.8882569</td><td>10:5855403_C-GDI2 </td><td>FALSE</td><td>FALSE</td></tr>\n",
       "</tbody>\n",
       "</table>\n"
      ],
      "text/latex": [
       "A data.table: 2 × 11\n",
       "\\begin{tabular}{r|lllllllllll}\n",
       "  & GeneID & snpid & anova & p.value & fdr & anova\\_sq & p.value\\_sq & fdr\\_sq & id & singular & singular\\_sq\\\\\n",
       "  & <chr> & <chr> & <list> & <dbl> & <dbl> & <list> & <dbl> & <dbl> & <chr> & <lgl> & <lgl>\\\\\n",
       "\\hline\n",
       "\t1 & PPA1 & 10:71963608\\_A & 15.000000, 16.000000, -7871.558581, -7870.257037, -7771.993991, -7764.054808, 3950.779291, 3951.128519, -7901.558581, -7902.257037, NA, 0.698456, NA, 1.000000, NA, 0.403303 & 0.4033030 & 0.7946625 & 16.0000000, 18.0000000, -8275.2382811, -8272.0825183, -8169.0360516, -8152.6050101, 4153.6191406, 4154.0412591, -8307.2382811, -8308.0825183, NA, 0.8442371, NA, 2.0000000, NA, 0.6556563 & 0.6556563 & 1.0000000 & 10:71963608\\_A-PPA1 & FALSE & FALSE\\\\\n",
       "\t2 & GDI2 & 10:5855403\\_C  & 15.0000000, 16.0000000, -5414.1029960, -5413.4603514, -5314.5384059, -5307.2581219, 2722.0514980, 2722.7301757, -5444.1029960, -5445.4603514, NA, 1.3573554, NA, 1.0000000, NA, 0.2439963 & 0.2439963 & 0.6506389 & 16.0000000, 18.0000000, -5869.3416840, -5867.0102079, -5763.1394545, -5747.5326997, 2950.6708420, 2951.5051039, -5901.3416840, -5903.0102079, NA, 1.6685239, NA, 2.0000000, NA, 0.4341948 & 0.4341948 & 0.8882569 & 10:5855403\\_C-GDI2  & FALSE & FALSE\\\\\n",
       "\\end{tabular}\n"
      ],
      "text/markdown": [
       "\n",
       "A data.table: 2 × 11\n",
       "\n",
       "| <!--/--> | GeneID &lt;chr&gt; | snpid &lt;chr&gt; | anova &lt;list&gt; | p.value &lt;dbl&gt; | fdr &lt;dbl&gt; | anova_sq &lt;list&gt; | p.value_sq &lt;dbl&gt; | fdr_sq &lt;dbl&gt; | id &lt;chr&gt; | singular &lt;lgl&gt; | singular_sq &lt;lgl&gt; |\n",
       "|---|---|---|---|---|---|---|---|---|---|---|---|\n",
       "| 1 | PPA1 | 10:71963608_A | 15.000000, 16.000000, -7871.558581, -7870.257037, -7771.993991, -7764.054808, 3950.779291, 3951.128519, -7901.558581, -7902.257037, NA, 0.698456, NA, 1.000000, NA, 0.403303 | 0.4033030 | 0.7946625 | 16.0000000, 18.0000000, -8275.2382811, -8272.0825183, -8169.0360516, -8152.6050101, 4153.6191406, 4154.0412591, -8307.2382811, -8308.0825183, NA, 0.8442371, NA, 2.0000000, NA, 0.6556563 | 0.6556563 | 1.0000000 | 10:71963608_A-PPA1 | FALSE | FALSE |\n",
       "| 2 | GDI2 | 10:5855403_C  | 15.0000000, 16.0000000, -5414.1029960, -5413.4603514, -5314.5384059, -5307.2581219, 2722.0514980, 2722.7301757, -5444.1029960, -5445.4603514, NA, 1.3573554, NA, 1.0000000, NA, 0.2439963 | 0.2439963 | 0.6506389 | 16.0000000, 18.0000000, -5869.3416840, -5867.0102079, -5763.1394545, -5747.5326997, 2950.6708420, 2951.5051039, -5901.3416840, -5903.0102079, NA, 1.6685239, NA, 2.0000000, NA, 0.4341948 | 0.4341948 | 0.8882569 | 10:5855403_C-GDI2  | FALSE | FALSE |\n",
       "\n"
      ],
      "text/plain": [
       "  GeneID snpid        \n",
       "1 PPA1   10:71963608_A\n",
       "2 GDI2   10:5855403_C \n",
       "  anova                                                                                                                                                                                    \n",
       "1 15.000000, 16.000000, -7871.558581, -7870.257037, -7771.993991, -7764.054808, 3950.779291, 3951.128519, -7901.558581, -7902.257037, NA, 0.698456, NA, 1.000000, NA, 0.403303             \n",
       "2 15.0000000, 16.0000000, -5414.1029960, -5413.4603514, -5314.5384059, -5307.2581219, 2722.0514980, 2722.7301757, -5444.1029960, -5445.4603514, NA, 1.3573554, NA, 1.0000000, NA, 0.2439963\n",
       "  p.value   fdr      \n",
       "1 0.4033030 0.7946625\n",
       "2 0.2439963 0.6506389\n",
       "  anova_sq                                                                                                                                                                                 \n",
       "1 16.0000000, 18.0000000, -8275.2382811, -8272.0825183, -8169.0360516, -8152.6050101, 4153.6191406, 4154.0412591, -8307.2382811, -8308.0825183, NA, 0.8442371, NA, 2.0000000, NA, 0.6556563\n",
       "2 16.0000000, 18.0000000, -5869.3416840, -5867.0102079, -5763.1394545, -5747.5326997, 2950.6708420, 2951.5051039, -5901.3416840, -5903.0102079, NA, 1.6685239, NA, 2.0000000, NA, 0.4341948\n",
       "  p.value_sq fdr_sq    id                 singular singular_sq\n",
       "1 0.6556563  1.0000000 10:71963608_A-PPA1 FALSE    FALSE      \n",
       "2 0.4341948  0.8882569 10:5855403_C-GDI2  FALSE    FALSE      "
      ]
     },
     "metadata": {},
     "output_type": "display_data"
    }
   ],
   "source": [
    "# dynamic effects\n",
    "dynamic_file = \"/share/ScratchGeneral/anncuo/OneK1K/dyn_eqtl_linear-sq_data.RDS\"\n",
    "dt = readRDS(dynamic_file)\n",
    "head(dt,2)"
   ]
  },
  {
   "cell_type": "code",
   "execution_count": 514,
   "id": "346faa7f",
   "metadata": {},
   "outputs": [],
   "source": [
    "dynamic_B_genes_original = unique(dt[dt$fdr_sq<0.05 | dt$fdr<0.05,]$GeneID)"
   ]
  },
  {
   "cell_type": "code",
   "execution_count": 515,
   "id": "f60e33fc",
   "metadata": {},
   "outputs": [
    {
     "data": {
      "text/html": [
       "316"
      ],
      "text/latex": [
       "316"
      ],
      "text/markdown": [
       "316"
      ],
      "text/plain": [
       "[1] 316"
      ]
     },
     "metadata": {},
     "output_type": "display_data"
    },
    {
     "data": {
      "text/html": [
       "218"
      ],
      "text/latex": [
       "218"
      ],
      "text/markdown": [
       "218"
      ],
      "text/plain": [
       "[1] 218"
      ]
     },
     "metadata": {},
     "output_type": "display_data"
    },
    {
     "data": {
      "text/html": [
       "103"
      ],
      "text/latex": [
       "103"
      ],
      "text/markdown": [
       "103"
      ],
      "text/plain": [
       "[1] 103"
      ]
     },
     "metadata": {},
     "output_type": "display_data"
    }
   ],
   "source": [
    "length(dynamic_B_genes_CRM)\n",
    "length(dynamic_B_genes_original)\n",
    "length(dynamic_B_genes_original[dynamic_B_genes_original %in% dynamic_B_genes_CRM])"
   ]
  },
  {
   "cell_type": "code",
   "execution_count": 516,
   "id": "39fc3fd6",
   "metadata": {},
   "outputs": [],
   "source": [
    "replicated_genes = dynamic_B_genes_original[dynamic_B_genes_original %in% dynamic_B_genes_CRM]\n",
    "not_replicated_genes = dynamic_B_genes_original[!(dynamic_B_genes_original %in% dynamic_B_genes_CRM)]"
   ]
  },
  {
   "cell_type": "code",
   "execution_count": 517,
   "id": "221a83a7",
   "metadata": {},
   "outputs": [
    {
     "data": {
      "text/html": [
       "<style>\n",
       ".list-inline {list-style: none; margin:0; padding: 0}\n",
       ".list-inline>li {display: inline-block}\n",
       ".list-inline>li:not(:last-child)::after {content: \"\\00b7\"; padding: 0 .5ex}\n",
       "</style>\n",
       "<ol class=list-inline><li>'TIMM10'</li><li>'C11orf24'</li><li>'UCP2'</li><li>'CORO1B'</li><li>'RPS26'</li><li>'TAPBPL'</li><li>'IRAK3'</li><li>'CD9'</li><li>'RNASE6'</li><li>'TCL1A'</li><li>'TCL1B'</li><li>'DHRS4'</li><li>'NME4'</li><li>'DBNDD1'</li><li>'IL4R'</li><li>'EIF5A'</li><li>'ORMDL3'</li><li>'SCIMP'</li><li>'CENPV'</li><li>'CCL4'</li><li>'CYB5A'</li><li>'TUBB6'</li><li>'MED16'</li><li>'CAPN12'</li><li>'FXYD1'</li><li>'FCRL5'</li><li>'CHI3L2'</li><li>'TSTD1'</li><li>'FAM177B'</li><li>'FCRL3'</li><li>'GALNT2'</li><li>'RGS1'</li><li>'SELL'</li><li>'MARC2'</li><li>'LAX1'</li><li>'MYBL2'</li><li>'CPNE1'</li><li>'BCAS4'</li><li>'CRNKL1'</li><li>'YBEY'</li><li>'MRPS6'</li><li>'FAM118A'</li><li>'LARGE'</li><li>'SYNGR1'</li><li>'TYMP'</li><li>'REL'</li><li>'MYO7B'</li><li>'ANXA4'</li><li>'LIMS2'</li><li>'CAPG'</li><li>'CD96'</li><li>'LIMD1'</li><li>'USP53'</li><li>'TIFA'</li><li>'UGT2B17'</li><li>'GPM6A'</li><li>'ERAP2'</li><li>'HIGD2A'</li><li>'UBE2J1'</li><li>'RNGTT'</li><li>'ABRACL'</li><li>'TOMM7'</li><li>'CNTNAP2'</li><li>'CCZ1B'</li><li>'ZFAND2A'</li><li>'BLK'</li><li>'MTDH'</li><li>'LCN8'</li><li>'PTPLAD2'</li><li>'NUDT2'</li><li>'TMEM2'</li><li>'JUP'</li><li>'MGMT'</li><li>'C10orf128'</li><li>'ENTPD1'</li><li>'RNH1'</li><li>'TRAPPC4'</li><li>'EFCAB4A'</li><li>'TESC'</li><li>'CLECL1'</li><li>'LGMN'</li><li>'NOMO1'</li><li>'NT5C3B'</li><li>'CFD'</li><li>'KLK1'</li><li>'MPV17L2'</li><li>'FCGR2A'</li><li>'S100A11'</li><li>'EDEM3'</li><li>'ZNF593'</li><li>'CHMP4B'</li><li>'COL18A1'</li><li>'SMDT1'</li><li>'TSPO'</li><li>'MCM5'</li><li>'SELM'</li><li>'YWHAH'</li><li>'EML6'</li><li>'PLEK'</li><li>'RASSF6'</li><li>'ANXA6'</li><li>'LRWD1'</li><li>'RPL14'</li></ol>\n"
      ],
      "text/latex": [
       "\\begin{enumerate*}\n",
       "\\item 'TIMM10'\n",
       "\\item 'C11orf24'\n",
       "\\item 'UCP2'\n",
       "\\item 'CORO1B'\n",
       "\\item 'RPS26'\n",
       "\\item 'TAPBPL'\n",
       "\\item 'IRAK3'\n",
       "\\item 'CD9'\n",
       "\\item 'RNASE6'\n",
       "\\item 'TCL1A'\n",
       "\\item 'TCL1B'\n",
       "\\item 'DHRS4'\n",
       "\\item 'NME4'\n",
       "\\item 'DBNDD1'\n",
       "\\item 'IL4R'\n",
       "\\item 'EIF5A'\n",
       "\\item 'ORMDL3'\n",
       "\\item 'SCIMP'\n",
       "\\item 'CENPV'\n",
       "\\item 'CCL4'\n",
       "\\item 'CYB5A'\n",
       "\\item 'TUBB6'\n",
       "\\item 'MED16'\n",
       "\\item 'CAPN12'\n",
       "\\item 'FXYD1'\n",
       "\\item 'FCRL5'\n",
       "\\item 'CHI3L2'\n",
       "\\item 'TSTD1'\n",
       "\\item 'FAM177B'\n",
       "\\item 'FCRL3'\n",
       "\\item 'GALNT2'\n",
       "\\item 'RGS1'\n",
       "\\item 'SELL'\n",
       "\\item 'MARC2'\n",
       "\\item 'LAX1'\n",
       "\\item 'MYBL2'\n",
       "\\item 'CPNE1'\n",
       "\\item 'BCAS4'\n",
       "\\item 'CRNKL1'\n",
       "\\item 'YBEY'\n",
       "\\item 'MRPS6'\n",
       "\\item 'FAM118A'\n",
       "\\item 'LARGE'\n",
       "\\item 'SYNGR1'\n",
       "\\item 'TYMP'\n",
       "\\item 'REL'\n",
       "\\item 'MYO7B'\n",
       "\\item 'ANXA4'\n",
       "\\item 'LIMS2'\n",
       "\\item 'CAPG'\n",
       "\\item 'CD96'\n",
       "\\item 'LIMD1'\n",
       "\\item 'USP53'\n",
       "\\item 'TIFA'\n",
       "\\item 'UGT2B17'\n",
       "\\item 'GPM6A'\n",
       "\\item 'ERAP2'\n",
       "\\item 'HIGD2A'\n",
       "\\item 'UBE2J1'\n",
       "\\item 'RNGTT'\n",
       "\\item 'ABRACL'\n",
       "\\item 'TOMM7'\n",
       "\\item 'CNTNAP2'\n",
       "\\item 'CCZ1B'\n",
       "\\item 'ZFAND2A'\n",
       "\\item 'BLK'\n",
       "\\item 'MTDH'\n",
       "\\item 'LCN8'\n",
       "\\item 'PTPLAD2'\n",
       "\\item 'NUDT2'\n",
       "\\item 'TMEM2'\n",
       "\\item 'JUP'\n",
       "\\item 'MGMT'\n",
       "\\item 'C10orf128'\n",
       "\\item 'ENTPD1'\n",
       "\\item 'RNH1'\n",
       "\\item 'TRAPPC4'\n",
       "\\item 'EFCAB4A'\n",
       "\\item 'TESC'\n",
       "\\item 'CLECL1'\n",
       "\\item 'LGMN'\n",
       "\\item 'NOMO1'\n",
       "\\item 'NT5C3B'\n",
       "\\item 'CFD'\n",
       "\\item 'KLK1'\n",
       "\\item 'MPV17L2'\n",
       "\\item 'FCGR2A'\n",
       "\\item 'S100A11'\n",
       "\\item 'EDEM3'\n",
       "\\item 'ZNF593'\n",
       "\\item 'CHMP4B'\n",
       "\\item 'COL18A1'\n",
       "\\item 'SMDT1'\n",
       "\\item 'TSPO'\n",
       "\\item 'MCM5'\n",
       "\\item 'SELM'\n",
       "\\item 'YWHAH'\n",
       "\\item 'EML6'\n",
       "\\item 'PLEK'\n",
       "\\item 'RASSF6'\n",
       "\\item 'ANXA6'\n",
       "\\item 'LRWD1'\n",
       "\\item 'RPL14'\n",
       "\\end{enumerate*}\n"
      ],
      "text/markdown": [
       "1. 'TIMM10'\n",
       "2. 'C11orf24'\n",
       "3. 'UCP2'\n",
       "4. 'CORO1B'\n",
       "5. 'RPS26'\n",
       "6. 'TAPBPL'\n",
       "7. 'IRAK3'\n",
       "8. 'CD9'\n",
       "9. 'RNASE6'\n",
       "10. 'TCL1A'\n",
       "11. 'TCL1B'\n",
       "12. 'DHRS4'\n",
       "13. 'NME4'\n",
       "14. 'DBNDD1'\n",
       "15. 'IL4R'\n",
       "16. 'EIF5A'\n",
       "17. 'ORMDL3'\n",
       "18. 'SCIMP'\n",
       "19. 'CENPV'\n",
       "20. 'CCL4'\n",
       "21. 'CYB5A'\n",
       "22. 'TUBB6'\n",
       "23. 'MED16'\n",
       "24. 'CAPN12'\n",
       "25. 'FXYD1'\n",
       "26. 'FCRL5'\n",
       "27. 'CHI3L2'\n",
       "28. 'TSTD1'\n",
       "29. 'FAM177B'\n",
       "30. 'FCRL3'\n",
       "31. 'GALNT2'\n",
       "32. 'RGS1'\n",
       "33. 'SELL'\n",
       "34. 'MARC2'\n",
       "35. 'LAX1'\n",
       "36. 'MYBL2'\n",
       "37. 'CPNE1'\n",
       "38. 'BCAS4'\n",
       "39. 'CRNKL1'\n",
       "40. 'YBEY'\n",
       "41. 'MRPS6'\n",
       "42. 'FAM118A'\n",
       "43. 'LARGE'\n",
       "44. 'SYNGR1'\n",
       "45. 'TYMP'\n",
       "46. 'REL'\n",
       "47. 'MYO7B'\n",
       "48. 'ANXA4'\n",
       "49. 'LIMS2'\n",
       "50. 'CAPG'\n",
       "51. 'CD96'\n",
       "52. 'LIMD1'\n",
       "53. 'USP53'\n",
       "54. 'TIFA'\n",
       "55. 'UGT2B17'\n",
       "56. 'GPM6A'\n",
       "57. 'ERAP2'\n",
       "58. 'HIGD2A'\n",
       "59. 'UBE2J1'\n",
       "60. 'RNGTT'\n",
       "61. 'ABRACL'\n",
       "62. 'TOMM7'\n",
       "63. 'CNTNAP2'\n",
       "64. 'CCZ1B'\n",
       "65. 'ZFAND2A'\n",
       "66. 'BLK'\n",
       "67. 'MTDH'\n",
       "68. 'LCN8'\n",
       "69. 'PTPLAD2'\n",
       "70. 'NUDT2'\n",
       "71. 'TMEM2'\n",
       "72. 'JUP'\n",
       "73. 'MGMT'\n",
       "74. 'C10orf128'\n",
       "75. 'ENTPD1'\n",
       "76. 'RNH1'\n",
       "77. 'TRAPPC4'\n",
       "78. 'EFCAB4A'\n",
       "79. 'TESC'\n",
       "80. 'CLECL1'\n",
       "81. 'LGMN'\n",
       "82. 'NOMO1'\n",
       "83. 'NT5C3B'\n",
       "84. 'CFD'\n",
       "85. 'KLK1'\n",
       "86. 'MPV17L2'\n",
       "87. 'FCGR2A'\n",
       "88. 'S100A11'\n",
       "89. 'EDEM3'\n",
       "90. 'ZNF593'\n",
       "91. 'CHMP4B'\n",
       "92. 'COL18A1'\n",
       "93. 'SMDT1'\n",
       "94. 'TSPO'\n",
       "95. 'MCM5'\n",
       "96. 'SELM'\n",
       "97. 'YWHAH'\n",
       "98. 'EML6'\n",
       "99. 'PLEK'\n",
       "100. 'RASSF6'\n",
       "101. 'ANXA6'\n",
       "102. 'LRWD1'\n",
       "103. 'RPL14'\n",
       "\n",
       "\n"
      ],
      "text/plain": [
       "  [1] \"TIMM10\"    \"C11orf24\"  \"UCP2\"      \"CORO1B\"    \"RPS26\"     \"TAPBPL\"   \n",
       "  [7] \"IRAK3\"     \"CD9\"       \"RNASE6\"    \"TCL1A\"     \"TCL1B\"     \"DHRS4\"    \n",
       " [13] \"NME4\"      \"DBNDD1\"    \"IL4R\"      \"EIF5A\"     \"ORMDL3\"    \"SCIMP\"    \n",
       " [19] \"CENPV\"     \"CCL4\"      \"CYB5A\"     \"TUBB6\"     \"MED16\"     \"CAPN12\"   \n",
       " [25] \"FXYD1\"     \"FCRL5\"     \"CHI3L2\"    \"TSTD1\"     \"FAM177B\"   \"FCRL3\"    \n",
       " [31] \"GALNT2\"    \"RGS1\"      \"SELL\"      \"MARC2\"     \"LAX1\"      \"MYBL2\"    \n",
       " [37] \"CPNE1\"     \"BCAS4\"     \"CRNKL1\"    \"YBEY\"      \"MRPS6\"     \"FAM118A\"  \n",
       " [43] \"LARGE\"     \"SYNGR1\"    \"TYMP\"      \"REL\"       \"MYO7B\"     \"ANXA4\"    \n",
       " [49] \"LIMS2\"     \"CAPG\"      \"CD96\"      \"LIMD1\"     \"USP53\"     \"TIFA\"     \n",
       " [55] \"UGT2B17\"   \"GPM6A\"     \"ERAP2\"     \"HIGD2A\"    \"UBE2J1\"    \"RNGTT\"    \n",
       " [61] \"ABRACL\"    \"TOMM7\"     \"CNTNAP2\"   \"CCZ1B\"     \"ZFAND2A\"   \"BLK\"      \n",
       " [67] \"MTDH\"      \"LCN8\"      \"PTPLAD2\"   \"NUDT2\"     \"TMEM2\"     \"JUP\"      \n",
       " [73] \"MGMT\"      \"C10orf128\" \"ENTPD1\"    \"RNH1\"      \"TRAPPC4\"   \"EFCAB4A\"  \n",
       " [79] \"TESC\"      \"CLECL1\"    \"LGMN\"      \"NOMO1\"     \"NT5C3B\"    \"CFD\"      \n",
       " [85] \"KLK1\"      \"MPV17L2\"   \"FCGR2A\"    \"S100A11\"   \"EDEM3\"     \"ZNF593\"   \n",
       " [91] \"CHMP4B\"    \"COL18A1\"   \"SMDT1\"     \"TSPO\"      \"MCM5\"      \"SELM\"     \n",
       " [97] \"YWHAH\"     \"EML6\"      \"PLEK\"      \"RASSF6\"    \"ANXA6\"     \"LRWD1\"    \n",
       "[103] \"RPL14\"    "
      ]
     },
     "metadata": {},
     "output_type": "display_data"
    }
   ],
   "source": [
    "replicated_genes"
   ]
  },
  {
   "cell_type": "code",
   "execution_count": 518,
   "id": "30dd9d32",
   "metadata": {},
   "outputs": [
    {
     "data": {
      "text/html": [
       "<style>\n",
       ".list-inline {list-style: none; margin:0; padding: 0}\n",
       ".list-inline>li {display: inline-block}\n",
       ".list-inline>li:not(:last-child)::after {content: \"\\00b7\"; padding: 0 .5ex}\n",
       "</style>\n",
       "<ol class=list-inline><li>'FAM111A'</li><li>'TMEM123'</li><li>'KIAA1377'</li><li>'SDHAF2'</li><li>'CLEC2D'</li><li>'LTA4H'</li><li>'TMEM120B'</li><li>'GIT2'</li><li>'APOLD1'</li><li>'DYRK2'</li><li>'SLC25A29'</li><li>'CIB1'</li><li>'RMI2'</li><li>'ADPRM'</li><li>'SCPEP1'</li><li>'PNRC2'</li><li>'RCSD1'</li><li>'KLHL21'</li><li>'SULF2'</li><li>'MAVS'</li><li>'PIGP'</li><li>'SLC37A1'</li><li>'PRMT2'</li><li>'IGLL5'</li><li>'GUCD1'</li><li>'RPS7'</li><li>'GPR155'</li><li>'KIAA1841'</li><li>'SMC6'</li><li>'MZT2B'</li><li>'PRKRA'</li><li>'DNASE1L3'</li><li>'KIAA1407'</li><li>'CMTM6'</li><li>'STIM2'</li><li>'BTNL9'</li><li>'FAM26F'</li><li>'DSP'</li><li>'MDGA1'</li><li>'BTN3A2'</li><li>'NQO2'</li><li>'TSTD3'</li><li>'NCOA7'</li><li>'NUDT3'</li><li>'CCDC126'</li><li>'SRPK2'</li><li>'STAG3'</li><li>'ZC2HC1A'</li><li>'AC023590.1'</li><li>'EPHX2'</li><li>'TBCA'</li><li>'SMAP1'</li><li>'LEMD2'</li><li>'SNHG7'</li><li>'RPS9'</li><li>'MTG1'</li><li>'C10orf95'</li><li>'ASCL2'</li><li>'FAR1'</li><li>'SLC22A18'</li><li>'CTSC'</li><li>'RPS13'</li><li>'ENDOD1'</li><li>'YARS2'</li><li>'ETV6'</li><li>'PSTPIP1'</li><li>'FES'</li><li>'GNPTG'</li><li>'GTF3C1'</li><li>'PSMD7'</li><li>'MINK1'</li><li>'C17orf80'</li><li>'RSAD1'</li><li>'SCRN2'</li><li>'CNDP2'</li><li>'CEP192'</li><li>'LILRB1'</li><li>'LILRB2'</li><li>'SYMPK'</li><li>'WIZ'</li><li>'RGS16'</li><li>'FCRLA'</li><li>'RPA2'</li><li>'STMN3'</li><li>'COL9A3'</li><li>'AC079767.4'</li><li>'BIN1'</li><li>'BOLA3'</li><li>'KLHL18'</li><li>'TCTEX1D2'</li><li>'TFRC'</li><li>'PDE12'</li><li>'SFMBT1'</li><li>'SLC25A26'</li><li>'ZNF860'</li><li>'INTS12'</li><li>'ACOX3'</li><li>'RPS23'</li><li>'CENPK'</li><li>'ADAMTS6'</li><li>'SYNPO'</li><li>'CAMK4'</li><li>'PSMG4'</li><li>'ADAT2'</li><li>'CDYL'</li><li>'MLLT4'</li><li>'ZP3'</li><li>'LINC00996'</li><li>'ALG2'</li><li>'MAN1B1'</li><li>'MED27'</li><li>'IKBKAP'</li><li>'UQCRH'</li><li>'HSPA1B'</li><li>'NCR3'</li></ol>\n"
      ],
      "text/latex": [
       "\\begin{enumerate*}\n",
       "\\item 'FAM111A'\n",
       "\\item 'TMEM123'\n",
       "\\item 'KIAA1377'\n",
       "\\item 'SDHAF2'\n",
       "\\item 'CLEC2D'\n",
       "\\item 'LTA4H'\n",
       "\\item 'TMEM120B'\n",
       "\\item 'GIT2'\n",
       "\\item 'APOLD1'\n",
       "\\item 'DYRK2'\n",
       "\\item 'SLC25A29'\n",
       "\\item 'CIB1'\n",
       "\\item 'RMI2'\n",
       "\\item 'ADPRM'\n",
       "\\item 'SCPEP1'\n",
       "\\item 'PNRC2'\n",
       "\\item 'RCSD1'\n",
       "\\item 'KLHL21'\n",
       "\\item 'SULF2'\n",
       "\\item 'MAVS'\n",
       "\\item 'PIGP'\n",
       "\\item 'SLC37A1'\n",
       "\\item 'PRMT2'\n",
       "\\item 'IGLL5'\n",
       "\\item 'GUCD1'\n",
       "\\item 'RPS7'\n",
       "\\item 'GPR155'\n",
       "\\item 'KIAA1841'\n",
       "\\item 'SMC6'\n",
       "\\item 'MZT2B'\n",
       "\\item 'PRKRA'\n",
       "\\item 'DNASE1L3'\n",
       "\\item 'KIAA1407'\n",
       "\\item 'CMTM6'\n",
       "\\item 'STIM2'\n",
       "\\item 'BTNL9'\n",
       "\\item 'FAM26F'\n",
       "\\item 'DSP'\n",
       "\\item 'MDGA1'\n",
       "\\item 'BTN3A2'\n",
       "\\item 'NQO2'\n",
       "\\item 'TSTD3'\n",
       "\\item 'NCOA7'\n",
       "\\item 'NUDT3'\n",
       "\\item 'CCDC126'\n",
       "\\item 'SRPK2'\n",
       "\\item 'STAG3'\n",
       "\\item 'ZC2HC1A'\n",
       "\\item 'AC023590.1'\n",
       "\\item 'EPHX2'\n",
       "\\item 'TBCA'\n",
       "\\item 'SMAP1'\n",
       "\\item 'LEMD2'\n",
       "\\item 'SNHG7'\n",
       "\\item 'RPS9'\n",
       "\\item 'MTG1'\n",
       "\\item 'C10orf95'\n",
       "\\item 'ASCL2'\n",
       "\\item 'FAR1'\n",
       "\\item 'SLC22A18'\n",
       "\\item 'CTSC'\n",
       "\\item 'RPS13'\n",
       "\\item 'ENDOD1'\n",
       "\\item 'YARS2'\n",
       "\\item 'ETV6'\n",
       "\\item 'PSTPIP1'\n",
       "\\item 'FES'\n",
       "\\item 'GNPTG'\n",
       "\\item 'GTF3C1'\n",
       "\\item 'PSMD7'\n",
       "\\item 'MINK1'\n",
       "\\item 'C17orf80'\n",
       "\\item 'RSAD1'\n",
       "\\item 'SCRN2'\n",
       "\\item 'CNDP2'\n",
       "\\item 'CEP192'\n",
       "\\item 'LILRB1'\n",
       "\\item 'LILRB2'\n",
       "\\item 'SYMPK'\n",
       "\\item 'WIZ'\n",
       "\\item 'RGS16'\n",
       "\\item 'FCRLA'\n",
       "\\item 'RPA2'\n",
       "\\item 'STMN3'\n",
       "\\item 'COL9A3'\n",
       "\\item 'AC079767.4'\n",
       "\\item 'BIN1'\n",
       "\\item 'BOLA3'\n",
       "\\item 'KLHL18'\n",
       "\\item 'TCTEX1D2'\n",
       "\\item 'TFRC'\n",
       "\\item 'PDE12'\n",
       "\\item 'SFMBT1'\n",
       "\\item 'SLC25A26'\n",
       "\\item 'ZNF860'\n",
       "\\item 'INTS12'\n",
       "\\item 'ACOX3'\n",
       "\\item 'RPS23'\n",
       "\\item 'CENPK'\n",
       "\\item 'ADAMTS6'\n",
       "\\item 'SYNPO'\n",
       "\\item 'CAMK4'\n",
       "\\item 'PSMG4'\n",
       "\\item 'ADAT2'\n",
       "\\item 'CDYL'\n",
       "\\item 'MLLT4'\n",
       "\\item 'ZP3'\n",
       "\\item 'LINC00996'\n",
       "\\item 'ALG2'\n",
       "\\item 'MAN1B1'\n",
       "\\item 'MED27'\n",
       "\\item 'IKBKAP'\n",
       "\\item 'UQCRH'\n",
       "\\item 'HSPA1B'\n",
       "\\item 'NCR3'\n",
       "\\end{enumerate*}\n"
      ],
      "text/markdown": [
       "1. 'FAM111A'\n",
       "2. 'TMEM123'\n",
       "3. 'KIAA1377'\n",
       "4. 'SDHAF2'\n",
       "5. 'CLEC2D'\n",
       "6. 'LTA4H'\n",
       "7. 'TMEM120B'\n",
       "8. 'GIT2'\n",
       "9. 'APOLD1'\n",
       "10. 'DYRK2'\n",
       "11. 'SLC25A29'\n",
       "12. 'CIB1'\n",
       "13. 'RMI2'\n",
       "14. 'ADPRM'\n",
       "15. 'SCPEP1'\n",
       "16. 'PNRC2'\n",
       "17. 'RCSD1'\n",
       "18. 'KLHL21'\n",
       "19. 'SULF2'\n",
       "20. 'MAVS'\n",
       "21. 'PIGP'\n",
       "22. 'SLC37A1'\n",
       "23. 'PRMT2'\n",
       "24. 'IGLL5'\n",
       "25. 'GUCD1'\n",
       "26. 'RPS7'\n",
       "27. 'GPR155'\n",
       "28. 'KIAA1841'\n",
       "29. 'SMC6'\n",
       "30. 'MZT2B'\n",
       "31. 'PRKRA'\n",
       "32. 'DNASE1L3'\n",
       "33. 'KIAA1407'\n",
       "34. 'CMTM6'\n",
       "35. 'STIM2'\n",
       "36. 'BTNL9'\n",
       "37. 'FAM26F'\n",
       "38. 'DSP'\n",
       "39. 'MDGA1'\n",
       "40. 'BTN3A2'\n",
       "41. 'NQO2'\n",
       "42. 'TSTD3'\n",
       "43. 'NCOA7'\n",
       "44. 'NUDT3'\n",
       "45. 'CCDC126'\n",
       "46. 'SRPK2'\n",
       "47. 'STAG3'\n",
       "48. 'ZC2HC1A'\n",
       "49. 'AC023590.1'\n",
       "50. 'EPHX2'\n",
       "51. 'TBCA'\n",
       "52. 'SMAP1'\n",
       "53. 'LEMD2'\n",
       "54. 'SNHG7'\n",
       "55. 'RPS9'\n",
       "56. 'MTG1'\n",
       "57. 'C10orf95'\n",
       "58. 'ASCL2'\n",
       "59. 'FAR1'\n",
       "60. 'SLC22A18'\n",
       "61. 'CTSC'\n",
       "62. 'RPS13'\n",
       "63. 'ENDOD1'\n",
       "64. 'YARS2'\n",
       "65. 'ETV6'\n",
       "66. 'PSTPIP1'\n",
       "67. 'FES'\n",
       "68. 'GNPTG'\n",
       "69. 'GTF3C1'\n",
       "70. 'PSMD7'\n",
       "71. 'MINK1'\n",
       "72. 'C17orf80'\n",
       "73. 'RSAD1'\n",
       "74. 'SCRN2'\n",
       "75. 'CNDP2'\n",
       "76. 'CEP192'\n",
       "77. 'LILRB1'\n",
       "78. 'LILRB2'\n",
       "79. 'SYMPK'\n",
       "80. 'WIZ'\n",
       "81. 'RGS16'\n",
       "82. 'FCRLA'\n",
       "83. 'RPA2'\n",
       "84. 'STMN3'\n",
       "85. 'COL9A3'\n",
       "86. 'AC079767.4'\n",
       "87. 'BIN1'\n",
       "88. 'BOLA3'\n",
       "89. 'KLHL18'\n",
       "90. 'TCTEX1D2'\n",
       "91. 'TFRC'\n",
       "92. 'PDE12'\n",
       "93. 'SFMBT1'\n",
       "94. 'SLC25A26'\n",
       "95. 'ZNF860'\n",
       "96. 'INTS12'\n",
       "97. 'ACOX3'\n",
       "98. 'RPS23'\n",
       "99. 'CENPK'\n",
       "100. 'ADAMTS6'\n",
       "101. 'SYNPO'\n",
       "102. 'CAMK4'\n",
       "103. 'PSMG4'\n",
       "104. 'ADAT2'\n",
       "105. 'CDYL'\n",
       "106. 'MLLT4'\n",
       "107. 'ZP3'\n",
       "108. 'LINC00996'\n",
       "109. 'ALG2'\n",
       "110. 'MAN1B1'\n",
       "111. 'MED27'\n",
       "112. 'IKBKAP'\n",
       "113. 'UQCRH'\n",
       "114. 'HSPA1B'\n",
       "115. 'NCR3'\n",
       "\n",
       "\n"
      ],
      "text/plain": [
       "  [1] \"FAM111A\"    \"TMEM123\"    \"KIAA1377\"   \"SDHAF2\"     \"CLEC2D\"    \n",
       "  [6] \"LTA4H\"      \"TMEM120B\"   \"GIT2\"       \"APOLD1\"     \"DYRK2\"     \n",
       " [11] \"SLC25A29\"   \"CIB1\"       \"RMI2\"       \"ADPRM\"      \"SCPEP1\"    \n",
       " [16] \"PNRC2\"      \"RCSD1\"      \"KLHL21\"     \"SULF2\"      \"MAVS\"      \n",
       " [21] \"PIGP\"       \"SLC37A1\"    \"PRMT2\"      \"IGLL5\"      \"GUCD1\"     \n",
       " [26] \"RPS7\"       \"GPR155\"     \"KIAA1841\"   \"SMC6\"       \"MZT2B\"     \n",
       " [31] \"PRKRA\"      \"DNASE1L3\"   \"KIAA1407\"   \"CMTM6\"      \"STIM2\"     \n",
       " [36] \"BTNL9\"      \"FAM26F\"     \"DSP\"        \"MDGA1\"      \"BTN3A2\"    \n",
       " [41] \"NQO2\"       \"TSTD3\"      \"NCOA7\"      \"NUDT3\"      \"CCDC126\"   \n",
       " [46] \"SRPK2\"      \"STAG3\"      \"ZC2HC1A\"    \"AC023590.1\" \"EPHX2\"     \n",
       " [51] \"TBCA\"       \"SMAP1\"      \"LEMD2\"      \"SNHG7\"      \"RPS9\"      \n",
       " [56] \"MTG1\"       \"C10orf95\"   \"ASCL2\"      \"FAR1\"       \"SLC22A18\"  \n",
       " [61] \"CTSC\"       \"RPS13\"      \"ENDOD1\"     \"YARS2\"      \"ETV6\"      \n",
       " [66] \"PSTPIP1\"    \"FES\"        \"GNPTG\"      \"GTF3C1\"     \"PSMD7\"     \n",
       " [71] \"MINK1\"      \"C17orf80\"   \"RSAD1\"      \"SCRN2\"      \"CNDP2\"     \n",
       " [76] \"CEP192\"     \"LILRB1\"     \"LILRB2\"     \"SYMPK\"      \"WIZ\"       \n",
       " [81] \"RGS16\"      \"FCRLA\"      \"RPA2\"       \"STMN3\"      \"COL9A3\"    \n",
       " [86] \"AC079767.4\" \"BIN1\"       \"BOLA3\"      \"KLHL18\"     \"TCTEX1D2\"  \n",
       " [91] \"TFRC\"       \"PDE12\"      \"SFMBT1\"     \"SLC25A26\"   \"ZNF860\"    \n",
       " [96] \"INTS12\"     \"ACOX3\"      \"RPS23\"      \"CENPK\"      \"ADAMTS6\"   \n",
       "[101] \"SYNPO\"      \"CAMK4\"      \"PSMG4\"      \"ADAT2\"      \"CDYL\"      \n",
       "[106] \"MLLT4\"      \"ZP3\"        \"LINC00996\"  \"ALG2\"       \"MAN1B1\"    \n",
       "[111] \"MED27\"      \"IKBKAP\"     \"UQCRH\"      \"HSPA1B\"     \"NCR3\"      "
      ]
     },
     "metadata": {},
     "output_type": "display_data"
    }
   ],
   "source": [
    "not_replicated_genes"
   ]
  },
  {
   "cell_type": "code",
   "execution_count": 519,
   "id": "e61cd3d9",
   "metadata": {},
   "outputs": [],
   "source": [
    "# hist(dt[dt$GeneID %in% replicated_genes, \"fdr\"]$fdr)\n",
    "# hist(dt[dt$GeneID %in% replicated_genes, \"fdr_sq\"]$fdr_sq)"
   ]
  },
  {
   "cell_type": "code",
   "execution_count": 520,
   "id": "e3b2b3d8",
   "metadata": {},
   "outputs": [],
   "source": [
    "# hist(dt[dt$GeneID %in% not_replicated_genes, \"fdr\"]$fdr)\n",
    "# hist(dt[dt$GeneID %in% not_replicated_genes, \"fdr_sq\"]$fdr_sq)"
   ]
  },
  {
   "cell_type": "code",
   "execution_count": null,
   "id": "4fd30a1d",
   "metadata": {},
   "outputs": [],
   "source": []
  },
  {
   "cell_type": "code",
   "execution_count": 202,
   "id": "e884e970",
   "metadata": {},
   "outputs": [
    {
     "data": {
      "text/html": [
       "905"
      ],
      "text/latex": [
       "905"
      ],
      "text/markdown": [
       "905"
      ],
      "text/plain": [
       "[1] 905"
      ]
     },
     "metadata": {},
     "output_type": "display_data"
    },
    {
     "data": {
      "text/html": [
       "<table class=\"dataframe\">\n",
       "<caption>A data.frame: 2 × 5</caption>\n",
       "<thead>\n",
       "\t<tr><th></th><th scope=col>gene</th><th scope=col>n_snps</th><th scope=col>snp_id</th><th scope=col>pv_raw</th><th scope=col>pv_Bonf</th></tr>\n",
       "\t<tr><th></th><th scope=col>&lt;chr&gt;</th><th scope=col>&lt;int&gt;</th><th scope=col>&lt;chr&gt;</th><th scope=col>&lt;dbl&gt;</th><th scope=col>&lt;dbl&gt;</th></tr>\n",
       "</thead>\n",
       "<tbody>\n",
       "\t<tr><th scope=row>903</th><td>NOMO3    </td><td>4</td><td>16:16353166</td><td>0.3539202</td><td>1</td></tr>\n",
       "\t<tr><th scope=row>904</th><td>SERPINB10</td><td>5</td><td>18:61544888</td><td>0.7222130</td><td>1</td></tr>\n",
       "</tbody>\n",
       "</table>\n"
      ],
      "text/latex": [
       "A data.frame: 2 × 5\n",
       "\\begin{tabular}{r|lllll}\n",
       "  & gene & n\\_snps & snp\\_id & pv\\_raw & pv\\_Bonf\\\\\n",
       "  & <chr> & <int> & <chr> & <dbl> & <dbl>\\\\\n",
       "\\hline\n",
       "\t903 & NOMO3     & 4 & 16:16353166 & 0.3539202 & 1\\\\\n",
       "\t904 & SERPINB10 & 5 & 18:61544888 & 0.7222130 & 1\\\\\n",
       "\\end{tabular}\n"
      ],
      "text/markdown": [
       "\n",
       "A data.frame: 2 × 5\n",
       "\n",
       "| <!--/--> | gene &lt;chr&gt; | n_snps &lt;int&gt; | snp_id &lt;chr&gt; | pv_raw &lt;dbl&gt; | pv_Bonf &lt;dbl&gt; |\n",
       "|---|---|---|---|---|---|\n",
       "| 903 | NOMO3     | 4 | 16:16353166 | 0.3539202 | 1 |\n",
       "| 904 | SERPINB10 | 5 | 18:61544888 | 0.7222130 | 1 |\n",
       "\n"
      ],
      "text/plain": [
       "    gene      n_snps snp_id      pv_raw    pv_Bonf\n",
       "903 NOMO3     4      16:16353166 0.3539202 1      \n",
       "904 SERPINB10 5      18:61544888 0.7222130 1      "
      ]
     },
     "metadata": {},
     "output_type": "display_data"
    }
   ],
   "source": [
    "results_folder = paste0(mydir ,\"CRM_interaction/Monocytes_Mono_eQTLs/sex_interactions/\")\n",
    "df = read.csv(paste0(results_folder,\"summary.csv\"), row.names=1)\n",
    "nrow(df)\n",
    "tail(df,2)"
   ]
  },
  {
   "cell_type": "code",
   "execution_count": 203,
   "id": "ddeb3e61",
   "metadata": {},
   "outputs": [
    {
     "data": {
      "image/png": "[encoded data removed]",
      "text/plain": [
       "Plot with title “Histogram of df$pv_raw”"
      ]
     },
     "metadata": {
      "image/png": {
       "height": 420,
       "width": 420
      }
     },
     "output_type": "display_data"
    }
   ],
   "source": [
    "hist(df$pv_raw)"
   ]
  },
  {
   "cell_type": "code",
   "execution_count": 204,
   "id": "eeb1c4c1",
   "metadata": {},
   "outputs": [
    {
     "data": {
      "image/png": "[encoded data removed]",
      "text/plain": [
       "Plot with title “Histogram of df$pv_Bonf”"
      ]
     },
     "metadata": {
      "image/png": {
       "height": 420,
       "width": 420
      }
     },
     "output_type": "display_data"
    }
   ],
   "source": [
    "hist(df$pv_Bonf)"
   ]
  },
  {
   "cell_type": "code",
   "execution_count": 205,
   "id": "42a782fb",
   "metadata": {},
   "outputs": [
    {
     "data": {
      "text/html": [
       "<style>\n",
       ".list-inline {list-style: none; margin:0; padding: 0}\n",
       ".list-inline>li {display: inline-block}\n",
       ".list-inline>li:not(:last-child)::after {content: \"\\00b7\"; padding: 0 .5ex}\n",
       "</style>\n",
       "<ol class=list-inline><li>68</li><li>905</li><li>0.0751381215469613</li></ol>\n"
      ],
      "text/latex": [
       "\\begin{enumerate*}\n",
       "\\item 68\n",
       "\\item 905\n",
       "\\item 0.0751381215469613\n",
       "\\end{enumerate*}\n"
      ],
      "text/markdown": [
       "1. 68\n",
       "2. 905\n",
       "3. 0.0751381215469613\n",
       "\n",
       "\n"
      ],
      "text/plain": [
       "[1]  68.00000000 905.00000000   0.07513812"
      ]
     },
     "metadata": {},
     "output_type": "display_data"
    }
   ],
   "source": [
    "df$qv = qvalue(df$pv_raw)$qvalues\n",
    "c(nrow(df[df$qv<0.05,]), nrow(df), nrow(df[df$qv<0.05,])/nrow(df))"
   ]
  },
  {
   "cell_type": "code",
   "execution_count": 206,
   "id": "e3144883",
   "metadata": {},
   "outputs": [
    {
     "data": {
      "text/html": [
       "<style>\n",
       ".list-inline {list-style: none; margin:0; padding: 0}\n",
       ".list-inline>li {display: inline-block}\n",
       ".list-inline>li:not(:last-child)::after {content: \"\\00b7\"; padding: 0 .5ex}\n",
       "</style>\n",
       "<ol class=list-inline><li>'H1F0'</li><li>'HMGN1'</li><li>'RPS16'</li><li>'RGS1'</li><li>'CST3'</li><li>'PPDPF'</li><li>'RPL28'</li><li>'LILRA5'</li><li>'RP11-290F20.3'</li><li>'CD40'</li><li>'LMNA'</li><li>'RP11-347P5.1'</li><li>'RPS8'</li><li>'CDC42'</li><li>'RNF144B'</li><li>'HLA-A'</li><li>'FCGR2B'</li><li>'C1orf86'</li><li>'GBP2'</li><li>'L1TD1'</li><li>'DARS2'</li><li>'RPS7'</li><li>'MMEL1'</li><li>'CALM2'</li><li>'TMSB10'</li><li>'C2orf81'</li><li>'C3orf14'</li><li>'RNF13'</li><li>'CSTA'</li><li>'SETD9'</li><li>'PSMB9'</li><li>'HFE'</li><li>'HLA-DPA1'</li><li>'SERPINB1'</li><li>'CITED2'</li><li>'HIST1H2BD'</li><li>'SERPINB9'</li><li>'LYRM4'</li><li>'TMEM176B'</li><li>'TOMM7'</li><li>'CD36'</li><li>'FIS1'</li><li>'NDUFS8'</li><li>'CTSC'</li><li>'NDUFA12'</li><li>'PCBP2'</li><li>'DDX5'</li><li>'CD300E'</li><li>'FTL'</li><li>'UBA52'</li><li>'ICAM3'</li><li>'SNHG8'</li><li>'HSD17B11'</li><li>'RP11-362F19.1'</li><li>'FAM198B'</li><li>'ASAH1'</li><li>'OSTF1'</li><li>'FIBCD1'</li><li>'DECR1'</li><li>'LIPA'</li><li>'RPL12'</li><li>'MAP3K8'</li><li>'EPSTI1'</li><li>'RPL36AL'</li><li>'SEC11A'</li><li>'CHP1'</li><li>'PRKCB'</li><li>'ANPEP'</li></ol>\n"
      ],
      "text/latex": [
       "\\begin{enumerate*}\n",
       "\\item 'H1F0'\n",
       "\\item 'HMGN1'\n",
       "\\item 'RPS16'\n",
       "\\item 'RGS1'\n",
       "\\item 'CST3'\n",
       "\\item 'PPDPF'\n",
       "\\item 'RPL28'\n",
       "\\item 'LILRA5'\n",
       "\\item 'RP11-290F20.3'\n",
       "\\item 'CD40'\n",
       "\\item 'LMNA'\n",
       "\\item 'RP11-347P5.1'\n",
       "\\item 'RPS8'\n",
       "\\item 'CDC42'\n",
       "\\item 'RNF144B'\n",
       "\\item 'HLA-A'\n",
       "\\item 'FCGR2B'\n",
       "\\item 'C1orf86'\n",
       "\\item 'GBP2'\n",
       "\\item 'L1TD1'\n",
       "\\item 'DARS2'\n",
       "\\item 'RPS7'\n",
       "\\item 'MMEL1'\n",
       "\\item 'CALM2'\n",
       "\\item 'TMSB10'\n",
       "\\item 'C2orf81'\n",
       "\\item 'C3orf14'\n",
       "\\item 'RNF13'\n",
       "\\item 'CSTA'\n",
       "\\item 'SETD9'\n",
       "\\item 'PSMB9'\n",
       "\\item 'HFE'\n",
       "\\item 'HLA-DPA1'\n",
       "\\item 'SERPINB1'\n",
       "\\item 'CITED2'\n",
       "\\item 'HIST1H2BD'\n",
       "\\item 'SERPINB9'\n",
       "\\item 'LYRM4'\n",
       "\\item 'TMEM176B'\n",
       "\\item 'TOMM7'\n",
       "\\item 'CD36'\n",
       "\\item 'FIS1'\n",
       "\\item 'NDUFS8'\n",
       "\\item 'CTSC'\n",
       "\\item 'NDUFA12'\n",
       "\\item 'PCBP2'\n",
       "\\item 'DDX5'\n",
       "\\item 'CD300E'\n",
       "\\item 'FTL'\n",
       "\\item 'UBA52'\n",
       "\\item 'ICAM3'\n",
       "\\item 'SNHG8'\n",
       "\\item 'HSD17B11'\n",
       "\\item 'RP11-362F19.1'\n",
       "\\item 'FAM198B'\n",
       "\\item 'ASAH1'\n",
       "\\item 'OSTF1'\n",
       "\\item 'FIBCD1'\n",
       "\\item 'DECR1'\n",
       "\\item 'LIPA'\n",
       "\\item 'RPL12'\n",
       "\\item 'MAP3K8'\n",
       "\\item 'EPSTI1'\n",
       "\\item 'RPL36AL'\n",
       "\\item 'SEC11A'\n",
       "\\item 'CHP1'\n",
       "\\item 'PRKCB'\n",
       "\\item 'ANPEP'\n",
       "\\end{enumerate*}\n"
      ],
      "text/markdown": [
       "1. 'H1F0'\n",
       "2. 'HMGN1'\n",
       "3. 'RPS16'\n",
       "4. 'RGS1'\n",
       "5. 'CST3'\n",
       "6. 'PPDPF'\n",
       "7. 'RPL28'\n",
       "8. 'LILRA5'\n",
       "9. 'RP11-290F20.3'\n",
       "10. 'CD40'\n",
       "11. 'LMNA'\n",
       "12. 'RP11-347P5.1'\n",
       "13. 'RPS8'\n",
       "14. 'CDC42'\n",
       "15. 'RNF144B'\n",
       "16. 'HLA-A'\n",
       "17. 'FCGR2B'\n",
       "18. 'C1orf86'\n",
       "19. 'GBP2'\n",
       "20. 'L1TD1'\n",
       "21. 'DARS2'\n",
       "22. 'RPS7'\n",
       "23. 'MMEL1'\n",
       "24. 'CALM2'\n",
       "25. 'TMSB10'\n",
       "26. 'C2orf81'\n",
       "27. 'C3orf14'\n",
       "28. 'RNF13'\n",
       "29. 'CSTA'\n",
       "30. 'SETD9'\n",
       "31. 'PSMB9'\n",
       "32. 'HFE'\n",
       "33. 'HLA-DPA1'\n",
       "34. 'SERPINB1'\n",
       "35. 'CITED2'\n",
       "36. 'HIST1H2BD'\n",
       "37. 'SERPINB9'\n",
       "38. 'LYRM4'\n",
       "39. 'TMEM176B'\n",
       "40. 'TOMM7'\n",
       "41. 'CD36'\n",
       "42. 'FIS1'\n",
       "43. 'NDUFS8'\n",
       "44. 'CTSC'\n",
       "45. 'NDUFA12'\n",
       "46. 'PCBP2'\n",
       "47. 'DDX5'\n",
       "48. 'CD300E'\n",
       "49. 'FTL'\n",
       "50. 'UBA52'\n",
       "51. 'ICAM3'\n",
       "52. 'SNHG8'\n",
       "53. 'HSD17B11'\n",
       "54. 'RP11-362F19.1'\n",
       "55. 'FAM198B'\n",
       "56. 'ASAH1'\n",
       "57. 'OSTF1'\n",
       "58. 'FIBCD1'\n",
       "59. 'DECR1'\n",
       "60. 'LIPA'\n",
       "61. 'RPL12'\n",
       "62. 'MAP3K8'\n",
       "63. 'EPSTI1'\n",
       "64. 'RPL36AL'\n",
       "65. 'SEC11A'\n",
       "66. 'CHP1'\n",
       "67. 'PRKCB'\n",
       "68. 'ANPEP'\n",
       "\n",
       "\n"
      ],
      "text/plain": [
       " [1] \"H1F0\"          \"HMGN1\"         \"RPS16\"         \"RGS1\"         \n",
       " [5] \"CST3\"          \"PPDPF\"         \"RPL28\"         \"LILRA5\"       \n",
       " [9] \"RP11-290F20.3\" \"CD40\"          \"LMNA\"          \"RP11-347P5.1\" \n",
       "[13] \"RPS8\"          \"CDC42\"         \"RNF144B\"       \"HLA-A\"        \n",
       "[17] \"FCGR2B\"        \"C1orf86\"       \"GBP2\"          \"L1TD1\"        \n",
       "[21] \"DARS2\"         \"RPS7\"          \"MMEL1\"         \"CALM2\"        \n",
       "[25] \"TMSB10\"        \"C2orf81\"       \"C3orf14\"       \"RNF13\"        \n",
       "[29] \"CSTA\"          \"SETD9\"         \"PSMB9\"         \"HFE\"          \n",
       "[33] \"HLA-DPA1\"      \"SERPINB1\"      \"CITED2\"        \"HIST1H2BD\"    \n",
       "[37] \"SERPINB9\"      \"LYRM4\"         \"TMEM176B\"      \"TOMM7\"        \n",
       "[41] \"CD36\"          \"FIS1\"          \"NDUFS8\"        \"CTSC\"         \n",
       "[45] \"NDUFA12\"       \"PCBP2\"         \"DDX5\"          \"CD300E\"       \n",
       "[49] \"FTL\"           \"UBA52\"         \"ICAM3\"         \"SNHG8\"        \n",
       "[53] \"HSD17B11\"      \"RP11-362F19.1\" \"FAM198B\"       \"ASAH1\"        \n",
       "[57] \"OSTF1\"         \"FIBCD1\"        \"DECR1\"         \"LIPA\"         \n",
       "[61] \"RPL12\"         \"MAP3K8\"        \"EPSTI1\"        \"RPL36AL\"      \n",
       "[65] \"SEC11A\"        \"CHP1\"          \"PRKCB\"         \"ANPEP\"        "
      ]
     },
     "metadata": {},
     "output_type": "display_data"
    }
   ],
   "source": [
    "df[df$qv<0.05,\"gene\"]"
   ]
  },
  {
   "cell_type": "code",
   "execution_count": 207,
   "id": "168d3877",
   "metadata": {},
   "outputs": [],
   "source": [
    "beta_fvf = df[df$qv<0.05,]\n",
    "beta_fvf$feature = beta_fvf$gene\n",
    "# beta_fvf$chrom = gsub(\"-.*\",\"\",gsub(\"\\\\:\",\"-\",beta_fvf$snp_id))\n",
    "beta_fvf$chrom = gsub(\"\\\\:.*\",\"\",beta_fvf$snp_id)"
   ]
  },
  {
   "cell_type": "code",
   "execution_count": 208,
   "id": "ba377e2e",
   "metadata": {},
   "outputs": [
    {
     "data": {
      "text/html": [
       "68"
      ],
      "text/latex": [
       "68"
      ],
      "text/markdown": [
       "68"
      ],
      "text/plain": [
       "[1] 68"
      ]
     },
     "metadata": {},
     "output_type": "display_data"
    },
    {
     "data": {
      "text/html": [
       "<table class=\"dataframe\">\n",
       "<caption>A data.frame: 6 × 8</caption>\n",
       "<thead>\n",
       "\t<tr><th></th><th scope=col>gene</th><th scope=col>n_snps</th><th scope=col>snp_id</th><th scope=col>pv_raw</th><th scope=col>pv_Bonf</th><th scope=col>qv</th><th scope=col>feature</th><th scope=col>chrom</th></tr>\n",
       "\t<tr><th></th><th scope=col>&lt;chr&gt;</th><th scope=col>&lt;int&gt;</th><th scope=col>&lt;chr&gt;</th><th scope=col>&lt;dbl&gt;</th><th scope=col>&lt;dbl&gt;</th><th scope=col>&lt;dbl&gt;</th><th scope=col>&lt;chr&gt;</th><th scope=col>&lt;chr&gt;</th></tr>\n",
       "</thead>\n",
       "<tbody>\n",
       "\t<tr><th scope=row>12</th><td>H1F0 </td><td>2</td><td>22:38211954</td><td>3.406647e-03</td><td>6.813293e-03</td><td>3.982677e-02</td><td>H1F0 </td><td>22</td></tr>\n",
       "\t<tr><th scope=row>39</th><td>HMGN1</td><td>3</td><td>21:40796751</td><td>1.203423e-04</td><td>3.610270e-04</td><td>2.884337e-03</td><td>HMGN1</td><td>21</td></tr>\n",
       "\t<tr><th scope=row>56</th><td>RPS16</td><td>1</td><td>19:39926601</td><td>2.326525e-03</td><td>2.326525e-03</td><td>2.901047e-02</td><td>RPS16</td><td>19</td></tr>\n",
       "\t<tr><th scope=row>75</th><td>RGS1 </td><td>6</td><td>1:192545099</td><td>4.319784e-07</td><td>2.591871e-06</td><td>3.751834e-05</td><td>RGS1 </td><td>1 </td></tr>\n",
       "\t<tr><th scope=row>78</th><td>CST3 </td><td>2</td><td>20:23622550</td><td>6.726935e-04</td><td>1.345387e-03</td><td>1.014574e-02</td><td>CST3 </td><td>20</td></tr>\n",
       "\t<tr><th scope=row>82</th><td>PPDPF</td><td>1</td><td>20:62152519</td><td>1.531087e-04</td><td>1.531087e-04</td><td>3.258635e-03</td><td>PPDPF</td><td>20</td></tr>\n",
       "</tbody>\n",
       "</table>\n"
      ],
      "text/latex": [
       "A data.frame: 6 × 8\n",
       "\\begin{tabular}{r|llllllll}\n",
       "  & gene & n\\_snps & snp\\_id & pv\\_raw & pv\\_Bonf & qv & feature & chrom\\\\\n",
       "  & <chr> & <int> & <chr> & <dbl> & <dbl> & <dbl> & <chr> & <chr>\\\\\n",
       "\\hline\n",
       "\t12 & H1F0  & 2 & 22:38211954 & 3.406647e-03 & 6.813293e-03 & 3.982677e-02 & H1F0  & 22\\\\\n",
       "\t39 & HMGN1 & 3 & 21:40796751 & 1.203423e-04 & 3.610270e-04 & 2.884337e-03 & HMGN1 & 21\\\\\n",
       "\t56 & RPS16 & 1 & 19:39926601 & 2.326525e-03 & 2.326525e-03 & 2.901047e-02 & RPS16 & 19\\\\\n",
       "\t75 & RGS1  & 6 & 1:192545099 & 4.319784e-07 & 2.591871e-06 & 3.751834e-05 & RGS1  & 1 \\\\\n",
       "\t78 & CST3  & 2 & 20:23622550 & 6.726935e-04 & 1.345387e-03 & 1.014574e-02 & CST3  & 20\\\\\n",
       "\t82 & PPDPF & 1 & 20:62152519 & 1.531087e-04 & 1.531087e-04 & 3.258635e-03 & PPDPF & 20\\\\\n",
       "\\end{tabular}\n"
      ],
      "text/markdown": [
       "\n",
       "A data.frame: 6 × 8\n",
       "\n",
       "| <!--/--> | gene &lt;chr&gt; | n_snps &lt;int&gt; | snp_id &lt;chr&gt; | pv_raw &lt;dbl&gt; | pv_Bonf &lt;dbl&gt; | qv &lt;dbl&gt; | feature &lt;chr&gt; | chrom &lt;chr&gt; |\n",
       "|---|---|---|---|---|---|---|---|---|\n",
       "| 12 | H1F0  | 2 | 22:38211954 | 3.406647e-03 | 6.813293e-03 | 3.982677e-02 | H1F0  | 22 |\n",
       "| 39 | HMGN1 | 3 | 21:40796751 | 1.203423e-04 | 3.610270e-04 | 2.884337e-03 | HMGN1 | 21 |\n",
       "| 56 | RPS16 | 1 | 19:39926601 | 2.326525e-03 | 2.326525e-03 | 2.901047e-02 | RPS16 | 19 |\n",
       "| 75 | RGS1  | 6 | 1:192545099 | 4.319784e-07 | 2.591871e-06 | 3.751834e-05 | RGS1  | 1  |\n",
       "| 78 | CST3  | 2 | 20:23622550 | 6.726935e-04 | 1.345387e-03 | 1.014574e-02 | CST3  | 20 |\n",
       "| 82 | PPDPF | 1 | 20:62152519 | 1.531087e-04 | 1.531087e-04 | 3.258635e-03 | PPDPF | 20 |\n",
       "\n"
      ],
      "text/plain": [
       "   gene  n_snps snp_id      pv_raw       pv_Bonf      qv           feature\n",
       "12 H1F0  2      22:38211954 3.406647e-03 6.813293e-03 3.982677e-02 H1F0   \n",
       "39 HMGN1 3      21:40796751 1.203423e-04 3.610270e-04 2.884337e-03 HMGN1  \n",
       "56 RPS16 1      19:39926601 2.326525e-03 2.326525e-03 2.901047e-02 RPS16  \n",
       "75 RGS1  6      1:192545099 4.319784e-07 2.591871e-06 3.751834e-05 RGS1   \n",
       "78 CST3  2      20:23622550 6.726935e-04 1.345387e-03 1.014574e-02 CST3   \n",
       "82 PPDPF 1      20:62152519 1.531087e-04 1.531087e-04 3.258635e-03 PPDPF  \n",
       "   chrom\n",
       "12 22   \n",
       "39 21   \n",
       "56 19   \n",
       "75 1    \n",
       "78 20   \n",
       "82 20   "
      ]
     },
     "metadata": {},
     "output_type": "display_data"
    }
   ],
   "source": [
    "nrow(beta_fvf)\n",
    "head(beta_fvf)"
   ]
  },
  {
   "cell_type": "code",
   "execution_count": 3,
   "id": "b96edaba",
   "metadata": {},
   "outputs": [],
   "source": [
    "mono_sex_beta_file = paste0(input_files_dir,\"sex_beta_fvf_Monocyte.csv\")\n",
    "# write.csv(beta_fvf, mono_sex_beta_file)"
   ]
  },
  {
   "cell_type": "code",
   "execution_count": 4,
   "id": "36633b0a",
   "metadata": {},
   "outputs": [
    {
     "data": {
      "text/html": [
       "'/share/ScratchGeneral/anncuo/OneK1K/input_files_CellRegMap/sex_beta_fvf_Monocyte.csv'"
      ],
      "text/latex": [
       "'/share/ScratchGeneral/anncuo/OneK1K/input\\_files\\_CellRegMap/sex\\_beta\\_fvf\\_Monocyte.csv'"
      ],
      "text/markdown": [
       "'/share/ScratchGeneral/anncuo/OneK1K/input_files_CellRegMap/sex_beta_fvf_Monocyte.csv'"
      ],
      "text/plain": [
       "[1] \"/share/ScratchGeneral/anncuo/OneK1K/input_files_CellRegMap/sex_beta_fvf_Monocyte.csv\""
      ]
     },
     "metadata": {},
     "output_type": "display_data"
    }
   ],
   "source": [
    "mono_sex_beta_file"
   ]
  },
  {
   "cell_type": "code",
   "execution_count": null,
   "id": "c84942cc",
   "metadata": {},
   "outputs": [],
   "source": []
  },
  {
   "cell_type": "code",
   "execution_count": 22,
   "id": "5d51cfad",
   "metadata": {},
   "outputs": [
    {
     "data": {
      "text/html": [
       "76"
      ],
      "text/latex": [
       "76"
      ],
      "text/markdown": [
       "76"
      ],
      "text/plain": [
       "[1] 76"
      ]
     },
     "metadata": {},
     "output_type": "display_data"
    }
   ],
   "source": [
    "chr = 22\n",
    "fvf_22 = fvf[fvf$chrom == chr,]\n",
    "nrow(fvf_22)"
   ]
  },
  {
   "cell_type": "code",
   "execution_count": 23,
   "id": "1cf9aedd",
   "metadata": {
    "scrolled": true
   },
   "outputs": [],
   "source": [
    "# fvf_22"
   ]
  },
  {
   "cell_type": "code",
   "execution_count": 24,
   "id": "18c21033",
   "metadata": {},
   "outputs": [
    {
     "data": {
      "text/html": [
       "33"
      ],
      "text/latex": [
       "33"
      ],
      "text/markdown": [
       "33"
      ],
      "text/plain": [
       "[1] 33"
      ]
     },
     "metadata": {},
     "output_type": "display_data"
    },
    {
     "data": {
      "text/html": [
       "<style>\n",
       ".list-inline {list-style: none; margin:0; padding: 0}\n",
       ".list-inline>li {display: inline-block}\n",
       ".list-inline>li:not(:last-child)::after {content: \"\\00b7\"; padding: 0 .5ex}\n",
       "</style>\n",
       "<ol class=list-inline><li>'ARFGAP3'</li><li>'ARSA'</li><li>'C22orf34'</li><li>'CHCHD10'</li><li>'CRYBB2'</li><li>'CTA-29F11.1'</li></ol>\n"
      ],
      "text/latex": [
       "\\begin{enumerate*}\n",
       "\\item 'ARFGAP3'\n",
       "\\item 'ARSA'\n",
       "\\item 'C22orf34'\n",
       "\\item 'CHCHD10'\n",
       "\\item 'CRYBB2'\n",
       "\\item 'CTA-29F11.1'\n",
       "\\end{enumerate*}\n"
      ],
      "text/markdown": [
       "1. 'ARFGAP3'\n",
       "2. 'ARSA'\n",
       "3. 'C22orf34'\n",
       "4. 'CHCHD10'\n",
       "5. 'CRYBB2'\n",
       "6. 'CTA-29F11.1'\n",
       "\n",
       "\n"
      ],
      "text/plain": [
       "[1] \"ARFGAP3\"     \"ARSA\"        \"C22orf34\"    \"CHCHD10\"     \"CRYBB2\"     \n",
       "[6] \"CTA-29F11.1\""
      ]
     },
     "metadata": {},
     "output_type": "display_data"
    }
   ],
   "source": [
    "genes_22 = unique(fvf_22$feature)\n",
    "genes_22 = genes_22[order(genes_22)]\n",
    "length(genes_22)\n",
    "head(genes_22)"
   ]
  },
  {
   "cell_type": "code",
   "execution_count": 25,
   "id": "11340a84",
   "metadata": {},
   "outputs": [
    {
     "data": {
      "text/html": [
       "<style>\n",
       ".list-inline {list-style: none; margin:0; padding: 0}\n",
       ".list-inline>li {display: inline-block}\n",
       ".list-inline>li:not(:last-child)::after {content: \"\\00b7\"; padding: 0 .5ex}\n",
       "</style>\n",
       "<ol class=list-inline><li>'ARFGAP3'</li><li>'ARSA'</li><li>'C22orf34'</li><li>'CHCHD10'</li><li>'CRYBB2'</li><li>'CTA-29F11.1'</li><li>'DDT'</li><li>'FAM118A'</li><li>'GSTT1'</li><li>'GUCD1'</li><li>'IGLL5'</li><li>'KB-226F1.1'</li><li>'LARGE'</li><li>'MCM5'</li><li>'MIF'</li><li>'NCF4'</li><li>'NDUFA6'</li><li>'PIM3'</li><li>'RP1-29C18.10'</li><li>'RP4-539M6.22'</li><li>'RP5-1042K10.10'</li><li>'RPL3'</li><li>'RRP7A'</li><li>'SELM'</li><li>'SLC25A1'</li><li>'SMDT1'</li><li>'SNRPD3'</li><li>'SYNGR1'</li><li>'THAP7-AS1'</li><li>'TSPO'</li><li>'TYMP'</li><li>'VPREB3'</li><li>'YWHAH'</li></ol>\n"
      ],
      "text/latex": [
       "\\begin{enumerate*}\n",
       "\\item 'ARFGAP3'\n",
       "\\item 'ARSA'\n",
       "\\item 'C22orf34'\n",
       "\\item 'CHCHD10'\n",
       "\\item 'CRYBB2'\n",
       "\\item 'CTA-29F11.1'\n",
       "\\item 'DDT'\n",
       "\\item 'FAM118A'\n",
       "\\item 'GSTT1'\n",
       "\\item 'GUCD1'\n",
       "\\item 'IGLL5'\n",
       "\\item 'KB-226F1.1'\n",
       "\\item 'LARGE'\n",
       "\\item 'MCM5'\n",
       "\\item 'MIF'\n",
       "\\item 'NCF4'\n",
       "\\item 'NDUFA6'\n",
       "\\item 'PIM3'\n",
       "\\item 'RP1-29C18.10'\n",
       "\\item 'RP4-539M6.22'\n",
       "\\item 'RP5-1042K10.10'\n",
       "\\item 'RPL3'\n",
       "\\item 'RRP7A'\n",
       "\\item 'SELM'\n",
       "\\item 'SLC25A1'\n",
       "\\item 'SMDT1'\n",
       "\\item 'SNRPD3'\n",
       "\\item 'SYNGR1'\n",
       "\\item 'THAP7-AS1'\n",
       "\\item 'TSPO'\n",
       "\\item 'TYMP'\n",
       "\\item 'VPREB3'\n",
       "\\item 'YWHAH'\n",
       "\\end{enumerate*}\n"
      ],
      "text/markdown": [
       "1. 'ARFGAP3'\n",
       "2. 'ARSA'\n",
       "3. 'C22orf34'\n",
       "4. 'CHCHD10'\n",
       "5. 'CRYBB2'\n",
       "6. 'CTA-29F11.1'\n",
       "7. 'DDT'\n",
       "8. 'FAM118A'\n",
       "9. 'GSTT1'\n",
       "10. 'GUCD1'\n",
       "11. 'IGLL5'\n",
       "12. 'KB-226F1.1'\n",
       "13. 'LARGE'\n",
       "14. 'MCM5'\n",
       "15. 'MIF'\n",
       "16. 'NCF4'\n",
       "17. 'NDUFA6'\n",
       "18. 'PIM3'\n",
       "19. 'RP1-29C18.10'\n",
       "20. 'RP4-539M6.22'\n",
       "21. 'RP5-1042K10.10'\n",
       "22. 'RPL3'\n",
       "23. 'RRP7A'\n",
       "24. 'SELM'\n",
       "25. 'SLC25A1'\n",
       "26. 'SMDT1'\n",
       "27. 'SNRPD3'\n",
       "28. 'SYNGR1'\n",
       "29. 'THAP7-AS1'\n",
       "30. 'TSPO'\n",
       "31. 'TYMP'\n",
       "32. 'VPREB3'\n",
       "33. 'YWHAH'\n",
       "\n",
       "\n"
      ],
      "text/plain": [
       " [1] \"ARFGAP3\"        \"ARSA\"           \"C22orf34\"       \"CHCHD10\"       \n",
       " [5] \"CRYBB2\"         \"CTA-29F11.1\"    \"DDT\"            \"FAM118A\"       \n",
       " [9] \"GSTT1\"          \"GUCD1\"          \"IGLL5\"          \"KB-226F1.1\"    \n",
       "[13] \"LARGE\"          \"MCM5\"           \"MIF\"            \"NCF4\"          \n",
       "[17] \"NDUFA6\"         \"PIM3\"           \"RP1-29C18.10\"   \"RP4-539M6.22\"  \n",
       "[21] \"RP5-1042K10.10\" \"RPL3\"           \"RRP7A\"          \"SELM\"          \n",
       "[25] \"SLC25A1\"        \"SMDT1\"          \"SNRPD3\"         \"SYNGR1\"        \n",
       "[29] \"THAP7-AS1\"      \"TSPO\"           \"TYMP\"           \"VPREB3\"        \n",
       "[33] \"YWHAH\"         "
      ]
     },
     "metadata": {},
     "output_type": "display_data"
    }
   ],
   "source": [
    "genes_22"
   ]
  },
  {
   "cell_type": "code",
   "execution_count": 26,
   "id": "af4c1b62",
   "metadata": {},
   "outputs": [
    {
     "data": {
      "text/html": [
       "25"
      ],
      "text/latex": [
       "25"
      ],
      "text/markdown": [
       "25"
      ],
      "text/plain": [
       "[1] 25"
      ]
     },
     "metadata": {},
     "output_type": "display_data"
    },
    {
     "data": {
      "text/html": [
       "<style>\n",
       ".list-inline {list-style: none; margin:0; padding: 0}\n",
       ".list-inline>li {display: inline-block}\n",
       ".list-inline>li:not(:last-child)::after {content: \"\\00b7\"; padding: 0 .5ex}\n",
       "</style>\n",
       "<ol class=list-inline><li>'ARFGAP3'</li><li>'ARSA'</li><li>'CRYBB2'</li><li>'CTA-29F11.1'</li><li>'DDT'</li><li>'FAM118A'</li><li>'GSTT1'</li><li>'IGLL5'</li><li>'KB-226F1.1'</li><li>'LARGE'</li><li>'MIF'</li><li>'NCF4'</li><li>'NDUFA6'</li><li>'RP1-29C18.10'</li><li>'RP4-539M6.22'</li><li>'RP5-1042K10.10'</li><li>'RPL3'</li><li>'SELM'</li><li>'SLC25A1'</li><li>'SMDT1'</li><li>'SNRPD3'</li><li>'SYNGR1'</li><li>'THAP7-AS1'</li><li>'VPREB3'</li><li>'YWHAH'</li></ol>\n"
      ],
      "text/latex": [
       "\\begin{enumerate*}\n",
       "\\item 'ARFGAP3'\n",
       "\\item 'ARSA'\n",
       "\\item 'CRYBB2'\n",
       "\\item 'CTA-29F11.1'\n",
       "\\item 'DDT'\n",
       "\\item 'FAM118A'\n",
       "\\item 'GSTT1'\n",
       "\\item 'IGLL5'\n",
       "\\item 'KB-226F1.1'\n",
       "\\item 'LARGE'\n",
       "\\item 'MIF'\n",
       "\\item 'NCF4'\n",
       "\\item 'NDUFA6'\n",
       "\\item 'RP1-29C18.10'\n",
       "\\item 'RP4-539M6.22'\n",
       "\\item 'RP5-1042K10.10'\n",
       "\\item 'RPL3'\n",
       "\\item 'SELM'\n",
       "\\item 'SLC25A1'\n",
       "\\item 'SMDT1'\n",
       "\\item 'SNRPD3'\n",
       "\\item 'SYNGR1'\n",
       "\\item 'THAP7-AS1'\n",
       "\\item 'VPREB3'\n",
       "\\item 'YWHAH'\n",
       "\\end{enumerate*}\n"
      ],
      "text/markdown": [
       "1. 'ARFGAP3'\n",
       "2. 'ARSA'\n",
       "3. 'CRYBB2'\n",
       "4. 'CTA-29F11.1'\n",
       "5. 'DDT'\n",
       "6. 'FAM118A'\n",
       "7. 'GSTT1'\n",
       "8. 'IGLL5'\n",
       "9. 'KB-226F1.1'\n",
       "10. 'LARGE'\n",
       "11. 'MIF'\n",
       "12. 'NCF4'\n",
       "13. 'NDUFA6'\n",
       "14. 'RP1-29C18.10'\n",
       "15. 'RP4-539M6.22'\n",
       "16. 'RP5-1042K10.10'\n",
       "17. 'RPL3'\n",
       "18. 'SELM'\n",
       "19. 'SLC25A1'\n",
       "20. 'SMDT1'\n",
       "21. 'SNRPD3'\n",
       "22. 'SYNGR1'\n",
       "23. 'THAP7-AS1'\n",
       "24. 'VPREB3'\n",
       "25. 'YWHAH'\n",
       "\n",
       "\n"
      ],
      "text/plain": [
       " [1] \"ARFGAP3\"        \"ARSA\"           \"CRYBB2\"         \"CTA-29F11.1\"   \n",
       " [5] \"DDT\"            \"FAM118A\"        \"GSTT1\"          \"IGLL5\"         \n",
       " [9] \"KB-226F1.1\"     \"LARGE\"          \"MIF\"            \"NCF4\"          \n",
       "[13] \"NDUFA6\"         \"RP1-29C18.10\"   \"RP4-539M6.22\"   \"RP5-1042K10.10\"\n",
       "[17] \"RPL3\"           \"SELM\"           \"SLC25A1\"        \"SMDT1\"         \n",
       "[21] \"SNRPD3\"         \"SYNGR1\"         \"THAP7-AS1\"      \"VPREB3\"        \n",
       "[25] \"YWHAH\"         "
      ]
     },
     "metadata": {},
     "output_type": "display_data"
    }
   ],
   "source": [
    "genes_22_done = genes_22[genes_22 %in% genes_done]\n",
    "length(genes_22_done)\n",
    "genes_22_done"
   ]
  },
  {
   "cell_type": "code",
   "execution_count": 27,
   "id": "0d51cd2e",
   "metadata": {},
   "outputs": [
    {
     "data": {
      "text/html": [
       "8"
      ],
      "text/latex": [
       "8"
      ],
      "text/markdown": [
       "8"
      ],
      "text/plain": [
       "[1] 8"
      ]
     },
     "metadata": {},
     "output_type": "display_data"
    },
    {
     "data": {
      "text/html": [
       "<style>\n",
       ".list-inline {list-style: none; margin:0; padding: 0}\n",
       ".list-inline>li {display: inline-block}\n",
       ".list-inline>li:not(:last-child)::after {content: \"\\00b7\"; padding: 0 .5ex}\n",
       "</style>\n",
       "<ol class=list-inline><li>'C22orf34'</li><li>'CHCHD10'</li><li>'GUCD1'</li><li>'MCM5'</li><li>'PIM3'</li><li>'RRP7A'</li><li>'TSPO'</li><li>'TYMP'</li></ol>\n"
      ],
      "text/latex": [
       "\\begin{enumerate*}\n",
       "\\item 'C22orf34'\n",
       "\\item 'CHCHD10'\n",
       "\\item 'GUCD1'\n",
       "\\item 'MCM5'\n",
       "\\item 'PIM3'\n",
       "\\item 'RRP7A'\n",
       "\\item 'TSPO'\n",
       "\\item 'TYMP'\n",
       "\\end{enumerate*}\n"
      ],
      "text/markdown": [
       "1. 'C22orf34'\n",
       "2. 'CHCHD10'\n",
       "3. 'GUCD1'\n",
       "4. 'MCM5'\n",
       "5. 'PIM3'\n",
       "6. 'RRP7A'\n",
       "7. 'TSPO'\n",
       "8. 'TYMP'\n",
       "\n",
       "\n"
      ],
      "text/plain": [
       "[1] \"C22orf34\" \"CHCHD10\"  \"GUCD1\"    \"MCM5\"     \"PIM3\"     \"RRP7A\"    \"TSPO\"    \n",
       "[8] \"TYMP\"    "
      ]
     },
     "metadata": {},
     "output_type": "display_data"
    }
   ],
   "source": [
    "genes_22_missing = genes_22[!(genes_22 %in% genes_done)]\n",
    "length(genes_22_missing)\n",
    "genes_22_missing"
   ]
  },
  {
   "cell_type": "code",
   "execution_count": null,
   "id": "06cb0387",
   "metadata": {},
   "outputs": [],
   "source": []
  },
  {
   "cell_type": "code",
   "execution_count": null,
   "id": "6519a5cd",
   "metadata": {},
   "outputs": [],
   "source": []
  },
  {
   "cell_type": "code",
   "execution_count": null,
   "id": "6692160b",
   "metadata": {},
   "outputs": [],
   "source": []
  },
  {
   "cell_type": "code",
   "execution_count": 1001,
   "id": "01f85cd9",
   "metadata": {},
   "outputs": [],
   "source": [
    "?cut"
   ]
  },
  {
   "cell_type": "code",
   "execution_count": null,
   "id": "9c0a32ae",
   "metadata": {},
   "outputs": [],
   "source": []
  },
  {
   "cell_type": "code",
   "execution_count": 1000,
   "id": "b0b0e3fa",
   "metadata": {},
   "outputs": [
    {
     "ename": "ERROR",
     "evalue": "Error in cut(CDAI, breaks = c(0, 2.8, 10, 22, 76), labels = c(\"remission\", : object 'CDAI' not found\n",
     "output_type": "error",
     "traceback": [
      "Error in cut(CDAI, breaks = c(0, 2.8, 10, 22, 76), labels = c(\"remission\", : object 'CDAI' not found\nTraceback:\n",
      "1. cut(CDAI, breaks = c(0, 2.8, 10, 22, 76), labels = c(\"remission\", \n .     \"low disease activity\", \"moderate disease activity\", \"high disease activity\"))"
     ]
    }
   ],
   "source": [
    "CDAI_cat <- cut(CDAI, breaks = c(0.0, 2.8, 10, 22, 76), labels = c(\"remission\", \"low disease activity\", \"moderate disease activity\", \"high disease activity\"))\n",
    "summary(CDAI_cat)"
   ]
  },
  {
   "cell_type": "code",
   "execution_count": null,
   "id": "ec5e281b",
   "metadata": {},
   "outputs": [],
   "source": []
  },
  {
   "cell_type": "code",
   "execution_count": null,
   "id": "05aa02ab",
   "metadata": {},
   "outputs": [],
   "source": []
  },
  {
   "cell_type": "code",
   "execution_count": null,
   "id": "57fbd059",
   "metadata": {},
   "outputs": [],
   "source": []
  },
  {
   "cell_type": "code",
   "execution_count": null,
   "id": "22cd9dc3",
   "metadata": {},
   "outputs": [],
   "source": []
  },
  {
   "cell_type": "code",
   "execution_count": null,
   "id": "e32c2451",
   "metadata": {},
   "outputs": [],
   "source": []
  },
  {
   "cell_type": "code",
   "execution_count": null,
   "id": "9955beb8",
   "metadata": {},
   "outputs": [],
   "source": [
    "### in python"
   ]
  },
  {
   "cell_type": "code",
   "execution_count": null,
   "id": "20d6f319",
   "metadata": {},
   "outputs": [],
   "source": [
    "import os\n",
    "import pandas as pd\n",
    "\n",
    "Bcell_eqtl_file = fvf\n",
    "Bcell_eqtl = pd.read_csv(Bcell_eqtl_file, index_col = 0)\n",
    "genes = Bcell_eqtl[Bcell_eqtl['chrom']==int(arg[\"chrom\"])]['feature'].unique()\n",
    "\n",
    "gene_name = genes[arg[\"i\"]]\n",
    "\n",
    "folder = mydir + \"CRM_interaction/Bcells_Bcell_eQTLs/\"\n",
    "outfilename = f\"{folder}{gene_name}.tsv\"\n",
    "print(outfilename)\n",
    "\n",
    "if os.path.exists(outfilename):\n",
    "    print(\"File already exists, exiting\")\n",
    "    sys.exit()"
   ]
  },
  {
   "cell_type": "code",
   "execution_count": 12,
   "id": "eaf3aea9",
   "metadata": {},
   "outputs": [],
   "source": [
    "### in qsub: "
   ]
  },
  {
   "cell_type": "code",
   "execution_count": null,
   "id": "6e29436c",
   "metadata": {},
   "outputs": [],
   "source": [
    "OUTPUT_DIR=folder"
   ]
  },
  {
   "cell_type": "code",
   "execution_count": null,
   "id": "1f1f940a",
   "metadata": {},
   "outputs": [],
   "source": [
    "# so this opens the file,\n",
    "# then using awk specifies it is comma \",\" separated, then selects rows where the 4th column is = 22\n",
    "# then using sed selects the \"1\"st row\n",
    "# then awk again (again \",\" separated) to select the second column only (gene name)\n",
    "cat fvf | awk -F ',' '$4==22' | sed -n 1p | awk -F \",\" '{print $2}'"
   ]
  },
  {
   "cell_type": "code",
   "execution_count": null,
   "id": "8695e407",
   "metadata": {},
   "outputs": [],
   "source": [
    "## next: figure out how to incorporate $i instead of 1, $chr instead of 22\n",
    "## use the name of the column (\"chrom\") instead of the number (4th)\n",
    "## select only the gene name (\"feature\", or 2nd column) - done (again with $2, not the name of the column)"
   ]
  },
  {
   "cell_type": "code",
   "execution_count": null,
   "id": "b1cf1c93",
   "metadata": {},
   "outputs": [],
   "source": [
    "cat fvf | awk -F ',' '$4==${chr}' | sed -n ${i}p | awk -F \",\" '{print $2}'"
   ]
  },
  {
   "cell_type": "code",
   "execution_count": null,
   "id": "56a884e4",
   "metadata": {},
   "outputs": [],
   "source": []
  },
  {
   "cell_type": "code",
   "execution_count": null,
   "id": "1832a8ef",
   "metadata": {},
   "outputs": [],
   "source": [
    "### edit this to \n",
    "## sub-select fvf file to correct chromosome\n",
    "## get i^th gene\n",
    "GENE=$(sed -n ${i}p \"$GENE_FILE\") # Get the gene listed on i^th line in \"$GENE_FILE\""
   ]
  },
  {
   "cell_type": "code",
   "execution_count": null,
   "id": "0d0cbdf1",
   "metadata": {},
   "outputs": [],
   "source": [
    "OUTPUT_FILE=${OUTPUT_DIR}/${GENE}.tsv # Expected output filename"
   ]
  },
  {
   "cell_type": "code",
   "execution_count": null,
   "id": "2085f39c",
   "metadata": {},
   "outputs": [],
   "source": [
    "py_script=$SGE_O_WORKDIR/run_interaction_Bcells_one_gene.py"
   ]
  },
  {
   "cell_type": "code",
   "execution_count": null,
   "id": "cdf2f5d3",
   "metadata": {},
   "outputs": [],
   "source": []
  },
  {
   "cell_type": "code",
   "execution_count": null,
   "id": "2fefadbc",
   "metadata": {},
   "outputs": [],
   "source": []
  },
  {
   "cell_type": "code",
   "execution_count": null,
   "id": "6b74f955",
   "metadata": {},
   "outputs": [],
   "source": []
  },
  {
   "cell_type": "code",
   "execution_count": null,
   "id": "0bee402b",
   "metadata": {},
   "outputs": [],
   "source": []
  },
  {
   "cell_type": "code",
   "execution_count": null,
   "id": "fcc06fc9",
   "metadata": {},
   "outputs": [],
   "source": []
  },
  {
   "cell_type": "code",
   "execution_count": null,
   "id": "f02ca3db",
   "metadata": {},
   "outputs": [],
   "source": []
  },
  {
   "cell_type": "code",
   "execution_count": null,
   "id": "bfa52afe",
   "metadata": {},
   "outputs": [],
   "source": [
    "if [ ! -f \"$OUTPUT_FILE\" ] # This asks, \"If this file doesn't exist\"\n",
    "then \n",
    "python $py_script $chrom $i # Run python script\n",
    "fi"
   ]
  },
  {
   "cell_type": "code",
   "execution_count": null,
   "id": "79e778d5",
   "metadata": {},
   "outputs": [],
   "source": []
  },
  {
   "cell_type": "code",
   "execution_count": null,
   "id": "38f85840",
   "metadata": {},
   "outputs": [],
   "source": []
  },
  {
   "cell_type": "code",
   "execution_count": null,
   "id": "d745b08e",
   "metadata": {},
   "outputs": [],
   "source": []
  },
  {
   "cell_type": "code",
   "execution_count": null,
   "id": "ec34b944",
   "metadata": {},
   "outputs": [],
   "source": []
  },
  {
   "cell_type": "code",
   "execution_count": null,
   "id": "196dfd7c",
   "metadata": {},
   "outputs": [],
   "source": []
  },
  {
   "cell_type": "code",
   "execution_count": null,
   "id": "9f51fafa",
   "metadata": {},
   "outputs": [],
   "source": []
  },
  {
   "cell_type": "code",
   "execution_count": null,
   "id": "fe3e5811",
   "metadata": {},
   "outputs": [],
   "source": []
  },
  {
   "cell_type": "code",
   "execution_count": 307,
   "id": "8523b908",
   "metadata": {},
   "outputs": [
    {
     "name": "stderr",
     "output_type": "stream",
     "text": [
      "Updating HTML index of packages in '.Library'\n",
      "\n",
      "Making 'packages.html' ...\n",
      " done\n",
      "\n"
     ]
    }
   ],
   "source": [
    "install.packages(\"ggthemes\")"
   ]
  },
  {
   "cell_type": "code",
   "execution_count": 306,
   "id": "4d1c8ab0",
   "metadata": {},
   "outputs": [
    {
     "ename": "ERROR",
     "evalue": "Error in library(ggthemes): there is no package called ‘ggthemes’\n",
     "output_type": "error",
     "traceback": [
      "Error in library(ggthemes): there is no package called ‘ggthemes’\nTraceback:\n",
      "1. library(ggthemes)"
     ]
    }
   ],
   "source": [
    "library(ggthemes)\n",
    "\n",
    "# for alternative palettes, try:\n",
    "require(\"scales\")\n",
    "for (i in 1:length(names(canva_palettes))){\n",
    "    print(show_col(canva_pal(names(canva_palettes)[i])(4)))   \n",
    "    print(names(canva_palettes)[i])\n",
    "}"
   ]
  },
  {
   "cell_type": "code",
   "execution_count": null,
   "id": "c2b755db",
   "metadata": {},
   "outputs": [],
   "source": []
  },
  {
   "cell_type": "code",
   "execution_count": null,
   "id": "115a5bbf",
   "metadata": {},
   "outputs": [],
   "source": []
  },
  {
   "cell_type": "code",
   "execution_count": null,
   "id": "be291250",
   "metadata": {},
   "outputs": [],
   "source": []
  }
 ],
 "metadata": {
  "kernelspec": {
   "display_name": "Single Cell Notebook (R 4.1.2)",
   "language": "R",
   "name": "singlecell"
  },
  "language_info": {
   "codemirror_mode": "r",
   "file_extension": ".r",
   "mimetype": "text/x-r-source",
   "name": "R",
   "pygments_lexer": "r",
   "version": "4.1.2"
  }
 },
 "nbformat": 4,
 "nbformat_minor": 5
}
