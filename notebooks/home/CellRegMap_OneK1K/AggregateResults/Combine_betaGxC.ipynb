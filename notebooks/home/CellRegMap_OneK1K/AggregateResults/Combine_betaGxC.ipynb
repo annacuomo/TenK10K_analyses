{
 "cells": [
  {
   "cell_type": "code",
   "execution_count": 26,
   "id": "bef10181",
   "metadata": {},
   "outputs": [],
   "source": [
    "mydir = \"/share/ScratchGeneral/anncuo/OneK1K/CRM_interaction/Monocytes_Mono_eQTLs/sex_interactions/betas/\"\n",
    "mydir = \"/share/ScratchGeneral/anncuo/OneK1K/CRM_interaction/Bcells_noplasma_Bcell_eQTLs/betas/\""
   ]
  },
  {
   "cell_type": "code",
   "execution_count": 27,
   "id": "fa6de1cb",
   "metadata": {},
   "outputs": [
    {
     "data": {
      "text/html": [
       "314"
      ],
      "text/latex": [
       "314"
      ],
      "text/markdown": [
       "314"
      ],
      "text/plain": [
       "[1] 314"
      ]
     },
     "metadata": {},
     "output_type": "display_data"
    },
    {
     "data": {
      "text/html": [
       "<style>\n",
       ".list-inline {list-style: none; margin:0; padding: 0}\n",
       ".list-inline>li {display: inline-block}\n",
       ".list-inline>li:not(:last-child)::after {content: \"\\00b7\"; padding: 0 .5ex}\n",
       "</style>\n",
       "<ol class=list-inline><li>'ABRACL_betaGxC.csv'</li><li>'AC006129.4_betaGxC.csv'</li><li>'AC006369.2_betaGxC.csv'</li><li>'AC023590.1_betaGxC.csv'</li><li>'AC079767.4_betaGxC.csv'</li><li>'ACTG1_betaGxC.csv'</li></ol>\n"
      ],
      "text/latex": [
       "\\begin{enumerate*}\n",
       "\\item 'ABRACL\\_betaGxC.csv'\n",
       "\\item 'AC006129.4\\_betaGxC.csv'\n",
       "\\item 'AC006369.2\\_betaGxC.csv'\n",
       "\\item 'AC023590.1\\_betaGxC.csv'\n",
       "\\item 'AC079767.4\\_betaGxC.csv'\n",
       "\\item 'ACTG1\\_betaGxC.csv'\n",
       "\\end{enumerate*}\n"
      ],
      "text/markdown": [
       "1. 'ABRACL_betaGxC.csv'\n",
       "2. 'AC006129.4_betaGxC.csv'\n",
       "3. 'AC006369.2_betaGxC.csv'\n",
       "4. 'AC023590.1_betaGxC.csv'\n",
       "5. 'AC079767.4_betaGxC.csv'\n",
       "6. 'ACTG1_betaGxC.csv'\n",
       "\n",
       "\n"
      ],
      "text/plain": [
       "[1] \"ABRACL_betaGxC.csv\"     \"AC006129.4_betaGxC.csv\" \"AC006369.2_betaGxC.csv\"\n",
       "[4] \"AC023590.1_betaGxC.csv\" \"AC079767.4_betaGxC.csv\" \"ACTG1_betaGxC.csv\"     "
      ]
     },
     "metadata": {},
     "output_type": "display_data"
    }
   ],
   "source": [
    "mygenes = list.files(mydir,pattern = \"betaGxC.csv\")\n",
    "length(mygenes)\n",
    "head(mygenes)"
   ]
  },
  {
   "cell_type": "code",
   "execution_count": 28,
   "id": "27a7bac1",
   "metadata": {},
   "outputs": [
    {
     "data": {
      "text/html": [
       "314"
      ],
      "text/latex": [
       "314"
      ],
      "text/markdown": [
       "314"
      ],
      "text/plain": [
       "[1] 314"
      ]
     },
     "metadata": {},
     "output_type": "display_data"
    },
    {
     "data": {
      "text/html": [
       "<style>\n",
       ".list-inline {list-style: none; margin:0; padding: 0}\n",
       ".list-inline>li {display: inline-block}\n",
       ".list-inline>li:not(:last-child)::after {content: \"\\00b7\"; padding: 0 .5ex}\n",
       "</style>\n",
       "<ol class=list-inline><li>'ABRACL_betaG.csv'</li><li>'AC006129.4_betaG.csv'</li><li>'AC006369.2_betaG.csv'</li><li>'AC023590.1_betaG.csv'</li><li>'AC079767.4_betaG.csv'</li><li>'ACTG1_betaG.csv'</li></ol>\n"
      ],
      "text/latex": [
       "\\begin{enumerate*}\n",
       "\\item 'ABRACL\\_betaG.csv'\n",
       "\\item 'AC006129.4\\_betaG.csv'\n",
       "\\item 'AC006369.2\\_betaG.csv'\n",
       "\\item 'AC023590.1\\_betaG.csv'\n",
       "\\item 'AC079767.4\\_betaG.csv'\n",
       "\\item 'ACTG1\\_betaG.csv'\n",
       "\\end{enumerate*}\n"
      ],
      "text/markdown": [
       "1. 'ABRACL_betaG.csv'\n",
       "2. 'AC006129.4_betaG.csv'\n",
       "3. 'AC006369.2_betaG.csv'\n",
       "4. 'AC023590.1_betaG.csv'\n",
       "5. 'AC079767.4_betaG.csv'\n",
       "6. 'ACTG1_betaG.csv'\n",
       "\n",
       "\n"
      ],
      "text/plain": [
       "[1] \"ABRACL_betaG.csv\"     \"AC006129.4_betaG.csv\" \"AC006369.2_betaG.csv\"\n",
       "[4] \"AC023590.1_betaG.csv\" \"AC079767.4_betaG.csv\" \"ACTG1_betaG.csv\"     "
      ]
     },
     "metadata": {},
     "output_type": "display_data"
    }
   ],
   "source": [
    "mygenes0 = list.files(mydir,pattern = \"betaG.csv\")\n",
    "length(mygenes0)\n",
    "head(mygenes0)"
   ]
  },
  {
   "cell_type": "code",
   "execution_count": null,
   "id": "64478b5c",
   "metadata": {},
   "outputs": [],
   "source": []
  },
  {
   "cell_type": "code",
   "execution_count": 29,
   "id": "8e6c6167",
   "metadata": {},
   "outputs": [
    {
     "data": {
      "text/html": [
       "130091"
      ],
      "text/latex": [
       "130091"
      ],
      "text/markdown": [
       "130091"
      ],
      "text/plain": [
       "[1] 130091"
      ]
     },
     "metadata": {},
     "output_type": "display_data"
    }
   ],
   "source": [
    "## getting cells\n",
    "\n",
    "gene = mygenes[1]\n",
    "df0 = read.csv(paste0(mydir,gene),row.names = 1)\n",
    "cells = rownames(df0)\n",
    "length(cells)"
   ]
  },
  {
   "cell_type": "code",
   "execution_count": 30,
   "id": "ef722a1e",
   "metadata": {},
   "outputs": [
    {
     "data": {
      "text/html": [
       "130091"
      ],
      "text/latex": [
       "130091"
      ],
      "text/markdown": [
       "130091"
      ],
      "text/plain": [
       "[1] 130091"
      ]
     },
     "metadata": {},
     "output_type": "display_data"
    },
    {
     "data": {
      "text/html": [
       "623"
      ],
      "text/latex": [
       "623"
      ],
      "text/markdown": [
       "623"
      ],
      "text/plain": [
       "[1] 623"
      ]
     },
     "metadata": {},
     "output_type": "display_data"
    },
    {
     "data": {
      "text/html": [
       "<table class=\"dataframe\">\n",
       "<caption>A data.frame: 6 × 623</caption>\n",
       "<thead>\n",
       "\t<tr><th></th><th scope=col>cells</th><th scope=col>ABRACL-6:139343892</th><th scope=col>AC006129.4-19:42049821</th><th scope=col>AC006369.2-2:37836063</th><th scope=col>AC023590.1-8:119629454</th><th scope=col>AC079767.4-2:208526245</th><th scope=col>ACTG1-17:79478019</th><th scope=col>ADAM19-5:156877604</th><th scope=col>AK8-9:135624197</th><th scope=col>ANK1-8:41450296</th><th scope=col>⋯</th><th scope=col>VAV3-AS1-1:108539269</th><th scope=col>WARS-14:100795338</th><th scope=col>XRCC6BP1-12:58350631</th><th scope=col>YBEY-21:47726332</th><th scope=col>YEATS4-12:69752509</th><th scope=col>YWHAH-22:32335416</th><th scope=col>ZFAND6-15:80326551</th><th scope=col>ZNF593-1:26511700</th><th scope=col>ZNF667-AS1-19:57007648</th><th scope=col>ZNF85-19:21129736</th></tr>\n",
       "\t<tr><th></th><th scope=col>&lt;chr&gt;</th><th scope=col>&lt;dbl&gt;</th><th scope=col>&lt;dbl&gt;</th><th scope=col>&lt;dbl&gt;</th><th scope=col>&lt;dbl&gt;</th><th scope=col>&lt;dbl&gt;</th><th scope=col>&lt;dbl&gt;</th><th scope=col>&lt;dbl&gt;</th><th scope=col>&lt;dbl&gt;</th><th scope=col>&lt;dbl&gt;</th><th scope=col>⋯</th><th scope=col>&lt;dbl&gt;</th><th scope=col>&lt;dbl&gt;</th><th scope=col>&lt;dbl&gt;</th><th scope=col>&lt;dbl&gt;</th><th scope=col>&lt;dbl&gt;</th><th scope=col>&lt;dbl&gt;</th><th scope=col>&lt;dbl&gt;</th><th scope=col>&lt;dbl&gt;</th><th scope=col>&lt;dbl&gt;</th><th scope=col>&lt;dbl&gt;</th></tr>\n",
       "</thead>\n",
       "<tbody>\n",
       "\t<tr><th scope=row>AAACCTGCAACGATCT-1</th><td>AAACCTGCAACGATCT-1</td><td>0.061712354</td><td> 0.050537570</td><td>-0.016132664</td><td>0.004937832</td><td> 0.02439370</td><td>0</td><td>-0.07672251</td><td> 0.014528988</td><td>0.056570524</td><td>⋯</td><td>-0.05546640</td><td>-0.11664763</td><td>0.009155975</td><td>0.07092236</td><td> 0.0005787898</td><td>-0.013768123</td><td>-0.04642577</td><td>0.01031780</td><td>-0.049088652</td><td>-0.08650350</td></tr>\n",
       "\t<tr><th scope=row>AAACCTGGTCAGAATA-1</th><td>AAACCTGGTCAGAATA-1</td><td>0.008588659</td><td>-0.002522843</td><td> 0.008696830</td><td>0.059610114</td><td>-0.04599086</td><td>0</td><td>-0.05372869</td><td>-0.007017753</td><td>0.020510684</td><td>⋯</td><td>-0.02504053</td><td>-0.09393499</td><td>0.012921186</td><td>0.06739819</td><td>-0.0008368470</td><td>-0.022217184</td><td>-0.03841278</td><td>0.02428982</td><td>-0.015515351</td><td>-0.08247419</td></tr>\n",
       "\t<tr><th scope=row>AAACGGGAGCGTCAAG-1</th><td>AAACGGGAGCGTCAAG-1</td><td>0.009808458</td><td> 0.039309454</td><td> 0.002634424</td><td>0.045929443</td><td>-0.19478761</td><td>0</td><td>-0.01856929</td><td>-0.004685472</td><td>0.021044409</td><td>⋯</td><td>-0.03139098</td><td>-0.10408677</td><td>0.012238565</td><td>0.04684836</td><td> 0.0090758693</td><td>-0.015366439</td><td>-0.03971418</td><td>0.02165891</td><td>-0.023536330</td><td>-0.08729246</td></tr>\n",
       "\t<tr><th scope=row>AAACGGGAGGGAACGG-1</th><td>AAACGGGAGGGAACGG-1</td><td>0.019251255</td><td> 0.033133029</td><td> 0.002147453</td><td>0.020243975</td><td>-0.05173635</td><td>0</td><td>-0.09416864</td><td>-0.012263041</td><td>0.001124735</td><td>⋯</td><td>-0.02783302</td><td>-0.06228968</td><td>0.002967137</td><td>0.06944189</td><td> 0.0041848094</td><td>-0.008704452</td><td>-0.05134558</td><td>0.02146852</td><td>-0.003551806</td><td>-0.05431807</td></tr>\n",
       "\t<tr><th scope=row>AAACGGGCAGTTCATG-1</th><td>AAACGGGCAGTTCATG-1</td><td>0.050792214</td><td> 0.050145459</td><td>-0.012412132</td><td>0.016831819</td><td>-0.02957438</td><td>0</td><td>-0.07135960</td><td> 0.011830092</td><td>0.049579015</td><td>⋯</td><td>-0.05498542</td><td>-0.11957831</td><td>0.010845900</td><td>0.06853975</td><td> 0.0022551405</td><td>-0.016566676</td><td>-0.04868693</td><td>0.01388919</td><td>-0.046343930</td><td>-0.09086005</td></tr>\n",
       "\t<tr><th scope=row>AAACGGGGTCCCTACT-1</th><td>AAACGGGGTCCCTACT-1</td><td>0.049811253</td><td> 0.051434355</td><td>-0.011282426</td><td>0.040475750</td><td>-0.01988800</td><td>0</td><td>-0.04452096</td><td>-0.003745901</td><td>0.058618727</td><td>⋯</td><td>-0.04543131</td><td>-0.12075412</td><td>0.013550849</td><td>0.06917049</td><td> 0.0073789102</td><td>-0.014541721</td><td>-0.04753152</td><td>0.01142087</td><td>-0.042409574</td><td>-0.07934012</td></tr>\n",
       "</tbody>\n",
       "</table>\n"
      ],
      "text/latex": [
       "A data.frame: 6 × 623\n",
       "\\begin{tabular}{r|lllllllllllllllllllll}\n",
       "  & cells & ABRACL-6:139343892 & AC006129.4-19:42049821 & AC006369.2-2:37836063 & AC023590.1-8:119629454 & AC079767.4-2:208526245 & ACTG1-17:79478019 & ADAM19-5:156877604 & AK8-9:135624197 & ANK1-8:41450296 & ⋯ & VAV3-AS1-1:108539269 & WARS-14:100795338 & XRCC6BP1-12:58350631 & YBEY-21:47726332 & YEATS4-12:69752509 & YWHAH-22:32335416 & ZFAND6-15:80326551 & ZNF593-1:26511700 & ZNF667-AS1-19:57007648 & ZNF85-19:21129736\\\\\n",
       "  & <chr> & <dbl> & <dbl> & <dbl> & <dbl> & <dbl> & <dbl> & <dbl> & <dbl> & <dbl> & ⋯ & <dbl> & <dbl> & <dbl> & <dbl> & <dbl> & <dbl> & <dbl> & <dbl> & <dbl> & <dbl>\\\\\n",
       "\\hline\n",
       "\tAAACCTGCAACGATCT-1 & AAACCTGCAACGATCT-1 & 0.061712354 &  0.050537570 & -0.016132664 & 0.004937832 &  0.02439370 & 0 & -0.07672251 &  0.014528988 & 0.056570524 & ⋯ & -0.05546640 & -0.11664763 & 0.009155975 & 0.07092236 &  0.0005787898 & -0.013768123 & -0.04642577 & 0.01031780 & -0.049088652 & -0.08650350\\\\\n",
       "\tAAACCTGGTCAGAATA-1 & AAACCTGGTCAGAATA-1 & 0.008588659 & -0.002522843 &  0.008696830 & 0.059610114 & -0.04599086 & 0 & -0.05372869 & -0.007017753 & 0.020510684 & ⋯ & -0.02504053 & -0.09393499 & 0.012921186 & 0.06739819 & -0.0008368470 & -0.022217184 & -0.03841278 & 0.02428982 & -0.015515351 & -0.08247419\\\\\n",
       "\tAAACGGGAGCGTCAAG-1 & AAACGGGAGCGTCAAG-1 & 0.009808458 &  0.039309454 &  0.002634424 & 0.045929443 & -0.19478761 & 0 & -0.01856929 & -0.004685472 & 0.021044409 & ⋯ & -0.03139098 & -0.10408677 & 0.012238565 & 0.04684836 &  0.0090758693 & -0.015366439 & -0.03971418 & 0.02165891 & -0.023536330 & -0.08729246\\\\\n",
       "\tAAACGGGAGGGAACGG-1 & AAACGGGAGGGAACGG-1 & 0.019251255 &  0.033133029 &  0.002147453 & 0.020243975 & -0.05173635 & 0 & -0.09416864 & -0.012263041 & 0.001124735 & ⋯ & -0.02783302 & -0.06228968 & 0.002967137 & 0.06944189 &  0.0041848094 & -0.008704452 & -0.05134558 & 0.02146852 & -0.003551806 & -0.05431807\\\\\n",
       "\tAAACGGGCAGTTCATG-1 & AAACGGGCAGTTCATG-1 & 0.050792214 &  0.050145459 & -0.012412132 & 0.016831819 & -0.02957438 & 0 & -0.07135960 &  0.011830092 & 0.049579015 & ⋯ & -0.05498542 & -0.11957831 & 0.010845900 & 0.06853975 &  0.0022551405 & -0.016566676 & -0.04868693 & 0.01388919 & -0.046343930 & -0.09086005\\\\\n",
       "\tAAACGGGGTCCCTACT-1 & AAACGGGGTCCCTACT-1 & 0.049811253 &  0.051434355 & -0.011282426 & 0.040475750 & -0.01988800 & 0 & -0.04452096 & -0.003745901 & 0.058618727 & ⋯ & -0.04543131 & -0.12075412 & 0.013550849 & 0.06917049 &  0.0073789102 & -0.014541721 & -0.04753152 & 0.01142087 & -0.042409574 & -0.07934012\\\\\n",
       "\\end{tabular}\n"
      ],
      "text/markdown": [
       "\n",
       "A data.frame: 6 × 623\n",
       "\n",
       "| <!--/--> | cells &lt;chr&gt; | ABRACL-6:139343892 &lt;dbl&gt; | AC006129.4-19:42049821 &lt;dbl&gt; | AC006369.2-2:37836063 &lt;dbl&gt; | AC023590.1-8:119629454 &lt;dbl&gt; | AC079767.4-2:208526245 &lt;dbl&gt; | ACTG1-17:79478019 &lt;dbl&gt; | ADAM19-5:156877604 &lt;dbl&gt; | AK8-9:135624197 &lt;dbl&gt; | ANK1-8:41450296 &lt;dbl&gt; | ⋯ ⋯ | VAV3-AS1-1:108539269 &lt;dbl&gt; | WARS-14:100795338 &lt;dbl&gt; | XRCC6BP1-12:58350631 &lt;dbl&gt; | YBEY-21:47726332 &lt;dbl&gt; | YEATS4-12:69752509 &lt;dbl&gt; | YWHAH-22:32335416 &lt;dbl&gt; | ZFAND6-15:80326551 &lt;dbl&gt; | ZNF593-1:26511700 &lt;dbl&gt; | ZNF667-AS1-19:57007648 &lt;dbl&gt; | ZNF85-19:21129736 &lt;dbl&gt; |\n",
       "|---|---|---|---|---|---|---|---|---|---|---|---|---|---|---|---|---|---|---|---|---|---|\n",
       "| AAACCTGCAACGATCT-1 | AAACCTGCAACGATCT-1 | 0.061712354 |  0.050537570 | -0.016132664 | 0.004937832 |  0.02439370 | 0 | -0.07672251 |  0.014528988 | 0.056570524 | ⋯ | -0.05546640 | -0.11664763 | 0.009155975 | 0.07092236 |  0.0005787898 | -0.013768123 | -0.04642577 | 0.01031780 | -0.049088652 | -0.08650350 |\n",
       "| AAACCTGGTCAGAATA-1 | AAACCTGGTCAGAATA-1 | 0.008588659 | -0.002522843 |  0.008696830 | 0.059610114 | -0.04599086 | 0 | -0.05372869 | -0.007017753 | 0.020510684 | ⋯ | -0.02504053 | -0.09393499 | 0.012921186 | 0.06739819 | -0.0008368470 | -0.022217184 | -0.03841278 | 0.02428982 | -0.015515351 | -0.08247419 |\n",
       "| AAACGGGAGCGTCAAG-1 | AAACGGGAGCGTCAAG-1 | 0.009808458 |  0.039309454 |  0.002634424 | 0.045929443 | -0.19478761 | 0 | -0.01856929 | -0.004685472 | 0.021044409 | ⋯ | -0.03139098 | -0.10408677 | 0.012238565 | 0.04684836 |  0.0090758693 | -0.015366439 | -0.03971418 | 0.02165891 | -0.023536330 | -0.08729246 |\n",
       "| AAACGGGAGGGAACGG-1 | AAACGGGAGGGAACGG-1 | 0.019251255 |  0.033133029 |  0.002147453 | 0.020243975 | -0.05173635 | 0 | -0.09416864 | -0.012263041 | 0.001124735 | ⋯ | -0.02783302 | -0.06228968 | 0.002967137 | 0.06944189 |  0.0041848094 | -0.008704452 | -0.05134558 | 0.02146852 | -0.003551806 | -0.05431807 |\n",
       "| AAACGGGCAGTTCATG-1 | AAACGGGCAGTTCATG-1 | 0.050792214 |  0.050145459 | -0.012412132 | 0.016831819 | -0.02957438 | 0 | -0.07135960 |  0.011830092 | 0.049579015 | ⋯ | -0.05498542 | -0.11957831 | 0.010845900 | 0.06853975 |  0.0022551405 | -0.016566676 | -0.04868693 | 0.01388919 | -0.046343930 | -0.09086005 |\n",
       "| AAACGGGGTCCCTACT-1 | AAACGGGGTCCCTACT-1 | 0.049811253 |  0.051434355 | -0.011282426 | 0.040475750 | -0.01988800 | 0 | -0.04452096 | -0.003745901 | 0.058618727 | ⋯ | -0.04543131 | -0.12075412 | 0.013550849 | 0.06917049 |  0.0073789102 | -0.014541721 | -0.04753152 | 0.01142087 | -0.042409574 | -0.07934012 |\n",
       "\n"
      ],
      "text/plain": [
       "                   cells              ABRACL-6:139343892 AC006129.4-19:42049821\n",
       "AAACCTGCAACGATCT-1 AAACCTGCAACGATCT-1 0.061712354         0.050537570          \n",
       "AAACCTGGTCAGAATA-1 AAACCTGGTCAGAATA-1 0.008588659        -0.002522843          \n",
       "AAACGGGAGCGTCAAG-1 AAACGGGAGCGTCAAG-1 0.009808458         0.039309454          \n",
       "AAACGGGAGGGAACGG-1 AAACGGGAGGGAACGG-1 0.019251255         0.033133029          \n",
       "AAACGGGCAGTTCATG-1 AAACGGGCAGTTCATG-1 0.050792214         0.050145459          \n",
       "AAACGGGGTCCCTACT-1 AAACGGGGTCCCTACT-1 0.049811253         0.051434355          \n",
       "                   AC006369.2-2:37836063 AC023590.1-8:119629454\n",
       "AAACCTGCAACGATCT-1 -0.016132664          0.004937832           \n",
       "AAACCTGGTCAGAATA-1  0.008696830          0.059610114           \n",
       "AAACGGGAGCGTCAAG-1  0.002634424          0.045929443           \n",
       "AAACGGGAGGGAACGG-1  0.002147453          0.020243975           \n",
       "AAACGGGCAGTTCATG-1 -0.012412132          0.016831819           \n",
       "AAACGGGGTCCCTACT-1 -0.011282426          0.040475750           \n",
       "                   AC079767.4-2:208526245 ACTG1-17:79478019 ADAM19-5:156877604\n",
       "AAACCTGCAACGATCT-1  0.02439370            0                 -0.07672251       \n",
       "AAACCTGGTCAGAATA-1 -0.04599086            0                 -0.05372869       \n",
       "AAACGGGAGCGTCAAG-1 -0.19478761            0                 -0.01856929       \n",
       "AAACGGGAGGGAACGG-1 -0.05173635            0                 -0.09416864       \n",
       "AAACGGGCAGTTCATG-1 -0.02957438            0                 -0.07135960       \n",
       "AAACGGGGTCCCTACT-1 -0.01988800            0                 -0.04452096       \n",
       "                   AK8-9:135624197 ANK1-8:41450296 ⋯ VAV3-AS1-1:108539269\n",
       "AAACCTGCAACGATCT-1  0.014528988    0.056570524     ⋯ -0.05546640         \n",
       "AAACCTGGTCAGAATA-1 -0.007017753    0.020510684     ⋯ -0.02504053         \n",
       "AAACGGGAGCGTCAAG-1 -0.004685472    0.021044409     ⋯ -0.03139098         \n",
       "AAACGGGAGGGAACGG-1 -0.012263041    0.001124735     ⋯ -0.02783302         \n",
       "AAACGGGCAGTTCATG-1  0.011830092    0.049579015     ⋯ -0.05498542         \n",
       "AAACGGGGTCCCTACT-1 -0.003745901    0.058618727     ⋯ -0.04543131         \n",
       "                   WARS-14:100795338 XRCC6BP1-12:58350631 YBEY-21:47726332\n",
       "AAACCTGCAACGATCT-1 -0.11664763       0.009155975          0.07092236      \n",
       "AAACCTGGTCAGAATA-1 -0.09393499       0.012921186          0.06739819      \n",
       "AAACGGGAGCGTCAAG-1 -0.10408677       0.012238565          0.04684836      \n",
       "AAACGGGAGGGAACGG-1 -0.06228968       0.002967137          0.06944189      \n",
       "AAACGGGCAGTTCATG-1 -0.11957831       0.010845900          0.06853975      \n",
       "AAACGGGGTCCCTACT-1 -0.12075412       0.013550849          0.06917049      \n",
       "                   YEATS4-12:69752509 YWHAH-22:32335416 ZFAND6-15:80326551\n",
       "AAACCTGCAACGATCT-1  0.0005787898      -0.013768123      -0.04642577       \n",
       "AAACCTGGTCAGAATA-1 -0.0008368470      -0.022217184      -0.03841278       \n",
       "AAACGGGAGCGTCAAG-1  0.0090758693      -0.015366439      -0.03971418       \n",
       "AAACGGGAGGGAACGG-1  0.0041848094      -0.008704452      -0.05134558       \n",
       "AAACGGGCAGTTCATG-1  0.0022551405      -0.016566676      -0.04868693       \n",
       "AAACGGGGTCCCTACT-1  0.0073789102      -0.014541721      -0.04753152       \n",
       "                   ZNF593-1:26511700 ZNF667-AS1-19:57007648 ZNF85-19:21129736\n",
       "AAACCTGCAACGATCT-1 0.01031780        -0.049088652           -0.08650350      \n",
       "AAACCTGGTCAGAATA-1 0.02428982        -0.015515351           -0.08247419      \n",
       "AAACGGGAGCGTCAAG-1 0.02165891        -0.023536330           -0.08729246      \n",
       "AAACGGGAGGGAACGG-1 0.02146852        -0.003551806           -0.05431807      \n",
       "AAACGGGCAGTTCATG-1 0.01388919        -0.046343930           -0.09086005      \n",
       "AAACGGGGTCCCTACT-1 0.01142087        -0.042409574           -0.07934012      "
      ]
     },
     "metadata": {},
     "output_type": "display_data"
    }
   ],
   "source": [
    "df = data.frame(cells = cells)\n",
    "for (gene in mygenes){\n",
    "#     print(gene)\n",
    "    df_curr = read.csv(paste0(mydir,gene),row.names = 1)\n",
    "    df1 = read.csv(paste0(mydir,gsub(\"betaGxC\",\"betaG\",gene)),row.names = 1)\n",
    "    colnames(df_curr) = df1$variant\n",
    "#     print(head(df_curr))\n",
    "    colnames(df_curr) = paste0(gsub(\"_betaGxC.csv\",\"\",gene),\"-\",colnames(df_curr))\n",
    "    df = cbind(df, df_curr)\n",
    "}\n",
    "nrow(df)\n",
    "ncol(df)\n",
    "head(df)"
   ]
  },
  {
   "cell_type": "code",
   "execution_count": 31,
   "id": "1ad3a50b",
   "metadata": {},
   "outputs": [
    {
     "data": {
      "text/html": [
       "<table class=\"dataframe\">\n",
       "<caption>A data.frame: 6 × 622</caption>\n",
       "<thead>\n",
       "\t<tr><th></th><th scope=col>ABRACL-6:139343892</th><th scope=col>AC006129.4-19:42049821</th><th scope=col>AC006369.2-2:37836063</th><th scope=col>AC023590.1-8:119629454</th><th scope=col>AC079767.4-2:208526245</th><th scope=col>ACTG1-17:79478019</th><th scope=col>ADAM19-5:156877604</th><th scope=col>AK8-9:135624197</th><th scope=col>ANK1-8:41450296</th><th scope=col>ANKDD1A-15:65176535</th><th scope=col>⋯</th><th scope=col>VAV3-AS1-1:108539269</th><th scope=col>WARS-14:100795338</th><th scope=col>XRCC6BP1-12:58350631</th><th scope=col>YBEY-21:47726332</th><th scope=col>YEATS4-12:69752509</th><th scope=col>YWHAH-22:32335416</th><th scope=col>ZFAND6-15:80326551</th><th scope=col>ZNF593-1:26511700</th><th scope=col>ZNF667-AS1-19:57007648</th><th scope=col>ZNF85-19:21129736</th></tr>\n",
       "\t<tr><th></th><th scope=col>&lt;dbl&gt;</th><th scope=col>&lt;dbl&gt;</th><th scope=col>&lt;dbl&gt;</th><th scope=col>&lt;dbl&gt;</th><th scope=col>&lt;dbl&gt;</th><th scope=col>&lt;dbl&gt;</th><th scope=col>&lt;dbl&gt;</th><th scope=col>&lt;dbl&gt;</th><th scope=col>&lt;dbl&gt;</th><th scope=col>&lt;dbl&gt;</th><th scope=col>⋯</th><th scope=col>&lt;dbl&gt;</th><th scope=col>&lt;dbl&gt;</th><th scope=col>&lt;dbl&gt;</th><th scope=col>&lt;dbl&gt;</th><th scope=col>&lt;dbl&gt;</th><th scope=col>&lt;dbl&gt;</th><th scope=col>&lt;dbl&gt;</th><th scope=col>&lt;dbl&gt;</th><th scope=col>&lt;dbl&gt;</th><th scope=col>&lt;dbl&gt;</th></tr>\n",
       "</thead>\n",
       "<tbody>\n",
       "\t<tr><th scope=row>AAACCTGCAACGATCT-1</th><td>0.061712354</td><td> 0.050537570</td><td>-0.016132664</td><td>0.004937832</td><td> 0.02439370</td><td>0</td><td>-0.07672251</td><td> 0.014528988</td><td>0.056570524</td><td>0.013606847</td><td>⋯</td><td>-0.05546640</td><td>-0.11664763</td><td>0.009155975</td><td>0.07092236</td><td> 0.0005787898</td><td>-0.013768123</td><td>-0.04642577</td><td>0.01031780</td><td>-0.049088652</td><td>-0.08650350</td></tr>\n",
       "\t<tr><th scope=row>AAACCTGGTCAGAATA-1</th><td>0.008588659</td><td>-0.002522843</td><td> 0.008696830</td><td>0.059610114</td><td>-0.04599086</td><td>0</td><td>-0.05372869</td><td>-0.007017753</td><td>0.020510684</td><td>0.006408504</td><td>⋯</td><td>-0.02504053</td><td>-0.09393499</td><td>0.012921186</td><td>0.06739819</td><td>-0.0008368470</td><td>-0.022217184</td><td>-0.03841278</td><td>0.02428982</td><td>-0.015515351</td><td>-0.08247419</td></tr>\n",
       "\t<tr><th scope=row>AAACGGGAGCGTCAAG-1</th><td>0.009808458</td><td> 0.039309454</td><td> 0.002634424</td><td>0.045929443</td><td>-0.19478761</td><td>0</td><td>-0.01856929</td><td>-0.004685472</td><td>0.021044409</td><td>0.016331507</td><td>⋯</td><td>-0.03139098</td><td>-0.10408677</td><td>0.012238565</td><td>0.04684836</td><td> 0.0090758693</td><td>-0.015366439</td><td>-0.03971418</td><td>0.02165891</td><td>-0.023536330</td><td>-0.08729246</td></tr>\n",
       "\t<tr><th scope=row>AAACGGGAGGGAACGG-1</th><td>0.019251255</td><td> 0.033133029</td><td> 0.002147453</td><td>0.020243975</td><td>-0.05173635</td><td>0</td><td>-0.09416864</td><td>-0.012263041</td><td>0.001124735</td><td>0.003375088</td><td>⋯</td><td>-0.02783302</td><td>-0.06228968</td><td>0.002967137</td><td>0.06944189</td><td> 0.0041848094</td><td>-0.008704452</td><td>-0.05134558</td><td>0.02146852</td><td>-0.003551806</td><td>-0.05431807</td></tr>\n",
       "\t<tr><th scope=row>AAACGGGCAGTTCATG-1</th><td>0.050792214</td><td> 0.050145459</td><td>-0.012412132</td><td>0.016831819</td><td>-0.02957438</td><td>0</td><td>-0.07135960</td><td> 0.011830092</td><td>0.049579015</td><td>0.014094971</td><td>⋯</td><td>-0.05498542</td><td>-0.11957831</td><td>0.010845900</td><td>0.06853975</td><td> 0.0022551405</td><td>-0.016566676</td><td>-0.04868693</td><td>0.01388919</td><td>-0.046343930</td><td>-0.09086005</td></tr>\n",
       "\t<tr><th scope=row>AAACGGGGTCCCTACT-1</th><td>0.049811253</td><td> 0.051434355</td><td>-0.011282426</td><td>0.040475750</td><td>-0.01988800</td><td>0</td><td>-0.04452096</td><td>-0.003745901</td><td>0.058618727</td><td>0.018699665</td><td>⋯</td><td>-0.04543131</td><td>-0.12075412</td><td>0.013550849</td><td>0.06917049</td><td> 0.0073789102</td><td>-0.014541721</td><td>-0.04753152</td><td>0.01142087</td><td>-0.042409574</td><td>-0.07934012</td></tr>\n",
       "</tbody>\n",
       "</table>\n"
      ],
      "text/latex": [
       "A data.frame: 6 × 622\n",
       "\\begin{tabular}{r|lllllllllllllllllllll}\n",
       "  & ABRACL-6:139343892 & AC006129.4-19:42049821 & AC006369.2-2:37836063 & AC023590.1-8:119629454 & AC079767.4-2:208526245 & ACTG1-17:79478019 & ADAM19-5:156877604 & AK8-9:135624197 & ANK1-8:41450296 & ANKDD1A-15:65176535 & ⋯ & VAV3-AS1-1:108539269 & WARS-14:100795338 & XRCC6BP1-12:58350631 & YBEY-21:47726332 & YEATS4-12:69752509 & YWHAH-22:32335416 & ZFAND6-15:80326551 & ZNF593-1:26511700 & ZNF667-AS1-19:57007648 & ZNF85-19:21129736\\\\\n",
       "  & <dbl> & <dbl> & <dbl> & <dbl> & <dbl> & <dbl> & <dbl> & <dbl> & <dbl> & <dbl> & ⋯ & <dbl> & <dbl> & <dbl> & <dbl> & <dbl> & <dbl> & <dbl> & <dbl> & <dbl> & <dbl>\\\\\n",
       "\\hline\n",
       "\tAAACCTGCAACGATCT-1 & 0.061712354 &  0.050537570 & -0.016132664 & 0.004937832 &  0.02439370 & 0 & -0.07672251 &  0.014528988 & 0.056570524 & 0.013606847 & ⋯ & -0.05546640 & -0.11664763 & 0.009155975 & 0.07092236 &  0.0005787898 & -0.013768123 & -0.04642577 & 0.01031780 & -0.049088652 & -0.08650350\\\\\n",
       "\tAAACCTGGTCAGAATA-1 & 0.008588659 & -0.002522843 &  0.008696830 & 0.059610114 & -0.04599086 & 0 & -0.05372869 & -0.007017753 & 0.020510684 & 0.006408504 & ⋯ & -0.02504053 & -0.09393499 & 0.012921186 & 0.06739819 & -0.0008368470 & -0.022217184 & -0.03841278 & 0.02428982 & -0.015515351 & -0.08247419\\\\\n",
       "\tAAACGGGAGCGTCAAG-1 & 0.009808458 &  0.039309454 &  0.002634424 & 0.045929443 & -0.19478761 & 0 & -0.01856929 & -0.004685472 & 0.021044409 & 0.016331507 & ⋯ & -0.03139098 & -0.10408677 & 0.012238565 & 0.04684836 &  0.0090758693 & -0.015366439 & -0.03971418 & 0.02165891 & -0.023536330 & -0.08729246\\\\\n",
       "\tAAACGGGAGGGAACGG-1 & 0.019251255 &  0.033133029 &  0.002147453 & 0.020243975 & -0.05173635 & 0 & -0.09416864 & -0.012263041 & 0.001124735 & 0.003375088 & ⋯ & -0.02783302 & -0.06228968 & 0.002967137 & 0.06944189 &  0.0041848094 & -0.008704452 & -0.05134558 & 0.02146852 & -0.003551806 & -0.05431807\\\\\n",
       "\tAAACGGGCAGTTCATG-1 & 0.050792214 &  0.050145459 & -0.012412132 & 0.016831819 & -0.02957438 & 0 & -0.07135960 &  0.011830092 & 0.049579015 & 0.014094971 & ⋯ & -0.05498542 & -0.11957831 & 0.010845900 & 0.06853975 &  0.0022551405 & -0.016566676 & -0.04868693 & 0.01388919 & -0.046343930 & -0.09086005\\\\\n",
       "\tAAACGGGGTCCCTACT-1 & 0.049811253 &  0.051434355 & -0.011282426 & 0.040475750 & -0.01988800 & 0 & -0.04452096 & -0.003745901 & 0.058618727 & 0.018699665 & ⋯ & -0.04543131 & -0.12075412 & 0.013550849 & 0.06917049 &  0.0073789102 & -0.014541721 & -0.04753152 & 0.01142087 & -0.042409574 & -0.07934012\\\\\n",
       "\\end{tabular}\n"
      ],
      "text/markdown": [
       "\n",
       "A data.frame: 6 × 622\n",
       "\n",
       "| <!--/--> | ABRACL-6:139343892 &lt;dbl&gt; | AC006129.4-19:42049821 &lt;dbl&gt; | AC006369.2-2:37836063 &lt;dbl&gt; | AC023590.1-8:119629454 &lt;dbl&gt; | AC079767.4-2:208526245 &lt;dbl&gt; | ACTG1-17:79478019 &lt;dbl&gt; | ADAM19-5:156877604 &lt;dbl&gt; | AK8-9:135624197 &lt;dbl&gt; | ANK1-8:41450296 &lt;dbl&gt; | ANKDD1A-15:65176535 &lt;dbl&gt; | ⋯ ⋯ | VAV3-AS1-1:108539269 &lt;dbl&gt; | WARS-14:100795338 &lt;dbl&gt; | XRCC6BP1-12:58350631 &lt;dbl&gt; | YBEY-21:47726332 &lt;dbl&gt; | YEATS4-12:69752509 &lt;dbl&gt; | YWHAH-22:32335416 &lt;dbl&gt; | ZFAND6-15:80326551 &lt;dbl&gt; | ZNF593-1:26511700 &lt;dbl&gt; | ZNF667-AS1-19:57007648 &lt;dbl&gt; | ZNF85-19:21129736 &lt;dbl&gt; |\n",
       "|---|---|---|---|---|---|---|---|---|---|---|---|---|---|---|---|---|---|---|---|---|---|\n",
       "| AAACCTGCAACGATCT-1 | 0.061712354 |  0.050537570 | -0.016132664 | 0.004937832 |  0.02439370 | 0 | -0.07672251 |  0.014528988 | 0.056570524 | 0.013606847 | ⋯ | -0.05546640 | -0.11664763 | 0.009155975 | 0.07092236 |  0.0005787898 | -0.013768123 | -0.04642577 | 0.01031780 | -0.049088652 | -0.08650350 |\n",
       "| AAACCTGGTCAGAATA-1 | 0.008588659 | -0.002522843 |  0.008696830 | 0.059610114 | -0.04599086 | 0 | -0.05372869 | -0.007017753 | 0.020510684 | 0.006408504 | ⋯ | -0.02504053 | -0.09393499 | 0.012921186 | 0.06739819 | -0.0008368470 | -0.022217184 | -0.03841278 | 0.02428982 | -0.015515351 | -0.08247419 |\n",
       "| AAACGGGAGCGTCAAG-1 | 0.009808458 |  0.039309454 |  0.002634424 | 0.045929443 | -0.19478761 | 0 | -0.01856929 | -0.004685472 | 0.021044409 | 0.016331507 | ⋯ | -0.03139098 | -0.10408677 | 0.012238565 | 0.04684836 |  0.0090758693 | -0.015366439 | -0.03971418 | 0.02165891 | -0.023536330 | -0.08729246 |\n",
       "| AAACGGGAGGGAACGG-1 | 0.019251255 |  0.033133029 |  0.002147453 | 0.020243975 | -0.05173635 | 0 | -0.09416864 | -0.012263041 | 0.001124735 | 0.003375088 | ⋯ | -0.02783302 | -0.06228968 | 0.002967137 | 0.06944189 |  0.0041848094 | -0.008704452 | -0.05134558 | 0.02146852 | -0.003551806 | -0.05431807 |\n",
       "| AAACGGGCAGTTCATG-1 | 0.050792214 |  0.050145459 | -0.012412132 | 0.016831819 | -0.02957438 | 0 | -0.07135960 |  0.011830092 | 0.049579015 | 0.014094971 | ⋯ | -0.05498542 | -0.11957831 | 0.010845900 | 0.06853975 |  0.0022551405 | -0.016566676 | -0.04868693 | 0.01388919 | -0.046343930 | -0.09086005 |\n",
       "| AAACGGGGTCCCTACT-1 | 0.049811253 |  0.051434355 | -0.011282426 | 0.040475750 | -0.01988800 | 0 | -0.04452096 | -0.003745901 | 0.058618727 | 0.018699665 | ⋯ | -0.04543131 | -0.12075412 | 0.013550849 | 0.06917049 |  0.0073789102 | -0.014541721 | -0.04753152 | 0.01142087 | -0.042409574 | -0.07934012 |\n",
       "\n"
      ],
      "text/plain": [
       "                   ABRACL-6:139343892 AC006129.4-19:42049821\n",
       "AAACCTGCAACGATCT-1 0.061712354         0.050537570          \n",
       "AAACCTGGTCAGAATA-1 0.008588659        -0.002522843          \n",
       "AAACGGGAGCGTCAAG-1 0.009808458         0.039309454          \n",
       "AAACGGGAGGGAACGG-1 0.019251255         0.033133029          \n",
       "AAACGGGCAGTTCATG-1 0.050792214         0.050145459          \n",
       "AAACGGGGTCCCTACT-1 0.049811253         0.051434355          \n",
       "                   AC006369.2-2:37836063 AC023590.1-8:119629454\n",
       "AAACCTGCAACGATCT-1 -0.016132664          0.004937832           \n",
       "AAACCTGGTCAGAATA-1  0.008696830          0.059610114           \n",
       "AAACGGGAGCGTCAAG-1  0.002634424          0.045929443           \n",
       "AAACGGGAGGGAACGG-1  0.002147453          0.020243975           \n",
       "AAACGGGCAGTTCATG-1 -0.012412132          0.016831819           \n",
       "AAACGGGGTCCCTACT-1 -0.011282426          0.040475750           \n",
       "                   AC079767.4-2:208526245 ACTG1-17:79478019 ADAM19-5:156877604\n",
       "AAACCTGCAACGATCT-1  0.02439370            0                 -0.07672251       \n",
       "AAACCTGGTCAGAATA-1 -0.04599086            0                 -0.05372869       \n",
       "AAACGGGAGCGTCAAG-1 -0.19478761            0                 -0.01856929       \n",
       "AAACGGGAGGGAACGG-1 -0.05173635            0                 -0.09416864       \n",
       "AAACGGGCAGTTCATG-1 -0.02957438            0                 -0.07135960       \n",
       "AAACGGGGTCCCTACT-1 -0.01988800            0                 -0.04452096       \n",
       "                   AK8-9:135624197 ANK1-8:41450296 ANKDD1A-15:65176535 ⋯\n",
       "AAACCTGCAACGATCT-1  0.014528988    0.056570524     0.013606847         ⋯\n",
       "AAACCTGGTCAGAATA-1 -0.007017753    0.020510684     0.006408504         ⋯\n",
       "AAACGGGAGCGTCAAG-1 -0.004685472    0.021044409     0.016331507         ⋯\n",
       "AAACGGGAGGGAACGG-1 -0.012263041    0.001124735     0.003375088         ⋯\n",
       "AAACGGGCAGTTCATG-1  0.011830092    0.049579015     0.014094971         ⋯\n",
       "AAACGGGGTCCCTACT-1 -0.003745901    0.058618727     0.018699665         ⋯\n",
       "                   VAV3-AS1-1:108539269 WARS-14:100795338 XRCC6BP1-12:58350631\n",
       "AAACCTGCAACGATCT-1 -0.05546640          -0.11664763       0.009155975         \n",
       "AAACCTGGTCAGAATA-1 -0.02504053          -0.09393499       0.012921186         \n",
       "AAACGGGAGCGTCAAG-1 -0.03139098          -0.10408677       0.012238565         \n",
       "AAACGGGAGGGAACGG-1 -0.02783302          -0.06228968       0.002967137         \n",
       "AAACGGGCAGTTCATG-1 -0.05498542          -0.11957831       0.010845900         \n",
       "AAACGGGGTCCCTACT-1 -0.04543131          -0.12075412       0.013550849         \n",
       "                   YBEY-21:47726332 YEATS4-12:69752509 YWHAH-22:32335416\n",
       "AAACCTGCAACGATCT-1 0.07092236        0.0005787898      -0.013768123     \n",
       "AAACCTGGTCAGAATA-1 0.06739819       -0.0008368470      -0.022217184     \n",
       "AAACGGGAGCGTCAAG-1 0.04684836        0.0090758693      -0.015366439     \n",
       "AAACGGGAGGGAACGG-1 0.06944189        0.0041848094      -0.008704452     \n",
       "AAACGGGCAGTTCATG-1 0.06853975        0.0022551405      -0.016566676     \n",
       "AAACGGGGTCCCTACT-1 0.06917049        0.0073789102      -0.014541721     \n",
       "                   ZFAND6-15:80326551 ZNF593-1:26511700 ZNF667-AS1-19:57007648\n",
       "AAACCTGCAACGATCT-1 -0.04642577        0.01031780        -0.049088652          \n",
       "AAACCTGGTCAGAATA-1 -0.03841278        0.02428982        -0.015515351          \n",
       "AAACGGGAGCGTCAAG-1 -0.03971418        0.02165891        -0.023536330          \n",
       "AAACGGGAGGGAACGG-1 -0.05134558        0.02146852        -0.003551806          \n",
       "AAACGGGCAGTTCATG-1 -0.04868693        0.01388919        -0.046343930          \n",
       "AAACGGGGTCCCTACT-1 -0.04753152        0.01142087        -0.042409574          \n",
       "                   ZNF85-19:21129736\n",
       "AAACCTGCAACGATCT-1 -0.08650350      \n",
       "AAACCTGGTCAGAATA-1 -0.08247419      \n",
       "AAACGGGAGCGTCAAG-1 -0.08729246      \n",
       "AAACGGGAGGGAACGG-1 -0.05431807      \n",
       "AAACGGGCAGTTCATG-1 -0.09086005      \n",
       "AAACGGGGTCCCTACT-1 -0.07934012      "
      ]
     },
     "metadata": {},
     "output_type": "display_data"
    }
   ],
   "source": [
    "df$cells = c()\n",
    "head(df)"
   ]
  },
  {
   "cell_type": "code",
   "execution_count": 32,
   "id": "3c9a6935",
   "metadata": {},
   "outputs": [],
   "source": [
    "filename = paste0(mydir,\"summary_betaGxC.csv\")\n",
    "write.csv(df, filename)"
   ]
  },
  {
   "cell_type": "code",
   "execution_count": null,
   "id": "3ab9ade2",
   "metadata": {},
   "outputs": [],
   "source": []
  }
 ],
 "metadata": {
  "kernelspec": {
   "display_name": "Single Cell Notebook (R 4.1.2)",
   "language": "R",
   "name": "singlecell"
  },
  "language_info": {
   "codemirror_mode": "r",
   "file_extension": ".r",
   "mimetype": "text/x-r-source",
   "name": "R",
   "pygments_lexer": "r",
   "version": "4.1.2"
  }
 },
 "nbformat": 4,
 "nbformat_minor": 5
}
