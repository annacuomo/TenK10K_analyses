{
 "cells": [
  {
   "cell_type": "code",
   "execution_count": 20,
   "id": "5f245530",
   "metadata": {},
   "outputs": [
    {
     "data": {
      "text/html": [
       "<table class=\"dataframe\">\n",
       "<caption>A data.frame: 6 × 12662</caption>\n",
       "<thead>\n",
       "\t<tr><th></th><th scope=col>X</th><th scope=col>ENSG00000000003</th><th scope=col>ENSG00000000419</th><th scope=col>ENSG00000000457</th><th scope=col>ENSG00000000460</th><th scope=col>ENSG00000000938</th><th scope=col>ENSG00000000971</th><th scope=col>ENSG00000001036</th><th scope=col>ENSG00000001084</th><th scope=col>ENSG00000001167</th><th scope=col>⋯</th><th scope=col>ENSG00000272145</th><th scope=col>ENSG00000272168</th><th scope=col>ENSG00000272325</th><th scope=col>ENSG00000272523</th><th scope=col>ENSG00000272767</th><th scope=col>ENSG00000273061</th><th scope=col>ENSG00000273129</th><th scope=col>sample_id</th><th scope=col>clustering</th><th scope=col>development_stage</th></tr>\n",
       "\t<tr><th></th><th scope=col>&lt;chr&gt;</th><th scope=col>&lt;dbl&gt;</th><th scope=col>&lt;dbl&gt;</th><th scope=col>&lt;dbl&gt;</th><th scope=col>&lt;dbl&gt;</th><th scope=col>&lt;dbl&gt;</th><th scope=col>&lt;dbl&gt;</th><th scope=col>&lt;dbl&gt;</th><th scope=col>&lt;dbl&gt;</th><th scope=col>&lt;dbl&gt;</th><th scope=col>⋯</th><th scope=col>&lt;dbl&gt;</th><th scope=col>&lt;dbl&gt;</th><th scope=col>&lt;dbl&gt;</th><th scope=col>&lt;dbl&gt;</th><th scope=col>&lt;dbl&gt;</th><th scope=col>&lt;dbl&gt;</th><th scope=col>&lt;dbl&gt;</th><th scope=col>&lt;chr&gt;</th><th scope=col>&lt;chr&gt;</th><th scope=col>&lt;chr&gt;</th></tr>\n",
       "</thead>\n",
       "<tbody>\n",
       "\t<tr><th scope=row>1</th><td>AP1-post_ASDC     </td><td>0</td><td>0.0000000</td><td>0</td><td>0</td><td>0.0000000</td><td>0</td><td>0</td><td>0.000000</td><td>0</td><td>⋯</td><td>0</td><td>0</td><td>0.7388914</td><td>0</td><td>0</td><td>0</td><td>0</td><td>AP1-post     </td><td>ASDC</td><td>human adult stage        </td></tr>\n",
       "\t<tr><th scope=row>2</th><td>AP11_ASDC         </td><td>0</td><td>0.8044573</td><td>0</td><td>0</td><td>0.8044573</td><td>0</td><td>0</td><td>0.000000</td><td>0</td><td>⋯</td><td>0</td><td>0</td><td>0.0000000</td><td>0</td><td>0</td><td>0</td><td>0</td><td>AP11         </td><td>ASDC</td><td>eighth decade human stage</td></tr>\n",
       "\t<tr><th scope=row>3</th><td>AP11_ASDC         </td><td>0</td><td>0.8044573</td><td>0</td><td>0</td><td>0.8044573</td><td>0</td><td>0</td><td>0.000000</td><td>0</td><td>⋯</td><td>0</td><td>0</td><td>0.0000000</td><td>0</td><td>0</td><td>0</td><td>0</td><td>AP11         </td><td>ASDC</td><td>human aged stage         </td></tr>\n",
       "\t<tr><th scope=row>4</th><td>BGCV01_CV0902_ASDC</td><td>0</td><td>0.5984349</td><td>0</td><td>0</td><td>1.9073006</td><td>0</td><td>0</td><td>0.000000</td><td>0</td><td>⋯</td><td>0</td><td>0</td><td>0.5984349</td><td>0</td><td>0</td><td>0</td><td>0</td><td>BGCV01_CV0902</td><td>ASDC</td><td>sixth decade human stage </td></tr>\n",
       "\t<tr><th scope=row>5</th><td>BGCV04_CV0911_ASDC</td><td>0</td><td>0.0000000</td><td>0</td><td>0</td><td>1.1256595</td><td>0</td><td>0</td><td>0.000000</td><td>0</td><td>⋯</td><td>0</td><td>0</td><td>1.1256595</td><td>0</td><td>0</td><td>0</td><td>0</td><td>BGCV04_CV0911</td><td>ASDC</td><td>fifth decade human stage </td></tr>\n",
       "\t<tr><th scope=row>6</th><td>BGCV05_CV0128_ASDC</td><td>0</td><td>0.0000000</td><td>0</td><td>0</td><td>0.9864366</td><td>0</td><td>0</td><td>0.610217</td><td>0</td><td>⋯</td><td>0</td><td>0</td><td>0.6102170</td><td>0</td><td>0</td><td>0</td><td>0</td><td>BGCV05_CV0128</td><td>ASDC</td><td>fourth decade human stage</td></tr>\n",
       "</tbody>\n",
       "</table>\n"
      ],
      "text/latex": [
       "A data.frame: 6 × 12662\n",
       "\\begin{tabular}{r|lllllllllllllllllllll}\n",
       "  & X & ENSG00000000003 & ENSG00000000419 & ENSG00000000457 & ENSG00000000460 & ENSG00000000938 & ENSG00000000971 & ENSG00000001036 & ENSG00000001084 & ENSG00000001167 & ⋯ & ENSG00000272145 & ENSG00000272168 & ENSG00000272325 & ENSG00000272523 & ENSG00000272767 & ENSG00000273061 & ENSG00000273129 & sample\\_id & clustering & development\\_stage\\\\\n",
       "  & <chr> & <dbl> & <dbl> & <dbl> & <dbl> & <dbl> & <dbl> & <dbl> & <dbl> & <dbl> & ⋯ & <dbl> & <dbl> & <dbl> & <dbl> & <dbl> & <dbl> & <dbl> & <chr> & <chr> & <chr>\\\\\n",
       "\\hline\n",
       "\t1 & AP1-post\\_ASDC      & 0 & 0.0000000 & 0 & 0 & 0.0000000 & 0 & 0 & 0.000000 & 0 & ⋯ & 0 & 0 & 0.7388914 & 0 & 0 & 0 & 0 & AP1-post      & ASDC & human adult stage        \\\\\n",
       "\t2 & AP11\\_ASDC          & 0 & 0.8044573 & 0 & 0 & 0.8044573 & 0 & 0 & 0.000000 & 0 & ⋯ & 0 & 0 & 0.0000000 & 0 & 0 & 0 & 0 & AP11          & ASDC & eighth decade human stage\\\\\n",
       "\t3 & AP11\\_ASDC          & 0 & 0.8044573 & 0 & 0 & 0.8044573 & 0 & 0 & 0.000000 & 0 & ⋯ & 0 & 0 & 0.0000000 & 0 & 0 & 0 & 0 & AP11          & ASDC & human aged stage         \\\\\n",
       "\t4 & BGCV01\\_CV0902\\_ASDC & 0 & 0.5984349 & 0 & 0 & 1.9073006 & 0 & 0 & 0.000000 & 0 & ⋯ & 0 & 0 & 0.5984349 & 0 & 0 & 0 & 0 & BGCV01\\_CV0902 & ASDC & sixth decade human stage \\\\\n",
       "\t5 & BGCV04\\_CV0911\\_ASDC & 0 & 0.0000000 & 0 & 0 & 1.1256595 & 0 & 0 & 0.000000 & 0 & ⋯ & 0 & 0 & 1.1256595 & 0 & 0 & 0 & 0 & BGCV04\\_CV0911 & ASDC & fifth decade human stage \\\\\n",
       "\t6 & BGCV05\\_CV0128\\_ASDC & 0 & 0.0000000 & 0 & 0 & 0.9864366 & 0 & 0 & 0.610217 & 0 & ⋯ & 0 & 0 & 0.6102170 & 0 & 0 & 0 & 0 & BGCV05\\_CV0128 & ASDC & fourth decade human stage\\\\\n",
       "\\end{tabular}\n"
      ],
      "text/markdown": [
       "\n",
       "A data.frame: 6 × 12662\n",
       "\n",
       "| <!--/--> | X &lt;chr&gt; | ENSG00000000003 &lt;dbl&gt; | ENSG00000000419 &lt;dbl&gt; | ENSG00000000457 &lt;dbl&gt; | ENSG00000000460 &lt;dbl&gt; | ENSG00000000938 &lt;dbl&gt; | ENSG00000000971 &lt;dbl&gt; | ENSG00000001036 &lt;dbl&gt; | ENSG00000001084 &lt;dbl&gt; | ENSG00000001167 &lt;dbl&gt; | ⋯ ⋯ | ENSG00000272145 &lt;dbl&gt; | ENSG00000272168 &lt;dbl&gt; | ENSG00000272325 &lt;dbl&gt; | ENSG00000272523 &lt;dbl&gt; | ENSG00000272767 &lt;dbl&gt; | ENSG00000273061 &lt;dbl&gt; | ENSG00000273129 &lt;dbl&gt; | sample_id &lt;chr&gt; | clustering &lt;chr&gt; | development_stage &lt;chr&gt; |\n",
       "|---|---|---|---|---|---|---|---|---|---|---|---|---|---|---|---|---|---|---|---|---|---|\n",
       "| 1 | AP1-post_ASDC      | 0 | 0.0000000 | 0 | 0 | 0.0000000 | 0 | 0 | 0.000000 | 0 | ⋯ | 0 | 0 | 0.7388914 | 0 | 0 | 0 | 0 | AP1-post      | ASDC | human adult stage         |\n",
       "| 2 | AP11_ASDC          | 0 | 0.8044573 | 0 | 0 | 0.8044573 | 0 | 0 | 0.000000 | 0 | ⋯ | 0 | 0 | 0.0000000 | 0 | 0 | 0 | 0 | AP11          | ASDC | eighth decade human stage |\n",
       "| 3 | AP11_ASDC          | 0 | 0.8044573 | 0 | 0 | 0.8044573 | 0 | 0 | 0.000000 | 0 | ⋯ | 0 | 0 | 0.0000000 | 0 | 0 | 0 | 0 | AP11          | ASDC | human aged stage          |\n",
       "| 4 | BGCV01_CV0902_ASDC | 0 | 0.5984349 | 0 | 0 | 1.9073006 | 0 | 0 | 0.000000 | 0 | ⋯ | 0 | 0 | 0.5984349 | 0 | 0 | 0 | 0 | BGCV01_CV0902 | ASDC | sixth decade human stage  |\n",
       "| 5 | BGCV04_CV0911_ASDC | 0 | 0.0000000 | 0 | 0 | 1.1256595 | 0 | 0 | 0.000000 | 0 | ⋯ | 0 | 0 | 1.1256595 | 0 | 0 | 0 | 0 | BGCV04_CV0911 | ASDC | fifth decade human stage  |\n",
       "| 6 | BGCV05_CV0128_ASDC | 0 | 0.0000000 | 0 | 0 | 0.9864366 | 0 | 0 | 0.610217 | 0 | ⋯ | 0 | 0 | 0.6102170 | 0 | 0 | 0 | 0 | BGCV05_CV0128 | ASDC | fourth decade human stage |\n",
       "\n"
      ],
      "text/plain": [
       "  X                  ENSG00000000003 ENSG00000000419 ENSG00000000457\n",
       "1 AP1-post_ASDC      0               0.0000000       0              \n",
       "2 AP11_ASDC          0               0.8044573       0              \n",
       "3 AP11_ASDC          0               0.8044573       0              \n",
       "4 BGCV01_CV0902_ASDC 0               0.5984349       0              \n",
       "5 BGCV04_CV0911_ASDC 0               0.0000000       0              \n",
       "6 BGCV05_CV0128_ASDC 0               0.0000000       0              \n",
       "  ENSG00000000460 ENSG00000000938 ENSG00000000971 ENSG00000001036\n",
       "1 0               0.0000000       0               0              \n",
       "2 0               0.8044573       0               0              \n",
       "3 0               0.8044573       0               0              \n",
       "4 0               1.9073006       0               0              \n",
       "5 0               1.1256595       0               0              \n",
       "6 0               0.9864366       0               0              \n",
       "  ENSG00000001084 ENSG00000001167 ⋯ ENSG00000272145 ENSG00000272168\n",
       "1 0.000000        0               ⋯ 0               0              \n",
       "2 0.000000        0               ⋯ 0               0              \n",
       "3 0.000000        0               ⋯ 0               0              \n",
       "4 0.000000        0               ⋯ 0               0              \n",
       "5 0.000000        0               ⋯ 0               0              \n",
       "6 0.610217        0               ⋯ 0               0              \n",
       "  ENSG00000272325 ENSG00000272523 ENSG00000272767 ENSG00000273061\n",
       "1 0.7388914       0               0               0              \n",
       "2 0.0000000       0               0               0              \n",
       "3 0.0000000       0               0               0              \n",
       "4 0.5984349       0               0               0              \n",
       "5 1.1256595       0               0               0              \n",
       "6 0.6102170       0               0               0              \n",
       "  ENSG00000273129 sample_id     clustering development_stage        \n",
       "1 0               AP1-post      ASDC       human adult stage        \n",
       "2 0               AP11          ASDC       eighth decade human stage\n",
       "3 0               AP11          ASDC       human aged stage         \n",
       "4 0               BGCV01_CV0902 ASDC       sixth decade human stage \n",
       "5 0               BGCV04_CV0911 ASDC       fifth decade human stage \n",
       "6 0               BGCV05_CV0128 ASDC       fourth decade human stage"
      ]
     },
     "metadata": {},
     "output_type": "display_data"
    }
   ],
   "source": [
    "# pseudobulk object\n",
    "mydir = \"/share/ScratchGeneral/anncuo/sc-integration-workshop/\"\n",
    "pseudobulk_filename = paste0(mydir,\"pseudobulk_matrix.csv\")\n",
    "pb = read.csv(pseudobulk_filename)\n",
    "head(pb)"
   ]
  },
  {
   "cell_type": "code",
   "execution_count": 21,
   "id": "0479c927",
   "metadata": {},
   "outputs": [
    {
     "data": {
      "text/html": [
       "7538"
      ],
      "text/latex": [
       "7538"
      ],
      "text/markdown": [
       "7538"
      ],
      "text/plain": [
       "[1] 7538"
      ]
     },
     "metadata": {},
     "output_type": "display_data"
    }
   ],
   "source": [
    "nrow(pb)"
   ]
  },
  {
   "cell_type": "code",
   "execution_count": 22,
   "id": "eba76853",
   "metadata": {},
   "outputs": [
    {
     "data": {
      "text/html": [
       "4387"
      ],
      "text/latex": [
       "4387"
      ],
      "text/markdown": [
       "4387"
      ],
      "text/plain": [
       "[1] 4387"
      ]
     },
     "metadata": {},
     "output_type": "display_data"
    }
   ],
   "source": [
    "pb = pb[-which(duplicated(pb$X)),]\n",
    "nrow(pb)"
   ]
  },
  {
   "cell_type": "code",
   "execution_count": 10,
   "id": "973e5d2b",
   "metadata": {},
   "outputs": [
    {
     "data": {
      "text/html": [
       "<table class=\"dataframe\">\n",
       "<caption>A data.frame: 6 × 12661</caption>\n",
       "<thead>\n",
       "\t<tr><th></th><th scope=col>ENSG00000000003</th><th scope=col>ENSG00000000419</th><th scope=col>ENSG00000000457</th><th scope=col>ENSG00000000460</th><th scope=col>ENSG00000000938</th><th scope=col>ENSG00000000971</th><th scope=col>ENSG00000001036</th><th scope=col>ENSG00000001084</th><th scope=col>ENSG00000001167</th><th scope=col>ENSG00000001460</th><th scope=col>⋯</th><th scope=col>ENSG00000272145</th><th scope=col>ENSG00000272168</th><th scope=col>ENSG00000272325</th><th scope=col>ENSG00000272523</th><th scope=col>ENSG00000272767</th><th scope=col>ENSG00000273061</th><th scope=col>ENSG00000273129</th><th scope=col>sample_id</th><th scope=col>clustering</th><th scope=col>development_stage</th></tr>\n",
       "\t<tr><th></th><th scope=col>&lt;dbl&gt;</th><th scope=col>&lt;dbl&gt;</th><th scope=col>&lt;dbl&gt;</th><th scope=col>&lt;dbl&gt;</th><th scope=col>&lt;dbl&gt;</th><th scope=col>&lt;dbl&gt;</th><th scope=col>&lt;dbl&gt;</th><th scope=col>&lt;dbl&gt;</th><th scope=col>&lt;dbl&gt;</th><th scope=col>&lt;dbl&gt;</th><th scope=col>⋯</th><th scope=col>&lt;dbl&gt;</th><th scope=col>&lt;dbl&gt;</th><th scope=col>&lt;dbl&gt;</th><th scope=col>&lt;dbl&gt;</th><th scope=col>&lt;dbl&gt;</th><th scope=col>&lt;dbl&gt;</th><th scope=col>&lt;dbl&gt;</th><th scope=col>&lt;chr&gt;</th><th scope=col>&lt;chr&gt;</th><th scope=col>&lt;chr&gt;</th></tr>\n",
       "</thead>\n",
       "<tbody>\n",
       "\t<tr><th scope=row>BGCV12_CV0178_CD4_Naive</th><td>0.000000</td><td>0.000000</td><td>1.340688</td><td>0.000000</td><td>0</td><td>0</td><td>1.340688</td><td>0.000000</td><td>0.000000</td><td>0.000000</td><td>⋯</td><td>0.000000</td><td> 0</td><td>1.077596</td><td>0.000000</td><td> 0</td><td>0.000000</td><td> 0</td><td>BGCV12_CV0178</td><td>CD4_Naive</td><td>seventh decade human stage</td></tr>\n",
       "\t<tr><th scope=row>BGCV12_CV0926_CD4_Naive</th><td>2.907363</td><td>1.231395</td><td>0.000000</td><td>0.000000</td><td>0</td><td>0</td><td>0.000000</td><td>2.515934</td><td>0.000000</td><td>0.000000</td><td>⋯</td><td>0.000000</td><td> 0</td><td>5.304958</td><td>1.271466</td><td> 0</td><td>0.000000</td><td> 0</td><td>BGCV12_CV0926</td><td>CD4_Naive</td><td>seventh decade human stage</td></tr>\n",
       "\t<tr><th scope=row>BGCV13_CV0073_CD4_Naive</th><td>0.000000</td><td>2.056344</td><td>2.407948</td><td>0.000000</td><td>0</td><td>0</td><td>0.000000</td><td>0.000000</td><td>0.000000</td><td>0.000000</td><td>⋯</td><td>0.000000</td><td> 0</td><td>0.000000</td><td>0.000000</td><td> 0</td><td>2.889045</td><td> 0</td><td>BGCV13_CV0073</td><td>CD4_Naive</td><td>sixth decade human stage  </td></tr>\n",
       "\t<tr><th scope=row>BGCV13_CV0171_CD4_Naive</th><td>0.000000</td><td>2.992654</td><td>5.270887</td><td>1.191815</td><td>0</td><td>0</td><td>1.191815</td><td>0.000000</td><td>1.458438</td><td>2.436281</td><td>⋯</td><td>1.403025</td><td> 0</td><td>4.982262</td><td>0.000000</td><td> 0</td><td>1.291578</td><td> 0</td><td>BGCV13_CV0171</td><td>CD4_Naive</td><td>sixth decade human stage  </td></tr>\n",
       "\t<tr><th scope=row>BGCV13_CV0326_CD4_Naive</th><td>0.000000</td><td>0.000000</td><td>0.000000</td><td>0.000000</td><td>0</td><td>0</td><td>0.000000</td><td>0.000000</td><td>1.345499</td><td>0.000000</td><td>⋯</td><td>0.000000</td><td> 0</td><td>0.000000</td><td>0.000000</td><td> 0</td><td>0.000000</td><td> 0</td><td>BGCV13_CV0326</td><td>CD4_Naive</td><td>fifth decade human stage  </td></tr>\n",
       "\t<tr><th scope=row>BGCV13_CV0934_CD4_Naive</th><td>2.627927</td><td>1.263218</td><td>6.612974</td><td>2.648973</td><td>0</td><td>0</td><td>5.458253</td><td>1.328728</td><td>3.564026</td><td>0.000000</td><td>⋯</td><td>      NA</td><td>NA</td><td>      NA</td><td>      NA</td><td>NA</td><td>      NA</td><td>NA</td><td>             </td><td>         </td><td>                          </td></tr>\n",
       "</tbody>\n",
       "</table>\n"
      ],
      "text/latex": [
       "A data.frame: 6 × 12661\n",
       "\\begin{tabular}{r|lllllllllllllllllllll}\n",
       "  & ENSG00000000003 & ENSG00000000419 & ENSG00000000457 & ENSG00000000460 & ENSG00000000938 & ENSG00000000971 & ENSG00000001036 & ENSG00000001084 & ENSG00000001167 & ENSG00000001460 & ⋯ & ENSG00000272145 & ENSG00000272168 & ENSG00000272325 & ENSG00000272523 & ENSG00000272767 & ENSG00000273061 & ENSG00000273129 & sample\\_id & clustering & development\\_stage\\\\\n",
       "  & <dbl> & <dbl> & <dbl> & <dbl> & <dbl> & <dbl> & <dbl> & <dbl> & <dbl> & <dbl> & ⋯ & <dbl> & <dbl> & <dbl> & <dbl> & <dbl> & <dbl> & <dbl> & <chr> & <chr> & <chr>\\\\\n",
       "\\hline\n",
       "\tBGCV12\\_CV0178\\_CD4\\_Naive & 0.000000 & 0.000000 & 1.340688 & 0.000000 & 0 & 0 & 1.340688 & 0.000000 & 0.000000 & 0.000000 & ⋯ & 0.000000 &  0 & 1.077596 & 0.000000 &  0 & 0.000000 &  0 & BGCV12\\_CV0178 & CD4\\_Naive & seventh decade human stage\\\\\n",
       "\tBGCV12\\_CV0926\\_CD4\\_Naive & 2.907363 & 1.231395 & 0.000000 & 0.000000 & 0 & 0 & 0.000000 & 2.515934 & 0.000000 & 0.000000 & ⋯ & 0.000000 &  0 & 5.304958 & 1.271466 &  0 & 0.000000 &  0 & BGCV12\\_CV0926 & CD4\\_Naive & seventh decade human stage\\\\\n",
       "\tBGCV13\\_CV0073\\_CD4\\_Naive & 0.000000 & 2.056344 & 2.407948 & 0.000000 & 0 & 0 & 0.000000 & 0.000000 & 0.000000 & 0.000000 & ⋯ & 0.000000 &  0 & 0.000000 & 0.000000 &  0 & 2.889045 &  0 & BGCV13\\_CV0073 & CD4\\_Naive & sixth decade human stage  \\\\\n",
       "\tBGCV13\\_CV0171\\_CD4\\_Naive & 0.000000 & 2.992654 & 5.270887 & 1.191815 & 0 & 0 & 1.191815 & 0.000000 & 1.458438 & 2.436281 & ⋯ & 1.403025 &  0 & 4.982262 & 0.000000 &  0 & 1.291578 &  0 & BGCV13\\_CV0171 & CD4\\_Naive & sixth decade human stage  \\\\\n",
       "\tBGCV13\\_CV0326\\_CD4\\_Naive & 0.000000 & 0.000000 & 0.000000 & 0.000000 & 0 & 0 & 0.000000 & 0.000000 & 1.345499 & 0.000000 & ⋯ & 0.000000 &  0 & 0.000000 & 0.000000 &  0 & 0.000000 &  0 & BGCV13\\_CV0326 & CD4\\_Naive & fifth decade human stage  \\\\\n",
       "\tBGCV13\\_CV0934\\_CD4\\_Naive & 2.627927 & 1.263218 & 6.612974 & 2.648973 & 0 & 0 & 5.458253 & 1.328728 & 3.564026 & 0.000000 & ⋯ &       NA & NA &       NA &       NA & NA &       NA & NA &               &           &                           \\\\\n",
       "\\end{tabular}\n"
      ],
      "text/markdown": [
       "\n",
       "A data.frame: 6 × 12661\n",
       "\n",
       "| <!--/--> | ENSG00000000003 &lt;dbl&gt; | ENSG00000000419 &lt;dbl&gt; | ENSG00000000457 &lt;dbl&gt; | ENSG00000000460 &lt;dbl&gt; | ENSG00000000938 &lt;dbl&gt; | ENSG00000000971 &lt;dbl&gt; | ENSG00000001036 &lt;dbl&gt; | ENSG00000001084 &lt;dbl&gt; | ENSG00000001167 &lt;dbl&gt; | ENSG00000001460 &lt;dbl&gt; | ⋯ ⋯ | ENSG00000272145 &lt;dbl&gt; | ENSG00000272168 &lt;dbl&gt; | ENSG00000272325 &lt;dbl&gt; | ENSG00000272523 &lt;dbl&gt; | ENSG00000272767 &lt;dbl&gt; | ENSG00000273061 &lt;dbl&gt; | ENSG00000273129 &lt;dbl&gt; | sample_id &lt;chr&gt; | clustering &lt;chr&gt; | development_stage &lt;chr&gt; |\n",
       "|---|---|---|---|---|---|---|---|---|---|---|---|---|---|---|---|---|---|---|---|---|---|\n",
       "| BGCV12_CV0178_CD4_Naive | 0.000000 | 0.000000 | 1.340688 | 0.000000 | 0 | 0 | 1.340688 | 0.000000 | 0.000000 | 0.000000 | ⋯ | 0.000000 |  0 | 1.077596 | 0.000000 |  0 | 0.000000 |  0 | BGCV12_CV0178 | CD4_Naive | seventh decade human stage |\n",
       "| BGCV12_CV0926_CD4_Naive | 2.907363 | 1.231395 | 0.000000 | 0.000000 | 0 | 0 | 0.000000 | 2.515934 | 0.000000 | 0.000000 | ⋯ | 0.000000 |  0 | 5.304958 | 1.271466 |  0 | 0.000000 |  0 | BGCV12_CV0926 | CD4_Naive | seventh decade human stage |\n",
       "| BGCV13_CV0073_CD4_Naive | 0.000000 | 2.056344 | 2.407948 | 0.000000 | 0 | 0 | 0.000000 | 0.000000 | 0.000000 | 0.000000 | ⋯ | 0.000000 |  0 | 0.000000 | 0.000000 |  0 | 2.889045 |  0 | BGCV13_CV0073 | CD4_Naive | sixth decade human stage   |\n",
       "| BGCV13_CV0171_CD4_Naive | 0.000000 | 2.992654 | 5.270887 | 1.191815 | 0 | 0 | 1.191815 | 0.000000 | 1.458438 | 2.436281 | ⋯ | 1.403025 |  0 | 4.982262 | 0.000000 |  0 | 1.291578 |  0 | BGCV13_CV0171 | CD4_Naive | sixth decade human stage   |\n",
       "| BGCV13_CV0326_CD4_Naive | 0.000000 | 0.000000 | 0.000000 | 0.000000 | 0 | 0 | 0.000000 | 0.000000 | 1.345499 | 0.000000 | ⋯ | 0.000000 |  0 | 0.000000 | 0.000000 |  0 | 0.000000 |  0 | BGCV13_CV0326 | CD4_Naive | fifth decade human stage   |\n",
       "| BGCV13_CV0934_CD4_Naive | 2.627927 | 1.263218 | 6.612974 | 2.648973 | 0 | 0 | 5.458253 | 1.328728 | 3.564026 | 0.000000 | ⋯ |       NA | NA |       NA |       NA | NA |       NA | NA | <!----> | <!----> | <!----> |\n",
       "\n"
      ],
      "text/plain": [
       "                        ENSG00000000003 ENSG00000000419 ENSG00000000457\n",
       "BGCV12_CV0178_CD4_Naive 0.000000        0.000000        1.340688       \n",
       "BGCV12_CV0926_CD4_Naive 2.907363        1.231395        0.000000       \n",
       "BGCV13_CV0073_CD4_Naive 0.000000        2.056344        2.407948       \n",
       "BGCV13_CV0171_CD4_Naive 0.000000        2.992654        5.270887       \n",
       "BGCV13_CV0326_CD4_Naive 0.000000        0.000000        0.000000       \n",
       "BGCV13_CV0934_CD4_Naive 2.627927        1.263218        6.612974       \n",
       "                        ENSG00000000460 ENSG00000000938 ENSG00000000971\n",
       "BGCV12_CV0178_CD4_Naive 0.000000        0               0              \n",
       "BGCV12_CV0926_CD4_Naive 0.000000        0               0              \n",
       "BGCV13_CV0073_CD4_Naive 0.000000        0               0              \n",
       "BGCV13_CV0171_CD4_Naive 1.191815        0               0              \n",
       "BGCV13_CV0326_CD4_Naive 0.000000        0               0              \n",
       "BGCV13_CV0934_CD4_Naive 2.648973        0               0              \n",
       "                        ENSG00000001036 ENSG00000001084 ENSG00000001167\n",
       "BGCV12_CV0178_CD4_Naive 1.340688        0.000000        0.000000       \n",
       "BGCV12_CV0926_CD4_Naive 0.000000        2.515934        0.000000       \n",
       "BGCV13_CV0073_CD4_Naive 0.000000        0.000000        0.000000       \n",
       "BGCV13_CV0171_CD4_Naive 1.191815        0.000000        1.458438       \n",
       "BGCV13_CV0326_CD4_Naive 0.000000        0.000000        1.345499       \n",
       "BGCV13_CV0934_CD4_Naive 5.458253        1.328728        3.564026       \n",
       "                        ENSG00000001460 ⋯ ENSG00000272145 ENSG00000272168\n",
       "BGCV12_CV0178_CD4_Naive 0.000000        ⋯ 0.000000         0             \n",
       "BGCV12_CV0926_CD4_Naive 0.000000        ⋯ 0.000000         0             \n",
       "BGCV13_CV0073_CD4_Naive 0.000000        ⋯ 0.000000         0             \n",
       "BGCV13_CV0171_CD4_Naive 2.436281        ⋯ 1.403025         0             \n",
       "BGCV13_CV0326_CD4_Naive 0.000000        ⋯ 0.000000         0             \n",
       "BGCV13_CV0934_CD4_Naive 0.000000        ⋯       NA        NA             \n",
       "                        ENSG00000272325 ENSG00000272523 ENSG00000272767\n",
       "BGCV12_CV0178_CD4_Naive 1.077596        0.000000         0             \n",
       "BGCV12_CV0926_CD4_Naive 5.304958        1.271466         0             \n",
       "BGCV13_CV0073_CD4_Naive 0.000000        0.000000         0             \n",
       "BGCV13_CV0171_CD4_Naive 4.982262        0.000000         0             \n",
       "BGCV13_CV0326_CD4_Naive 0.000000        0.000000         0             \n",
       "BGCV13_CV0934_CD4_Naive       NA              NA        NA             \n",
       "                        ENSG00000273061 ENSG00000273129 sample_id    \n",
       "BGCV12_CV0178_CD4_Naive 0.000000         0              BGCV12_CV0178\n",
       "BGCV12_CV0926_CD4_Naive 0.000000         0              BGCV12_CV0926\n",
       "BGCV13_CV0073_CD4_Naive 2.889045         0              BGCV13_CV0073\n",
       "BGCV13_CV0171_CD4_Naive 1.291578         0              BGCV13_CV0171\n",
       "BGCV13_CV0326_CD4_Naive 0.000000         0              BGCV13_CV0326\n",
       "BGCV13_CV0934_CD4_Naive       NA        NA                           \n",
       "                        clustering development_stage         \n",
       "BGCV12_CV0178_CD4_Naive CD4_Naive  seventh decade human stage\n",
       "BGCV12_CV0926_CD4_Naive CD4_Naive  seventh decade human stage\n",
       "BGCV13_CV0073_CD4_Naive CD4_Naive  sixth decade human stage  \n",
       "BGCV13_CV0171_CD4_Naive CD4_Naive  sixth decade human stage  \n",
       "BGCV13_CV0326_CD4_Naive CD4_Naive  fifth decade human stage  \n",
       "BGCV13_CV0934_CD4_Naive                                      "
      ]
     },
     "metadata": {},
     "output_type": "display_data"
    }
   ],
   "source": [
    "# rownames(pb) = pb$X\n",
    "# pb = pb[,-1]\n",
    "tail(pb)"
   ]
  },
  {
   "cell_type": "code",
   "execution_count": 23,
   "id": "69884381",
   "metadata": {},
   "outputs": [
    {
     "data": {
      "text/html": [
       "<table class=\"dataframe\">\n",
       "<caption>A data.frame: 6 × 9</caption>\n",
       "<thead>\n",
       "\t<tr><th></th><th scope=col>batch_id</th><th scope=col>celltype.mDC.l1</th><th scope=col>celltype.mDC.l2</th><th scope=col>celltype.mDC.l3</th><th scope=col>donor_summary</th><th scope=col>sex</th><th scope=col>development_stage</th><th scope=col>ethnicity</th><th scope=col>disease</th></tr>\n",
       "\t<tr><th></th><th scope=col>&lt;chr&gt;</th><th scope=col>&lt;chr&gt;</th><th scope=col>&lt;chr&gt;</th><th scope=col>&lt;chr&gt;</th><th scope=col>&lt;chr&gt;</th><th scope=col>&lt;fct&gt;</th><th scope=col>&lt;fct&gt;</th><th scope=col>&lt;fct&gt;</th><th scope=col>&lt;fct&gt;</th></tr>\n",
       "</thead>\n",
       "<tbody>\n",
       "\t<tr><th scope=row>10_1016_j_cell_2020_08_001_Schulte-Schrepping-0</th><td>10_1016_j_cell_2020_08_001</td><td>Mono </td><td>CD14 Mono</td><td>CD14 Mono</td><td>10_1016_j_cell_2020_08_001_C19-CB-0001</td><td>male</td><td>third decade human stage </td><td>unknown</td><td>COVID-19</td></tr>\n",
       "\t<tr><th scope=row>10_1016_j_cell_2020_08_001_Schulte-Schrepping-1</th><td>10_1016_j_cell_2020_08_001</td><td>Mono </td><td>CD14 Mono</td><td>CD14 Mono</td><td>10_1016_j_cell_2020_08_001_C19-CB-0003</td><td>male</td><td>fifth decade human stage </td><td>unknown</td><td>COVID-19</td></tr>\n",
       "\t<tr><th scope=row>10_1016_j_cell_2020_08_001_Schulte-Schrepping-10</th><td>10_1016_j_cell_2020_08_001</td><td>Mono </td><td>CD14 Mono</td><td>CD14 Mono</td><td>10_1016_j_cell_2020_08_001_C19-CB-0001</td><td>male</td><td>third decade human stage </td><td>unknown</td><td>COVID-19</td></tr>\n",
       "\t<tr><th scope=row>10_1016_j_cell_2020_08_001_Schulte-Schrepping-100</th><td>10_1016_j_cell_2020_08_001</td><td>Mono </td><td>CD14 Mono</td><td>CD14 Mono</td><td>10_1016_j_cell_2020_08_001_C19-CB-0003</td><td>male</td><td>fifth decade human stage </td><td>unknown</td><td>COVID-19</td></tr>\n",
       "\t<tr><th scope=row>10_1016_j_cell_2020_08_001_Schulte-Schrepping-1000</th><td>10_1016_j_cell_2020_08_001</td><td>CD8 T</td><td>CD8 TEM  </td><td>CD8 TEM_5</td><td>10_1016_j_cell_2020_08_001_C19-CB-0001</td><td>male</td><td>third decade human stage </td><td>unknown</td><td>COVID-19</td></tr>\n",
       "\t<tr><th scope=row>10_1016_j_cell_2020_08_001_Schulte-Schrepping-10000</th><td>10_1016_j_cell_2020_08_001</td><td>Mono </td><td>CD14 Mono</td><td>CD14 Mono</td><td>10_1016_j_cell_2020_08_001_C19-CB-0005</td><td>male</td><td>eighth decade human stage</td><td>unknown</td><td>COVID-19</td></tr>\n",
       "</tbody>\n",
       "</table>\n"
      ],
      "text/latex": [
       "A data.frame: 6 × 9\n",
       "\\begin{tabular}{r|lllllllll}\n",
       "  & batch\\_id & celltype.mDC.l1 & celltype.mDC.l2 & celltype.mDC.l3 & donor\\_summary & sex & development\\_stage & ethnicity & disease\\\\\n",
       "  & <chr> & <chr> & <chr> & <chr> & <chr> & <fct> & <fct> & <fct> & <fct>\\\\\n",
       "\\hline\n",
       "\t10\\_1016\\_j\\_cell\\_2020\\_08\\_001\\_Schulte-Schrepping-0 & 10\\_1016\\_j\\_cell\\_2020\\_08\\_001 & Mono  & CD14 Mono & CD14 Mono & 10\\_1016\\_j\\_cell\\_2020\\_08\\_001\\_C19-CB-0001 & male & third decade human stage  & unknown & COVID-19\\\\\n",
       "\t10\\_1016\\_j\\_cell\\_2020\\_08\\_001\\_Schulte-Schrepping-1 & 10\\_1016\\_j\\_cell\\_2020\\_08\\_001 & Mono  & CD14 Mono & CD14 Mono & 10\\_1016\\_j\\_cell\\_2020\\_08\\_001\\_C19-CB-0003 & male & fifth decade human stage  & unknown & COVID-19\\\\\n",
       "\t10\\_1016\\_j\\_cell\\_2020\\_08\\_001\\_Schulte-Schrepping-10 & 10\\_1016\\_j\\_cell\\_2020\\_08\\_001 & Mono  & CD14 Mono & CD14 Mono & 10\\_1016\\_j\\_cell\\_2020\\_08\\_001\\_C19-CB-0001 & male & third decade human stage  & unknown & COVID-19\\\\\n",
       "\t10\\_1016\\_j\\_cell\\_2020\\_08\\_001\\_Schulte-Schrepping-100 & 10\\_1016\\_j\\_cell\\_2020\\_08\\_001 & Mono  & CD14 Mono & CD14 Mono & 10\\_1016\\_j\\_cell\\_2020\\_08\\_001\\_C19-CB-0003 & male & fifth decade human stage  & unknown & COVID-19\\\\\n",
       "\t10\\_1016\\_j\\_cell\\_2020\\_08\\_001\\_Schulte-Schrepping-1000 & 10\\_1016\\_j\\_cell\\_2020\\_08\\_001 & CD8 T & CD8 TEM   & CD8 TEM\\_5 & 10\\_1016\\_j\\_cell\\_2020\\_08\\_001\\_C19-CB-0001 & male & third decade human stage  & unknown & COVID-19\\\\\n",
       "\t10\\_1016\\_j\\_cell\\_2020\\_08\\_001\\_Schulte-Schrepping-10000 & 10\\_1016\\_j\\_cell\\_2020\\_08\\_001 & Mono  & CD14 Mono & CD14 Mono & 10\\_1016\\_j\\_cell\\_2020\\_08\\_001\\_C19-CB-0005 & male & eighth decade human stage & unknown & COVID-19\\\\\n",
       "\\end{tabular}\n"
      ],
      "text/markdown": [
       "\n",
       "A data.frame: 6 × 9\n",
       "\n",
       "| <!--/--> | batch_id &lt;chr&gt; | celltype.mDC.l1 &lt;chr&gt; | celltype.mDC.l2 &lt;chr&gt; | celltype.mDC.l3 &lt;chr&gt; | donor_summary &lt;chr&gt; | sex &lt;fct&gt; | development_stage &lt;fct&gt; | ethnicity &lt;fct&gt; | disease &lt;fct&gt; |\n",
       "|---|---|---|---|---|---|---|---|---|---|\n",
       "| 10_1016_j_cell_2020_08_001_Schulte-Schrepping-0 | 10_1016_j_cell_2020_08_001 | Mono  | CD14 Mono | CD14 Mono | 10_1016_j_cell_2020_08_001_C19-CB-0001 | male | third decade human stage  | unknown | COVID-19 |\n",
       "| 10_1016_j_cell_2020_08_001_Schulte-Schrepping-1 | 10_1016_j_cell_2020_08_001 | Mono  | CD14 Mono | CD14 Mono | 10_1016_j_cell_2020_08_001_C19-CB-0003 | male | fifth decade human stage  | unknown | COVID-19 |\n",
       "| 10_1016_j_cell_2020_08_001_Schulte-Schrepping-10 | 10_1016_j_cell_2020_08_001 | Mono  | CD14 Mono | CD14 Mono | 10_1016_j_cell_2020_08_001_C19-CB-0001 | male | third decade human stage  | unknown | COVID-19 |\n",
       "| 10_1016_j_cell_2020_08_001_Schulte-Schrepping-100 | 10_1016_j_cell_2020_08_001 | Mono  | CD14 Mono | CD14 Mono | 10_1016_j_cell_2020_08_001_C19-CB-0003 | male | fifth decade human stage  | unknown | COVID-19 |\n",
       "| 10_1016_j_cell_2020_08_001_Schulte-Schrepping-1000 | 10_1016_j_cell_2020_08_001 | CD8 T | CD8 TEM   | CD8 TEM_5 | 10_1016_j_cell_2020_08_001_C19-CB-0001 | male | third decade human stage  | unknown | COVID-19 |\n",
       "| 10_1016_j_cell_2020_08_001_Schulte-Schrepping-10000 | 10_1016_j_cell_2020_08_001 | Mono  | CD14 Mono | CD14 Mono | 10_1016_j_cell_2020_08_001_C19-CB-0005 | male | eighth decade human stage | unknown | COVID-19 |\n",
       "\n"
      ],
      "text/plain": [
       "                                                    batch_id                  \n",
       "10_1016_j_cell_2020_08_001_Schulte-Schrepping-0     10_1016_j_cell_2020_08_001\n",
       "10_1016_j_cell_2020_08_001_Schulte-Schrepping-1     10_1016_j_cell_2020_08_001\n",
       "10_1016_j_cell_2020_08_001_Schulte-Schrepping-10    10_1016_j_cell_2020_08_001\n",
       "10_1016_j_cell_2020_08_001_Schulte-Schrepping-100   10_1016_j_cell_2020_08_001\n",
       "10_1016_j_cell_2020_08_001_Schulte-Schrepping-1000  10_1016_j_cell_2020_08_001\n",
       "10_1016_j_cell_2020_08_001_Schulte-Schrepping-10000 10_1016_j_cell_2020_08_001\n",
       "                                                    celltype.mDC.l1\n",
       "10_1016_j_cell_2020_08_001_Schulte-Schrepping-0     Mono           \n",
       "10_1016_j_cell_2020_08_001_Schulte-Schrepping-1     Mono           \n",
       "10_1016_j_cell_2020_08_001_Schulte-Schrepping-10    Mono           \n",
       "10_1016_j_cell_2020_08_001_Schulte-Schrepping-100   Mono           \n",
       "10_1016_j_cell_2020_08_001_Schulte-Schrepping-1000  CD8 T          \n",
       "10_1016_j_cell_2020_08_001_Schulte-Schrepping-10000 Mono           \n",
       "                                                    celltype.mDC.l2\n",
       "10_1016_j_cell_2020_08_001_Schulte-Schrepping-0     CD14 Mono      \n",
       "10_1016_j_cell_2020_08_001_Schulte-Schrepping-1     CD14 Mono      \n",
       "10_1016_j_cell_2020_08_001_Schulte-Schrepping-10    CD14 Mono      \n",
       "10_1016_j_cell_2020_08_001_Schulte-Schrepping-100   CD14 Mono      \n",
       "10_1016_j_cell_2020_08_001_Schulte-Schrepping-1000  CD8 TEM        \n",
       "10_1016_j_cell_2020_08_001_Schulte-Schrepping-10000 CD14 Mono      \n",
       "                                                    celltype.mDC.l3\n",
       "10_1016_j_cell_2020_08_001_Schulte-Schrepping-0     CD14 Mono      \n",
       "10_1016_j_cell_2020_08_001_Schulte-Schrepping-1     CD14 Mono      \n",
       "10_1016_j_cell_2020_08_001_Schulte-Schrepping-10    CD14 Mono      \n",
       "10_1016_j_cell_2020_08_001_Schulte-Schrepping-100   CD14 Mono      \n",
       "10_1016_j_cell_2020_08_001_Schulte-Schrepping-1000  CD8 TEM_5      \n",
       "10_1016_j_cell_2020_08_001_Schulte-Schrepping-10000 CD14 Mono      \n",
       "                                                    donor_summary                         \n",
       "10_1016_j_cell_2020_08_001_Schulte-Schrepping-0     10_1016_j_cell_2020_08_001_C19-CB-0001\n",
       "10_1016_j_cell_2020_08_001_Schulte-Schrepping-1     10_1016_j_cell_2020_08_001_C19-CB-0003\n",
       "10_1016_j_cell_2020_08_001_Schulte-Schrepping-10    10_1016_j_cell_2020_08_001_C19-CB-0001\n",
       "10_1016_j_cell_2020_08_001_Schulte-Schrepping-100   10_1016_j_cell_2020_08_001_C19-CB-0003\n",
       "10_1016_j_cell_2020_08_001_Schulte-Schrepping-1000  10_1016_j_cell_2020_08_001_C19-CB-0001\n",
       "10_1016_j_cell_2020_08_001_Schulte-Schrepping-10000 10_1016_j_cell_2020_08_001_C19-CB-0005\n",
       "                                                    sex \n",
       "10_1016_j_cell_2020_08_001_Schulte-Schrepping-0     male\n",
       "10_1016_j_cell_2020_08_001_Schulte-Schrepping-1     male\n",
       "10_1016_j_cell_2020_08_001_Schulte-Schrepping-10    male\n",
       "10_1016_j_cell_2020_08_001_Schulte-Schrepping-100   male\n",
       "10_1016_j_cell_2020_08_001_Schulte-Schrepping-1000  male\n",
       "10_1016_j_cell_2020_08_001_Schulte-Schrepping-10000 male\n",
       "                                                    development_stage        \n",
       "10_1016_j_cell_2020_08_001_Schulte-Schrepping-0     third decade human stage \n",
       "10_1016_j_cell_2020_08_001_Schulte-Schrepping-1     fifth decade human stage \n",
       "10_1016_j_cell_2020_08_001_Schulte-Schrepping-10    third decade human stage \n",
       "10_1016_j_cell_2020_08_001_Schulte-Schrepping-100   fifth decade human stage \n",
       "10_1016_j_cell_2020_08_001_Schulte-Schrepping-1000  third decade human stage \n",
       "10_1016_j_cell_2020_08_001_Schulte-Schrepping-10000 eighth decade human stage\n",
       "                                                    ethnicity disease \n",
       "10_1016_j_cell_2020_08_001_Schulte-Schrepping-0     unknown   COVID-19\n",
       "10_1016_j_cell_2020_08_001_Schulte-Schrepping-1     unknown   COVID-19\n",
       "10_1016_j_cell_2020_08_001_Schulte-Schrepping-10    unknown   COVID-19\n",
       "10_1016_j_cell_2020_08_001_Schulte-Schrepping-100   unknown   COVID-19\n",
       "10_1016_j_cell_2020_08_001_Schulte-Schrepping-1000  unknown   COVID-19\n",
       "10_1016_j_cell_2020_08_001_Schulte-Schrepping-10000 unknown   COVID-19"
      ]
     },
     "metadata": {},
     "output_type": "display_data"
    }
   ],
   "source": [
    "# Seurat object\n",
    "mydir = \"/share/ScratchGeneral/anncuo/sc-integration-workshop/\"\n",
    "all_meta_filename = paste0(mydir,\"all_meta_new.rds\")\n",
    "# all_meta_filename = paste0(mydir,\"all_meta.rds\")\n",
    "all_meta = readRDS(all_meta_filename)\n",
    "head(all_meta)"
   ]
  },
  {
   "cell_type": "code",
   "execution_count": null,
   "id": "c974e1eb",
   "metadata": {},
   "outputs": [],
   "source": [
    "donors = c()\n",
    "for (i in 1:nrow(all_meta)){\n",
    "    study = all_meta$batch_id[i]\n",
    "    donor = gsub(paste0(study,\"_\"),\"\",all_meta$donor_summary[i])\n",
    "    donors = c(donors, donor)\n",
    "}"
   ]
  },
  {
   "cell_type": "code",
   "execution_count": null,
   "id": "eddf5a6f",
   "metadata": {},
   "outputs": [],
   "source": [
    "head(donors)"
   ]
  },
  {
   "cell_type": "code",
   "execution_count": null,
   "id": "35412f00",
   "metadata": {},
   "outputs": [],
   "source": [
    "all_meta$donor = donors"
   ]
  },
  {
   "cell_type": "code",
   "execution_count": null,
   "id": "48d79fce",
   "metadata": {},
   "outputs": [],
   "source": [
    "female_donors = all_meta[all_meta$sex==\"female\",\"donor\"]\n",
    "head(female_donors)"
   ]
  },
  {
   "cell_type": "code",
   "execution_count": 12,
   "id": "1a1cfd7f",
   "metadata": {},
   "outputs": [
    {
     "data": {
      "text/html": [
       "<style>\n",
       ".list-inline {list-style: none; margin:0; padding: 0}\n",
       ".list-inline>li {display: inline-block}\n",
       ".list-inline>li:not(:last-child)::after {content: \"\\00b7\"; padding: 0 .5ex}\n",
       "</style>\n",
       "<ol class=list-inline><li>'CD14_Mono'</li><li>'CD8_TEM'</li><li>'B_intermediate'</li><li>'B_naive'</li><li>'CD8_Naive'</li><li>'CD16_Mono'</li><li>'gdT'</li><li>'NK'</li><li>'NK_Proliferating'</li><li>'pDC'</li><li>'CD4_TCM'</li><li>'MAIT'</li><li>'cDC2'</li><li>'Platelet'</li><li>'B_memory'</li><li>'NK_CD56bright'</li><li>'CD4_TEM'</li><li>'CD4_Naive'</li><li>'CD4_CTL'</li><li>'cDC1'</li><li>'Treg'</li><li>'CD4_Proliferating'</li><li>'Neutrophils'</li><li>'CD8_TCM'</li><li>'Eryth'</li><li>'Plasmablast'</li><li>'ILC'</li><li>'dnT'</li><li>'CD8_Proliferating'</li><li>'ASDC'</li><li>'HSPC'</li><li>'Doublet'</li><li>'mDC'</li></ol>\n"
      ],
      "text/latex": [
       "\\begin{enumerate*}\n",
       "\\item 'CD14\\_Mono'\n",
       "\\item 'CD8\\_TEM'\n",
       "\\item 'B\\_intermediate'\n",
       "\\item 'B\\_naive'\n",
       "\\item 'CD8\\_Naive'\n",
       "\\item 'CD16\\_Mono'\n",
       "\\item 'gdT'\n",
       "\\item 'NK'\n",
       "\\item 'NK\\_Proliferating'\n",
       "\\item 'pDC'\n",
       "\\item 'CD4\\_TCM'\n",
       "\\item 'MAIT'\n",
       "\\item 'cDC2'\n",
       "\\item 'Platelet'\n",
       "\\item 'B\\_memory'\n",
       "\\item 'NK\\_CD56bright'\n",
       "\\item 'CD4\\_TEM'\n",
       "\\item 'CD4\\_Naive'\n",
       "\\item 'CD4\\_CTL'\n",
       "\\item 'cDC1'\n",
       "\\item 'Treg'\n",
       "\\item 'CD4\\_Proliferating'\n",
       "\\item 'Neutrophils'\n",
       "\\item 'CD8\\_TCM'\n",
       "\\item 'Eryth'\n",
       "\\item 'Plasmablast'\n",
       "\\item 'ILC'\n",
       "\\item 'dnT'\n",
       "\\item 'CD8\\_Proliferating'\n",
       "\\item 'ASDC'\n",
       "\\item 'HSPC'\n",
       "\\item 'Doublet'\n",
       "\\item 'mDC'\n",
       "\\end{enumerate*}\n"
      ],
      "text/markdown": [
       "1. 'CD14_Mono'\n",
       "2. 'CD8_TEM'\n",
       "3. 'B_intermediate'\n",
       "4. 'B_naive'\n",
       "5. 'CD8_Naive'\n",
       "6. 'CD16_Mono'\n",
       "7. 'gdT'\n",
       "8. 'NK'\n",
       "9. 'NK_Proliferating'\n",
       "10. 'pDC'\n",
       "11. 'CD4_TCM'\n",
       "12. 'MAIT'\n",
       "13. 'cDC2'\n",
       "14. 'Platelet'\n",
       "15. 'B_memory'\n",
       "16. 'NK_CD56bright'\n",
       "17. 'CD4_TEM'\n",
       "18. 'CD4_Naive'\n",
       "19. 'CD4_CTL'\n",
       "20. 'cDC1'\n",
       "21. 'Treg'\n",
       "22. 'CD4_Proliferating'\n",
       "23. 'Neutrophils'\n",
       "24. 'CD8_TCM'\n",
       "25. 'Eryth'\n",
       "26. 'Plasmablast'\n",
       "27. 'ILC'\n",
       "28. 'dnT'\n",
       "29. 'CD8_Proliferating'\n",
       "30. 'ASDC'\n",
       "31. 'HSPC'\n",
       "32. 'Doublet'\n",
       "33. 'mDC'\n",
       "\n",
       "\n"
      ],
      "text/plain": [
       " [1] \"CD14_Mono\"         \"CD8_TEM\"           \"B_intermediate\"   \n",
       " [4] \"B_naive\"           \"CD8_Naive\"         \"CD16_Mono\"        \n",
       " [7] \"gdT\"               \"NK\"                \"NK_Proliferating\" \n",
       "[10] \"pDC\"               \"CD4_TCM\"           \"MAIT\"             \n",
       "[13] \"cDC2\"              \"Platelet\"          \"B_memory\"         \n",
       "[16] \"NK_CD56bright\"     \"CD4_TEM\"           \"CD4_Naive\"        \n",
       "[19] \"CD4_CTL\"           \"cDC1\"              \"Treg\"             \n",
       "[22] \"CD4_Proliferating\" \"Neutrophils\"       \"CD8_TCM\"          \n",
       "[25] \"Eryth\"             \"Plasmablast\"       \"ILC\"              \n",
       "[28] \"dnT\"               \"CD8_Proliferating\" \"ASDC\"             \n",
       "[31] \"HSPC\"              \"Doublet\"           \"mDC\"              "
      ]
     },
     "metadata": {},
     "output_type": "display_data"
    }
   ],
   "source": [
    "celltypes = all_meta$celltype.mDC.l2\n",
    "celltypes = gsub(\" \",\"_\",celltypes)\n",
    "unique(celltypes)"
   ]
  },
  {
   "cell_type": "code",
   "execution_count": 13,
   "id": "e2198167",
   "metadata": {},
   "outputs": [
    {
     "data": {
      "text/html": [
       "<table class=\"dataframe\">\n",
       "<caption>A matrix: 6 × 1141 of type chr</caption>\n",
       "<thead>\n",
       "\t<tr><th></th><th scope=col>AP1-post_ASDC</th><th scope=col>AP11_ASDC</th><th scope=col>BGCV01_CV0902_ASDC</th><th scope=col>BGCV04_CV0911_ASDC</th><th scope=col>BGCV05_CV0128_ASDC</th><th scope=col>BGCV05_CV0929_ASDC</th><th scope=col>BGCV07_CV0104_ASDC</th><th scope=col>MH8919226_ASDC</th><th scope=col>MH8919327_ASDC</th><th scope=col>MH8919332_ASDC</th><th scope=col>⋯</th><th scope=col>BGCV11_CV0180_CD4_Naive</th><th scope=col>BGCV11_CV0257_CD4_Naive</th><th scope=col>BGCV12_CV0062_CD4_Naive</th><th scope=col>BGCV12_CV0068_CD4_Naive</th><th scope=col>BGCV12_CV0178_CD4_Naive</th><th scope=col>BGCV12_CV0926_CD4_Naive</th><th scope=col>BGCV13_CV0073_CD4_Naive</th><th scope=col>BGCV13_CV0171_CD4_Naive</th><th scope=col>BGCV13_CV0326_CD4_Naive</th><th scope=col>BGCV13_CV0934_CD4_Naive</th></tr>\n",
       "</thead>\n",
       "<tbody>\n",
       "\t<tr><th scope=row>ENSG00000000003</th><td>  0.0000000 </td><td>  0.0000000 </td><td>  0.0000000 </td><td>  0.0000000 </td><td>  0.0000000 </td><td>  0.0000000 </td><td>  0.0000000 </td><td>  0.0000000 </td><td>  0.0000000 </td><td>  0.0000000 </td><td>⋯</td><td>  0.0000000 </td><td>  0.0000000 </td><td>  0.0000000 </td><td>  0.0000000 </td><td>  0.0000000 </td><td>  2.9073625 </td><td>  0.0000000 </td><td>  0.0000000 </td><td>  0.0000000 </td><td>  2.6279268 </td></tr>\n",
       "\t<tr><th scope=row>ENSG00000000419</th><td>0.000000e+00</td><td>8.044573e-01</td><td>5.984349e-01</td><td>0.000000e+00</td><td>0.000000e+00</td><td>0.000000e+00</td><td>0.000000e+00</td><td>0.000000e+00</td><td>0.000000e+00</td><td>0.000000e+00</td><td>⋯</td><td>1.448642e+00</td><td>1.183261e+00</td><td>1.071247e+00</td><td>0.000000e+00</td><td>0.000000e+00</td><td>1.231395e+00</td><td>2.056344e+00</td><td>2.992654e+00</td><td>0.000000e+00</td><td>1.263218e+00</td></tr>\n",
       "\t<tr><th scope=row>ENSG00000000457</th><td>0.000000e+00</td><td>0.000000e+00</td><td>0.000000e+00</td><td>0.000000e+00</td><td>0.000000e+00</td><td>0.000000e+00</td><td>0.000000e+00</td><td>0.000000e+00</td><td>0.000000e+00</td><td>0.000000e+00</td><td>⋯</td><td>3.371118e+00</td><td>1.839566e+00</td><td>0.000000e+00</td><td>1.492784e+00</td><td>1.340688e+00</td><td>0.000000e+00</td><td>2.407948e+00</td><td>5.270887e+00</td><td>0.000000e+00</td><td>6.612974e+00</td></tr>\n",
       "\t<tr><th scope=row>ENSG00000000460</th><td>   0.0000000</td><td>   0.0000000</td><td>   0.0000000</td><td>   0.0000000</td><td>   0.0000000</td><td>   0.0000000</td><td>   0.0000000</td><td>   0.0000000</td><td>   0.0000000</td><td>   0.0000000</td><td>⋯</td><td>   0.0000000</td><td>   0.0000000</td><td>   1.2269471</td><td>   1.5457308</td><td>   0.0000000</td><td>   0.0000000</td><td>   0.0000000</td><td>   1.1918148</td><td>   0.0000000</td><td>   2.6489735</td></tr>\n",
       "\t<tr><th scope=row>ENSG00000000938</th><td>0.000000e+00</td><td>8.044573e-01</td><td>1.907301e+00</td><td>1.125660e+00</td><td>9.864366e-01</td><td>1.417019e+00</td><td>0.000000e+00</td><td>1.025421e+00</td><td>0.000000e+00</td><td>1.721475e+00</td><td>⋯</td><td>0.000000e+00</td><td>0.000000e+00</td><td>0.000000e+00</td><td>0.000000e+00</td><td>0.000000e+00</td><td>0.000000e+00</td><td>0.000000e+00</td><td>0.000000e+00</td><td>0.000000e+00</td><td>0.000000e+00</td></tr>\n",
       "\t<tr><th scope=row>ENSG00000000971</th><td>   0.0000000</td><td>   0.0000000</td><td>   0.0000000</td><td>   0.0000000</td><td>   0.0000000</td><td>   0.0000000</td><td>   0.0000000</td><td>   0.0000000</td><td>   0.0000000</td><td>   0.0000000</td><td>⋯</td><td>   0.0000000</td><td>   0.0000000</td><td>   0.0000000</td><td>   0.0000000</td><td>   0.0000000</td><td>   0.0000000</td><td>   0.0000000</td><td>   0.0000000</td><td>   0.0000000</td><td>   0.0000000</td></tr>\n",
       "</tbody>\n",
       "</table>\n"
      ],
      "text/latex": [
       "A matrix: 6 × 1141 of type chr\n",
       "\\begin{tabular}{r|lllllllllllllllllllll}\n",
       "  & AP1-post\\_ASDC & AP11\\_ASDC & BGCV01\\_CV0902\\_ASDC & BGCV04\\_CV0911\\_ASDC & BGCV05\\_CV0128\\_ASDC & BGCV05\\_CV0929\\_ASDC & BGCV07\\_CV0104\\_ASDC & MH8919226\\_ASDC & MH8919327\\_ASDC & MH8919332\\_ASDC & ⋯ & BGCV11\\_CV0180\\_CD4\\_Naive & BGCV11\\_CV0257\\_CD4\\_Naive & BGCV12\\_CV0062\\_CD4\\_Naive & BGCV12\\_CV0068\\_CD4\\_Naive & BGCV12\\_CV0178\\_CD4\\_Naive & BGCV12\\_CV0926\\_CD4\\_Naive & BGCV13\\_CV0073\\_CD4\\_Naive & BGCV13\\_CV0171\\_CD4\\_Naive & BGCV13\\_CV0326\\_CD4\\_Naive & BGCV13\\_CV0934\\_CD4\\_Naive\\\\\n",
       "\\hline\n",
       "\tENSG00000000003 &   0.0000000  &   0.0000000  &   0.0000000  &   0.0000000  &   0.0000000  &   0.0000000  &   0.0000000  &   0.0000000  &   0.0000000  &   0.0000000  & ⋯ &   0.0000000  &   0.0000000  &   0.0000000  &   0.0000000  &   0.0000000  &   2.9073625  &   0.0000000  &   0.0000000  &   0.0000000  &   2.6279268 \\\\\n",
       "\tENSG00000000419 & 0.000000e+00 & 8.044573e-01 & 5.984349e-01 & 0.000000e+00 & 0.000000e+00 & 0.000000e+00 & 0.000000e+00 & 0.000000e+00 & 0.000000e+00 & 0.000000e+00 & ⋯ & 1.448642e+00 & 1.183261e+00 & 1.071247e+00 & 0.000000e+00 & 0.000000e+00 & 1.231395e+00 & 2.056344e+00 & 2.992654e+00 & 0.000000e+00 & 1.263218e+00\\\\\n",
       "\tENSG00000000457 & 0.000000e+00 & 0.000000e+00 & 0.000000e+00 & 0.000000e+00 & 0.000000e+00 & 0.000000e+00 & 0.000000e+00 & 0.000000e+00 & 0.000000e+00 & 0.000000e+00 & ⋯ & 3.371118e+00 & 1.839566e+00 & 0.000000e+00 & 1.492784e+00 & 1.340688e+00 & 0.000000e+00 & 2.407948e+00 & 5.270887e+00 & 0.000000e+00 & 6.612974e+00\\\\\n",
       "\tENSG00000000460 &    0.0000000 &    0.0000000 &    0.0000000 &    0.0000000 &    0.0000000 &    0.0000000 &    0.0000000 &    0.0000000 &    0.0000000 &    0.0000000 & ⋯ &    0.0000000 &    0.0000000 &    1.2269471 &    1.5457308 &    0.0000000 &    0.0000000 &    0.0000000 &    1.1918148 &    0.0000000 &    2.6489735\\\\\n",
       "\tENSG00000000938 & 0.000000e+00 & 8.044573e-01 & 1.907301e+00 & 1.125660e+00 & 9.864366e-01 & 1.417019e+00 & 0.000000e+00 & 1.025421e+00 & 0.000000e+00 & 1.721475e+00 & ⋯ & 0.000000e+00 & 0.000000e+00 & 0.000000e+00 & 0.000000e+00 & 0.000000e+00 & 0.000000e+00 & 0.000000e+00 & 0.000000e+00 & 0.000000e+00 & 0.000000e+00\\\\\n",
       "\tENSG00000000971 &    0.0000000 &    0.0000000 &    0.0000000 &    0.0000000 &    0.0000000 &    0.0000000 &    0.0000000 &    0.0000000 &    0.0000000 &    0.0000000 & ⋯ &    0.0000000 &    0.0000000 &    0.0000000 &    0.0000000 &    0.0000000 &    0.0000000 &    0.0000000 &    0.0000000 &    0.0000000 &    0.0000000\\\\\n",
       "\\end{tabular}\n"
      ],
      "text/markdown": [
       "\n",
       "A matrix: 6 × 1141 of type chr\n",
       "\n",
       "| <!--/--> | AP1-post_ASDC | AP11_ASDC | BGCV01_CV0902_ASDC | BGCV04_CV0911_ASDC | BGCV05_CV0128_ASDC | BGCV05_CV0929_ASDC | BGCV07_CV0104_ASDC | MH8919226_ASDC | MH8919327_ASDC | MH8919332_ASDC | ⋯ | BGCV11_CV0180_CD4_Naive | BGCV11_CV0257_CD4_Naive | BGCV12_CV0062_CD4_Naive | BGCV12_CV0068_CD4_Naive | BGCV12_CV0178_CD4_Naive | BGCV12_CV0926_CD4_Naive | BGCV13_CV0073_CD4_Naive | BGCV13_CV0171_CD4_Naive | BGCV13_CV0326_CD4_Naive | BGCV13_CV0934_CD4_Naive |\n",
       "|---|---|---|---|---|---|---|---|---|---|---|---|---|---|---|---|---|---|---|---|---|---|\n",
       "| ENSG00000000003 |   0.0000000  |   0.0000000  |   0.0000000  |   0.0000000  |   0.0000000  |   0.0000000  |   0.0000000  |   0.0000000  |   0.0000000  |   0.0000000  | ⋯ |   0.0000000  |   0.0000000  |   0.0000000  |   0.0000000  |   0.0000000  |   2.9073625  |   0.0000000  |   0.0000000  |   0.0000000  |   2.6279268  |\n",
       "| ENSG00000000419 | 0.000000e+00 | 8.044573e-01 | 5.984349e-01 | 0.000000e+00 | 0.000000e+00 | 0.000000e+00 | 0.000000e+00 | 0.000000e+00 | 0.000000e+00 | 0.000000e+00 | ⋯ | 1.448642e+00 | 1.183261e+00 | 1.071247e+00 | 0.000000e+00 | 0.000000e+00 | 1.231395e+00 | 2.056344e+00 | 2.992654e+00 | 0.000000e+00 | 1.263218e+00 |\n",
       "| ENSG00000000457 | 0.000000e+00 | 0.000000e+00 | 0.000000e+00 | 0.000000e+00 | 0.000000e+00 | 0.000000e+00 | 0.000000e+00 | 0.000000e+00 | 0.000000e+00 | 0.000000e+00 | ⋯ | 3.371118e+00 | 1.839566e+00 | 0.000000e+00 | 1.492784e+00 | 1.340688e+00 | 0.000000e+00 | 2.407948e+00 | 5.270887e+00 | 0.000000e+00 | 6.612974e+00 |\n",
       "| ENSG00000000460 |    0.0000000 |    0.0000000 |    0.0000000 |    0.0000000 |    0.0000000 |    0.0000000 |    0.0000000 |    0.0000000 |    0.0000000 |    0.0000000 | ⋯ |    0.0000000 |    0.0000000 |    1.2269471 |    1.5457308 |    0.0000000 |    0.0000000 |    0.0000000 |    1.1918148 |    0.0000000 |    2.6489735 |\n",
       "| ENSG00000000938 | 0.000000e+00 | 8.044573e-01 | 1.907301e+00 | 1.125660e+00 | 9.864366e-01 | 1.417019e+00 | 0.000000e+00 | 1.025421e+00 | 0.000000e+00 | 1.721475e+00 | ⋯ | 0.000000e+00 | 0.000000e+00 | 0.000000e+00 | 0.000000e+00 | 0.000000e+00 | 0.000000e+00 | 0.000000e+00 | 0.000000e+00 | 0.000000e+00 | 0.000000e+00 |\n",
       "| ENSG00000000971 |    0.0000000 |    0.0000000 |    0.0000000 |    0.0000000 |    0.0000000 |    0.0000000 |    0.0000000 |    0.0000000 |    0.0000000 |    0.0000000 | ⋯ |    0.0000000 |    0.0000000 |    0.0000000 |    0.0000000 |    0.0000000 |    0.0000000 |    0.0000000 |    0.0000000 |    0.0000000 |    0.0000000 |\n",
       "\n"
      ],
      "text/plain": [
       "                AP1-post_ASDC AP11_ASDC    BGCV01_CV0902_ASDC\n",
       "ENSG00000000003   0.0000000     0.0000000    0.0000000       \n",
       "ENSG00000000419 0.000000e+00  8.044573e-01 5.984349e-01      \n",
       "ENSG00000000457 0.000000e+00  0.000000e+00 0.000000e+00      \n",
       "ENSG00000000460    0.0000000     0.0000000    0.0000000      \n",
       "ENSG00000000938 0.000000e+00  8.044573e-01 1.907301e+00      \n",
       "ENSG00000000971    0.0000000     0.0000000    0.0000000      \n",
       "                BGCV04_CV0911_ASDC BGCV05_CV0128_ASDC BGCV05_CV0929_ASDC\n",
       "ENSG00000000003   0.0000000          0.0000000          0.0000000       \n",
       "ENSG00000000419 0.000000e+00       0.000000e+00       0.000000e+00      \n",
       "ENSG00000000457 0.000000e+00       0.000000e+00       0.000000e+00      \n",
       "ENSG00000000460    0.0000000          0.0000000          0.0000000      \n",
       "ENSG00000000938 1.125660e+00       9.864366e-01       1.417019e+00      \n",
       "ENSG00000000971    0.0000000          0.0000000          0.0000000      \n",
       "                BGCV07_CV0104_ASDC MH8919226_ASDC MH8919327_ASDC MH8919332_ASDC\n",
       "ENSG00000000003   0.0000000          0.0000000      0.0000000      0.0000000   \n",
       "ENSG00000000419 0.000000e+00       0.000000e+00   0.000000e+00   0.000000e+00  \n",
       "ENSG00000000457 0.000000e+00       0.000000e+00   0.000000e+00   0.000000e+00  \n",
       "ENSG00000000460    0.0000000          0.0000000      0.0000000      0.0000000  \n",
       "ENSG00000000938 0.000000e+00       1.025421e+00   0.000000e+00   1.721475e+00  \n",
       "ENSG00000000971    0.0000000          0.0000000      0.0000000      0.0000000  \n",
       "                ⋯ BGCV11_CV0180_CD4_Naive BGCV11_CV0257_CD4_Naive\n",
       "ENSG00000000003 ⋯   0.0000000               0.0000000            \n",
       "ENSG00000000419 ⋯ 1.448642e+00            1.183261e+00           \n",
       "ENSG00000000457 ⋯ 3.371118e+00            1.839566e+00           \n",
       "ENSG00000000460 ⋯    0.0000000               0.0000000           \n",
       "ENSG00000000938 ⋯ 0.000000e+00            0.000000e+00           \n",
       "ENSG00000000971 ⋯    0.0000000               0.0000000           \n",
       "                BGCV12_CV0062_CD4_Naive BGCV12_CV0068_CD4_Naive\n",
       "ENSG00000000003   0.0000000               0.0000000            \n",
       "ENSG00000000419 1.071247e+00            0.000000e+00           \n",
       "ENSG00000000457 0.000000e+00            1.492784e+00           \n",
       "ENSG00000000460    1.2269471               1.5457308           \n",
       "ENSG00000000938 0.000000e+00            0.000000e+00           \n",
       "ENSG00000000971    0.0000000               0.0000000           \n",
       "                BGCV12_CV0178_CD4_Naive BGCV12_CV0926_CD4_Naive\n",
       "ENSG00000000003   0.0000000               2.9073625            \n",
       "ENSG00000000419 0.000000e+00            1.231395e+00           \n",
       "ENSG00000000457 1.340688e+00            0.000000e+00           \n",
       "ENSG00000000460    0.0000000               0.0000000           \n",
       "ENSG00000000938 0.000000e+00            0.000000e+00           \n",
       "ENSG00000000971    0.0000000               0.0000000           \n",
       "                BGCV13_CV0073_CD4_Naive BGCV13_CV0171_CD4_Naive\n",
       "ENSG00000000003   0.0000000               0.0000000            \n",
       "ENSG00000000419 2.056344e+00            2.992654e+00           \n",
       "ENSG00000000457 2.407948e+00            5.270887e+00           \n",
       "ENSG00000000460    0.0000000               1.1918148           \n",
       "ENSG00000000938 0.000000e+00            0.000000e+00           \n",
       "ENSG00000000971    0.0000000               0.0000000           \n",
       "                BGCV13_CV0326_CD4_Naive BGCV13_CV0934_CD4_Naive\n",
       "ENSG00000000003   0.0000000               2.6279268            \n",
       "ENSG00000000419 0.000000e+00            1.263218e+00           \n",
       "ENSG00000000457 0.000000e+00            6.612974e+00           \n",
       "ENSG00000000460    0.0000000               2.6489735           \n",
       "ENSG00000000938 0.000000e+00            0.000000e+00           \n",
       "ENSG00000000971    0.0000000               0.0000000           "
      ]
     },
     "metadata": {},
     "output_type": "display_data"
    }
   ],
   "source": [
    "df = t(pb)\n",
    "head(df)"
   ]
  },
  {
   "cell_type": "code",
   "execution_count": null,
   "id": "e7157edd",
   "metadata": {},
   "outputs": [],
   "source": [
    "for (celltype in celltypes){\n",
    "    samples = colnames(df)[grep(celltype,colnames(df))]\n",
    "    counts = df[,samples]\n",
    "    samples = gsub(paste0(\"_\",celltype),\"\",samples)\n",
    "    # get meta\n",
    "}"
   ]
  },
  {
   "cell_type": "code",
   "execution_count": null,
   "id": "82493567",
   "metadata": {},
   "outputs": [],
   "source": []
  },
  {
   "cell_type": "code",
   "execution_count": null,
   "id": "eafb30cf",
   "metadata": {},
   "outputs": [],
   "source": []
  },
  {
   "cell_type": "code",
   "execution_count": 14,
   "id": "1f06de46",
   "metadata": {},
   "outputs": [],
   "source": [
    "celltype = 'CD14_Mono'"
   ]
  },
  {
   "cell_type": "code",
   "execution_count": 15,
   "id": "88e8dfe0",
   "metadata": {},
   "outputs": [
    {
     "data": {
      "text/html": [
       "194"
      ],
      "text/latex": [
       "194"
      ],
      "text/markdown": [
       "194"
      ],
      "text/plain": [
       "[1] 194"
      ]
     },
     "metadata": {},
     "output_type": "display_data"
    },
    {
     "data": {
      "text/html": [
       "<style>\n",
       ".list-inline {list-style: none; margin:0; padding: 0}\n",
       ".list-inline>li {display: inline-block}\n",
       ".list-inline>li:not(:last-child)::after {content: \"\\00b7\"; padding: 0 .5ex}\n",
       "</style>\n",
       "<ol class=list-inline><li>'AN1_CD14_Mono'</li><li>'AN11_CD14_Mono'</li><li>'AN12_CD14_Mono'</li><li>'AN13_CD14_Mono'</li><li>'AN14_CD14_Mono'</li><li>'AN2_CD14_Mono'</li></ol>\n"
      ],
      "text/latex": [
       "\\begin{enumerate*}\n",
       "\\item 'AN1\\_CD14\\_Mono'\n",
       "\\item 'AN11\\_CD14\\_Mono'\n",
       "\\item 'AN12\\_CD14\\_Mono'\n",
       "\\item 'AN13\\_CD14\\_Mono'\n",
       "\\item 'AN14\\_CD14\\_Mono'\n",
       "\\item 'AN2\\_CD14\\_Mono'\n",
       "\\end{enumerate*}\n"
      ],
      "text/markdown": [
       "1. 'AN1_CD14_Mono'\n",
       "2. 'AN11_CD14_Mono'\n",
       "3. 'AN12_CD14_Mono'\n",
       "4. 'AN13_CD14_Mono'\n",
       "5. 'AN14_CD14_Mono'\n",
       "6. 'AN2_CD14_Mono'\n",
       "\n",
       "\n"
      ],
      "text/plain": [
       "[1] \"AN1_CD14_Mono\"  \"AN11_CD14_Mono\" \"AN12_CD14_Mono\" \"AN13_CD14_Mono\"\n",
       "[5] \"AN14_CD14_Mono\" \"AN2_CD14_Mono\" "
      ]
     },
     "metadata": {},
     "output_type": "display_data"
    }
   ],
   "source": [
    "samples = colnames(df)[grep(celltype,colnames(df))]\n",
    "length(samples)\n",
    "head(samples)"
   ]
  },
  {
   "cell_type": "code",
   "execution_count": 16,
   "id": "a7fc852f",
   "metadata": {},
   "outputs": [
    {
     "data": {
      "text/html": [
       "<table class=\"dataframe\">\n",
       "<caption>A matrix: 5 × 5 of type chr</caption>\n",
       "<thead>\n",
       "\t<tr><th></th><th scope=col>AN1_CD14_Mono</th><th scope=col>AN11_CD14_Mono</th><th scope=col>AN12_CD14_Mono</th><th scope=col>AN13_CD14_Mono</th><th scope=col>AN14_CD14_Mono</th></tr>\n",
       "</thead>\n",
       "<tbody>\n",
       "\t<tr><th scope=row>ENSG00000000003</th><td>  0.0000000 </td><td>  0.0000000 </td><td>  0.0000000 </td><td>  0.0000000 </td><td>  0.0000000 </td></tr>\n",
       "\t<tr><th scope=row>ENSG00000000419</th><td>4.119668e+00</td><td>1.258353e+01</td><td>1.326961e+01</td><td>2.086688e+01</td><td>9.824566e+00</td></tr>\n",
       "\t<tr><th scope=row>ENSG00000000457</th><td>1.512336e+00</td><td>6.117223e+00</td><td>1.470711e+00</td><td>1.938575e+00</td><td>2.097405e+00</td></tr>\n",
       "\t<tr><th scope=row>ENSG00000000460</th><td>   0.0000000</td><td>   0.0000000</td><td>   5.4537296</td><td>   2.8343515</td><td>   0.0000000</td></tr>\n",
       "\t<tr><th scope=row>ENSG00000000938</th><td>3.339525e+01</td><td>1.168275e+02</td><td>1.868230e+02</td><td>1.269320e+02</td><td>1.066563e+02</td></tr>\n",
       "</tbody>\n",
       "</table>\n"
      ],
      "text/latex": [
       "A matrix: 5 × 5 of type chr\n",
       "\\begin{tabular}{r|lllll}\n",
       "  & AN1\\_CD14\\_Mono & AN11\\_CD14\\_Mono & AN12\\_CD14\\_Mono & AN13\\_CD14\\_Mono & AN14\\_CD14\\_Mono\\\\\n",
       "\\hline\n",
       "\tENSG00000000003 &   0.0000000  &   0.0000000  &   0.0000000  &   0.0000000  &   0.0000000 \\\\\n",
       "\tENSG00000000419 & 4.119668e+00 & 1.258353e+01 & 1.326961e+01 & 2.086688e+01 & 9.824566e+00\\\\\n",
       "\tENSG00000000457 & 1.512336e+00 & 6.117223e+00 & 1.470711e+00 & 1.938575e+00 & 2.097405e+00\\\\\n",
       "\tENSG00000000460 &    0.0000000 &    0.0000000 &    5.4537296 &    2.8343515 &    0.0000000\\\\\n",
       "\tENSG00000000938 & 3.339525e+01 & 1.168275e+02 & 1.868230e+02 & 1.269320e+02 & 1.066563e+02\\\\\n",
       "\\end{tabular}\n"
      ],
      "text/markdown": [
       "\n",
       "A matrix: 5 × 5 of type chr\n",
       "\n",
       "| <!--/--> | AN1_CD14_Mono | AN11_CD14_Mono | AN12_CD14_Mono | AN13_CD14_Mono | AN14_CD14_Mono |\n",
       "|---|---|---|---|---|---|\n",
       "| ENSG00000000003 |   0.0000000  |   0.0000000  |   0.0000000  |   0.0000000  |   0.0000000  |\n",
       "| ENSG00000000419 | 4.119668e+00 | 1.258353e+01 | 1.326961e+01 | 2.086688e+01 | 9.824566e+00 |\n",
       "| ENSG00000000457 | 1.512336e+00 | 6.117223e+00 | 1.470711e+00 | 1.938575e+00 | 2.097405e+00 |\n",
       "| ENSG00000000460 |    0.0000000 |    0.0000000 |    5.4537296 |    2.8343515 |    0.0000000 |\n",
       "| ENSG00000000938 | 3.339525e+01 | 1.168275e+02 | 1.868230e+02 | 1.269320e+02 | 1.066563e+02 |\n",
       "\n"
      ],
      "text/plain": [
       "                AN1_CD14_Mono AN11_CD14_Mono AN12_CD14_Mono AN13_CD14_Mono\n",
       "ENSG00000000003   0.0000000     0.0000000      0.0000000      0.0000000   \n",
       "ENSG00000000419 4.119668e+00  1.258353e+01   1.326961e+01   2.086688e+01  \n",
       "ENSG00000000457 1.512336e+00  6.117223e+00   1.470711e+00   1.938575e+00  \n",
       "ENSG00000000460    0.0000000     0.0000000      5.4537296      2.8343515  \n",
       "ENSG00000000938 3.339525e+01  1.168275e+02   1.868230e+02   1.269320e+02  \n",
       "                AN14_CD14_Mono\n",
       "ENSG00000000003   0.0000000   \n",
       "ENSG00000000419 9.824566e+00  \n",
       "ENSG00000000457 2.097405e+00  \n",
       "ENSG00000000460    0.0000000  \n",
       "ENSG00000000938 1.066563e+02  "
      ]
     },
     "metadata": {},
     "output_type": "display_data"
    }
   ],
   "source": [
    "counts = df[,samples]\n",
    "counts[1:5,1:5]"
   ]
  },
  {
   "cell_type": "code",
   "execution_count": 17,
   "id": "0b7abe31",
   "metadata": {},
   "outputs": [
    {
     "data": {
      "text/html": [
       "<style>\n",
       ".list-inline {list-style: none; margin:0; padding: 0}\n",
       ".list-inline>li {display: inline-block}\n",
       ".list-inline>li:not(:last-child)::after {content: \"\\00b7\"; padding: 0 .5ex}\n",
       "</style>\n",
       "<ol class=list-inline><li>'AN1'</li><li>'AN11'</li><li>'AN12'</li><li>'AN13'</li><li>'AN14'</li><li>'AN2'</li></ol>\n"
      ],
      "text/latex": [
       "\\begin{enumerate*}\n",
       "\\item 'AN1'\n",
       "\\item 'AN11'\n",
       "\\item 'AN12'\n",
       "\\item 'AN13'\n",
       "\\item 'AN14'\n",
       "\\item 'AN2'\n",
       "\\end{enumerate*}\n"
      ],
      "text/markdown": [
       "1. 'AN1'\n",
       "2. 'AN11'\n",
       "3. 'AN12'\n",
       "4. 'AN13'\n",
       "5. 'AN14'\n",
       "6. 'AN2'\n",
       "\n",
       "\n"
      ],
      "text/plain": [
       "[1] \"AN1\"  \"AN11\" \"AN12\" \"AN13\" \"AN14\" \"AN2\" "
      ]
     },
     "metadata": {},
     "output_type": "display_data"
    }
   ],
   "source": [
    "samples = gsub(paste0(\"_\",celltype),\"\",samples)\n",
    "head(samples)"
   ]
  },
  {
   "cell_type": "code",
   "execution_count": null,
   "id": "793b8cb9",
   "metadata": {},
   "outputs": [],
   "source": [
    "    meta_subset = age_sex[age_sex$sampleid %in% colnames(counts),]\n",
    "    rownames(meta_subset) = meta_subset$sampleid"
   ]
  },
  {
   "cell_type": "code",
   "execution_count": null,
   "id": "bdaa4f01",
   "metadata": {},
   "outputs": [],
   "source": [
    "colnames(counts) = samples\n",
    "\n",
    "sce = CreateSeuratObject(counts, meta.data = meta_subset)\n",
    "Idents(object = sce, cells = female_donors) <- \"Female\"\n",
    "mat = FindMarkers(sce, ident.1 = \"Female\", min.pct = 0.5)\n",
    "write.csv(mat,paste0(\"/share/ScratchGeneral/anncuo/sc-integration-workshop/integrated_DE_results_\",celltype,\".csv\"))"
   ]
  },
  {
   "cell_type": "code",
   "execution_count": null,
   "id": "d50d6979",
   "metadata": {},
   "outputs": [],
   "source": []
  },
  {
   "cell_type": "code",
   "execution_count": null,
   "id": "339c0cd0",
   "metadata": {},
   "outputs": [],
   "source": []
  },
  {
   "cell_type": "code",
   "execution_count": null,
   "id": "733dec9a",
   "metadata": {},
   "outputs": [],
   "source": [
    "for (celltype in celltypes){\n",
    "    print(celltype)\n",
    "    samples = colnames(df)[grep(celltype,colnames(df))]\n",
    "    counts = df[,samples]\n",
    "    samples = gsub(paste0(\"_\",celltype),\"\",samples)\n",
    "    meta_subset = age_sex[age_sex$sampleid %in% colnames(counts),]\n",
    "    rownames(meta_subset) = meta_subset$sampleid\n",
    "    colnames(counts) = samples\n",
    "    sce = CreateSeuratObject(counts, meta.data = meta_subset)\n",
    "    Idents(object = sce, cells = female_donors) <- \"Female\"\n",
    "    mat = FindMarkers(sce, ident.1 = \"Female\", min.pct = 0.5)\n",
    "    write.csv(mat,paste0(\"/share/ScratchGeneral/anncuo/sc-integration-workshop/DE_results_\",celltype,\".csv\"))\n",
    "}"
   ]
  }
 ],
 "metadata": {
  "kernelspec": {
   "display_name": "Single Cell Notebook (R 4.1.2)",
   "language": "R",
   "name": "singlecell"
  },
  "language_info": {
   "codemirror_mode": "r",
   "file_extension": ".r",
   "mimetype": "text/x-r-source",
   "name": "R",
   "pygments_lexer": "r",
   "version": "4.1.2"
  }
 },
 "nbformat": 4,
 "nbformat_minor": 5
}
