{
 "cells": [
  {
   "cell_type": "code",
   "execution_count": 10,
   "id": "e533f0e9",
   "metadata": {},
   "outputs": [],
   "source": [
    "h5_filename = \"/share/ScratchGeneral/anncuo/sc-integration-workshop/satija_integration_blood.h5ad\""
   ]
  },
  {
   "cell_type": "code",
   "execution_count": 11,
   "id": "ac3d1a18",
   "metadata": {},
   "outputs": [],
   "source": [
    "library(Seurat)\n",
    "library(SeuratData)\n",
    "library(SeuratDisk)"
   ]
  },
  {
   "cell_type": "code",
   "execution_count": 12,
   "id": "fc025c3f",
   "metadata": {},
   "outputs": [],
   "source": [
    "?Convert"
   ]
  },
  {
   "cell_type": "code",
   "execution_count": 13,
   "id": "0bfb81a1",
   "metadata": {},
   "outputs": [
    {
     "name": "stderr",
     "output_type": "stream",
     "text": [
      "Warning message:\n",
      "“Unknown file type: h5ad”\n"
     ]
    },
    {
     "ename": "ERROR",
     "evalue": "Error in H5File.open(filename, mode, file_create_pl, file_access_pl): HDF5-API Errors:\n    error #000: H5F.c in H5Fopen(): line 620: unable to open file\n        class: HDF5\n        major: File accessibility\n        minor: Unable to open file\n\n    error #001: H5VLcallback.c in H5VL_file_open(): line 3501: failed to iterate over available VOL connector plugins\n        class: HDF5\n        major: Virtual Object Layer\n        minor: Iteration failed\n\n    error #002: H5PLpath.c in H5PL__path_table_iterate(): line 578: can't iterate over plugins in plugin path '(null)'\n        class: HDF5\n        major: Plugin for dynamically loaded library\n        minor: Iteration failed\n\n    error #003: H5PLpath.c in H5PL__path_table_iterate_process_path(): line 620: can't open directory: /share/ScratchGeneral/anncuo/jupyter/conda_notebooks/envs/r_notebook/lib/hdf5/plugin\n        class: HDF5\n        major: Plugin for dynamically loaded library\n        minor: Can't open directory or file\n\n    error #004: H5VLcallback.c in H5VL__file_open(): line 3351: open failed\n        clas\n",
     "output_type": "error",
     "traceback": [
      "Error in H5File.open(filename, mode, file_create_pl, file_access_pl): HDF5-API Errors:\n    error #000: H5F.c in H5Fopen(): line 620: unable to open file\n        class: HDF5\n        major: File accessibility\n        minor: Unable to open file\n\n    error #001: H5VLcallback.c in H5VL_file_open(): line 3501: failed to iterate over available VOL connector plugins\n        class: HDF5\n        major: Virtual Object Layer\n        minor: Iteration failed\n\n    error #002: H5PLpath.c in H5PL__path_table_iterate(): line 578: can't iterate over plugins in plugin path '(null)'\n        class: HDF5\n        major: Plugin for dynamically loaded library\n        minor: Iteration failed\n\n    error #003: H5PLpath.c in H5PL__path_table_iterate_process_path(): line 620: can't open directory: /share/ScratchGeneral/anncuo/jupyter/conda_notebooks/envs/r_notebook/lib/hdf5/plugin\n        class: HDF5\n        major: Plugin for dynamically loaded library\n        minor: Can't open directory or file\n\n    error #004: H5VLcallback.c in H5VL__file_open(): line 3351: open failed\n        clas\nTraceback:\n",
      "1. Convert(h5_filename, \".h5seurat\")",
      "2. Convert.character(h5_filename, \".h5seurat\")",
      "3. Connect(filename = source, force = TRUE)",
      "4. tryCatch(expr = {\n .     cls <- GetSCDisk(r6class = type)\n .     cls$new(filename = filename, mode = mode)\n . }, error = function(err) {\n .     if (!isTRUE(x = force)) {\n .         stop(err$message, call. = FALSE)\n .     }\n .     warning(err$message, call. = FALSE, immediate. = TRUE)\n .     return(H5File$new(filename = filename, mode = mode))\n . })",
      "5. tryCatchList(expr, classes, parentenv, handlers)",
      "6. tryCatchOne(expr, names, parentenv, handlers[[1L]])",
      "7. value[[3L]](cond)",
      "8. H5File$new(filename = filename, mode = mode)",
      "9. initialize(...)",
      "10. H5File.open(filename, mode, file_create_pl, file_access_pl)"
     ]
    }
   ],
   "source": [
    "Convert(h5_filename, \".h5seurat\")\n",
    "# seuratObject <- LoadH5Seurat(\"example_dir/example_ad.h5Seurat\")"
   ]
  },
  {
   "cell_type": "code",
   "execution_count": null,
   "id": "85d26c04",
   "metadata": {},
   "outputs": [],
   "source": []
  }
 ],
 "metadata": {
  "kernelspec": {
   "display_name": "Single Cell Notebook (R 4.1.2)",
   "language": "R",
   "name": "singlecell"
  },
  "language_info": {
   "codemirror_mode": "r",
   "file_extension": ".r",
   "mimetype": "text/x-r-source",
   "name": "R",
   "pygments_lexer": "r",
   "version": "4.1.2"
  }
 },
 "nbformat": 4,
 "nbformat_minor": 5
}
