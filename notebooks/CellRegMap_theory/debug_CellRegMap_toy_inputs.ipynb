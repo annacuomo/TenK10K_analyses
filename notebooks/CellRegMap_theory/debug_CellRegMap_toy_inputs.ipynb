{
 "cells": [
  {
   "cell_type": "code",
   "execution_count": 1,
   "id": "fb9c6df5",
   "metadata": {},
   "outputs": [],
   "source": [
    "from numpy import ones, linspace, sqrt, concatenate, asarray, inf\n",
    "from numpy_sugar import ddot\n",
    "from numpy.random import RandomState\n",
    "from numpy_sugar.linalg import economic_qs, economic_qs_linear, economic_svd\n",
    "from glimix_core.lmm import LMM\n",
    "from chiscore import davies_pvalue"
   ]
  },
  {
   "cell_type": "code",
   "execution_count": 2,
   "id": "aeccdd89",
   "metadata": {},
   "outputs": [],
   "source": [
    "from cellregmap import CellRegMap, run_association, run_association_fast, run_interaction, estimate_betas"
   ]
  },
  {
   "cell_type": "code",
   "execution_count": 3,
   "id": "65b1b77a",
   "metadata": {},
   "outputs": [],
   "source": [
    "random = RandomState(1)\n",
    "n = 30                               # number of samples (cells)\n",
    "p = 5                                # number of individuals\n",
    "k = 4                                # number of contexts\n",
    "y = random.randn(n, 1)               # outcome vector (expression phenotype, one gene only)\n",
    "C = random.randn(n, k)               # context matrix (cells by contexts/factors)\n",
    "W = ones((n, 1))                     # intercept (covariate matrix)\n",
    "hK = random.randn(n, p)              # decomposition of kinship matrix (K = hK @ hK.T)\n",
    "g = 1.0 * (random.rand(n, 1) < 0.2)  # SNP vector"
   ]
  },
  {
   "cell_type": "code",
   "execution_count": 4,
   "id": "706d7c59",
   "metadata": {},
   "outputs": [],
   "source": [
    "import time\n",
    "import matplotlib.pyplot as plt"
   ]
  },
  {
   "cell_type": "code",
   "execution_count": 5,
   "id": "11d4ca6f",
   "metadata": {},
   "outputs": [],
   "source": [
    "########################################################\n",
    "########################################################\n",
    "########################################################"
   ]
  },
  {
   "cell_type": "code",
   "execution_count": 6,
   "id": "539bea22",
   "metadata": {},
   "outputs": [],
   "source": [
    "########################################################\n",
    "############## Association Test"
   ]
  },
  {
   "cell_type": "code",
   "execution_count": 7,
   "id": "a942e1bb",
   "metadata": {},
   "outputs": [],
   "source": [
    "###### Fit null model\n",
    "# crm = CellRegMap(y=y, W=W, C=C, hK=hK)"
   ]
  },
  {
   "cell_type": "code",
   "execution_count": 8,
   "id": "721960e8",
   "metadata": {},
   "outputs": [
    {
     "name": "stdout",
     "output_type": "stream",
     "text": [
      "--- 0.00025653839111328125 seconds ---\n"
     ]
    }
   ],
   "source": [
    "start_time = time.time()\n",
    "rhos = linspace(0, 1, 11)\n",
    "print(\"--- %s seconds ---\" % (time.time() - start_time))"
   ]
  },
  {
   "cell_type": "code",
   "execution_count": 9,
   "id": "f8352620",
   "metadata": {},
   "outputs": [
    {
     "data": {
      "text/plain": [
       "array([0. , 0.1, 0.2, 0.3, 0.4, 0.5, 0.6, 0.7, 0.8, 0.9, 1. ])"
      ]
     },
     "execution_count": 9,
     "metadata": {},
     "output_type": "execute_result"
    }
   ],
   "source": [
    "rhos"
   ]
  },
  {
   "cell_type": "code",
   "execution_count": 10,
   "id": "6c4f6d73",
   "metadata": {},
   "outputs": [],
   "source": [
    "# pick one value of rho as example"
   ]
  },
  {
   "cell_type": "code",
   "execution_count": 11,
   "id": "bac0dc37",
   "metadata": {},
   "outputs": [
    {
     "data": {
      "text/plain": [
       "0.0"
      ]
     },
     "execution_count": 11,
     "metadata": {},
     "output_type": "execute_result"
    }
   ],
   "source": [
    "rho = rhos[0]\n",
    "rho"
   ]
  },
  {
   "cell_type": "code",
   "execution_count": 12,
   "id": "6ad67682",
   "metadata": {},
   "outputs": [
    {
     "data": {
      "text/plain": [
       "[0.0, 1.0]"
      ]
     },
     "execution_count": 12,
     "metadata": {},
     "output_type": "execute_result"
    }
   ],
   "source": [
    "a = sqrt(rho)\n",
    "b = sqrt(1 - rho)\n",
    "[a,b]"
   ]
  },
  {
   "cell_type": "code",
   "execution_count": 13,
   "id": "90d0f871",
   "metadata": {},
   "outputs": [
    {
     "name": "stdout",
     "output_type": "stream",
     "text": [
      "--- 0.0004143714904785156 seconds ---\n"
     ]
    }
   ],
   "source": [
    "start_time = time.time()\n",
    "hS = concatenate([a * C] + [b * hK], axis=1)\n",
    "print(\"--- %s seconds ---\" % (time.time() - start_time))"
   ]
  },
  {
   "cell_type": "code",
   "execution_count": 14,
   "id": "bb138410",
   "metadata": {},
   "outputs": [
    {
     "data": {
      "text/plain": [
       "<matplotlib.image.AxesImage at 0x2b7f21bae0d0>"
      ]
     },
     "execution_count": 14,
     "metadata": {},
     "output_type": "execute_result"
    },
    {
     "data": {
      "image/png": "[encoded data removed]",
      "text/plain": [
       "<Figure size 288x960 with 1 Axes>"
      ]
     },
     "metadata": {
      "needs_background": "light"
     },
     "output_type": "display_data"
    }
   ],
   "source": [
    "plt.matshow(hS)"
   ]
  },
  {
   "cell_type": "code",
   "execution_count": 15,
   "id": "ab57c11c",
   "metadata": {},
   "outputs": [
    {
     "data": {
      "text/plain": [
       "<matplotlib.image.AxesImage at 0x2b7f22437310>"
      ]
     },
     "execution_count": 15,
     "metadata": {},
     "output_type": "execute_result"
    },
    {
     "data": {
      "image/png": "[encoded data removed]",
      "text/plain": [
       "<Figure size 288x288 with 1 Axes>"
      ]
     },
     "metadata": {
      "needs_background": "light"
     },
     "output_type": "display_data"
    }
   ],
   "source": [
    "plt.matshow(hS @ hS.T)"
   ]
  },
  {
   "cell_type": "code",
   "execution_count": 16,
   "id": "1444129b",
   "metadata": {},
   "outputs": [
    {
     "data": {
      "text/plain": [
       "<matplotlib.image.AxesImage at 0x2b7f2289f310>"
      ]
     },
     "execution_count": 16,
     "metadata": {},
     "output_type": "execute_result"
    },
    {
     "data": {
      "image/png": "[encoded data removed]",
      "text/plain": [
       "<Figure size 288x288 with 1 Axes>"
      ]
     },
     "metadata": {
      "needs_background": "light"
     },
     "output_type": "display_data"
    }
   ],
   "source": [
    "# just checking this is the same\n",
    "M = rho*C @ C.T + (1-rho)*(hK @ hK.T)\n",
    "plt.matshow(M)"
   ]
  },
  {
   "cell_type": "code",
   "execution_count": 17,
   "id": "8834e848",
   "metadata": {},
   "outputs": [
    {
     "data": {
      "text/plain": [
       "(30, 9)"
      ]
     },
     "execution_count": 17,
     "metadata": {},
     "output_type": "execute_result"
    }
   ],
   "source": [
    "# rank = 9: 4 contexts + 5 individuals\n",
    "# n cells = 30\n",
    "hS.shape"
   ]
  },
  {
   "cell_type": "code",
   "execution_count": 18,
   "id": "9eb050a3",
   "metadata": {},
   "outputs": [
    {
     "data": {
      "text/plain": [
       "(30, 30)"
      ]
     },
     "execution_count": 18,
     "metadata": {},
     "output_type": "execute_result"
    }
   ],
   "source": [
    "S = hS @ hS.T\n",
    "S.shape"
   ]
  },
  {
   "cell_type": "code",
   "execution_count": 19,
   "id": "e44ebbde",
   "metadata": {},
   "outputs": [
    {
     "name": "stdout",
     "output_type": "stream",
     "text": [
      "--- 0.32024264335632324 seconds ---\n"
     ]
    }
   ],
   "source": [
    "start_time = time.time()\n",
    "QS = economic_qs_linear(hS, return_q1=False)\n",
    "print(\"--- %s seconds ---\" % (time.time() - start_time))"
   ]
  },
  {
   "cell_type": "code",
   "execution_count": 20,
   "id": "a1bf5f98",
   "metadata": {},
   "outputs": [
    {
     "data": {
      "text/plain": [
       "(30, 9)"
      ]
     },
     "execution_count": 20,
     "metadata": {},
     "output_type": "execute_result"
    }
   ],
   "source": [
    "# eigenvectors\n",
    "Q = QS[0][0]\n",
    "Q.shape"
   ]
  },
  {
   "cell_type": "code",
   "execution_count": 21,
   "id": "8df98ccf",
   "metadata": {},
   "outputs": [
    {
     "data": {
      "text/plain": [
       "(9,)"
      ]
     },
     "execution_count": 21,
     "metadata": {},
     "output_type": "execute_result"
    }
   ],
   "source": [
    "# eigenvalues\n",
    "L = QS[1]\n",
    "L.shape"
   ]
  },
  {
   "cell_type": "code",
   "execution_count": 22,
   "id": "945371b8",
   "metadata": {},
   "outputs": [
    {
     "data": {
      "text/plain": [
       "<matplotlib.image.AxesImage at 0x2b7f22dc4340>"
      ]
     },
     "execution_count": 22,
     "metadata": {},
     "output_type": "execute_result"
    },
    {
     "data": {
      "image/png": "[encoded data removed]",
      "text/plain": [
       "<Figure size 288x960 with 1 Axes>"
      ]
     },
     "metadata": {
      "needs_background": "light"
     },
     "output_type": "display_data"
    }
   ],
   "source": [
    "plt.matshow(Q)"
   ]
  },
  {
   "cell_type": "code",
   "execution_count": 23,
   "id": "177b3e4f",
   "metadata": {},
   "outputs": [],
   "source": [
    "###### Run association for specified genotypes\n",
    "# crm.scan_association_fast(g)"
   ]
  },
  {
   "cell_type": "code",
   "execution_count": 24,
   "id": "16d79316",
   "metadata": {},
   "outputs": [],
   "source": [
    "# again looping over rhos, \n",
    "# for each row load the corresponding QS computed before\n",
    "# here just using for rho=0.4 as above"
   ]
  },
  {
   "cell_type": "code",
   "execution_count": 25,
   "id": "8e935a12",
   "metadata": {},
   "outputs": [
    {
     "name": "stdout",
     "output_type": "stream",
     "text": [
      "--- 0.003869295120239258 seconds ---\n"
     ]
    }
   ],
   "source": [
    "start_time = time.time()\n",
    "lmm = LMM(y, W, QS, restricted=False)\n",
    "print(\"--- %s seconds ---\" % (time.time() - start_time))"
   ]
  },
  {
   "cell_type": "code",
   "execution_count": 26,
   "id": "d420cbed",
   "metadata": {},
   "outputs": [
    {
     "name": "stdout",
     "output_type": "stream",
     "text": [
      "--- 0.01364898681640625 seconds ---\n"
     ]
    }
   ],
   "source": [
    "start_time = time.time()\n",
    "lmm.fit(verbose=False)\n",
    "print(\"--- %s seconds ---\" % (time.time() - start_time))"
   ]
  },
  {
   "cell_type": "code",
   "execution_count": 27,
   "id": "0715d276",
   "metadata": {},
   "outputs": [],
   "source": [
    "# let us pretend this is the best lmm (i.e. this value of rho corresponds to max likelihood value)"
   ]
  },
  {
   "cell_type": "code",
   "execution_count": 28,
   "id": "3142af22",
   "metadata": {},
   "outputs": [
    {
     "name": "stdout",
     "output_type": "stream",
     "text": [
      "--- 9.679794311523438e-05 seconds ---\n"
     ]
    }
   ],
   "source": [
    "start_time = time.time()\n",
    "null_lmm = lmm\n",
    "print(\"--- %s seconds ---\" % (time.time() - start_time))"
   ]
  },
  {
   "cell_type": "code",
   "execution_count": 29,
   "id": "9a7ffcb9",
   "metadata": {},
   "outputs": [
    {
     "name": "stdout",
     "output_type": "stream",
     "text": [
      "--- 0.00041604042053222656 seconds ---\n"
     ]
    }
   ],
   "source": [
    "start_time = time.time()\n",
    "flmm = lmm.get_fast_scanner()\n",
    "print(\"--- %s seconds ---\" % (time.time() - start_time))"
   ]
  },
  {
   "cell_type": "code",
   "execution_count": 30,
   "id": "73fce707",
   "metadata": {},
   "outputs": [
    {
     "name": "stdout",
     "output_type": "stream",
     "text": [
      "--- 0.0020856857299804688 seconds ---\n"
     ]
    }
   ],
   "source": [
    "start_time = time.time()\n",
    "alt_lmls = flmm.fast_scan(g, verbose=False)['lml']\n",
    "print(\"--- %s seconds ---\" % (time.time() - start_time))"
   ]
  },
  {
   "cell_type": "code",
   "execution_count": 31,
   "id": "287897f4",
   "metadata": {},
   "outputs": [],
   "source": [
    "def lrt_pvalues(null_lml, alt_lmls, dof=1):\n",
    "    from numpy import clip\n",
    "    from numpy_sugar import epsilon\n",
    "    from scipy.stats import chi2\n",
    "\n",
    "    lrs = clip(-2 * null_lml + 2 * asarray(alt_lmls, float), epsilon.super_tiny, inf)\n",
    "    pv = chi2(df=dof).sf(lrs)\n",
    "    return clip(pv, epsilon.super_tiny, 1 - epsilon.tiny)"
   ]
  },
  {
   "cell_type": "code",
   "execution_count": 32,
   "id": "8a5d5ddf",
   "metadata": {},
   "outputs": [
    {
     "name": "stdout",
     "output_type": "stream",
     "text": [
      "--- 0.001775503158569336 seconds ---\n"
     ]
    }
   ],
   "source": [
    "start_time = time.time()\n",
    "pvalues = lrt_pvalues(null_lmm.lml(), alt_lmls, dof=1)\n",
    "print(\"--- %s seconds ---\" % (time.time() - start_time))"
   ]
  },
  {
   "cell_type": "code",
   "execution_count": 33,
   "id": "c1dde73b",
   "metadata": {},
   "outputs": [
    {
     "data": {
      "text/plain": [
       "array([0.74595695])"
      ]
     },
     "execution_count": 33,
     "metadata": {},
     "output_type": "execute_result"
    }
   ],
   "source": [
    "pvalues"
   ]
  },
  {
   "cell_type": "code",
   "execution_count": 34,
   "id": "24b4fc76",
   "metadata": {},
   "outputs": [
    {
     "name": "stderr",
     "output_type": "stream",
     "text": [
      "100%|██████████| 1/1 [00:00<00:00, 98.99it/s]\n"
     ]
    },
    {
     "data": {
      "text/plain": [
       "array([0.74236452])"
      ]
     },
     "execution_count": 34,
     "metadata": {},
     "output_type": "execute_result"
    }
   ],
   "source": [
    "## compared to association runner\n",
    "run_association(y=y, W=W, E=C, hK=hK, G=g)[0]"
   ]
  },
  {
   "cell_type": "code",
   "execution_count": 35,
   "id": "7c7a2919",
   "metadata": {},
   "outputs": [
    {
     "data": {
      "text/plain": [
       "array([0.74855415])"
      ]
     },
     "execution_count": 35,
     "metadata": {},
     "output_type": "execute_result"
    }
   ],
   "source": [
    "## compared to association runner (fast)\n",
    "run_association_fast(y=y, W=W, E=C, hK=hK, G=g)[0]"
   ]
  },
  {
   "cell_type": "code",
   "execution_count": 36,
   "id": "155926bb",
   "metadata": {},
   "outputs": [
    {
     "data": {
      "text/plain": [
       "array([0.74595695])"
      ]
     },
     "execution_count": 36,
     "metadata": {},
     "output_type": "execute_result"
    }
   ],
   "source": [
    "## compared to two steps association (fast) - identical to this one\n",
    "crm = CellRegMap(y=y, W=W, E=C, hK=hK)\n",
    "crm.scan_association_fast(g)[0]"
   ]
  },
  {
   "cell_type": "code",
   "execution_count": 37,
   "id": "fce2bc25",
   "metadata": {},
   "outputs": [
    {
     "name": "stderr",
     "output_type": "stream",
     "text": [
      "100%|██████████| 1/1 [00:00<00:00, 105.13it/s]\n"
     ]
    },
    {
     "data": {
      "text/plain": [
       "array([0.74594644])"
      ]
     },
     "execution_count": 37,
     "metadata": {},
     "output_type": "execute_result"
    }
   ],
   "source": [
    "# not fast\n",
    "crm.scan_association(g)[0]"
   ]
  },
  {
   "cell_type": "code",
   "execution_count": null,
   "id": "9aa50072",
   "metadata": {},
   "outputs": [],
   "source": []
  },
  {
   "cell_type": "code",
   "execution_count": null,
   "id": "3827dcf0",
   "metadata": {},
   "outputs": [],
   "source": []
  },
  {
   "cell_type": "code",
   "execution_count": null,
   "id": "856ccf9f",
   "metadata": {},
   "outputs": [],
   "source": []
  },
  {
   "cell_type": "code",
   "execution_count": 38,
   "id": "409f568a",
   "metadata": {},
   "outputs": [],
   "source": [
    "########################################################\n",
    "########################################################\n",
    "########################################################"
   ]
  },
  {
   "cell_type": "code",
   "execution_count": 39,
   "id": "0ef403f8",
   "metadata": {},
   "outputs": [],
   "source": [
    "########################################################\n",
    "############## Interaction Test"
   ]
  },
  {
   "cell_type": "code",
   "execution_count": 40,
   "id": "24b1f3c7",
   "metadata": {},
   "outputs": [],
   "source": [
    "###### get L values\n",
    "# Ls = get_L_values(hK, C)"
   ]
  },
  {
   "cell_type": "code",
   "execution_count": 41,
   "id": "134c77df",
   "metadata": {},
   "outputs": [
    {
     "name": "stdout",
     "output_type": "stream",
     "text": [
      "--- 0.00039386749267578125 seconds ---\n"
     ]
    }
   ],
   "source": [
    "start_time = time.time()\n",
    "[U, S, _] = economic_svd(C)\n",
    "print(\"--- %s seconds ---\" % (time.time() - start_time))"
   ]
  },
  {
   "cell_type": "code",
   "execution_count": 42,
   "id": "fd5182b5",
   "metadata": {},
   "outputs": [
    {
     "data": {
      "text/plain": [
       "(30, 4)"
      ]
     },
     "execution_count": 42,
     "metadata": {},
     "output_type": "execute_result"
    }
   ],
   "source": [
    "U.shape"
   ]
  },
  {
   "cell_type": "code",
   "execution_count": 43,
   "id": "afdfc078",
   "metadata": {
    "scrolled": true
   },
   "outputs": [
    {
     "data": {
      "text/plain": [
       "<matplotlib.image.AxesImage at 0x2b7f2305b7c0>"
      ]
     },
     "execution_count": 43,
     "metadata": {},
     "output_type": "execute_result"
    },
    {
     "data": {
      "image/png": "[encoded data removed]",
      "text/plain": [
       "<Figure size 288x1152 with 1 Axes>"
      ]
     },
     "metadata": {
      "needs_background": "light"
     },
     "output_type": "display_data"
    }
   ],
   "source": [
    "plt.matshow(U)"
   ]
  },
  {
   "cell_type": "code",
   "execution_count": 44,
   "id": "d2868dc1",
   "metadata": {},
   "outputs": [
    {
     "data": {
      "text/plain": [
       "(4,)"
      ]
     },
     "execution_count": 44,
     "metadata": {},
     "output_type": "execute_result"
    }
   ],
   "source": [
    "S.shape"
   ]
  },
  {
   "cell_type": "code",
   "execution_count": 45,
   "id": "6b4edceb",
   "metadata": {},
   "outputs": [
    {
     "name": "stdout",
     "output_type": "stream",
     "text": [
      "--- 0.00011134147644042969 seconds ---\n"
     ]
    }
   ],
   "source": [
    "start_time = time.time()\n",
    "us = U * S\n",
    "print(\"--- %s seconds ---\" % (time.time() - start_time))"
   ]
  },
  {
   "cell_type": "code",
   "execution_count": 46,
   "id": "48b2a5d3",
   "metadata": {},
   "outputs": [
    {
     "name": "stdout",
     "output_type": "stream",
     "text": [
      "--- 0.0002219676971435547 seconds ---\n"
     ]
    }
   ],
   "source": [
    "start_time = time.time()\n",
    "Ls = [ddot(us[:,i], hK) for i in range(us.shape[1])]\n",
    "print(\"--- %s seconds ---\" % (time.time() - start_time))"
   ]
  },
  {
   "cell_type": "code",
   "execution_count": 47,
   "id": "adb3b7b1",
   "metadata": {},
   "outputs": [
    {
     "data": {
      "text/plain": [
       "4"
      ]
     },
     "execution_count": 47,
     "metadata": {},
     "output_type": "execute_result"
    }
   ],
   "source": [
    "# one per context\n",
    "len(Ls)"
   ]
  },
  {
   "cell_type": "code",
   "execution_count": 48,
   "id": "51bb58b6",
   "metadata": {},
   "outputs": [
    {
     "data": {
      "text/plain": [
       "(30, 5)"
      ]
     },
     "execution_count": 48,
     "metadata": {},
     "output_type": "execute_result"
    }
   ],
   "source": [
    "# n cells X n individuals\n",
    "Ls[0].shape"
   ]
  },
  {
   "cell_type": "code",
   "execution_count": 49,
   "id": "5a141b0a",
   "metadata": {},
   "outputs": [],
   "source": [
    "###### Fit null model\n",
    "# crm = CellRegMap(y=y, W=W, C=C, Ls=Ls)"
   ]
  },
  {
   "cell_type": "code",
   "execution_count": 50,
   "id": "faa4b20a",
   "metadata": {},
   "outputs": [],
   "source": [
    "# rhos, a, b as above (rho=0.4)"
   ]
  },
  {
   "cell_type": "code",
   "execution_count": 51,
   "id": "8d97f30f",
   "metadata": {},
   "outputs": [
    {
     "name": "stdout",
     "output_type": "stream",
     "text": [
      "--- 0.0001983642578125 seconds ---\n"
     ]
    }
   ],
   "source": [
    "start_time = time.time()\n",
    "hS = concatenate([a * C] + [b * L for L in Ls], axis=1)\n",
    "print(\"--- %s seconds ---\" % (time.time() - start_time))"
   ]
  },
  {
   "cell_type": "code",
   "execution_count": 52,
   "id": "8685bef1",
   "metadata": {},
   "outputs": [
    {
     "data": {
      "text/plain": [
       "(30, 24)"
      ]
     },
     "execution_count": 52,
     "metadata": {},
     "output_type": "execute_result"
    }
   ],
   "source": [
    "# rank = 24: 4 contexts + (5 individuals)*4\n",
    "# n cells = 30\n",
    "hS.shape"
   ]
  },
  {
   "cell_type": "code",
   "execution_count": 53,
   "id": "88f624b4",
   "metadata": {},
   "outputs": [
    {
     "data": {
      "text/plain": [
       "<matplotlib.image.AxesImage at 0x2b7f230b0a90>"
      ]
     },
     "execution_count": 53,
     "metadata": {},
     "output_type": "execute_result"
    },
    {
     "data": {
      "image/png": "[encoded data removed]",
      "text/plain": [
       "<Figure size 288x288 with 1 Axes>"
      ]
     },
     "metadata": {
      "needs_background": "light"
     },
     "output_type": "display_data"
    }
   ],
   "source": [
    "plt.matshow(hS @ hS.T)"
   ]
  },
  {
   "cell_type": "code",
   "execution_count": 54,
   "id": "9b3e4b16",
   "metadata": {},
   "outputs": [
    {
     "name": "stdout",
     "output_type": "stream",
     "text": [
      "--- 0.0004267692565917969 seconds ---\n"
     ]
    }
   ],
   "source": [
    "start_time = time.time()\n",
    "QS = economic_qs_linear(hS, return_q1=False)\n",
    "print(\"--- %s seconds ---\" % (time.time() - start_time))"
   ]
  },
  {
   "cell_type": "code",
   "execution_count": 55,
   "id": "fd40135d",
   "metadata": {},
   "outputs": [
    {
     "data": {
      "text/plain": [
       "(30, 24)"
      ]
     },
     "execution_count": 55,
     "metadata": {},
     "output_type": "execute_result"
    }
   ],
   "source": [
    "# eigenvectors\n",
    "Q = QS[0][0]\n",
    "Q.shape"
   ]
  },
  {
   "cell_type": "code",
   "execution_count": 56,
   "id": "07c6988e",
   "metadata": {},
   "outputs": [
    {
     "data": {
      "text/plain": [
       "(24,)"
      ]
     },
     "execution_count": 56,
     "metadata": {},
     "output_type": "execute_result"
    }
   ],
   "source": [
    "# eigenvalues\n",
    "L = QS[1]\n",
    "L.shape"
   ]
  },
  {
   "cell_type": "code",
   "execution_count": 57,
   "id": "07077ce8",
   "metadata": {},
   "outputs": [
    {
     "data": {
      "text/plain": [
       "<matplotlib.image.AxesImage at 0x2b7f23109ac0>"
      ]
     },
     "execution_count": 57,
     "metadata": {},
     "output_type": "execute_result"
    },
    {
     "data": {
      "image/png": "[encoded data removed]",
      "text/plain": [
       "<Figure size 288x360 with 1 Axes>"
      ]
     },
     "metadata": {
      "needs_background": "light"
     },
     "output_type": "display_data"
    }
   ],
   "source": [
    "plt.matshow(Q)"
   ]
  },
  {
   "cell_type": "code",
   "execution_count": 58,
   "id": "35bec547",
   "metadata": {},
   "outputs": [],
   "source": [
    "###### Run GxC interaction for specified genotypes\n",
    "# crm.scan_interaction(g)"
   ]
  },
  {
   "cell_type": "code",
   "execution_count": 59,
   "id": "8d936111",
   "metadata": {},
   "outputs": [],
   "source": [
    "# in this example with only have one SNP, normally we'd need to loop over them\n",
    "# differently from the association test above where the null model is in common, \n",
    "# here a different null needs to be built every time"
   ]
  },
  {
   "cell_type": "code",
   "execution_count": 60,
   "id": "8e10dacd",
   "metadata": {},
   "outputs": [
    {
     "data": {
      "text/plain": [
       "(30, 2)"
      ]
     },
     "execution_count": 60,
     "metadata": {},
     "output_type": "execute_result"
    }
   ],
   "source": [
    "# add SNP to fixed effects (accounting for persistent effects of the SNP under the null)\n",
    "X = concatenate((W, g), axis=1)\n",
    "X.shape"
   ]
  },
  {
   "cell_type": "code",
   "execution_count": 61,
   "id": "59ec768e",
   "metadata": {},
   "outputs": [
    {
     "data": {
      "text/plain": [
       "<matplotlib.image.AxesImage at 0x2b7f23165460>"
      ]
     },
     "execution_count": 61,
     "metadata": {},
     "output_type": "execute_result"
    },
    {
     "data": {
      "image/png": "[encoded data removed]",
      "text/plain": [
       "<Figure size 288x1152 with 1 Axes>"
      ]
     },
     "metadata": {
      "needs_background": "light"
     },
     "output_type": "display_data"
    }
   ],
   "source": [
    "# ones | geno\n",
    "plt.matshow(X)"
   ]
  },
  {
   "cell_type": "code",
   "execution_count": 62,
   "id": "910ad393",
   "metadata": {},
   "outputs": [
    {
     "name": "stdout",
     "output_type": "stream",
     "text": [
      "--- 0.0004725456237792969 seconds ---\n"
     ]
    }
   ],
   "source": [
    "start_time = time.time()\n",
    "lmm = LMM(y, W, QS, restricted=False)\n",
    "print(\"--- %s seconds ---\" % (time.time() - start_time))"
   ]
  },
  {
   "cell_type": "code",
   "execution_count": 63,
   "id": "2d3935b9",
   "metadata": {},
   "outputs": [
    {
     "name": "stdout",
     "output_type": "stream",
     "text": [
      "--- 0.010444402694702148 seconds ---\n"
     ]
    }
   ],
   "source": [
    "start_time = time.time()\n",
    "lmm.fit(verbose=False)\n",
    "print(\"--- %s seconds ---\" % (time.time() - start_time))"
   ]
  },
  {
   "cell_type": "code",
   "execution_count": 67,
   "id": "15fdf94c",
   "metadata": {},
   "outputs": [],
   "source": [
    "Q0 = QS[0][0]\n",
    "S0 = QS[1]"
   ]
  },
  {
   "cell_type": "code",
   "execution_count": 69,
   "id": "120f91ee",
   "metadata": {},
   "outputs": [],
   "source": [
    "from cellregmap._math import PMat, QSCov, ScoreStatistic"
   ]
  },
  {
   "cell_type": "code",
   "execution_count": 70,
   "id": "b9d2133e",
   "metadata": {},
   "outputs": [
    {
     "name": "stdout",
     "output_type": "stream",
     "text": [
      "--- 0.00016069412231445312 seconds ---\n"
     ]
    }
   ],
   "source": [
    "start_time = time.time()\n",
    "qscov = QSCov(\n",
    "                Q0,\n",
    "                S0,\n",
    "                lmm.v0,  # 𝓋₁\n",
    "                lmm.v1,  # 𝓋₂\n",
    "            )\n",
    "print(\"--- %s seconds ---\" % (time.time() - start_time))"
   ]
  },
  {
   "cell_type": "code",
   "execution_count": 71,
   "id": "90e3bd53",
   "metadata": {},
   "outputs": [
    {
     "name": "stdout",
     "output_type": "stream",
     "text": [
      "--- 0.0005362033843994141 seconds ---\n"
     ]
    }
   ],
   "source": [
    "start_time = time.time()\n",
    "P = PMat(qscov, X)\n",
    "print(\"--- %s seconds ---\" % (time.time() - start_time))"
   ]
  },
  {
   "cell_type": "code",
   "execution_count": 74,
   "id": "52e83a4e",
   "metadata": {},
   "outputs": [
    {
     "name": "stdout",
     "output_type": "stream",
     "text": [
      "--- 0.00027298927307128906 seconds ---\n"
     ]
    }
   ],
   "source": [
    "start_time = time.time()\n",
    "ss = ScoreStatistic(P, qscov, ddot(g.ravel(), C))\n",
    "print(\"--- %s seconds ---\" % (time.time() - start_time))"
   ]
  },
  {
   "cell_type": "code",
   "execution_count": 75,
   "id": "2a3bdac6",
   "metadata": {},
   "outputs": [
    {
     "name": "stdout",
     "output_type": "stream",
     "text": [
      "--- 0.0006270408630371094 seconds ---\n"
     ]
    }
   ],
   "source": [
    "start_time = time.time()\n",
    "Q = ss.statistic(y)\n",
    "print(\"--- %s seconds ---\" % (time.time() - start_time))"
   ]
  },
  {
   "cell_type": "code",
   "execution_count": 76,
   "id": "100a7763",
   "metadata": {},
   "outputs": [
    {
     "name": "stdout",
     "output_type": "stream",
     "text": [
      "--- 0.005415201187133789 seconds ---\n"
     ]
    }
   ],
   "source": [
    "start_time = time.time()\n",
    "pval = davies_pvalue(Q, ss.matrix_for_dist_weights(), True)\n",
    "print(\"--- %s seconds ---\" % (time.time() - start_time))"
   ]
  },
  {
   "cell_type": "code",
   "execution_count": 78,
   "id": "9a0de5eb",
   "metadata": {},
   "outputs": [
    {
     "data": {
      "text/plain": [
       "0.6397763657466667"
      ]
     },
     "execution_count": 78,
     "metadata": {},
     "output_type": "execute_result"
    }
   ],
   "source": [
    "pval[0]"
   ]
  },
  {
   "cell_type": "code",
   "execution_count": 79,
   "id": "c607f391",
   "metadata": {},
   "outputs": [
    {
     "name": "stderr",
     "output_type": "stream",
     "text": [
      "100%|██████████| 1/1 [00:00<00:00,  6.24it/s]\n"
     ]
    },
    {
     "data": {
      "text/plain": [
       "array([0.66463133])"
      ]
     },
     "execution_count": 79,
     "metadata": {},
     "output_type": "execute_result"
    }
   ],
   "source": [
    "run_interaction(y=y, W=W, E=C, hK=hK, G=g)[0]"
   ]
  },
  {
   "cell_type": "code",
   "execution_count": null,
   "id": "f76c1b4e",
   "metadata": {},
   "outputs": [],
   "source": []
  },
  {
   "cell_type": "code",
   "execution_count": null,
   "id": "71e19246",
   "metadata": {},
   "outputs": [],
   "source": []
  }
 ],
 "metadata": {
  "kernelspec": {
   "display_name": "Python (struct-lmm2)",
   "language": "python",
   "name": "struct-lmm2"
  },
  "language_info": {
   "codemirror_mode": {
    "name": "ipython",
    "version": 3
   },
   "file_extension": ".py",
   "mimetype": "text/x-python",
   "name": "python",
   "nbconvert_exporter": "python",
   "pygments_lexer": "ipython3",
   "version": "3.8.5"
  }
 },
 "nbformat": 4,
 "nbformat_minor": 5
}
