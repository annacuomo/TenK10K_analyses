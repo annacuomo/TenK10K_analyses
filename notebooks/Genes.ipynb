{
 "cells": [
  {
   "cell_type": "code",
   "execution_count": 28,
   "id": "c9c36bdf",
   "metadata": {},
   "outputs": [],
   "source": [
    "mydir = \"/share/ScratchGeneral/anncuo/OneK1K/\"\n",
    "input_files_dir = paste0(mydir,\"input_files_CellRegMap/\")"
   ]
  },
  {
   "cell_type": "code",
   "execution_count": 29,
   "id": "836d5453",
   "metadata": {},
   "outputs": [
    {
     "data": {
      "text/html": [
       "540"
      ],
      "text/latex": [
       "540"
      ],
      "text/markdown": [
       "540"
      ],
      "text/plain": [
       "[1] 540"
      ]
     },
     "metadata": {},
     "output_type": "display_data"
    }
   ],
   "source": [
    "results_folder = paste0(mydir ,\"CRM_interaction/Bcells_Bcell_eQTLs/\")\n",
    "genes_done = gsub(\".tsv\",\"\",list.files(results_folder,\"tsv\"))\n",
    "length(genes_done)\n",
    "# genes_done"
   ]
  },
  {
   "cell_type": "code",
   "execution_count": 30,
   "id": "d513617a",
   "metadata": {},
   "outputs": [],
   "source": [
    "feature_variant_file = paste0(input_files_dir,\"fvf_Bcell_eqtls.csv\")"
   ]
  },
  {
   "cell_type": "code",
   "execution_count": 31,
   "id": "73f13e9a",
   "metadata": {},
   "outputs": [],
   "source": [
    "fvf = as.data.frame(read.csv(feature_variant_file, row.names=1))"
   ]
  },
  {
   "cell_type": "code",
   "execution_count": 32,
   "id": "f850a95a",
   "metadata": {},
   "outputs": [
    {
     "data": {
      "text/html": [
       "'/share/ScratchGeneral/anncuo/OneK1K/input_files_CellRegMap/fvf_Bcell_eqtls.csv'"
      ],
      "text/latex": [
       "'/share/ScratchGeneral/anncuo/OneK1K/input\\_files\\_CellRegMap/fvf\\_Bcell\\_eqtls.csv'"
      ],
      "text/markdown": [
       "'/share/ScratchGeneral/anncuo/OneK1K/input_files_CellRegMap/fvf_Bcell_eqtls.csv'"
      ],
      "text/plain": [
       "[1] \"/share/ScratchGeneral/anncuo/OneK1K/input_files_CellRegMap/fvf_Bcell_eqtls.csv\""
      ]
     },
     "metadata": {},
     "output_type": "display_data"
    }
   ],
   "source": [
    "feature_variant_file"
   ]
  },
  {
   "cell_type": "code",
   "execution_count": 33,
   "id": "4c69b843",
   "metadata": {
    "scrolled": true
   },
   "outputs": [],
   "source": [
    "# head(fvf, 100)"
   ]
  },
  {
   "cell_type": "code",
   "execution_count": 34,
   "id": "705a9162",
   "metadata": {},
   "outputs": [
    {
     "name": "stdout",
     "output_type": "stream",
     "text": [
      "[1]   1  27 129\n",
      "[1]   2  28 101\n",
      "[1]  3 33 75\n",
      "[1]  4 33 45\n",
      "[1]  5 21 61\n",
      "[1]   6  12 241\n",
      "[1]  7 27 83\n",
      "[1]  8 32 52\n",
      "[1]  9 25 43\n",
      "[1] 10 27 39\n",
      "[1] 11 25 90\n",
      "[1] 12 19 71\n",
      "[1] 13 17 17\n",
      "[1] 14 33 33\n",
      "[1] 15 20 35\n",
      "[1] 16 23 56\n",
      "[1] 17 32 88\n",
      "[1] 18 15 15\n",
      "[1]  19  25 110\n",
      "[1] 20 20 28\n",
      "[1] 21 21 21\n",
      "[1] 22 25 33\n"
     ]
    }
   ],
   "source": [
    "for (i in 1:22){\n",
    "    res = fvf[fvf$chrom == i,]\n",
    "    all_genes = unique(res$feature)\n",
    "    genes = all_genes[all_genes %in% genes_done]\n",
    "    print(c(i,length(genes), length(all_genes)))\n",
    "}"
   ]
  },
  {
   "cell_type": "code",
   "execution_count": 21,
   "id": "22467411",
   "metadata": {},
   "outputs": [],
   "source": [
    "## done: chromosomes 13, 14, 18, 21\n",
    "## almost: chromosomes 4, 8, 9, 10 15, 20, 22"
   ]
  },
  {
   "cell_type": "code",
   "execution_count": 22,
   "id": "5d51cfad",
   "metadata": {},
   "outputs": [
    {
     "data": {
      "text/html": [
       "76"
      ],
      "text/latex": [
       "76"
      ],
      "text/markdown": [
       "76"
      ],
      "text/plain": [
       "[1] 76"
      ]
     },
     "metadata": {},
     "output_type": "display_data"
    }
   ],
   "source": [
    "chr = 22\n",
    "fvf_22 = fvf[fvf$chrom == chr,]\n",
    "nrow(fvf_22)"
   ]
  },
  {
   "cell_type": "code",
   "execution_count": 23,
   "id": "1cf9aedd",
   "metadata": {
    "scrolled": true
   },
   "outputs": [],
   "source": [
    "# fvf_22"
   ]
  },
  {
   "cell_type": "code",
   "execution_count": 24,
   "id": "18c21033",
   "metadata": {},
   "outputs": [
    {
     "data": {
      "text/html": [
       "33"
      ],
      "text/latex": [
       "33"
      ],
      "text/markdown": [
       "33"
      ],
      "text/plain": [
       "[1] 33"
      ]
     },
     "metadata": {},
     "output_type": "display_data"
    },
    {
     "data": {
      "text/html": [
       "<style>\n",
       ".list-inline {list-style: none; margin:0; padding: 0}\n",
       ".list-inline>li {display: inline-block}\n",
       ".list-inline>li:not(:last-child)::after {content: \"\\00b7\"; padding: 0 .5ex}\n",
       "</style>\n",
       "<ol class=list-inline><li>'ARFGAP3'</li><li>'ARSA'</li><li>'C22orf34'</li><li>'CHCHD10'</li><li>'CRYBB2'</li><li>'CTA-29F11.1'</li></ol>\n"
      ],
      "text/latex": [
       "\\begin{enumerate*}\n",
       "\\item 'ARFGAP3'\n",
       "\\item 'ARSA'\n",
       "\\item 'C22orf34'\n",
       "\\item 'CHCHD10'\n",
       "\\item 'CRYBB2'\n",
       "\\item 'CTA-29F11.1'\n",
       "\\end{enumerate*}\n"
      ],
      "text/markdown": [
       "1. 'ARFGAP3'\n",
       "2. 'ARSA'\n",
       "3. 'C22orf34'\n",
       "4. 'CHCHD10'\n",
       "5. 'CRYBB2'\n",
       "6. 'CTA-29F11.1'\n",
       "\n",
       "\n"
      ],
      "text/plain": [
       "[1] \"ARFGAP3\"     \"ARSA\"        \"C22orf34\"    \"CHCHD10\"     \"CRYBB2\"     \n",
       "[6] \"CTA-29F11.1\""
      ]
     },
     "metadata": {},
     "output_type": "display_data"
    }
   ],
   "source": [
    "genes_22 = unique(fvf_22$feature)\n",
    "genes_22 = genes_22[order(genes_22)]\n",
    "length(genes_22)\n",
    "head(genes_22)"
   ]
  },
  {
   "cell_type": "code",
   "execution_count": 25,
   "id": "11340a84",
   "metadata": {},
   "outputs": [
    {
     "data": {
      "text/html": [
       "<style>\n",
       ".list-inline {list-style: none; margin:0; padding: 0}\n",
       ".list-inline>li {display: inline-block}\n",
       ".list-inline>li:not(:last-child)::after {content: \"\\00b7\"; padding: 0 .5ex}\n",
       "</style>\n",
       "<ol class=list-inline><li>'ARFGAP3'</li><li>'ARSA'</li><li>'C22orf34'</li><li>'CHCHD10'</li><li>'CRYBB2'</li><li>'CTA-29F11.1'</li><li>'DDT'</li><li>'FAM118A'</li><li>'GSTT1'</li><li>'GUCD1'</li><li>'IGLL5'</li><li>'KB-226F1.1'</li><li>'LARGE'</li><li>'MCM5'</li><li>'MIF'</li><li>'NCF4'</li><li>'NDUFA6'</li><li>'PIM3'</li><li>'RP1-29C18.10'</li><li>'RP4-539M6.22'</li><li>'RP5-1042K10.10'</li><li>'RPL3'</li><li>'RRP7A'</li><li>'SELM'</li><li>'SLC25A1'</li><li>'SMDT1'</li><li>'SNRPD3'</li><li>'SYNGR1'</li><li>'THAP7-AS1'</li><li>'TSPO'</li><li>'TYMP'</li><li>'VPREB3'</li><li>'YWHAH'</li></ol>\n"
      ],
      "text/latex": [
       "\\begin{enumerate*}\n",
       "\\item 'ARFGAP3'\n",
       "\\item 'ARSA'\n",
       "\\item 'C22orf34'\n",
       "\\item 'CHCHD10'\n",
       "\\item 'CRYBB2'\n",
       "\\item 'CTA-29F11.1'\n",
       "\\item 'DDT'\n",
       "\\item 'FAM118A'\n",
       "\\item 'GSTT1'\n",
       "\\item 'GUCD1'\n",
       "\\item 'IGLL5'\n",
       "\\item 'KB-226F1.1'\n",
       "\\item 'LARGE'\n",
       "\\item 'MCM5'\n",
       "\\item 'MIF'\n",
       "\\item 'NCF4'\n",
       "\\item 'NDUFA6'\n",
       "\\item 'PIM3'\n",
       "\\item 'RP1-29C18.10'\n",
       "\\item 'RP4-539M6.22'\n",
       "\\item 'RP5-1042K10.10'\n",
       "\\item 'RPL3'\n",
       "\\item 'RRP7A'\n",
       "\\item 'SELM'\n",
       "\\item 'SLC25A1'\n",
       "\\item 'SMDT1'\n",
       "\\item 'SNRPD3'\n",
       "\\item 'SYNGR1'\n",
       "\\item 'THAP7-AS1'\n",
       "\\item 'TSPO'\n",
       "\\item 'TYMP'\n",
       "\\item 'VPREB3'\n",
       "\\item 'YWHAH'\n",
       "\\end{enumerate*}\n"
      ],
      "text/markdown": [
       "1. 'ARFGAP3'\n",
       "2. 'ARSA'\n",
       "3. 'C22orf34'\n",
       "4. 'CHCHD10'\n",
       "5. 'CRYBB2'\n",
       "6. 'CTA-29F11.1'\n",
       "7. 'DDT'\n",
       "8. 'FAM118A'\n",
       "9. 'GSTT1'\n",
       "10. 'GUCD1'\n",
       "11. 'IGLL5'\n",
       "12. 'KB-226F1.1'\n",
       "13. 'LARGE'\n",
       "14. 'MCM5'\n",
       "15. 'MIF'\n",
       "16. 'NCF4'\n",
       "17. 'NDUFA6'\n",
       "18. 'PIM3'\n",
       "19. 'RP1-29C18.10'\n",
       "20. 'RP4-539M6.22'\n",
       "21. 'RP5-1042K10.10'\n",
       "22. 'RPL3'\n",
       "23. 'RRP7A'\n",
       "24. 'SELM'\n",
       "25. 'SLC25A1'\n",
       "26. 'SMDT1'\n",
       "27. 'SNRPD3'\n",
       "28. 'SYNGR1'\n",
       "29. 'THAP7-AS1'\n",
       "30. 'TSPO'\n",
       "31. 'TYMP'\n",
       "32. 'VPREB3'\n",
       "33. 'YWHAH'\n",
       "\n",
       "\n"
      ],
      "text/plain": [
       " [1] \"ARFGAP3\"        \"ARSA\"           \"C22orf34\"       \"CHCHD10\"       \n",
       " [5] \"CRYBB2\"         \"CTA-29F11.1\"    \"DDT\"            \"FAM118A\"       \n",
       " [9] \"GSTT1\"          \"GUCD1\"          \"IGLL5\"          \"KB-226F1.1\"    \n",
       "[13] \"LARGE\"          \"MCM5\"           \"MIF\"            \"NCF4\"          \n",
       "[17] \"NDUFA6\"         \"PIM3\"           \"RP1-29C18.10\"   \"RP4-539M6.22\"  \n",
       "[21] \"RP5-1042K10.10\" \"RPL3\"           \"RRP7A\"          \"SELM\"          \n",
       "[25] \"SLC25A1\"        \"SMDT1\"          \"SNRPD3\"         \"SYNGR1\"        \n",
       "[29] \"THAP7-AS1\"      \"TSPO\"           \"TYMP\"           \"VPREB3\"        \n",
       "[33] \"YWHAH\"         "
      ]
     },
     "metadata": {},
     "output_type": "display_data"
    }
   ],
   "source": [
    "genes_22"
   ]
  },
  {
   "cell_type": "code",
   "execution_count": 26,
   "id": "af4c1b62",
   "metadata": {},
   "outputs": [
    {
     "data": {
      "text/html": [
       "25"
      ],
      "text/latex": [
       "25"
      ],
      "text/markdown": [
       "25"
      ],
      "text/plain": [
       "[1] 25"
      ]
     },
     "metadata": {},
     "output_type": "display_data"
    },
    {
     "data": {
      "text/html": [
       "<style>\n",
       ".list-inline {list-style: none; margin:0; padding: 0}\n",
       ".list-inline>li {display: inline-block}\n",
       ".list-inline>li:not(:last-child)::after {content: \"\\00b7\"; padding: 0 .5ex}\n",
       "</style>\n",
       "<ol class=list-inline><li>'ARFGAP3'</li><li>'ARSA'</li><li>'CRYBB2'</li><li>'CTA-29F11.1'</li><li>'DDT'</li><li>'FAM118A'</li><li>'GSTT1'</li><li>'IGLL5'</li><li>'KB-226F1.1'</li><li>'LARGE'</li><li>'MIF'</li><li>'NCF4'</li><li>'NDUFA6'</li><li>'RP1-29C18.10'</li><li>'RP4-539M6.22'</li><li>'RP5-1042K10.10'</li><li>'RPL3'</li><li>'SELM'</li><li>'SLC25A1'</li><li>'SMDT1'</li><li>'SNRPD3'</li><li>'SYNGR1'</li><li>'THAP7-AS1'</li><li>'VPREB3'</li><li>'YWHAH'</li></ol>\n"
      ],
      "text/latex": [
       "\\begin{enumerate*}\n",
       "\\item 'ARFGAP3'\n",
       "\\item 'ARSA'\n",
       "\\item 'CRYBB2'\n",
       "\\item 'CTA-29F11.1'\n",
       "\\item 'DDT'\n",
       "\\item 'FAM118A'\n",
       "\\item 'GSTT1'\n",
       "\\item 'IGLL5'\n",
       "\\item 'KB-226F1.1'\n",
       "\\item 'LARGE'\n",
       "\\item 'MIF'\n",
       "\\item 'NCF4'\n",
       "\\item 'NDUFA6'\n",
       "\\item 'RP1-29C18.10'\n",
       "\\item 'RP4-539M6.22'\n",
       "\\item 'RP5-1042K10.10'\n",
       "\\item 'RPL3'\n",
       "\\item 'SELM'\n",
       "\\item 'SLC25A1'\n",
       "\\item 'SMDT1'\n",
       "\\item 'SNRPD3'\n",
       "\\item 'SYNGR1'\n",
       "\\item 'THAP7-AS1'\n",
       "\\item 'VPREB3'\n",
       "\\item 'YWHAH'\n",
       "\\end{enumerate*}\n"
      ],
      "text/markdown": [
       "1. 'ARFGAP3'\n",
       "2. 'ARSA'\n",
       "3. 'CRYBB2'\n",
       "4. 'CTA-29F11.1'\n",
       "5. 'DDT'\n",
       "6. 'FAM118A'\n",
       "7. 'GSTT1'\n",
       "8. 'IGLL5'\n",
       "9. 'KB-226F1.1'\n",
       "10. 'LARGE'\n",
       "11. 'MIF'\n",
       "12. 'NCF4'\n",
       "13. 'NDUFA6'\n",
       "14. 'RP1-29C18.10'\n",
       "15. 'RP4-539M6.22'\n",
       "16. 'RP5-1042K10.10'\n",
       "17. 'RPL3'\n",
       "18. 'SELM'\n",
       "19. 'SLC25A1'\n",
       "20. 'SMDT1'\n",
       "21. 'SNRPD3'\n",
       "22. 'SYNGR1'\n",
       "23. 'THAP7-AS1'\n",
       "24. 'VPREB3'\n",
       "25. 'YWHAH'\n",
       "\n",
       "\n"
      ],
      "text/plain": [
       " [1] \"ARFGAP3\"        \"ARSA\"           \"CRYBB2\"         \"CTA-29F11.1\"   \n",
       " [5] \"DDT\"            \"FAM118A\"        \"GSTT1\"          \"IGLL5\"         \n",
       " [9] \"KB-226F1.1\"     \"LARGE\"          \"MIF\"            \"NCF4\"          \n",
       "[13] \"NDUFA6\"         \"RP1-29C18.10\"   \"RP4-539M6.22\"   \"RP5-1042K10.10\"\n",
       "[17] \"RPL3\"           \"SELM\"           \"SLC25A1\"        \"SMDT1\"         \n",
       "[21] \"SNRPD3\"         \"SYNGR1\"         \"THAP7-AS1\"      \"VPREB3\"        \n",
       "[25] \"YWHAH\"         "
      ]
     },
     "metadata": {},
     "output_type": "display_data"
    }
   ],
   "source": [
    "genes_22_done = genes_22[genes_22 %in% genes_done]\n",
    "length(genes_22_done)\n",
    "genes_22_done"
   ]
  },
  {
   "cell_type": "code",
   "execution_count": 27,
   "id": "0d51cd2e",
   "metadata": {},
   "outputs": [
    {
     "data": {
      "text/html": [
       "8"
      ],
      "text/latex": [
       "8"
      ],
      "text/markdown": [
       "8"
      ],
      "text/plain": [
       "[1] 8"
      ]
     },
     "metadata": {},
     "output_type": "display_data"
    },
    {
     "data": {
      "text/html": [
       "<style>\n",
       ".list-inline {list-style: none; margin:0; padding: 0}\n",
       ".list-inline>li {display: inline-block}\n",
       ".list-inline>li:not(:last-child)::after {content: \"\\00b7\"; padding: 0 .5ex}\n",
       "</style>\n",
       "<ol class=list-inline><li>'C22orf34'</li><li>'CHCHD10'</li><li>'GUCD1'</li><li>'MCM5'</li><li>'PIM3'</li><li>'RRP7A'</li><li>'TSPO'</li><li>'TYMP'</li></ol>\n"
      ],
      "text/latex": [
       "\\begin{enumerate*}\n",
       "\\item 'C22orf34'\n",
       "\\item 'CHCHD10'\n",
       "\\item 'GUCD1'\n",
       "\\item 'MCM5'\n",
       "\\item 'PIM3'\n",
       "\\item 'RRP7A'\n",
       "\\item 'TSPO'\n",
       "\\item 'TYMP'\n",
       "\\end{enumerate*}\n"
      ],
      "text/markdown": [
       "1. 'C22orf34'\n",
       "2. 'CHCHD10'\n",
       "3. 'GUCD1'\n",
       "4. 'MCM5'\n",
       "5. 'PIM3'\n",
       "6. 'RRP7A'\n",
       "7. 'TSPO'\n",
       "8. 'TYMP'\n",
       "\n",
       "\n"
      ],
      "text/plain": [
       "[1] \"C22orf34\" \"CHCHD10\"  \"GUCD1\"    \"MCM5\"     \"PIM3\"     \"RRP7A\"    \"TSPO\"    \n",
       "[8] \"TYMP\"    "
      ]
     },
     "metadata": {},
     "output_type": "display_data"
    }
   ],
   "source": [
    "genes_22_missing = genes_22[!(genes_22 %in% genes_done)]\n",
    "length(genes_22_missing)\n",
    "genes_22_missing"
   ]
  },
  {
   "cell_type": "code",
   "execution_count": null,
   "id": "06cb0387",
   "metadata": {},
   "outputs": [],
   "source": []
  },
  {
   "cell_type": "code",
   "execution_count": null,
   "id": "6519a5cd",
   "metadata": {},
   "outputs": [],
   "source": []
  },
  {
   "cell_type": "code",
   "execution_count": null,
   "id": "9955beb8",
   "metadata": {},
   "outputs": [],
   "source": [
    "### in python"
   ]
  },
  {
   "cell_type": "code",
   "execution_count": null,
   "id": "20d6f319",
   "metadata": {},
   "outputs": [],
   "source": [
    "import os\n",
    "import pandas as pd\n",
    "\n",
    "Bcell_eqtl_file = fvf\n",
    "Bcell_eqtl = pd.read_csv(Bcell_eqtl_file, index_col = 0)\n",
    "genes = Bcell_eqtl[Bcell_eqtl['chrom']==int(arg[\"chrom\"])]['feature'].unique()\n",
    "\n",
    "gene_name = genes[arg[\"i\"]]\n",
    "\n",
    "folder = mydir + \"CRM_interaction/Bcells_Bcell_eQTLs/\"\n",
    "outfilename = f\"{folder}{gene_name}.tsv\"\n",
    "print(outfilename)\n",
    "\n",
    "if os.path.exists(outfilename):\n",
    "    print(\"File already exists, exiting\")\n",
    "    sys.exit()"
   ]
  },
  {
   "cell_type": "code",
   "execution_count": 12,
   "id": "eaf3aea9",
   "metadata": {},
   "outputs": [],
   "source": [
    "### in qsub: "
   ]
  },
  {
   "cell_type": "code",
   "execution_count": null,
   "id": "6e29436c",
   "metadata": {},
   "outputs": [],
   "source": [
    "OUTPUT_DIR=folder"
   ]
  },
  {
   "cell_type": "code",
   "execution_count": null,
   "id": "1f1f940a",
   "metadata": {},
   "outputs": [],
   "source": [
    "# so this opens the file,\n",
    "# then using awk specifies it is comma \",\" separated, then selects rows where the 4th column is = 22\n",
    "# then using sed selects the \"1\"st row\n",
    "# then awk again (again \",\" separated) to select the second column only (gene name)\n",
    "cat fvf | awk -F ',' '$4==22' | sed -n 1p | awk -F \",\" '{print $2}'"
   ]
  },
  {
   "cell_type": "code",
   "execution_count": null,
   "id": "8695e407",
   "metadata": {},
   "outputs": [],
   "source": [
    "## next: figure out how to incorporate $i instead of 1, $chr instead of 22\n",
    "## use the name of the column (\"chrom\") instead of the number (4th)\n",
    "## select only the gene name (\"feature\", or 2nd column) - done (again with $2, not the name of the column)"
   ]
  },
  {
   "cell_type": "code",
   "execution_count": null,
   "id": "b1cf1c93",
   "metadata": {},
   "outputs": [],
   "source": [
    "cat fvf | awk -F ',' '$4==${chr}' | sed -n ${i}p | awk -F \",\" '{print $2}'"
   ]
  },
  {
   "cell_type": "code",
   "execution_count": null,
   "id": "56a884e4",
   "metadata": {},
   "outputs": [],
   "source": []
  },
  {
   "cell_type": "code",
   "execution_count": null,
   "id": "1832a8ef",
   "metadata": {},
   "outputs": [],
   "source": [
    "### edit this to \n",
    "## sub-select fvf file to correct chromosome\n",
    "## get i^th gene\n",
    "GENE=$(sed -n ${i}p \"$GENE_FILE\") # Get the gene listed on i^th line in \"$GENE_FILE\""
   ]
  },
  {
   "cell_type": "code",
   "execution_count": null,
   "id": "0d0cbdf1",
   "metadata": {},
   "outputs": [],
   "source": [
    "OUTPUT_FILE=${OUTPUT_DIR}/${GENE}.tsv # Expected output filename"
   ]
  },
  {
   "cell_type": "code",
   "execution_count": null,
   "id": "2085f39c",
   "metadata": {},
   "outputs": [],
   "source": [
    "py_script=$SGE_O_WORKDIR/run_interaction_Bcells_one_gene.py"
   ]
  },
  {
   "cell_type": "code",
   "execution_count": null,
   "id": "bfa52afe",
   "metadata": {},
   "outputs": [],
   "source": [
    "if [ ! -f \"$OUTPUT_FILE\" ] # This asks, \"If this file doesn't exist\"\n",
    "then \n",
    "python $py_script $chrom $i # Run python script\n",
    "fi"
   ]
  }
 ],
 "metadata": {
  "kernelspec": {
   "display_name": "Single Cell Notebook (R 4.1.2)",
   "language": "R",
   "name": "singlecell"
  },
  "language_info": {
   "codemirror_mode": "r",
   "file_extension": ".r",
   "mimetype": "text/x-r-source",
   "name": "R",
   "pygments_lexer": "r",
   "version": "4.1.2"
  }
 },
 "nbformat": 4,
 "nbformat_minor": 5
}
