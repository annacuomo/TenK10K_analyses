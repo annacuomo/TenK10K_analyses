{
 "cells": [
  {
   "cell_type": "code",
   "execution_count": 1,
   "id": "604150bd-f2d9-44ef-a95b-4ee7fed0e28a",
   "metadata": {},
   "outputs": [],
   "source": [
    "library(googleCloudStorageR)"
   ]
  },
  {
   "cell_type": "code",
   "execution_count": 3,
   "id": "09ae658b-33c8-43aa-b41e-603f30698e59",
   "metadata": {},
   "outputs": [],
   "source": [
    "library(gargle)"
   ]
  },
  {
   "cell_type": "code",
   "execution_count": 4,
   "id": "8187260d-722b-4ac3-a4c2-40108a895aed",
   "metadata": {},
   "outputs": [],
   "source": [
    "scope <-c(\"https://www.googleapis.com/auth/cloud-platform\")\n",
    "token <- token_fetch(scopes = scope)"
   ]
  },
  {
   "cell_type": "code",
   "execution_count": 5,
   "id": "865a3c21-1e5a-49ac-b7f2-11373796eb7a",
   "metadata": {},
   "outputs": [
    {
     "name": "stderr",
     "output_type": "stream",
     "text": [
      "\u001b[36mℹ\u001b[39m \u001b[90m\u001b[90m2022-09-23 02:26:28 >\u001b[90m\u001b[39m Setting client.id from options(googleAuthR.client_id)\n",
      "\n"
     ]
    }
   ],
   "source": [
    "gcs_auth(token = token)"
   ]
  },
  {
   "cell_type": "code",
   "execution_count": 11,
   "id": "33c2cfdd-3c39-4a9e-8506-3bb9f7dc76d0",
   "metadata": {},
   "outputs": [],
   "source": [
    "# gcs_list_objects(bucket = \"gs://cpg-tob-wgs-test\")"
   ]
  },
  {
   "cell_type": "code",
   "execution_count": 12,
   "id": "d51ad3e7-e73a-433e-beea-dabf3be6f9a2",
   "metadata": {},
   "outputs": [
    {
     "name": "stderr",
     "output_type": "stream",
     "text": [
      "Set default bucket name to 'cpg-tob-wgs-test'\n",
      "\n"
     ]
    }
   ],
   "source": [
    "googleCloudStorageR::gcs_global_bucket(\"gs://cpg-tob-wgs-test\")"
   ]
  },
  {
   "cell_type": "code",
   "execution_count": 13,
   "id": "89f221ef-5405-4b47-8afb-f7d4280c9b77",
   "metadata": {},
   "outputs": [
    {
     "name": "stderr",
     "output_type": "stream",
     "text": [
      "Downloaded tob_wgs_rv%2Fexpression_outliers%2FCPG9951_IGLL5.csv\n",
      "\n",
      "\u001b[1mRows: \u001b[22m\u001b[34m44\u001b[39m \u001b[1mColumns: \u001b[22m\u001b[34m13\u001b[39m\n",
      "\u001b[36m──\u001b[39m \u001b[1mColumn specification\u001b[22m \u001b[36m────────────────────────────────────────────────────────\u001b[39m\n",
      "\u001b[1mDelimiter:\u001b[22m \",\"\n",
      "\u001b[31mchr\u001b[39m (6): onek1k_id, cpg_id, gene_name, variant_id, regulatory_consequences, ...\n",
      "\u001b[32mdbl\u001b[39m (7): is_het, cadd, maf_onek1k, maf_gnomad_popmax, chrom, gene_start, gen...\n",
      "\n",
      "\u001b[36mℹ\u001b[39m Use `spec()` to retrieve the full column specification for this data.\n",
      "\u001b[36mℹ\u001b[39m Specify the column types or set `show_col_types = FALSE` to quiet this message.\n",
      "Object parsed to class: spec_tbl_df tbl_df tbl data.frame\n",
      "\n"
     ]
    }
   ],
   "source": [
    "myfile <- googleCloudStorageR::gcs_get_object(\"tob_wgs_rv/expression_outliers/CPG9951_IGLL5.csv\")"
   ]
  },
  {
   "cell_type": "code",
   "execution_count": null,
   "id": "fac027af-c372-43d3-b348-0bdb52e1c9f0",
   "metadata": {},
   "outputs": [
    {
     "data": {
      "text/html": [
       "<table class=\"dataframe\">\n",
       "<caption>A tibble: 6 × 13</caption>\n",
       "<thead>\n",
       "\t<tr><th scope=col>onek1k_id</th><th scope=col>cpg_id</th><th scope=col>gene_name</th><th scope=col>variant_id</th><th scope=col>is_het</th><th scope=col>cadd</th><th scope=col>maf_onek1k</th><th scope=col>maf_gnomad_popmax</th><th scope=col>regulatory_consequences</th><th scope=col>ensembl_gene_id</th><th scope=col>chrom</th><th scope=col>gene_start</th><th scope=col>gene_end</th></tr>\n",
       "\t<tr><th scope=col>&lt;chr&gt;</th><th scope=col>&lt;chr&gt;</th><th scope=col>&lt;chr&gt;</th><th scope=col>&lt;chr&gt;</th><th scope=col>&lt;dbl&gt;</th><th scope=col>&lt;dbl&gt;</th><th scope=col>&lt;dbl&gt;</th><th scope=col>&lt;dbl&gt;</th><th scope=col>&lt;chr&gt;</th><th scope=col>&lt;chr&gt;</th><th scope=col>&lt;dbl&gt;</th><th scope=col>&lt;dbl&gt;</th><th scope=col>&lt;dbl&gt;</th></tr>\n",
       "</thead>\n",
       "<tbody>\n",
       "\t<tr><td>943_944</td><td>CPG9951</td><td>IGLL5</td><td>chr22:22878301</td><td>0</td><td>0.856</td><td>0.6564496</td><td>0.7540074</td><td>['CTCF_binding_site']                         </td><td>ENSG00000254709.8</td><td>22</td><td>22887780</td><td>22896111</td></tr>\n",
       "\t<tr><td>943_944</td><td>CPG9951</td><td>IGLL5</td><td>chr22:22878385</td><td>0</td><td>0.340</td><td>0.7373904</td><td>0.7646816</td><td>['CTCF_binding_site']                         </td><td>ENSG00000254709.8</td><td>22</td><td>22887780</td><td>22896111</td></tr>\n",
       "\t<tr><td>943_944</td><td>CPG9951</td><td>IGLL5</td><td>chr22:22879020</td><td>0</td><td>4.709</td><td>0.9047393</td><td>0.9872263</td><td>['CTCF_binding_site']                         </td><td>ENSG00000254709.8</td><td>22</td><td>22887780</td><td>22896111</td></tr>\n",
       "\t<tr><td>943_944</td><td>CPG9951</td><td>IGLL5</td><td>chr22:22879507</td><td>1</td><td>4.728</td><td>0.8264300</td><td>0.9806664</td><td>['CTCF_binding_site', 'open_chromatin_region']</td><td>ENSG00000254709.8</td><td>22</td><td>22887780</td><td>22896111</td></tr>\n",
       "\t<tr><td>943_944</td><td>CPG9951</td><td>IGLL5</td><td>chr22:22879592</td><td>1</td><td>0.553</td><td>0.8442383</td><td>0.9869619</td><td>['CTCF_binding_site', 'open_chromatin_region']</td><td>ENSG00000254709.8</td><td>22</td><td>22887780</td><td>22896111</td></tr>\n",
       "\t<tr><td>943_944</td><td>CPG9951</td><td>IGLL5</td><td>chr22:22880306</td><td>1</td><td>0.721</td><td>0.5153846</td><td>0.4946656</td><td>['CTCF_binding_site', 'enhancer']             </td><td>ENSG00000254709.8</td><td>22</td><td>22887780</td><td>22896111</td></tr>\n",
       "</tbody>\n",
       "</table>\n"
      ],
      "text/latex": [
       "A tibble: 6 × 13\n",
       "\\begin{tabular}{lllllllllllll}\n",
       " onek1k\\_id & cpg\\_id & gene\\_name & variant\\_id & is\\_het & cadd & maf\\_onek1k & maf\\_gnomad\\_popmax & regulatory\\_consequences & ensembl\\_gene\\_id & chrom & gene\\_start & gene\\_end\\\\\n",
       " <chr> & <chr> & <chr> & <chr> & <dbl> & <dbl> & <dbl> & <dbl> & <chr> & <chr> & <dbl> & <dbl> & <dbl>\\\\\n",
       "\\hline\n",
       "\t 943\\_944 & CPG9951 & IGLL5 & chr22:22878301 & 0 & 0.856 & 0.6564496 & 0.7540074 & {[}'CTCF\\_binding\\_site'{]}                          & ENSG00000254709.8 & 22 & 22887780 & 22896111\\\\\n",
       "\t 943\\_944 & CPG9951 & IGLL5 & chr22:22878385 & 0 & 0.340 & 0.7373904 & 0.7646816 & {[}'CTCF\\_binding\\_site'{]}                          & ENSG00000254709.8 & 22 & 22887780 & 22896111\\\\\n",
       "\t 943\\_944 & CPG9951 & IGLL5 & chr22:22879020 & 0 & 4.709 & 0.9047393 & 0.9872263 & {[}'CTCF\\_binding\\_site'{]}                          & ENSG00000254709.8 & 22 & 22887780 & 22896111\\\\\n",
       "\t 943\\_944 & CPG9951 & IGLL5 & chr22:22879507 & 1 & 4.728 & 0.8264300 & 0.9806664 & {[}'CTCF\\_binding\\_site', 'open\\_chromatin\\_region'{]} & ENSG00000254709.8 & 22 & 22887780 & 22896111\\\\\n",
       "\t 943\\_944 & CPG9951 & IGLL5 & chr22:22879592 & 1 & 0.553 & 0.8442383 & 0.9869619 & {[}'CTCF\\_binding\\_site', 'open\\_chromatin\\_region'{]} & ENSG00000254709.8 & 22 & 22887780 & 22896111\\\\\n",
       "\t 943\\_944 & CPG9951 & IGLL5 & chr22:22880306 & 1 & 0.721 & 0.5153846 & 0.4946656 & {[}'CTCF\\_binding\\_site', 'enhancer'{]}              & ENSG00000254709.8 & 22 & 22887780 & 22896111\\\\\n",
       "\\end{tabular}\n"
      ],
      "text/markdown": [
       "\n",
       "A tibble: 6 × 13\n",
       "\n",
       "| onek1k_id &lt;chr&gt; | cpg_id &lt;chr&gt; | gene_name &lt;chr&gt; | variant_id &lt;chr&gt; | is_het &lt;dbl&gt; | cadd &lt;dbl&gt; | maf_onek1k &lt;dbl&gt; | maf_gnomad_popmax &lt;dbl&gt; | regulatory_consequences &lt;chr&gt; | ensembl_gene_id &lt;chr&gt; | chrom &lt;dbl&gt; | gene_start &lt;dbl&gt; | gene_end &lt;dbl&gt; |\n",
       "|---|---|---|---|---|---|---|---|---|---|---|---|---|\n",
       "| 943_944 | CPG9951 | IGLL5 | chr22:22878301 | 0 | 0.856 | 0.6564496 | 0.7540074 | ['CTCF_binding_site']                          | ENSG00000254709.8 | 22 | 22887780 | 22896111 |\n",
       "| 943_944 | CPG9951 | IGLL5 | chr22:22878385 | 0 | 0.340 | 0.7373904 | 0.7646816 | ['CTCF_binding_site']                          | ENSG00000254709.8 | 22 | 22887780 | 22896111 |\n",
       "| 943_944 | CPG9951 | IGLL5 | chr22:22879020 | 0 | 4.709 | 0.9047393 | 0.9872263 | ['CTCF_binding_site']                          | ENSG00000254709.8 | 22 | 22887780 | 22896111 |\n",
       "| 943_944 | CPG9951 | IGLL5 | chr22:22879507 | 1 | 4.728 | 0.8264300 | 0.9806664 | ['CTCF_binding_site', 'open_chromatin_region'] | ENSG00000254709.8 | 22 | 22887780 | 22896111 |\n",
       "| 943_944 | CPG9951 | IGLL5 | chr22:22879592 | 1 | 0.553 | 0.8442383 | 0.9869619 | ['CTCF_binding_site', 'open_chromatin_region'] | ENSG00000254709.8 | 22 | 22887780 | 22896111 |\n",
       "| 943_944 | CPG9951 | IGLL5 | chr22:22880306 | 1 | 0.721 | 0.5153846 | 0.4946656 | ['CTCF_binding_site', 'enhancer']              | ENSG00000254709.8 | 22 | 22887780 | 22896111 |\n",
       "\n"
      ],
      "text/plain": [
       "  onek1k_id cpg_id  gene_name variant_id     is_het cadd  maf_onek1k\n",
       "1 943_944   CPG9951 IGLL5     chr22:22878301 0      0.856 0.6564496 \n",
       "2 943_944   CPG9951 IGLL5     chr22:22878385 0      0.340 0.7373904 \n",
       "3 943_944   CPG9951 IGLL5     chr22:22879020 0      4.709 0.9047393 \n",
       "4 943_944   CPG9951 IGLL5     chr22:22879507 1      4.728 0.8264300 \n",
       "5 943_944   CPG9951 IGLL5     chr22:22879592 1      0.553 0.8442383 \n",
       "6 943_944   CPG9951 IGLL5     chr22:22880306 1      0.721 0.5153846 \n",
       "  maf_gnomad_popmax regulatory_consequences                       \n",
       "1 0.7540074         ['CTCF_binding_site']                         \n",
       "2 0.7646816         ['CTCF_binding_site']                         \n",
       "3 0.9872263         ['CTCF_binding_site']                         \n",
       "4 0.9806664         ['CTCF_binding_site', 'open_chromatin_region']\n",
       "5 0.9869619         ['CTCF_binding_site', 'open_chromatin_region']\n",
       "6 0.4946656         ['CTCF_binding_site', 'enhancer']             \n",
       "  ensembl_gene_id   chrom gene_start gene_end\n",
       "1 ENSG00000254709.8 22    22887780   22896111\n",
       "2 ENSG00000254709.8 22    22887780   22896111\n",
       "3 ENSG00000254709.8 22    22887780   22896111\n",
       "4 ENSG00000254709.8 22    22887780   22896111\n",
       "5 ENSG00000254709.8 22    22887780   22896111\n",
       "6 ENSG00000254709.8 22    22887780   22896111"
      ]
     },
     "metadata": {},
     "output_type": "display_data"
    }
   ],
   "source": [
    "# df = read.csv(myfile)\n",
    "head(myfile)"
   ]
  },
  {
   "cell_type": "code",
   "execution_count": null,
   "id": "f593a9b4-155f-4f4e-a637-daf2744123f3",
   "metadata": {},
   "outputs": [],
   "source": []
  },
  {
   "cell_type": "code",
   "execution_count": 3,
   "id": "4ee202d0-6b8a-4432-8df7-d1926ab4be5a",
   "metadata": {},
   "outputs": [
    {
     "name": "stderr",
     "output_type": "stream",
     "text": [
      "Loading required package: SKAT\n",
      "\n",
      "Loading required package: Matrix\n",
      "\n",
      "Loading required package: SPAtest\n",
      "\n"
     ]
    }
   ],
   "source": [
    "require(SKAT)"
   ]
  },
  {
   "cell_type": "code",
   "execution_count": 4,
   "id": "09e4bb34-aebc-4220-aaca-e72d64d01905",
   "metadata": {},
   "outputs": [],
   "source": [
    "data(\"SKAT.example\")\n",
    "attach(SKAT.example)"
   ]
  },
  {
   "cell_type": "code",
   "execution_count": 5,
   "id": "92116819-8b4e-4cb0-a5e3-f7c4f1b60ddd",
   "metadata": {},
   "outputs": [
    {
     "data": {
      "text/html": [
       "<style>\n",
       ".list-inline {list-style: none; margin:0; padding: 0}\n",
       ".list-inline>li {display: inline-block}\n",
       ".list-inline>li:not(:last-child)::after {content: \"\\00b7\"; padding: 0 .5ex}\n",
       "</style>\n",
       "<ol class=list-inline><li>2000</li><li>67</li></ol>\n"
      ],
      "text/latex": [
       "\\begin{enumerate*}\n",
       "\\item 2000\n",
       "\\item 67\n",
       "\\end{enumerate*}\n"
      ],
      "text/markdown": [
       "1. 2000\n",
       "2. 67\n",
       "\n",
       "\n"
      ],
      "text/plain": [
       "[1] 2000   67"
      ]
     },
     "metadata": {},
     "output_type": "display_data"
    }
   ],
   "source": [
    "dim(Z)"
   ]
  },
  {
   "cell_type": "code",
   "execution_count": 7,
   "id": "624de543-95e5-4a8c-bfc9-0a7d3a127a65",
   "metadata": {},
   "outputs": [],
   "source": [
    "# y.c"
   ]
  },
  {
   "cell_type": "code",
   "execution_count": 18,
   "id": "2bc3007d-2d66-4718-a8ea-74846c6b5ec8",
   "metadata": {},
   "outputs": [],
   "source": [
    "obj<-SKAT_Null_Model(y.c ~ X, out_type=\"C\")"
   ]
  },
  {
   "cell_type": "code",
   "execution_count": 20,
   "id": "a280eb0e-b13b-4ad5-93e5-36ec406dc478",
   "metadata": {},
   "outputs": [
    {
     "data": {
      "text/html": [
       "0.00287704098763808"
      ],
      "text/latex": [
       "0.00287704098763808"
      ],
      "text/markdown": [
       "0.00287704098763808"
      ],
      "text/plain": [
       "[1] 0.002877041"
      ]
     },
     "metadata": {},
     "output_type": "display_data"
    }
   ],
   "source": [
    "pv_SKAT = SKAT(Z, obj)$p.value\n",
    "pv_SKAT"
   ]
  },
  {
   "cell_type": "code",
   "execution_count": 21,
   "id": "5b9d214d-130d-4798-96bd-24529f7677c7",
   "metadata": {},
   "outputs": [
    {
     "data": {
      "text/html": [
       "0.0150797876351039"
      ],
      "text/latex": [
       "0.0150797876351039"
      ],
      "text/markdown": [
       "0.0150797876351039"
      ],
      "text/plain": [
       "[1] 0.01507979"
      ]
     },
     "metadata": {},
     "output_type": "display_data"
    }
   ],
   "source": [
    "pv_burden = SKAT(Z, obj, r.corr = 1)$p.value\n",
    "pv_burden"
   ]
  },
  {
   "cell_type": "code",
   "execution_count": 22,
   "id": "d65c0ed1-b995-4ac0-8c2c-146a4c9f9372",
   "metadata": {},
   "outputs": [
    {
     "data": {
      "text/html": [
       "0.0038494511478171"
      ],
      "text/latex": [
       "0.0038494511478171"
      ],
      "text/markdown": [
       "0.0038494511478171"
      ],
      "text/plain": [
       "[1] 0.003849451"
      ]
     },
     "metadata": {},
     "output_type": "display_data"
    }
   ],
   "source": [
    "pv_SKAT_O = SKAT(Z, obj, method=\"SKATO\")$p.value\n",
    "pv_SKAT_O"
   ]
  },
  {
   "cell_type": "code",
   "execution_count": null,
   "id": "02bd04ee-e2a1-43d7-adcc-baed86864151",
   "metadata": {},
   "outputs": [],
   "source": []
  }
 ],
 "metadata": {
  "environment": {
   "kernel": "ir",
   "name": "r-cpu.4-1.m87",
   "type": "gcloud",
   "uri": "gcr.io/deeplearning-platform-release/r-cpu.4-1:m87"
  },
  "kernelspec": {
   "display_name": "R",
   "language": "R",
   "name": "ir"
  },
  "language_info": {
   "codemirror_mode": "r",
   "file_extension": ".r",
   "mimetype": "text/x-r-source",
   "name": "R",
   "pygments_lexer": "r",
   "version": "4.1.2"
  }
 },
 "nbformat": 4,
 "nbformat_minor": 5
}
