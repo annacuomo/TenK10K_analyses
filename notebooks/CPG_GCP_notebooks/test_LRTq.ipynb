{
 "cells": [
  {
   "cell_type": "code",
   "execution_count": null,
   "id": "e26056a9-1e47-426b-9958-2bdb8aa11534",
   "metadata": {},
   "outputs": [],
   "source": [
    "##### LRTq (rare variant eGene tool)"
   ]
  },
  {
   "cell_type": "code",
   "execution_count": 1,
   "id": "6c5124c4-2f40-4bfe-9612-5bee0e8eccdf",
   "metadata": {},
   "outputs": [],
   "source": [
    "library(LRTq)"
   ]
  },
  {
   "cell_type": "code",
   "execution_count": 4,
   "id": "db8faccb-b1fa-4d14-aae0-77506ed71e6e",
   "metadata": {},
   "outputs": [],
   "source": [
    "# ?LRTq"
   ]
  },
  {
   "cell_type": "code",
   "execution_count": 2,
   "id": "fda443bf-6e5b-4ca7-a050-79d2cde22c68",
   "metadata": {},
   "outputs": [
    {
     "name": "stderr",
     "output_type": "stream",
     "text": [
      "Loading required package: SKAT\n",
      "\n",
      "Loading required package: Matrix\n",
      "\n",
      "Loading required package: SPAtest\n",
      "\n"
     ]
    }
   ],
   "source": [
    "require(SKAT)"
   ]
  },
  {
   "cell_type": "code",
   "execution_count": 5,
   "id": "3b74bedb-4d69-40ea-adcd-8eeb73cbad34",
   "metadata": {},
   "outputs": [],
   "source": [
    "data(\"SKAT.example\")\n",
    "attach(SKAT.example)"
   ]
  },
  {
   "cell_type": "code",
   "execution_count": 6,
   "id": "7c91b4eb-8fa8-4b16-858e-1f9ccb41fec3",
   "metadata": {},
   "outputs": [],
   "source": [
    "E = y.c\n",
    "maf = colMeans(Z) / 2\n",
    "Z = Z[, maf > 0 & maf < 0.05]\n",
    "G = Z"
   ]
  },
  {
   "cell_type": "code",
   "execution_count": 10,
   "id": "84dbbf0b-04e3-4dd1-90b0-6c66ea406e7a",
   "metadata": {},
   "outputs": [
    {
     "data": {
      "text/html": [
       "<style>\n",
       ".list-inline {list-style: none; margin:0; padding: 0}\n",
       ".list-inline>li {display: inline-block}\n",
       ".list-inline>li:not(:last-child)::after {content: \"\\00b7\"; padding: 0 .5ex}\n",
       "</style>\n",
       "<ol class=list-inline><li>2000</li><li>1</li></ol>\n"
      ],
      "text/latex": [
       "\\begin{enumerate*}\n",
       "\\item 2000\n",
       "\\item 1\n",
       "\\end{enumerate*}\n"
      ],
      "text/markdown": [
       "1. 2000\n",
       "2. 1\n",
       "\n",
       "\n"
      ],
      "text/plain": [
       "[1] 2000    1"
      ]
     },
     "metadata": {},
     "output_type": "display_data"
    },
    {
     "data": {
      "text/html": [
       "<style>\n",
       ".list-inline {list-style: none; margin:0; padding: 0}\n",
       ".list-inline>li {display: inline-block}\n",
       ".list-inline>li:not(:last-child)::after {content: \"\\00b7\"; padding: 0 .5ex}\n",
       "</style>\n",
       "<ol class=list-inline><li>2000</li><li>55</li></ol>\n"
      ],
      "text/latex": [
       "\\begin{enumerate*}\n",
       "\\item 2000\n",
       "\\item 55\n",
       "\\end{enumerate*}\n"
      ],
      "text/markdown": [
       "1. 2000\n",
       "2. 55\n",
       "\n",
       "\n"
      ],
      "text/plain": [
       "[1] 2000   55"
      ]
     },
     "metadata": {},
     "output_type": "display_data"
    }
   ],
   "source": [
    "dim(E)\n",
    "dim(G)"
   ]
  },
  {
   "cell_type": "code",
   "execution_count": 7,
   "id": "d0f2e515-3692-4a7e-b265-68a3096fa1ef",
   "metadata": {},
   "outputs": [
    {
     "data": {
      "text/html": [
       "0.00599400599400599"
      ],
      "text/latex": [
       "0.00599400599400599"
      ],
      "text/markdown": [
       "0.00599400599400599"
      ],
      "text/plain": [
       "[1] 0.005994006"
      ]
     },
     "metadata": {},
     "output_type": "display_data"
    }
   ],
   "source": [
    "## the results could be 0.000999001, 0.001998002, 0.002997003, \n",
    "## 0.003996004, 0.004995005 or 0.005994006, due to randomness\n",
    "LRTq(expr = E, geno = G, causal_ratio = rep(0.30, ncol(G)), perm = 1000)"
   ]
  },
  {
   "cell_type": "code",
   "execution_count": null,
   "id": "df02b340-b876-431f-96d8-eac7a445ebc6",
   "metadata": {},
   "outputs": [],
   "source": []
  },
  {
   "cell_type": "code",
   "execution_count": null,
   "id": "fdd6a1f0-17de-4b41-8bc3-f6f4e6cf2bc4",
   "metadata": {},
   "outputs": [],
   "source": [
    "#### GridLMM (fast LMM implementation with multiple random effect terms)"
   ]
  },
  {
   "cell_type": "code",
   "execution_count": 1,
   "id": "99e6d5d4-ad82-4807-804d-32469af5ab2d",
   "metadata": {},
   "outputs": [
    {
     "name": "stderr",
     "output_type": "stream",
     "text": [
      "Downloading GitHub repo deruncie/GridLMM@HEAD\n",
      "\n"
     ]
    },
    {
     "name": "stdout",
     "output_type": "stream",
     "text": [
      "iterators    (NA        -> 1.0.14   ) [CRAN]\n",
      "vctrs        (0.3.8     -> 0.4.1    ) [CRAN]\n",
      "pillar       (1.6.4     -> 1.7.0    ) [CRAN]\n",
      "tibble       (3.1.6     -> 3.1.7    ) [CRAN]\n",
      "fansi        (0.5.0     -> 1.0.3    ) [CRAN]\n",
      "rprojroot    (2.0.2     -> 2.0.3    ) [CRAN]\n",
      "glue         (1.5.1     -> 1.6.2    ) [CRAN]\n",
      "withr        (2.4.3     -> 2.5.0    ) [CRAN]\n",
      "waldo        (0.3.1     -> 0.4.0    ) [CRAN]\n",
      "rlang        (0.4.12    -> 1.0.2    ) [CRAN]\n",
      "ps           (1.6.0     -> 1.7.0    ) [CRAN]\n",
      "processx     (3.5.2     -> 3.5.3    ) [CRAN]\n",
      "magrittr     (2.0.1     -> 2.0.3    ) [CRAN]\n",
      "jsonlite     (1.7.2     -> 1.8.0    ) [CRAN]\n",
      "evaluate     (0.14      -> 0.15     ) [CRAN]\n",
      "desc         (1.4.0     -> 1.4.1    ) [CRAN]\n",
      "crayon       (1.4.2     -> 1.5.1    ) [CRAN]\n",
      "cli          (3.1.0     -> 3.3.0    ) [CRAN]\n",
      "testthat     (3.1.0     -> 3.1.4    ) [CRAN]\n",
      "foreach      (NA        -> 1.5.2    ) [CRAN]\n",
      "RcppEigen    (0.3.3.9.1 -> 0.3.3.9.2) [CRAN]\n",
      "shape        (NA        -> 1.4.6    ) [CRAN]\n",
      "nloptr       (NA        -> 2.0.2    ) [CRAN]\n",
      "minqa        (NA        -> 1.2.4    ) [CRAN]\n",
      "RcppParallel (NA        -> 5.1.5    ) [CRAN]\n",
      "itertools    (NA        -> 0.1-3    ) [CRAN]\n",
      "doParallel   (NA        -> 1.0.17   ) [CRAN]\n",
      "glmnet       (NA        -> 4.1-4    ) [CRAN]\n",
      "lme4         (NA        -> 1.1-29   ) [CRAN]\n"
     ]
    },
    {
     "name": "stderr",
     "output_type": "stream",
     "text": [
      "Installing 29 packages: iterators, vctrs, pillar, tibble, fansi, rprojroot, glue, withr, waldo, rlang, ps, processx, magrittr, jsonlite, evaluate, desc, crayon, cli, testthat, foreach, RcppEigen, shape, nloptr, minqa, RcppParallel, itertools, doParallel, glmnet, lme4\n",
      "\n",
      "Installing packages into ‘/home/jupyter/.R/library’\n",
      "(as ‘lib’ is unspecified)\n",
      "\n",
      "Warning message in i.p(...):\n",
      "“installation of package ‘nloptr’ had non-zero exit status”\n",
      "Warning message in i.p(...):\n",
      "“installation of package ‘lme4’ had non-zero exit status”\n"
     ]
    },
    {
     "name": "stdout",
     "output_type": "stream",
     "text": [
      "\u001b[32m✔\u001b[39m  \u001b[90mchecking for file ‘/tmp/RtmpGR2Juo/remotes77436f1dd3e/deruncie-GridLMM-b0e5a9d/DESCRIPTION’\u001b[39m\u001b[36m\u001b[36m (392ms)\u001b[36m\u001b[39m\n",
      "\u001b[90m─\u001b[39m\u001b[90m  \u001b[39m\u001b[90mpreparing ‘GridLMM’:\u001b[39m\u001b[36m\u001b[39m\n",
      "\u001b[32m✔\u001b[39m  \u001b[90mchecking DESCRIPTION meta-information\u001b[39m\u001b[36m\u001b[39m\n",
      "\u001b[90m─\u001b[39m\u001b[90m  \u001b[39m\u001b[90mcleaning src\u001b[39m\u001b[36m\u001b[39m\n",
      "\u001b[90m─\u001b[39m\u001b[90m  \u001b[39m\u001b[90minstalling the package to build vignettes\u001b[39m\u001b[36m\u001b[39m\n",
      "         -----------------------------------\n",
      "   ERROR: dependency ‘lme4’ is not available for package ‘GridLMM’\n",
      "\u001b[90m─\u001b[39m\u001b[90m  \u001b[39m\u001b[90mremoving ‘/tmp/RtmpNj38lm/Rinst1f2d3a50d8fe/GridLMM’\u001b[39m\u001b[36m\u001b[39m\n",
      "         -----------------------------------\n",
      "   ERROR: package installation failed\n",
      "\r"
     ]
    },
    {
     "ename": "ERROR",
     "evalue": "Error: Failed to install 'GridLMM' from GitHub:\n  System command 'R' failed, exit status: 1, stdout + stderr:\nE> * checking for file ‘/tmp/RtmpGR2Juo/remotes77436f1dd3e/deruncie-GridLMM-b0e5a9d/DESCRIPTION’ ... OK\nE> * preparing ‘GridLMM’:\nE> * checking DESCRIPTION meta-information ... OK\nE> * cleaning src\nE> * installing the package to build vignettes\nE>       -----------------------------------\nE> ERROR: dependency ‘lme4’ is not available for package ‘GridLMM’\nE> * removing ‘/tmp/RtmpNj38lm/Rinst1f2d3a50d8fe/GridLMM’\nE>       -----------------------------------\nE> ERROR: package installation failed\n",
     "output_type": "error",
     "traceback": [
      "Error: Failed to install 'GridLMM' from GitHub:\n  System command 'R' failed, exit status: 1, stdout + stderr:\nE> * checking for file ‘/tmp/RtmpGR2Juo/remotes77436f1dd3e/deruncie-GridLMM-b0e5a9d/DESCRIPTION’ ... OK\nE> * preparing ‘GridLMM’:\nE> * checking DESCRIPTION meta-information ... OK\nE> * cleaning src\nE> * installing the package to build vignettes\nE>       -----------------------------------\nE> ERROR: dependency ‘lme4’ is not available for package ‘GridLMM’\nE> * removing ‘/tmp/RtmpNj38lm/Rinst1f2d3a50d8fe/GridLMM’\nE>       -----------------------------------\nE> ERROR: package installation failed\nTraceback:\n",
      "1. devtools::install_github(\"deruncie/GridLMM\", build_opts = c(\"--no-resave-data\", \n .     \"--no-manual\"), force = TRUE, build_vignettes = TRUE)",
      "2. pkgbuild::with_build_tools({\n .     ellipsis::check_dots_used(action = getOption(\"devtools.ellipsis_action\", \n .         rlang::warn))\n .     {\n .         remotes <- lapply(repo, github_remote, ref = ref, subdir = subdir, \n .             auth_token = auth_token, host = host)\n .         install_remotes(remotes, auth_token = auth_token, host = host, \n .             dependencies = dependencies, upgrade = upgrade, force = force, \n .             quiet = quiet, build = build, build_opts = build_opts, \n .             build_manual = build_manual, build_vignettes = build_vignettes, \n .             repos = repos, type = type, ...)\n .     }\n . }, required = FALSE)",
      "3. install_remotes(remotes, auth_token = auth_token, host = host, \n .     dependencies = dependencies, upgrade = upgrade, force = force, \n .     quiet = quiet, build = build, build_opts = build_opts, build_manual = build_manual, \n .     build_vignettes = build_vignettes, repos = repos, type = type, \n .     ...)",
      "4. tryCatch(res[[i]] <- install_remote(remotes[[i]], ...), error = function(e) {\n .     stop(remote_install_error(remotes[[i]], e))\n . })",
      "5. tryCatchList(expr, classes, parentenv, handlers)",
      "6. tryCatchOne(expr, names, parentenv, handlers[[1L]])",
      "7. value[[3L]](cond)"
     ]
    }
   ],
   "source": [
    "devtools::install_github('deruncie/GridLMM', build_opts = c(\"--no-resave-data\", \"--no-manual\"),force = TRUE,build_vignettes = TRUE)"
   ]
  },
  {
   "cell_type": "code",
   "execution_count": null,
   "id": "3ec2c2dc-5331-4b78-8d3a-98bf21beb434",
   "metadata": {},
   "outputs": [],
   "source": [
    "vignette(topic = 'Running_GridLMM_GWAS',package='GridLMM')"
   ]
  },
  {
   "cell_type": "code",
   "execution_count": null,
   "id": "a6e5b877-31c5-4ee5-a6af-43f95c8c2ab8",
   "metadata": {},
   "outputs": [],
   "source": []
  }
 ],
 "metadata": {
  "environment": {
   "kernel": "ir",
   "name": "r-cpu.4-1.m87",
   "type": "gcloud",
   "uri": "gcr.io/deeplearning-platform-release/r-cpu.4-1:m87"
  },
  "kernelspec": {
   "display_name": "R",
   "language": "R",
   "name": "ir"
  },
  "language_info": {
   "codemirror_mode": "r",
   "file_extension": ".r",
   "mimetype": "text/x-r-source",
   "name": "R",
   "pygments_lexer": "r",
   "version": "4.1.2"
  }
 },
 "nbformat": 4,
 "nbformat_minor": 5
}
