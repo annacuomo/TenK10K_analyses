{
 "cells": [
  {
   "cell_type": "code",
   "execution_count": 128,
   "id": "3d771988-1cd8-4dd4-87a5-9ec687e80470",
   "metadata": {},
   "outputs": [],
   "source": [
    "library(googleCloudStorageR)\n",
    "library(gargle)\n",
    "library(dplyr)\n",
    "library(SKAT)"
   ]
  },
  {
   "cell_type": "code",
   "execution_count": 129,
   "id": "67c5de1c-9d3f-40d6-a41d-48b73c1f8eae",
   "metadata": {},
   "outputs": [],
   "source": [
    "scope <-c(\"https://www.googleapis.com/auth/cloud-platform\")\n",
    "token <- token_fetch(scopes = scope)\n",
    "gcs_auth(token = token)"
   ]
  },
  {
   "cell_type": "code",
   "execution_count": 130,
   "id": "2a74ddf3-5ece-4a0b-9c9e-1e2cfd568e0e",
   "metadata": {},
   "outputs": [
    {
     "name": "stderr",
     "output_type": "stream",
     "text": [
      "Set default bucket name to 'cpg-tob-wgs-test'\n",
      "\n"
     ]
    }
   ],
   "source": [
    "googleCloudStorageR::gcs_global_bucket(\"gs://cpg-tob-wgs-test\")"
   ]
  },
  {
   "cell_type": "code",
   "execution_count": 131,
   "id": "6c363bba-41dd-4a5d-8f3f-8a7be981ccf8",
   "metadata": {},
   "outputs": [
    {
     "name": "stderr",
     "output_type": "stream",
     "text": [
      "Downloaded scrna-seq%2Fgrch38_association_files%2FOneK1K_CPG_IDs.tsv\n",
      "\n",
      "\u001b[1mRows: \u001b[22m\u001b[34m983\u001b[39m \u001b[1mColumns: \u001b[22m\u001b[34m3\u001b[39m\n",
      "\u001b[36m──\u001b[39m \u001b[1mColumn specification\u001b[22m \u001b[36m────────────────────────────────────────────────────────\u001b[39m\n",
      "\u001b[1mDelimiter:\u001b[22m \"\\t\"\n",
      "\u001b[31mchr\u001b[39m (3): OneK1K_ID, InternalID, ExternalID\n",
      "\n",
      "\u001b[36mℹ\u001b[39m Use `spec()` to retrieve the full column specification for this data.\n",
      "\u001b[36mℹ\u001b[39m Specify the column types or set `show_col_types = FALSE` to quiet this message.\n",
      "Object parsed to class: spec_tbl_df tbl_df tbl data.frame\n",
      "\n"
     ]
    },
    {
     "data": {
      "text/html": [
       "<table class=\"dataframe\">\n",
       "<caption>A data.frame: 6 × 3</caption>\n",
       "<thead>\n",
       "\t<tr><th></th><th scope=col>OneK1K_ID</th><th scope=col>CPG_ID</th><th scope=col>ExternalID</th></tr>\n",
       "\t<tr><th></th><th scope=col>&lt;chr&gt;</th><th scope=col>&lt;chr&gt;</th><th scope=col>&lt;chr&gt;</th></tr>\n",
       "</thead>\n",
       "<tbody>\n",
       "\t<tr><th scope=row>1</th><td>926_927</td><td>CPG9787 </td><td>TOB1801</td></tr>\n",
       "\t<tr><th scope=row>2</th><td>930_931</td><td>CPG9829 </td><td>TOB1805</td></tr>\n",
       "\t<tr><th scope=row>3</th><td>946_947</td><td>CPG9985 </td><td>TOB1821</td></tr>\n",
       "\t<tr><th scope=row>4</th><td>943_944</td><td>CPG9951 </td><td>TOB1818</td></tr>\n",
       "\t<tr><th scope=row>5</th><td>947_948</td><td>CPG9993 </td><td>TOB1822</td></tr>\n",
       "\t<tr><th scope=row>6</th><td>949_950</td><td>CPG10017</td><td>TOB1824</td></tr>\n",
       "</tbody>\n",
       "</table>\n"
      ],
      "text/latex": [
       "A data.frame: 6 × 3\n",
       "\\begin{tabular}{r|lll}\n",
       "  & OneK1K\\_ID & CPG\\_ID & ExternalID\\\\\n",
       "  & <chr> & <chr> & <chr>\\\\\n",
       "\\hline\n",
       "\t1 & 926\\_927 & CPG9787  & TOB1801\\\\\n",
       "\t2 & 930\\_931 & CPG9829  & TOB1805\\\\\n",
       "\t3 & 946\\_947 & CPG9985  & TOB1821\\\\\n",
       "\t4 & 943\\_944 & CPG9951  & TOB1818\\\\\n",
       "\t5 & 947\\_948 & CPG9993  & TOB1822\\\\\n",
       "\t6 & 949\\_950 & CPG10017 & TOB1824\\\\\n",
       "\\end{tabular}\n"
      ],
      "text/markdown": [
       "\n",
       "A data.frame: 6 × 3\n",
       "\n",
       "| <!--/--> | OneK1K_ID &lt;chr&gt; | CPG_ID &lt;chr&gt; | ExternalID &lt;chr&gt; |\n",
       "|---|---|---|---|\n",
       "| 1 | 926_927 | CPG9787  | TOB1801 |\n",
       "| 2 | 930_931 | CPG9829  | TOB1805 |\n",
       "| 3 | 946_947 | CPG9985  | TOB1821 |\n",
       "| 4 | 943_944 | CPG9951  | TOB1818 |\n",
       "| 5 | 947_948 | CPG9993  | TOB1822 |\n",
       "| 6 | 949_950 | CPG10017 | TOB1824 |\n",
       "\n"
      ],
      "text/plain": [
       "  OneK1K_ID CPG_ID   ExternalID\n",
       "1 926_927   CPG9787  TOB1801   \n",
       "2 930_931   CPG9829  TOB1805   \n",
       "3 946_947   CPG9985  TOB1821   \n",
       "4 943_944   CPG9951  TOB1818   \n",
       "5 947_948   CPG9993  TOB1822   \n",
       "6 949_950   CPG10017 TOB1824   "
      ]
     },
     "metadata": {},
     "output_type": "display_data"
    }
   ],
   "source": [
    "smf <- googleCloudStorageR::gcs_get_object(\"scrna-seq/grch38_association_files/OneK1K_CPG_IDs.tsv\")\n",
    "smf_df = as.data.frame(smf)\n",
    "colnames(smf_df)[2] = \"CPG_ID\"\n",
    "head(smf_df)"
   ]
  },
  {
   "cell_type": "code",
   "execution_count": 132,
   "id": "fe3240e1-d3f1-49e7-aad7-39a53b95cb09",
   "metadata": {},
   "outputs": [
    {
     "name": "stderr",
     "output_type": "stream",
     "text": [
      "Downloaded v0%2Fvpreb3_B_naive_expression.csv\n",
      "\n",
      "\u001b[1m\u001b[22mNew names:\n",
      "\u001b[36m•\u001b[39m `` -> `...1`\n",
      "\u001b[1mRows: \u001b[22m\u001b[34m969\u001b[39m \u001b[1mColumns: \u001b[22m\u001b[34m2\u001b[39m\n",
      "\u001b[36m──\u001b[39m \u001b[1mColumn specification\u001b[22m \u001b[36m────────────────────────────────────────────────────────\u001b[39m\n",
      "\u001b[1mDelimiter:\u001b[22m \",\"\n",
      "\u001b[31mchr\u001b[39m (1): ...1\n",
      "\u001b[32mdbl\u001b[39m (1): VPREB3\n",
      "\n",
      "\u001b[36mℹ\u001b[39m Use `spec()` to retrieve the full column specification for this data.\n",
      "\u001b[36mℹ\u001b[39m Specify the column types or set `show_col_types = FALSE` to quiet this message.\n",
      "Object parsed to class: spec_tbl_df tbl_df tbl data.frame\n",
      "\n"
     ]
    },
    {
     "data": {
      "text/html": [
       "<table class=\"dataframe\">\n",
       "<caption>A data.frame: 6 × 2</caption>\n",
       "<thead>\n",
       "\t<tr><th></th><th scope=col>OneK1K_ID</th><th scope=col>VPREB3</th></tr>\n",
       "\t<tr><th></th><th scope=col>&lt;chr&gt;</th><th scope=col>&lt;dbl&gt;</th></tr>\n",
       "</thead>\n",
       "<tbody>\n",
       "\t<tr><th scope=row>1</th><td>686_687</td><td>0.9292035</td></tr>\n",
       "\t<tr><th scope=row>2</th><td>682_683</td><td>0.6938776</td></tr>\n",
       "\t<tr><th scope=row>3</th><td>692_693</td><td>1.0204082</td></tr>\n",
       "\t<tr><th scope=row>4</th><td>683_684</td><td>0.7969925</td></tr>\n",
       "\t<tr><th scope=row>5</th><td>687_688</td><td>0.9852941</td></tr>\n",
       "\t<tr><th scope=row>6</th><td>685_686</td><td>0.6000000</td></tr>\n",
       "</tbody>\n",
       "</table>\n"
      ],
      "text/latex": [
       "A data.frame: 6 × 2\n",
       "\\begin{tabular}{r|ll}\n",
       "  & OneK1K\\_ID & VPREB3\\\\\n",
       "  & <chr> & <dbl>\\\\\n",
       "\\hline\n",
       "\t1 & 686\\_687 & 0.9292035\\\\\n",
       "\t2 & 682\\_683 & 0.6938776\\\\\n",
       "\t3 & 692\\_693 & 1.0204082\\\\\n",
       "\t4 & 683\\_684 & 0.7969925\\\\\n",
       "\t5 & 687\\_688 & 0.9852941\\\\\n",
       "\t6 & 685\\_686 & 0.6000000\\\\\n",
       "\\end{tabular}\n"
      ],
      "text/markdown": [
       "\n",
       "A data.frame: 6 × 2\n",
       "\n",
       "| <!--/--> | OneK1K_ID &lt;chr&gt; | VPREB3 &lt;dbl&gt; |\n",
       "|---|---|---|\n",
       "| 1 | 686_687 | 0.9292035 |\n",
       "| 2 | 682_683 | 0.6938776 |\n",
       "| 3 | 692_693 | 1.0204082 |\n",
       "| 4 | 683_684 | 0.7969925 |\n",
       "| 5 | 687_688 | 0.9852941 |\n",
       "| 6 | 685_686 | 0.6000000 |\n",
       "\n"
      ],
      "text/plain": [
       "  OneK1K_ID VPREB3   \n",
       "1 686_687   0.9292035\n",
       "2 682_683   0.6938776\n",
       "3 692_693   1.0204082\n",
       "4 683_684   0.7969925\n",
       "5 687_688   0.9852941\n",
       "6 685_686   0.6000000"
      ]
     },
     "metadata": {},
     "output_type": "display_data"
    }
   ],
   "source": [
    "y <- googleCloudStorageR::gcs_get_object(\"v0/vpreb3_B_naive_expression.csv\")\n",
    "y_df = as.data.frame(y)\n",
    "colnames(y_df)[1] = 'OneK1K_ID'\n",
    "head(y_df)"
   ]
  },
  {
   "cell_type": "code",
   "execution_count": 133,
   "id": "9bbe1ed1-715c-4595-9d02-409e7456a54a",
   "metadata": {},
   "outputs": [
    {
     "name": "stderr",
     "output_type": "stream",
     "text": [
      "Downloaded v0%2Fvpreb3_rare_promoter.csv\n",
      "\n",
      "\u001b[1m\u001b[22mNew names:\n",
      "\u001b[36m•\u001b[39m `` -> `...1`\n",
      "\u001b[1mRows: \u001b[22m\u001b[34m1061\u001b[39m \u001b[1mColumns: \u001b[22m\u001b[34m178\u001b[39m\n",
      "\u001b[36m──\u001b[39m \u001b[1mColumn specification\u001b[22m \u001b[36m────────────────────────────────────────────────────────\u001b[39m\n",
      "\u001b[1mDelimiter:\u001b[22m \",\"\n",
      "\u001b[31mchr\u001b[39m   (1): ...1\n",
      "\u001b[32mdbl\u001b[39m (177): chr22:23715912:G:A, chr22:23715916:C:A, chr22:23715930:A:G, chr22...\n",
      "\n",
      "\u001b[36mℹ\u001b[39m Use `spec()` to retrieve the full column specification for this data.\n",
      "\u001b[36mℹ\u001b[39m Specify the column types or set `show_col_types = FALSE` to quiet this message.\n",
      "Object parsed to class: spec_tbl_df tbl_df tbl data.frame\n",
      "\n"
     ]
    },
    {
     "data": {
      "text/html": [
       "<table class=\"dataframe\">\n",
       "<caption>A data.frame: 6 × 178</caption>\n",
       "<thead>\n",
       "\t<tr><th></th><th scope=col>CPG_ID</th><th scope=col>chr22:23715912:G:A</th><th scope=col>chr22:23715916:C:A</th><th scope=col>chr22:23715930:A:G</th><th scope=col>chr22:23715973:G:T</th><th scope=col>chr22:23716018:A:G</th><th scope=col>chr22:23716098:C:T</th><th scope=col>chr22:23716279:C:G</th><th scope=col>chr22:23716292:C:T</th><th scope=col>chr22:23716297:C:T</th><th scope=col>⋯</th><th scope=col>chr22:23787582:C:T</th><th scope=col>chr22:23787591:T:C</th><th scope=col>chr22:23787608:T:C</th><th scope=col>chr22:23787642:C:T</th><th scope=col>chr22:23788084:G:A</th><th scope=col>chr22:23788178:A:G</th><th scope=col>chr22:23788250:C:T</th><th scope=col>chr22:23788278:T:C</th><th scope=col>chr22:23788289:A:G</th><th scope=col>chr22:23788386:T:C</th></tr>\n",
       "\t<tr><th></th><th scope=col>&lt;chr&gt;</th><th scope=col>&lt;dbl&gt;</th><th scope=col>&lt;dbl&gt;</th><th scope=col>&lt;dbl&gt;</th><th scope=col>&lt;dbl&gt;</th><th scope=col>&lt;dbl&gt;</th><th scope=col>&lt;dbl&gt;</th><th scope=col>&lt;dbl&gt;</th><th scope=col>&lt;dbl&gt;</th><th scope=col>&lt;dbl&gt;</th><th scope=col>⋯</th><th scope=col>&lt;dbl&gt;</th><th scope=col>&lt;dbl&gt;</th><th scope=col>&lt;dbl&gt;</th><th scope=col>&lt;dbl&gt;</th><th scope=col>&lt;dbl&gt;</th><th scope=col>&lt;dbl&gt;</th><th scope=col>&lt;dbl&gt;</th><th scope=col>&lt;dbl&gt;</th><th scope=col>&lt;dbl&gt;</th><th scope=col>&lt;dbl&gt;</th></tr>\n",
       "</thead>\n",
       "<tbody>\n",
       "\t<tr><th scope=row>1</th><td>CPG18</td><td>2</td><td>2</td><td>2</td><td>2</td><td>2</td><td>2</td><td>2</td><td>2</td><td>2</td><td>⋯</td><td>2</td><td>2</td><td>2</td><td>2</td><td>2</td><td>2</td><td>2</td><td>2</td><td>2</td><td>2</td></tr>\n",
       "\t<tr><th scope=row>2</th><td>CPG26</td><td>2</td><td>2</td><td>2</td><td>2</td><td>2</td><td>2</td><td>2</td><td>2</td><td>2</td><td>⋯</td><td>2</td><td>2</td><td>2</td><td>2</td><td>2</td><td>2</td><td>2</td><td>2</td><td>2</td><td>2</td></tr>\n",
       "\t<tr><th scope=row>3</th><td>CPG34</td><td>2</td><td>2</td><td>2</td><td>2</td><td>2</td><td>2</td><td>2</td><td>2</td><td>2</td><td>⋯</td><td>2</td><td>2</td><td>2</td><td>2</td><td>2</td><td>2</td><td>2</td><td>2</td><td>2</td><td>2</td></tr>\n",
       "\t<tr><th scope=row>4</th><td>CPG42</td><td>2</td><td>2</td><td>2</td><td>2</td><td>2</td><td>2</td><td>2</td><td>2</td><td>2</td><td>⋯</td><td>2</td><td>2</td><td>2</td><td>2</td><td>2</td><td>2</td><td>2</td><td>2</td><td>2</td><td>2</td></tr>\n",
       "\t<tr><th scope=row>5</th><td>CPG59</td><td>2</td><td>2</td><td>2</td><td>2</td><td>2</td><td>2</td><td>2</td><td>2</td><td>2</td><td>⋯</td><td>2</td><td>2</td><td>2</td><td>2</td><td>2</td><td>2</td><td>2</td><td>2</td><td>2</td><td>2</td></tr>\n",
       "\t<tr><th scope=row>6</th><td>CPG67</td><td>2</td><td>2</td><td>2</td><td>2</td><td>2</td><td>2</td><td>2</td><td>2</td><td>2</td><td>⋯</td><td>2</td><td>2</td><td>2</td><td>2</td><td>2</td><td>2</td><td>2</td><td>2</td><td>2</td><td>2</td></tr>\n",
       "</tbody>\n",
       "</table>\n"
      ],
      "text/latex": [
       "A data.frame: 6 × 178\n",
       "\\begin{tabular}{r|lllllllllllllllllllll}\n",
       "  & CPG\\_ID & chr22:23715912:G:A & chr22:23715916:C:A & chr22:23715930:A:G & chr22:23715973:G:T & chr22:23716018:A:G & chr22:23716098:C:T & chr22:23716279:C:G & chr22:23716292:C:T & chr22:23716297:C:T & ⋯ & chr22:23787582:C:T & chr22:23787591:T:C & chr22:23787608:T:C & chr22:23787642:C:T & chr22:23788084:G:A & chr22:23788178:A:G & chr22:23788250:C:T & chr22:23788278:T:C & chr22:23788289:A:G & chr22:23788386:T:C\\\\\n",
       "  & <chr> & <dbl> & <dbl> & <dbl> & <dbl> & <dbl> & <dbl> & <dbl> & <dbl> & <dbl> & ⋯ & <dbl> & <dbl> & <dbl> & <dbl> & <dbl> & <dbl> & <dbl> & <dbl> & <dbl> & <dbl>\\\\\n",
       "\\hline\n",
       "\t1 & CPG18 & 2 & 2 & 2 & 2 & 2 & 2 & 2 & 2 & 2 & ⋯ & 2 & 2 & 2 & 2 & 2 & 2 & 2 & 2 & 2 & 2\\\\\n",
       "\t2 & CPG26 & 2 & 2 & 2 & 2 & 2 & 2 & 2 & 2 & 2 & ⋯ & 2 & 2 & 2 & 2 & 2 & 2 & 2 & 2 & 2 & 2\\\\\n",
       "\t3 & CPG34 & 2 & 2 & 2 & 2 & 2 & 2 & 2 & 2 & 2 & ⋯ & 2 & 2 & 2 & 2 & 2 & 2 & 2 & 2 & 2 & 2\\\\\n",
       "\t4 & CPG42 & 2 & 2 & 2 & 2 & 2 & 2 & 2 & 2 & 2 & ⋯ & 2 & 2 & 2 & 2 & 2 & 2 & 2 & 2 & 2 & 2\\\\\n",
       "\t5 & CPG59 & 2 & 2 & 2 & 2 & 2 & 2 & 2 & 2 & 2 & ⋯ & 2 & 2 & 2 & 2 & 2 & 2 & 2 & 2 & 2 & 2\\\\\n",
       "\t6 & CPG67 & 2 & 2 & 2 & 2 & 2 & 2 & 2 & 2 & 2 & ⋯ & 2 & 2 & 2 & 2 & 2 & 2 & 2 & 2 & 2 & 2\\\\\n",
       "\\end{tabular}\n"
      ],
      "text/markdown": [
       "\n",
       "A data.frame: 6 × 178\n",
       "\n",
       "| <!--/--> | CPG_ID &lt;chr&gt; | chr22:23715912:G:A &lt;dbl&gt; | chr22:23715916:C:A &lt;dbl&gt; | chr22:23715930:A:G &lt;dbl&gt; | chr22:23715973:G:T &lt;dbl&gt; | chr22:23716018:A:G &lt;dbl&gt; | chr22:23716098:C:T &lt;dbl&gt; | chr22:23716279:C:G &lt;dbl&gt; | chr22:23716292:C:T &lt;dbl&gt; | chr22:23716297:C:T &lt;dbl&gt; | ⋯ ⋯ | chr22:23787582:C:T &lt;dbl&gt; | chr22:23787591:T:C &lt;dbl&gt; | chr22:23787608:T:C &lt;dbl&gt; | chr22:23787642:C:T &lt;dbl&gt; | chr22:23788084:G:A &lt;dbl&gt; | chr22:23788178:A:G &lt;dbl&gt; | chr22:23788250:C:T &lt;dbl&gt; | chr22:23788278:T:C &lt;dbl&gt; | chr22:23788289:A:G &lt;dbl&gt; | chr22:23788386:T:C &lt;dbl&gt; |\n",
       "|---|---|---|---|---|---|---|---|---|---|---|---|---|---|---|---|---|---|---|---|---|---|\n",
       "| 1 | CPG18 | 2 | 2 | 2 | 2 | 2 | 2 | 2 | 2 | 2 | ⋯ | 2 | 2 | 2 | 2 | 2 | 2 | 2 | 2 | 2 | 2 |\n",
       "| 2 | CPG26 | 2 | 2 | 2 | 2 | 2 | 2 | 2 | 2 | 2 | ⋯ | 2 | 2 | 2 | 2 | 2 | 2 | 2 | 2 | 2 | 2 |\n",
       "| 3 | CPG34 | 2 | 2 | 2 | 2 | 2 | 2 | 2 | 2 | 2 | ⋯ | 2 | 2 | 2 | 2 | 2 | 2 | 2 | 2 | 2 | 2 |\n",
       "| 4 | CPG42 | 2 | 2 | 2 | 2 | 2 | 2 | 2 | 2 | 2 | ⋯ | 2 | 2 | 2 | 2 | 2 | 2 | 2 | 2 | 2 | 2 |\n",
       "| 5 | CPG59 | 2 | 2 | 2 | 2 | 2 | 2 | 2 | 2 | 2 | ⋯ | 2 | 2 | 2 | 2 | 2 | 2 | 2 | 2 | 2 | 2 |\n",
       "| 6 | CPG67 | 2 | 2 | 2 | 2 | 2 | 2 | 2 | 2 | 2 | ⋯ | 2 | 2 | 2 | 2 | 2 | 2 | 2 | 2 | 2 | 2 |\n",
       "\n"
      ],
      "text/plain": [
       "  CPG_ID chr22:23715912:G:A chr22:23715916:C:A chr22:23715930:A:G\n",
       "1 CPG18  2                  2                  2                 \n",
       "2 CPG26  2                  2                  2                 \n",
       "3 CPG34  2                  2                  2                 \n",
       "4 CPG42  2                  2                  2                 \n",
       "5 CPG59  2                  2                  2                 \n",
       "6 CPG67  2                  2                  2                 \n",
       "  chr22:23715973:G:T chr22:23716018:A:G chr22:23716098:C:T chr22:23716279:C:G\n",
       "1 2                  2                  2                  2                 \n",
       "2 2                  2                  2                  2                 \n",
       "3 2                  2                  2                  2                 \n",
       "4 2                  2                  2                  2                 \n",
       "5 2                  2                  2                  2                 \n",
       "6 2                  2                  2                  2                 \n",
       "  chr22:23716292:C:T chr22:23716297:C:T ⋯ chr22:23787582:C:T chr22:23787591:T:C\n",
       "1 2                  2                  ⋯ 2                  2                 \n",
       "2 2                  2                  ⋯ 2                  2                 \n",
       "3 2                  2                  ⋯ 2                  2                 \n",
       "4 2                  2                  ⋯ 2                  2                 \n",
       "5 2                  2                  ⋯ 2                  2                 \n",
       "6 2                  2                  ⋯ 2                  2                 \n",
       "  chr22:23787608:T:C chr22:23787642:C:T chr22:23788084:G:A chr22:23788178:A:G\n",
       "1 2                  2                  2                  2                 \n",
       "2 2                  2                  2                  2                 \n",
       "3 2                  2                  2                  2                 \n",
       "4 2                  2                  2                  2                 \n",
       "5 2                  2                  2                  2                 \n",
       "6 2                  2                  2                  2                 \n",
       "  chr22:23788250:C:T chr22:23788278:T:C chr22:23788289:A:G chr22:23788386:T:C\n",
       "1 2                  2                  2                  2                 \n",
       "2 2                  2                  2                  2                 \n",
       "3 2                  2                  2                  2                 \n",
       "4 2                  2                  2                  2                 \n",
       "5 2                  2                  2                  2                 \n",
       "6 2                  2                  2                  2                 "
      ]
     },
     "metadata": {},
     "output_type": "display_data"
    }
   ],
   "source": [
    "# G <- googleCloudStorageR::gcs_get_object(\"v0/vpreb3_rare_regulatory.csv\")\n",
    "G <- googleCloudStorageR::gcs_get_object(\"v0/vpreb3_rare_promoter.csv\")\n",
    "G_df = as.data.frame(G)\n",
    "colnames(G_df)[1] = \"CPG_ID\"\n",
    "head(G_df)"
   ]
  },
  {
   "cell_type": "code",
   "execution_count": 134,
   "id": "85739af5-9280-4405-90ed-89bacbdad894",
   "metadata": {},
   "outputs": [
    {
     "data": {
      "text/html": [
       "1061"
      ],
      "text/latex": [
       "1061"
      ],
      "text/markdown": [
       "1061"
      ],
      "text/plain": [
       "[1] 1061"
      ]
     },
     "metadata": {},
     "output_type": "display_data"
    },
    {
     "data": {
      "text/html": [
       "969"
      ],
      "text/latex": [
       "969"
      ],
      "text/markdown": [
       "969"
      ],
      "text/plain": [
       "[1] 969"
      ]
     },
     "metadata": {},
     "output_type": "display_data"
    },
    {
     "data": {
      "text/html": [
       "983"
      ],
      "text/latex": [
       "983"
      ],
      "text/markdown": [
       "983"
      ],
      "text/plain": [
       "[1] 983"
      ]
     },
     "metadata": {},
     "output_type": "display_data"
    }
   ],
   "source": [
    "nrow(G_df)\n",
    "nrow(y_df)\n",
    "nrow(smf_df)"
   ]
  },
  {
   "cell_type": "code",
   "execution_count": 135,
   "id": "9bff5041-34a5-4e07-a214-fa8bede6b564",
   "metadata": {},
   "outputs": [
    {
     "name": "stderr",
     "output_type": "stream",
     "text": [
      "Joining, by = \"OneK1K_ID\"\n"
     ]
    },
    {
     "data": {
      "text/html": [
       "969"
      ],
      "text/latex": [
       "969"
      ],
      "text/markdown": [
       "969"
      ],
      "text/plain": [
       "[1] 969"
      ]
     },
     "metadata": {},
     "output_type": "display_data"
    },
    {
     "data": {
      "text/html": [
       "<table class=\"dataframe\">\n",
       "<caption>A data.frame: 2 × 4</caption>\n",
       "<thead>\n",
       "\t<tr><th></th><th scope=col>OneK1K_ID</th><th scope=col>CPG_ID</th><th scope=col>ExternalID</th><th scope=col>VPREB3</th></tr>\n",
       "\t<tr><th></th><th scope=col>&lt;chr&gt;</th><th scope=col>&lt;chr&gt;</th><th scope=col>&lt;chr&gt;</th><th scope=col>&lt;dbl&gt;</th></tr>\n",
       "</thead>\n",
       "<tbody>\n",
       "\t<tr><th scope=row>1</th><td>926_927</td><td>CPG9787</td><td>TOB1801</td><td>1.105769</td></tr>\n",
       "\t<tr><th scope=row>2</th><td>930_931</td><td>CPG9829</td><td>TOB1805</td><td>1.237500</td></tr>\n",
       "</tbody>\n",
       "</table>\n"
      ],
      "text/latex": [
       "A data.frame: 2 × 4\n",
       "\\begin{tabular}{r|llll}\n",
       "  & OneK1K\\_ID & CPG\\_ID & ExternalID & VPREB3\\\\\n",
       "  & <chr> & <chr> & <chr> & <dbl>\\\\\n",
       "\\hline\n",
       "\t1 & 926\\_927 & CPG9787 & TOB1801 & 1.105769\\\\\n",
       "\t2 & 930\\_931 & CPG9829 & TOB1805 & 1.237500\\\\\n",
       "\\end{tabular}\n"
      ],
      "text/markdown": [
       "\n",
       "A data.frame: 2 × 4\n",
       "\n",
       "| <!--/--> | OneK1K_ID &lt;chr&gt; | CPG_ID &lt;chr&gt; | ExternalID &lt;chr&gt; | VPREB3 &lt;dbl&gt; |\n",
       "|---|---|---|---|---|\n",
       "| 1 | 926_927 | CPG9787 | TOB1801 | 1.105769 |\n",
       "| 2 | 930_931 | CPG9829 | TOB1805 | 1.237500 |\n",
       "\n"
      ],
      "text/plain": [
       "  OneK1K_ID CPG_ID  ExternalID VPREB3  \n",
       "1 926_927   CPG9787 TOB1801    1.105769\n",
       "2 930_931   CPG9829 TOB1805    1.237500"
      ]
     },
     "metadata": {},
     "output_type": "display_data"
    }
   ],
   "source": [
    "df0 = inner_join(smf_df,y_df)\n",
    "nrow(df0)\n",
    "head(df0,2)"
   ]
  },
  {
   "cell_type": "code",
   "execution_count": 136,
   "id": "95cec21b-8362-422f-92a8-78476c91019c",
   "metadata": {},
   "outputs": [
    {
     "name": "stderr",
     "output_type": "stream",
     "text": [
      "Joining, by = \"CPG_ID\"\n"
     ]
    },
    {
     "data": {
      "text/html": [
       "887"
      ],
      "text/latex": [
       "887"
      ],
      "text/markdown": [
       "887"
      ],
      "text/plain": [
       "[1] 887"
      ]
     },
     "metadata": {},
     "output_type": "display_data"
    },
    {
     "data": {
      "text/html": [
       "<table class=\"dataframe\">\n",
       "<caption>A data.frame: 2 × 181</caption>\n",
       "<thead>\n",
       "\t<tr><th></th><th scope=col>OneK1K_ID</th><th scope=col>CPG_ID</th><th scope=col>ExternalID</th><th scope=col>VPREB3</th><th scope=col>chr22:23715912:G:A</th><th scope=col>chr22:23715916:C:A</th><th scope=col>chr22:23715930:A:G</th><th scope=col>chr22:23715973:G:T</th><th scope=col>chr22:23716018:A:G</th><th scope=col>chr22:23716098:C:T</th><th scope=col>⋯</th><th scope=col>chr22:23787582:C:T</th><th scope=col>chr22:23787591:T:C</th><th scope=col>chr22:23787608:T:C</th><th scope=col>chr22:23787642:C:T</th><th scope=col>chr22:23788084:G:A</th><th scope=col>chr22:23788178:A:G</th><th scope=col>chr22:23788250:C:T</th><th scope=col>chr22:23788278:T:C</th><th scope=col>chr22:23788289:A:G</th><th scope=col>chr22:23788386:T:C</th></tr>\n",
       "\t<tr><th></th><th scope=col>&lt;chr&gt;</th><th scope=col>&lt;chr&gt;</th><th scope=col>&lt;chr&gt;</th><th scope=col>&lt;dbl&gt;</th><th scope=col>&lt;dbl&gt;</th><th scope=col>&lt;dbl&gt;</th><th scope=col>&lt;dbl&gt;</th><th scope=col>&lt;dbl&gt;</th><th scope=col>&lt;dbl&gt;</th><th scope=col>&lt;dbl&gt;</th><th scope=col>⋯</th><th scope=col>&lt;dbl&gt;</th><th scope=col>&lt;dbl&gt;</th><th scope=col>&lt;dbl&gt;</th><th scope=col>&lt;dbl&gt;</th><th scope=col>&lt;dbl&gt;</th><th scope=col>&lt;dbl&gt;</th><th scope=col>&lt;dbl&gt;</th><th scope=col>&lt;dbl&gt;</th><th scope=col>&lt;dbl&gt;</th><th scope=col>&lt;dbl&gt;</th></tr>\n",
       "</thead>\n",
       "<tbody>\n",
       "\t<tr><th scope=row>1</th><td>926_927</td><td>CPG9787</td><td>TOB1801</td><td>1.105769</td><td>2</td><td>2</td><td>2</td><td>2</td><td>2</td><td>2</td><td>⋯</td><td>2</td><td>2</td><td>2</td><td>2</td><td>2</td><td>2</td><td>2</td><td>2</td><td>2</td><td>2</td></tr>\n",
       "\t<tr><th scope=row>2</th><td>930_931</td><td>CPG9829</td><td>TOB1805</td><td>1.237500</td><td>2</td><td>2</td><td>2</td><td>2</td><td>2</td><td>2</td><td>⋯</td><td>2</td><td>2</td><td>2</td><td>2</td><td>2</td><td>2</td><td>2</td><td>2</td><td>2</td><td>2</td></tr>\n",
       "</tbody>\n",
       "</table>\n"
      ],
      "text/latex": [
       "A data.frame: 2 × 181\n",
       "\\begin{tabular}{r|lllllllllllllllllllll}\n",
       "  & OneK1K\\_ID & CPG\\_ID & ExternalID & VPREB3 & chr22:23715912:G:A & chr22:23715916:C:A & chr22:23715930:A:G & chr22:23715973:G:T & chr22:23716018:A:G & chr22:23716098:C:T & ⋯ & chr22:23787582:C:T & chr22:23787591:T:C & chr22:23787608:T:C & chr22:23787642:C:T & chr22:23788084:G:A & chr22:23788178:A:G & chr22:23788250:C:T & chr22:23788278:T:C & chr22:23788289:A:G & chr22:23788386:T:C\\\\\n",
       "  & <chr> & <chr> & <chr> & <dbl> & <dbl> & <dbl> & <dbl> & <dbl> & <dbl> & <dbl> & ⋯ & <dbl> & <dbl> & <dbl> & <dbl> & <dbl> & <dbl> & <dbl> & <dbl> & <dbl> & <dbl>\\\\\n",
       "\\hline\n",
       "\t1 & 926\\_927 & CPG9787 & TOB1801 & 1.105769 & 2 & 2 & 2 & 2 & 2 & 2 & ⋯ & 2 & 2 & 2 & 2 & 2 & 2 & 2 & 2 & 2 & 2\\\\\n",
       "\t2 & 930\\_931 & CPG9829 & TOB1805 & 1.237500 & 2 & 2 & 2 & 2 & 2 & 2 & ⋯ & 2 & 2 & 2 & 2 & 2 & 2 & 2 & 2 & 2 & 2\\\\\n",
       "\\end{tabular}\n"
      ],
      "text/markdown": [
       "\n",
       "A data.frame: 2 × 181\n",
       "\n",
       "| <!--/--> | OneK1K_ID &lt;chr&gt; | CPG_ID &lt;chr&gt; | ExternalID &lt;chr&gt; | VPREB3 &lt;dbl&gt; | chr22:23715912:G:A &lt;dbl&gt; | chr22:23715916:C:A &lt;dbl&gt; | chr22:23715930:A:G &lt;dbl&gt; | chr22:23715973:G:T &lt;dbl&gt; | chr22:23716018:A:G &lt;dbl&gt; | chr22:23716098:C:T &lt;dbl&gt; | ⋯ ⋯ | chr22:23787582:C:T &lt;dbl&gt; | chr22:23787591:T:C &lt;dbl&gt; | chr22:23787608:T:C &lt;dbl&gt; | chr22:23787642:C:T &lt;dbl&gt; | chr22:23788084:G:A &lt;dbl&gt; | chr22:23788178:A:G &lt;dbl&gt; | chr22:23788250:C:T &lt;dbl&gt; | chr22:23788278:T:C &lt;dbl&gt; | chr22:23788289:A:G &lt;dbl&gt; | chr22:23788386:T:C &lt;dbl&gt; |\n",
       "|---|---|---|---|---|---|---|---|---|---|---|---|---|---|---|---|---|---|---|---|---|---|\n",
       "| 1 | 926_927 | CPG9787 | TOB1801 | 1.105769 | 2 | 2 | 2 | 2 | 2 | 2 | ⋯ | 2 | 2 | 2 | 2 | 2 | 2 | 2 | 2 | 2 | 2 |\n",
       "| 2 | 930_931 | CPG9829 | TOB1805 | 1.237500 | 2 | 2 | 2 | 2 | 2 | 2 | ⋯ | 2 | 2 | 2 | 2 | 2 | 2 | 2 | 2 | 2 | 2 |\n",
       "\n"
      ],
      "text/plain": [
       "  OneK1K_ID CPG_ID  ExternalID VPREB3   chr22:23715912:G:A chr22:23715916:C:A\n",
       "1 926_927   CPG9787 TOB1801    1.105769 2                  2                 \n",
       "2 930_931   CPG9829 TOB1805    1.237500 2                  2                 \n",
       "  chr22:23715930:A:G chr22:23715973:G:T chr22:23716018:A:G chr22:23716098:C:T ⋯\n",
       "1 2                  2                  2                  2                  ⋯\n",
       "2 2                  2                  2                  2                  ⋯\n",
       "  chr22:23787582:C:T chr22:23787591:T:C chr22:23787608:T:C chr22:23787642:C:T\n",
       "1 2                  2                  2                  2                 \n",
       "2 2                  2                  2                  2                 \n",
       "  chr22:23788084:G:A chr22:23788178:A:G chr22:23788250:C:T chr22:23788278:T:C\n",
       "1 2                  2                  2                  2                 \n",
       "2 2                  2                  2                  2                 \n",
       "  chr22:23788289:A:G chr22:23788386:T:C\n",
       "1 2                  2                 \n",
       "2 2                  2                 "
      ]
     },
     "metadata": {},
     "output_type": "display_data"
    }
   ],
   "source": [
    "df1 = inner_join(df0,G_df)\n",
    "nrow(df1)\n",
    "head(df1,2)"
   ]
  },
  {
   "cell_type": "code",
   "execution_count": 137,
   "id": "d9d35c17-2cfe-4a31-981f-4713c0da7413",
   "metadata": {},
   "outputs": [
    {
     "data": {
      "text/html": [
       "<style>\n",
       ".list-inline {list-style: none; margin:0; padding: 0}\n",
       ".list-inline>li {display: inline-block}\n",
       ".list-inline>li:not(:last-child)::after {content: \"\\00b7\"; padding: 0 .5ex}\n",
       "</style>\n",
       "<ol class=list-inline><li>887</li><li>1</li></ol>\n"
      ],
      "text/latex": [
       "\\begin{enumerate*}\n",
       "\\item 887\n",
       "\\item 1\n",
       "\\end{enumerate*}\n"
      ],
      "text/markdown": [
       "1. 887\n",
       "2. 1\n",
       "\n",
       "\n"
      ],
      "text/plain": [
       "[1] 887   1"
      ]
     },
     "metadata": {},
     "output_type": "display_data"
    },
    {
     "data": {
      "text/html": [
       "<table class=\"dataframe\">\n",
       "<caption>A matrix: 2 × 1 of type dbl</caption>\n",
       "<tbody>\n",
       "\t<tr><td>1.105769</td></tr>\n",
       "\t<tr><td>1.237500</td></tr>\n",
       "</tbody>\n",
       "</table>\n"
      ],
      "text/latex": [
       "A matrix: 2 × 1 of type dbl\n",
       "\\begin{tabular}{l}\n",
       "\t 1.105769\\\\\n",
       "\t 1.237500\\\\\n",
       "\\end{tabular}\n"
      ],
      "text/markdown": [
       "\n",
       "A matrix: 2 × 1 of type dbl\n",
       "\n",
       "| 1.105769 |\n",
       "| 1.237500 |\n",
       "\n"
      ],
      "text/plain": [
       "     [,1]    \n",
       "[1,] 1.105769\n",
       "[2,] 1.237500"
      ]
     },
     "metadata": {},
     "output_type": "display_data"
    }
   ],
   "source": [
    "y.c = matrix(df1[,4], ncol=1)\n",
    "dim(y.c)\n",
    "head(y.c,2)"
   ]
  },
  {
   "cell_type": "code",
   "execution_count": 139,
   "id": "d0c332f7-ef21-4048-9afe-c8b4a6be0d15",
   "metadata": {},
   "outputs": [
    {
     "data": {
      "text/html": [
       "<style>\n",
       ".list-inline {list-style: none; margin:0; padding: 0}\n",
       ".list-inline>li {display: inline-block}\n",
       ".list-inline>li:not(:last-child)::after {content: \"\\00b7\"; padding: 0 .5ex}\n",
       "</style>\n",
       "<ol class=list-inline><li>887</li><li>177</li></ol>\n"
      ],
      "text/latex": [
       "\\begin{enumerate*}\n",
       "\\item 887\n",
       "\\item 177\n",
       "\\end{enumerate*}\n"
      ],
      "text/markdown": [
       "1. 887\n",
       "2. 177\n",
       "\n",
       "\n"
      ],
      "text/plain": [
       "[1] 887 177"
      ]
     },
     "metadata": {},
     "output_type": "display_data"
    },
    {
     "data": {
      "text/html": [
       "<table class=\"dataframe\">\n",
       "<caption>A matrix: 2 × 177 of type dbl</caption>\n",
       "<thead>\n",
       "\t<tr><th scope=col>chr22:23715912:G:A</th><th scope=col>chr22:23715916:C:A</th><th scope=col>chr22:23715930:A:G</th><th scope=col>chr22:23715973:G:T</th><th scope=col>chr22:23716018:A:G</th><th scope=col>chr22:23716098:C:T</th><th scope=col>chr22:23716279:C:G</th><th scope=col>chr22:23716292:C:T</th><th scope=col>chr22:23716297:C:T</th><th scope=col>chr22:23716298:G:A</th><th scope=col>⋯</th><th scope=col>chr22:23787582:C:T</th><th scope=col>chr22:23787591:T:C</th><th scope=col>chr22:23787608:T:C</th><th scope=col>chr22:23787642:C:T</th><th scope=col>chr22:23788084:G:A</th><th scope=col>chr22:23788178:A:G</th><th scope=col>chr22:23788250:C:T</th><th scope=col>chr22:23788278:T:C</th><th scope=col>chr22:23788289:A:G</th><th scope=col>chr22:23788386:T:C</th></tr>\n",
       "</thead>\n",
       "<tbody>\n",
       "\t<tr><td>2</td><td>2</td><td>2</td><td>2</td><td>2</td><td>2</td><td>2</td><td>2</td><td>2</td><td>2</td><td>⋯</td><td>2</td><td>2</td><td>2</td><td>2</td><td>2</td><td>2</td><td>2</td><td>2</td><td>2</td><td>2</td></tr>\n",
       "\t<tr><td>2</td><td>2</td><td>2</td><td>2</td><td>2</td><td>2</td><td>2</td><td>2</td><td>2</td><td>2</td><td>⋯</td><td>2</td><td>2</td><td>2</td><td>2</td><td>2</td><td>2</td><td>2</td><td>2</td><td>2</td><td>2</td></tr>\n",
       "</tbody>\n",
       "</table>\n"
      ],
      "text/latex": [
       "A matrix: 2 × 177 of type dbl\n",
       "\\begin{tabular}{lllllllllllllllllllll}\n",
       " chr22:23715912:G:A & chr22:23715916:C:A & chr22:23715930:A:G & chr22:23715973:G:T & chr22:23716018:A:G & chr22:23716098:C:T & chr22:23716279:C:G & chr22:23716292:C:T & chr22:23716297:C:T & chr22:23716298:G:A & ⋯ & chr22:23787582:C:T & chr22:23787591:T:C & chr22:23787608:T:C & chr22:23787642:C:T & chr22:23788084:G:A & chr22:23788178:A:G & chr22:23788250:C:T & chr22:23788278:T:C & chr22:23788289:A:G & chr22:23788386:T:C\\\\\n",
       "\\hline\n",
       "\t 2 & 2 & 2 & 2 & 2 & 2 & 2 & 2 & 2 & 2 & ⋯ & 2 & 2 & 2 & 2 & 2 & 2 & 2 & 2 & 2 & 2\\\\\n",
       "\t 2 & 2 & 2 & 2 & 2 & 2 & 2 & 2 & 2 & 2 & ⋯ & 2 & 2 & 2 & 2 & 2 & 2 & 2 & 2 & 2 & 2\\\\\n",
       "\\end{tabular}\n"
      ],
      "text/markdown": [
       "\n",
       "A matrix: 2 × 177 of type dbl\n",
       "\n",
       "| chr22:23715912:G:A | chr22:23715916:C:A | chr22:23715930:A:G | chr22:23715973:G:T | chr22:23716018:A:G | chr22:23716098:C:T | chr22:23716279:C:G | chr22:23716292:C:T | chr22:23716297:C:T | chr22:23716298:G:A | ⋯ | chr22:23787582:C:T | chr22:23787591:T:C | chr22:23787608:T:C | chr22:23787642:C:T | chr22:23788084:G:A | chr22:23788178:A:G | chr22:23788250:C:T | chr22:23788278:T:C | chr22:23788289:A:G | chr22:23788386:T:C |\n",
       "|---|---|---|---|---|---|---|---|---|---|---|---|---|---|---|---|---|---|---|---|---|\n",
       "| 2 | 2 | 2 | 2 | 2 | 2 | 2 | 2 | 2 | 2 | ⋯ | 2 | 2 | 2 | 2 | 2 | 2 | 2 | 2 | 2 | 2 |\n",
       "| 2 | 2 | 2 | 2 | 2 | 2 | 2 | 2 | 2 | 2 | ⋯ | 2 | 2 | 2 | 2 | 2 | 2 | 2 | 2 | 2 | 2 |\n",
       "\n"
      ],
      "text/plain": [
       "     chr22:23715912:G:A chr22:23715916:C:A chr22:23715930:A:G\n",
       "[1,] 2                  2                  2                 \n",
       "[2,] 2                  2                  2                 \n",
       "     chr22:23715973:G:T chr22:23716018:A:G chr22:23716098:C:T\n",
       "[1,] 2                  2                  2                 \n",
       "[2,] 2                  2                  2                 \n",
       "     chr22:23716279:C:G chr22:23716292:C:T chr22:23716297:C:T\n",
       "[1,] 2                  2                  2                 \n",
       "[2,] 2                  2                  2                 \n",
       "     chr22:23716298:G:A ⋯ chr22:23787582:C:T chr22:23787591:T:C\n",
       "[1,] 2                  ⋯ 2                  2                 \n",
       "[2,] 2                  ⋯ 2                  2                 \n",
       "     chr22:23787608:T:C chr22:23787642:C:T chr22:23788084:G:A\n",
       "[1,] 2                  2                  2                 \n",
       "[2,] 2                  2                  2                 \n",
       "     chr22:23788178:A:G chr22:23788250:C:T chr22:23788278:T:C\n",
       "[1,] 2                  2                  2                 \n",
       "[2,] 2                  2                  2                 \n",
       "     chr22:23788289:A:G chr22:23788386:T:C\n",
       "[1,] 2                  2                 \n",
       "[2,] 2                  2                 "
      ]
     },
     "metadata": {},
     "output_type": "display_data"
    }
   ],
   "source": [
    "Z = as.matrix(df1[,5:ncol(df1)])\n",
    "dim(Z)\n",
    "head(Z,2)"
   ]
  },
  {
   "cell_type": "code",
   "execution_count": 140,
   "id": "f03457fb-bfc6-41c7-82ff-f43e4c6156c0",
   "metadata": {},
   "outputs": [],
   "source": [
    "# Z= 2-Z\n",
    "# head(Z,2)"
   ]
  },
  {
   "cell_type": "code",
   "execution_count": 141,
   "id": "66ae93f1-2f03-431e-bacb-1234af6c10e9",
   "metadata": {},
   "outputs": [
    {
     "data": {
      "text/html": [
       "1.99458595277677"
      ],
      "text/latex": [
       "1.99458595277677"
      ],
      "text/markdown": [
       "1.99458595277677"
      ],
      "text/plain": [
       "[1] 1.994586"
      ]
     },
     "metadata": {},
     "output_type": "display_data"
    }
   ],
   "source": [
    "mean(Z)"
   ]
  },
  {
   "cell_type": "code",
   "execution_count": 142,
   "id": "7eca59f6-e5aa-43ac-9d65-e3e89e0ca572",
   "metadata": {},
   "outputs": [],
   "source": [
    "X <- matrix(1, nrow=nrow(df1), ncol=1)  # intercept only"
   ]
  },
  {
   "cell_type": "code",
   "execution_count": 143,
   "id": "7c96e37e-7882-4c88-848d-72ef05775f24",
   "metadata": {},
   "outputs": [],
   "source": [
    "# run null model (no Kinship)\n",
    "obj <- SKAT_Null_Model(y.c ~ X, out_type = \"C\")"
   ]
  },
  {
   "cell_type": "code",
   "execution_count": 144,
   "id": "24bfc408-0e53-4dc8-b89c-61c6fb896b0b",
   "metadata": {},
   "outputs": [
    {
     "name": "stderr",
     "output_type": "stream",
     "text": [
      "Warning message:\n",
      "“21 SNPs with either high missing rates or no-variation are excluded!”\n",
      "Warning message:\n",
      "“Genotypes of some variants are not the number of minor alleles! These genotypes are flipped!”\n",
      "Warning message:\n",
      "“21 SNPs with either high missing rates or no-variation are excluded!”\n",
      "Warning message:\n",
      "“Genotypes of some variants are not the number of minor alleles! These genotypes are flipped!”\n",
      "Warning message:\n",
      "“21 SNPs with either high missing rates or no-variation are excluded!”\n",
      "Warning message:\n",
      "“Genotypes of some variants are not the number of minor alleles! These genotypes are flipped!”\n"
     ]
    }
   ],
   "source": [
    "# get all three p-values\n",
    "pv_skat <- SKAT(Z, obj)$p.value  # SKAT\n",
    "pv_burden <- SKAT(Z, obj, r.corr = 1)$p.value  # burden\n",
    "pv_skat_o <- SKAT(Z, obj, method=\"SKATO\")$p.value  # SKAT-O"
   ]
  },
  {
   "cell_type": "code",
   "execution_count": 111,
   "id": "78e82883-93a2-4ec0-8b51-91d366120ff0",
   "metadata": {},
   "outputs": [
    {
     "name": "stdout",
     "output_type": "stream",
     "text": [
      "[1] \"no Kinship p-values, SKAT: 0.571862314433209, burden: 0.482128129068676, SKAT-O: 0.687188423690785\"\n"
     ]
    }
   ],
   "source": [
    "print(paste0(\"no Kinship p-values, SKAT: \", pv_skat, \", burden: \", pv_burden, \", SKAT-O: \", pv_skat_o))"
   ]
  },
  {
   "cell_type": "code",
   "execution_count": null,
   "id": "a17c330a-b461-4f33-ad76-42f7be77a5b4",
   "metadata": {},
   "outputs": [],
   "source": []
  },
  {
   "cell_type": "code",
   "execution_count": null,
   "id": "ce024cf4-7e26-4f62-9d29-cc46f2ce4bb1",
   "metadata": {},
   "outputs": [],
   "source": []
  },
  {
   "cell_type": "code",
   "execution_count": 112,
   "id": "ed17acd5-86ce-4d0b-9a67-6a3035831720",
   "metadata": {},
   "outputs": [
    {
     "name": "stderr",
     "output_type": "stream",
     "text": [
      "Downloaded v0%2Fskat%2Fsmf_Bcells.csv\n",
      "\n",
      "\u001b[1m\u001b[22mNew names:\n",
      "\u001b[36m•\u001b[39m `` -> `...1`\n",
      "\u001b[1mRows: \u001b[22m\u001b[34m133716\u001b[39m \u001b[1mColumns: \u001b[22m\u001b[34m4\u001b[39m\n",
      "\u001b[36m──\u001b[39m \u001b[1mColumn specification\u001b[22m \u001b[36m────────────────────────────────────────────────────────\u001b[39m\n",
      "\u001b[1mDelimiter:\u001b[22m \",\"\n",
      "\u001b[31mchr\u001b[39m (2): phenotype_sample_id, individual_long\n",
      "\u001b[32mdbl\u001b[39m (2): ...1, genotype_individual_id\n",
      "\n",
      "\u001b[36mℹ\u001b[39m Use `spec()` to retrieve the full column specification for this data.\n",
      "\u001b[36mℹ\u001b[39m Specify the column types or set `show_col_types = FALSE` to quiet this message.\n",
      "Object parsed to class: spec_tbl_df tbl_df tbl data.frame\n",
      "\n"
     ]
    },
    {
     "data": {
      "text/html": [
       "<table class=\"dataframe\">\n",
       "<caption>A data.frame: 6 × 2</caption>\n",
       "<thead>\n",
       "\t<tr><th></th><th scope=col>OneK1K_short_ID</th><th scope=col>OneK1K_ID</th></tr>\n",
       "\t<tr><th></th><th scope=col>&lt;chr&gt;</th><th scope=col>&lt;chr&gt;</th></tr>\n",
       "</thead>\n",
       "<tbody>\n",
       "\t<tr><th scope=row>1</th><td>687</td><td>686_687</td></tr>\n",
       "\t<tr><th scope=row>2</th><td>693</td><td>692_693</td></tr>\n",
       "\t<tr><th scope=row>4</th><td>691</td><td>690_691</td></tr>\n",
       "\t<tr><th scope=row>5</th><td>683</td><td>682_683</td></tr>\n",
       "\t<tr><th scope=row>7</th><td>684</td><td>683_684</td></tr>\n",
       "\t<tr><th scope=row>8</th><td>689</td><td>688_689</td></tr>\n",
       "</tbody>\n",
       "</table>\n"
      ],
      "text/latex": [
       "A data.frame: 6 × 2\n",
       "\\begin{tabular}{r|ll}\n",
       "  & OneK1K\\_short\\_ID & OneK1K\\_ID\\\\\n",
       "  & <chr> & <chr>\\\\\n",
       "\\hline\n",
       "\t1 & 687 & 686\\_687\\\\\n",
       "\t2 & 693 & 692\\_693\\\\\n",
       "\t4 & 691 & 690\\_691\\\\\n",
       "\t5 & 683 & 682\\_683\\\\\n",
       "\t7 & 684 & 683\\_684\\\\\n",
       "\t8 & 689 & 688\\_689\\\\\n",
       "\\end{tabular}\n"
      ],
      "text/markdown": [
       "\n",
       "A data.frame: 6 × 2\n",
       "\n",
       "| <!--/--> | OneK1K_short_ID &lt;chr&gt; | OneK1K_ID &lt;chr&gt; |\n",
       "|---|---|---|\n",
       "| 1 | 687 | 686_687 |\n",
       "| 2 | 693 | 692_693 |\n",
       "| 4 | 691 | 690_691 |\n",
       "| 5 | 683 | 682_683 |\n",
       "| 7 | 684 | 683_684 |\n",
       "| 8 | 689 | 688_689 |\n",
       "\n"
      ],
      "text/plain": [
       "  OneK1K_short_ID OneK1K_ID\n",
       "1 687             686_687  \n",
       "2 693             692_693  \n",
       "4 691             690_691  \n",
       "5 683             682_683  \n",
       "7 684             683_684  \n",
       "8 689             688_689  "
      ]
     },
     "metadata": {},
     "output_type": "display_data"
    }
   ],
   "source": [
    "smf2 <- googleCloudStorageR::gcs_get_object(\"v0/skat/smf_Bcells.csv\")\n",
    "smf2_df = as.data.frame(smf2)\n",
    "colnames(smf2_df)[3] = \"OneK1K_short_ID\"\n",
    "colnames(smf2_df)[4] = \"OneK1K_ID\"\n",
    "smf2_df$OneK1K_short_ID = as.character(smf2_df$OneK1K_short_ID)\n",
    "smf2_df$OneK1K_ID = as.character(smf2_df$OneK1K_ID)\n",
    "smf2_df = smf2_df[,c(\"OneK1K_short_ID\",\"OneK1K_ID\")]\n",
    "smf2_df = smf2_df[!duplicated(smf2_df), ]\n",
    "head(smf2_df)"
   ]
  },
  {
   "cell_type": "code",
   "execution_count": 113,
   "id": "ff08a8fc-9e98-443e-b8bf-0ec9496f3856",
   "metadata": {},
   "outputs": [
    {
     "name": "stderr",
     "output_type": "stream",
     "text": [
      "Joining, by = \"OneK1K_ID\"\n"
     ]
    },
    {
     "data": {
      "text/html": [
       "887"
      ],
      "text/latex": [
       "887"
      ],
      "text/markdown": [
       "887"
      ],
      "text/plain": [
       "[1] 887"
      ]
     },
     "metadata": {},
     "output_type": "display_data"
    },
    {
     "data": {
      "text/html": [
       "<table class=\"dataframe\">\n",
       "<caption>A data.frame: 2 × 182</caption>\n",
       "<thead>\n",
       "\t<tr><th></th><th scope=col>OneK1K_ID</th><th scope=col>CPG_ID</th><th scope=col>ExternalID</th><th scope=col>VPREB3</th><th scope=col>chr22:23715912:G:A</th><th scope=col>chr22:23715916:C:A</th><th scope=col>chr22:23715930:A:G</th><th scope=col>chr22:23715973:G:T</th><th scope=col>chr22:23716018:A:G</th><th scope=col>chr22:23716098:C:T</th><th scope=col>⋯</th><th scope=col>chr22:23787591:T:C</th><th scope=col>chr22:23787608:T:C</th><th scope=col>chr22:23787642:C:T</th><th scope=col>chr22:23788084:G:A</th><th scope=col>chr22:23788178:A:G</th><th scope=col>chr22:23788250:C:T</th><th scope=col>chr22:23788278:T:C</th><th scope=col>chr22:23788289:A:G</th><th scope=col>chr22:23788386:T:C</th><th scope=col>OneK1K_short_ID</th></tr>\n",
       "\t<tr><th></th><th scope=col>&lt;chr&gt;</th><th scope=col>&lt;chr&gt;</th><th scope=col>&lt;chr&gt;</th><th scope=col>&lt;dbl&gt;</th><th scope=col>&lt;dbl&gt;</th><th scope=col>&lt;dbl&gt;</th><th scope=col>&lt;dbl&gt;</th><th scope=col>&lt;dbl&gt;</th><th scope=col>&lt;dbl&gt;</th><th scope=col>&lt;dbl&gt;</th><th scope=col>⋯</th><th scope=col>&lt;dbl&gt;</th><th scope=col>&lt;dbl&gt;</th><th scope=col>&lt;dbl&gt;</th><th scope=col>&lt;dbl&gt;</th><th scope=col>&lt;dbl&gt;</th><th scope=col>&lt;dbl&gt;</th><th scope=col>&lt;dbl&gt;</th><th scope=col>&lt;dbl&gt;</th><th scope=col>&lt;dbl&gt;</th><th scope=col>&lt;chr&gt;</th></tr>\n",
       "</thead>\n",
       "<tbody>\n",
       "\t<tr><th scope=row>1</th><td>926_927</td><td>CPG9787</td><td>TOB1801</td><td>1.105769</td><td>2</td><td>2</td><td>2</td><td>2</td><td>2</td><td>2</td><td>⋯</td><td>2</td><td>2</td><td>2</td><td>2</td><td>2</td><td>2</td><td>2</td><td>2</td><td>2</td><td>927</td></tr>\n",
       "\t<tr><th scope=row>2</th><td>930_931</td><td>CPG9829</td><td>TOB1805</td><td>1.237500</td><td>2</td><td>2</td><td>2</td><td>2</td><td>2</td><td>2</td><td>⋯</td><td>2</td><td>2</td><td>2</td><td>2</td><td>2</td><td>2</td><td>2</td><td>2</td><td>2</td><td>931</td></tr>\n",
       "</tbody>\n",
       "</table>\n"
      ],
      "text/latex": [
       "A data.frame: 2 × 182\n",
       "\\begin{tabular}{r|lllllllllllllllllllll}\n",
       "  & OneK1K\\_ID & CPG\\_ID & ExternalID & VPREB3 & chr22:23715912:G:A & chr22:23715916:C:A & chr22:23715930:A:G & chr22:23715973:G:T & chr22:23716018:A:G & chr22:23716098:C:T & ⋯ & chr22:23787591:T:C & chr22:23787608:T:C & chr22:23787642:C:T & chr22:23788084:G:A & chr22:23788178:A:G & chr22:23788250:C:T & chr22:23788278:T:C & chr22:23788289:A:G & chr22:23788386:T:C & OneK1K\\_short\\_ID\\\\\n",
       "  & <chr> & <chr> & <chr> & <dbl> & <dbl> & <dbl> & <dbl> & <dbl> & <dbl> & <dbl> & ⋯ & <dbl> & <dbl> & <dbl> & <dbl> & <dbl> & <dbl> & <dbl> & <dbl> & <dbl> & <chr>\\\\\n",
       "\\hline\n",
       "\t1 & 926\\_927 & CPG9787 & TOB1801 & 1.105769 & 2 & 2 & 2 & 2 & 2 & 2 & ⋯ & 2 & 2 & 2 & 2 & 2 & 2 & 2 & 2 & 2 & 927\\\\\n",
       "\t2 & 930\\_931 & CPG9829 & TOB1805 & 1.237500 & 2 & 2 & 2 & 2 & 2 & 2 & ⋯ & 2 & 2 & 2 & 2 & 2 & 2 & 2 & 2 & 2 & 931\\\\\n",
       "\\end{tabular}\n"
      ],
      "text/markdown": [
       "\n",
       "A data.frame: 2 × 182\n",
       "\n",
       "| <!--/--> | OneK1K_ID &lt;chr&gt; | CPG_ID &lt;chr&gt; | ExternalID &lt;chr&gt; | VPREB3 &lt;dbl&gt; | chr22:23715912:G:A &lt;dbl&gt; | chr22:23715916:C:A &lt;dbl&gt; | chr22:23715930:A:G &lt;dbl&gt; | chr22:23715973:G:T &lt;dbl&gt; | chr22:23716018:A:G &lt;dbl&gt; | chr22:23716098:C:T &lt;dbl&gt; | ⋯ ⋯ | chr22:23787591:T:C &lt;dbl&gt; | chr22:23787608:T:C &lt;dbl&gt; | chr22:23787642:C:T &lt;dbl&gt; | chr22:23788084:G:A &lt;dbl&gt; | chr22:23788178:A:G &lt;dbl&gt; | chr22:23788250:C:T &lt;dbl&gt; | chr22:23788278:T:C &lt;dbl&gt; | chr22:23788289:A:G &lt;dbl&gt; | chr22:23788386:T:C &lt;dbl&gt; | OneK1K_short_ID &lt;chr&gt; |\n",
       "|---|---|---|---|---|---|---|---|---|---|---|---|---|---|---|---|---|---|---|---|---|---|\n",
       "| 1 | 926_927 | CPG9787 | TOB1801 | 1.105769 | 2 | 2 | 2 | 2 | 2 | 2 | ⋯ | 2 | 2 | 2 | 2 | 2 | 2 | 2 | 2 | 2 | 927 |\n",
       "| 2 | 930_931 | CPG9829 | TOB1805 | 1.237500 | 2 | 2 | 2 | 2 | 2 | 2 | ⋯ | 2 | 2 | 2 | 2 | 2 | 2 | 2 | 2 | 2 | 931 |\n",
       "\n"
      ],
      "text/plain": [
       "  OneK1K_ID CPG_ID  ExternalID VPREB3   chr22:23715912:G:A chr22:23715916:C:A\n",
       "1 926_927   CPG9787 TOB1801    1.105769 2                  2                 \n",
       "2 930_931   CPG9829 TOB1805    1.237500 2                  2                 \n",
       "  chr22:23715930:A:G chr22:23715973:G:T chr22:23716018:A:G chr22:23716098:C:T ⋯\n",
       "1 2                  2                  2                  2                  ⋯\n",
       "2 2                  2                  2                  2                  ⋯\n",
       "  chr22:23787591:T:C chr22:23787608:T:C chr22:23787642:C:T chr22:23788084:G:A\n",
       "1 2                  2                  2                  2                 \n",
       "2 2                  2                  2                  2                 \n",
       "  chr22:23788178:A:G chr22:23788250:C:T chr22:23788278:T:C chr22:23788289:A:G\n",
       "1 2                  2                  2                  2                 \n",
       "2 2                  2                  2                  2                 \n",
       "  chr22:23788386:T:C OneK1K_short_ID\n",
       "1 2                  927            \n",
       "2 2                  931            "
      ]
     },
     "metadata": {},
     "output_type": "display_data"
    }
   ],
   "source": [
    "df2 = inner_join(df1,smf2_df)\n",
    "nrow(df2)\n",
    "head(df2,2)"
   ]
  },
  {
   "cell_type": "code",
   "execution_count": 114,
   "id": "4cedd557-5d4c-4b81-b86c-80b505231d0c",
   "metadata": {},
   "outputs": [
    {
     "name": "stderr",
     "output_type": "stream",
     "text": [
      "Downloaded v0%2Fskat%2Fgrm_wide.csv\n",
      "\n",
      "\u001b[1m\u001b[22mNew names:\n",
      "\u001b[36m•\u001b[39m `` -> `...1`\n",
      "\u001b[1mRows: \u001b[22m\u001b[34m1086\u001b[39m \u001b[1mColumns: \u001b[22m\u001b[34m1087\u001b[39m\n",
      "\u001b[36m──\u001b[39m \u001b[1mColumn specification\u001b[22m \u001b[36m────────────────────────────────────────────────────────\u001b[39m\n",
      "\u001b[1mDelimiter:\u001b[22m \",\"\n",
      "\u001b[31mchr\u001b[39m    (1): ...1\n",
      "\u001b[32mdbl\u001b[39m (1086): 1, 2, 3, 4, 6, 7, 8, 9, 10, 11, 12, 13, 14, 15, 16, 17, 18, 19, ...\n",
      "\n",
      "\u001b[36mℹ\u001b[39m Use `spec()` to retrieve the full column specification for this data.\n",
      "\u001b[36mℹ\u001b[39m Specify the column types or set `show_col_types = FALSE` to quiet this message.\n",
      "Object parsed to class: spec_tbl_df tbl_df tbl data.frame\n",
      "\n"
     ]
    },
    {
     "data": {
      "text/html": [
       "<table class=\"dataframe\">\n",
       "<caption>A data.frame: 6 × 1087</caption>\n",
       "<thead>\n",
       "\t<tr><th></th><th scope=col>OneK1K_short_ID</th><th scope=col>1</th><th scope=col>2</th><th scope=col>3</th><th scope=col>4</th><th scope=col>6</th><th scope=col>7</th><th scope=col>8</th><th scope=col>9</th><th scope=col>10</th><th scope=col>⋯</th><th scope=col>566_2</th><th scope=col>845_2</th><th scope=col>846_2</th><th scope=col>847_2</th><th scope=col>848_2</th><th scope=col>914_2</th><th scope=col>915_2</th><th scope=col>932_2</th><th scope=col>926_2</th><th scope=col>920_2</th></tr>\n",
       "\t<tr><th></th><th scope=col>&lt;chr&gt;</th><th scope=col>&lt;dbl&gt;</th><th scope=col>&lt;dbl&gt;</th><th scope=col>&lt;dbl&gt;</th><th scope=col>&lt;dbl&gt;</th><th scope=col>&lt;dbl&gt;</th><th scope=col>&lt;dbl&gt;</th><th scope=col>&lt;dbl&gt;</th><th scope=col>&lt;dbl&gt;</th><th scope=col>&lt;dbl&gt;</th><th scope=col>⋯</th><th scope=col>&lt;dbl&gt;</th><th scope=col>&lt;dbl&gt;</th><th scope=col>&lt;dbl&gt;</th><th scope=col>&lt;dbl&gt;</th><th scope=col>&lt;dbl&gt;</th><th scope=col>&lt;dbl&gt;</th><th scope=col>&lt;dbl&gt;</th><th scope=col>&lt;dbl&gt;</th><th scope=col>&lt;dbl&gt;</th><th scope=col>&lt;dbl&gt;</th></tr>\n",
       "</thead>\n",
       "<tbody>\n",
       "\t<tr><th scope=row>1</th><td>1</td><td> 0.9956240654</td><td>-0.001683034</td><td>-0.0002661081</td><td> 0.001418200</td><td>-0.006331679</td><td>-0.0040118601</td><td>-0.0042191972</td><td> 0.0003706529</td><td> 0.0010878579</td><td>⋯</td><td>-0.0067786528</td><td>-0.0063865464</td><td>-0.0040660319</td><td>-0.002836337</td><td>-0.0013380554</td><td>-0.0068302853</td><td>-0.0043465365</td><td>-0.003641180</td><td> 5.665929e-03</td><td> 0.0019155646</td></tr>\n",
       "\t<tr><th scope=row>2</th><td>2</td><td>-0.0016830340</td><td> 0.990941763</td><td> 0.0044398019</td><td>-0.003153934</td><td> 0.001034162</td><td>-0.0058744354</td><td> 0.0007705059</td><td>-0.0008247463</td><td>-0.0060888031</td><td>⋯</td><td> 0.0008301185</td><td>-0.0056833406</td><td>-0.0081763230</td><td>-0.004223224</td><td>-0.0048066438</td><td>-0.0014566381</td><td>-0.0063909665</td><td> 0.003178318</td><td>-8.430217e-05</td><td>-0.0027412763</td></tr>\n",
       "\t<tr><th scope=row>3</th><td>3</td><td>-0.0002661081</td><td> 0.004439802</td><td> 0.9953926206</td><td>-0.004176617</td><td> 0.002940403</td><td> 0.0009857011</td><td>-0.0032733537</td><td>-0.0045801718</td><td> 0.0018792396</td><td>⋯</td><td>-0.0051730075</td><td>-0.0048095244</td><td>-0.0048272689</td><td>-0.001408186</td><td>-0.0009993706</td><td> 0.0031769637</td><td> 0.0001398614</td><td>-0.004222310</td><td> 2.664416e-03</td><td> 0.0033911315</td></tr>\n",
       "\t<tr><th scope=row>4</th><td>4</td><td> 0.0014181999</td><td>-0.003153934</td><td>-0.0041766171</td><td> 0.987741351</td><td> 0.002893333</td><td> 0.0041631833</td><td> 0.0018823836</td><td>-0.0061948425</td><td>-0.0033671912</td><td>⋯</td><td>-0.0079546189</td><td>-0.0042896308</td><td> 0.0001738437</td><td>-0.001351207</td><td>-0.0015957147</td><td>-0.0060013668</td><td> 0.0030513180</td><td>-0.002020036</td><td>-4.858702e-03</td><td>-0.0029082324</td></tr>\n",
       "\t<tr><th scope=row>5</th><td>6</td><td>-0.0063316789</td><td> 0.001034162</td><td> 0.0029404028</td><td> 0.002893333</td><td> 0.995691180</td><td>-0.0032946456</td><td>-0.0055204518</td><td> 0.0063747610</td><td>-0.0027786845</td><td>⋯</td><td> 0.0048565795</td><td>-0.0007947208</td><td>-0.0009436099</td><td>-0.006319818</td><td>-0.0025102387</td><td>-0.0009128237</td><td>-0.0023892380</td><td>-0.002748890</td><td>-1.776705e-03</td><td>-0.0025428955</td></tr>\n",
       "\t<tr><th scope=row>6</th><td>7</td><td>-0.0040118601</td><td>-0.005874435</td><td> 0.0009857011</td><td> 0.004163183</td><td>-0.003294646</td><td> 1.0258193016</td><td> 0.0032259240</td><td>-0.0038815429</td><td>-0.0008186206</td><td>⋯</td><td>-0.0104554258</td><td> 0.0011265093</td><td> 0.0002466098</td><td>-0.001353858</td><td>-0.0079953130</td><td>-0.0034070080</td><td> 0.0023608375</td><td> 0.007651643</td><td>-1.726293e-03</td><td> 0.0006129453</td></tr>\n",
       "</tbody>\n",
       "</table>\n"
      ],
      "text/latex": [
       "A data.frame: 6 × 1087\n",
       "\\begin{tabular}{r|lllllllllllllllllllll}\n",
       "  & OneK1K\\_short\\_ID & 1 & 2 & 3 & 4 & 6 & 7 & 8 & 9 & 10 & ⋯ & 566\\_2 & 845\\_2 & 846\\_2 & 847\\_2 & 848\\_2 & 914\\_2 & 915\\_2 & 932\\_2 & 926\\_2 & 920\\_2\\\\\n",
       "  & <chr> & <dbl> & <dbl> & <dbl> & <dbl> & <dbl> & <dbl> & <dbl> & <dbl> & <dbl> & ⋯ & <dbl> & <dbl> & <dbl> & <dbl> & <dbl> & <dbl> & <dbl> & <dbl> & <dbl> & <dbl>\\\\\n",
       "\\hline\n",
       "\t1 & 1 &  0.9956240654 & -0.001683034 & -0.0002661081 &  0.001418200 & -0.006331679 & -0.0040118601 & -0.0042191972 &  0.0003706529 &  0.0010878579 & ⋯ & -0.0067786528 & -0.0063865464 & -0.0040660319 & -0.002836337 & -0.0013380554 & -0.0068302853 & -0.0043465365 & -0.003641180 &  5.665929e-03 &  0.0019155646\\\\\n",
       "\t2 & 2 & -0.0016830340 &  0.990941763 &  0.0044398019 & -0.003153934 &  0.001034162 & -0.0058744354 &  0.0007705059 & -0.0008247463 & -0.0060888031 & ⋯ &  0.0008301185 & -0.0056833406 & -0.0081763230 & -0.004223224 & -0.0048066438 & -0.0014566381 & -0.0063909665 &  0.003178318 & -8.430217e-05 & -0.0027412763\\\\\n",
       "\t3 & 3 & -0.0002661081 &  0.004439802 &  0.9953926206 & -0.004176617 &  0.002940403 &  0.0009857011 & -0.0032733537 & -0.0045801718 &  0.0018792396 & ⋯ & -0.0051730075 & -0.0048095244 & -0.0048272689 & -0.001408186 & -0.0009993706 &  0.0031769637 &  0.0001398614 & -0.004222310 &  2.664416e-03 &  0.0033911315\\\\\n",
       "\t4 & 4 &  0.0014181999 & -0.003153934 & -0.0041766171 &  0.987741351 &  0.002893333 &  0.0041631833 &  0.0018823836 & -0.0061948425 & -0.0033671912 & ⋯ & -0.0079546189 & -0.0042896308 &  0.0001738437 & -0.001351207 & -0.0015957147 & -0.0060013668 &  0.0030513180 & -0.002020036 & -4.858702e-03 & -0.0029082324\\\\\n",
       "\t5 & 6 & -0.0063316789 &  0.001034162 &  0.0029404028 &  0.002893333 &  0.995691180 & -0.0032946456 & -0.0055204518 &  0.0063747610 & -0.0027786845 & ⋯ &  0.0048565795 & -0.0007947208 & -0.0009436099 & -0.006319818 & -0.0025102387 & -0.0009128237 & -0.0023892380 & -0.002748890 & -1.776705e-03 & -0.0025428955\\\\\n",
       "\t6 & 7 & -0.0040118601 & -0.005874435 &  0.0009857011 &  0.004163183 & -0.003294646 &  1.0258193016 &  0.0032259240 & -0.0038815429 & -0.0008186206 & ⋯ & -0.0104554258 &  0.0011265093 &  0.0002466098 & -0.001353858 & -0.0079953130 & -0.0034070080 &  0.0023608375 &  0.007651643 & -1.726293e-03 &  0.0006129453\\\\\n",
       "\\end{tabular}\n"
      ],
      "text/markdown": [
       "\n",
       "A data.frame: 6 × 1087\n",
       "\n",
       "| <!--/--> | OneK1K_short_ID &lt;chr&gt; | 1 &lt;dbl&gt; | 2 &lt;dbl&gt; | 3 &lt;dbl&gt; | 4 &lt;dbl&gt; | 6 &lt;dbl&gt; | 7 &lt;dbl&gt; | 8 &lt;dbl&gt; | 9 &lt;dbl&gt; | 10 &lt;dbl&gt; | ⋯ ⋯ | 566_2 &lt;dbl&gt; | 845_2 &lt;dbl&gt; | 846_2 &lt;dbl&gt; | 847_2 &lt;dbl&gt; | 848_2 &lt;dbl&gt; | 914_2 &lt;dbl&gt; | 915_2 &lt;dbl&gt; | 932_2 &lt;dbl&gt; | 926_2 &lt;dbl&gt; | 920_2 &lt;dbl&gt; |\n",
       "|---|---|---|---|---|---|---|---|---|---|---|---|---|---|---|---|---|---|---|---|---|---|\n",
       "| 1 | 1 |  0.9956240654 | -0.001683034 | -0.0002661081 |  0.001418200 | -0.006331679 | -0.0040118601 | -0.0042191972 |  0.0003706529 |  0.0010878579 | ⋯ | -0.0067786528 | -0.0063865464 | -0.0040660319 | -0.002836337 | -0.0013380554 | -0.0068302853 | -0.0043465365 | -0.003641180 |  5.665929e-03 |  0.0019155646 |\n",
       "| 2 | 2 | -0.0016830340 |  0.990941763 |  0.0044398019 | -0.003153934 |  0.001034162 | -0.0058744354 |  0.0007705059 | -0.0008247463 | -0.0060888031 | ⋯ |  0.0008301185 | -0.0056833406 | -0.0081763230 | -0.004223224 | -0.0048066438 | -0.0014566381 | -0.0063909665 |  0.003178318 | -8.430217e-05 | -0.0027412763 |\n",
       "| 3 | 3 | -0.0002661081 |  0.004439802 |  0.9953926206 | -0.004176617 |  0.002940403 |  0.0009857011 | -0.0032733537 | -0.0045801718 |  0.0018792396 | ⋯ | -0.0051730075 | -0.0048095244 | -0.0048272689 | -0.001408186 | -0.0009993706 |  0.0031769637 |  0.0001398614 | -0.004222310 |  2.664416e-03 |  0.0033911315 |\n",
       "| 4 | 4 |  0.0014181999 | -0.003153934 | -0.0041766171 |  0.987741351 |  0.002893333 |  0.0041631833 |  0.0018823836 | -0.0061948425 | -0.0033671912 | ⋯ | -0.0079546189 | -0.0042896308 |  0.0001738437 | -0.001351207 | -0.0015957147 | -0.0060013668 |  0.0030513180 | -0.002020036 | -4.858702e-03 | -0.0029082324 |\n",
       "| 5 | 6 | -0.0063316789 |  0.001034162 |  0.0029404028 |  0.002893333 |  0.995691180 | -0.0032946456 | -0.0055204518 |  0.0063747610 | -0.0027786845 | ⋯ |  0.0048565795 | -0.0007947208 | -0.0009436099 | -0.006319818 | -0.0025102387 | -0.0009128237 | -0.0023892380 | -0.002748890 | -1.776705e-03 | -0.0025428955 |\n",
       "| 6 | 7 | -0.0040118601 | -0.005874435 |  0.0009857011 |  0.004163183 | -0.003294646 |  1.0258193016 |  0.0032259240 | -0.0038815429 | -0.0008186206 | ⋯ | -0.0104554258 |  0.0011265093 |  0.0002466098 | -0.001353858 | -0.0079953130 | -0.0034070080 |  0.0023608375 |  0.007651643 | -1.726293e-03 |  0.0006129453 |\n",
       "\n"
      ],
      "text/plain": [
       "  OneK1K_short_ID 1             2            3             4           \n",
       "1 1                0.9956240654 -0.001683034 -0.0002661081  0.001418200\n",
       "2 2               -0.0016830340  0.990941763  0.0044398019 -0.003153934\n",
       "3 3               -0.0002661081  0.004439802  0.9953926206 -0.004176617\n",
       "4 4                0.0014181999 -0.003153934 -0.0041766171  0.987741351\n",
       "5 6               -0.0063316789  0.001034162  0.0029404028  0.002893333\n",
       "6 7               -0.0040118601 -0.005874435  0.0009857011  0.004163183\n",
       "  6            7             8             9             10            ⋯\n",
       "1 -0.006331679 -0.0040118601 -0.0042191972  0.0003706529  0.0010878579 ⋯\n",
       "2  0.001034162 -0.0058744354  0.0007705059 -0.0008247463 -0.0060888031 ⋯\n",
       "3  0.002940403  0.0009857011 -0.0032733537 -0.0045801718  0.0018792396 ⋯\n",
       "4  0.002893333  0.0041631833  0.0018823836 -0.0061948425 -0.0033671912 ⋯\n",
       "5  0.995691180 -0.0032946456 -0.0055204518  0.0063747610 -0.0027786845 ⋯\n",
       "6 -0.003294646  1.0258193016  0.0032259240 -0.0038815429 -0.0008186206 ⋯\n",
       "  566_2         845_2         846_2         847_2        848_2        \n",
       "1 -0.0067786528 -0.0063865464 -0.0040660319 -0.002836337 -0.0013380554\n",
       "2  0.0008301185 -0.0056833406 -0.0081763230 -0.004223224 -0.0048066438\n",
       "3 -0.0051730075 -0.0048095244 -0.0048272689 -0.001408186 -0.0009993706\n",
       "4 -0.0079546189 -0.0042896308  0.0001738437 -0.001351207 -0.0015957147\n",
       "5  0.0048565795 -0.0007947208 -0.0009436099 -0.006319818 -0.0025102387\n",
       "6 -0.0104554258  0.0011265093  0.0002466098 -0.001353858 -0.0079953130\n",
       "  914_2         915_2         932_2        926_2         920_2        \n",
       "1 -0.0068302853 -0.0043465365 -0.003641180  5.665929e-03  0.0019155646\n",
       "2 -0.0014566381 -0.0063909665  0.003178318 -8.430217e-05 -0.0027412763\n",
       "3  0.0031769637  0.0001398614 -0.004222310  2.664416e-03  0.0033911315\n",
       "4 -0.0060013668  0.0030513180 -0.002020036 -4.858702e-03 -0.0029082324\n",
       "5 -0.0009128237 -0.0023892380 -0.002748890 -1.776705e-03 -0.0025428955\n",
       "6 -0.0034070080  0.0023608375  0.007651643 -1.726293e-03  0.0006129453"
      ]
     },
     "metadata": {},
     "output_type": "display_data"
    }
   ],
   "source": [
    "Kin <- googleCloudStorageR::gcs_get_object(\"v0/skat/grm_wide.csv\")\n",
    "K_df = as.data.frame(Kin)\n",
    "colnames(K_df)[1] = \"OneK1K_short_ID\"\n",
    "head(K_df)"
   ]
  },
  {
   "cell_type": "code",
   "execution_count": 115,
   "id": "1e420e51-420c-49dc-ad6d-e621e7a5abd2",
   "metadata": {},
   "outputs": [
    {
     "name": "stderr",
     "output_type": "stream",
     "text": [
      "Joining, by = \"OneK1K_short_ID\"\n"
     ]
    },
    {
     "data": {
      "text/html": [
       "887"
      ],
      "text/latex": [
       "887"
      ],
      "text/markdown": [
       "887"
      ],
      "text/plain": [
       "[1] 887"
      ]
     },
     "metadata": {},
     "output_type": "display_data"
    },
    {
     "data": {
      "text/html": [
       "<table class=\"dataframe\">\n",
       "<caption>A data.frame: 2 × 1088</caption>\n",
       "<thead>\n",
       "\t<tr><th></th><th scope=col>OneK1K_ID</th><th scope=col>OneK1K_short_ID</th><th scope=col>1</th><th scope=col>2</th><th scope=col>3</th><th scope=col>4</th><th scope=col>6</th><th scope=col>7</th><th scope=col>8</th><th scope=col>9</th><th scope=col>⋯</th><th scope=col>566_2</th><th scope=col>845_2</th><th scope=col>846_2</th><th scope=col>847_2</th><th scope=col>848_2</th><th scope=col>914_2</th><th scope=col>915_2</th><th scope=col>932_2</th><th scope=col>926_2</th><th scope=col>920_2</th></tr>\n",
       "\t<tr><th></th><th scope=col>&lt;chr&gt;</th><th scope=col>&lt;chr&gt;</th><th scope=col>&lt;dbl&gt;</th><th scope=col>&lt;dbl&gt;</th><th scope=col>&lt;dbl&gt;</th><th scope=col>&lt;dbl&gt;</th><th scope=col>&lt;dbl&gt;</th><th scope=col>&lt;dbl&gt;</th><th scope=col>&lt;dbl&gt;</th><th scope=col>&lt;dbl&gt;</th><th scope=col>⋯</th><th scope=col>&lt;dbl&gt;</th><th scope=col>&lt;dbl&gt;</th><th scope=col>&lt;dbl&gt;</th><th scope=col>&lt;dbl&gt;</th><th scope=col>&lt;dbl&gt;</th><th scope=col>&lt;dbl&gt;</th><th scope=col>&lt;dbl&gt;</th><th scope=col>&lt;dbl&gt;</th><th scope=col>&lt;dbl&gt;</th><th scope=col>&lt;dbl&gt;</th></tr>\n",
       "</thead>\n",
       "<tbody>\n",
       "\t<tr><th scope=row>1</th><td>926_927</td><td>927</td><td>-0.002082040</td><td> 0.002814507</td><td>0.0050687967</td><td>-0.005382048</td><td>-7.216117e-05</td><td>-0.00109387</td><td>0.0001466751</td><td>-0.0009447348</td><td>⋯</td><td>-0.00380159</td><td> 0.005101329</td><td>-0.001775994</td><td>-0.001564455</td><td>-0.006169446</td><td> 0.0002517663</td><td>-0.004468408</td><td>-0.003326218</td><td>-0.003138315</td><td> 0.002217151</td></tr>\n",
       "\t<tr><th scope=row>2</th><td>930_931</td><td>931</td><td>-0.006165706</td><td>-0.002125460</td><td>0.0003126949</td><td> 0.001375515</td><td>-5.962496e-03</td><td>-0.00178255</td><td>0.0021431330</td><td> 0.0017042165</td><td>⋯</td><td> 0.00457901</td><td>-0.003375391</td><td>-0.003137690</td><td> 0.002490708</td><td>-0.005270640</td><td>-0.0075630303</td><td> 0.001668710</td><td>-0.001414110</td><td> 0.001879005</td><td>-0.006219999</td></tr>\n",
       "</tbody>\n",
       "</table>\n"
      ],
      "text/latex": [
       "A data.frame: 2 × 1088\n",
       "\\begin{tabular}{r|lllllllllllllllllllll}\n",
       "  & OneK1K\\_ID & OneK1K\\_short\\_ID & 1 & 2 & 3 & 4 & 6 & 7 & 8 & 9 & ⋯ & 566\\_2 & 845\\_2 & 846\\_2 & 847\\_2 & 848\\_2 & 914\\_2 & 915\\_2 & 932\\_2 & 926\\_2 & 920\\_2\\\\\n",
       "  & <chr> & <chr> & <dbl> & <dbl> & <dbl> & <dbl> & <dbl> & <dbl> & <dbl> & <dbl> & ⋯ & <dbl> & <dbl> & <dbl> & <dbl> & <dbl> & <dbl> & <dbl> & <dbl> & <dbl> & <dbl>\\\\\n",
       "\\hline\n",
       "\t1 & 926\\_927 & 927 & -0.002082040 &  0.002814507 & 0.0050687967 & -0.005382048 & -7.216117e-05 & -0.00109387 & 0.0001466751 & -0.0009447348 & ⋯ & -0.00380159 &  0.005101329 & -0.001775994 & -0.001564455 & -0.006169446 &  0.0002517663 & -0.004468408 & -0.003326218 & -0.003138315 &  0.002217151\\\\\n",
       "\t2 & 930\\_931 & 931 & -0.006165706 & -0.002125460 & 0.0003126949 &  0.001375515 & -5.962496e-03 & -0.00178255 & 0.0021431330 &  0.0017042165 & ⋯ &  0.00457901 & -0.003375391 & -0.003137690 &  0.002490708 & -0.005270640 & -0.0075630303 &  0.001668710 & -0.001414110 &  0.001879005 & -0.006219999\\\\\n",
       "\\end{tabular}\n"
      ],
      "text/markdown": [
       "\n",
       "A data.frame: 2 × 1088\n",
       "\n",
       "| <!--/--> | OneK1K_ID &lt;chr&gt; | OneK1K_short_ID &lt;chr&gt; | 1 &lt;dbl&gt; | 2 &lt;dbl&gt; | 3 &lt;dbl&gt; | 4 &lt;dbl&gt; | 6 &lt;dbl&gt; | 7 &lt;dbl&gt; | 8 &lt;dbl&gt; | 9 &lt;dbl&gt; | ⋯ ⋯ | 566_2 &lt;dbl&gt; | 845_2 &lt;dbl&gt; | 846_2 &lt;dbl&gt; | 847_2 &lt;dbl&gt; | 848_2 &lt;dbl&gt; | 914_2 &lt;dbl&gt; | 915_2 &lt;dbl&gt; | 932_2 &lt;dbl&gt; | 926_2 &lt;dbl&gt; | 920_2 &lt;dbl&gt; |\n",
       "|---|---|---|---|---|---|---|---|---|---|---|---|---|---|---|---|---|---|---|---|---|---|\n",
       "| 1 | 926_927 | 927 | -0.002082040 |  0.002814507 | 0.0050687967 | -0.005382048 | -7.216117e-05 | -0.00109387 | 0.0001466751 | -0.0009447348 | ⋯ | -0.00380159 |  0.005101329 | -0.001775994 | -0.001564455 | -0.006169446 |  0.0002517663 | -0.004468408 | -0.003326218 | -0.003138315 |  0.002217151 |\n",
       "| 2 | 930_931 | 931 | -0.006165706 | -0.002125460 | 0.0003126949 |  0.001375515 | -5.962496e-03 | -0.00178255 | 0.0021431330 |  0.0017042165 | ⋯ |  0.00457901 | -0.003375391 | -0.003137690 |  0.002490708 | -0.005270640 | -0.0075630303 |  0.001668710 | -0.001414110 |  0.001879005 | -0.006219999 |\n",
       "\n"
      ],
      "text/plain": [
       "  OneK1K_ID OneK1K_short_ID 1            2            3            4           \n",
       "1 926_927   927             -0.002082040  0.002814507 0.0050687967 -0.005382048\n",
       "2 930_931   931             -0.006165706 -0.002125460 0.0003126949  0.001375515\n",
       "  6             7           8            9             ⋯ 566_2      \n",
       "1 -7.216117e-05 -0.00109387 0.0001466751 -0.0009447348 ⋯ -0.00380159\n",
       "2 -5.962496e-03 -0.00178255 0.0021431330  0.0017042165 ⋯  0.00457901\n",
       "  845_2        846_2        847_2        848_2        914_2        \n",
       "1  0.005101329 -0.001775994 -0.001564455 -0.006169446  0.0002517663\n",
       "2 -0.003375391 -0.003137690  0.002490708 -0.005270640 -0.0075630303\n",
       "  915_2        932_2        926_2        920_2       \n",
       "1 -0.004468408 -0.003326218 -0.003138315  0.002217151\n",
       "2  0.001668710 -0.001414110  0.001879005 -0.006219999"
      ]
     },
     "metadata": {},
     "output_type": "display_data"
    }
   ],
   "source": [
    "df3 = inner_join(df2[,c(\"OneK1K_ID\",\"OneK1K_short_ID\")],K_df)\n",
    "nrow(df3)\n",
    "head(df3,2)"
   ]
  },
  {
   "cell_type": "code",
   "execution_count": 116,
   "id": "4241dea9-09aa-4cbc-bf7d-0d5b34e6091b",
   "metadata": {},
   "outputs": [
    {
     "data": {
      "text/html": [
       "<style>\n",
       ".list-inline {list-style: none; margin:0; padding: 0}\n",
       ".list-inline>li {display: inline-block}\n",
       ".list-inline>li:not(:last-child)::after {content: \"\\00b7\"; padding: 0 .5ex}\n",
       "</style>\n",
       "<ol class=list-inline><li>887</li><li>887</li></ol>\n"
      ],
      "text/latex": [
       "\\begin{enumerate*}\n",
       "\\item 887\n",
       "\\item 887\n",
       "\\end{enumerate*}\n"
      ],
      "text/markdown": [
       "1. 887\n",
       "2. 887\n",
       "\n",
       "\n"
      ],
      "text/plain": [
       "[1] 887 887"
      ]
     },
     "metadata": {},
     "output_type": "display_data"
    },
    {
     "data": {
      "text/html": [
       "<table class=\"dataframe\">\n",
       "<caption>A matrix: 2 × 887 of type dbl</caption>\n",
       "<thead>\n",
       "\t<tr><th scope=col>927</th><th scope=col>931</th><th scope=col>947</th><th scope=col>944</th><th scope=col>948</th><th scope=col>950</th><th scope=col>940</th><th scope=col>951</th><th scope=col>939</th><th scope=col>946</th><th scope=col>⋯</th><th scope=col>270</th><th scope=col>935</th><th scope=col>928</th><th scope=col>934</th><th scope=col>933</th><th scope=col>930</th><th scope=col>936</th><th scope=col>938</th><th scope=col>962</th><th scope=col>963</th></tr>\n",
       "</thead>\n",
       "<tbody>\n",
       "\t<tr><td>1.012457371</td><td>0.002191797</td><td> 0.000112502</td><td> 0.002743287</td><td>-2.796799e-06</td><td>0.0008357663</td><td>0.003867427</td><td>-5.040026e-06</td><td>-0.003370313</td><td>-0.0074171163</td><td>⋯</td><td>-0.002303091</td><td>-0.005486147</td><td>0.0056365444</td><td>0.0006464854</td><td>-0.001782146</td><td>0.002292525</td><td> 0.0005799475</td><td> 0.003305354</td><td>0.0004580415</td><td>-0.0005532986</td></tr>\n",
       "\t<tr><td>0.002191797</td><td>0.996553898</td><td>-0.006745255</td><td>-0.003911689</td><td>-1.869085e-03</td><td>0.0049080253</td><td>0.002504207</td><td>-1.022920e-02</td><td>-0.006448955</td><td> 0.0007719102</td><td>⋯</td><td> 0.005681585</td><td> 0.001589712</td><td>0.0009406523</td><td>0.0019203052</td><td>-0.001533605</td><td>0.001294056</td><td>-0.0045075091</td><td>-0.004127056</td><td>0.0025109106</td><td>-0.0018802271</td></tr>\n",
       "</tbody>\n",
       "</table>\n"
      ],
      "text/latex": [
       "A matrix: 2 × 887 of type dbl\n",
       "\\begin{tabular}{lllllllllllllllllllll}\n",
       " 927 & 931 & 947 & 944 & 948 & 950 & 940 & 951 & 939 & 946 & ⋯ & 270 & 935 & 928 & 934 & 933 & 930 & 936 & 938 & 962 & 963\\\\\n",
       "\\hline\n",
       "\t 1.012457371 & 0.002191797 &  0.000112502 &  0.002743287 & -2.796799e-06 & 0.0008357663 & 0.003867427 & -5.040026e-06 & -0.003370313 & -0.0074171163 & ⋯ & -0.002303091 & -0.005486147 & 0.0056365444 & 0.0006464854 & -0.001782146 & 0.002292525 &  0.0005799475 &  0.003305354 & 0.0004580415 & -0.0005532986\\\\\n",
       "\t 0.002191797 & 0.996553898 & -0.006745255 & -0.003911689 & -1.869085e-03 & 0.0049080253 & 0.002504207 & -1.022920e-02 & -0.006448955 &  0.0007719102 & ⋯ &  0.005681585 &  0.001589712 & 0.0009406523 & 0.0019203052 & -0.001533605 & 0.001294056 & -0.0045075091 & -0.004127056 & 0.0025109106 & -0.0018802271\\\\\n",
       "\\end{tabular}\n"
      ],
      "text/markdown": [
       "\n",
       "A matrix: 2 × 887 of type dbl\n",
       "\n",
       "| 927 | 931 | 947 | 944 | 948 | 950 | 940 | 951 | 939 | 946 | ⋯ | 270 | 935 | 928 | 934 | 933 | 930 | 936 | 938 | 962 | 963 |\n",
       "|---|---|---|---|---|---|---|---|---|---|---|---|---|---|---|---|---|---|---|---|---|\n",
       "| 1.012457371 | 0.002191797 |  0.000112502 |  0.002743287 | -2.796799e-06 | 0.0008357663 | 0.003867427 | -5.040026e-06 | -0.003370313 | -0.0074171163 | ⋯ | -0.002303091 | -0.005486147 | 0.0056365444 | 0.0006464854 | -0.001782146 | 0.002292525 |  0.0005799475 |  0.003305354 | 0.0004580415 | -0.0005532986 |\n",
       "| 0.002191797 | 0.996553898 | -0.006745255 | -0.003911689 | -1.869085e-03 | 0.0049080253 | 0.002504207 | -1.022920e-02 | -0.006448955 |  0.0007719102 | ⋯ |  0.005681585 |  0.001589712 | 0.0009406523 | 0.0019203052 | -0.001533605 | 0.001294056 | -0.0045075091 | -0.004127056 | 0.0025109106 | -0.0018802271 |\n",
       "\n"
      ],
      "text/plain": [
       "     927         931         947          944          948          \n",
       "[1,] 1.012457371 0.002191797  0.000112502  0.002743287 -2.796799e-06\n",
       "[2,] 0.002191797 0.996553898 -0.006745255 -0.003911689 -1.869085e-03\n",
       "     950          940         951           939          946           ⋯\n",
       "[1,] 0.0008357663 0.003867427 -5.040026e-06 -0.003370313 -0.0074171163 ⋯\n",
       "[2,] 0.0049080253 0.002504207 -1.022920e-02 -0.006448955  0.0007719102 ⋯\n",
       "     270          935          928          934          933         \n",
       "[1,] -0.002303091 -0.005486147 0.0056365444 0.0006464854 -0.001782146\n",
       "[2,]  0.005681585  0.001589712 0.0009406523 0.0019203052 -0.001533605\n",
       "     930         936           938          962          963          \n",
       "[1,] 0.002292525  0.0005799475  0.003305354 0.0004580415 -0.0005532986\n",
       "[2,] 0.001294056 -0.0045075091 -0.004127056 0.0025109106 -0.0018802271"
      ]
     },
     "metadata": {},
     "output_type": "display_data"
    }
   ],
   "source": [
    "K = as.matrix(df3[,3:ncol(df3)])\n",
    "K = K[,df3$OneK1K_short_ID]\n",
    "dim(K)\n",
    "head(K,2)"
   ]
  },
  {
   "cell_type": "code",
   "execution_count": null,
   "id": "b7a960e5-498b-4365-9470-1ea55889c139",
   "metadata": {},
   "outputs": [],
   "source": []
  },
  {
   "cell_type": "code",
   "execution_count": 117,
   "id": "9f52c9cc-6692-4b34-ae54-a4dba203d984",
   "metadata": {},
   "outputs": [],
   "source": [
    "# run null model (with Kinship matrix)\n",
    "obj_K <- SKAT_NULL_emmaX(y.c ~ X, K = K)"
   ]
  },
  {
   "cell_type": "code",
   "execution_count": 118,
   "id": "93b71d03-da13-4ee1-9574-0bbff04bae9f",
   "metadata": {},
   "outputs": [
    {
     "name": "stderr",
     "output_type": "stream",
     "text": [
      "Warning message:\n",
      "“21 SNPs with either high missing rates or no-variation are excluded!”\n",
      "Warning message:\n",
      "“21 SNPs with either high missing rates or no-variation are excluded!”\n",
      "Warning message:\n",
      "“21 SNPs with either high missing rates or no-variation are excluded!”\n"
     ]
    }
   ],
   "source": [
    "# get all three p-values\n",
    "pv_skat <- SKAT(Z, obj_K)$p.value  # SKAT\n",
    "pv_burden <- SKAT(Z, obj_K, r.corr = 1)$p.value  # burden\n",
    "pv_skat_o <- SKAT(Z, obj_K, method=\"SKATO\")$p.value  # SKAT-O"
   ]
  },
  {
   "cell_type": "code",
   "execution_count": 119,
   "id": "1a59a0c7-949e-4171-b6cc-7b77eab207a2",
   "metadata": {},
   "outputs": [
    {
     "name": "stdout",
     "output_type": "stream",
     "text": [
      "[1] \"with Kinship p-values, SKAT: 0.57099982523937, burden: 0.486295753966785, SKAT-O: 0.691699301521788\"\n"
     ]
    }
   ],
   "source": [
    "print(paste0(\"with Kinship p-values, SKAT: \", pv_skat, \", burden: \", pv_burden, \", SKAT-O: \", pv_skat_o))"
   ]
  },
  {
   "cell_type": "code",
   "execution_count": null,
   "id": "db65e1c0-1831-453a-ba7f-916a99b7d979",
   "metadata": {},
   "outputs": [],
   "source": []
  },
  {
   "cell_type": "code",
   "execution_count": 125,
   "id": "ee076626-6aa2-4fa7-9e40-24287cd63f7c",
   "metadata": {},
   "outputs": [],
   "source": [
    "library(LRTq)"
   ]
  },
  {
   "cell_type": "code",
   "execution_count": 126,
   "id": "7d4d1084-1ff3-4d0a-bef1-07eee41bedfe",
   "metadata": {},
   "outputs": [],
   "source": [
    "E = y.c\n",
    "G = Z"
   ]
  },
  {
   "cell_type": "code",
   "execution_count": 127,
   "id": "b5be8ab5-3b90-48cd-810f-cbd11030b126",
   "metadata": {},
   "outputs": [
    {
     "data": {
      "text/html": [
       "0.11988011988012"
      ],
      "text/latex": [
       "0.11988011988012"
      ],
      "text/markdown": [
       "0.11988011988012"
      ],
      "text/plain": [
       "[1] 0.1198801"
      ]
     },
     "metadata": {},
     "output_type": "display_data"
    }
   ],
   "source": [
    "LRTq(expr = E, geno = G, causal_ratio = rep(0.30, ncol(G)), perm = 1000)"
   ]
  },
  {
   "cell_type": "code",
   "execution_count": null,
   "id": "50e420ca-d866-41f4-bf35-a0aa97e486dc",
   "metadata": {},
   "outputs": [],
   "source": []
  }
 ],
 "metadata": {
  "environment": {
   "kernel": "ir",
   "name": "r-cpu.4-1.m87",
   "type": "gcloud",
   "uri": "gcr.io/deeplearning-platform-release/r-cpu.4-1:m87"
  },
  "kernelspec": {
   "display_name": "R",
   "language": "R",
   "name": "ir"
  },
  "language_info": {
   "codemirror_mode": "r",
   "file_extension": ".r",
   "mimetype": "text/x-r-source",
   "name": "R",
   "pygments_lexer": "r",
   "version": "4.1.2"
  }
 },
 "nbformat": 4,
 "nbformat_minor": 5
}
