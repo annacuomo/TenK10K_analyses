{
 "cells": [
  {
   "cell_type": "code",
   "execution_count": 8,
   "id": "dedcc34e-141f-459b-aa57-014decd3a5b4",
   "metadata": {},
   "outputs": [],
   "source": [
    "import hail as hl\n",
    "import numpy as np\n",
    "from hail.methods import export_plink\n",
    "from cpg_utils import to_path\n",
    "from pandas_plink import read_plink1_bin"
   ]
  },
  {
   "cell_type": "code",
   "execution_count": 9,
   "id": "af7e45b1-7a71-4624-9685-83db3c98beb5",
   "metadata": {},
   "outputs": [
    {
     "ename": "SyntaxError",
     "evalue": "invalid syntax (hail_batch.py, line 150)",
     "output_type": "error",
     "traceback": [
      "Traceback \u001b[0;36m(most recent call last)\u001b[0m:\n",
      "  File \u001b[1;32m\"/opt/conda/lib/python3.7/site-packages/IPython/core/interactiveshell.py\"\u001b[0m, line \u001b[1;32m3457\u001b[0m, in \u001b[1;35mrun_code\u001b[0m\n    exec(code_obj, self.user_global_ns, self.user_ns)\n",
      "\u001b[0;36m  File \u001b[0;32m\"/tmp/ipykernel_22894/2410343387.py\"\u001b[0;36m, line \u001b[0;32m1\u001b[0;36m, in \u001b[0;35m<module>\u001b[0;36m\u001b[0m\n\u001b[0;31m    from cpg_utils.hail_batch import dataset_path, init_batch\u001b[0m\n",
      "\u001b[0;36m  File \u001b[0;32m\"/opt/conda/lib/python3.7/site-packages/cpg_utils/hail_batch.py\"\u001b[0;36m, line \u001b[0;32m150\u001b[0m\n\u001b[0;31m    if not (local_dir := get_config()['workflow'].get('local_dir')):\u001b[0m\n\u001b[0m                      ^\u001b[0m\n\u001b[0;31mSyntaxError\u001b[0m\u001b[0;31m:\u001b[0m invalid syntax\n"
     ]
    }
   ],
   "source": [
    "from cpg_utils.hail_batch import dataset_path, init_batch"
   ]
  },
  {
   "cell_type": "code",
   "execution_count": 6,
   "id": "7db4265e-0cc9-4922-96fa-4e6048ceb16f",
   "metadata": {},
   "outputs": [
    {
     "ename": "NameError",
     "evalue": "name 'dataset_path' is not defined",
     "output_type": "error",
     "traceback": [
      "\u001b[0;31m---------------------------------------------------------------------------\u001b[0m",
      "\u001b[0;31mNameError\u001b[0m                                 Traceback (most recent call last)",
      "\u001b[0;32m/tmp/ipykernel_22894/1400668397.py\u001b[0m in \u001b[0;36m<module>\u001b[0;34m\u001b[0m\n\u001b[0;32m----> 1\u001b[0;31m \u001b[0mMT\u001b[0m \u001b[0;34m=\u001b[0m \u001b[0mdataset_path\u001b[0m\u001b[0;34m(\u001b[0m\u001b[0;34m'v0/VPREB3_50K_window.mt'\u001b[0m\u001b[0;34m)\u001b[0m\u001b[0;34m\u001b[0m\u001b[0;34m\u001b[0m\u001b[0m\n\u001b[0m",
      "\u001b[0;31mNameError\u001b[0m: name 'dataset_path' is not defined"
     ]
    }
   ],
   "source": [
    "MT = dataset_path('v0/VPREB3_50K_window.mt')"
   ]
  },
  {
   "cell_type": "code",
   "execution_count": 7,
   "id": "efb9297a-b18f-4835-8223-1e037b5cb65b",
   "metadata": {},
   "outputs": [
    {
     "ename": "NameError",
     "evalue": "name 'init_batch' is not defined",
     "output_type": "error",
     "traceback": [
      "\u001b[0;31m---------------------------------------------------------------------------\u001b[0m",
      "\u001b[0;31mNameError\u001b[0m                                 Traceback (most recent call last)",
      "\u001b[0;32m/tmp/ipykernel_22894/1704898696.py\u001b[0m in \u001b[0;36m<module>\u001b[0;34m\u001b[0m\n\u001b[0;32m----> 1\u001b[0;31m \u001b[0minit_batch\u001b[0m\u001b[0;34m(\u001b[0m\u001b[0;34m)\u001b[0m\u001b[0;34m\u001b[0m\u001b[0;34m\u001b[0m\u001b[0m\n\u001b[0m\u001b[1;32m      2\u001b[0m \u001b[0;31m# read hail matrix table object (WGS data)\u001b[0m\u001b[0;34m\u001b[0m\u001b[0;34m\u001b[0m\u001b[0;34m\u001b[0m\u001b[0m\n\u001b[1;32m      3\u001b[0m \u001b[0mmt\u001b[0m \u001b[0;34m=\u001b[0m \u001b[0mhl\u001b[0m\u001b[0;34m.\u001b[0m\u001b[0mread_matrix_table\u001b[0m\u001b[0;34m(\u001b[0m\u001b[0mMT\u001b[0m\u001b[0;34m)\u001b[0m\u001b[0;34m\u001b[0m\u001b[0;34m\u001b[0m\u001b[0m\n",
      "\u001b[0;31mNameError\u001b[0m: name 'init_batch' is not defined"
     ]
    }
   ],
   "source": [
    "init_batch()\n",
    "# read hail matrix table object (WGS data)\n",
    "mt = hl.read_matrix_table(MT)"
   ]
  },
  {
   "cell_type": "code",
   "execution_count": null,
   "id": "17aa024e-2461-43e6-85a0-493df3969fbd",
   "metadata": {},
   "outputs": [],
   "source": [
    "# densify\n",
    "mt = hl.experimental.densify(mt)"
   ]
  },
  {
   "cell_type": "code",
   "execution_count": null,
   "id": "9cf75670-6a0f-45ea-9904-2183e9299728",
   "metadata": {},
   "outputs": [],
   "source": [
    "# filter out low quality variants and consider biallelic variants only (no multi-allelic, no ref-only)\n",
    "mt = mt.filter_rows(\n",
    "        (hl.len(hl.or_else(mt.filters, hl.empty_set(hl.tstr))) == 0)\n",
    "        & (hl.len(mt.alleles) == 2)\n",
    "        & (hl.is_snp(mt.alleles[0], mt.alleles[1]))\n",
    "    )"
   ]
  },
  {
   "cell_type": "code",
   "execution_count": null,
   "id": "29c793d9-3391-4460-ace7-11b7d97165e0",
   "metadata": {},
   "outputs": [],
   "source": [
    "# filter rare variants only (freq < 5%)\n",
    "mt = hl.variant_qc(mt)\n",
    "mt = mt.filter_rows((mt.variant_qc.AF[1] < 0.05) & (mt.variant_qc.AF[1] > 0))"
   ]
  },
  {
   "cell_type": "code",
   "execution_count": null,
   "id": "97709524-1f4d-47d8-867b-23733599809d",
   "metadata": {},
   "outputs": [],
   "source": [
    "# select further (only 10 variants to test)\n",
    "mt = mt.head(10)\n",
    "# export MT object to PLINK (all regulatory variants)\n",
    "mt_path = output_path('SKAT/v0/test')\n",
    "export_plink(mt, mt_path, ind_id=mt.s)\n",
    "\n",
    "# read in genotype file (plink format)\n",
    "genotype_file_bed = \"gs://cpg-tob-wgs-test/SKAT/v0/test.bed\"\n",
    "genotype_file_bim = \"gs://cpg-tob-wgs-test/SKAT/v0/test.bim\"\n",
    "genotype_file_fam = \"gs://cpg-tob-wgs-test/SKAT/v0/test.fam\"\n",
    "# bed\n",
    "with to_path(genotype_file_bed).open('rb') as handle:\n",
    "    data = handle.readlines()\n",
    "with open('temp.bed', 'wb') as handle:\n",
    "    handle.writelines(data)\n",
    "# bim\n",
    "with to_path(genotype_file_bim).open('rb') as handle:\n",
    "    data = handle.readlines()\n",
    "with open('temp.bim', 'wb') as handle:\n",
    "    handle.writelines(data)\n",
    "# fam\n",
    "with to_path(genotype_file_fam).open('rb') as handle:\n",
    "    data = handle.readlines()\n",
    "with open('temp.fam', 'wb') as handle:\n",
    "    handle.writelines(data)\n",
    "# read\n",
    "G = read_plink1_bin('temp.bed')\n",
    "\n",
    "np.nanmin(G.values)\n",
    "np.nanmean(G.values)\n",
    "np.nanmax(G.values)"
   ]
  }
 ],
 "metadata": {
  "environment": {
   "kernel": "python3",
   "name": "r-cpu.4-1.m87",
   "type": "gcloud",
   "uri": "gcr.io/deeplearning-platform-release/r-cpu.4-1:m87"
  },
  "kernelspec": {
   "display_name": "Python 3",
   "language": "python",
   "name": "python3"
  },
  "language_info": {
   "codemirror_mode": {
    "name": "ipython",
    "version": 3
   },
   "file_extension": ".py",
   "mimetype": "text/x-python",
   "name": "python",
   "nbconvert_exporter": "python",
   "pygments_lexer": "ipython3",
   "version": "3.7.12"
  }
 },
 "nbformat": 4,
 "nbformat_minor": 5
}
