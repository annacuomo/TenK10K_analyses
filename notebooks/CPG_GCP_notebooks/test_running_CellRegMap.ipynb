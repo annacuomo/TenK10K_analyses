{
 "cells": [
  {
   "cell_type": "code",
   "execution_count": 2,
   "id": "b8f17fe7-c1d7-4de9-9e08-794f6dc9b0a6",
   "metadata": {},
   "outputs": [],
   "source": [
    "# pip install cellregmap"
   ]
  },
  {
   "cell_type": "code",
   "execution_count": 3,
   "id": "8c2feff0-4e29-4b1f-b7cb-f0498fddc932",
   "metadata": {},
   "outputs": [],
   "source": [
    "import cellregmap as CellRegMap"
   ]
  },
  {
   "cell_type": "code",
   "execution_count": 4,
   "id": "b93d78e8-2e16-4eb7-bd55-0d85b12868cf",
   "metadata": {},
   "outputs": [],
   "source": [
    "import pandas as pd"
   ]
  },
  {
   "cell_type": "code",
   "execution_count": 5,
   "id": "04ac2dc5-2600-4b39-a2d2-0be53e90513f",
   "metadata": {},
   "outputs": [],
   "source": [
    "import numpy as np"
   ]
  },
  {
   "cell_type": "code",
   "execution_count": 5,
   "id": "54991e7f-e71c-42b7-9396-ffb191a10e2a",
   "metadata": {},
   "outputs": [],
   "source": [
    "import matplotlib as plt"
   ]
  },
  {
   "cell_type": "code",
   "execution_count": 6,
   "id": "69775b4d-e767-4ad2-8d36-e3ad6be563da",
   "metadata": {},
   "outputs": [],
   "source": [
    "import hail as hl"
   ]
  },
  {
   "cell_type": "code",
   "execution_count": 7,
   "id": "1ef4dbe1-f61d-41a2-8e22-f6b0090626fb",
   "metadata": {},
   "outputs": [
    {
     "name": "stderr",
     "output_type": "stream",
     "text": [
      "Initializing Hail with default parameters...\n"
     ]
    },
    {
     "name": "stdout",
     "output_type": "stream",
     "text": [
      "2022-03-14 23:58:48 WARN  NativeCodeLoader:60 - Unable to load native-hadoop library for your platform... using builtin-java classes where applicable\n"
     ]
    },
    {
     "name": "stderr",
     "output_type": "stream",
     "text": [
      "Setting default log level to \"WARN\".\n",
      "To adjust logging level use sc.setLogLevel(newLevel). For SparkR, use setLogLevel(newLevel).\n"
     ]
    },
    {
     "name": "stdout",
     "output_type": "stream",
     "text": [
      "2022-03-14 23:58:50 WARN  Hail:43 - This Hail JAR was compiled for Spark 3.1.1, running with Spark 3.1.2.\n",
      "  Compatibility is not guaranteed.\n"
     ]
    },
    {
     "name": "stderr",
     "output_type": "stream",
     "text": [
      "Running on Apache Spark version 3.1.2\n",
      "SparkUI available at http://annas-notebook.australia-southeast1-a.c.notebooks-314505.internal:4040\n",
      "Welcome to\n",
      "     __  __     <>__\n",
      "    / /_/ /__  __/ /\n",
      "   / __  / _ `/ / /\n",
      "  /_/ /_/\\_,_/_/_/   version 0.2.73-c6f6f09cec08\n",
      "LOGGING: writing to /home/jupyter/hail-20220314-2358-0.2.73-c6f6f09cec08.log\n"
     ]
    }
   ],
   "source": [
    "mt = hl.read_matrix_table('gs://cpg-tob-wgs-test/tob_wgs_vep/v0/vep105_GRCh38.mt')"
   ]
  },
  {
   "cell_type": "code",
   "execution_count": 30,
   "id": "fa9de225-70e6-409e-89e0-ffc80b67142c",
   "metadata": {},
   "outputs": [
    {
     "name": "stderr",
     "output_type": "stream",
     "text": [
      "[Stage 6:====>                                               (1222 + 2) / 14874]\r"
     ]
    }
   ],
   "source": [
    "# mt.describe()"
   ]
  },
  {
   "cell_type": "code",
   "execution_count": 9,
   "id": "d58af7cc-722c-42a9-84e1-5eff491c4770",
   "metadata": {},
   "outputs": [],
   "source": [
    "# going through this tutorial: https://hail.is/docs/0.2/tutorials/01-genome-wide-association-study.html\n",
    "# mt is a \"MatrixTable\" object type, specific to hail (I think?)"
   ]
  },
  {
   "cell_type": "code",
   "execution_count": 27,
   "id": "33927888-6dd1-4ba9-ae6b-1626f35fdd0a",
   "metadata": {},
   "outputs": [
    {
     "data": {
      "text/plain": [
       "(77899783, 1061)"
      ]
     },
     "execution_count": 27,
     "metadata": {},
     "output_type": "execute_result"
    },
    {
     "name": "stderr",
     "output_type": "stream",
     "text": [
      "[Stage 6:==>                                                  (674 + 2) / 14874]\r"
     ]
    }
   ],
   "source": [
    "# dimension (equivalent to .shape)\n",
    "# 77,899,783 variants\n",
    "# 1,061 individuals\n",
    "mt.count() # (rows, cols)"
   ]
  },
  {
   "cell_type": "code",
   "execution_count": 9,
   "id": "38aa6dfa-4c9d-4104-adc2-9fdc3f12a2e3",
   "metadata": {},
   "outputs": [
    {
     "name": "stderr",
     "output_type": "stream",
     "text": [
      "[Stage 0:>                                                          (0 + 1) / 1]\r"
     ]
    },
    {
     "data": {
      "text/html": [
       "<table><thead><tr><td style=\"white-space: nowrap; max-width: 500px; overflow: hidden; text-overflow: ellipsis; \" colspan=\"1\"><div style=\"text-align: left;\"></div></td><td style=\"white-space: nowrap; max-width: 500px; overflow: hidden; text-overflow: ellipsis; \" colspan=\"1\"><div style=\"text-align: left;\"></div></td></tr><tr><td style=\"white-space: nowrap; max-width: 500px; overflow: hidden; text-overflow: ellipsis; \" colspan=\"1\"><div style=\"text-align: left;border-bottom: solid 2px #000; padding-bottom: 5px\">locus</div></td><td style=\"white-space: nowrap; max-width: 500px; overflow: hidden; text-overflow: ellipsis; \" colspan=\"1\"><div style=\"text-align: left;border-bottom: solid 2px #000; padding-bottom: 5px\">alleles</div></td></tr><tr><td style=\"white-space: nowrap; max-width: 500px; overflow: hidden; text-overflow: ellipsis; text-align: left;\">locus&lt;GRCh38&gt;</td><td style=\"white-space: nowrap; max-width: 500px; overflow: hidden; text-overflow: ellipsis; text-align: left;\">array&lt;str&gt;</td></tr>\n",
       "</thead><tbody><tr><td style=\"white-space: nowrap; max-width: 500px; overflow: hidden; text-overflow: ellipsis; \">chr1:10011</td><td style=\"white-space: nowrap; max-width: 500px; overflow: hidden; text-overflow: ellipsis; \">[&quot;C&quot;,&quot;T&quot;]</td></tr>\n",
       "<tr><td style=\"white-space: nowrap; max-width: 500px; overflow: hidden; text-overflow: ellipsis; \">chr1:10020</td><td style=\"white-space: nowrap; max-width: 500px; overflow: hidden; text-overflow: ellipsis; \">[&quot;A&quot;,&quot;C&quot;]</td></tr>\n",
       "<tr><td style=\"white-space: nowrap; max-width: 500px; overflow: hidden; text-overflow: ellipsis; \">chr1:10027</td><td style=\"white-space: nowrap; max-width: 500px; overflow: hidden; text-overflow: ellipsis; \">[&quot;A&quot;,&quot;G&quot;]</td></tr>\n",
       "<tr><td style=\"white-space: nowrap; max-width: 500px; overflow: hidden; text-overflow: ellipsis; \">chr1:10109</td><td style=\"white-space: nowrap; max-width: 500px; overflow: hidden; text-overflow: ellipsis; \">[&quot;AACCCT&quot;,&quot;A&quot;]</td></tr>\n",
       "<tr><td style=\"white-space: nowrap; max-width: 500px; overflow: hidden; text-overflow: ellipsis; \">chr1:10114</td><td style=\"white-space: nowrap; max-width: 500px; overflow: hidden; text-overflow: ellipsis; \">[&quot;T&quot;,&quot;C&quot;]</td></tr>\n",
       "</tbody></table><p style=\"background: #fdd; padding: 0.4em;\">showing top 5 rows</p>\n"
      ],
      "text/plain": [
       "+---------------+----------------+\n",
       "| locus         | alleles        |\n",
       "+---------------+----------------+\n",
       "| locus<GRCh38> | array<str>     |\n",
       "+---------------+----------------+\n",
       "| chr1:10011    | [\"C\",\"T\"]      |\n",
       "| chr1:10020    | [\"A\",\"C\"]      |\n",
       "| chr1:10027    | [\"A\",\"G\"]      |\n",
       "| chr1:10109    | [\"AACCCT\",\"A\"] |\n",
       "| chr1:10114    | [\"T\",\"C\"]      |\n",
       "+---------------+----------------+\n",
       "showing top 5 rows"
      ]
     },
     "metadata": {},
     "output_type": "display_data"
    }
   ],
   "source": [
    "# rows are genomic variants,\n",
    "# if nothing is specified only the \"row key fields\" are displayed, i.e., \"locus\" and \"alleles\"\n",
    "mt.rows().select().show(5)"
   ]
  },
  {
   "cell_type": "code",
   "execution_count": null,
   "id": "8c2cd68a-bc82-4ca5-9d6b-310120cabd78",
   "metadata": {},
   "outputs": [],
   "source": [
    "# mt.rows().describe()"
   ]
  },
  {
   "cell_type": "code",
   "execution_count": 18,
   "id": "d0abe211-c3ee-468d-8d03-ba9af7effdb3",
   "metadata": {},
   "outputs": [
    {
     "data": {
      "text/html": [
       "<table><thead><tr><td style=\"white-space: nowrap; max-width: 500px; overflow: hidden; text-overflow: ellipsis; \" colspan=\"1\"><div style=\"text-align: left;\"></div></td></tr><tr><td style=\"white-space: nowrap; max-width: 500px; overflow: hidden; text-overflow: ellipsis; \" colspan=\"1\"><div style=\"text-align: left;border-bottom: solid 2px #000; padding-bottom: 5px\">s</div></td></tr><tr><td style=\"white-space: nowrap; max-width: 500px; overflow: hidden; text-overflow: ellipsis; text-align: left;\">str</td></tr>\n",
       "</thead><tbody><tr><td style=\"white-space: nowrap; max-width: 500px; overflow: hidden; text-overflow: ellipsis; \">&quot;CPG18&quot;</td></tr>\n",
       "<tr><td style=\"white-space: nowrap; max-width: 500px; overflow: hidden; text-overflow: ellipsis; \">&quot;CPG26&quot;</td></tr>\n",
       "<tr><td style=\"white-space: nowrap; max-width: 500px; overflow: hidden; text-overflow: ellipsis; \">&quot;CPG34&quot;</td></tr>\n",
       "<tr><td style=\"white-space: nowrap; max-width: 500px; overflow: hidden; text-overflow: ellipsis; \">&quot;CPG42&quot;</td></tr>\n",
       "<tr><td style=\"white-space: nowrap; max-width: 500px; overflow: hidden; text-overflow: ellipsis; \">&quot;CPG59&quot;</td></tr>\n",
       "</tbody></table><p style=\"background: #fdd; padding: 0.4em;\">showing top 5 rows</p>\n"
      ],
      "text/plain": [
       "+---------+\n",
       "| s       |\n",
       "+---------+\n",
       "| str     |\n",
       "+---------+\n",
       "| \"CPG18\" |\n",
       "| \"CPG26\" |\n",
       "| \"CPG34\" |\n",
       "| \"CPG42\" |\n",
       "| \"CPG59\" |\n",
       "+---------+\n",
       "showing top 5 rows"
      ]
     },
     "metadata": {},
     "output_type": "display_data"
    }
   ],
   "source": [
    "# columns are samples (individuals) - \"CPGXX\" are sample names\n",
    "# mt.col.describe()\n",
    "mt.s.show(5)"
   ]
  },
  {
   "cell_type": "code",
   "execution_count": 40,
   "id": "0f4136c2-a485-4572-a51d-24edaec6c4c3",
   "metadata": {},
   "outputs": [
    {
     "name": "stderr",
     "output_type": "stream",
     "text": [
      "[Stage 6:(11979 + 2) / 14874][Stage 7:>    (0 + 0) / 1][Stage 8:>    (0 + 0) / 1]\r"
     ]
    }
   ],
   "source": [
    "tob_wgs = hl.experimental.densify(mt)"
   ]
  },
  {
   "cell_type": "code",
   "execution_count": 42,
   "id": "fb031730-7ce5-4648-a8fe-3277d3f9ab15",
   "metadata": {},
   "outputs": [
    {
     "name": "stderr",
     "output_type": "stream",
     "text": [
      "[Stage 6:(11996 + 2) / 14874][Stage 7:>    (0 + 0) / 1][Stage 8:>    (0 + 0) / 1]\r"
     ]
    }
   ],
   "source": [
    "tob_wgs = hl.variant_qc(tob_wgs)"
   ]
  },
  {
   "cell_type": "code",
   "execution_count": 43,
   "id": "f53d6daf-cd02-4c68-b92f-695f4a10e737",
   "metadata": {},
   "outputs": [
    {
     "name": "stderr",
     "output_type": "stream",
     "text": [
      "[Stage 6:(12024 + 2) / 14874][Stage 7:>    (0 + 0) / 1][Stage 8:>    (0 + 0) / 1]\r"
     ]
    }
   ],
   "source": [
    "tob_wgs = tob_wgs.filter_rows(tob_wgs.variant_qc.AF[0] < 1)"
   ]
  },
  {
   "cell_type": "code",
   "execution_count": null,
   "id": "01401424-113f-40ad-847f-1de52214f65d",
   "metadata": {},
   "outputs": [],
   "source": [
    "tob_wgs.count()"
   ]
  },
  {
   "cell_type": "code",
   "execution_count": null,
   "id": "4f0d5177-7ffe-4a16-99f5-77d75b1fa65f",
   "metadata": {},
   "outputs": [
    {
     "name": "stderr",
     "output_type": "stream",
     "text": [
      "[Stage 12:=>                                                  (367 + 2) / 14874]]\r"
     ]
    }
   ],
   "source": [
    "snp_maf_05 = tob_wgs.aggregate_rows(hl.agg.count_where(tob_wgs.variant_qc.AF[1] > 0.05))"
   ]
  },
  {
   "cell_type": "code",
   "execution_count": null,
   "id": "ddbe2062-5b09-4247-8eaa-e1edc718099c",
   "metadata": {},
   "outputs": [],
   "source": [
    "print(f'Variant MAF > 0.05 = {snp_maf_05}')"
   ]
  },
  {
   "cell_type": "code",
   "execution_count": null,
   "id": "63cf8a03-2325-44ae-aa08-b94ecb947be0",
   "metadata": {},
   "outputs": [],
   "source": [
    "snp_maf_01 = tob_wgs.aggregate_rows(hl.agg.count_where(tob_wgs.variant_qc.AF[1] > 0.01))"
   ]
  },
  {
   "cell_type": "code",
   "execution_count": null,
   "id": "9520fa68-9674-4b86-9381-1e5bbae28f8d",
   "metadata": {},
   "outputs": [],
   "source": [
    "print(f'Variant MAF > 0.01 = {snp_maf_01}')"
   ]
  },
  {
   "cell_type": "code",
   "execution_count": null,
   "id": "be846088-2bd8-4128-87ca-18497662810a",
   "metadata": {},
   "outputs": [],
   "source": []
  },
  {
   "cell_type": "code",
   "execution_count": null,
   "id": "5529b7d7-3350-4d0d-b668-d072343bd8e3",
   "metadata": {},
   "outputs": [],
   "source": []
  },
  {
   "cell_type": "code",
   "execution_count": null,
   "id": "6fa9a48e-e47b-4d6e-90eb-df9809ca2bed",
   "metadata": {},
   "outputs": [],
   "source": []
  },
  {
   "cell_type": "code",
   "execution_count": null,
   "id": "62ccd65f-f9c2-426e-889c-af730d3e0b98",
   "metadata": {},
   "outputs": [],
   "source": [
    "hl.init(default_reference='GRCh38')\n",
    "\n",
    "    tob_wgs = hl.read_matrix_table(TOB_WGS)\n",
    "    tob_wgs = hl.experimental.densify(tob_wgs)\n",
    "    tob_wgs = hl.variant_qc(tob_wgs)\n",
    "    # get MAF > 0.05\n",
    "    tob_wgs = tob_wgs.filter_rows(tob_wgs.variant_qc.AF[0] < 1)\n",
    "    snp_maf_05 = tob_wgs.aggregate_rows(\n",
    "        hl.agg.count_where(tob_wgs.variant_qc.AF[1] > 0.05)\n",
    "    )\n",
    "    print(f'Variant MAF > 0.05 = {snp_maf_05}')"
   ]
  }
 ],
 "metadata": {
  "environment": {
   "kernel": "python3",
   "name": "r-cpu.4-1.m87",
   "type": "gcloud",
   "uri": "gcr.io/deeplearning-platform-release/r-cpu.4-1:m87"
  },
  "kernelspec": {
   "display_name": "Python 3",
   "language": "python",
   "name": "python3"
  },
  "language_info": {
   "codemirror_mode": {
    "name": "ipython",
    "version": 3
   },
   "file_extension": ".py",
   "mimetype": "text/x-python",
   "name": "python",
   "nbconvert_exporter": "python",
   "pygments_lexer": "ipython3",
   "version": "3.7.12"
  }
 },
 "nbformat": 4,
 "nbformat_minor": 5
}
