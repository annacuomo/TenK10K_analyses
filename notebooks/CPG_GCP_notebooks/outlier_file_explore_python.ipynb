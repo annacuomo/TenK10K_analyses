{
 "cells": [
  {
   "cell_type": "code",
   "execution_count": 1,
   "id": "bd9eb93b-abdc-4494-853f-90a6a4805534",
   "metadata": {},
   "outputs": [],
   "source": [
    "import pandas as pd\n",
    "import matplotlib.pyplot as plt"
   ]
  },
  {
   "cell_type": "code",
   "execution_count": 2,
   "id": "80b92da3-8c54-49ad-830f-512720e4c1e2",
   "metadata": {},
   "outputs": [],
   "source": [
    "myfile = 'gs://cpg-tob-wgs-test/tob_wgs_rv/expression_outliers/CPG9951_IGLL5_50000.csv'"
   ]
  },
  {
   "cell_type": "code",
   "execution_count": 3,
   "id": "9e16dbb4-8188-437e-9fe1-7346db3d0200",
   "metadata": {},
   "outputs": [
    {
     "data": {
      "text/html": [
       "<div>\n",
       "<style scoped>\n",
       "    .dataframe tbody tr th:only-of-type {\n",
       "        vertical-align: middle;\n",
       "    }\n",
       "\n",
       "    .dataframe tbody tr th {\n",
       "        vertical-align: top;\n",
       "    }\n",
       "\n",
       "    .dataframe thead th {\n",
       "        text-align: right;\n",
       "    }\n",
       "</style>\n",
       "<table border=\"1\" class=\"dataframe\">\n",
       "  <thead>\n",
       "    <tr style=\"text-align: right;\">\n",
       "      <th></th>\n",
       "      <th>onek1k_id</th>\n",
       "      <th>cpg_id</th>\n",
       "      <th>gene_name</th>\n",
       "      <th>variant_id</th>\n",
       "      <th>is_het</th>\n",
       "      <th>cadd</th>\n",
       "      <th>maf_onek1k</th>\n",
       "      <th>maf_gnomad_popmax</th>\n",
       "      <th>regulatory_consequences</th>\n",
       "      <th>ensembl_gene_id</th>\n",
       "      <th>chrom</th>\n",
       "      <th>gene_start</th>\n",
       "      <th>gene_end</th>\n",
       "    </tr>\n",
       "  </thead>\n",
       "  <tbody>\n",
       "    <tr>\n",
       "      <th>0</th>\n",
       "      <td>943_944</td>\n",
       "      <td>CPG9951</td>\n",
       "      <td>IGLL5</td>\n",
       "      <td>chr22:22838056</td>\n",
       "      <td>0</td>\n",
       "      <td>1.075</td>\n",
       "      <td>0.688811</td>\n",
       "      <td>0.864159</td>\n",
       "      <td>['promoter_flanking_region']</td>\n",
       "      <td>ENSG00000254709.8</td>\n",
       "      <td>22</td>\n",
       "      <td>22887780</td>\n",
       "      <td>22896111</td>\n",
       "    </tr>\n",
       "    <tr>\n",
       "      <th>1</th>\n",
       "      <td>943_944</td>\n",
       "      <td>CPG9951</td>\n",
       "      <td>IGLL5</td>\n",
       "      <td>chr22:22838334</td>\n",
       "      <td>0</td>\n",
       "      <td>4.496</td>\n",
       "      <td>0.692442</td>\n",
       "      <td>0.830599</td>\n",
       "      <td>['promoter_flanking_region']</td>\n",
       "      <td>ENSG00000254709.8</td>\n",
       "      <td>22</td>\n",
       "      <td>22887780</td>\n",
       "      <td>22896111</td>\n",
       "    </tr>\n",
       "    <tr>\n",
       "      <th>2</th>\n",
       "      <td>943_944</td>\n",
       "      <td>CPG9951</td>\n",
       "      <td>IGLL5</td>\n",
       "      <td>chr22:22838431</td>\n",
       "      <td>0</td>\n",
       "      <td>0.720</td>\n",
       "      <td>0.690698</td>\n",
       "      <td>0.832518</td>\n",
       "      <td>['promoter_flanking_region']</td>\n",
       "      <td>ENSG00000254709.8</td>\n",
       "      <td>22</td>\n",
       "      <td>22887780</td>\n",
       "      <td>22896111</td>\n",
       "    </tr>\n",
       "    <tr>\n",
       "      <th>3</th>\n",
       "      <td>943_944</td>\n",
       "      <td>CPG9951</td>\n",
       "      <td>IGLL5</td>\n",
       "      <td>chr22:22838730</td>\n",
       "      <td>0</td>\n",
       "      <td>3.870</td>\n",
       "      <td>0.690476</td>\n",
       "      <td>0.830223</td>\n",
       "      <td>['promoter_flanking_region']</td>\n",
       "      <td>ENSG00000254709.8</td>\n",
       "      <td>22</td>\n",
       "      <td>22887780</td>\n",
       "      <td>22896111</td>\n",
       "    </tr>\n",
       "    <tr>\n",
       "      <th>4</th>\n",
       "      <td>943_944</td>\n",
       "      <td>CPG9951</td>\n",
       "      <td>IGLL5</td>\n",
       "      <td>chr22:22838971</td>\n",
       "      <td>0</td>\n",
       "      <td>0.068</td>\n",
       "      <td>0.692352</td>\n",
       "      <td>0.860324</td>\n",
       "      <td>['promoter_flanking_region']</td>\n",
       "      <td>ENSG00000254709.8</td>\n",
       "      <td>22</td>\n",
       "      <td>22887780</td>\n",
       "      <td>22896111</td>\n",
       "    </tr>\n",
       "  </tbody>\n",
       "</table>\n",
       "</div>"
      ],
      "text/plain": [
       "  onek1k_id   cpg_id gene_name      variant_id  is_het   cadd  maf_onek1k  \\\n",
       "0   943_944  CPG9951     IGLL5  chr22:22838056       0  1.075    0.688811   \n",
       "1   943_944  CPG9951     IGLL5  chr22:22838334       0  4.496    0.692442   \n",
       "2   943_944  CPG9951     IGLL5  chr22:22838431       0  0.720    0.690698   \n",
       "3   943_944  CPG9951     IGLL5  chr22:22838730       0  3.870    0.690476   \n",
       "4   943_944  CPG9951     IGLL5  chr22:22838971       0  0.068    0.692352   \n",
       "\n",
       "   maf_gnomad_popmax       regulatory_consequences    ensembl_gene_id  chrom  \\\n",
       "0           0.864159  ['promoter_flanking_region']  ENSG00000254709.8     22   \n",
       "1           0.830599  ['promoter_flanking_region']  ENSG00000254709.8     22   \n",
       "2           0.832518  ['promoter_flanking_region']  ENSG00000254709.8     22   \n",
       "3           0.830223  ['promoter_flanking_region']  ENSG00000254709.8     22   \n",
       "4           0.860324  ['promoter_flanking_region']  ENSG00000254709.8     22   \n",
       "\n",
       "   gene_start  gene_end  \n",
       "0    22887780  22896111  \n",
       "1    22887780  22896111  \n",
       "2    22887780  22896111  \n",
       "3    22887780  22896111  \n",
       "4    22887780  22896111  "
      ]
     },
     "execution_count": 3,
     "metadata": {},
     "output_type": "execute_result"
    }
   ],
   "source": [
    "df = pd.read_csv(myfile)\n",
    "df.head()"
   ]
  },
  {
   "cell_type": "code",
   "execution_count": 4,
   "id": "6ed4a85e-2a80-4695-b57e-0d9d2aadb45e",
   "metadata": {},
   "outputs": [
    {
     "data": {
      "text/plain": [
       "0.925"
      ]
     },
     "execution_count": 4,
     "metadata": {},
     "output_type": "execute_result"
    }
   ],
   "source": [
    "9.25e-1"
   ]
  },
  {
   "cell_type": "code",
   "execution_count": 5,
   "id": "71b98451-6a73-4d42-9a9f-ef7ecabee9d4",
   "metadata": {},
   "outputs": [
    {
     "data": {
      "text/plain": [
       "(76, 13)"
      ]
     },
     "execution_count": 5,
     "metadata": {},
     "output_type": "execute_result"
    }
   ],
   "source": [
    "df.shape"
   ]
  },
  {
   "cell_type": "code",
   "execution_count": 6,
   "id": "8e0c2633-7107-4971-b9e5-d320d3877ad4",
   "metadata": {},
   "outputs": [
    {
     "data": {
      "text/plain": [
       "['CTCF_binding_site']                                20\n",
       "['promoter_flanking_region']                         19\n",
       "['promoter']                                         19\n",
       "['enhancer']                                          8\n",
       "['open_chromatin_region']                             5\n",
       "['CTCF_binding_site', 'promoter_flanking_region']     2\n",
       "['CTCF_binding_site', 'open_chromatin_region']        2\n",
       "['CTCF_binding_site', 'enhancer']                     1\n",
       "Name: regulatory_consequences, dtype: int64"
      ]
     },
     "execution_count": 6,
     "metadata": {},
     "output_type": "execute_result"
    }
   ],
   "source": [
    "df.regulatory_consequences.value_counts()"
   ]
  },
  {
   "cell_type": "code",
   "execution_count": 7,
   "id": "d49567c7-cb35-46ad-9fa3-1ba1330b86a0",
   "metadata": {},
   "outputs": [
    {
     "data": {
      "image/png": "[encoded data removed]",
      "text/plain": [
       "<Figure size 432x288 with 1 Axes>"
      ]
     },
     "metadata": {
      "needs_background": "light"
     },
     "output_type": "display_data"
    }
   ],
   "source": [
    "plt.hist(df['maf_onek1k'])\n",
    "plt.show()"
   ]
  },
  {
   "cell_type": "code",
   "execution_count": 8,
   "id": "d543eece-6cd4-463d-9ae5-f5a311789d92",
   "metadata": {},
   "outputs": [
    {
     "data": {
      "image/png": "[encoded data removed]",
      "text/plain": [
       "<Figure size 432x288 with 1 Axes>"
      ]
     },
     "metadata": {
      "needs_background": "light"
     },
     "output_type": "display_data"
    }
   ],
   "source": [
    "plt.hist(df['maf_gnomad_popmax'])\n",
    "plt.show()"
   ]
  },
  {
   "cell_type": "code",
   "execution_count": 9,
   "id": "d44e2d9d-6902-4ef3-8857-23c2b309f29e",
   "metadata": {},
   "outputs": [
    {
     "data": {
      "image/png": "[encoded data removed]",
      "text/plain": [
       "<Figure size 432x288 with 1 Axes>"
      ]
     },
     "metadata": {
      "needs_background": "light"
     },
     "output_type": "display_data"
    }
   ],
   "source": [
    "plt.hist(df['cadd'])\n",
    "plt.show()"
   ]
  },
  {
   "cell_type": "code",
   "execution_count": null,
   "id": "b7f0cd62-174b-4aef-b341-1fb3f701397a",
   "metadata": {},
   "outputs": [],
   "source": []
  }
 ],
 "metadata": {
  "environment": {
   "kernel": "python3",
   "name": "r-cpu.4-1.m87",
   "type": "gcloud",
   "uri": "gcr.io/deeplearning-platform-release/r-cpu.4-1:m87"
  },
  "kernelspec": {
   "display_name": "Python 3",
   "language": "python",
   "name": "python3"
  },
  "language_info": {
   "codemirror_mode": {
    "name": "ipython",
    "version": 3
   },
   "file_extension": ".py",
   "mimetype": "text/x-python",
   "name": "python",
   "nbconvert_exporter": "python",
   "pygments_lexer": "ipython3",
   "version": "3.7.12"
  }
 },
 "nbformat": 4,
 "nbformat_minor": 5
}
