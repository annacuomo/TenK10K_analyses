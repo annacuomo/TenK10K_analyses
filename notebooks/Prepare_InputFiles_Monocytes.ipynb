{
 "cells": [
  {
   "cell_type": "code",
   "execution_count": 3,
   "id": "ae46ac34",
   "metadata": {},
   "outputs": [
    {
     "name": "stderr",
     "output_type": "stream",
     "text": [
      "\n",
      "Attaching package: ‘dplyr’\n",
      "\n",
      "\n",
      "The following objects are masked from ‘package:stats’:\n",
      "\n",
      "    filter, lag\n",
      "\n",
      "\n",
      "The following objects are masked from ‘package:base’:\n",
      "\n",
      "    intersect, setdiff, setequal, union\n",
      "\n",
      "\n"
     ]
    }
   ],
   "source": [
    "library(dplyr)\n",
    "library(ggplot2)"
   ]
  },
  {
   "cell_type": "code",
   "execution_count": 4,
   "id": "b373b8d7",
   "metadata": {},
   "outputs": [],
   "source": [
    "############## Load expression data (single-cell)"
   ]
  },
  {
   "cell_type": "code",
   "execution_count": 5,
   "id": "576b4bd9",
   "metadata": {},
   "outputs": [],
   "source": [
    "# Seurat object\n",
    "mydir = \"/share/ScratchGeneral/anncuo/OneK1K/\"\n",
    "sce_filename = paste0(mydir,\"cell_type.RDS\")"
   ]
  },
  {
   "cell_type": "code",
   "execution_count": 5,
   "id": "0c4fce0e",
   "metadata": {},
   "outputs": [
    {
     "name": "stderr",
     "output_type": "stream",
     "text": [
      "Loading required package: Seurat\n",
      "\n",
      "Attaching SeuratObject\n",
      "\n"
     ]
    },
    {
     "data": {
      "text/plain": [
       "An object of class Seurat \n",
       "57641 features across 1272489 samples within 2 assays \n",
       "Active assay: SCT (24903 features, 3000 variable features)\n",
       " 1 other assay present: RNA\n",
       " 2 dimensional reductions calculated: pca, umap"
      ]
     },
     "metadata": {},
     "output_type": "display_data"
    }
   ],
   "source": [
    "sce = readRDS(sce_filename)\n",
    "sce"
   ]
  },
  {
   "cell_type": "code",
   "execution_count": null,
   "id": "8d99d9ec",
   "metadata": {},
   "outputs": [],
   "source": []
  },
  {
   "cell_type": "code",
   "execution_count": 17,
   "id": "b902089c",
   "metadata": {},
   "outputs": [],
   "source": [
    "######## make input files\n",
    "input_files_dir = paste0(mydir,\"input_files_CellRegMap/\")"
   ]
  },
  {
   "cell_type": "code",
   "execution_count": null,
   "id": "5e8e405e",
   "metadata": {},
   "outputs": [],
   "source": []
  },
  {
   "cell_type": "code",
   "execution_count": 7,
   "id": "81ceb9f7",
   "metadata": {},
   "outputs": [],
   "source": [
    "####### make sample mapping file (smf)"
   ]
  },
  {
   "cell_type": "code",
   "execution_count": 10,
   "id": "5cf93c83",
   "metadata": {},
   "outputs": [],
   "source": [
    "## Metadata\n",
    "metadata_filename =  paste0(mydir,\"/metadata.RDS\")\n",
    "df = readRDS(metadata_filename)"
   ]
  },
  {
   "cell_type": "code",
   "execution_count": 27,
   "id": "dca8a3f3",
   "metadata": {},
   "outputs": [
    {
     "data": {
      "text/html": [
       "<style>\n",
       ".list-inline {list-style: none; margin:0; padding: 0}\n",
       ".list-inline>li {display: inline-block}\n",
       ".list-inline>li:not(:last-child)::after {content: \"\\00b7\"; padding: 0 .5ex}\n",
       "</style>\n",
       "<ol class=list-inline><li>'CD4+ KLRB1+ T cell'</li><li>'XCL1- NK'</li><li>'CD4+ KLRB1- T cell'</li><li>'CD8+ S100B+ T cell'</li><li>'CD8+ GNLY+ NKG7+ T cell'</li><li>'TCL1A+ FCER2+ B cell'</li><li>'CD8+ LTB+ T cell'</li><li>'TCL1A- FCER2- B cell'</li><li>'XCL1+ NK'</li><li>'Monocyte FCGR3A+'</li><li>'Monocyte CD14+'</li><li>'Dendritic cell'</li><li>'IgJ+ B cell'</li><li>'CD4+ SOX4+ T cell'</li></ol>\n"
      ],
      "text/latex": [
       "\\begin{enumerate*}\n",
       "\\item 'CD4+ KLRB1+ T cell'\n",
       "\\item 'XCL1- NK'\n",
       "\\item 'CD4+ KLRB1- T cell'\n",
       "\\item 'CD8+ S100B+ T cell'\n",
       "\\item 'CD8+ GNLY+ NKG7+ T cell'\n",
       "\\item 'TCL1A+ FCER2+ B cell'\n",
       "\\item 'CD8+ LTB+ T cell'\n",
       "\\item 'TCL1A- FCER2- B cell'\n",
       "\\item 'XCL1+ NK'\n",
       "\\item 'Monocyte FCGR3A+'\n",
       "\\item 'Monocyte CD14+'\n",
       "\\item 'Dendritic cell'\n",
       "\\item 'IgJ+ B cell'\n",
       "\\item 'CD4+ SOX4+ T cell'\n",
       "\\end{enumerate*}\n"
      ],
      "text/markdown": [
       "1. 'CD4+ KLRB1+ T cell'\n",
       "2. 'XCL1- NK'\n",
       "3. 'CD4+ KLRB1- T cell'\n",
       "4. 'CD8+ S100B+ T cell'\n",
       "5. 'CD8+ GNLY+ NKG7+ T cell'\n",
       "6. 'TCL1A+ FCER2+ B cell'\n",
       "7. 'CD8+ LTB+ T cell'\n",
       "8. 'TCL1A- FCER2- B cell'\n",
       "9. 'XCL1+ NK'\n",
       "10. 'Monocyte FCGR3A+'\n",
       "11. 'Monocyte CD14+'\n",
       "12. 'Dendritic cell'\n",
       "13. 'IgJ+ B cell'\n",
       "14. 'CD4+ SOX4+ T cell'\n",
       "\n",
       "\n"
      ],
      "text/plain": [
       " [1] \"CD4+ KLRB1+ T cell\"      \"XCL1- NK\"               \n",
       " [3] \"CD4+ KLRB1- T cell\"      \"CD8+ S100B+ T cell\"     \n",
       " [5] \"CD8+ GNLY+ NKG7+ T cell\" \"TCL1A+ FCER2+ B cell\"   \n",
       " [7] \"CD8+ LTB+ T cell\"        \"TCL1A- FCER2- B cell\"   \n",
       " [9] \"XCL1+ NK\"                \"Monocyte FCGR3A+\"       \n",
       "[11] \"Monocyte CD14+\"          \"Dendritic cell\"         \n",
       "[13] \"IgJ+ B cell\"             \"CD4+ SOX4+ T cell\"      "
      ]
     },
     "metadata": {},
     "output_type": "display_data"
    }
   ],
   "source": [
    "unique(as.character(df$cell_type))"
   ]
  },
  {
   "cell_type": "code",
   "execution_count": 23,
   "id": "83680bc9",
   "metadata": {},
   "outputs": [
    {
     "data": {
      "text/html": [
       "<style>\n",
       ".list-inline {list-style: none; margin:0; padding: 0}\n",
       ".list-inline>li {display: inline-block}\n",
       ".list-inline>li:not(:last-child)::after {content: \"\\00b7\"; padding: 0 .5ex}\n",
       "</style>\n",
       "<ol class=list-inline><li>'Monocyte FCGR3A+'</li><li>'Monocyte CD14+'</li></ol>\n"
      ],
      "text/latex": [
       "\\begin{enumerate*}\n",
       "\\item 'Monocyte FCGR3A+'\n",
       "\\item 'Monocyte CD14+'\n",
       "\\end{enumerate*}\n"
      ],
      "text/markdown": [
       "1. 'Monocyte FCGR3A+'\n",
       "2. 'Monocyte CD14+'\n",
       "\n",
       "\n"
      ],
      "text/plain": [
       "[1] \"Monocyte FCGR3A+\" \"Monocyte CD14+\"  "
      ]
     },
     "metadata": {},
     "output_type": "display_data"
    }
   ],
   "source": [
    "### Monocyte only SMF\n",
    "monos = unique(as.character(df$cell_type))[grep(\"Mono\", unique(as.character(df$cell_type)))]\n",
    "monos"
   ]
  },
  {
   "cell_type": "code",
   "execution_count": 24,
   "id": "13373573",
   "metadata": {},
   "outputs": [
    {
     "data": {
      "text/html": [
       "53399"
      ],
      "text/latex": [
       "53399"
      ],
      "text/markdown": [
       "53399"
      ],
      "text/plain": [
       "[1] 53399"
      ]
     },
     "metadata": {},
     "output_type": "display_data"
    },
    {
     "data": {
      "text/html": [
       "<table class=\"dataframe\">\n",
       "<caption>A data.frame: 2 × 15</caption>\n",
       "<thead>\n",
       "\t<tr><th></th><th scope=col>orig.ident</th><th scope=col>nCount_RNA</th><th scope=col>nFeature_RNA</th><th scope=col>pool</th><th scope=col>individual</th><th scope=col>percent.mt</th><th scope=col>latent</th><th scope=col>nCount_SCT</th><th scope=col>nFeature_SCT</th><th scope=col>cell_type</th><th scope=col>predicted.celltype.l1.score</th><th scope=col>predicted.celltype.l1</th><th scope=col>predicted.celltype.l2.score</th><th scope=col>predicted.celltype.l2</th><th scope=col>cell</th></tr>\n",
       "\t<tr><th></th><th scope=col>&lt;fct&gt;</th><th scope=col>&lt;dbl&gt;</th><th scope=col>&lt;int&gt;</th><th scope=col>&lt;fct&gt;</th><th scope=col>&lt;chr&gt;</th><th scope=col>&lt;dbl&gt;</th><th scope=col>&lt;fct&gt;</th><th scope=col>&lt;dbl&gt;</th><th scope=col>&lt;int&gt;</th><th scope=col>&lt;fct&gt;</th><th scope=col>&lt;dbl&gt;</th><th scope=col>&lt;chr&gt;</th><th scope=col>&lt;dbl&gt;</th><th scope=col>&lt;chr&gt;</th><th scope=col>&lt;chr&gt;</th></tr>\n",
       "</thead>\n",
       "<tbody>\n",
       "\t<tr><th scope=row>AAACGGGCACTTAAGC-1</th><td>onek1k</td><td>7546</td><td>1849</td><td>pool_1</td><td>683_684</td><td>4.624967</td><td>b1</td><td>4405</td><td>1798</td><td>Monocyte FCGR3A+</td><td>0.9836972</td><td>Mono</td><td>0.9836972</td><td>CD16 Mono</td><td>AAACGGGCACTTAAGC-1</td></tr>\n",
       "\t<tr><th scope=row>AAACGGGTCTTGTTTG-1</th><td>onek1k</td><td>7910</td><td>2008</td><td>pool_1</td><td>693_694</td><td>3.388116</td><td>b1</td><td>4430</td><td>1936</td><td>Monocyte CD14+  </td><td>1.0000000</td><td>Mono</td><td>1.0000000</td><td>CD14 Mono</td><td>AAACGGGTCTTGTTTG-1</td></tr>\n",
       "</tbody>\n",
       "</table>\n"
      ],
      "text/latex": [
       "A data.frame: 2 × 15\n",
       "\\begin{tabular}{r|lllllllllllllll}\n",
       "  & orig.ident & nCount\\_RNA & nFeature\\_RNA & pool & individual & percent.mt & latent & nCount\\_SCT & nFeature\\_SCT & cell\\_type & predicted.celltype.l1.score & predicted.celltype.l1 & predicted.celltype.l2.score & predicted.celltype.l2 & cell\\\\\n",
       "  & <fct> & <dbl> & <int> & <fct> & <chr> & <dbl> & <fct> & <dbl> & <int> & <fct> & <dbl> & <chr> & <dbl> & <chr> & <chr>\\\\\n",
       "\\hline\n",
       "\tAAACGGGCACTTAAGC-1 & onek1k & 7546 & 1849 & pool\\_1 & 683\\_684 & 4.624967 & b1 & 4405 & 1798 & Monocyte FCGR3A+ & 0.9836972 & Mono & 0.9836972 & CD16 Mono & AAACGGGCACTTAAGC-1\\\\\n",
       "\tAAACGGGTCTTGTTTG-1 & onek1k & 7910 & 2008 & pool\\_1 & 693\\_694 & 3.388116 & b1 & 4430 & 1936 & Monocyte CD14+   & 1.0000000 & Mono & 1.0000000 & CD14 Mono & AAACGGGTCTTGTTTG-1\\\\\n",
       "\\end{tabular}\n"
      ],
      "text/markdown": [
       "\n",
       "A data.frame: 2 × 15\n",
       "\n",
       "| <!--/--> | orig.ident &lt;fct&gt; | nCount_RNA &lt;dbl&gt; | nFeature_RNA &lt;int&gt; | pool &lt;fct&gt; | individual &lt;chr&gt; | percent.mt &lt;dbl&gt; | latent &lt;fct&gt; | nCount_SCT &lt;dbl&gt; | nFeature_SCT &lt;int&gt; | cell_type &lt;fct&gt; | predicted.celltype.l1.score &lt;dbl&gt; | predicted.celltype.l1 &lt;chr&gt; | predicted.celltype.l2.score &lt;dbl&gt; | predicted.celltype.l2 &lt;chr&gt; | cell &lt;chr&gt; |\n",
       "|---|---|---|---|---|---|---|---|---|---|---|---|---|---|---|---|\n",
       "| AAACGGGCACTTAAGC-1 | onek1k | 7546 | 1849 | pool_1 | 683_684 | 4.624967 | b1 | 4405 | 1798 | Monocyte FCGR3A+ | 0.9836972 | Mono | 0.9836972 | CD16 Mono | AAACGGGCACTTAAGC-1 |\n",
       "| AAACGGGTCTTGTTTG-1 | onek1k | 7910 | 2008 | pool_1 | 693_694 | 3.388116 | b1 | 4430 | 1936 | Monocyte CD14+   | 1.0000000 | Mono | 1.0000000 | CD14 Mono | AAACGGGTCTTGTTTG-1 |\n",
       "\n"
      ],
      "text/plain": [
       "                   orig.ident nCount_RNA nFeature_RNA pool   individual\n",
       "AAACGGGCACTTAAGC-1 onek1k     7546       1849         pool_1 683_684   \n",
       "AAACGGGTCTTGTTTG-1 onek1k     7910       2008         pool_1 693_694   \n",
       "                   percent.mt latent nCount_SCT nFeature_SCT cell_type       \n",
       "AAACGGGCACTTAAGC-1 4.624967   b1     4405       1798         Monocyte FCGR3A+\n",
       "AAACGGGTCTTGTTTG-1 3.388116   b1     4430       1936         Monocyte CD14+  \n",
       "                   predicted.celltype.l1.score predicted.celltype.l1\n",
       "AAACGGGCACTTAAGC-1 0.9836972                   Mono                 \n",
       "AAACGGGTCTTGTTTG-1 1.0000000                   Mono                 \n",
       "                   predicted.celltype.l2.score predicted.celltype.l2\n",
       "AAACGGGCACTTAAGC-1 0.9836972                   CD16 Mono            \n",
       "AAACGGGTCTTGTTTG-1 1.0000000                   CD14 Mono            \n",
       "                   cell              \n",
       "AAACGGGCACTTAAGC-1 AAACGGGCACTTAAGC-1\n",
       "AAACGGGTCTTGTTTG-1 AAACGGGTCTTGTTTG-1"
      ]
     },
     "metadata": {},
     "output_type": "display_data"
    }
   ],
   "source": [
    "df_mono = df[df$cell_type %in% monos,]\n",
    "nrow(df_mono)\n",
    "head(df_mono,2)"
   ]
  },
  {
   "cell_type": "code",
   "execution_count": 25,
   "id": "a770d9cb",
   "metadata": {},
   "outputs": [
    {
     "data": {
      "text/html": [
       "<table class=\"dataframe\">\n",
       "<caption>A data.frame: 6 × 3</caption>\n",
       "<thead>\n",
       "\t<tr><th></th><th scope=col>phenotype_sample_id</th><th scope=col>genotype_individual_id</th><th scope=col>individual_long</th></tr>\n",
       "\t<tr><th></th><th scope=col>&lt;chr&gt;</th><th scope=col>&lt;chr&gt;</th><th scope=col>&lt;chr&gt;</th></tr>\n",
       "</thead>\n",
       "<tbody>\n",
       "\t<tr><th scope=row>1</th><td>AAACGGGCACTTAAGC-1</td><td>684</td><td>683_684</td></tr>\n",
       "\t<tr><th scope=row>2</th><td>AAACGGGTCTTGTTTG-1</td><td>694</td><td>693_694</td></tr>\n",
       "\t<tr><th scope=row>3</th><td>AAAGATGAGTACGACG-1</td><td>690</td><td>689_690</td></tr>\n",
       "\t<tr><th scope=row>4</th><td>AAAGATGGTGTGAATA-1</td><td>693</td><td>692_693</td></tr>\n",
       "\t<tr><th scope=row>5</th><td>AAAGATGTCAAACAAG-1</td><td>683</td><td>682_683</td></tr>\n",
       "\t<tr><th scope=row>6</th><td>AAAGCAACACCGCTAG-1</td><td>685</td><td>684_685</td></tr>\n",
       "</tbody>\n",
       "</table>\n"
      ],
      "text/latex": [
       "A data.frame: 6 × 3\n",
       "\\begin{tabular}{r|lll}\n",
       "  & phenotype\\_sample\\_id & genotype\\_individual\\_id & individual\\_long\\\\\n",
       "  & <chr> & <chr> & <chr>\\\\\n",
       "\\hline\n",
       "\t1 & AAACGGGCACTTAAGC-1 & 684 & 683\\_684\\\\\n",
       "\t2 & AAACGGGTCTTGTTTG-1 & 694 & 693\\_694\\\\\n",
       "\t3 & AAAGATGAGTACGACG-1 & 690 & 689\\_690\\\\\n",
       "\t4 & AAAGATGGTGTGAATA-1 & 693 & 692\\_693\\\\\n",
       "\t5 & AAAGATGTCAAACAAG-1 & 683 & 682\\_683\\\\\n",
       "\t6 & AAAGCAACACCGCTAG-1 & 685 & 684\\_685\\\\\n",
       "\\end{tabular}\n"
      ],
      "text/markdown": [
       "\n",
       "A data.frame: 6 × 3\n",
       "\n",
       "| <!--/--> | phenotype_sample_id &lt;chr&gt; | genotype_individual_id &lt;chr&gt; | individual_long &lt;chr&gt; |\n",
       "|---|---|---|---|\n",
       "| 1 | AAACGGGCACTTAAGC-1 | 684 | 683_684 |\n",
       "| 2 | AAACGGGTCTTGTTTG-1 | 694 | 693_694 |\n",
       "| 3 | AAAGATGAGTACGACG-1 | 690 | 689_690 |\n",
       "| 4 | AAAGATGGTGTGAATA-1 | 693 | 692_693 |\n",
       "| 5 | AAAGATGTCAAACAAG-1 | 683 | 682_683 |\n",
       "| 6 | AAAGCAACACCGCTAG-1 | 685 | 684_685 |\n",
       "\n"
      ],
      "text/plain": [
       "  phenotype_sample_id genotype_individual_id individual_long\n",
       "1 AAACGGGCACTTAAGC-1  684                    683_684        \n",
       "2 AAACGGGTCTTGTTTG-1  694                    693_694        \n",
       "3 AAAGATGAGTACGACG-1  690                    689_690        \n",
       "4 AAAGATGGTGTGAATA-1  693                    692_693        \n",
       "5 AAAGATGTCAAACAAG-1  683                    682_683        \n",
       "6 AAAGCAACACCGCTAG-1  685                    684_685        "
      ]
     },
     "metadata": {},
     "output_type": "display_data"
    }
   ],
   "source": [
    "# retain only second part of individual ID (samples sequenced twice)\n",
    "smf_df = data.frame(phenotype_sample_id = rownames(df_mono), \n",
    "                    genotype_individual_id = gsub(\".*_\",\"\",df_mono$individual),\n",
    "                   individual_long = df_mono$individual)\n",
    "head(smf_df)"
   ]
  },
  {
   "cell_type": "code",
   "execution_count": 31,
   "id": "2666026f",
   "metadata": {},
   "outputs": [
    {
     "data": {
      "text/html": [
       "'/share/ScratchGeneral/anncuo/OneK1K/input_files_CellRegMap/smf_monocytes.csv'"
      ],
      "text/latex": [
       "'/share/ScratchGeneral/anncuo/OneK1K/input\\_files\\_CellRegMap/smf\\_monocytes.csv'"
      ],
      "text/markdown": [
       "'/share/ScratchGeneral/anncuo/OneK1K/input_files_CellRegMap/smf_monocytes.csv'"
      ],
      "text/plain": [
       "[1] \"/share/ScratchGeneral/anncuo/OneK1K/input_files_CellRegMap/smf_monocytes.csv\""
      ]
     },
     "metadata": {},
     "output_type": "display_data"
    }
   ],
   "source": [
    "smf_filename = paste0(input_files_dir,\"smf_monocytes.csv\")\n",
    "smf_filename"
   ]
  },
  {
   "cell_type": "code",
   "execution_count": 15,
   "id": "ad62b19e",
   "metadata": {},
   "outputs": [],
   "source": [
    "write.csv(smf_df, smf_filename)"
   ]
  },
  {
   "cell_type": "code",
   "execution_count": null,
   "id": "b6a517c8",
   "metadata": {},
   "outputs": [],
   "source": []
  },
  {
   "cell_type": "code",
   "execution_count": 16,
   "id": "0d500011",
   "metadata": {},
   "outputs": [],
   "source": [
    "##################################################\n",
    "##### cell contexts (Monocytes only)"
   ]
  },
  {
   "cell_type": "code",
   "execution_count": 17,
   "id": "f195e739",
   "metadata": {},
   "outputs": [
    {
     "data": {
      "text/html": [
       "53399"
      ],
      "text/latex": [
       "53399"
      ],
      "text/markdown": [
       "53399"
      ],
      "text/plain": [
       "[1] 53399"
      ]
     },
     "metadata": {},
     "output_type": "display_data"
    },
    {
     "data": {
      "text/html": [
       "<style>\n",
       ".list-inline {list-style: none; margin:0; padding: 0}\n",
       ".list-inline>li {display: inline-block}\n",
       ".list-inline>li:not(:last-child)::after {content: \"\\00b7\"; padding: 0 .5ex}\n",
       "</style>\n",
       "<ol class=list-inline><li>'AAACGGGCACTTAAGC-1'</li><li>'AAACGGGTCTTGTTTG-1'</li><li>'AAAGATGAGTACGACG-1'</li><li>'AAAGATGGTGTGAATA-1'</li><li>'AAAGATGTCAAACAAG-1'</li><li>'AAAGCAACACCGCTAG-1'</li></ol>\n"
      ],
      "text/latex": [
       "\\begin{enumerate*}\n",
       "\\item 'AAACGGGCACTTAAGC-1'\n",
       "\\item 'AAACGGGTCTTGTTTG-1'\n",
       "\\item 'AAAGATGAGTACGACG-1'\n",
       "\\item 'AAAGATGGTGTGAATA-1'\n",
       "\\item 'AAAGATGTCAAACAAG-1'\n",
       "\\item 'AAAGCAACACCGCTAG-1'\n",
       "\\end{enumerate*}\n"
      ],
      "text/markdown": [
       "1. 'AAACGGGCACTTAAGC-1'\n",
       "2. 'AAACGGGTCTTGTTTG-1'\n",
       "3. 'AAAGATGAGTACGACG-1'\n",
       "4. 'AAAGATGGTGTGAATA-1'\n",
       "5. 'AAAGATGTCAAACAAG-1'\n",
       "6. 'AAAGCAACACCGCTAG-1'\n",
       "\n",
       "\n"
      ],
      "text/plain": [
       "[1] \"AAACGGGCACTTAAGC-1\" \"AAACGGGTCTTGTTTG-1\" \"AAAGATGAGTACGACG-1\"\n",
       "[4] \"AAAGATGGTGTGAATA-1\" \"AAAGATGTCAAACAAG-1\" \"AAAGCAACACCGCTAG-1\""
      ]
     },
     "metadata": {},
     "output_type": "display_data"
    }
   ],
   "source": [
    "Monos = colnames(sce)[colnames(sce) %in% rownames(df_mono)]\n",
    "length(Monos)\n",
    "head(Monos)"
   ]
  },
  {
   "cell_type": "code",
   "execution_count": 6,
   "id": "9c020dcd",
   "metadata": {},
   "outputs": [
    {
     "ename": "ERROR",
     "evalue": "Error in eval(expr, envir, enclos): object 'sce' not found\n",
     "output_type": "error",
     "traceback": [
      "Error in eval(expr, envir, enclos): object 'sce' not found\nTraceback:\n"
     ]
    }
   ],
   "source": [
    "sce_mono = sce[,colnames(sce) %in% Monos]\n",
    "sce_mono"
   ]
  },
  {
   "cell_type": "code",
   "execution_count": 20,
   "id": "a885c8c4",
   "metadata": {},
   "outputs": [],
   "source": [
    "saveRDS(sce_mono, paste0(mydir,\"Monocytes_sce.rds\"))"
   ]
  },
  {
   "cell_type": "code",
   "execution_count": 7,
   "id": "a1b63103",
   "metadata": {},
   "outputs": [
    {
     "name": "stderr",
     "output_type": "stream",
     "text": [
      "Loading required package: SeuratObject\n",
      "\n",
      "Loading required package: Seurat\n",
      "\n"
     ]
    },
    {
     "data": {
      "text/plain": [
       "An object of class Seurat \n",
       "57641 features across 53399 samples within 2 assays \n",
       "Active assay: SCT (24903 features, 3000 variable features)\n",
       " 1 other assay present: RNA\n",
       " 2 dimensional reductions calculated: pca, umap"
      ]
     },
     "metadata": {},
     "output_type": "display_data"
    }
   ],
   "source": [
    "sce_mono = readRDS(paste0(mydir,\"Monocytes_sce.rds\"))\n",
    "sce_mono"
   ]
  },
  {
   "cell_type": "code",
   "execution_count": 8,
   "id": "9d33c114",
   "metadata": {},
   "outputs": [
    {
     "name": "stderr",
     "output_type": "stream",
     "text": [
      "PC_ 1 \n",
      "Positive:  S100A9, S100A8, LYZ, S100A12, RP11-1143G9.4, CST3, FCN1, TYROBP, FTL, IL8 \n",
      "\t   CSTA, VCAN, LST1, CD14, AIF1, MNDA, S100A6, CTSS, FTH1, GPX1 \n",
      "\t   FCER1G, LGALS1, MS4A6A, S100A11, CFD, G0S2, FOS, RBP7, TYMP, SERPINA1 \n",
      "Negative:  GNLY, NKG7, CCL5, RPS27, RPS29, KLRB1, IL32, MALAT1, GZMB, CST7 \n",
      "\t   RPS18, GZMA, RPS19, RPL13A, LTB, FGFBP2, GZMH, RPS6, RPS27A, RPS12 \n",
      "\t   RPLP2, EEF1A1, CTSW, RPL21, CMC1, RPL13, RPL41, PTPRCAP, RPS25, RPS4X \n",
      "PC_ 2 \n",
      "Positive:  S100A8, S100A9, S100A12, GNLY, NKG7, CCL5, RPS27, KLRB1, RPS29, RPL13 \n",
      "\t   RPLP2, IL32, RPS18, RPS12, RPL13A, RPS27A, GZMB, CST7, GZMA, RPS6 \n",
      "\t   FGFBP2, RPS15A, LTB, GZMH, RPL32, CTSW, PTPRCAP, RPL34, RPLP1, RPS28 \n",
      "Negative:  LST1, CST3, LYZ, AIF1, LYPD2, FTH1, FTL, FCER1G, TYROBP, SAT1 \n",
      "\t   SERPINA1, MS4A7, CFD, IFITM3, CTSS, COTL1, FCN1, RP11-290F20.3, PSAP, CD68 \n",
      "\t   FCGR3A, S100A11, SPI1, HLA-DRA, VMO1, C1QA, HLA-DPA1, TYMP, S100A4, PILRA \n",
      "PC_ 3 \n",
      "Positive:  S100A8, S100A9, LYPD2, LST1, AIF1, MS4A7, FCER1G, FCGR3A, VMO1, RP11-290F20.3 \n",
      "\t   SERPINA1, IFITM3, SAT1, FTH1, MEG3, CFD, CDKN1C, S100A11, COTL1, HES4 \n",
      "\t   C1QA, S100A4, CKB, CD68, SPI1, LRRC25, S100A12, TCF7L2, CSF1R, LILRA3 \n",
      "Negative:  LYZ, RP11-1143G9.4, LGALS2, VCAN, MS4A6A, GPX1, HLA-DRA, CD36, AP1S2, CSF3R \n",
      "\t   IL8, IL1B, FCN1, CD74, RNASE6, NRG1, MGST1, GRN, EREG, KCTD12 \n",
      "\t   CPVL, ALDH2, HLA-DPB1, CCL3, CD14, HLA-DMA, MNDA, FOS, IER3, F13A1 \n",
      "PC_ 4 \n",
      "Positive:  RP11-1143G9.4, LYPD2, S100A8, MEG3, VMO1, LST1, FCGR3A, MS4A7, RP11-290F20.3, CKB \n",
      "\t   CDKN1C, HES4, S100A12, RP11-1008C21.1, STXBP2, TCF7L2, SERPINA1, RHOC, LRRC25, IFITM2 \n",
      "\t   TESC, CSF1R, SIGLEC10, LILRA3, LILRA5, IGFBP6, FCER1G, LYN, FIBCD1, HMOX1 \n",
      "Negative:  CST3, FCN1, LYZ, G0S2, HLA-DRA, S100A9, LGALS2, CD14, IL8, CSTA \n",
      "\t   MS4A6A, HLA-DRB1, CD74, IL1B, HLA-DPB1, GPX1, CPVL, GRN, TYROBP, HLA-DPA1 \n",
      "\t   CEBPD, APOBEC3A, HLA-DRB5, CXCL2, ALDH2, ASGR1, CCL3, NPC2, EREG, HLA-DMA \n",
      "PC_ 5 \n",
      "Positive:  RP11-1143G9.4, G0S2, IL8, CST3, C1QB, C1QA, FTL, S100A8, FTH1, AIF1 \n",
      "\t   IL1B, SAT1, C1QC, CXCL2, HLA-DRA, TYROBP, LST1, EREG, APOBEC3A, IFITM3 \n",
      "\t   HLA-DPA1, HLA-DPB1, PLAUR, NAMPT, NEAT1, CXCL3, HLA-DRB1, FCER1G, CLEC7A, FCN1 \n",
      "Negative:  LYPD2, LYZ, S100A9, MEG3, VMO1, CKB, S100A12, VCAN, IGFBP6, RP11-1008C21.1 \n",
      "\t   GNLY, RNASE2, NKG7, CCL5, MGST1, RPS27, MALAT1, RHOC, F13A1, KLRB1 \n",
      "\t   EEF1A1, GAPDH, PLBD1, RPS18, RPS29, BST1, CES1, RPS6, MT-CYB, FIBCD1 \n",
      "\n"
     ]
    }
   ],
   "source": [
    "# this would probably be faster in python / hail\n",
    "sce_mono = RunPCA(sce_mono)"
   ]
  },
  {
   "cell_type": "code",
   "execution_count": 9,
   "id": "4432810a",
   "metadata": {},
   "outputs": [
    {
     "data": {
      "text/html": [
       "<style>\n",
       ".list-inline {list-style: none; margin:0; padding: 0}\n",
       ".list-inline>li {display: inline-block}\n",
       ".list-inline>li:not(:last-child)::after {content: \"\\00b7\"; padding: 0 .5ex}\n",
       "</style>\n",
       "<ol class=list-inline><li>53399</li><li>50</li></ol>\n"
      ],
      "text/latex": [
       "\\begin{enumerate*}\n",
       "\\item 53399\n",
       "\\item 50\n",
       "\\end{enumerate*}\n"
      ],
      "text/markdown": [
       "1. 53399\n",
       "2. 50\n",
       "\n",
       "\n"
      ],
      "text/plain": [
       "[1] 53399    50"
      ]
     },
     "metadata": {},
     "output_type": "display_data"
    },
    {
     "data": {
      "text/html": [
       "<table class=\"dataframe\">\n",
       "<caption>A data.frame: 6 × 50</caption>\n",
       "<thead>\n",
       "\t<tr><th></th><th scope=col>PC_1</th><th scope=col>PC_2</th><th scope=col>PC_3</th><th scope=col>PC_4</th><th scope=col>PC_5</th><th scope=col>PC_6</th><th scope=col>PC_7</th><th scope=col>PC_8</th><th scope=col>PC_9</th><th scope=col>PC_10</th><th scope=col>⋯</th><th scope=col>PC_41</th><th scope=col>PC_42</th><th scope=col>PC_43</th><th scope=col>PC_44</th><th scope=col>PC_45</th><th scope=col>PC_46</th><th scope=col>PC_47</th><th scope=col>PC_48</th><th scope=col>PC_49</th><th scope=col>PC_50</th></tr>\n",
       "\t<tr><th></th><th scope=col>&lt;dbl&gt;</th><th scope=col>&lt;dbl&gt;</th><th scope=col>&lt;dbl&gt;</th><th scope=col>&lt;dbl&gt;</th><th scope=col>&lt;dbl&gt;</th><th scope=col>&lt;dbl&gt;</th><th scope=col>&lt;dbl&gt;</th><th scope=col>&lt;dbl&gt;</th><th scope=col>&lt;dbl&gt;</th><th scope=col>&lt;dbl&gt;</th><th scope=col>⋯</th><th scope=col>&lt;dbl&gt;</th><th scope=col>&lt;dbl&gt;</th><th scope=col>&lt;dbl&gt;</th><th scope=col>&lt;dbl&gt;</th><th scope=col>&lt;dbl&gt;</th><th scope=col>&lt;dbl&gt;</th><th scope=col>&lt;dbl&gt;</th><th scope=col>&lt;dbl&gt;</th><th scope=col>&lt;dbl&gt;</th><th scope=col>&lt;dbl&gt;</th></tr>\n",
       "</thead>\n",
       "<tbody>\n",
       "\t<tr><th scope=row>AAACGGGCACTTAAGC-1</th><td> 12.587889</td><td>-98.91617782</td><td> 58.4239076</td><td> 56.1671055</td><td>-75.0999752</td><td>-30.9405266</td><td>-17.908536</td><td>-8.6468133</td><td>-18.8143336</td><td> -0.1347962</td><td>⋯</td><td>  0.7398204</td><td>  2.572673</td><td>  1.626228</td><td> 4.730643</td><td>-6.534745</td><td> 2.8043219</td><td> 1.8675014</td><td>-1.5390686</td><td> 2.747941</td><td>-4.4871811</td></tr>\n",
       "\t<tr><th scope=row>AAACGGGTCTTGTTTG-1</th><td> 71.726976</td><td>-40.43483841</td><td>-26.5660683</td><td> -8.2085904</td><td>  3.0373513</td><td> -6.6830850</td><td>  3.140615</td><td> 0.2622130</td><td> -2.9817984</td><td>-13.0061208</td><td>⋯</td><td> -5.2165253</td><td> -2.827687</td><td> -6.288438</td><td> 4.462295</td><td>-1.318414</td><td> 2.7736648</td><td> 1.4923112</td><td> 3.2304557</td><td>-3.093596</td><td> 3.6374036</td></tr>\n",
       "\t<tr><th scope=row>AAAGATGAGTACGACG-1</th><td>114.227714</td><td>-18.37090524</td><td> -5.8610621</td><td> -2.7658289</td><td>  8.1539573</td><td> -0.2314968</td><td> -2.310401</td><td>17.8736656</td><td>-16.5043198</td><td>  0.6937847</td><td>⋯</td><td>  1.3929371</td><td>-10.154055</td><td> -5.356420</td><td> 5.337847</td><td> 2.728363</td><td>-3.2723993</td><td> 6.5395276</td><td> 2.8360781</td><td> 7.601294</td><td>-2.9030833</td></tr>\n",
       "\t<tr><th scope=row>AAAGATGGTGTGAATA-1</th><td>  4.638304</td><td> -0.01520754</td><td> -0.8049306</td><td> -0.1219464</td><td> -0.1026753</td><td> -0.7130981</td><td> -1.239762</td><td> 0.1920019</td><td> -0.7853569</td><td>  0.5338786</td><td>⋯</td><td>-33.9339058</td><td>  3.685187</td><td>-23.936067</td><td>-4.637643</td><td>16.280755</td><td>-0.4405251</td><td> 0.2744323</td><td> 1.3212978</td><td>-5.570765</td><td> 6.0577013</td></tr>\n",
       "\t<tr><th scope=row>AAAGATGTCAAACAAG-1</th><td>101.992474</td><td>-19.96421766</td><td> -4.6261625</td><td>-14.1385655</td><td> -4.3466661</td><td> -3.0140406</td><td>  3.563465</td><td> 3.2068705</td><td>  2.0104378</td><td> -8.5142853</td><td>⋯</td><td>  0.8585795</td><td> -3.115371</td><td> -5.211083</td><td>-4.127748</td><td>-2.828146</td><td> 3.8525361</td><td> 8.5323927</td><td> 6.6730024</td><td>-6.935018</td><td>-1.7055142</td></tr>\n",
       "\t<tr><th scope=row>AAAGCAACACCGCTAG-1</th><td>109.077699</td><td>-34.34089077</td><td> -2.8050476</td><td>-20.5820662</td><td> -2.2429447</td><td>  4.2788333</td><td>  4.648691</td><td> 0.6254874</td><td> -7.9713660</td><td> -4.2661325</td><td>⋯</td><td>  7.9078065</td><td> -1.086741</td><td> -3.263176</td><td> 7.274395</td><td> 5.115474</td><td> 0.3143351</td><td>-3.1797835</td><td> 0.2656692</td><td> 4.852209</td><td>-0.8092426</td></tr>\n",
       "</tbody>\n",
       "</table>\n"
      ],
      "text/latex": [
       "A data.frame: 6 × 50\n",
       "\\begin{tabular}{r|lllllllllllllllllllll}\n",
       "  & PC\\_1 & PC\\_2 & PC\\_3 & PC\\_4 & PC\\_5 & PC\\_6 & PC\\_7 & PC\\_8 & PC\\_9 & PC\\_10 & ⋯ & PC\\_41 & PC\\_42 & PC\\_43 & PC\\_44 & PC\\_45 & PC\\_46 & PC\\_47 & PC\\_48 & PC\\_49 & PC\\_50\\\\\n",
       "  & <dbl> & <dbl> & <dbl> & <dbl> & <dbl> & <dbl> & <dbl> & <dbl> & <dbl> & <dbl> & ⋯ & <dbl> & <dbl> & <dbl> & <dbl> & <dbl> & <dbl> & <dbl> & <dbl> & <dbl> & <dbl>\\\\\n",
       "\\hline\n",
       "\tAAACGGGCACTTAAGC-1 &  12.587889 & -98.91617782 &  58.4239076 &  56.1671055 & -75.0999752 & -30.9405266 & -17.908536 & -8.6468133 & -18.8143336 &  -0.1347962 & ⋯ &   0.7398204 &   2.572673 &   1.626228 &  4.730643 & -6.534745 &  2.8043219 &  1.8675014 & -1.5390686 &  2.747941 & -4.4871811\\\\\n",
       "\tAAACGGGTCTTGTTTG-1 &  71.726976 & -40.43483841 & -26.5660683 &  -8.2085904 &   3.0373513 &  -6.6830850 &   3.140615 &  0.2622130 &  -2.9817984 & -13.0061208 & ⋯ &  -5.2165253 &  -2.827687 &  -6.288438 &  4.462295 & -1.318414 &  2.7736648 &  1.4923112 &  3.2304557 & -3.093596 &  3.6374036\\\\\n",
       "\tAAAGATGAGTACGACG-1 & 114.227714 & -18.37090524 &  -5.8610621 &  -2.7658289 &   8.1539573 &  -0.2314968 &  -2.310401 & 17.8736656 & -16.5043198 &   0.6937847 & ⋯ &   1.3929371 & -10.154055 &  -5.356420 &  5.337847 &  2.728363 & -3.2723993 &  6.5395276 &  2.8360781 &  7.601294 & -2.9030833\\\\\n",
       "\tAAAGATGGTGTGAATA-1 &   4.638304 &  -0.01520754 &  -0.8049306 &  -0.1219464 &  -0.1026753 &  -0.7130981 &  -1.239762 &  0.1920019 &  -0.7853569 &   0.5338786 & ⋯ & -33.9339058 &   3.685187 & -23.936067 & -4.637643 & 16.280755 & -0.4405251 &  0.2744323 &  1.3212978 & -5.570765 &  6.0577013\\\\\n",
       "\tAAAGATGTCAAACAAG-1 & 101.992474 & -19.96421766 &  -4.6261625 & -14.1385655 &  -4.3466661 &  -3.0140406 &   3.563465 &  3.2068705 &   2.0104378 &  -8.5142853 & ⋯ &   0.8585795 &  -3.115371 &  -5.211083 & -4.127748 & -2.828146 &  3.8525361 &  8.5323927 &  6.6730024 & -6.935018 & -1.7055142\\\\\n",
       "\tAAAGCAACACCGCTAG-1 & 109.077699 & -34.34089077 &  -2.8050476 & -20.5820662 &  -2.2429447 &   4.2788333 &   4.648691 &  0.6254874 &  -7.9713660 &  -4.2661325 & ⋯ &   7.9078065 &  -1.086741 &  -3.263176 &  7.274395 &  5.115474 &  0.3143351 & -3.1797835 &  0.2656692 &  4.852209 & -0.8092426\\\\\n",
       "\\end{tabular}\n"
      ],
      "text/markdown": [
       "\n",
       "A data.frame: 6 × 50\n",
       "\n",
       "| <!--/--> | PC_1 &lt;dbl&gt; | PC_2 &lt;dbl&gt; | PC_3 &lt;dbl&gt; | PC_4 &lt;dbl&gt; | PC_5 &lt;dbl&gt; | PC_6 &lt;dbl&gt; | PC_7 &lt;dbl&gt; | PC_8 &lt;dbl&gt; | PC_9 &lt;dbl&gt; | PC_10 &lt;dbl&gt; | ⋯ ⋯ | PC_41 &lt;dbl&gt; | PC_42 &lt;dbl&gt; | PC_43 &lt;dbl&gt; | PC_44 &lt;dbl&gt; | PC_45 &lt;dbl&gt; | PC_46 &lt;dbl&gt; | PC_47 &lt;dbl&gt; | PC_48 &lt;dbl&gt; | PC_49 &lt;dbl&gt; | PC_50 &lt;dbl&gt; |\n",
       "|---|---|---|---|---|---|---|---|---|---|---|---|---|---|---|---|---|---|---|---|---|---|\n",
       "| AAACGGGCACTTAAGC-1 |  12.587889 | -98.91617782 |  58.4239076 |  56.1671055 | -75.0999752 | -30.9405266 | -17.908536 | -8.6468133 | -18.8143336 |  -0.1347962 | ⋯ |   0.7398204 |   2.572673 |   1.626228 |  4.730643 | -6.534745 |  2.8043219 |  1.8675014 | -1.5390686 |  2.747941 | -4.4871811 |\n",
       "| AAACGGGTCTTGTTTG-1 |  71.726976 | -40.43483841 | -26.5660683 |  -8.2085904 |   3.0373513 |  -6.6830850 |   3.140615 |  0.2622130 |  -2.9817984 | -13.0061208 | ⋯ |  -5.2165253 |  -2.827687 |  -6.288438 |  4.462295 | -1.318414 |  2.7736648 |  1.4923112 |  3.2304557 | -3.093596 |  3.6374036 |\n",
       "| AAAGATGAGTACGACG-1 | 114.227714 | -18.37090524 |  -5.8610621 |  -2.7658289 |   8.1539573 |  -0.2314968 |  -2.310401 | 17.8736656 | -16.5043198 |   0.6937847 | ⋯ |   1.3929371 | -10.154055 |  -5.356420 |  5.337847 |  2.728363 | -3.2723993 |  6.5395276 |  2.8360781 |  7.601294 | -2.9030833 |\n",
       "| AAAGATGGTGTGAATA-1 |   4.638304 |  -0.01520754 |  -0.8049306 |  -0.1219464 |  -0.1026753 |  -0.7130981 |  -1.239762 |  0.1920019 |  -0.7853569 |   0.5338786 | ⋯ | -33.9339058 |   3.685187 | -23.936067 | -4.637643 | 16.280755 | -0.4405251 |  0.2744323 |  1.3212978 | -5.570765 |  6.0577013 |\n",
       "| AAAGATGTCAAACAAG-1 | 101.992474 | -19.96421766 |  -4.6261625 | -14.1385655 |  -4.3466661 |  -3.0140406 |   3.563465 |  3.2068705 |   2.0104378 |  -8.5142853 | ⋯ |   0.8585795 |  -3.115371 |  -5.211083 | -4.127748 | -2.828146 |  3.8525361 |  8.5323927 |  6.6730024 | -6.935018 | -1.7055142 |\n",
       "| AAAGCAACACCGCTAG-1 | 109.077699 | -34.34089077 |  -2.8050476 | -20.5820662 |  -2.2429447 |   4.2788333 |   4.648691 |  0.6254874 |  -7.9713660 |  -4.2661325 | ⋯ |   7.9078065 |  -1.086741 |  -3.263176 |  7.274395 |  5.115474 |  0.3143351 | -3.1797835 |  0.2656692 |  4.852209 | -0.8092426 |\n",
       "\n"
      ],
      "text/plain": [
       "                   PC_1       PC_2         PC_3        PC_4        PC_5       \n",
       "AAACGGGCACTTAAGC-1  12.587889 -98.91617782  58.4239076  56.1671055 -75.0999752\n",
       "AAACGGGTCTTGTTTG-1  71.726976 -40.43483841 -26.5660683  -8.2085904   3.0373513\n",
       "AAAGATGAGTACGACG-1 114.227714 -18.37090524  -5.8610621  -2.7658289   8.1539573\n",
       "AAAGATGGTGTGAATA-1   4.638304  -0.01520754  -0.8049306  -0.1219464  -0.1026753\n",
       "AAAGATGTCAAACAAG-1 101.992474 -19.96421766  -4.6261625 -14.1385655  -4.3466661\n",
       "AAAGCAACACCGCTAG-1 109.077699 -34.34089077  -2.8050476 -20.5820662  -2.2429447\n",
       "                   PC_6        PC_7       PC_8       PC_9        PC_10       ⋯\n",
       "AAACGGGCACTTAAGC-1 -30.9405266 -17.908536 -8.6468133 -18.8143336  -0.1347962 ⋯\n",
       "AAACGGGTCTTGTTTG-1  -6.6830850   3.140615  0.2622130  -2.9817984 -13.0061208 ⋯\n",
       "AAAGATGAGTACGACG-1  -0.2314968  -2.310401 17.8736656 -16.5043198   0.6937847 ⋯\n",
       "AAAGATGGTGTGAATA-1  -0.7130981  -1.239762  0.1920019  -0.7853569   0.5338786 ⋯\n",
       "AAAGATGTCAAACAAG-1  -3.0140406   3.563465  3.2068705   2.0104378  -8.5142853 ⋯\n",
       "AAAGCAACACCGCTAG-1   4.2788333   4.648691  0.6254874  -7.9713660  -4.2661325 ⋯\n",
       "                   PC_41       PC_42      PC_43      PC_44     PC_45    \n",
       "AAACGGGCACTTAAGC-1   0.7398204   2.572673   1.626228  4.730643 -6.534745\n",
       "AAACGGGTCTTGTTTG-1  -5.2165253  -2.827687  -6.288438  4.462295 -1.318414\n",
       "AAAGATGAGTACGACG-1   1.3929371 -10.154055  -5.356420  5.337847  2.728363\n",
       "AAAGATGGTGTGAATA-1 -33.9339058   3.685187 -23.936067 -4.637643 16.280755\n",
       "AAAGATGTCAAACAAG-1   0.8585795  -3.115371  -5.211083 -4.127748 -2.828146\n",
       "AAAGCAACACCGCTAG-1   7.9078065  -1.086741  -3.263176  7.274395  5.115474\n",
       "                   PC_46      PC_47      PC_48      PC_49     PC_50     \n",
       "AAACGGGCACTTAAGC-1  2.8043219  1.8675014 -1.5390686  2.747941 -4.4871811\n",
       "AAACGGGTCTTGTTTG-1  2.7736648  1.4923112  3.2304557 -3.093596  3.6374036\n",
       "AAAGATGAGTACGACG-1 -3.2723993  6.5395276  2.8360781  7.601294 -2.9030833\n",
       "AAAGATGGTGTGAATA-1 -0.4405251  0.2744323  1.3212978 -5.570765  6.0577013\n",
       "AAAGATGTCAAACAAG-1  3.8525361  8.5323927  6.6730024 -6.935018 -1.7055142\n",
       "AAAGCAACACCGCTAG-1  0.3143351 -3.1797835  0.2656692  4.852209 -0.8092426"
      ]
     },
     "metadata": {},
     "output_type": "display_data"
    }
   ],
   "source": [
    "pca_df = as.data.frame(Embeddings(sce_mono, reduction = \"pca\"))\n",
    "dim(pca_df)\n",
    "head(pca_df)"
   ]
  },
  {
   "cell_type": "code",
   "execution_count": 11,
   "id": "f992f9c3",
   "metadata": {},
   "outputs": [],
   "source": [
    "pca_df$cell = rownames(pca_df)\n",
    "df$cell = rownames(df)\n",
    "df_to_plot = inner_join(pca_df, df, by = \"cell\")"
   ]
  },
  {
   "cell_type": "code",
   "execution_count": 12,
   "id": "d5abd356",
   "metadata": {},
   "outputs": [
    {
     "data": {
      "image/png": "[encoded data removed]",
      "text/plain": [
       "plot without title"
      ]
     },
     "metadata": {
      "image/png": {
       "height": 420,
       "width": 420
      }
     },
     "output_type": "display_data"
    }
   ],
   "source": [
    "ggplot(df_to_plot, aes(x=PC_1, y = PC_2, colour = cell_type)) + geom_point() + theme_bw()"
   ]
  },
  {
   "cell_type": "code",
   "execution_count": 13,
   "id": "2b2e24b9",
   "metadata": {},
   "outputs": [
    {
     "data": {
      "text/html": [
       "<table class=\"dataframe\">\n",
       "<caption>A data.frame: 6 × 2</caption>\n",
       "<thead>\n",
       "\t<tr><th></th><th scope=col>cell_type</th><th scope=col>colours</th></tr>\n",
       "\t<tr><th></th><th scope=col>&lt;chr&gt;</th><th scope=col>&lt;chr&gt;</th></tr>\n",
       "</thead>\n",
       "<tbody>\n",
       "\t<tr><th scope=row>1</th><td>CD4+ KLRB1- T cell     </td><td>#882E72</td></tr>\n",
       "\t<tr><th scope=row>2</th><td>CD4+ KLRB1+ T cell     </td><td>#B178A6</td></tr>\n",
       "\t<tr><th scope=row>3</th><td>CD4+ SOX4+ T cell      </td><td>#D6C1DE</td></tr>\n",
       "\t<tr><th scope=row>4</th><td>CD8+ GNLY+ NKG7+ T cell</td><td>#1965B0</td></tr>\n",
       "\t<tr><th scope=row>5</th><td>CD8+ LTB+ T cell       </td><td>#5289C7</td></tr>\n",
       "\t<tr><th scope=row>6</th><td>CD8+ S100B+ T cell     </td><td>#7BAFDE</td></tr>\n",
       "</tbody>\n",
       "</table>\n"
      ],
      "text/latex": [
       "A data.frame: 6 × 2\n",
       "\\begin{tabular}{r|ll}\n",
       "  & cell\\_type & colours\\\\\n",
       "  & <chr> & <chr>\\\\\n",
       "\\hline\n",
       "\t1 & CD4+ KLRB1- T cell      & \\#882E72\\\\\n",
       "\t2 & CD4+ KLRB1+ T cell      & \\#B178A6\\\\\n",
       "\t3 & CD4+ SOX4+ T cell       & \\#D6C1DE\\\\\n",
       "\t4 & CD8+ GNLY+ NKG7+ T cell & \\#1965B0\\\\\n",
       "\t5 & CD8+ LTB+ T cell        & \\#5289C7\\\\\n",
       "\t6 & CD8+ S100B+ T cell      & \\#7BAFDE\\\\\n",
       "\\end{tabular}\n"
      ],
      "text/markdown": [
       "\n",
       "A data.frame: 6 × 2\n",
       "\n",
       "| <!--/--> | cell_type &lt;chr&gt; | colours &lt;chr&gt; |\n",
       "|---|---|---|\n",
       "| 1 | CD4+ KLRB1- T cell      | #882E72 |\n",
       "| 2 | CD4+ KLRB1+ T cell      | #B178A6 |\n",
       "| 3 | CD4+ SOX4+ T cell       | #D6C1DE |\n",
       "| 4 | CD8+ GNLY+ NKG7+ T cell | #1965B0 |\n",
       "| 5 | CD8+ LTB+ T cell        | #5289C7 |\n",
       "| 6 | CD8+ S100B+ T cell      | #7BAFDE |\n",
       "\n"
      ],
      "text/plain": [
       "  cell_type               colours\n",
       "1 CD4+ KLRB1- T cell      #882E72\n",
       "2 CD4+ KLRB1+ T cell      #B178A6\n",
       "3 CD4+ SOX4+ T cell       #D6C1DE\n",
       "4 CD8+ GNLY+ NKG7+ T cell #1965B0\n",
       "5 CD8+ LTB+ T cell        #5289C7\n",
       "6 CD8+ S100B+ T cell      #7BAFDE"
      ]
     },
     "metadata": {},
     "output_type": "display_data"
    }
   ],
   "source": [
    "df_colours = read.csv(paste0(mydir,\"celltype_colours.csv\"), row.names=1)\n",
    "head(df_colours)"
   ]
  },
  {
   "cell_type": "code",
   "execution_count": 14,
   "id": "29b49b00",
   "metadata": {},
   "outputs": [
    {
     "data": {
      "image/png": "[encoded data removed]",
      "text/plain": [
       "plot without title"
      ]
     },
     "metadata": {
      "image/png": {
       "height": 420,
       "width": 420
      }
     },
     "output_type": "display_data"
    }
   ],
   "source": [
    "ggplot(df_to_plot, aes(x=PC_1, y = PC_2, colour = cell_type)) + geom_point() + theme_bw() +\n",
    "    scale_colour_manual(values = df_colours[grep(\"Mono\",df_colours$cell_type),]$colours) "
   ]
  },
  {
   "cell_type": "code",
   "execution_count": 18,
   "id": "ad282f44",
   "metadata": {},
   "outputs": [
    {
     "data": {
      "text/html": [
       "'/share/ScratchGeneral/anncuo/OneK1K/input_files_CellRegMap/PCs_monocytes.csv'"
      ],
      "text/latex": [
       "'/share/ScratchGeneral/anncuo/OneK1K/input\\_files\\_CellRegMap/PCs\\_monocytes.csv'"
      ],
      "text/markdown": [
       "'/share/ScratchGeneral/anncuo/OneK1K/input_files_CellRegMap/PCs_monocytes.csv'"
      ],
      "text/plain": [
       "[1] \"/share/ScratchGeneral/anncuo/OneK1K/input_files_CellRegMap/PCs_monocytes.csv\""
      ]
     },
     "metadata": {},
     "output_type": "display_data"
    }
   ],
   "source": [
    "C_filename = paste0(input_files_dir,\"PCs_monocytes.csv\")\n",
    "C_filename"
   ]
  },
  {
   "cell_type": "code",
   "execution_count": 19,
   "id": "49965c49",
   "metadata": {},
   "outputs": [],
   "source": [
    "write.csv(pca_df, C_filename)"
   ]
  },
  {
   "cell_type": "code",
   "execution_count": null,
   "id": "15574ed3",
   "metadata": {},
   "outputs": [],
   "source": []
  },
  {
   "cell_type": "code",
   "execution_count": 43,
   "id": "859cfe48",
   "metadata": {},
   "outputs": [
    {
     "data": {
      "text/html": [
       "<table class=\"dataframe\">\n",
       "<caption>A data.frame: 6 × 8</caption>\n",
       "<thead>\n",
       "\t<tr><th></th><th scope=col>sampleid</th><th scope=col>SEX</th><th scope=col>PCA1</th><th scope=col>PCA2</th><th scope=col>PCA3</th><th scope=col>PCA4</th><th scope=col>PCA5</th><th scope=col>PCA6</th></tr>\n",
       "\t<tr><th></th><th scope=col>&lt;chr&gt;</th><th scope=col>&lt;int&gt;</th><th scope=col>&lt;dbl&gt;</th><th scope=col>&lt;dbl&gt;</th><th scope=col>&lt;dbl&gt;</th><th scope=col>&lt;dbl&gt;</th><th scope=col>&lt;dbl&gt;</th><th scope=col>&lt;dbl&gt;</th></tr>\n",
       "</thead>\n",
       "<tbody>\n",
       "\t<tr><th scope=row>1</th><td>1_1      </td><td>2</td><td> 0.02775250</td><td>-0.000592955</td><td> 0.00757785</td><td>-0.01409290</td><td> 0.009323330</td><td> 0.031375400</td></tr>\n",
       "\t<tr><th scope=row>2</th><td>10_10    </td><td>2</td><td> 0.02052560</td><td> 0.040040200</td><td>-0.01847820</td><td> 0.03658380</td><td>-0.014617600</td><td> 0.013474100</td></tr>\n",
       "\t<tr><th scope=row>3</th><td>1000_1001</td><td>2</td><td> 0.01081720</td><td>-0.004233600</td><td> 0.00537891</td><td>-0.02058190</td><td>-0.027539500</td><td>-0.039861100</td></tr>\n",
       "\t<tr><th scope=row>4</th><td>1001_1002</td><td>2</td><td> 0.01211940</td><td> 0.000788658</td><td>-0.00671328</td><td>-0.01969960</td><td>-0.000180694</td><td> 0.037322600</td></tr>\n",
       "\t<tr><th scope=row>5</th><td>1002_1003</td><td>1</td><td>-0.05739470</td><td>-0.019243700</td><td> 0.00442424</td><td> 0.00619121</td><td>-0.010877400</td><td>-0.013743000</td></tr>\n",
       "\t<tr><th scope=row>6</th><td>1003_1004</td><td>2</td><td> 0.00532722</td><td> 0.008837440</td><td>-0.01299120</td><td> 0.00997544</td><td>-0.024854800</td><td> 0.000188687</td></tr>\n",
       "</tbody>\n",
       "</table>\n"
      ],
      "text/latex": [
       "A data.frame: 6 × 8\n",
       "\\begin{tabular}{r|llllllll}\n",
       "  & sampleid & SEX & PCA1 & PCA2 & PCA3 & PCA4 & PCA5 & PCA6\\\\\n",
       "  & <chr> & <int> & <dbl> & <dbl> & <dbl> & <dbl> & <dbl> & <dbl>\\\\\n",
       "\\hline\n",
       "\t1 & 1\\_1       & 2 &  0.02775250 & -0.000592955 &  0.00757785 & -0.01409290 &  0.009323330 &  0.031375400\\\\\n",
       "\t2 & 10\\_10     & 2 &  0.02052560 &  0.040040200 & -0.01847820 &  0.03658380 & -0.014617600 &  0.013474100\\\\\n",
       "\t3 & 1000\\_1001 & 2 &  0.01081720 & -0.004233600 &  0.00537891 & -0.02058190 & -0.027539500 & -0.039861100\\\\\n",
       "\t4 & 1001\\_1002 & 2 &  0.01211940 &  0.000788658 & -0.00671328 & -0.01969960 & -0.000180694 &  0.037322600\\\\\n",
       "\t5 & 1002\\_1003 & 1 & -0.05739470 & -0.019243700 &  0.00442424 &  0.00619121 & -0.010877400 & -0.013743000\\\\\n",
       "\t6 & 1003\\_1004 & 2 &  0.00532722 &  0.008837440 & -0.01299120 &  0.00997544 & -0.024854800 &  0.000188687\\\\\n",
       "\\end{tabular}\n"
      ],
      "text/markdown": [
       "\n",
       "A data.frame: 6 × 8\n",
       "\n",
       "| <!--/--> | sampleid &lt;chr&gt; | SEX &lt;int&gt; | PCA1 &lt;dbl&gt; | PCA2 &lt;dbl&gt; | PCA3 &lt;dbl&gt; | PCA4 &lt;dbl&gt; | PCA5 &lt;dbl&gt; | PCA6 &lt;dbl&gt; |\n",
       "|---|---|---|---|---|---|---|---|---|\n",
       "| 1 | 1_1       | 2 |  0.02775250 | -0.000592955 |  0.00757785 | -0.01409290 |  0.009323330 |  0.031375400 |\n",
       "| 2 | 10_10     | 2 |  0.02052560 |  0.040040200 | -0.01847820 |  0.03658380 | -0.014617600 |  0.013474100 |\n",
       "| 3 | 1000_1001 | 2 |  0.01081720 | -0.004233600 |  0.00537891 | -0.02058190 | -0.027539500 | -0.039861100 |\n",
       "| 4 | 1001_1002 | 2 |  0.01211940 |  0.000788658 | -0.00671328 | -0.01969960 | -0.000180694 |  0.037322600 |\n",
       "| 5 | 1002_1003 | 1 | -0.05739470 | -0.019243700 |  0.00442424 |  0.00619121 | -0.010877400 | -0.013743000 |\n",
       "| 6 | 1003_1004 | 2 |  0.00532722 |  0.008837440 | -0.01299120 |  0.00997544 | -0.024854800 |  0.000188687 |\n",
       "\n"
      ],
      "text/plain": [
       "  sampleid  SEX PCA1        PCA2         PCA3        PCA4        PCA5        \n",
       "1 1_1       2    0.02775250 -0.000592955  0.00757785 -0.01409290  0.009323330\n",
       "2 10_10     2    0.02052560  0.040040200 -0.01847820  0.03658380 -0.014617600\n",
       "3 1000_1001 2    0.01081720 -0.004233600  0.00537891 -0.02058190 -0.027539500\n",
       "4 1001_1002 2    0.01211940  0.000788658 -0.00671328 -0.01969960 -0.000180694\n",
       "5 1002_1003 1   -0.05739470 -0.019243700  0.00442424  0.00619121 -0.010877400\n",
       "6 1003_1004 2    0.00532722  0.008837440 -0.01299120  0.00997544 -0.024854800\n",
       "  PCA6        \n",
       "1  0.031375400\n",
       "2  0.013474100\n",
       "3 -0.039861100\n",
       "4  0.037322600\n",
       "5 -0.013743000\n",
       "6  0.000188687"
      ]
     },
     "metadata": {},
     "output_type": "display_data"
    }
   ],
   "source": [
    "## SEX Covariates\n",
    "covs_filename =  paste0(mydir,\"/covariates.tsv\")\n",
    "df_covs = read.csv(covs_filename, sep=\"\\t\")\n",
    "head(df_covs)"
   ]
  },
  {
   "cell_type": "code",
   "execution_count": 44,
   "id": "baf16060",
   "metadata": {},
   "outputs": [
    {
     "data": {
      "text/html": [
       "<table class=\"dataframe\">\n",
       "<caption>A data.frame: 6 × 2</caption>\n",
       "<thead>\n",
       "\t<tr><th></th><th scope=col>sampleid</th><th scope=col>age</th></tr>\n",
       "\t<tr><th></th><th scope=col>&lt;chr&gt;</th><th scope=col>&lt;int&gt;</th></tr>\n",
       "</thead>\n",
       "<tbody>\n",
       "\t<tr><th scope=row>1</th><td>1_1</td><td>65</td></tr>\n",
       "\t<tr><th scope=row>2</th><td>2_2</td><td>48</td></tr>\n",
       "\t<tr><th scope=row>3</th><td>3_3</td><td>53</td></tr>\n",
       "\t<tr><th scope=row>4</th><td>4_4</td><td>48</td></tr>\n",
       "\t<tr><th scope=row>5</th><td>5_5</td><td>41</td></tr>\n",
       "\t<tr><th scope=row>6</th><td>6_6</td><td>79</td></tr>\n",
       "</tbody>\n",
       "</table>\n"
      ],
      "text/latex": [
       "A data.frame: 6 × 2\n",
       "\\begin{tabular}{r|ll}\n",
       "  & sampleid & age\\\\\n",
       "  & <chr> & <int>\\\\\n",
       "\\hline\n",
       "\t1 & 1\\_1 & 65\\\\\n",
       "\t2 & 2\\_2 & 48\\\\\n",
       "\t3 & 3\\_3 & 53\\\\\n",
       "\t4 & 4\\_4 & 48\\\\\n",
       "\t5 & 5\\_5 & 41\\\\\n",
       "\t6 & 6\\_6 & 79\\\\\n",
       "\\end{tabular}\n"
      ],
      "text/markdown": [
       "\n",
       "A data.frame: 6 × 2\n",
       "\n",
       "| <!--/--> | sampleid &lt;chr&gt; | age &lt;int&gt; |\n",
       "|---|---|---|\n",
       "| 1 | 1_1 | 65 |\n",
       "| 2 | 2_2 | 48 |\n",
       "| 3 | 3_3 | 53 |\n",
       "| 4 | 4_4 | 48 |\n",
       "| 5 | 5_5 | 41 |\n",
       "| 6 | 6_6 | 79 |\n",
       "\n"
      ],
      "text/plain": [
       "  sampleid age\n",
       "1 1_1      65 \n",
       "2 2_2      48 \n",
       "3 3_3      53 \n",
       "4 4_4      48 \n",
       "5 5_5      41 \n",
       "6 6_6      79 "
      ]
     },
     "metadata": {},
     "output_type": "display_data"
    }
   ],
   "source": [
    "## Age covariates\n",
    "age_filename =  paste0(mydir,\"/age_covariate.tsv\")\n",
    "df_age = read.csv(age_filename, sep=\"\\t\")\n",
    "colnames(df_age)[1] = \"sampleid\"\n",
    "head(df_age)"
   ]
  },
  {
   "cell_type": "code",
   "execution_count": 45,
   "id": "c6152cb3",
   "metadata": {},
   "outputs": [
    {
     "name": "stderr",
     "output_type": "stream",
     "text": [
      "\u001b[1m\u001b[22mJoining, by = \"sampleid\"\n"
     ]
    },
    {
     "data": {
      "text/html": [
       "<table class=\"dataframe\">\n",
       "<caption>A data.frame: 2 × 9</caption>\n",
       "<thead>\n",
       "\t<tr><th></th><th scope=col>sampleid</th><th scope=col>SEX</th><th scope=col>PCA1</th><th scope=col>PCA2</th><th scope=col>PCA3</th><th scope=col>PCA4</th><th scope=col>PCA5</th><th scope=col>PCA6</th><th scope=col>age</th></tr>\n",
       "\t<tr><th></th><th scope=col>&lt;chr&gt;</th><th scope=col>&lt;int&gt;</th><th scope=col>&lt;dbl&gt;</th><th scope=col>&lt;dbl&gt;</th><th scope=col>&lt;dbl&gt;</th><th scope=col>&lt;dbl&gt;</th><th scope=col>&lt;dbl&gt;</th><th scope=col>&lt;dbl&gt;</th><th scope=col>&lt;int&gt;</th></tr>\n",
       "</thead>\n",
       "<tbody>\n",
       "\t<tr><th scope=row>1</th><td>1_1  </td><td>2</td><td>0.0277525</td><td>-0.000592955</td><td> 0.00757785</td><td>-0.0140929</td><td> 0.00932333</td><td>0.0313754</td><td>65</td></tr>\n",
       "\t<tr><th scope=row>2</th><td>10_10</td><td>2</td><td>0.0205256</td><td> 0.040040200</td><td>-0.01847820</td><td> 0.0365838</td><td>-0.01461760</td><td>0.0134741</td><td>78</td></tr>\n",
       "</tbody>\n",
       "</table>\n"
      ],
      "text/latex": [
       "A data.frame: 2 × 9\n",
       "\\begin{tabular}{r|lllllllll}\n",
       "  & sampleid & SEX & PCA1 & PCA2 & PCA3 & PCA4 & PCA5 & PCA6 & age\\\\\n",
       "  & <chr> & <int> & <dbl> & <dbl> & <dbl> & <dbl> & <dbl> & <dbl> & <int>\\\\\n",
       "\\hline\n",
       "\t1 & 1\\_1   & 2 & 0.0277525 & -0.000592955 &  0.00757785 & -0.0140929 &  0.00932333 & 0.0313754 & 65\\\\\n",
       "\t2 & 10\\_10 & 2 & 0.0205256 &  0.040040200 & -0.01847820 &  0.0365838 & -0.01461760 & 0.0134741 & 78\\\\\n",
       "\\end{tabular}\n"
      ],
      "text/markdown": [
       "\n",
       "A data.frame: 2 × 9\n",
       "\n",
       "| <!--/--> | sampleid &lt;chr&gt; | SEX &lt;int&gt; | PCA1 &lt;dbl&gt; | PCA2 &lt;dbl&gt; | PCA3 &lt;dbl&gt; | PCA4 &lt;dbl&gt; | PCA5 &lt;dbl&gt; | PCA6 &lt;dbl&gt; | age &lt;int&gt; |\n",
       "|---|---|---|---|---|---|---|---|---|---|\n",
       "| 1 | 1_1   | 2 | 0.0277525 | -0.000592955 |  0.00757785 | -0.0140929 |  0.00932333 | 0.0313754 | 65 |\n",
       "| 2 | 10_10 | 2 | 0.0205256 |  0.040040200 | -0.01847820 |  0.0365838 | -0.01461760 | 0.0134741 | 78 |\n",
       "\n"
      ],
      "text/plain": [
       "  sampleid SEX PCA1      PCA2         PCA3        PCA4       PCA5       \n",
       "1 1_1      2   0.0277525 -0.000592955  0.00757785 -0.0140929  0.00932333\n",
       "2 10_10    2   0.0205256  0.040040200 -0.01847820  0.0365838 -0.01461760\n",
       "  PCA6      age\n",
       "1 0.0313754 65 \n",
       "2 0.0134741 78 "
      ]
     },
     "metadata": {},
     "output_type": "display_data"
    },
    {
     "data": {
      "text/html": [
       "<style>\n",
       ".list-inline {list-style: none; margin:0; padding: 0}\n",
       ".list-inline>li {display: inline-block}\n",
       ".list-inline>li:not(:last-child)::after {content: \"\\00b7\"; padding: 0 .5ex}\n",
       "</style>\n",
       "<ol class=list-inline><li>'sampleid'</li><li>'SEX'</li><li>'PCA1'</li><li>'PCA2'</li><li>'PCA3'</li><li>'PCA4'</li><li>'PCA5'</li><li>'PCA6'</li><li>'age'</li></ol>\n"
      ],
      "text/latex": [
       "\\begin{enumerate*}\n",
       "\\item 'sampleid'\n",
       "\\item 'SEX'\n",
       "\\item 'PCA1'\n",
       "\\item 'PCA2'\n",
       "\\item 'PCA3'\n",
       "\\item 'PCA4'\n",
       "\\item 'PCA5'\n",
       "\\item 'PCA6'\n",
       "\\item 'age'\n",
       "\\end{enumerate*}\n"
      ],
      "text/markdown": [
       "1. 'sampleid'\n",
       "2. 'SEX'\n",
       "3. 'PCA1'\n",
       "4. 'PCA2'\n",
       "5. 'PCA3'\n",
       "6. 'PCA4'\n",
       "7. 'PCA5'\n",
       "8. 'PCA6'\n",
       "9. 'age'\n",
       "\n",
       "\n"
      ],
      "text/plain": [
       "[1] \"sampleid\" \"SEX\"      \"PCA1\"     \"PCA2\"     \"PCA3\"     \"PCA4\"     \"PCA5\"    \n",
       "[8] \"PCA6\"     \"age\"     "
      ]
     },
     "metadata": {},
     "output_type": "display_data"
    }
   ],
   "source": [
    "meta_w_sex_age = inner_join(df_covs, df_age)\n",
    "head(meta_w_sex_age,2)\n",
    "colnames(meta_w_sex_age)"
   ]
  },
  {
   "cell_type": "code",
   "execution_count": 46,
   "id": "da1bcb5b",
   "metadata": {},
   "outputs": [
    {
     "data": {
      "text/html": [
       "53399"
      ],
      "text/latex": [
       "53399"
      ],
      "text/markdown": [
       "53399"
      ],
      "text/plain": [
       "[1] 53399"
      ]
     },
     "metadata": {},
     "output_type": "display_data"
    },
    {
     "data": {
      "text/html": [
       "982"
      ],
      "text/latex": [
       "982"
      ],
      "text/markdown": [
       "982"
      ],
      "text/plain": [
       "[1] 982"
      ]
     },
     "metadata": {},
     "output_type": "display_data"
    }
   ],
   "source": [
    "nrow(pca_df)\n",
    "nrow(meta_w_sex_age)"
   ]
  },
  {
   "cell_type": "code",
   "execution_count": 47,
   "id": "f063db09",
   "metadata": {},
   "outputs": [],
   "source": [
    "smf_df$cell = smf_df$phenotype_sample_id\n",
    "pca_df$cell = rownames(pca_df)"
   ]
  },
  {
   "cell_type": "code",
   "execution_count": 48,
   "id": "e8de1ec6",
   "metadata": {},
   "outputs": [
    {
     "data": {
      "text/html": [
       "<table class=\"dataframe\">\n",
       "<caption>A data.frame: 2 × 54</caption>\n",
       "<thead>\n",
       "\t<tr><th></th><th scope=col>PC_1</th><th scope=col>PC_2</th><th scope=col>PC_3</th><th scope=col>PC_4</th><th scope=col>PC_5</th><th scope=col>PC_6</th><th scope=col>PC_7</th><th scope=col>PC_8</th><th scope=col>PC_9</th><th scope=col>PC_10</th><th scope=col>⋯</th><th scope=col>PC_45</th><th scope=col>PC_46</th><th scope=col>PC_47</th><th scope=col>PC_48</th><th scope=col>PC_49</th><th scope=col>PC_50</th><th scope=col>cell</th><th scope=col>phenotype_sample_id</th><th scope=col>genotype_individual_id</th><th scope=col>individual_long</th></tr>\n",
       "\t<tr><th></th><th scope=col>&lt;dbl&gt;</th><th scope=col>&lt;dbl&gt;</th><th scope=col>&lt;dbl&gt;</th><th scope=col>&lt;dbl&gt;</th><th scope=col>&lt;dbl&gt;</th><th scope=col>&lt;dbl&gt;</th><th scope=col>&lt;dbl&gt;</th><th scope=col>&lt;dbl&gt;</th><th scope=col>&lt;dbl&gt;</th><th scope=col>&lt;dbl&gt;</th><th scope=col>⋯</th><th scope=col>&lt;dbl&gt;</th><th scope=col>&lt;dbl&gt;</th><th scope=col>&lt;dbl&gt;</th><th scope=col>&lt;dbl&gt;</th><th scope=col>&lt;dbl&gt;</th><th scope=col>&lt;dbl&gt;</th><th scope=col>&lt;chr&gt;</th><th scope=col>&lt;chr&gt;</th><th scope=col>&lt;chr&gt;</th><th scope=col>&lt;chr&gt;</th></tr>\n",
       "</thead>\n",
       "<tbody>\n",
       "\t<tr><th scope=row>1</th><td>12.58789</td><td>-98.91618</td><td> 58.42391</td><td>56.16711</td><td>-75.099975</td><td>-30.940527</td><td>-17.908536</td><td>-8.646813</td><td>-18.814334</td><td> -0.1347962</td><td>⋯</td><td>-6.534745</td><td>2.804322</td><td>1.867501</td><td>-1.539069</td><td> 2.747941</td><td>-4.487181</td><td>AAACGGGCACTTAAGC-1</td><td>AAACGGGCACTTAAGC-1</td><td>684</td><td>683_684</td></tr>\n",
       "\t<tr><th scope=row>2</th><td>71.72698</td><td>-40.43484</td><td>-26.56607</td><td>-8.20859</td><td>  3.037351</td><td> -6.683085</td><td>  3.140615</td><td> 0.262213</td><td> -2.981798</td><td>-13.0061208</td><td>⋯</td><td>-1.318414</td><td>2.773665</td><td>1.492311</td><td> 3.230456</td><td>-3.093596</td><td> 3.637404</td><td>AAACGGGTCTTGTTTG-1</td><td>AAACGGGTCTTGTTTG-1</td><td>694</td><td>693_694</td></tr>\n",
       "</tbody>\n",
       "</table>\n"
      ],
      "text/latex": [
       "A data.frame: 2 × 54\n",
       "\\begin{tabular}{r|lllllllllllllllllllll}\n",
       "  & PC\\_1 & PC\\_2 & PC\\_3 & PC\\_4 & PC\\_5 & PC\\_6 & PC\\_7 & PC\\_8 & PC\\_9 & PC\\_10 & ⋯ & PC\\_45 & PC\\_46 & PC\\_47 & PC\\_48 & PC\\_49 & PC\\_50 & cell & phenotype\\_sample\\_id & genotype\\_individual\\_id & individual\\_long\\\\\n",
       "  & <dbl> & <dbl> & <dbl> & <dbl> & <dbl> & <dbl> & <dbl> & <dbl> & <dbl> & <dbl> & ⋯ & <dbl> & <dbl> & <dbl> & <dbl> & <dbl> & <dbl> & <chr> & <chr> & <chr> & <chr>\\\\\n",
       "\\hline\n",
       "\t1 & 12.58789 & -98.91618 &  58.42391 & 56.16711 & -75.099975 & -30.940527 & -17.908536 & -8.646813 & -18.814334 &  -0.1347962 & ⋯ & -6.534745 & 2.804322 & 1.867501 & -1.539069 &  2.747941 & -4.487181 & AAACGGGCACTTAAGC-1 & AAACGGGCACTTAAGC-1 & 684 & 683\\_684\\\\\n",
       "\t2 & 71.72698 & -40.43484 & -26.56607 & -8.20859 &   3.037351 &  -6.683085 &   3.140615 &  0.262213 &  -2.981798 & -13.0061208 & ⋯ & -1.318414 & 2.773665 & 1.492311 &  3.230456 & -3.093596 &  3.637404 & AAACGGGTCTTGTTTG-1 & AAACGGGTCTTGTTTG-1 & 694 & 693\\_694\\\\\n",
       "\\end{tabular}\n"
      ],
      "text/markdown": [
       "\n",
       "A data.frame: 2 × 54\n",
       "\n",
       "| <!--/--> | PC_1 &lt;dbl&gt; | PC_2 &lt;dbl&gt; | PC_3 &lt;dbl&gt; | PC_4 &lt;dbl&gt; | PC_5 &lt;dbl&gt; | PC_6 &lt;dbl&gt; | PC_7 &lt;dbl&gt; | PC_8 &lt;dbl&gt; | PC_9 &lt;dbl&gt; | PC_10 &lt;dbl&gt; | ⋯ ⋯ | PC_45 &lt;dbl&gt; | PC_46 &lt;dbl&gt; | PC_47 &lt;dbl&gt; | PC_48 &lt;dbl&gt; | PC_49 &lt;dbl&gt; | PC_50 &lt;dbl&gt; | cell &lt;chr&gt; | phenotype_sample_id &lt;chr&gt; | genotype_individual_id &lt;chr&gt; | individual_long &lt;chr&gt; |\n",
       "|---|---|---|---|---|---|---|---|---|---|---|---|---|---|---|---|---|---|---|---|---|---|\n",
       "| 1 | 12.58789 | -98.91618 |  58.42391 | 56.16711 | -75.099975 | -30.940527 | -17.908536 | -8.646813 | -18.814334 |  -0.1347962 | ⋯ | -6.534745 | 2.804322 | 1.867501 | -1.539069 |  2.747941 | -4.487181 | AAACGGGCACTTAAGC-1 | AAACGGGCACTTAAGC-1 | 684 | 683_684 |\n",
       "| 2 | 71.72698 | -40.43484 | -26.56607 | -8.20859 |   3.037351 |  -6.683085 |   3.140615 |  0.262213 |  -2.981798 | -13.0061208 | ⋯ | -1.318414 | 2.773665 | 1.492311 |  3.230456 | -3.093596 |  3.637404 | AAACGGGTCTTGTTTG-1 | AAACGGGTCTTGTTTG-1 | 694 | 693_694 |\n",
       "\n"
      ],
      "text/plain": [
       "  PC_1     PC_2      PC_3      PC_4     PC_5       PC_6       PC_7      \n",
       "1 12.58789 -98.91618  58.42391 56.16711 -75.099975 -30.940527 -17.908536\n",
       "2 71.72698 -40.43484 -26.56607 -8.20859   3.037351  -6.683085   3.140615\n",
       "  PC_8      PC_9       PC_10       ⋯ PC_45     PC_46    PC_47    PC_48    \n",
       "1 -8.646813 -18.814334  -0.1347962 ⋯ -6.534745 2.804322 1.867501 -1.539069\n",
       "2  0.262213  -2.981798 -13.0061208 ⋯ -1.318414 2.773665 1.492311  3.230456\n",
       "  PC_49     PC_50     cell               phenotype_sample_id\n",
       "1  2.747941 -4.487181 AAACGGGCACTTAAGC-1 AAACGGGCACTTAAGC-1 \n",
       "2 -3.093596  3.637404 AAACGGGTCTTGTTTG-1 AAACGGGTCTTGTTTG-1 \n",
       "  genotype_individual_id individual_long\n",
       "1 684                    683_684        \n",
       "2 694                    693_694        "
      ]
     },
     "metadata": {},
     "output_type": "display_data"
    },
    {
     "data": {
      "text/html": [
       "53399"
      ],
      "text/latex": [
       "53399"
      ],
      "text/markdown": [
       "53399"
      ],
      "text/plain": [
       "[1] 53399"
      ]
     },
     "metadata": {},
     "output_type": "display_data"
    }
   ],
   "source": [
    "pca_donor = inner_join(pca_df, smf_df, by=\"cell\")\n",
    "head(pca_donor,2)\n",
    "nrow(pca_donor)"
   ]
  },
  {
   "cell_type": "code",
   "execution_count": 49,
   "id": "34b4a028",
   "metadata": {},
   "outputs": [
    {
     "data": {
      "text/html": [
       "53399"
      ],
      "text/latex": [
       "53399"
      ],
      "text/markdown": [
       "53399"
      ],
      "text/plain": [
       "[1] 53399"
      ]
     },
     "metadata": {},
     "output_type": "display_data"
    }
   ],
   "source": [
    "length(unique(pca_donor$cell))"
   ]
  },
  {
   "cell_type": "code",
   "execution_count": 51,
   "id": "78f93248",
   "metadata": {},
   "outputs": [
    {
     "data": {
      "text/html": [
       "<table class=\"dataframe\">\n",
       "<caption>A data.frame: 2 × 10</caption>\n",
       "<thead>\n",
       "\t<tr><th></th><th scope=col>sampleid</th><th scope=col>SEX</th><th scope=col>PCA1</th><th scope=col>PCA2</th><th scope=col>PCA3</th><th scope=col>PCA4</th><th scope=col>PCA5</th><th scope=col>PCA6</th><th scope=col>age</th><th scope=col>individual</th></tr>\n",
       "\t<tr><th></th><th scope=col>&lt;chr&gt;</th><th scope=col>&lt;int&gt;</th><th scope=col>&lt;dbl&gt;</th><th scope=col>&lt;dbl&gt;</th><th scope=col>&lt;dbl&gt;</th><th scope=col>&lt;dbl&gt;</th><th scope=col>&lt;dbl&gt;</th><th scope=col>&lt;dbl&gt;</th><th scope=col>&lt;int&gt;</th><th scope=col>&lt;chr&gt;</th></tr>\n",
       "</thead>\n",
       "<tbody>\n",
       "\t<tr><th scope=row>1</th><td>1_1  </td><td>2</td><td>0.0277525</td><td>-0.000592955</td><td> 0.00757785</td><td>-0.0140929</td><td> 0.00932333</td><td>0.0313754</td><td>65</td><td>1_1  </td></tr>\n",
       "\t<tr><th scope=row>2</th><td>10_10</td><td>2</td><td>0.0205256</td><td> 0.040040200</td><td>-0.01847820</td><td> 0.0365838</td><td>-0.01461760</td><td>0.0134741</td><td>78</td><td>10_10</td></tr>\n",
       "</tbody>\n",
       "</table>\n"
      ],
      "text/latex": [
       "A data.frame: 2 × 10\n",
       "\\begin{tabular}{r|llllllllll}\n",
       "  & sampleid & SEX & PCA1 & PCA2 & PCA3 & PCA4 & PCA5 & PCA6 & age & individual\\\\\n",
       "  & <chr> & <int> & <dbl> & <dbl> & <dbl> & <dbl> & <dbl> & <dbl> & <int> & <chr>\\\\\n",
       "\\hline\n",
       "\t1 & 1\\_1   & 2 & 0.0277525 & -0.000592955 &  0.00757785 & -0.0140929 &  0.00932333 & 0.0313754 & 65 & 1\\_1  \\\\\n",
       "\t2 & 10\\_10 & 2 & 0.0205256 &  0.040040200 & -0.01847820 &  0.0365838 & -0.01461760 & 0.0134741 & 78 & 10\\_10\\\\\n",
       "\\end{tabular}\n"
      ],
      "text/markdown": [
       "\n",
       "A data.frame: 2 × 10\n",
       "\n",
       "| <!--/--> | sampleid &lt;chr&gt; | SEX &lt;int&gt; | PCA1 &lt;dbl&gt; | PCA2 &lt;dbl&gt; | PCA3 &lt;dbl&gt; | PCA4 &lt;dbl&gt; | PCA5 &lt;dbl&gt; | PCA6 &lt;dbl&gt; | age &lt;int&gt; | individual &lt;chr&gt; |\n",
       "|---|---|---|---|---|---|---|---|---|---|---|\n",
       "| 1 | 1_1   | 2 | 0.0277525 | -0.000592955 |  0.00757785 | -0.0140929 |  0.00932333 | 0.0313754 | 65 | 1_1   |\n",
       "| 2 | 10_10 | 2 | 0.0205256 |  0.040040200 | -0.01847820 |  0.0365838 | -0.01461760 | 0.0134741 | 78 | 10_10 |\n",
       "\n"
      ],
      "text/plain": [
       "  sampleid SEX PCA1      PCA2         PCA3        PCA4       PCA5       \n",
       "1 1_1      2   0.0277525 -0.000592955  0.00757785 -0.0140929  0.00932333\n",
       "2 10_10    2   0.0205256  0.040040200 -0.01847820  0.0365838 -0.01461760\n",
       "  PCA6      age individual\n",
       "1 0.0313754 65  1_1       \n",
       "2 0.0134741 78  10_10     "
      ]
     },
     "metadata": {},
     "output_type": "display_data"
    },
    {
     "data": {
      "text/html": [
       "982"
      ],
      "text/latex": [
       "982"
      ],
      "text/markdown": [
       "982"
      ],
      "text/plain": [
       "[1] 982"
      ]
     },
     "metadata": {},
     "output_type": "display_data"
    },
    {
     "data": {
      "text/html": [
       "982"
      ],
      "text/latex": [
       "982"
      ],
      "text/markdown": [
       "982"
      ],
      "text/plain": [
       "[1] 982"
      ]
     },
     "metadata": {},
     "output_type": "display_data"
    }
   ],
   "source": [
    "meta_w_sex_age$individual = meta_w_sex_age$sampleid\n",
    "head(meta_w_sex_age,2)\n",
    "nrow(meta_w_sex_age)\n",
    "length(unique(meta_w_sex_age$individual))"
   ]
  },
  {
   "cell_type": "code",
   "execution_count": 52,
   "id": "49b18eab",
   "metadata": {},
   "outputs": [],
   "source": [
    "pca_donor$individual = pca_donor$individual_long\n",
    "contexts_df = inner_join(pca_donor, meta_w_sex_age, by=\"individual\")"
   ]
  },
  {
   "cell_type": "code",
   "execution_count": 53,
   "id": "ed09c5d9",
   "metadata": {},
   "outputs": [
    {
     "data": {
      "text/html": [
       "53399"
      ],
      "text/latex": [
       "53399"
      ],
      "text/markdown": [
       "53399"
      ],
      "text/plain": [
       "[1] 53399"
      ]
     },
     "metadata": {},
     "output_type": "display_data"
    }
   ],
   "source": [
    "length(unique(contexts_df$cell))"
   ]
  },
  {
   "cell_type": "code",
   "execution_count": 54,
   "id": "b38c2407",
   "metadata": {},
   "outputs": [
    {
     "data": {
      "text/html": [
       "<table class=\"dataframe\">\n",
       "<caption>A data.frame: 2 × 64</caption>\n",
       "<thead>\n",
       "\t<tr><th></th><th scope=col>PC_1</th><th scope=col>PC_2</th><th scope=col>PC_3</th><th scope=col>PC_4</th><th scope=col>PC_5</th><th scope=col>PC_6</th><th scope=col>PC_7</th><th scope=col>PC_8</th><th scope=col>PC_9</th><th scope=col>PC_10</th><th scope=col>⋯</th><th scope=col>individual</th><th scope=col>sampleid</th><th scope=col>SEX</th><th scope=col>PCA1</th><th scope=col>PCA2</th><th scope=col>PCA3</th><th scope=col>PCA4</th><th scope=col>PCA5</th><th scope=col>PCA6</th><th scope=col>age</th></tr>\n",
       "\t<tr><th></th><th scope=col>&lt;dbl&gt;</th><th scope=col>&lt;dbl&gt;</th><th scope=col>&lt;dbl&gt;</th><th scope=col>&lt;dbl&gt;</th><th scope=col>&lt;dbl&gt;</th><th scope=col>&lt;dbl&gt;</th><th scope=col>&lt;dbl&gt;</th><th scope=col>&lt;dbl&gt;</th><th scope=col>&lt;dbl&gt;</th><th scope=col>&lt;dbl&gt;</th><th scope=col>⋯</th><th scope=col>&lt;chr&gt;</th><th scope=col>&lt;chr&gt;</th><th scope=col>&lt;int&gt;</th><th scope=col>&lt;dbl&gt;</th><th scope=col>&lt;dbl&gt;</th><th scope=col>&lt;dbl&gt;</th><th scope=col>&lt;dbl&gt;</th><th scope=col>&lt;dbl&gt;</th><th scope=col>&lt;dbl&gt;</th><th scope=col>&lt;int&gt;</th></tr>\n",
       "</thead>\n",
       "<tbody>\n",
       "\t<tr><th scope=row>1</th><td>12.58789</td><td>-98.91618</td><td> 58.42391</td><td>56.16711</td><td>-75.099975</td><td>-30.940527</td><td>-17.908536</td><td>-8.646813</td><td>-18.814334</td><td> -0.1347962</td><td>⋯</td><td>683_684</td><td>683_684</td><td>1</td><td>0.0279223</td><td> 0.0562922</td><td>-0.03088590</td><td>0.0178595</td><td> 0.000407331</td><td>-0.00736431</td><td>78</td></tr>\n",
       "\t<tr><th scope=row>2</th><td>71.72698</td><td>-40.43484</td><td>-26.56607</td><td>-8.20859</td><td>  3.037351</td><td> -6.683085</td><td>  3.140615</td><td> 0.262213</td><td> -2.981798</td><td>-13.0061208</td><td>⋯</td><td>693_694</td><td>693_694</td><td>2</td><td>0.0325190</td><td>-0.1007030</td><td>-0.00874335</td><td>0.0346661</td><td>-0.021470900</td><td> 0.01984950</td><td>88</td></tr>\n",
       "</tbody>\n",
       "</table>\n"
      ],
      "text/latex": [
       "A data.frame: 2 × 64\n",
       "\\begin{tabular}{r|lllllllllllllllllllll}\n",
       "  & PC\\_1 & PC\\_2 & PC\\_3 & PC\\_4 & PC\\_5 & PC\\_6 & PC\\_7 & PC\\_8 & PC\\_9 & PC\\_10 & ⋯ & individual & sampleid & SEX & PCA1 & PCA2 & PCA3 & PCA4 & PCA5 & PCA6 & age\\\\\n",
       "  & <dbl> & <dbl> & <dbl> & <dbl> & <dbl> & <dbl> & <dbl> & <dbl> & <dbl> & <dbl> & ⋯ & <chr> & <chr> & <int> & <dbl> & <dbl> & <dbl> & <dbl> & <dbl> & <dbl> & <int>\\\\\n",
       "\\hline\n",
       "\t1 & 12.58789 & -98.91618 &  58.42391 & 56.16711 & -75.099975 & -30.940527 & -17.908536 & -8.646813 & -18.814334 &  -0.1347962 & ⋯ & 683\\_684 & 683\\_684 & 1 & 0.0279223 &  0.0562922 & -0.03088590 & 0.0178595 &  0.000407331 & -0.00736431 & 78\\\\\n",
       "\t2 & 71.72698 & -40.43484 & -26.56607 & -8.20859 &   3.037351 &  -6.683085 &   3.140615 &  0.262213 &  -2.981798 & -13.0061208 & ⋯ & 693\\_694 & 693\\_694 & 2 & 0.0325190 & -0.1007030 & -0.00874335 & 0.0346661 & -0.021470900 &  0.01984950 & 88\\\\\n",
       "\\end{tabular}\n"
      ],
      "text/markdown": [
       "\n",
       "A data.frame: 2 × 64\n",
       "\n",
       "| <!--/--> | PC_1 &lt;dbl&gt; | PC_2 &lt;dbl&gt; | PC_3 &lt;dbl&gt; | PC_4 &lt;dbl&gt; | PC_5 &lt;dbl&gt; | PC_6 &lt;dbl&gt; | PC_7 &lt;dbl&gt; | PC_8 &lt;dbl&gt; | PC_9 &lt;dbl&gt; | PC_10 &lt;dbl&gt; | ⋯ ⋯ | individual &lt;chr&gt; | sampleid &lt;chr&gt; | SEX &lt;int&gt; | PCA1 &lt;dbl&gt; | PCA2 &lt;dbl&gt; | PCA3 &lt;dbl&gt; | PCA4 &lt;dbl&gt; | PCA5 &lt;dbl&gt; | PCA6 &lt;dbl&gt; | age &lt;int&gt; |\n",
       "|---|---|---|---|---|---|---|---|---|---|---|---|---|---|---|---|---|---|---|---|---|---|\n",
       "| 1 | 12.58789 | -98.91618 |  58.42391 | 56.16711 | -75.099975 | -30.940527 | -17.908536 | -8.646813 | -18.814334 |  -0.1347962 | ⋯ | 683_684 | 683_684 | 1 | 0.0279223 |  0.0562922 | -0.03088590 | 0.0178595 |  0.000407331 | -0.00736431 | 78 |\n",
       "| 2 | 71.72698 | -40.43484 | -26.56607 | -8.20859 |   3.037351 |  -6.683085 |   3.140615 |  0.262213 |  -2.981798 | -13.0061208 | ⋯ | 693_694 | 693_694 | 2 | 0.0325190 | -0.1007030 | -0.00874335 | 0.0346661 | -0.021470900 |  0.01984950 | 88 |\n",
       "\n"
      ],
      "text/plain": [
       "  PC_1     PC_2      PC_3      PC_4     PC_5       PC_6       PC_7      \n",
       "1 12.58789 -98.91618  58.42391 56.16711 -75.099975 -30.940527 -17.908536\n",
       "2 71.72698 -40.43484 -26.56607 -8.20859   3.037351  -6.683085   3.140615\n",
       "  PC_8      PC_9       PC_10       ⋯ individual sampleid SEX PCA1     \n",
       "1 -8.646813 -18.814334  -0.1347962 ⋯ 683_684    683_684  1   0.0279223\n",
       "2  0.262213  -2.981798 -13.0061208 ⋯ 693_694    693_694  2   0.0325190\n",
       "  PCA2       PCA3        PCA4      PCA5         PCA6        age\n",
       "1  0.0562922 -0.03088590 0.0178595  0.000407331 -0.00736431 78 \n",
       "2 -0.1007030 -0.00874335 0.0346661 -0.021470900  0.01984950 88 "
      ]
     },
     "metadata": {},
     "output_type": "display_data"
    },
    {
     "data": {
      "text/html": [
       "53399"
      ],
      "text/latex": [
       "53399"
      ],
      "text/markdown": [
       "53399"
      ],
      "text/plain": [
       "[1] 53399"
      ]
     },
     "metadata": {},
     "output_type": "display_data"
    }
   ],
   "source": [
    "head(contexts_df,2)\n",
    "nrow(contexts_df)"
   ]
  },
  {
   "cell_type": "code",
   "execution_count": 68,
   "id": "704da78a",
   "metadata": {},
   "outputs": [
    {
     "data": {
      "text/html": [
       "<table class=\"dataframe\">\n",
       "<caption>A data.frame: 2 × 22</caption>\n",
       "<thead>\n",
       "\t<tr><th></th><th scope=col>SEX</th><th scope=col>age</th><th scope=col>PC_1</th><th scope=col>PC_2</th><th scope=col>PC_3</th><th scope=col>PC_4</th><th scope=col>PC_5</th><th scope=col>PC_6</th><th scope=col>PC_7</th><th scope=col>PC_8</th><th scope=col>⋯</th><th scope=col>PC_11</th><th scope=col>PC_12</th><th scope=col>PC_13</th><th scope=col>PC_14</th><th scope=col>PC_15</th><th scope=col>PC_16</th><th scope=col>PC_17</th><th scope=col>PC_18</th><th scope=col>PC_19</th><th scope=col>PC_20</th></tr>\n",
       "\t<tr><th></th><th scope=col>&lt;int&gt;</th><th scope=col>&lt;int&gt;</th><th scope=col>&lt;dbl&gt;</th><th scope=col>&lt;dbl&gt;</th><th scope=col>&lt;dbl&gt;</th><th scope=col>&lt;dbl&gt;</th><th scope=col>&lt;dbl&gt;</th><th scope=col>&lt;dbl&gt;</th><th scope=col>&lt;dbl&gt;</th><th scope=col>&lt;dbl&gt;</th><th scope=col>⋯</th><th scope=col>&lt;dbl&gt;</th><th scope=col>&lt;dbl&gt;</th><th scope=col>&lt;dbl&gt;</th><th scope=col>&lt;dbl&gt;</th><th scope=col>&lt;dbl&gt;</th><th scope=col>&lt;dbl&gt;</th><th scope=col>&lt;dbl&gt;</th><th scope=col>&lt;dbl&gt;</th><th scope=col>&lt;dbl&gt;</th><th scope=col>&lt;dbl&gt;</th></tr>\n",
       "</thead>\n",
       "<tbody>\n",
       "\t<tr><th scope=row>AAACGGGCACTTAAGC-1</th><td>1</td><td>78</td><td>12.58789</td><td>-98.91618</td><td> 58.42391</td><td>56.16711</td><td>-75.099975</td><td>-30.940527</td><td>-17.908536</td><td>-8.646813</td><td>⋯</td><td>-3.397215</td><td>13.4413218</td><td> 1.779408</td><td>-2.430423</td><td> 2.872384</td><td>-2.109803</td><td> 2.675679</td><td>-0.8878944</td><td> 0.7524842</td><td>  6.337516</td></tr>\n",
       "\t<tr><th scope=row>AAACGGGTCTTGTTTG-1</th><td>2</td><td>88</td><td>71.72698</td><td>-40.43484</td><td>-26.56607</td><td>-8.20859</td><td>  3.037351</td><td> -6.683085</td><td>  3.140615</td><td> 0.262213</td><td>⋯</td><td> 2.341336</td><td> 0.6716006</td><td>-2.382973</td><td>-4.243087</td><td>-4.503169</td><td>-7.362024</td><td>13.097628</td><td>-3.5250838</td><td>-0.9140721</td><td>-10.979878</td></tr>\n",
       "</tbody>\n",
       "</table>\n"
      ],
      "text/latex": [
       "A data.frame: 2 × 22\n",
       "\\begin{tabular}{r|lllllllllllllllllllll}\n",
       "  & SEX & age & PC\\_1 & PC\\_2 & PC\\_3 & PC\\_4 & PC\\_5 & PC\\_6 & PC\\_7 & PC\\_8 & ⋯ & PC\\_11 & PC\\_12 & PC\\_13 & PC\\_14 & PC\\_15 & PC\\_16 & PC\\_17 & PC\\_18 & PC\\_19 & PC\\_20\\\\\n",
       "  & <int> & <int> & <dbl> & <dbl> & <dbl> & <dbl> & <dbl> & <dbl> & <dbl> & <dbl> & ⋯ & <dbl> & <dbl> & <dbl> & <dbl> & <dbl> & <dbl> & <dbl> & <dbl> & <dbl> & <dbl>\\\\\n",
       "\\hline\n",
       "\tAAACGGGCACTTAAGC-1 & 1 & 78 & 12.58789 & -98.91618 &  58.42391 & 56.16711 & -75.099975 & -30.940527 & -17.908536 & -8.646813 & ⋯ & -3.397215 & 13.4413218 &  1.779408 & -2.430423 &  2.872384 & -2.109803 &  2.675679 & -0.8878944 &  0.7524842 &   6.337516\\\\\n",
       "\tAAACGGGTCTTGTTTG-1 & 2 & 88 & 71.72698 & -40.43484 & -26.56607 & -8.20859 &   3.037351 &  -6.683085 &   3.140615 &  0.262213 & ⋯ &  2.341336 &  0.6716006 & -2.382973 & -4.243087 & -4.503169 & -7.362024 & 13.097628 & -3.5250838 & -0.9140721 & -10.979878\\\\\n",
       "\\end{tabular}\n"
      ],
      "text/markdown": [
       "\n",
       "A data.frame: 2 × 22\n",
       "\n",
       "| <!--/--> | SEX &lt;int&gt; | age &lt;int&gt; | PC_1 &lt;dbl&gt; | PC_2 &lt;dbl&gt; | PC_3 &lt;dbl&gt; | PC_4 &lt;dbl&gt; | PC_5 &lt;dbl&gt; | PC_6 &lt;dbl&gt; | PC_7 &lt;dbl&gt; | PC_8 &lt;dbl&gt; | ⋯ ⋯ | PC_11 &lt;dbl&gt; | PC_12 &lt;dbl&gt; | PC_13 &lt;dbl&gt; | PC_14 &lt;dbl&gt; | PC_15 &lt;dbl&gt; | PC_16 &lt;dbl&gt; | PC_17 &lt;dbl&gt; | PC_18 &lt;dbl&gt; | PC_19 &lt;dbl&gt; | PC_20 &lt;dbl&gt; |\n",
       "|---|---|---|---|---|---|---|---|---|---|---|---|---|---|---|---|---|---|---|---|---|---|\n",
       "| AAACGGGCACTTAAGC-1 | 1 | 78 | 12.58789 | -98.91618 |  58.42391 | 56.16711 | -75.099975 | -30.940527 | -17.908536 | -8.646813 | ⋯ | -3.397215 | 13.4413218 |  1.779408 | -2.430423 |  2.872384 | -2.109803 |  2.675679 | -0.8878944 |  0.7524842 |   6.337516 |\n",
       "| AAACGGGTCTTGTTTG-1 | 2 | 88 | 71.72698 | -40.43484 | -26.56607 | -8.20859 |   3.037351 |  -6.683085 |   3.140615 |  0.262213 | ⋯ |  2.341336 |  0.6716006 | -2.382973 | -4.243087 | -4.503169 | -7.362024 | 13.097628 | -3.5250838 | -0.9140721 | -10.979878 |\n",
       "\n"
      ],
      "text/plain": [
       "                   SEX age PC_1     PC_2      PC_3      PC_4     PC_5      \n",
       "AAACGGGCACTTAAGC-1 1   78  12.58789 -98.91618  58.42391 56.16711 -75.099975\n",
       "AAACGGGTCTTGTTTG-1 2   88  71.72698 -40.43484 -26.56607 -8.20859   3.037351\n",
       "                   PC_6       PC_7       PC_8      ⋯ PC_11     PC_12     \n",
       "AAACGGGCACTTAAGC-1 -30.940527 -17.908536 -8.646813 ⋯ -3.397215 13.4413218\n",
       "AAACGGGTCTTGTTTG-1  -6.683085   3.140615  0.262213 ⋯  2.341336  0.6716006\n",
       "                   PC_13     PC_14     PC_15     PC_16     PC_17     PC_18     \n",
       "AAACGGGCACTTAAGC-1  1.779408 -2.430423  2.872384 -2.109803  2.675679 -0.8878944\n",
       "AAACGGGTCTTGTTTG-1 -2.382973 -4.243087 -4.503169 -7.362024 13.097628 -3.5250838\n",
       "                   PC_19      PC_20     \n",
       "AAACGGGCACTTAAGC-1  0.7524842   6.337516\n",
       "AAACGGGTCTTGTTTG-1 -0.9140721 -10.979878"
      ]
     },
     "metadata": {},
     "output_type": "display_data"
    },
    {
     "data": {
      "text/html": [
       "53399"
      ],
      "text/latex": [
       "53399"
      ],
      "text/markdown": [
       "53399"
      ],
      "text/plain": [
       "[1] 53399"
      ]
     },
     "metadata": {},
     "output_type": "display_data"
    }
   ],
   "source": [
    "rownames(contexts_df) = contexts_df$cell\n",
    "cols = c(\"SEX\",\"age\",paste0(\"PC_\",1:20))\n",
    "pcs_age_sex = contexts_df[,cols]\n",
    "head(pcs_age_sex,2)\n",
    "nrow(pcs_age_sex)"
   ]
  },
  {
   "cell_type": "code",
   "execution_count": null,
   "id": "bf8adc99",
   "metadata": {},
   "outputs": [],
   "source": []
  },
  {
   "cell_type": "code",
   "execution_count": 69,
   "id": "dab73a32",
   "metadata": {},
   "outputs": [
    {
     "data": {
      "text/html": [
       "'/share/ScratchGeneral/anncuo/OneK1K/input_files_CellRegMap/PCs_sex_age_monocytes.csv'"
      ],
      "text/latex": [
       "'/share/ScratchGeneral/anncuo/OneK1K/input\\_files\\_CellRegMap/PCs\\_sex\\_age\\_monocytes.csv'"
      ],
      "text/markdown": [
       "'/share/ScratchGeneral/anncuo/OneK1K/input_files_CellRegMap/PCs_sex_age_monocytes.csv'"
      ],
      "text/plain": [
       "[1] \"/share/ScratchGeneral/anncuo/OneK1K/input_files_CellRegMap/PCs_sex_age_monocytes.csv\""
      ]
     },
     "metadata": {},
     "output_type": "display_data"
    }
   ],
   "source": [
    "C_filename1 = paste0(input_files_dir,\"PCs_sex_age_monocytes.csv\")\n",
    "C_filename1"
   ]
  },
  {
   "cell_type": "code",
   "execution_count": 70,
   "id": "392e15ec",
   "metadata": {},
   "outputs": [],
   "source": [
    "write.csv(pcs_age_sex, C_filename1)"
   ]
  },
  {
   "cell_type": "code",
   "execution_count": 61,
   "id": "1ef947cd",
   "metadata": {},
   "outputs": [
    {
     "data": {
      "text/html": [
       "<table class=\"dataframe\">\n",
       "<caption>A data.frame: 2 × 21</caption>\n",
       "<thead>\n",
       "\t<tr><th></th><th scope=col>SEX</th><th scope=col>PC_1</th><th scope=col>PC_2</th><th scope=col>PC_3</th><th scope=col>PC_4</th><th scope=col>PC_5</th><th scope=col>PC_6</th><th scope=col>PC_7</th><th scope=col>PC_8</th><th scope=col>PC_9</th><th scope=col>⋯</th><th scope=col>PC_11</th><th scope=col>PC_12</th><th scope=col>PC_13</th><th scope=col>PC_14</th><th scope=col>PC_15</th><th scope=col>PC_16</th><th scope=col>PC_17</th><th scope=col>PC_18</th><th scope=col>PC_19</th><th scope=col>PC_20</th></tr>\n",
       "\t<tr><th></th><th scope=col>&lt;int&gt;</th><th scope=col>&lt;dbl&gt;</th><th scope=col>&lt;dbl&gt;</th><th scope=col>&lt;dbl&gt;</th><th scope=col>&lt;dbl&gt;</th><th scope=col>&lt;dbl&gt;</th><th scope=col>&lt;dbl&gt;</th><th scope=col>&lt;dbl&gt;</th><th scope=col>&lt;dbl&gt;</th><th scope=col>&lt;dbl&gt;</th><th scope=col>⋯</th><th scope=col>&lt;dbl&gt;</th><th scope=col>&lt;dbl&gt;</th><th scope=col>&lt;dbl&gt;</th><th scope=col>&lt;dbl&gt;</th><th scope=col>&lt;dbl&gt;</th><th scope=col>&lt;dbl&gt;</th><th scope=col>&lt;dbl&gt;</th><th scope=col>&lt;dbl&gt;</th><th scope=col>&lt;dbl&gt;</th><th scope=col>&lt;dbl&gt;</th></tr>\n",
       "</thead>\n",
       "<tbody>\n",
       "\t<tr><th scope=row>AAACGGGCACTTAAGC-1</th><td>1</td><td>12.58789</td><td>-98.91618</td><td> 58.42391</td><td>56.16711</td><td>-75.099975</td><td>-30.940527</td><td>-17.908536</td><td>-8.646813</td><td>-18.814334</td><td>⋯</td><td>-3.397215</td><td>13.4413218</td><td> 1.779408</td><td>-2.430423</td><td> 2.872384</td><td>-2.109803</td><td> 2.675679</td><td>-0.8878944</td><td> 0.7524842</td><td>  6.337516</td></tr>\n",
       "\t<tr><th scope=row>AAACGGGTCTTGTTTG-1</th><td>2</td><td>71.72698</td><td>-40.43484</td><td>-26.56607</td><td>-8.20859</td><td>  3.037351</td><td> -6.683085</td><td>  3.140615</td><td> 0.262213</td><td> -2.981798</td><td>⋯</td><td> 2.341336</td><td> 0.6716006</td><td>-2.382973</td><td>-4.243087</td><td>-4.503169</td><td>-7.362024</td><td>13.097628</td><td>-3.5250838</td><td>-0.9140721</td><td>-10.979878</td></tr>\n",
       "</tbody>\n",
       "</table>\n"
      ],
      "text/latex": [
       "A data.frame: 2 × 21\n",
       "\\begin{tabular}{r|lllllllllllllllllllll}\n",
       "  & SEX & PC\\_1 & PC\\_2 & PC\\_3 & PC\\_4 & PC\\_5 & PC\\_6 & PC\\_7 & PC\\_8 & PC\\_9 & ⋯ & PC\\_11 & PC\\_12 & PC\\_13 & PC\\_14 & PC\\_15 & PC\\_16 & PC\\_17 & PC\\_18 & PC\\_19 & PC\\_20\\\\\n",
       "  & <int> & <dbl> & <dbl> & <dbl> & <dbl> & <dbl> & <dbl> & <dbl> & <dbl> & <dbl> & ⋯ & <dbl> & <dbl> & <dbl> & <dbl> & <dbl> & <dbl> & <dbl> & <dbl> & <dbl> & <dbl>\\\\\n",
       "\\hline\n",
       "\tAAACGGGCACTTAAGC-1 & 1 & 12.58789 & -98.91618 &  58.42391 & 56.16711 & -75.099975 & -30.940527 & -17.908536 & -8.646813 & -18.814334 & ⋯ & -3.397215 & 13.4413218 &  1.779408 & -2.430423 &  2.872384 & -2.109803 &  2.675679 & -0.8878944 &  0.7524842 &   6.337516\\\\\n",
       "\tAAACGGGTCTTGTTTG-1 & 2 & 71.72698 & -40.43484 & -26.56607 & -8.20859 &   3.037351 &  -6.683085 &   3.140615 &  0.262213 &  -2.981798 & ⋯ &  2.341336 &  0.6716006 & -2.382973 & -4.243087 & -4.503169 & -7.362024 & 13.097628 & -3.5250838 & -0.9140721 & -10.979878\\\\\n",
       "\\end{tabular}\n"
      ],
      "text/markdown": [
       "\n",
       "A data.frame: 2 × 21\n",
       "\n",
       "| <!--/--> | SEX &lt;int&gt; | PC_1 &lt;dbl&gt; | PC_2 &lt;dbl&gt; | PC_3 &lt;dbl&gt; | PC_4 &lt;dbl&gt; | PC_5 &lt;dbl&gt; | PC_6 &lt;dbl&gt; | PC_7 &lt;dbl&gt; | PC_8 &lt;dbl&gt; | PC_9 &lt;dbl&gt; | ⋯ ⋯ | PC_11 &lt;dbl&gt; | PC_12 &lt;dbl&gt; | PC_13 &lt;dbl&gt; | PC_14 &lt;dbl&gt; | PC_15 &lt;dbl&gt; | PC_16 &lt;dbl&gt; | PC_17 &lt;dbl&gt; | PC_18 &lt;dbl&gt; | PC_19 &lt;dbl&gt; | PC_20 &lt;dbl&gt; |\n",
       "|---|---|---|---|---|---|---|---|---|---|---|---|---|---|---|---|---|---|---|---|---|---|\n",
       "| AAACGGGCACTTAAGC-1 | 1 | 12.58789 | -98.91618 |  58.42391 | 56.16711 | -75.099975 | -30.940527 | -17.908536 | -8.646813 | -18.814334 | ⋯ | -3.397215 | 13.4413218 |  1.779408 | -2.430423 |  2.872384 | -2.109803 |  2.675679 | -0.8878944 |  0.7524842 |   6.337516 |\n",
       "| AAACGGGTCTTGTTTG-1 | 2 | 71.72698 | -40.43484 | -26.56607 | -8.20859 |   3.037351 |  -6.683085 |   3.140615 |  0.262213 |  -2.981798 | ⋯ |  2.341336 |  0.6716006 | -2.382973 | -4.243087 | -4.503169 | -7.362024 | 13.097628 | -3.5250838 | -0.9140721 | -10.979878 |\n",
       "\n"
      ],
      "text/plain": [
       "                   SEX PC_1     PC_2      PC_3      PC_4     PC_5      \n",
       "AAACGGGCACTTAAGC-1 1   12.58789 -98.91618  58.42391 56.16711 -75.099975\n",
       "AAACGGGTCTTGTTTG-1 2   71.72698 -40.43484 -26.56607 -8.20859   3.037351\n",
       "                   PC_6       PC_7       PC_8      PC_9       ⋯ PC_11    \n",
       "AAACGGGCACTTAAGC-1 -30.940527 -17.908536 -8.646813 -18.814334 ⋯ -3.397215\n",
       "AAACGGGTCTTGTTTG-1  -6.683085   3.140615  0.262213  -2.981798 ⋯  2.341336\n",
       "                   PC_12      PC_13     PC_14     PC_15     PC_16     PC_17    \n",
       "AAACGGGCACTTAAGC-1 13.4413218  1.779408 -2.430423  2.872384 -2.109803  2.675679\n",
       "AAACGGGTCTTGTTTG-1  0.6716006 -2.382973 -4.243087 -4.503169 -7.362024 13.097628\n",
       "                   PC_18      PC_19      PC_20     \n",
       "AAACGGGCACTTAAGC-1 -0.8878944  0.7524842   6.337516\n",
       "AAACGGGTCTTGTTTG-1 -3.5250838 -0.9140721 -10.979878"
      ]
     },
     "metadata": {},
     "output_type": "display_data"
    },
    {
     "data": {
      "text/html": [
       "53399"
      ],
      "text/latex": [
       "53399"
      ],
      "text/markdown": [
       "53399"
      ],
      "text/plain": [
       "[1] 53399"
      ]
     },
     "metadata": {},
     "output_type": "display_data"
    }
   ],
   "source": [
    "cols = c(\"SEX\",paste0(\"PC_\",1:20))\n",
    "pcs_sex = contexts_df[,cols]\n",
    "head(pcs_sex,2)\n",
    "nrow(pcs_sex)"
   ]
  },
  {
   "cell_type": "code",
   "execution_count": 62,
   "id": "f54c19c3",
   "metadata": {},
   "outputs": [
    {
     "data": {
      "text/html": [
       "'/share/ScratchGeneral/anncuo/OneK1K/input_files_CellRegMap/PCs_sex_monocytes.csv'"
      ],
      "text/latex": [
       "'/share/ScratchGeneral/anncuo/OneK1K/input\\_files\\_CellRegMap/PCs\\_sex\\_monocytes.csv'"
      ],
      "text/markdown": [
       "'/share/ScratchGeneral/anncuo/OneK1K/input_files_CellRegMap/PCs_sex_monocytes.csv'"
      ],
      "text/plain": [
       "[1] \"/share/ScratchGeneral/anncuo/OneK1K/input_files_CellRegMap/PCs_sex_monocytes.csv\""
      ]
     },
     "metadata": {},
     "output_type": "display_data"
    }
   ],
   "source": [
    "C_filename2 = paste0(input_files_dir,\"PCs_sex_monocytes.csv\")\n",
    "C_filename2"
   ]
  },
  {
   "cell_type": "code",
   "execution_count": 64,
   "id": "ed6c5cf7",
   "metadata": {},
   "outputs": [],
   "source": [
    "write.csv(pcs_sex, C_filename2)"
   ]
  },
  {
   "cell_type": "code",
   "execution_count": null,
   "id": "9fb4d201",
   "metadata": {},
   "outputs": [],
   "source": []
  },
  {
   "cell_type": "code",
   "execution_count": null,
   "id": "65dc3877",
   "metadata": {},
   "outputs": [],
   "source": []
  },
  {
   "cell_type": "code",
   "execution_count": 36,
   "id": "025eda5b",
   "metadata": {
    "scrolled": true
   },
   "outputs": [
    {
     "data": {
      "text/plain": [
       "\n",
       "       1        2 \n",
       "32721511 37638970 "
      ]
     },
     "metadata": {},
     "output_type": "display_data"
    }
   ],
   "source": [
    "table(contexts_df$SEX)"
   ]
  },
  {
   "cell_type": "code",
   "execution_count": 37,
   "id": "28af7595",
   "metadata": {},
   "outputs": [
    {
     "data": {
      "text/plain": [
       "\n",
       "     19      20      21      22      23      24      25      26      27      28 \n",
       " 594726  323008   32562  355591  485820  322504  174906   72524  143085  177520 \n",
       "     29      30      31      32      33      34      35      36      37      38 \n",
       " 211302  191607  385708  922688  246303  226844  381140  503671   97160  299628 \n",
       "     39      40      41      42      43      44      45      46      47      48 \n",
       " 225650  436436  393104  694422  484416  744924  408508  921704  132063  918083 \n",
       "     49      50      51      52      53      54      55      56      57      58 \n",
       " 482323  439207  597938  788220  728647  797958  233841  573133 1753395  709249 \n",
       "     59      60      61      62      63      64      65      66      67      68 \n",
       "2341485 1861608 1305303 1034264 1176676 1517928 1482014 2657367 1544671 2028162 \n",
       "     69      70      71      72      73      74      75      76      77      78 \n",
       "1741616 2327591 3869527 2066317 2354960 1458337 1854681 2537730 1673571 1484996 \n",
       "     79      80      81      82      83      84      85      86      87      88 \n",
       "1301850 2611688 1596233  165654  817455 1510545  994257 1280775  851086 1057966 \n",
       "     89      90      91      93      94      95      96      97 \n",
       " 385419  257223  320081  155037   51156   36050    2256   35428 "
      ]
     },
     "metadata": {},
     "output_type": "display_data"
    }
   ],
   "source": [
    "table(contexts_df$age)"
   ]
  },
  {
   "cell_type": "code",
   "execution_count": null,
   "id": "030913cd",
   "metadata": {},
   "outputs": [],
   "source": [
    "ggplot(contexts_df, aes(x=PC_1, y = PC_2, colour = age)) + geom_point() + theme_bw() "
   ]
  },
  {
   "cell_type": "code",
   "execution_count": null,
   "id": "5e2d16e7",
   "metadata": {},
   "outputs": [],
   "source": [
    "ggplot(contexts_df, aes(x=PC_1, y = PC_2, colour = SEX)) + geom_point() + theme_bw() "
   ]
  },
  {
   "cell_type": "code",
   "execution_count": null,
   "id": "71e1afa1",
   "metadata": {},
   "outputs": [],
   "source": [
    "##################################################\n",
    "##### feature-variant filter file (B-cells only)"
   ]
  },
  {
   "cell_type": "code",
   "execution_count": 1,
   "id": "f6fd835e",
   "metadata": {},
   "outputs": [],
   "source": [
    "mydir = \"/share/ScratchGeneral/anncuo/OneK1K/\""
   ]
  },
  {
   "cell_type": "code",
   "execution_count": 2,
   "id": "000a4313",
   "metadata": {},
   "outputs": [
    {
     "data": {
      "text/html": [
       "<table class=\"dataframe\">\n",
       "<caption>A data.frame: 6 × 13</caption>\n",
       "<thead>\n",
       "\t<tr><th></th><th scope=col>cell_type</th><th scope=col>GeneID</th><th scope=col>Gene_EnsemblID</th><th scope=col>rsID</th><th scope=col>Chromosome</th><th scope=col>Position</th><th scope=col>SNP_assessed_allele</th><th scope=col>eSNP_rank</th><th scope=col>rho_correlation_coefficient</th><th scope=col>S.statistics</th><th scope=col>pvalue</th><th scope=col>qvalue</th><th scope=col>FDR</th></tr>\n",
       "\t<tr><th></th><th scope=col>&lt;chr&gt;</th><th scope=col>&lt;chr&gt;</th><th scope=col>&lt;chr&gt;</th><th scope=col>&lt;chr&gt;</th><th scope=col>&lt;int&gt;</th><th scope=col>&lt;int&gt;</th><th scope=col>&lt;chr&gt;</th><th scope=col>&lt;chr&gt;</th><th scope=col>&lt;dbl&gt;</th><th scope=col>&lt;dbl&gt;</th><th scope=col>&lt;dbl&gt;</th><th scope=col>&lt;dbl&gt;</th><th scope=col>&lt;dbl&gt;</th></tr>\n",
       "</thead>\n",
       "<tbody>\n",
       "\t<tr><th scope=row>1</th><td>B IN</td><td>RP11-298J20.3</td><td>ENSG00000226899</td><td>rs4962711 </td><td>10</td><td>126644482</td><td>C</td><td>eSNP1</td><td>-0.473</td><td>232418782</td><td>8.653e-56</td><td>5.108e-50</td><td>2.164e-05</td></tr>\n",
       "\t<tr><th scope=row>2</th><td>B IN</td><td>PPA1         </td><td>ENSG00000180817</td><td>rs12355080</td><td>10</td><td> 71963608</td><td>A</td><td>eSNP1</td><td> 0.428</td><td> 90338126</td><td>6.308e-45</td><td>1.646e-40</td><td>2.164e-05</td></tr>\n",
       "\t<tr><th scope=row>3</th><td>B IN</td><td>GDI2         </td><td>ENSG00000057608</td><td>rs3736461 </td><td>10</td><td>  5855403</td><td>C</td><td>eSNP1</td><td>-0.278</td><td>201715943</td><td>6.764e-19</td><td>6.078e-15</td><td>2.164e-05</td></tr>\n",
       "\t<tr><th scope=row>4</th><td>B IN</td><td>OPTN         </td><td>ENSG00000123240</td><td>rs57057378</td><td>10</td><td> 13160035</td><td>A</td><td>eSNP1</td><td>-0.258</td><td>198494721</td><td>2.342e-16</td><td>2.032e-12</td><td>2.164e-05</td></tr>\n",
       "\t<tr><th scope=row>5</th><td>B IN</td><td>MGMT         </td><td>ENSG00000170430</td><td>rs12254582</td><td>10</td><td>131279791</td><td>G</td><td>eSNP1</td><td>-0.220</td><td>192526141</td><td>3.259e-12</td><td>2.150e-08</td><td>2.164e-05</td></tr>\n",
       "\t<tr><th scope=row>6</th><td>B IN</td><td>VDAC2        </td><td>ENSG00000165637</td><td>rs11543   </td><td>10</td><td> 76970613</td><td>C</td><td>eSNP1</td><td>-0.219</td><td>192405014</td><td>3.889e-12</td><td>2.546e-08</td><td>2.164e-05</td></tr>\n",
       "</tbody>\n",
       "</table>\n"
      ],
      "text/latex": [
       "A data.frame: 6 × 13\n",
       "\\begin{tabular}{r|lllllllllllll}\n",
       "  & cell\\_type & GeneID & Gene\\_EnsemblID & rsID & Chromosome & Position & SNP\\_assessed\\_allele & eSNP\\_rank & rho\\_correlation\\_coefficient & S.statistics & pvalue & qvalue & FDR\\\\\n",
       "  & <chr> & <chr> & <chr> & <chr> & <int> & <int> & <chr> & <chr> & <dbl> & <dbl> & <dbl> & <dbl> & <dbl>\\\\\n",
       "\\hline\n",
       "\t1 & B IN & RP11-298J20.3 & ENSG00000226899 & rs4962711  & 10 & 126644482 & C & eSNP1 & -0.473 & 232418782 & 8.653e-56 & 5.108e-50 & 2.164e-05\\\\\n",
       "\t2 & B IN & PPA1          & ENSG00000180817 & rs12355080 & 10 &  71963608 & A & eSNP1 &  0.428 &  90338126 & 6.308e-45 & 1.646e-40 & 2.164e-05\\\\\n",
       "\t3 & B IN & GDI2          & ENSG00000057608 & rs3736461  & 10 &   5855403 & C & eSNP1 & -0.278 & 201715943 & 6.764e-19 & 6.078e-15 & 2.164e-05\\\\\n",
       "\t4 & B IN & OPTN          & ENSG00000123240 & rs57057378 & 10 &  13160035 & A & eSNP1 & -0.258 & 198494721 & 2.342e-16 & 2.032e-12 & 2.164e-05\\\\\n",
       "\t5 & B IN & MGMT          & ENSG00000170430 & rs12254582 & 10 & 131279791 & G & eSNP1 & -0.220 & 192526141 & 3.259e-12 & 2.150e-08 & 2.164e-05\\\\\n",
       "\t6 & B IN & VDAC2         & ENSG00000165637 & rs11543    & 10 &  76970613 & C & eSNP1 & -0.219 & 192405014 & 3.889e-12 & 2.546e-08 & 2.164e-05\\\\\n",
       "\\end{tabular}\n"
      ],
      "text/markdown": [
       "\n",
       "A data.frame: 6 × 13\n",
       "\n",
       "| <!--/--> | cell_type &lt;chr&gt; | GeneID &lt;chr&gt; | Gene_EnsemblID &lt;chr&gt; | rsID &lt;chr&gt; | Chromosome &lt;int&gt; | Position &lt;int&gt; | SNP_assessed_allele &lt;chr&gt; | eSNP_rank &lt;chr&gt; | rho_correlation_coefficient &lt;dbl&gt; | S.statistics &lt;dbl&gt; | pvalue &lt;dbl&gt; | qvalue &lt;dbl&gt; | FDR &lt;dbl&gt; |\n",
       "|---|---|---|---|---|---|---|---|---|---|---|---|---|---|\n",
       "| 1 | B IN | RP11-298J20.3 | ENSG00000226899 | rs4962711  | 10 | 126644482 | C | eSNP1 | -0.473 | 232418782 | 8.653e-56 | 5.108e-50 | 2.164e-05 |\n",
       "| 2 | B IN | PPA1          | ENSG00000180817 | rs12355080 | 10 |  71963608 | A | eSNP1 |  0.428 |  90338126 | 6.308e-45 | 1.646e-40 | 2.164e-05 |\n",
       "| 3 | B IN | GDI2          | ENSG00000057608 | rs3736461  | 10 |   5855403 | C | eSNP1 | -0.278 | 201715943 | 6.764e-19 | 6.078e-15 | 2.164e-05 |\n",
       "| 4 | B IN | OPTN          | ENSG00000123240 | rs57057378 | 10 |  13160035 | A | eSNP1 | -0.258 | 198494721 | 2.342e-16 | 2.032e-12 | 2.164e-05 |\n",
       "| 5 | B IN | MGMT          | ENSG00000170430 | rs12254582 | 10 | 131279791 | G | eSNP1 | -0.220 | 192526141 | 3.259e-12 | 2.150e-08 | 2.164e-05 |\n",
       "| 6 | B IN | VDAC2         | ENSG00000165637 | rs11543    | 10 |  76970613 | C | eSNP1 | -0.219 | 192405014 | 3.889e-12 | 2.546e-08 | 2.164e-05 |\n",
       "\n"
      ],
      "text/plain": [
       "  cell_type GeneID        Gene_EnsemblID  rsID       Chromosome Position \n",
       "1 B IN      RP11-298J20.3 ENSG00000226899 rs4962711  10         126644482\n",
       "2 B IN      PPA1          ENSG00000180817 rs12355080 10          71963608\n",
       "3 B IN      GDI2          ENSG00000057608 rs3736461  10           5855403\n",
       "4 B IN      OPTN          ENSG00000123240 rs57057378 10          13160035\n",
       "5 B IN      MGMT          ENSG00000170430 rs12254582 10         131279791\n",
       "6 B IN      VDAC2         ENSG00000165637 rs11543    10          76970613\n",
       "  SNP_assessed_allele eSNP_rank rho_correlation_coefficient S.statistics\n",
       "1 C                   eSNP1     -0.473                      232418782   \n",
       "2 A                   eSNP1      0.428                       90338126   \n",
       "3 C                   eSNP1     -0.278                      201715943   \n",
       "4 A                   eSNP1     -0.258                      198494721   \n",
       "5 G                   eSNP1     -0.220                      192526141   \n",
       "6 C                   eSNP1     -0.219                      192405014   \n",
       "  pvalue    qvalue    FDR      \n",
       "1 8.653e-56 5.108e-50 2.164e-05\n",
       "2 6.308e-45 1.646e-40 2.164e-05\n",
       "3 6.764e-19 6.078e-15 2.164e-05\n",
       "4 2.342e-16 2.032e-12 2.164e-05\n",
       "5 3.259e-12 2.150e-08 2.164e-05\n",
       "6 3.889e-12 2.546e-08 2.164e-05"
      ]
     },
     "metadata": {},
     "output_type": "display_data"
    }
   ],
   "source": [
    "## eQTL results\n",
    "results_filename =  paste0(mydir,\"OneK1K_eQTLs_Results_03022021.tsv\")\n",
    "eqtl_df = read.csv(results_filename, sep=\"\\t\")\n",
    "head(eqtl_df)"
   ]
  },
  {
   "cell_type": "code",
   "execution_count": 3,
   "id": "ee173eb6",
   "metadata": {},
   "outputs": [
    {
     "data": {
      "text/html": [
       "2183"
      ],
      "text/latex": [
       "2183"
      ],
      "text/markdown": [
       "2183"
      ],
      "text/plain": [
       "[1] 2183"
      ]
     },
     "metadata": {},
     "output_type": "display_data"
    },
    {
     "data": {
      "text/html": [
       "<table class=\"dataframe\">\n",
       "<caption>A data.frame: 2 × 13</caption>\n",
       "<thead>\n",
       "\t<tr><th></th><th scope=col>cell_type</th><th scope=col>GeneID</th><th scope=col>Gene_EnsemblID</th><th scope=col>rsID</th><th scope=col>Chromosome</th><th scope=col>Position</th><th scope=col>SNP_assessed_allele</th><th scope=col>eSNP_rank</th><th scope=col>rho_correlation_coefficient</th><th scope=col>S.statistics</th><th scope=col>pvalue</th><th scope=col>qvalue</th><th scope=col>FDR</th></tr>\n",
       "\t<tr><th></th><th scope=col>&lt;chr&gt;</th><th scope=col>&lt;chr&gt;</th><th scope=col>&lt;chr&gt;</th><th scope=col>&lt;chr&gt;</th><th scope=col>&lt;int&gt;</th><th scope=col>&lt;int&gt;</th><th scope=col>&lt;chr&gt;</th><th scope=col>&lt;chr&gt;</th><th scope=col>&lt;dbl&gt;</th><th scope=col>&lt;dbl&gt;</th><th scope=col>&lt;dbl&gt;</th><th scope=col>&lt;dbl&gt;</th><th scope=col>&lt;dbl&gt;</th></tr>\n",
       "</thead>\n",
       "<tbody>\n",
       "\t<tr><th scope=row>19796</th><td>Mono C</td><td>LIPA    </td><td>ENSG00000107798</td><td>rs1412445 </td><td>10</td><td> 91002804</td><td>T</td><td>eSNP1</td><td>0.352</td><td> 98291971</td><td>1.302e-29</td><td>1.577e-23</td><td>4.238e-05</td></tr>\n",
       "\t<tr><th scope=row>19797</th><td>Mono C</td><td>KIAA1598</td><td>ENSG00000187164</td><td>rs72833408</td><td>10</td><td>118723484</td><td>T</td><td>eSNP1</td><td>0.324</td><td>102469879</td><td>3.684e-25</td><td>4.440e-20</td><td>4.238e-05</td></tr>\n",
       "</tbody>\n",
       "</table>\n"
      ],
      "text/latex": [
       "A data.frame: 2 × 13\n",
       "\\begin{tabular}{r|lllllllllllll}\n",
       "  & cell\\_type & GeneID & Gene\\_EnsemblID & rsID & Chromosome & Position & SNP\\_assessed\\_allele & eSNP\\_rank & rho\\_correlation\\_coefficient & S.statistics & pvalue & qvalue & FDR\\\\\n",
       "  & <chr> & <chr> & <chr> & <chr> & <int> & <int> & <chr> & <chr> & <dbl> & <dbl> & <dbl> & <dbl> & <dbl>\\\\\n",
       "\\hline\n",
       "\t19796 & Mono C & LIPA     & ENSG00000107798 & rs1412445  & 10 &  91002804 & T & eSNP1 & 0.352 &  98291971 & 1.302e-29 & 1.577e-23 & 4.238e-05\\\\\n",
       "\t19797 & Mono C & KIAA1598 & ENSG00000187164 & rs72833408 & 10 & 118723484 & T & eSNP1 & 0.324 & 102469879 & 3.684e-25 & 4.440e-20 & 4.238e-05\\\\\n",
       "\\end{tabular}\n"
      ],
      "text/markdown": [
       "\n",
       "A data.frame: 2 × 13\n",
       "\n",
       "| <!--/--> | cell_type &lt;chr&gt; | GeneID &lt;chr&gt; | Gene_EnsemblID &lt;chr&gt; | rsID &lt;chr&gt; | Chromosome &lt;int&gt; | Position &lt;int&gt; | SNP_assessed_allele &lt;chr&gt; | eSNP_rank &lt;chr&gt; | rho_correlation_coefficient &lt;dbl&gt; | S.statistics &lt;dbl&gt; | pvalue &lt;dbl&gt; | qvalue &lt;dbl&gt; | FDR &lt;dbl&gt; |\n",
       "|---|---|---|---|---|---|---|---|---|---|---|---|---|---|\n",
       "| 19796 | Mono C | LIPA     | ENSG00000107798 | rs1412445  | 10 |  91002804 | T | eSNP1 | 0.352 |  98291971 | 1.302e-29 | 1.577e-23 | 4.238e-05 |\n",
       "| 19797 | Mono C | KIAA1598 | ENSG00000187164 | rs72833408 | 10 | 118723484 | T | eSNP1 | 0.324 | 102469879 | 3.684e-25 | 4.440e-20 | 4.238e-05 |\n",
       "\n"
      ],
      "text/plain": [
       "      cell_type GeneID   Gene_EnsemblID  rsID       Chromosome Position \n",
       "19796 Mono C    LIPA     ENSG00000107798 rs1412445  10          91002804\n",
       "19797 Mono C    KIAA1598 ENSG00000187164 rs72833408 10         118723484\n",
       "      SNP_assessed_allele eSNP_rank rho_correlation_coefficient S.statistics\n",
       "19796 T                   eSNP1     0.352                        98291971   \n",
       "19797 T                   eSNP1     0.324                       102469879   \n",
       "      pvalue    qvalue    FDR      \n",
       "19796 1.302e-29 1.577e-23 4.238e-05\n",
       "19797 3.684e-25 4.440e-20 4.238e-05"
      ]
     },
     "metadata": {},
     "output_type": "display_data"
    }
   ],
   "source": [
    "Monocyte_eqtls = eqtl_df[grep(\"Mono \",eqtl_df$cell_type),]\n",
    "nrow(Monocyte_eqtls)\n",
    "head(Monocyte_eqtls,2)"
   ]
  },
  {
   "cell_type": "code",
   "execution_count": 4,
   "id": "d73f72ed",
   "metadata": {},
   "outputs": [
    {
     "data": {
      "text/html": [
       "<style>\n",
       ".list-inline {list-style: none; margin:0; padding: 0}\n",
       ".list-inline>li {display: inline-block}\n",
       ".list-inline>li:not(:last-child)::after {content: \"\\00b7\"; padding: 0 .5ex}\n",
       "</style>\n",
       "<ol class=list-inline><li>'Mono C'</li><li>'Mono NC'</li></ol>\n"
      ],
      "text/latex": [
       "\\begin{enumerate*}\n",
       "\\item 'Mono C'\n",
       "\\item 'Mono NC'\n",
       "\\end{enumerate*}\n"
      ],
      "text/markdown": [
       "1. 'Mono C'\n",
       "2. 'Mono NC'\n",
       "\n",
       "\n"
      ],
      "text/plain": [
       "[1] \"Mono C\"  \"Mono NC\""
      ]
     },
     "metadata": {},
     "output_type": "display_data"
    }
   ],
   "source": [
    "unique(Monocyte_eqtls$cell_type)"
   ]
  },
  {
   "cell_type": "code",
   "execution_count": 5,
   "id": "9d1dcfb1",
   "metadata": {},
   "outputs": [],
   "source": [
    "Monocyte_eqtls$chrom = Monocyte_eqtls$Chromosome\n",
    "Monocyte_eqtls$feature = Monocyte_eqtls$GeneID\n",
    "Monocyte_eqtls$snp_id = paste0(Monocyte_eqtls$chrom,\":\",Monocyte_eqtls$Position)"
   ]
  },
  {
   "cell_type": "code",
   "execution_count": 6,
   "id": "48a13cb9",
   "metadata": {
    "scrolled": true
   },
   "outputs": [
    {
     "data": {
      "text/html": [
       "<table class=\"dataframe\">\n",
       "<caption>A data.frame: 100 × 3</caption>\n",
       "<thead>\n",
       "\t<tr><th></th><th scope=col>feature</th><th scope=col>snp_id</th><th scope=col>chrom</th></tr>\n",
       "\t<tr><th></th><th scope=col>&lt;chr&gt;</th><th scope=col>&lt;chr&gt;</th><th scope=col>&lt;int&gt;</th></tr>\n",
       "</thead>\n",
       "<tbody>\n",
       "\t<tr><th scope=row>19796</th><td>LIPA    </td><td>10:91002804 </td><td>10</td></tr>\n",
       "\t<tr><th scope=row>19797</th><td>KIAA1598</td><td>10:118723484</td><td>10</td></tr>\n",
       "\t<tr><th scope=row>19798</th><td>ADK     </td><td>10:75928933 </td><td>10</td></tr>\n",
       "\t<tr><th scope=row>19799</th><td>PSAP    </td><td>10:73569318 </td><td>10</td></tr>\n",
       "\t<tr><th scope=row>19800</th><td>C10orf32</td><td>10:104611764</td><td>10</td></tr>\n",
       "\t<tr><th scope=row>19801</th><td>MGMT    </td><td>10:131364237</td><td>10</td></tr>\n",
       "\t<tr><th scope=row>19802</th><td>WAC-AS1 </td><td>10:28800170 </td><td>10</td></tr>\n",
       "\t<tr><th scope=row>19803</th><td>UBE2D1  </td><td>10:60144207 </td><td>10</td></tr>\n",
       "\t<tr><th scope=row>19804</th><td>KCNMA1  </td><td>10:79357311 </td><td>10</td></tr>\n",
       "\t<tr><th scope=row>19805</th><td>PPA1    </td><td>10:71949471 </td><td>10</td></tr>\n",
       "\t<tr><th scope=row>19806</th><td>ACTA2   </td><td>10:90750909 </td><td>10</td></tr>\n",
       "\t<tr><th scope=row>19807</th><td>C10orf88</td><td>10:124808484</td><td>10</td></tr>\n",
       "\t<tr><th scope=row>19808</th><td>VCL     </td><td>10:75928310 </td><td>10</td></tr>\n",
       "\t<tr><th scope=row>19809</th><td>PTPRE   </td><td>10:129852019</td><td>10</td></tr>\n",
       "\t<tr><th scope=row>19810</th><td>VIM     </td><td>10:17010798 </td><td>10</td></tr>\n",
       "\t<tr><th scope=row>19811</th><td>GDI2    </td><td>10:5872702  </td><td>10</td></tr>\n",
       "\t<tr><th scope=row>19812</th><td>PRPF18  </td><td>10:13782110 </td><td>10</td></tr>\n",
       "\t<tr><th scope=row>19813</th><td>FOLR3   </td><td>11:71869707 </td><td>11</td></tr>\n",
       "\t<tr><th scope=row>19814</th><td>IFITM3  </td><td>11:320836   </td><td>11</td></tr>\n",
       "\t<tr><th scope=row>19815</th><td>TIMM10  </td><td>11:57283988 </td><td>11</td></tr>\n",
       "\t<tr><th scope=row>19816</th><td>CD151   </td><td>11:838634   </td><td>11</td></tr>\n",
       "\t<tr><th scope=row>19817</th><td>POLR2L  </td><td>11:841763   </td><td>11</td></tr>\n",
       "\t<tr><th scope=row>19818</th><td>UCP2    </td><td>11:73699136 </td><td>11</td></tr>\n",
       "\t<tr><th scope=row>19819</th><td>GSTP1   </td><td>11:67353970 </td><td>11</td></tr>\n",
       "\t<tr><th scope=row>19820</th><td>TSPAN4  </td><td>11:833589   </td><td>11</td></tr>\n",
       "\t<tr><th scope=row>19821</th><td>XRRA1   </td><td>11:74757597 </td><td>11</td></tr>\n",
       "\t<tr><th scope=row>19822</th><td>PLA2G16 </td><td>11:63382002 </td><td>11</td></tr>\n",
       "\t<tr><th scope=row>19823</th><td>RPS25   </td><td>11:118878960</td><td>11</td></tr>\n",
       "\t<tr><th scope=row>19824</th><td>FAR1    </td><td>11:13671322 </td><td>11</td></tr>\n",
       "\t<tr><th scope=row>19825</th><td>MRPL21  </td><td>11:68617022 </td><td>11</td></tr>\n",
       "\t<tr><th scope=row>⋮</th><td>⋮</td><td>⋮</td><td>⋮</td></tr>\n",
       "\t<tr><th scope=row>19866</th><td>PCBP2   </td><td>12:54086274 </td><td>12</td></tr>\n",
       "\t<tr><th scope=row>19867</th><td>NT5DC3  </td><td>12:104227844</td><td>12</td></tr>\n",
       "\t<tr><th scope=row>19868</th><td>YEATS4  </td><td>12:69621264 </td><td>12</td></tr>\n",
       "\t<tr><th scope=row>19869</th><td>SMARCD1 </td><td>12:50289657 </td><td>12</td></tr>\n",
       "\t<tr><th scope=row>19870</th><td>RNF10   </td><td>12:121133037</td><td>12</td></tr>\n",
       "\t<tr><th scope=row>19871</th><td>KIAA1033</td><td>12:105688366</td><td>12</td></tr>\n",
       "\t<tr><th scope=row>19872</th><td>ZNF84   </td><td>12:132991423</td><td>12</td></tr>\n",
       "\t<tr><th scope=row>19873</th><td>BBS10   </td><td>12:76404693 </td><td>12</td></tr>\n",
       "\t<tr><th scope=row>19874</th><td>HCAR2   </td><td>12:123164062</td><td>12</td></tr>\n",
       "\t<tr><th scope=row>19875</th><td>P2RX4   </td><td>12:121637133</td><td>12</td></tr>\n",
       "\t<tr><th scope=row>19876</th><td>SPSB2   </td><td>12:7014962  </td><td>12</td></tr>\n",
       "\t<tr><th scope=row>19877</th><td>CHPT1   </td><td>12:102043683</td><td>12</td></tr>\n",
       "\t<tr><th scope=row>19878</th><td>UTP20   </td><td>12:101110685</td><td>12</td></tr>\n",
       "\t<tr><th scope=row>19879</th><td>TAPBPL  </td><td>12:6625130  </td><td>12</td></tr>\n",
       "\t<tr><th scope=row>19880</th><td>DNAJC15 </td><td>13:43597706 </td><td>13</td></tr>\n",
       "\t<tr><th scope=row>19881</th><td>POLR1D  </td><td>13:28195495 </td><td>13</td></tr>\n",
       "\t<tr><th scope=row>19882</th><td>COMMD6  </td><td>13:76088638 </td><td>13</td></tr>\n",
       "\t<tr><th scope=row>19883</th><td>EBPL    </td><td>13:50283389 </td><td>13</td></tr>\n",
       "\t<tr><th scope=row>19884</th><td>RPPH1   </td><td>14:20814865 </td><td>14</td></tr>\n",
       "\t<tr><th scope=row>19885</th><td>RPL36AL </td><td>14:50105746 </td><td>14</td></tr>\n",
       "\t<tr><th scope=row>19886</th><td>RNASE2  </td><td>14:21359808 </td><td>14</td></tr>\n",
       "\t<tr><th scope=row>19887</th><td>VASH1   </td><td>14:77191198 </td><td>14</td></tr>\n",
       "\t<tr><th scope=row>19888</th><td>NUDT14  </td><td>14:105614032</td><td>14</td></tr>\n",
       "\t<tr><th scope=row>19889</th><td>SLC24A4 </td><td>14:92927402 </td><td>14</td></tr>\n",
       "\t<tr><th scope=row>19890</th><td>KTN1    </td><td>14:56159354 </td><td>14</td></tr>\n",
       "\t<tr><th scope=row>19891</th><td>CHURC1  </td><td>14:65375180 </td><td>14</td></tr>\n",
       "\t<tr><th scope=row>19892</th><td>GCH1    </td><td>14:55201507 </td><td>14</td></tr>\n",
       "\t<tr><th scope=row>19893</th><td>DHRS4   </td><td>14:24478799 </td><td>14</td></tr>\n",
       "\t<tr><th scope=row>19894</th><td>HSP90AA1</td><td>14:102563797</td><td>14</td></tr>\n",
       "\t<tr><th scope=row>19895</th><td>GMPR2   </td><td>14:23814995 </td><td>14</td></tr>\n",
       "</tbody>\n",
       "</table>\n"
      ],
      "text/latex": [
       "A data.frame: 100 × 3\n",
       "\\begin{tabular}{r|lll}\n",
       "  & feature & snp\\_id & chrom\\\\\n",
       "  & <chr> & <chr> & <int>\\\\\n",
       "\\hline\n",
       "\t19796 & LIPA     & 10:91002804  & 10\\\\\n",
       "\t19797 & KIAA1598 & 10:118723484 & 10\\\\\n",
       "\t19798 & ADK      & 10:75928933  & 10\\\\\n",
       "\t19799 & PSAP     & 10:73569318  & 10\\\\\n",
       "\t19800 & C10orf32 & 10:104611764 & 10\\\\\n",
       "\t19801 & MGMT     & 10:131364237 & 10\\\\\n",
       "\t19802 & WAC-AS1  & 10:28800170  & 10\\\\\n",
       "\t19803 & UBE2D1   & 10:60144207  & 10\\\\\n",
       "\t19804 & KCNMA1   & 10:79357311  & 10\\\\\n",
       "\t19805 & PPA1     & 10:71949471  & 10\\\\\n",
       "\t19806 & ACTA2    & 10:90750909  & 10\\\\\n",
       "\t19807 & C10orf88 & 10:124808484 & 10\\\\\n",
       "\t19808 & VCL      & 10:75928310  & 10\\\\\n",
       "\t19809 & PTPRE    & 10:129852019 & 10\\\\\n",
       "\t19810 & VIM      & 10:17010798  & 10\\\\\n",
       "\t19811 & GDI2     & 10:5872702   & 10\\\\\n",
       "\t19812 & PRPF18   & 10:13782110  & 10\\\\\n",
       "\t19813 & FOLR3    & 11:71869707  & 11\\\\\n",
       "\t19814 & IFITM3   & 11:320836    & 11\\\\\n",
       "\t19815 & TIMM10   & 11:57283988  & 11\\\\\n",
       "\t19816 & CD151    & 11:838634    & 11\\\\\n",
       "\t19817 & POLR2L   & 11:841763    & 11\\\\\n",
       "\t19818 & UCP2     & 11:73699136  & 11\\\\\n",
       "\t19819 & GSTP1    & 11:67353970  & 11\\\\\n",
       "\t19820 & TSPAN4   & 11:833589    & 11\\\\\n",
       "\t19821 & XRRA1    & 11:74757597  & 11\\\\\n",
       "\t19822 & PLA2G16  & 11:63382002  & 11\\\\\n",
       "\t19823 & RPS25    & 11:118878960 & 11\\\\\n",
       "\t19824 & FAR1     & 11:13671322  & 11\\\\\n",
       "\t19825 & MRPL21   & 11:68617022  & 11\\\\\n",
       "\t⋮ & ⋮ & ⋮ & ⋮\\\\\n",
       "\t19866 & PCBP2    & 12:54086274  & 12\\\\\n",
       "\t19867 & NT5DC3   & 12:104227844 & 12\\\\\n",
       "\t19868 & YEATS4   & 12:69621264  & 12\\\\\n",
       "\t19869 & SMARCD1  & 12:50289657  & 12\\\\\n",
       "\t19870 & RNF10    & 12:121133037 & 12\\\\\n",
       "\t19871 & KIAA1033 & 12:105688366 & 12\\\\\n",
       "\t19872 & ZNF84    & 12:132991423 & 12\\\\\n",
       "\t19873 & BBS10    & 12:76404693  & 12\\\\\n",
       "\t19874 & HCAR2    & 12:123164062 & 12\\\\\n",
       "\t19875 & P2RX4    & 12:121637133 & 12\\\\\n",
       "\t19876 & SPSB2    & 12:7014962   & 12\\\\\n",
       "\t19877 & CHPT1    & 12:102043683 & 12\\\\\n",
       "\t19878 & UTP20    & 12:101110685 & 12\\\\\n",
       "\t19879 & TAPBPL   & 12:6625130   & 12\\\\\n",
       "\t19880 & DNAJC15  & 13:43597706  & 13\\\\\n",
       "\t19881 & POLR1D   & 13:28195495  & 13\\\\\n",
       "\t19882 & COMMD6   & 13:76088638  & 13\\\\\n",
       "\t19883 & EBPL     & 13:50283389  & 13\\\\\n",
       "\t19884 & RPPH1    & 14:20814865  & 14\\\\\n",
       "\t19885 & RPL36AL  & 14:50105746  & 14\\\\\n",
       "\t19886 & RNASE2   & 14:21359808  & 14\\\\\n",
       "\t19887 & VASH1    & 14:77191198  & 14\\\\\n",
       "\t19888 & NUDT14   & 14:105614032 & 14\\\\\n",
       "\t19889 & SLC24A4  & 14:92927402  & 14\\\\\n",
       "\t19890 & KTN1     & 14:56159354  & 14\\\\\n",
       "\t19891 & CHURC1   & 14:65375180  & 14\\\\\n",
       "\t19892 & GCH1     & 14:55201507  & 14\\\\\n",
       "\t19893 & DHRS4    & 14:24478799  & 14\\\\\n",
       "\t19894 & HSP90AA1 & 14:102563797 & 14\\\\\n",
       "\t19895 & GMPR2    & 14:23814995  & 14\\\\\n",
       "\\end{tabular}\n"
      ],
      "text/markdown": [
       "\n",
       "A data.frame: 100 × 3\n",
       "\n",
       "| <!--/--> | feature &lt;chr&gt; | snp_id &lt;chr&gt; | chrom &lt;int&gt; |\n",
       "|---|---|---|---|\n",
       "| 19796 | LIPA     | 10:91002804  | 10 |\n",
       "| 19797 | KIAA1598 | 10:118723484 | 10 |\n",
       "| 19798 | ADK      | 10:75928933  | 10 |\n",
       "| 19799 | PSAP     | 10:73569318  | 10 |\n",
       "| 19800 | C10orf32 | 10:104611764 | 10 |\n",
       "| 19801 | MGMT     | 10:131364237 | 10 |\n",
       "| 19802 | WAC-AS1  | 10:28800170  | 10 |\n",
       "| 19803 | UBE2D1   | 10:60144207  | 10 |\n",
       "| 19804 | KCNMA1   | 10:79357311  | 10 |\n",
       "| 19805 | PPA1     | 10:71949471  | 10 |\n",
       "| 19806 | ACTA2    | 10:90750909  | 10 |\n",
       "| 19807 | C10orf88 | 10:124808484 | 10 |\n",
       "| 19808 | VCL      | 10:75928310  | 10 |\n",
       "| 19809 | PTPRE    | 10:129852019 | 10 |\n",
       "| 19810 | VIM      | 10:17010798  | 10 |\n",
       "| 19811 | GDI2     | 10:5872702   | 10 |\n",
       "| 19812 | PRPF18   | 10:13782110  | 10 |\n",
       "| 19813 | FOLR3    | 11:71869707  | 11 |\n",
       "| 19814 | IFITM3   | 11:320836    | 11 |\n",
       "| 19815 | TIMM10   | 11:57283988  | 11 |\n",
       "| 19816 | CD151    | 11:838634    | 11 |\n",
       "| 19817 | POLR2L   | 11:841763    | 11 |\n",
       "| 19818 | UCP2     | 11:73699136  | 11 |\n",
       "| 19819 | GSTP1    | 11:67353970  | 11 |\n",
       "| 19820 | TSPAN4   | 11:833589    | 11 |\n",
       "| 19821 | XRRA1    | 11:74757597  | 11 |\n",
       "| 19822 | PLA2G16  | 11:63382002  | 11 |\n",
       "| 19823 | RPS25    | 11:118878960 | 11 |\n",
       "| 19824 | FAR1     | 11:13671322  | 11 |\n",
       "| 19825 | MRPL21   | 11:68617022  | 11 |\n",
       "| ⋮ | ⋮ | ⋮ | ⋮ |\n",
       "| 19866 | PCBP2    | 12:54086274  | 12 |\n",
       "| 19867 | NT5DC3   | 12:104227844 | 12 |\n",
       "| 19868 | YEATS4   | 12:69621264  | 12 |\n",
       "| 19869 | SMARCD1  | 12:50289657  | 12 |\n",
       "| 19870 | RNF10    | 12:121133037 | 12 |\n",
       "| 19871 | KIAA1033 | 12:105688366 | 12 |\n",
       "| 19872 | ZNF84    | 12:132991423 | 12 |\n",
       "| 19873 | BBS10    | 12:76404693  | 12 |\n",
       "| 19874 | HCAR2    | 12:123164062 | 12 |\n",
       "| 19875 | P2RX4    | 12:121637133 | 12 |\n",
       "| 19876 | SPSB2    | 12:7014962   | 12 |\n",
       "| 19877 | CHPT1    | 12:102043683 | 12 |\n",
       "| 19878 | UTP20    | 12:101110685 | 12 |\n",
       "| 19879 | TAPBPL   | 12:6625130   | 12 |\n",
       "| 19880 | DNAJC15  | 13:43597706  | 13 |\n",
       "| 19881 | POLR1D   | 13:28195495  | 13 |\n",
       "| 19882 | COMMD6   | 13:76088638  | 13 |\n",
       "| 19883 | EBPL     | 13:50283389  | 13 |\n",
       "| 19884 | RPPH1    | 14:20814865  | 14 |\n",
       "| 19885 | RPL36AL  | 14:50105746  | 14 |\n",
       "| 19886 | RNASE2   | 14:21359808  | 14 |\n",
       "| 19887 | VASH1    | 14:77191198  | 14 |\n",
       "| 19888 | NUDT14   | 14:105614032 | 14 |\n",
       "| 19889 | SLC24A4  | 14:92927402  | 14 |\n",
       "| 19890 | KTN1     | 14:56159354  | 14 |\n",
       "| 19891 | CHURC1   | 14:65375180  | 14 |\n",
       "| 19892 | GCH1     | 14:55201507  | 14 |\n",
       "| 19893 | DHRS4    | 14:24478799  | 14 |\n",
       "| 19894 | HSP90AA1 | 14:102563797 | 14 |\n",
       "| 19895 | GMPR2    | 14:23814995  | 14 |\n",
       "\n"
      ],
      "text/plain": [
       "      feature  snp_id       chrom\n",
       "19796 LIPA     10:91002804  10   \n",
       "19797 KIAA1598 10:118723484 10   \n",
       "19798 ADK      10:75928933  10   \n",
       "19799 PSAP     10:73569318  10   \n",
       "19800 C10orf32 10:104611764 10   \n",
       "19801 MGMT     10:131364237 10   \n",
       "19802 WAC-AS1  10:28800170  10   \n",
       "19803 UBE2D1   10:60144207  10   \n",
       "19804 KCNMA1   10:79357311  10   \n",
       "19805 PPA1     10:71949471  10   \n",
       "19806 ACTA2    10:90750909  10   \n",
       "19807 C10orf88 10:124808484 10   \n",
       "19808 VCL      10:75928310  10   \n",
       "19809 PTPRE    10:129852019 10   \n",
       "19810 VIM      10:17010798  10   \n",
       "19811 GDI2     10:5872702   10   \n",
       "19812 PRPF18   10:13782110  10   \n",
       "19813 FOLR3    11:71869707  11   \n",
       "19814 IFITM3   11:320836    11   \n",
       "19815 TIMM10   11:57283988  11   \n",
       "19816 CD151    11:838634    11   \n",
       "19817 POLR2L   11:841763    11   \n",
       "19818 UCP2     11:73699136  11   \n",
       "19819 GSTP1    11:67353970  11   \n",
       "19820 TSPAN4   11:833589    11   \n",
       "19821 XRRA1    11:74757597  11   \n",
       "19822 PLA2G16  11:63382002  11   \n",
       "19823 RPS25    11:118878960 11   \n",
       "19824 FAR1     11:13671322  11   \n",
       "19825 MRPL21   11:68617022  11   \n",
       "⋮     ⋮        ⋮            ⋮    \n",
       "19866 PCBP2    12:54086274  12   \n",
       "19867 NT5DC3   12:104227844 12   \n",
       "19868 YEATS4   12:69621264  12   \n",
       "19869 SMARCD1  12:50289657  12   \n",
       "19870 RNF10    12:121133037 12   \n",
       "19871 KIAA1033 12:105688366 12   \n",
       "19872 ZNF84    12:132991423 12   \n",
       "19873 BBS10    12:76404693  12   \n",
       "19874 HCAR2    12:123164062 12   \n",
       "19875 P2RX4    12:121637133 12   \n",
       "19876 SPSB2    12:7014962   12   \n",
       "19877 CHPT1    12:102043683 12   \n",
       "19878 UTP20    12:101110685 12   \n",
       "19879 TAPBPL   12:6625130   12   \n",
       "19880 DNAJC15  13:43597706  13   \n",
       "19881 POLR1D   13:28195495  13   \n",
       "19882 COMMD6   13:76088638  13   \n",
       "19883 EBPL     13:50283389  13   \n",
       "19884 RPPH1    14:20814865  14   \n",
       "19885 RPL36AL  14:50105746  14   \n",
       "19886 RNASE2   14:21359808  14   \n",
       "19887 VASH1    14:77191198  14   \n",
       "19888 NUDT14   14:105614032 14   \n",
       "19889 SLC24A4  14:92927402  14   \n",
       "19890 KTN1     14:56159354  14   \n",
       "19891 CHURC1   14:65375180  14   \n",
       "19892 GCH1     14:55201507  14   \n",
       "19893 DHRS4    14:24478799  14   \n",
       "19894 HSP90AA1 14:102563797 14   \n",
       "19895 GMPR2    14:23814995  14   "
      ]
     },
     "metadata": {},
     "output_type": "display_data"
    }
   ],
   "source": [
    "fvf_df = Monocyte_eqtls[,c(\"feature\",\"snp_id\",\"chrom\")]\n",
    "head(fvf_df,100)"
   ]
  },
  {
   "cell_type": "code",
   "execution_count": 7,
   "id": "fc3744e0",
   "metadata": {
    "scrolled": true
   },
   "outputs": [
    {
     "data": {
      "text/html": [
       "<table class=\"dataframe\">\n",
       "<caption>A data.frame: 73 × 3</caption>\n",
       "<thead>\n",
       "\t<tr><th></th><th scope=col>feature</th><th scope=col>snp_id</th><th scope=col>chrom</th></tr>\n",
       "\t<tr><th></th><th scope=col>&lt;chr&gt;</th><th scope=col>&lt;chr&gt;</th><th scope=col>&lt;int&gt;</th></tr>\n",
       "</thead>\n",
       "<tbody>\n",
       "\t<tr><th scope=row>20149</th><td>RP11-347P5.1 </td><td>2:196985112</td><td>2</td></tr>\n",
       "\t<tr><th scope=row>20150</th><td>MARCO        </td><td>2:119707051</td><td>2</td></tr>\n",
       "\t<tr><th scope=row>20151</th><td>PPIL3        </td><td>2:201742345</td><td>2</td></tr>\n",
       "\t<tr><th scope=row>20152</th><td>DBI          </td><td>2:120120065</td><td>2</td></tr>\n",
       "\t<tr><th scope=row>20153</th><td>CAPG         </td><td>2:85626524 </td><td>2</td></tr>\n",
       "\t<tr><th scope=row>20154</th><td>CYP27A1      </td><td>2:219665715</td><td>2</td></tr>\n",
       "\t<tr><th scope=row>20155</th><td>NAGK         </td><td>2:71297982 </td><td>2</td></tr>\n",
       "\t<tr><th scope=row>20156</th><td>NEU4         </td><td>2:242758179</td><td>2</td></tr>\n",
       "\t<tr><th scope=row>20157</th><td>RP11-245G13.2</td><td>2:11017287 </td><td>2</td></tr>\n",
       "\t<tr><th scope=row>20158</th><td>DYSF         </td><td>2:71648742 </td><td>2</td></tr>\n",
       "\t<tr><th scope=row>20159</th><td>AC016757.3   </td><td>2:239151041</td><td>2</td></tr>\n",
       "\t<tr><th scope=row>20160</th><td>ITGA4        </td><td>2:182323766</td><td>2</td></tr>\n",
       "\t<tr><th scope=row>20161</th><td>ATIC         </td><td>2:216193600</td><td>2</td></tr>\n",
       "\t<tr><th scope=row>20162</th><td>ACYP2        </td><td>2:54345469 </td><td>2</td></tr>\n",
       "\t<tr><th scope=row>20163</th><td>COX7A2L      </td><td>2:42547086 </td><td>2</td></tr>\n",
       "\t<tr><th scope=row>20164</th><td>FAM117B      </td><td>2:203467470</td><td>2</td></tr>\n",
       "\t<tr><th scope=row>20165</th><td>GCC2         </td><td>2:109278399</td><td>2</td></tr>\n",
       "\t<tr><th scope=row>20166</th><td>SLC11A1      </td><td>2:219229762</td><td>2</td></tr>\n",
       "\t<tr><th scope=row>20167</th><td>GCFC2        </td><td>2:75620987 </td><td>2</td></tr>\n",
       "\t<tr><th scope=row>20168</th><td>TMSB10       </td><td>2:85083503 </td><td>2</td></tr>\n",
       "\t<tr><th scope=row>20169</th><td>C2orf81      </td><td>2:74878639 </td><td>2</td></tr>\n",
       "\t<tr><th scope=row>20170</th><td>ATOH8        </td><td>2:85934652 </td><td>2</td></tr>\n",
       "\t<tr><th scope=row>20171</th><td>RPS7         </td><td>2:3622912  </td><td>2</td></tr>\n",
       "\t<tr><th scope=row>20172</th><td>POMC         </td><td>2:25393722 </td><td>2</td></tr>\n",
       "\t<tr><th scope=row>20546</th><td>AC016757.3   </td><td>2:239141724</td><td>2</td></tr>\n",
       "\t<tr><th scope=row>20547</th><td>NEU4         </td><td>2:242755965</td><td>2</td></tr>\n",
       "\t<tr><th scope=row>20548</th><td>FAM117B      </td><td>2:203477868</td><td>2</td></tr>\n",
       "\t<tr><th scope=row>20549</th><td>CAPG         </td><td>2:85599121 </td><td>2</td></tr>\n",
       "\t<tr><th scope=row>20703</th><td>AC016757.3   </td><td>2:239142088</td><td>2</td></tr>\n",
       "\t<tr><th scope=row>20704</th><td>NEU4         </td><td>2:242762923</td><td>2</td></tr>\n",
       "\t<tr><th scope=row>⋮</th><td>⋮</td><td>⋮</td><td>⋮</td></tr>\n",
       "\t<tr><th scope=row>21228</th><td>CYP1B1      </td><td>2:38394651 </td><td>2</td></tr>\n",
       "\t<tr><th scope=row>21229</th><td>SLC11A1     </td><td>2:219228608</td><td>2</td></tr>\n",
       "\t<tr><th scope=row>21230</th><td>GCC2        </td><td>2:109045638</td><td>2</td></tr>\n",
       "\t<tr><th scope=row>21231</th><td>CAPG        </td><td>2:85530676 </td><td>2</td></tr>\n",
       "\t<tr><th scope=row>21232</th><td>MARCO       </td><td>2:119712082</td><td>2</td></tr>\n",
       "\t<tr><th scope=row>21233</th><td>BIN1        </td><td>2:127886947</td><td>2</td></tr>\n",
       "\t<tr><th scope=row>21234</th><td>MZT2A       </td><td>2:132437266</td><td>2</td></tr>\n",
       "\t<tr><th scope=row>21235</th><td>PPIL3       </td><td>2:201754063</td><td>2</td></tr>\n",
       "\t<tr><th scope=row>21236</th><td>IL1RN       </td><td>2:114448389</td><td>2</td></tr>\n",
       "\t<tr><th scope=row>21237</th><td>ID2         </td><td>2:8319251  </td><td>2</td></tr>\n",
       "\t<tr><th scope=row>21238</th><td>C2orf68     </td><td>2:86376089 </td><td>2</td></tr>\n",
       "\t<tr><th scope=row>21239</th><td>IAH1        </td><td>2:9496291  </td><td>2</td></tr>\n",
       "\t<tr><th scope=row>21240</th><td>FAM117B     </td><td>2:203477868</td><td>2</td></tr>\n",
       "\t<tr><th scope=row>21241</th><td>CALM2       </td><td>2:47313757 </td><td>2</td></tr>\n",
       "\t<tr><th scope=row>21242</th><td>THADA       </td><td>2:42752280 </td><td>2</td></tr>\n",
       "\t<tr><th scope=row>21562</th><td>CLEC4F      </td><td>2:71050935 </td><td>2</td></tr>\n",
       "\t<tr><th scope=row>21563</th><td>CYP1B1      </td><td>2:38394363 </td><td>2</td></tr>\n",
       "\t<tr><th scope=row>21564</th><td>MARCO       </td><td>2:119712312</td><td>2</td></tr>\n",
       "\t<tr><th scope=row>21565</th><td>CYBRD1      </td><td>2:172378893</td><td>2</td></tr>\n",
       "\t<tr><th scope=row>21566</th><td>RP11-347P5.1</td><td>2:196985263</td><td>2</td></tr>\n",
       "\t<tr><th scope=row>21567</th><td>NAGK        </td><td>2:71301406 </td><td>2</td></tr>\n",
       "\t<tr><th scope=row>21716</th><td>CLEC4F      </td><td>2:71051022 </td><td>2</td></tr>\n",
       "\t<tr><th scope=row>21717</th><td>MARCO       </td><td>2:119712444</td><td>2</td></tr>\n",
       "\t<tr><th scope=row>21718</th><td>CYP1B1      </td><td>2:38394836 </td><td>2</td></tr>\n",
       "\t<tr><th scope=row>21829</th><td>CLEC4F      </td><td>2:71051053 </td><td>2</td></tr>\n",
       "\t<tr><th scope=row>21830</th><td>MARCO       </td><td>2:119717450</td><td>2</td></tr>\n",
       "\t<tr><th scope=row>21831</th><td>CYP1B1      </td><td>2:38395241 </td><td>2</td></tr>\n",
       "\t<tr><th scope=row>21924</th><td>CLEC4F      </td><td>2:71051517 </td><td>2</td></tr>\n",
       "\t<tr><th scope=row>21925</th><td>MARCO       </td><td>2:119718028</td><td>2</td></tr>\n",
       "\t<tr><th scope=row>21926</th><td>CYP1B1      </td><td>2:38399088 </td><td>2</td></tr>\n",
       "</tbody>\n",
       "</table>\n"
      ],
      "text/latex": [
       "A data.frame: 73 × 3\n",
       "\\begin{tabular}{r|lll}\n",
       "  & feature & snp\\_id & chrom\\\\\n",
       "  & <chr> & <chr> & <int>\\\\\n",
       "\\hline\n",
       "\t20149 & RP11-347P5.1  & 2:196985112 & 2\\\\\n",
       "\t20150 & MARCO         & 2:119707051 & 2\\\\\n",
       "\t20151 & PPIL3         & 2:201742345 & 2\\\\\n",
       "\t20152 & DBI           & 2:120120065 & 2\\\\\n",
       "\t20153 & CAPG          & 2:85626524  & 2\\\\\n",
       "\t20154 & CYP27A1       & 2:219665715 & 2\\\\\n",
       "\t20155 & NAGK          & 2:71297982  & 2\\\\\n",
       "\t20156 & NEU4          & 2:242758179 & 2\\\\\n",
       "\t20157 & RP11-245G13.2 & 2:11017287  & 2\\\\\n",
       "\t20158 & DYSF          & 2:71648742  & 2\\\\\n",
       "\t20159 & AC016757.3    & 2:239151041 & 2\\\\\n",
       "\t20160 & ITGA4         & 2:182323766 & 2\\\\\n",
       "\t20161 & ATIC          & 2:216193600 & 2\\\\\n",
       "\t20162 & ACYP2         & 2:54345469  & 2\\\\\n",
       "\t20163 & COX7A2L       & 2:42547086  & 2\\\\\n",
       "\t20164 & FAM117B       & 2:203467470 & 2\\\\\n",
       "\t20165 & GCC2          & 2:109278399 & 2\\\\\n",
       "\t20166 & SLC11A1       & 2:219229762 & 2\\\\\n",
       "\t20167 & GCFC2         & 2:75620987  & 2\\\\\n",
       "\t20168 & TMSB10        & 2:85083503  & 2\\\\\n",
       "\t20169 & C2orf81       & 2:74878639  & 2\\\\\n",
       "\t20170 & ATOH8         & 2:85934652  & 2\\\\\n",
       "\t20171 & RPS7          & 2:3622912   & 2\\\\\n",
       "\t20172 & POMC          & 2:25393722  & 2\\\\\n",
       "\t20546 & AC016757.3    & 2:239141724 & 2\\\\\n",
       "\t20547 & NEU4          & 2:242755965 & 2\\\\\n",
       "\t20548 & FAM117B       & 2:203477868 & 2\\\\\n",
       "\t20549 & CAPG          & 2:85599121  & 2\\\\\n",
       "\t20703 & AC016757.3    & 2:239142088 & 2\\\\\n",
       "\t20704 & NEU4          & 2:242762923 & 2\\\\\n",
       "\t⋮ & ⋮ & ⋮ & ⋮\\\\\n",
       "\t21228 & CYP1B1       & 2:38394651  & 2\\\\\n",
       "\t21229 & SLC11A1      & 2:219228608 & 2\\\\\n",
       "\t21230 & GCC2         & 2:109045638 & 2\\\\\n",
       "\t21231 & CAPG         & 2:85530676  & 2\\\\\n",
       "\t21232 & MARCO        & 2:119712082 & 2\\\\\n",
       "\t21233 & BIN1         & 2:127886947 & 2\\\\\n",
       "\t21234 & MZT2A        & 2:132437266 & 2\\\\\n",
       "\t21235 & PPIL3        & 2:201754063 & 2\\\\\n",
       "\t21236 & IL1RN        & 2:114448389 & 2\\\\\n",
       "\t21237 & ID2          & 2:8319251   & 2\\\\\n",
       "\t21238 & C2orf68      & 2:86376089  & 2\\\\\n",
       "\t21239 & IAH1         & 2:9496291   & 2\\\\\n",
       "\t21240 & FAM117B      & 2:203477868 & 2\\\\\n",
       "\t21241 & CALM2        & 2:47313757  & 2\\\\\n",
       "\t21242 & THADA        & 2:42752280  & 2\\\\\n",
       "\t21562 & CLEC4F       & 2:71050935  & 2\\\\\n",
       "\t21563 & CYP1B1       & 2:38394363  & 2\\\\\n",
       "\t21564 & MARCO        & 2:119712312 & 2\\\\\n",
       "\t21565 & CYBRD1       & 2:172378893 & 2\\\\\n",
       "\t21566 & RP11-347P5.1 & 2:196985263 & 2\\\\\n",
       "\t21567 & NAGK         & 2:71301406  & 2\\\\\n",
       "\t21716 & CLEC4F       & 2:71051022  & 2\\\\\n",
       "\t21717 & MARCO        & 2:119712444 & 2\\\\\n",
       "\t21718 & CYP1B1       & 2:38394836  & 2\\\\\n",
       "\t21829 & CLEC4F       & 2:71051053  & 2\\\\\n",
       "\t21830 & MARCO        & 2:119717450 & 2\\\\\n",
       "\t21831 & CYP1B1       & 2:38395241  & 2\\\\\n",
       "\t21924 & CLEC4F       & 2:71051517  & 2\\\\\n",
       "\t21925 & MARCO        & 2:119718028 & 2\\\\\n",
       "\t21926 & CYP1B1       & 2:38399088  & 2\\\\\n",
       "\\end{tabular}\n"
      ],
      "text/markdown": [
       "\n",
       "A data.frame: 73 × 3\n",
       "\n",
       "| <!--/--> | feature &lt;chr&gt; | snp_id &lt;chr&gt; | chrom &lt;int&gt; |\n",
       "|---|---|---|---|\n",
       "| 20149 | RP11-347P5.1  | 2:196985112 | 2 |\n",
       "| 20150 | MARCO         | 2:119707051 | 2 |\n",
       "| 20151 | PPIL3         | 2:201742345 | 2 |\n",
       "| 20152 | DBI           | 2:120120065 | 2 |\n",
       "| 20153 | CAPG          | 2:85626524  | 2 |\n",
       "| 20154 | CYP27A1       | 2:219665715 | 2 |\n",
       "| 20155 | NAGK          | 2:71297982  | 2 |\n",
       "| 20156 | NEU4          | 2:242758179 | 2 |\n",
       "| 20157 | RP11-245G13.2 | 2:11017287  | 2 |\n",
       "| 20158 | DYSF          | 2:71648742  | 2 |\n",
       "| 20159 | AC016757.3    | 2:239151041 | 2 |\n",
       "| 20160 | ITGA4         | 2:182323766 | 2 |\n",
       "| 20161 | ATIC          | 2:216193600 | 2 |\n",
       "| 20162 | ACYP2         | 2:54345469  | 2 |\n",
       "| 20163 | COX7A2L       | 2:42547086  | 2 |\n",
       "| 20164 | FAM117B       | 2:203467470 | 2 |\n",
       "| 20165 | GCC2          | 2:109278399 | 2 |\n",
       "| 20166 | SLC11A1       | 2:219229762 | 2 |\n",
       "| 20167 | GCFC2         | 2:75620987  | 2 |\n",
       "| 20168 | TMSB10        | 2:85083503  | 2 |\n",
       "| 20169 | C2orf81       | 2:74878639  | 2 |\n",
       "| 20170 | ATOH8         | 2:85934652  | 2 |\n",
       "| 20171 | RPS7          | 2:3622912   | 2 |\n",
       "| 20172 | POMC          | 2:25393722  | 2 |\n",
       "| 20546 | AC016757.3    | 2:239141724 | 2 |\n",
       "| 20547 | NEU4          | 2:242755965 | 2 |\n",
       "| 20548 | FAM117B       | 2:203477868 | 2 |\n",
       "| 20549 | CAPG          | 2:85599121  | 2 |\n",
       "| 20703 | AC016757.3    | 2:239142088 | 2 |\n",
       "| 20704 | NEU4          | 2:242762923 | 2 |\n",
       "| ⋮ | ⋮ | ⋮ | ⋮ |\n",
       "| 21228 | CYP1B1       | 2:38394651  | 2 |\n",
       "| 21229 | SLC11A1      | 2:219228608 | 2 |\n",
       "| 21230 | GCC2         | 2:109045638 | 2 |\n",
       "| 21231 | CAPG         | 2:85530676  | 2 |\n",
       "| 21232 | MARCO        | 2:119712082 | 2 |\n",
       "| 21233 | BIN1         | 2:127886947 | 2 |\n",
       "| 21234 | MZT2A        | 2:132437266 | 2 |\n",
       "| 21235 | PPIL3        | 2:201754063 | 2 |\n",
       "| 21236 | IL1RN        | 2:114448389 | 2 |\n",
       "| 21237 | ID2          | 2:8319251   | 2 |\n",
       "| 21238 | C2orf68      | 2:86376089  | 2 |\n",
       "| 21239 | IAH1         | 2:9496291   | 2 |\n",
       "| 21240 | FAM117B      | 2:203477868 | 2 |\n",
       "| 21241 | CALM2        | 2:47313757  | 2 |\n",
       "| 21242 | THADA        | 2:42752280  | 2 |\n",
       "| 21562 | CLEC4F       | 2:71050935  | 2 |\n",
       "| 21563 | CYP1B1       | 2:38394363  | 2 |\n",
       "| 21564 | MARCO        | 2:119712312 | 2 |\n",
       "| 21565 | CYBRD1       | 2:172378893 | 2 |\n",
       "| 21566 | RP11-347P5.1 | 2:196985263 | 2 |\n",
       "| 21567 | NAGK         | 2:71301406  | 2 |\n",
       "| 21716 | CLEC4F       | 2:71051022  | 2 |\n",
       "| 21717 | MARCO        | 2:119712444 | 2 |\n",
       "| 21718 | CYP1B1       | 2:38394836  | 2 |\n",
       "| 21829 | CLEC4F       | 2:71051053  | 2 |\n",
       "| 21830 | MARCO        | 2:119717450 | 2 |\n",
       "| 21831 | CYP1B1       | 2:38395241  | 2 |\n",
       "| 21924 | CLEC4F       | 2:71051517  | 2 |\n",
       "| 21925 | MARCO        | 2:119718028 | 2 |\n",
       "| 21926 | CYP1B1       | 2:38399088  | 2 |\n",
       "\n"
      ],
      "text/plain": [
       "      feature       snp_id      chrom\n",
       "20149 RP11-347P5.1  2:196985112 2    \n",
       "20150 MARCO         2:119707051 2    \n",
       "20151 PPIL3         2:201742345 2    \n",
       "20152 DBI           2:120120065 2    \n",
       "20153 CAPG          2:85626524  2    \n",
       "20154 CYP27A1       2:219665715 2    \n",
       "20155 NAGK          2:71297982  2    \n",
       "20156 NEU4          2:242758179 2    \n",
       "20157 RP11-245G13.2 2:11017287  2    \n",
       "20158 DYSF          2:71648742  2    \n",
       "20159 AC016757.3    2:239151041 2    \n",
       "20160 ITGA4         2:182323766 2    \n",
       "20161 ATIC          2:216193600 2    \n",
       "20162 ACYP2         2:54345469  2    \n",
       "20163 COX7A2L       2:42547086  2    \n",
       "20164 FAM117B       2:203467470 2    \n",
       "20165 GCC2          2:109278399 2    \n",
       "20166 SLC11A1       2:219229762 2    \n",
       "20167 GCFC2         2:75620987  2    \n",
       "20168 TMSB10        2:85083503  2    \n",
       "20169 C2orf81       2:74878639  2    \n",
       "20170 ATOH8         2:85934652  2    \n",
       "20171 RPS7          2:3622912   2    \n",
       "20172 POMC          2:25393722  2    \n",
       "20546 AC016757.3    2:239141724 2    \n",
       "20547 NEU4          2:242755965 2    \n",
       "20548 FAM117B       2:203477868 2    \n",
       "20549 CAPG          2:85599121  2    \n",
       "20703 AC016757.3    2:239142088 2    \n",
       "20704 NEU4          2:242762923 2    \n",
       "⋮     ⋮             ⋮           ⋮    \n",
       "21228 CYP1B1        2:38394651  2    \n",
       "21229 SLC11A1       2:219228608 2    \n",
       "21230 GCC2          2:109045638 2    \n",
       "21231 CAPG          2:85530676  2    \n",
       "21232 MARCO         2:119712082 2    \n",
       "21233 BIN1          2:127886947 2    \n",
       "21234 MZT2A         2:132437266 2    \n",
       "21235 PPIL3         2:201754063 2    \n",
       "21236 IL1RN         2:114448389 2    \n",
       "21237 ID2           2:8319251   2    \n",
       "21238 C2orf68       2:86376089  2    \n",
       "21239 IAH1          2:9496291   2    \n",
       "21240 FAM117B       2:203477868 2    \n",
       "21241 CALM2         2:47313757  2    \n",
       "21242 THADA         2:42752280  2    \n",
       "21562 CLEC4F        2:71050935  2    \n",
       "21563 CYP1B1        2:38394363  2    \n",
       "21564 MARCO         2:119712312 2    \n",
       "21565 CYBRD1        2:172378893 2    \n",
       "21566 RP11-347P5.1  2:196985263 2    \n",
       "21567 NAGK          2:71301406  2    \n",
       "21716 CLEC4F        2:71051022  2    \n",
       "21717 MARCO         2:119712444 2    \n",
       "21718 CYP1B1        2:38394836  2    \n",
       "21829 CLEC4F        2:71051053  2    \n",
       "21830 MARCO         2:119717450 2    \n",
       "21831 CYP1B1        2:38395241  2    \n",
       "21924 CLEC4F        2:71051517  2    \n",
       "21925 MARCO         2:119718028 2    \n",
       "21926 CYP1B1        2:38399088  2    "
      ]
     },
     "metadata": {},
     "output_type": "display_data"
    }
   ],
   "source": [
    "fvf_df[fvf_df$chrom==2,] "
   ]
  },
  {
   "cell_type": "code",
   "execution_count": 8,
   "id": "351701c1",
   "metadata": {},
   "outputs": [],
   "source": [
    "######## input files folder\n",
    "input_files_dir = paste0(mydir,\"input_files_CellRegMap/\")"
   ]
  },
  {
   "cell_type": "code",
   "execution_count": 9,
   "id": "c114a79d",
   "metadata": {},
   "outputs": [
    {
     "data": {
      "text/html": [
       "'/share/ScratchGeneral/anncuo/OneK1K/input_files_CellRegMap/fvf_Monocyte_eqtls.csv'"
      ],
      "text/latex": [
       "'/share/ScratchGeneral/anncuo/OneK1K/input\\_files\\_CellRegMap/fvf\\_Monocyte\\_eqtls.csv'"
      ],
      "text/markdown": [
       "'/share/ScratchGeneral/anncuo/OneK1K/input_files_CellRegMap/fvf_Monocyte_eqtls.csv'"
      ],
      "text/plain": [
       "[1] \"/share/ScratchGeneral/anncuo/OneK1K/input_files_CellRegMap/fvf_Monocyte_eqtls.csv\""
      ]
     },
     "metadata": {},
     "output_type": "display_data"
    }
   ],
   "source": [
    "fvf_filename = paste0(input_files_dir,\"fvf_Monocyte_eqtls.csv\")\n",
    "fvf_filename"
   ]
  },
  {
   "cell_type": "code",
   "execution_count": 10,
   "id": "c191a589",
   "metadata": {},
   "outputs": [],
   "source": [
    "write.csv(fvf_df, fvf_filename)"
   ]
  },
  {
   "cell_type": "code",
   "execution_count": null,
   "id": "3ce3fd7f",
   "metadata": {},
   "outputs": [],
   "source": []
  }
 ],
 "metadata": {
  "kernelspec": {
   "display_name": "Single Cell Notebook (R 4.1.2)",
   "language": "R",
   "name": "singlecell"
  },
  "language_info": {
   "codemirror_mode": "r",
   "file_extension": ".r",
   "mimetype": "text/x-r-source",
   "name": "R",
   "pygments_lexer": "r",
   "version": "4.1.2"
  }
 },
 "nbformat": 4,
 "nbformat_minor": 5
}
