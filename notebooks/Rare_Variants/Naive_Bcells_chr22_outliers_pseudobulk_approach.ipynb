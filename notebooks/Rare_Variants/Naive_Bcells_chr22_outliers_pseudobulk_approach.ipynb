{
 "cells": [
  {
   "cell_type": "code",
   "execution_count": null,
   "id": "d4862262",
   "metadata": {},
   "outputs": [],
   "source": [
    "library(ggplot2)"
   ]
  },
  {
   "cell_type": "code",
   "execution_count": 2,
   "id": "34d24bb0",
   "metadata": {},
   "outputs": [],
   "source": [
    "mydir = \"/share/ScratchGeneral/anncuo/OneK1K/\"\n",
    "sce_filename = paste0(mydir,\"naive_Bcell_sce.RDS\")"
   ]
  },
  {
   "cell_type": "code",
   "execution_count": 3,
   "id": "63c4ca1a",
   "metadata": {},
   "outputs": [
    {
     "name": "stderr",
     "output_type": "stream",
     "text": [
      "Loading required package: SeuratObject\n",
      "\n",
      "Loading required package: Seurat\n",
      "\n"
     ]
    },
    {
     "data": {
      "text/plain": [
       "An object of class Seurat \n",
       "57641 features across 71374 samples within 2 assays \n",
       "Active assay: SCT (24903 features, 3000 variable features)\n",
       " 1 other assay present: RNA\n",
       " 2 dimensional reductions calculated: pca, umap"
      ]
     },
     "metadata": {},
     "output_type": "display_data"
    }
   ],
   "source": [
    "# 57,641 features \n",
    "# across 71,274 samples (naive B cells only)\n",
    "# with two assays: SCT and RNA\n",
    "# dimensionality reductions: PCA, UMAP\n",
    "sce = readRDS(sce_filename)\n",
    "sce"
   ]
  },
  {
   "cell_type": "code",
   "execution_count": 4,
   "id": "06b8747c",
   "metadata": {},
   "outputs": [],
   "source": [
    "# select chr22 genes only"
   ]
  },
  {
   "cell_type": "code",
   "execution_count": 5,
   "id": "6e1684c4",
   "metadata": {},
   "outputs": [],
   "source": [
    "## gene location file\n",
    "genes_filename =  paste0(mydir,\"GeneLocations.tsv\")\n",
    "genes_df = read.csv(genes_filename, sep=\"\\t\")\n",
    "chr22_genes = unique(genes_df[genes_df$seqid == '22',\"gene_name\"])"
   ]
  },
  {
   "cell_type": "code",
   "execution_count": 207,
   "id": "d41adb1b",
   "metadata": {},
   "outputs": [
    {
     "data": {
      "text/html": [
       "703"
      ],
      "text/latex": [
       "703"
      ],
      "text/markdown": [
       "703"
      ],
      "text/plain": [
       "[1] 703"
      ]
     },
     "metadata": {},
     "output_type": "display_data"
    }
   ],
   "source": [
    "length(chr22_genes)"
   ]
  },
  {
   "cell_type": "code",
   "execution_count": 6,
   "id": "9d58f400",
   "metadata": {},
   "outputs": [],
   "source": [
    "sce_22 = subset(sce, features = chr22_genes[chr22_genes %in% rownames(sce)])"
   ]
  },
  {
   "cell_type": "code",
   "execution_count": 322,
   "id": "1129af58",
   "metadata": {
    "scrolled": true
   },
   "outputs": [
    {
     "data": {
      "text/html": [
       "<table class=\"dataframe\">\n",
       "<caption>A data.frame: 200 × 5</caption>\n",
       "<thead>\n",
       "\t<tr><th></th><th scope=col>sct.detection_rate</th><th scope=col>sct.gmean</th><th scope=col>sct.variance</th><th scope=col>sct.residual_variance</th><th scope=col>sct.variable</th></tr>\n",
       "\t<tr><th></th><th scope=col>&lt;dbl&gt;</th><th scope=col>&lt;dbl&gt;</th><th scope=col>&lt;dbl&gt;</th><th scope=col>&lt;dbl&gt;</th><th scope=col>&lt;lgl&gt;</th></tr>\n",
       "</thead>\n",
       "<tbody>\n",
       "\t<tr><th scope=row>RPL3</th><td>0.9976401</td><td>16.5749388</td><td>234.3540763</td><td>1.0924628</td><td>FALSE</td></tr>\n",
       "\t<tr><th scope=row>EIF3L</th><td>0.5624072</td><td> 0.7347408</td><td>  1.8036680</td><td>0.8995602</td><td>FALSE</td></tr>\n",
       "\t<tr><th scope=row>RAC2</th><td>0.5583349</td><td> 0.7296531</td><td>  1.9261384</td><td>1.1933105</td><td> TRUE</td></tr>\n",
       "\t<tr><th scope=row>LGALS1</th><td>0.3585131</td><td> 0.5695497</td><td> 12.1833307</td><td>7.6148885</td><td> TRUE</td></tr>\n",
       "\t<tr><th scope=row>SMDT1</th><td>0.4898423</td><td> 0.5686253</td><td>  1.1913685</td><td>1.0013435</td><td>FALSE</td></tr>\n",
       "\t<tr><th scope=row>MIF</th><td>0.5015588</td><td> 0.5656225</td><td>  1.3212327</td><td>1.0059635</td><td>FALSE</td></tr>\n",
       "\t<tr><th scope=row>ST13</th><td>0.4367826</td><td> 0.4673363</td><td>  0.8968975</td><td>0.9635100</td><td>FALSE</td></tr>\n",
       "\t<tr><th scope=row>TSPO</th><td>0.4118480</td><td> 0.4554051</td><td>  1.7117276</td><td>1.6258788</td><td> TRUE</td></tr>\n",
       "\t<tr><th scope=row>EIF3D</th><td>0.4215659</td><td> 0.4432319</td><td>  0.8535576</td><td>0.9096995</td><td>FALSE</td></tr>\n",
       "\t<tr><th scope=row>UQCR10</th><td>0.4263141</td><td> 0.4392452</td><td>  0.8530047</td><td>0.9808476</td><td>FALSE</td></tr>\n",
       "\t<tr><th scope=row>PIK3IP1</th><td>0.3615308</td><td> 0.3796202</td><td>  0.8766750</td><td>1.1840869</td><td> TRUE</td></tr>\n",
       "\t<tr><th scope=row>DDX17</th><td>0.3597438</td><td> 0.3474395</td><td>  0.6056048</td><td>1.0777707</td><td>FALSE</td></tr>\n",
       "\t<tr><th scope=row>TNRC6B</th><td>0.3589202</td><td> 0.3446695</td><td>  0.5839563</td><td>1.2278556</td><td> TRUE</td></tr>\n",
       "\t<tr><th scope=row>NHP2L1</th><td>0.3347911</td><td> 0.3141824</td><td>  0.6090630</td><td>0.9216623</td><td>FALSE</td></tr>\n",
       "\t<tr><th scope=row>SUN2</th><td>0.3268060</td><td> 0.3049372</td><td>  0.5176796</td><td>1.1201015</td><td>FALSE</td></tr>\n",
       "\t<tr><th scope=row>DDT</th><td>0.3035248</td><td> 0.2790448</td><td>  0.5196074</td><td>0.9280050</td><td>FALSE</td></tr>\n",
       "\t<tr><th scope=row>ATF4</th><td>0.3016293</td><td> 0.2779505</td><td>  0.5901846</td><td>0.9811395</td><td>FALSE</td></tr>\n",
       "\t<tr><th scope=row>UBE2L3</th><td>0.2952725</td><td> 0.2655423</td><td>  0.5079391</td><td>0.9422456</td><td>FALSE</td></tr>\n",
       "\t<tr><th scope=row>RBX1</th><td>0.2830123</td><td> 0.2583761</td><td>  0.5565057</td><td>1.0363007</td><td>FALSE</td></tr>\n",
       "\t<tr><th scope=row>XBP1</th><td>0.2640872</td><td> 0.2425290</td><td>  0.9965669</td><td>1.4202533</td><td> TRUE</td></tr>\n",
       "\t<tr><th scope=row>XRCC6</th><td>0.2557185</td><td> 0.2214517</td><td>  0.3922917</td><td>0.8801445</td><td>FALSE</td></tr>\n",
       "\t<tr><th scope=row>CHCHD10</th><td>0.2475825</td><td> 0.2208346</td><td>  0.4663921</td><td>0.9811446</td><td>FALSE</td></tr>\n",
       "\t<tr><th scope=row>RPS19BP1</th><td>0.2508218</td><td> 0.2132590</td><td>  0.3474802</td><td>0.9546800</td><td>FALSE</td></tr>\n",
       "\t<tr><th scope=row>RANBP1</th><td>0.2426944</td><td> 0.2041608</td><td>  0.4420163</td><td>0.9147789</td><td>FALSE</td></tr>\n",
       "\t<tr><th scope=row>TOMM22</th><td>0.2351085</td><td> 0.1980776</td><td>  0.3274025</td><td>0.8827071</td><td>FALSE</td></tr>\n",
       "\t<tr><th scope=row>NDUFA6</th><td>0.2194290</td><td> 0.1850545</td><td>  0.3392042</td><td>0.9784795</td><td>FALSE</td></tr>\n",
       "\t<tr><th scope=row>MFNG</th><td>0.2069275</td><td> 0.1711642</td><td>  0.2745902</td><td>0.9171782</td><td>FALSE</td></tr>\n",
       "\t<tr><th scope=row>MYH9</th><td>0.1983475</td><td> 0.1642802</td><td>  0.2762458</td><td>1.0307786</td><td>FALSE</td></tr>\n",
       "\t<tr><th scope=row>TRABD</th><td>0.1985133</td><td> 0.1630755</td><td>  0.2782865</td><td>0.9695880</td><td>FALSE</td></tr>\n",
       "\t<tr><th scope=row>APOBEC3G</th><td>0.1826365</td><td> 0.1597722</td><td>  0.3741384</td><td>1.4479215</td><td> TRUE</td></tr>\n",
       "\t<tr><th scope=row>⋮</th><td>⋮</td><td>⋮</td><td>⋮</td><td>⋮</td><td>⋮</td></tr>\n",
       "\t<tr><th scope=row>MAFF</th><td>0.02558136</td><td>0.01880431</td><td>0.03289182</td><td>1.1673420</td><td> TRUE</td></tr>\n",
       "\t<tr><th scope=row>PRR14L</th><td>0.02629414</td><td>0.01870665</td><td>0.02790455</td><td>0.9685562</td><td>FALSE</td></tr>\n",
       "\t<tr><th scope=row>CHKB</th><td>0.02639787</td><td>0.01869070</td><td>0.02733318</td><td>0.9999877</td><td>FALSE</td></tr>\n",
       "\t<tr><th scope=row>NF2</th><td>0.02621398</td><td>0.01860307</td><td>0.02750004</td><td>1.0053637</td><td>FALSE</td></tr>\n",
       "\t<tr><th scope=row>CENPM</th><td>0.02412673</td><td>0.01837153</td><td>0.05252446</td><td>1.0997876</td><td>FALSE</td></tr>\n",
       "\t<tr><th scope=row>MKL1</th><td>0.02570710</td><td>0.01824740</td><td>0.02702229</td><td>0.9416938</td><td>FALSE</td></tr>\n",
       "\t<tr><th scope=row>MIEF1</th><td>0.02563951</td><td>0.01822168</td><td>0.02710873</td><td>0.9548033</td><td>FALSE</td></tr>\n",
       "\t<tr><th scope=row>TNFRSF13C</th><td>0.02384146</td><td>0.01797627</td><td>0.03405091</td><td>1.1902988</td><td> TRUE</td></tr>\n",
       "\t<tr><th scope=row>CTA-445C9.15</th><td>0.02494874</td><td>0.01782574</td><td>0.02714561</td><td>1.1607671</td><td> TRUE</td></tr>\n",
       "\t<tr><th scope=row>PISD</th><td>0.02496525</td><td>0.01770285</td><td>0.02618401</td><td>0.9333589</td><td>FALSE</td></tr>\n",
       "\t<tr><th scope=row>TXNRD2</th><td>0.02480257</td><td>0.01757053</td><td>0.02590059</td><td>0.9149905</td><td>FALSE</td></tr>\n",
       "\t<tr><th scope=row>LINC00528</th><td>0.02423361</td><td>0.01727675</td><td>0.02623860</td><td>0.9956853</td><td>FALSE</td></tr>\n",
       "\t<tr><th scope=row>APOBEC3D</th><td>0.02369765</td><td>0.01693263</td><td>0.02599853</td><td>1.2455681</td><td> TRUE</td></tr>\n",
       "\t<tr><th scope=row>TCF20</th><td>0.02373223</td><td>0.01676326</td><td>0.02445211</td><td>0.9907022</td><td>FALSE</td></tr>\n",
       "\t<tr><th scope=row>KIAA0930</th><td>0.02245442</td><td>0.01637392</td><td>0.02743688</td><td>0.9522088</td><td>FALSE</td></tr>\n",
       "\t<tr><th scope=row>KLHDC7B</th><td>0.02295816</td><td>0.01623898</td><td>0.02388838</td><td>0.9483651</td><td>FALSE</td></tr>\n",
       "\t<tr><th scope=row>DGCR2</th><td>0.02299038</td><td>0.01621563</td><td>0.02356685</td><td>0.9447140</td><td>FALSE</td></tr>\n",
       "\t<tr><th scope=row>DGCR14</th><td>0.02271611</td><td>0.01605299</td><td>0.02356185</td><td>0.9418732</td><td>FALSE</td></tr>\n",
       "\t<tr><th scope=row>GNB1L</th><td>0.02255894</td><td>0.01595291</td><td>0.02348308</td><td>0.9247058</td><td>FALSE</td></tr>\n",
       "\t<tr><th scope=row>LL22NC03-2H8.5</th><td>0.02159704</td><td>0.01573898</td><td>0.02615489</td><td>1.1978391</td><td> TRUE</td></tr>\n",
       "\t<tr><th scope=row>MICAL3</th><td>0.02184302</td><td>0.01565129</td><td>0.02432603</td><td>1.1003588</td><td>FALSE</td></tr>\n",
       "\t<tr><th scope=row>ZC3H7B</th><td>0.02194675</td><td>0.01549232</td><td>0.02267173</td><td>0.9943375</td><td>FALSE</td></tr>\n",
       "\t<tr><th scope=row>HMOX1</th><td>0.01834122</td><td>0.01548370</td><td>0.07416905</td><td>1.9096630</td><td> TRUE</td></tr>\n",
       "\t<tr><th scope=row>CDPF1</th><td>0.02186817</td><td>0.01541298</td><td>0.02241070</td><td>0.9475012</td><td>FALSE</td></tr>\n",
       "\t<tr><th scope=row>CRKL</th><td>0.02150903</td><td>0.01517659</td><td>0.02218901</td><td>0.9651421</td><td>FALSE</td></tr>\n",
       "\t<tr><th scope=row>BRD1</th><td>0.02102651</td><td>0.01485300</td><td>0.02185533</td><td>0.9914361</td><td>FALSE</td></tr>\n",
       "\t<tr><th scope=row>NAGA</th><td>0.02020921</td><td>0.01480487</td><td>0.02561362</td><td>0.8747860</td><td>FALSE</td></tr>\n",
       "\t<tr><th scope=row>DGCR8</th><td>0.02019428</td><td>0.01424393</td><td>0.02086882</td><td>1.0170626</td><td>FALSE</td></tr>\n",
       "\t<tr><th scope=row>MTMR3</th><td>0.02002139</td><td>0.01412692</td><td>0.02073557</td><td>0.9915291</td><td>FALSE</td></tr>\n",
       "\t<tr><th scope=row>TAB1</th><td>0.02005675</td><td>0.01411707</td><td>0.02051518</td><td>0.9383601</td><td>FALSE</td></tr>\n",
       "</tbody>\n",
       "</table>\n"
      ],
      "text/latex": [
       "A data.frame: 200 × 5\n",
       "\\begin{tabular}{r|lllll}\n",
       "  & sct.detection\\_rate & sct.gmean & sct.variance & sct.residual\\_variance & sct.variable\\\\\n",
       "  & <dbl> & <dbl> & <dbl> & <dbl> & <lgl>\\\\\n",
       "\\hline\n",
       "\tRPL3 & 0.9976401 & 16.5749388 & 234.3540763 & 1.0924628 & FALSE\\\\\n",
       "\tEIF3L & 0.5624072 &  0.7347408 &   1.8036680 & 0.8995602 & FALSE\\\\\n",
       "\tRAC2 & 0.5583349 &  0.7296531 &   1.9261384 & 1.1933105 &  TRUE\\\\\n",
       "\tLGALS1 & 0.3585131 &  0.5695497 &  12.1833307 & 7.6148885 &  TRUE\\\\\n",
       "\tSMDT1 & 0.4898423 &  0.5686253 &   1.1913685 & 1.0013435 & FALSE\\\\\n",
       "\tMIF & 0.5015588 &  0.5656225 &   1.3212327 & 1.0059635 & FALSE\\\\\n",
       "\tST13 & 0.4367826 &  0.4673363 &   0.8968975 & 0.9635100 & FALSE\\\\\n",
       "\tTSPO & 0.4118480 &  0.4554051 &   1.7117276 & 1.6258788 &  TRUE\\\\\n",
       "\tEIF3D & 0.4215659 &  0.4432319 &   0.8535576 & 0.9096995 & FALSE\\\\\n",
       "\tUQCR10 & 0.4263141 &  0.4392452 &   0.8530047 & 0.9808476 & FALSE\\\\\n",
       "\tPIK3IP1 & 0.3615308 &  0.3796202 &   0.8766750 & 1.1840869 &  TRUE\\\\\n",
       "\tDDX17 & 0.3597438 &  0.3474395 &   0.6056048 & 1.0777707 & FALSE\\\\\n",
       "\tTNRC6B & 0.3589202 &  0.3446695 &   0.5839563 & 1.2278556 &  TRUE\\\\\n",
       "\tNHP2L1 & 0.3347911 &  0.3141824 &   0.6090630 & 0.9216623 & FALSE\\\\\n",
       "\tSUN2 & 0.3268060 &  0.3049372 &   0.5176796 & 1.1201015 & FALSE\\\\\n",
       "\tDDT & 0.3035248 &  0.2790448 &   0.5196074 & 0.9280050 & FALSE\\\\\n",
       "\tATF4 & 0.3016293 &  0.2779505 &   0.5901846 & 0.9811395 & FALSE\\\\\n",
       "\tUBE2L3 & 0.2952725 &  0.2655423 &   0.5079391 & 0.9422456 & FALSE\\\\\n",
       "\tRBX1 & 0.2830123 &  0.2583761 &   0.5565057 & 1.0363007 & FALSE\\\\\n",
       "\tXBP1 & 0.2640872 &  0.2425290 &   0.9965669 & 1.4202533 &  TRUE\\\\\n",
       "\tXRCC6 & 0.2557185 &  0.2214517 &   0.3922917 & 0.8801445 & FALSE\\\\\n",
       "\tCHCHD10 & 0.2475825 &  0.2208346 &   0.4663921 & 0.9811446 & FALSE\\\\\n",
       "\tRPS19BP1 & 0.2508218 &  0.2132590 &   0.3474802 & 0.9546800 & FALSE\\\\\n",
       "\tRANBP1 & 0.2426944 &  0.2041608 &   0.4420163 & 0.9147789 & FALSE\\\\\n",
       "\tTOMM22 & 0.2351085 &  0.1980776 &   0.3274025 & 0.8827071 & FALSE\\\\\n",
       "\tNDUFA6 & 0.2194290 &  0.1850545 &   0.3392042 & 0.9784795 & FALSE\\\\\n",
       "\tMFNG & 0.2069275 &  0.1711642 &   0.2745902 & 0.9171782 & FALSE\\\\\n",
       "\tMYH9 & 0.1983475 &  0.1642802 &   0.2762458 & 1.0307786 & FALSE\\\\\n",
       "\tTRABD & 0.1985133 &  0.1630755 &   0.2782865 & 0.9695880 & FALSE\\\\\n",
       "\tAPOBEC3G & 0.1826365 &  0.1597722 &   0.3741384 & 1.4479215 &  TRUE\\\\\n",
       "\t⋮ & ⋮ & ⋮ & ⋮ & ⋮ & ⋮\\\\\n",
       "\tMAFF & 0.02558136 & 0.01880431 & 0.03289182 & 1.1673420 &  TRUE\\\\\n",
       "\tPRR14L & 0.02629414 & 0.01870665 & 0.02790455 & 0.9685562 & FALSE\\\\\n",
       "\tCHKB & 0.02639787 & 0.01869070 & 0.02733318 & 0.9999877 & FALSE\\\\\n",
       "\tNF2 & 0.02621398 & 0.01860307 & 0.02750004 & 1.0053637 & FALSE\\\\\n",
       "\tCENPM & 0.02412673 & 0.01837153 & 0.05252446 & 1.0997876 & FALSE\\\\\n",
       "\tMKL1 & 0.02570710 & 0.01824740 & 0.02702229 & 0.9416938 & FALSE\\\\\n",
       "\tMIEF1 & 0.02563951 & 0.01822168 & 0.02710873 & 0.9548033 & FALSE\\\\\n",
       "\tTNFRSF13C & 0.02384146 & 0.01797627 & 0.03405091 & 1.1902988 &  TRUE\\\\\n",
       "\tCTA-445C9.15 & 0.02494874 & 0.01782574 & 0.02714561 & 1.1607671 &  TRUE\\\\\n",
       "\tPISD & 0.02496525 & 0.01770285 & 0.02618401 & 0.9333589 & FALSE\\\\\n",
       "\tTXNRD2 & 0.02480257 & 0.01757053 & 0.02590059 & 0.9149905 & FALSE\\\\\n",
       "\tLINC00528 & 0.02423361 & 0.01727675 & 0.02623860 & 0.9956853 & FALSE\\\\\n",
       "\tAPOBEC3D & 0.02369765 & 0.01693263 & 0.02599853 & 1.2455681 &  TRUE\\\\\n",
       "\tTCF20 & 0.02373223 & 0.01676326 & 0.02445211 & 0.9907022 & FALSE\\\\\n",
       "\tKIAA0930 & 0.02245442 & 0.01637392 & 0.02743688 & 0.9522088 & FALSE\\\\\n",
       "\tKLHDC7B & 0.02295816 & 0.01623898 & 0.02388838 & 0.9483651 & FALSE\\\\\n",
       "\tDGCR2 & 0.02299038 & 0.01621563 & 0.02356685 & 0.9447140 & FALSE\\\\\n",
       "\tDGCR14 & 0.02271611 & 0.01605299 & 0.02356185 & 0.9418732 & FALSE\\\\\n",
       "\tGNB1L & 0.02255894 & 0.01595291 & 0.02348308 & 0.9247058 & FALSE\\\\\n",
       "\tLL22NC03-2H8.5 & 0.02159704 & 0.01573898 & 0.02615489 & 1.1978391 &  TRUE\\\\\n",
       "\tMICAL3 & 0.02184302 & 0.01565129 & 0.02432603 & 1.1003588 & FALSE\\\\\n",
       "\tZC3H7B & 0.02194675 & 0.01549232 & 0.02267173 & 0.9943375 & FALSE\\\\\n",
       "\tHMOX1 & 0.01834122 & 0.01548370 & 0.07416905 & 1.9096630 &  TRUE\\\\\n",
       "\tCDPF1 & 0.02186817 & 0.01541298 & 0.02241070 & 0.9475012 & FALSE\\\\\n",
       "\tCRKL & 0.02150903 & 0.01517659 & 0.02218901 & 0.9651421 & FALSE\\\\\n",
       "\tBRD1 & 0.02102651 & 0.01485300 & 0.02185533 & 0.9914361 & FALSE\\\\\n",
       "\tNAGA & 0.02020921 & 0.01480487 & 0.02561362 & 0.8747860 & FALSE\\\\\n",
       "\tDGCR8 & 0.02019428 & 0.01424393 & 0.02086882 & 1.0170626 & FALSE\\\\\n",
       "\tMTMR3 & 0.02002139 & 0.01412692 & 0.02073557 & 0.9915291 & FALSE\\\\\n",
       "\tTAB1 & 0.02005675 & 0.01411707 & 0.02051518 & 0.9383601 & FALSE\\\\\n",
       "\\end{tabular}\n"
      ],
      "text/markdown": [
       "\n",
       "A data.frame: 200 × 5\n",
       "\n",
       "| <!--/--> | sct.detection_rate &lt;dbl&gt; | sct.gmean &lt;dbl&gt; | sct.variance &lt;dbl&gt; | sct.residual_variance &lt;dbl&gt; | sct.variable &lt;lgl&gt; |\n",
       "|---|---|---|---|---|---|\n",
       "| RPL3 | 0.9976401 | 16.5749388 | 234.3540763 | 1.0924628 | FALSE |\n",
       "| EIF3L | 0.5624072 |  0.7347408 |   1.8036680 | 0.8995602 | FALSE |\n",
       "| RAC2 | 0.5583349 |  0.7296531 |   1.9261384 | 1.1933105 |  TRUE |\n",
       "| LGALS1 | 0.3585131 |  0.5695497 |  12.1833307 | 7.6148885 |  TRUE |\n",
       "| SMDT1 | 0.4898423 |  0.5686253 |   1.1913685 | 1.0013435 | FALSE |\n",
       "| MIF | 0.5015588 |  0.5656225 |   1.3212327 | 1.0059635 | FALSE |\n",
       "| ST13 | 0.4367826 |  0.4673363 |   0.8968975 | 0.9635100 | FALSE |\n",
       "| TSPO | 0.4118480 |  0.4554051 |   1.7117276 | 1.6258788 |  TRUE |\n",
       "| EIF3D | 0.4215659 |  0.4432319 |   0.8535576 | 0.9096995 | FALSE |\n",
       "| UQCR10 | 0.4263141 |  0.4392452 |   0.8530047 | 0.9808476 | FALSE |\n",
       "| PIK3IP1 | 0.3615308 |  0.3796202 |   0.8766750 | 1.1840869 |  TRUE |\n",
       "| DDX17 | 0.3597438 |  0.3474395 |   0.6056048 | 1.0777707 | FALSE |\n",
       "| TNRC6B | 0.3589202 |  0.3446695 |   0.5839563 | 1.2278556 |  TRUE |\n",
       "| NHP2L1 | 0.3347911 |  0.3141824 |   0.6090630 | 0.9216623 | FALSE |\n",
       "| SUN2 | 0.3268060 |  0.3049372 |   0.5176796 | 1.1201015 | FALSE |\n",
       "| DDT | 0.3035248 |  0.2790448 |   0.5196074 | 0.9280050 | FALSE |\n",
       "| ATF4 | 0.3016293 |  0.2779505 |   0.5901846 | 0.9811395 | FALSE |\n",
       "| UBE2L3 | 0.2952725 |  0.2655423 |   0.5079391 | 0.9422456 | FALSE |\n",
       "| RBX1 | 0.2830123 |  0.2583761 |   0.5565057 | 1.0363007 | FALSE |\n",
       "| XBP1 | 0.2640872 |  0.2425290 |   0.9965669 | 1.4202533 |  TRUE |\n",
       "| XRCC6 | 0.2557185 |  0.2214517 |   0.3922917 | 0.8801445 | FALSE |\n",
       "| CHCHD10 | 0.2475825 |  0.2208346 |   0.4663921 | 0.9811446 | FALSE |\n",
       "| RPS19BP1 | 0.2508218 |  0.2132590 |   0.3474802 | 0.9546800 | FALSE |\n",
       "| RANBP1 | 0.2426944 |  0.2041608 |   0.4420163 | 0.9147789 | FALSE |\n",
       "| TOMM22 | 0.2351085 |  0.1980776 |   0.3274025 | 0.8827071 | FALSE |\n",
       "| NDUFA6 | 0.2194290 |  0.1850545 |   0.3392042 | 0.9784795 | FALSE |\n",
       "| MFNG | 0.2069275 |  0.1711642 |   0.2745902 | 0.9171782 | FALSE |\n",
       "| MYH9 | 0.1983475 |  0.1642802 |   0.2762458 | 1.0307786 | FALSE |\n",
       "| TRABD | 0.1985133 |  0.1630755 |   0.2782865 | 0.9695880 | FALSE |\n",
       "| APOBEC3G | 0.1826365 |  0.1597722 |   0.3741384 | 1.4479215 |  TRUE |\n",
       "| ⋮ | ⋮ | ⋮ | ⋮ | ⋮ | ⋮ |\n",
       "| MAFF | 0.02558136 | 0.01880431 | 0.03289182 | 1.1673420 |  TRUE |\n",
       "| PRR14L | 0.02629414 | 0.01870665 | 0.02790455 | 0.9685562 | FALSE |\n",
       "| CHKB | 0.02639787 | 0.01869070 | 0.02733318 | 0.9999877 | FALSE |\n",
       "| NF2 | 0.02621398 | 0.01860307 | 0.02750004 | 1.0053637 | FALSE |\n",
       "| CENPM | 0.02412673 | 0.01837153 | 0.05252446 | 1.0997876 | FALSE |\n",
       "| MKL1 | 0.02570710 | 0.01824740 | 0.02702229 | 0.9416938 | FALSE |\n",
       "| MIEF1 | 0.02563951 | 0.01822168 | 0.02710873 | 0.9548033 | FALSE |\n",
       "| TNFRSF13C | 0.02384146 | 0.01797627 | 0.03405091 | 1.1902988 |  TRUE |\n",
       "| CTA-445C9.15 | 0.02494874 | 0.01782574 | 0.02714561 | 1.1607671 |  TRUE |\n",
       "| PISD | 0.02496525 | 0.01770285 | 0.02618401 | 0.9333589 | FALSE |\n",
       "| TXNRD2 | 0.02480257 | 0.01757053 | 0.02590059 | 0.9149905 | FALSE |\n",
       "| LINC00528 | 0.02423361 | 0.01727675 | 0.02623860 | 0.9956853 | FALSE |\n",
       "| APOBEC3D | 0.02369765 | 0.01693263 | 0.02599853 | 1.2455681 |  TRUE |\n",
       "| TCF20 | 0.02373223 | 0.01676326 | 0.02445211 | 0.9907022 | FALSE |\n",
       "| KIAA0930 | 0.02245442 | 0.01637392 | 0.02743688 | 0.9522088 | FALSE |\n",
       "| KLHDC7B | 0.02295816 | 0.01623898 | 0.02388838 | 0.9483651 | FALSE |\n",
       "| DGCR2 | 0.02299038 | 0.01621563 | 0.02356685 | 0.9447140 | FALSE |\n",
       "| DGCR14 | 0.02271611 | 0.01605299 | 0.02356185 | 0.9418732 | FALSE |\n",
       "| GNB1L | 0.02255894 | 0.01595291 | 0.02348308 | 0.9247058 | FALSE |\n",
       "| LL22NC03-2H8.5 | 0.02159704 | 0.01573898 | 0.02615489 | 1.1978391 |  TRUE |\n",
       "| MICAL3 | 0.02184302 | 0.01565129 | 0.02432603 | 1.1003588 | FALSE |\n",
       "| ZC3H7B | 0.02194675 | 0.01549232 | 0.02267173 | 0.9943375 | FALSE |\n",
       "| HMOX1 | 0.01834122 | 0.01548370 | 0.07416905 | 1.9096630 |  TRUE |\n",
       "| CDPF1 | 0.02186817 | 0.01541298 | 0.02241070 | 0.9475012 | FALSE |\n",
       "| CRKL | 0.02150903 | 0.01517659 | 0.02218901 | 0.9651421 | FALSE |\n",
       "| BRD1 | 0.02102651 | 0.01485300 | 0.02185533 | 0.9914361 | FALSE |\n",
       "| NAGA | 0.02020921 | 0.01480487 | 0.02561362 | 0.8747860 | FALSE |\n",
       "| DGCR8 | 0.02019428 | 0.01424393 | 0.02086882 | 1.0170626 | FALSE |\n",
       "| MTMR3 | 0.02002139 | 0.01412692 | 0.02073557 | 0.9915291 | FALSE |\n",
       "| TAB1 | 0.02005675 | 0.01411707 | 0.02051518 | 0.9383601 | FALSE |\n",
       "\n"
      ],
      "text/plain": [
       "               sct.detection_rate sct.gmean  sct.variance sct.residual_variance\n",
       "RPL3           0.9976401          16.5749388 234.3540763  1.0924628            \n",
       "EIF3L          0.5624072           0.7347408   1.8036680  0.8995602            \n",
       "RAC2           0.5583349           0.7296531   1.9261384  1.1933105            \n",
       "LGALS1         0.3585131           0.5695497  12.1833307  7.6148885            \n",
       "SMDT1          0.4898423           0.5686253   1.1913685  1.0013435            \n",
       "MIF            0.5015588           0.5656225   1.3212327  1.0059635            \n",
       "ST13           0.4367826           0.4673363   0.8968975  0.9635100            \n",
       "TSPO           0.4118480           0.4554051   1.7117276  1.6258788            \n",
       "EIF3D          0.4215659           0.4432319   0.8535576  0.9096995            \n",
       "UQCR10         0.4263141           0.4392452   0.8530047  0.9808476            \n",
       "PIK3IP1        0.3615308           0.3796202   0.8766750  1.1840869            \n",
       "DDX17          0.3597438           0.3474395   0.6056048  1.0777707            \n",
       "TNRC6B         0.3589202           0.3446695   0.5839563  1.2278556            \n",
       "NHP2L1         0.3347911           0.3141824   0.6090630  0.9216623            \n",
       "SUN2           0.3268060           0.3049372   0.5176796  1.1201015            \n",
       "DDT            0.3035248           0.2790448   0.5196074  0.9280050            \n",
       "ATF4           0.3016293           0.2779505   0.5901846  0.9811395            \n",
       "UBE2L3         0.2952725           0.2655423   0.5079391  0.9422456            \n",
       "RBX1           0.2830123           0.2583761   0.5565057  1.0363007            \n",
       "XBP1           0.2640872           0.2425290   0.9965669  1.4202533            \n",
       "XRCC6          0.2557185           0.2214517   0.3922917  0.8801445            \n",
       "CHCHD10        0.2475825           0.2208346   0.4663921  0.9811446            \n",
       "RPS19BP1       0.2508218           0.2132590   0.3474802  0.9546800            \n",
       "RANBP1         0.2426944           0.2041608   0.4420163  0.9147789            \n",
       "TOMM22         0.2351085           0.1980776   0.3274025  0.8827071            \n",
       "NDUFA6         0.2194290           0.1850545   0.3392042  0.9784795            \n",
       "MFNG           0.2069275           0.1711642   0.2745902  0.9171782            \n",
       "MYH9           0.1983475           0.1642802   0.2762458  1.0307786            \n",
       "TRABD          0.1985133           0.1630755   0.2782865  0.9695880            \n",
       "APOBEC3G       0.1826365           0.1597722   0.3741384  1.4479215            \n",
       "⋮              ⋮                  ⋮          ⋮            ⋮                    \n",
       "MAFF           0.02558136         0.01880431 0.03289182   1.1673420            \n",
       "PRR14L         0.02629414         0.01870665 0.02790455   0.9685562            \n",
       "CHKB           0.02639787         0.01869070 0.02733318   0.9999877            \n",
       "NF2            0.02621398         0.01860307 0.02750004   1.0053637            \n",
       "CENPM          0.02412673         0.01837153 0.05252446   1.0997876            \n",
       "MKL1           0.02570710         0.01824740 0.02702229   0.9416938            \n",
       "MIEF1          0.02563951         0.01822168 0.02710873   0.9548033            \n",
       "TNFRSF13C      0.02384146         0.01797627 0.03405091   1.1902988            \n",
       "CTA-445C9.15   0.02494874         0.01782574 0.02714561   1.1607671            \n",
       "PISD           0.02496525         0.01770285 0.02618401   0.9333589            \n",
       "TXNRD2         0.02480257         0.01757053 0.02590059   0.9149905            \n",
       "LINC00528      0.02423361         0.01727675 0.02623860   0.9956853            \n",
       "APOBEC3D       0.02369765         0.01693263 0.02599853   1.2455681            \n",
       "TCF20          0.02373223         0.01676326 0.02445211   0.9907022            \n",
       "KIAA0930       0.02245442         0.01637392 0.02743688   0.9522088            \n",
       "KLHDC7B        0.02295816         0.01623898 0.02388838   0.9483651            \n",
       "DGCR2          0.02299038         0.01621563 0.02356685   0.9447140            \n",
       "DGCR14         0.02271611         0.01605299 0.02356185   0.9418732            \n",
       "GNB1L          0.02255894         0.01595291 0.02348308   0.9247058            \n",
       "LL22NC03-2H8.5 0.02159704         0.01573898 0.02615489   1.1978391            \n",
       "MICAL3         0.02184302         0.01565129 0.02432603   1.1003588            \n",
       "ZC3H7B         0.02194675         0.01549232 0.02267173   0.9943375            \n",
       "HMOX1          0.01834122         0.01548370 0.07416905   1.9096630            \n",
       "CDPF1          0.02186817         0.01541298 0.02241070   0.9475012            \n",
       "CRKL           0.02150903         0.01517659 0.02218901   0.9651421            \n",
       "BRD1           0.02102651         0.01485300 0.02185533   0.9914361            \n",
       "NAGA           0.02020921         0.01480487 0.02561362   0.8747860            \n",
       "DGCR8          0.02019428         0.01424393 0.02086882   1.0170626            \n",
       "MTMR3          0.02002139         0.01412692 0.02073557   0.9915291            \n",
       "TAB1           0.02005675         0.01411707 0.02051518   0.9383601            \n",
       "               sct.variable\n",
       "RPL3           FALSE       \n",
       "EIF3L          FALSE       \n",
       "RAC2            TRUE       \n",
       "LGALS1          TRUE       \n",
       "SMDT1          FALSE       \n",
       "MIF            FALSE       \n",
       "ST13           FALSE       \n",
       "TSPO            TRUE       \n",
       "EIF3D          FALSE       \n",
       "UQCR10         FALSE       \n",
       "PIK3IP1         TRUE       \n",
       "DDX17          FALSE       \n",
       "TNRC6B          TRUE       \n",
       "NHP2L1         FALSE       \n",
       "SUN2           FALSE       \n",
       "DDT            FALSE       \n",
       "ATF4           FALSE       \n",
       "UBE2L3         FALSE       \n",
       "RBX1           FALSE       \n",
       "XBP1            TRUE       \n",
       "XRCC6          FALSE       \n",
       "CHCHD10        FALSE       \n",
       "RPS19BP1       FALSE       \n",
       "RANBP1         FALSE       \n",
       "TOMM22         FALSE       \n",
       "NDUFA6         FALSE       \n",
       "MFNG           FALSE       \n",
       "MYH9           FALSE       \n",
       "TRABD          FALSE       \n",
       "APOBEC3G        TRUE       \n",
       "⋮              ⋮           \n",
       "MAFF            TRUE       \n",
       "PRR14L         FALSE       \n",
       "CHKB           FALSE       \n",
       "NF2            FALSE       \n",
       "CENPM          FALSE       \n",
       "MKL1           FALSE       \n",
       "MIEF1          FALSE       \n",
       "TNFRSF13C       TRUE       \n",
       "CTA-445C9.15    TRUE       \n",
       "PISD           FALSE       \n",
       "TXNRD2         FALSE       \n",
       "LINC00528      FALSE       \n",
       "APOBEC3D        TRUE       \n",
       "TCF20          FALSE       \n",
       "KIAA0930       FALSE       \n",
       "KLHDC7B        FALSE       \n",
       "DGCR2          FALSE       \n",
       "DGCR14         FALSE       \n",
       "GNB1L          FALSE       \n",
       "LL22NC03-2H8.5  TRUE       \n",
       "MICAL3         FALSE       \n",
       "ZC3H7B         FALSE       \n",
       "HMOX1           TRUE       \n",
       "CDPF1          FALSE       \n",
       "CRKL           FALSE       \n",
       "BRD1           FALSE       \n",
       "NAGA           FALSE       \n",
       "DGCR8          FALSE       \n",
       "MTMR3          FALSE       \n",
       "TAB1           FALSE       "
      ]
     },
     "metadata": {},
     "output_type": "display_data"
    }
   ],
   "source": [
    "df = sce_22[[\"SCT\"]]@meta.features\n",
    "head(df[order(df$sct.gmean, decreasing=TRUE),], 200)"
   ]
  },
  {
   "cell_type": "code",
   "execution_count": 223,
   "id": "e4ca64a4",
   "metadata": {},
   "outputs": [
    {
     "data": {
      "image/png": "[encoded data removed]",
      "text/plain": [
       "Plot with title “Histogram of df$sct.gmean”"
      ]
     },
     "metadata": {
      "image/png": {
       "height": 420,
       "width": 420
      }
     },
     "output_type": "display_data"
    }
   ],
   "source": [
    "hist(df$sct.gmean, breaks = 100, ylim = c(0,20))"
   ]
  },
  {
   "cell_type": "code",
   "execution_count": 211,
   "id": "e35a8a8a",
   "metadata": {},
   "outputs": [
    {
     "data": {
      "text/html": [
       "600"
      ],
      "text/latex": [
       "600"
      ],
      "text/markdown": [
       "600"
      ],
      "text/plain": [
       "[1] 600"
      ]
     },
     "metadata": {},
     "output_type": "display_data"
    }
   ],
   "source": [
    "nrow(df[order(df$sct.gmean, decreasing=TRUE),])"
   ]
  },
  {
   "cell_type": "code",
   "execution_count": 212,
   "id": "9e5878b8",
   "metadata": {},
   "outputs": [
    {
     "data": {
      "text/html": [
       "54"
      ],
      "text/latex": [
       "54"
      ],
      "text/markdown": [
       "54"
      ],
      "text/plain": [
       "[1] 54"
      ]
     },
     "metadata": {},
     "output_type": "display_data"
    }
   ],
   "source": [
    "x=0\n",
    "discarded_genes = c()\n",
    "for (gene in rownames(df)){\n",
    "    y = FetchData(sce_22, vars = gene)\n",
    "    if ((length(unique(y[,1])) == 1 && unique(y[,1]) == 0) == TRUE){\n",
    "        x=x+1\n",
    "        discarded_genes = c(discarded_genes, gene)\n",
    "    }\n",
    "}\n",
    "x"
   ]
  },
  {
   "cell_type": "code",
   "execution_count": 323,
   "id": "ab5ab5bc",
   "metadata": {},
   "outputs": [],
   "source": [
    "# i = 150\n",
    "# gene = chr22_genes[i]\n",
    "# gene = \"RPL3\"\n",
    "gene = \"TAB1\"\n",
    "y = FetchData(sce_22, vars = gene)"
   ]
  },
  {
   "cell_type": "code",
   "execution_count": 324,
   "id": "f4ee0202",
   "metadata": {
    "scrolled": true
   },
   "outputs": [
    {
     "data": {
      "text/html": [
       "FALSE"
      ],
      "text/latex": [
       "FALSE"
      ],
      "text/markdown": [
       "FALSE"
      ],
      "text/plain": [
       "[1] FALSE"
      ]
     },
     "metadata": {},
     "output_type": "display_data"
    }
   ],
   "source": [
    "(length(unique(y[,1])) == 1 && unique(y[,1]) == 0)"
   ]
  },
  {
   "cell_type": "code",
   "execution_count": 325,
   "id": "1b813779",
   "metadata": {},
   "outputs": [
    {
     "data": {
      "image/png": "[encoded data removed]",
      "text/plain": [
       "Plot with title “Histogram of y[, 1]”"
      ]
     },
     "metadata": {
      "image/png": {
       "height": 420,
       "width": 420
      }
     },
     "output_type": "display_data"
    }
   ],
   "source": [
    "hist(y[,1])"
   ]
  },
  {
   "cell_type": "code",
   "execution_count": 326,
   "id": "721fc6f7",
   "metadata": {},
   "outputs": [],
   "source": [
    "#### Outliers using IQR \n",
    "# as in SCOUT (cancer)\n",
    "# Outliers are detected according to cutoffs established by:\n",
    "# (i) determining the first and third quartiles of the sample;\n",
    "# (ii) calculating the interquartile range (IQR);\n",
    "# (iii) multiplying the IQR by a Tukey Factor (TF);\n",
    "# (iv) summing the value obtained in the previous step to thethird quartile.\n",
    "# The result is the cutoff for outliers at the top of the population distribution. Alternatively, one may subtract \n",
    "# the value obtained in iii) from the first quartile, to obtain the cutoff for bottom outliers. \n",
    "# The stringency of the detection depends on the TF value; TF=1.5 detects possible outliers, TF=3 detects probable outliers"
   ]
  },
  {
   "cell_type": "code",
   "execution_count": 327,
   "id": "09368c5c",
   "metadata": {},
   "outputs": [
    {
     "data": {
      "text/html": [
       "<style>\n",
       ".dl-inline {width: auto; margin:0; padding: 0}\n",
       ".dl-inline>dt, .dl-inline>dd {float: none; width: auto; display: inline-block}\n",
       ".dl-inline>dt::after {content: \":\\0020\"; padding-right: .5ex}\n",
       ".dl-inline>dt:not(:first-of-type) {padding-left: .5ex}\n",
       "</style><dl class=dl-inline><dt>0%</dt><dd>0</dd><dt>25%</dt><dd>0</dd><dt>50%</dt><dd>0</dd><dt>75%</dt><dd>0</dd><dt>100%</dt><dd>1.38629436111989</dd></dl>\n"
      ],
      "text/latex": [
       "\\begin{description*}\n",
       "\\item[0\\textbackslash{}\\%] 0\n",
       "\\item[25\\textbackslash{}\\%] 0\n",
       "\\item[50\\textbackslash{}\\%] 0\n",
       "\\item[75\\textbackslash{}\\%] 0\n",
       "\\item[100\\textbackslash{}\\%] 1.38629436111989\n",
       "\\end{description*}\n"
      ],
      "text/markdown": [
       "0%\n",
       ":   025%\n",
       ":   050%\n",
       ":   075%\n",
       ":   0100%\n",
       ":   1.38629436111989\n",
       "\n"
      ],
      "text/plain": [
       "      0%      25%      50%      75%     100% \n",
       "0.000000 0.000000 0.000000 0.000000 1.386294 "
      ]
     },
     "metadata": {},
     "output_type": "display_data"
    }
   ],
   "source": [
    "# quantile function defaults to quartiles (?)\n",
    "qts = quantile(y[,1])\n",
    "qts"
   ]
  },
  {
   "cell_type": "code",
   "execution_count": 328,
   "id": "cc4e2d83",
   "metadata": {},
   "outputs": [
    {
     "data": {
      "text/html": [
       "<strong>75%:</strong> 0"
      ],
      "text/latex": [
       "\\textbf{75\\textbackslash{}\\%:} 0"
      ],
      "text/markdown": [
       "**75%:** 0"
      ],
      "text/plain": [
       "75% \n",
       "  0 "
      ]
     },
     "metadata": {},
     "output_type": "display_data"
    }
   ],
   "source": [
    "IQR = qts[4]-qts[2]\n",
    "TF = 1.5\n",
    "IQR*TF"
   ]
  },
  {
   "cell_type": "code",
   "execution_count": 329,
   "id": "aa35b7bf",
   "metadata": {},
   "outputs": [
    {
     "data": {
      "text/html": [
       "<strong>75%:</strong> 0"
      ],
      "text/latex": [
       "\\textbf{75\\textbackslash{}\\%:} 0"
      ],
      "text/markdown": [
       "**75%:** 0"
      ],
      "text/plain": [
       "75% \n",
       "  0 "
      ]
     },
     "metadata": {},
     "output_type": "display_data"
    },
    {
     "data": {
      "text/html": [
       "<strong>25%:</strong> 0"
      ],
      "text/latex": [
       "\\textbf{25\\textbackslash{}\\%:} 0"
      ],
      "text/markdown": [
       "**25%:** 0"
      ],
      "text/plain": [
       "25% \n",
       "  0 "
      ]
     },
     "metadata": {},
     "output_type": "display_data"
    }
   ],
   "source": [
    "top_cutoff = qts[4] + IQR*TF\n",
    "bottom_cutoff = qts[2] - IQR*TF\n",
    "top_cutoff\n",
    "bottom_cutoff"
   ]
  },
  {
   "cell_type": "code",
   "execution_count": 330,
   "id": "59764509",
   "metadata": {
    "scrolled": true
   },
   "outputs": [],
   "source": [
    "y$top = y[,1] > top_cutoff\n",
    "y$bottom = y[,1] < bottom_cutoff\n",
    "bottom_cells = rownames(y[y$bottom == TRUE,])\n",
    "top_cells = rownames(y[y$top == TRUE,])"
   ]
  },
  {
   "cell_type": "code",
   "execution_count": 331,
   "id": "3fb21f90",
   "metadata": {},
   "outputs": [
    {
     "data": {
      "text/html": [
       "1023"
      ],
      "text/latex": [
       "1023"
      ],
      "text/markdown": [
       "1023"
      ],
      "text/plain": [
       "[1] 1023"
      ]
     },
     "metadata": {},
     "output_type": "display_data"
    },
    {
     "data": {
      "text/html": [
       "0"
      ],
      "text/latex": [
       "0"
      ],
      "text/markdown": [
       "0"
      ],
      "text/plain": [
       "[1] 0"
      ]
     },
     "metadata": {},
     "output_type": "display_data"
    }
   ],
   "source": [
    "length(top_cells)\n",
    "length(bottom_cells)"
   ]
  },
  {
   "cell_type": "code",
   "execution_count": 332,
   "id": "4b21d041",
   "metadata": {},
   "outputs": [],
   "source": [
    "# FeaturePlot(sce_22, features = gene)"
   ]
  },
  {
   "cell_type": "code",
   "execution_count": 333,
   "id": "d97086d6",
   "metadata": {},
   "outputs": [],
   "source": [
    "# FeaturePlot(subset(sce_22, cells = top_cells), features = gene)"
   ]
  },
  {
   "cell_type": "code",
   "execution_count": 334,
   "id": "41b8fc03",
   "metadata": {},
   "outputs": [],
   "source": [
    "# FeaturePlot(subset(sce_22, cells = bottom_cells), features = gene)"
   ]
  },
  {
   "cell_type": "code",
   "execution_count": null,
   "id": "24b3b465",
   "metadata": {},
   "outputs": [],
   "source": []
  },
  {
   "cell_type": "code",
   "execution_count": 335,
   "id": "dff2d9b3",
   "metadata": {},
   "outputs": [],
   "source": [
    "#### Outliers using Z scores\n",
    "# as in Bonder et al (bulk)\n",
    "# Gene expression outliers for a given gene were defined as samples with a minimum gene expression z-score \n",
    "# (z-score < −2; underexpression outlier) or a maximum gene expression z-score (z-score > 2; overexpression outlier). "
   ]
  },
  {
   "cell_type": "code",
   "execution_count": 336,
   "id": "5d447ce0",
   "metadata": {},
   "outputs": [
    {
     "data": {
      "text/html": [
       "<table class=\"dataframe\">\n",
       "<caption>A data.frame: 6 × 4</caption>\n",
       "<thead>\n",
       "\t<tr><th></th><th scope=col>TAB1</th><th scope=col>top</th><th scope=col>bottom</th><th scope=col>z_scores</th></tr>\n",
       "\t<tr><th></th><th scope=col>&lt;dbl&gt;</th><th scope=col>&lt;lgl&gt;</th><th scope=col>&lt;lgl&gt;</th><th scope=col>&lt;dbl&gt;</th></tr>\n",
       "</thead>\n",
       "<tbody>\n",
       "\t<tr><th scope=row>AAACCTGCAACGATCT-1</th><td>0</td><td>FALSE</td><td>FALSE</td><td>-0.1199263</td></tr>\n",
       "\t<tr><th scope=row>AAACGGGCAGTTCATG-1</th><td>0</td><td>FALSE</td><td>FALSE</td><td>-0.1199263</td></tr>\n",
       "\t<tr><th scope=row>AAACGGGGTCCCTACT-1</th><td>0</td><td>FALSE</td><td>FALSE</td><td>-0.1199263</td></tr>\n",
       "\t<tr><th scope=row>AAACGGGGTTGCGCAC-1</th><td>0</td><td>FALSE</td><td>FALSE</td><td>-0.1199263</td></tr>\n",
       "\t<tr><th scope=row>AAAGATGGTTATGCGT-1</th><td>0</td><td>FALSE</td><td>FALSE</td><td>-0.1199263</td></tr>\n",
       "\t<tr><th scope=row>AAAGATGTCATGCATG-1</th><td>0</td><td>FALSE</td><td>FALSE</td><td>-0.1199263</td></tr>\n",
       "</tbody>\n",
       "</table>\n"
      ],
      "text/latex": [
       "A data.frame: 6 × 4\n",
       "\\begin{tabular}{r|llll}\n",
       "  & TAB1 & top & bottom & z\\_scores\\\\\n",
       "  & <dbl> & <lgl> & <lgl> & <dbl>\\\\\n",
       "\\hline\n",
       "\tAAACCTGCAACGATCT-1 & 0 & FALSE & FALSE & -0.1199263\\\\\n",
       "\tAAACGGGCAGTTCATG-1 & 0 & FALSE & FALSE & -0.1199263\\\\\n",
       "\tAAACGGGGTCCCTACT-1 & 0 & FALSE & FALSE & -0.1199263\\\\\n",
       "\tAAACGGGGTTGCGCAC-1 & 0 & FALSE & FALSE & -0.1199263\\\\\n",
       "\tAAAGATGGTTATGCGT-1 & 0 & FALSE & FALSE & -0.1199263\\\\\n",
       "\tAAAGATGTCATGCATG-1 & 0 & FALSE & FALSE & -0.1199263\\\\\n",
       "\\end{tabular}\n"
      ],
      "text/markdown": [
       "\n",
       "A data.frame: 6 × 4\n",
       "\n",
       "| <!--/--> | TAB1 &lt;dbl&gt; | top &lt;lgl&gt; | bottom &lt;lgl&gt; | z_scores &lt;dbl&gt; |\n",
       "|---|---|---|---|---|\n",
       "| AAACCTGCAACGATCT-1 | 0 | FALSE | FALSE | -0.1199263 |\n",
       "| AAACGGGCAGTTCATG-1 | 0 | FALSE | FALSE | -0.1199263 |\n",
       "| AAACGGGGTCCCTACT-1 | 0 | FALSE | FALSE | -0.1199263 |\n",
       "| AAACGGGGTTGCGCAC-1 | 0 | FALSE | FALSE | -0.1199263 |\n",
       "| AAAGATGGTTATGCGT-1 | 0 | FALSE | FALSE | -0.1199263 |\n",
       "| AAAGATGTCATGCATG-1 | 0 | FALSE | FALSE | -0.1199263 |\n",
       "\n"
      ],
      "text/plain": [
       "                   TAB1 top   bottom z_scores  \n",
       "AAACCTGCAACGATCT-1 0    FALSE FALSE  -0.1199263\n",
       "AAACGGGCAGTTCATG-1 0    FALSE FALSE  -0.1199263\n",
       "AAACGGGGTCCCTACT-1 0    FALSE FALSE  -0.1199263\n",
       "AAACGGGGTTGCGCAC-1 0    FALSE FALSE  -0.1199263\n",
       "AAAGATGGTTATGCGT-1 0    FALSE FALSE  -0.1199263\n",
       "AAAGATGTCATGCATG-1 0    FALSE FALSE  -0.1199263"
      ]
     },
     "metadata": {},
     "output_type": "display_data"
    }
   ],
   "source": [
    "v = y[,1]\n",
    "y$z_scores <- (v-mean(v))/sd(v)\n",
    "head(y)"
   ]
  },
  {
   "cell_type": "code",
   "execution_count": 337,
   "id": "dc4c530f",
   "metadata": {},
   "outputs": [
    {
     "data": {
      "text/html": [
       "-6.87998254524993e-17"
      ],
      "text/latex": [
       "-6.87998254524993e-17"
      ],
      "text/markdown": [
       "-6.87998254524993e-17"
      ],
      "text/plain": [
       "[1] -6.879983e-17"
      ]
     },
     "metadata": {},
     "output_type": "display_data"
    },
    {
     "data": {
      "text/html": [
       "1"
      ],
      "text/latex": [
       "1"
      ],
      "text/markdown": [
       "1"
      ],
      "text/plain": [
       "[1] 1"
      ]
     },
     "metadata": {},
     "output_type": "display_data"
    }
   ],
   "source": [
    "mean(z_scores)\n",
    "sd(z_scores)"
   ]
  },
  {
   "cell_type": "code",
   "execution_count": 338,
   "id": "7f2c0f68",
   "metadata": {},
   "outputs": [
    {
     "data": {
      "image/png": "[encoded data removed]",
      "text/plain": [
       "Plot with title “Histogram of z_scores”"
      ]
     },
     "metadata": {
      "image/png": {
       "height": 420,
       "width": 420
      }
     },
     "output_type": "display_data"
    }
   ],
   "source": [
    "hist(z_scores)"
   ]
  },
  {
   "cell_type": "code",
   "execution_count": 339,
   "id": "e7cb0bc4",
   "metadata": {},
   "outputs": [],
   "source": [
    "bottom_cells_z = rownames(y[y$z_scores < -2,])\n",
    "top_cells_z = rownames(y[y$z_scores > 2,])"
   ]
  },
  {
   "cell_type": "code",
   "execution_count": 340,
   "id": "aacf2583",
   "metadata": {},
   "outputs": [
    {
     "data": {
      "text/html": [
       "1023"
      ],
      "text/latex": [
       "1023"
      ],
      "text/markdown": [
       "1023"
      ],
      "text/plain": [
       "[1] 1023"
      ]
     },
     "metadata": {},
     "output_type": "display_data"
    },
    {
     "data": {
      "text/html": [
       "0"
      ],
      "text/latex": [
       "0"
      ],
      "text/markdown": [
       "0"
      ],
      "text/plain": [
       "[1] 0"
      ]
     },
     "metadata": {},
     "output_type": "display_data"
    }
   ],
   "source": [
    "length(top_cells_z)\n",
    "length(bottom_cells_z)"
   ]
  },
  {
   "cell_type": "code",
   "execution_count": null,
   "id": "2b4ee534",
   "metadata": {},
   "outputs": [],
   "source": []
  },
  {
   "cell_type": "code",
   "execution_count": 341,
   "id": "06ecbf06",
   "metadata": {},
   "outputs": [],
   "source": [
    "### get donors"
   ]
  },
  {
   "cell_type": "code",
   "execution_count": 342,
   "id": "f29fcb9a",
   "metadata": {},
   "outputs": [
    {
     "data": {
      "text/html": [
       "<table class=\"dataframe\">\n",
       "<caption>A data.frame: 6 × 22</caption>\n",
       "<thead>\n",
       "\t<tr><th></th><th scope=col>orig.ident</th><th scope=col>nCount_RNA</th><th scope=col>nFeature_RNA</th><th scope=col>pool</th><th scope=col>individual</th><th scope=col>percent.mt</th><th scope=col>latent</th><th scope=col>nCount_SCT</th><th scope=col>nFeature_SCT</th><th scope=col>cell_type</th><th scope=col>⋯</th><th scope=col>age</th><th scope=col>sex</th><th scope=col>predicted.celltype</th><th scope=col>predicted.celltype.l3</th><th scope=col>predicted.celltype.l4</th><th scope=col>predicted.celltype.l5</th><th scope=col>predicted.celltype.l6</th><th scope=col>G2M.Score</th><th scope=col>S.Score</th><th scope=col>Phase</th></tr>\n",
       "\t<tr><th></th><th scope=col>&lt;fct&gt;</th><th scope=col>&lt;dbl&gt;</th><th scope=col>&lt;int&gt;</th><th scope=col>&lt;fct&gt;</th><th scope=col>&lt;chr&gt;</th><th scope=col>&lt;dbl&gt;</th><th scope=col>&lt;fct&gt;</th><th scope=col>&lt;dbl&gt;</th><th scope=col>&lt;int&gt;</th><th scope=col>&lt;fct&gt;</th><th scope=col>⋯</th><th scope=col>&lt;int&gt;</th><th scope=col>&lt;int&gt;</th><th scope=col>&lt;fct&gt;</th><th scope=col>&lt;chr&gt;</th><th scope=col>&lt;chr&gt;</th><th scope=col>&lt;chr&gt;</th><th scope=col>&lt;chr&gt;</th><th scope=col>&lt;dbl&gt;</th><th scope=col>&lt;dbl&gt;</th><th scope=col>&lt;chr&gt;</th></tr>\n",
       "</thead>\n",
       "<tbody>\n",
       "\t<tr><th scope=row>AAACCTGCAACGATCT-1</th><td>onek1k</td><td> 39</td><td>18</td><td>pool_1</td><td>686_687</td><td>3.717182</td><td>b1</td><td>34</td><td>18</td><td>TCL1A+ FCER2+ B cell</td><td>⋯</td><td>69</td><td>1</td><td>TCL1A+ FCER2+ B cell</td><td>B naive</td><td>B cell</td><td>B cell</td><td>Lymphoid</td><td>-0.026746015</td><td>-0.0002682458</td><td>G1 </td></tr>\n",
       "\t<tr><th scope=row>AAACGGGCAGTTCATG-1</th><td>onek1k</td><td> 46</td><td>26</td><td>pool_1</td><td>682_683</td><td>4.010349</td><td>b1</td><td>45</td><td>26</td><td>TCL1A+ FCER2+ B cell</td><td>⋯</td><td>73</td><td>1</td><td>TCL1A+ FCER2+ B cell</td><td>B naive</td><td>B cell</td><td>B cell</td><td>Lymphoid</td><td>-0.022353539</td><td> 0.0187772069</td><td>S  </td></tr>\n",
       "\t<tr><th scope=row>AAACGGGGTCCCTACT-1</th><td>onek1k</td><td> 63</td><td>28</td><td>pool_1</td><td>692_693</td><td>2.704292</td><td>b1</td><td>59</td><td>28</td><td>TCL1A+ FCER2+ B cell</td><td>⋯</td><td>62</td><td>2</td><td>TCL1A+ FCER2+ B cell</td><td>B naive</td><td>B cell</td><td>B cell</td><td>Lymphoid</td><td> 0.013419855</td><td>-0.0049571022</td><td>G2M</td></tr>\n",
       "\t<tr><th scope=row>AAACGGGGTTGCGCAC-1</th><td>onek1k</td><td> 36</td><td>17</td><td>pool_1</td><td>683_684</td><td>3.783045</td><td>b1</td><td>41</td><td>17</td><td>TCL1A+ FCER2+ B cell</td><td>⋯</td><td>78</td><td>1</td><td>TCL1A+ FCER2+ B cell</td><td>B naive</td><td>B cell</td><td>B cell</td><td>Lymphoid</td><td> 0.006211548</td><td> 0.0100323934</td><td>S  </td></tr>\n",
       "\t<tr><th scope=row>AAAGATGGTTATGCGT-1</th><td>onek1k</td><td> 22</td><td>12</td><td>pool_1</td><td>686_687</td><td>4.415423</td><td>b1</td><td>31</td><td>12</td><td>TCL1A+ FCER2+ B cell</td><td>⋯</td><td>69</td><td>1</td><td>TCL1A+ FCER2+ B cell</td><td>B naive</td><td>B cell</td><td>B cell</td><td>Lymphoid</td><td>-0.011067374</td><td> 0.0040236872</td><td>S  </td></tr>\n",
       "\t<tr><th scope=row>AAAGATGTCATGCATG-1</th><td>onek1k</td><td>138</td><td>44</td><td>pool_1</td><td>687_688</td><td>3.022627</td><td>b1</td><td>91</td><td>41</td><td>TCL1A+ FCER2+ B cell</td><td>⋯</td><td>63</td><td>2</td><td>TCL1A+ FCER2+ B cell</td><td>B naive</td><td>B cell</td><td>B cell</td><td>Lymphoid</td><td>-0.009985215</td><td>-0.0187964884</td><td>G1 </td></tr>\n",
       "</tbody>\n",
       "</table>\n"
      ],
      "text/latex": [
       "A data.frame: 6 × 22\n",
       "\\begin{tabular}{r|lllllllllllllllllllll}\n",
       "  & orig.ident & nCount\\_RNA & nFeature\\_RNA & pool & individual & percent.mt & latent & nCount\\_SCT & nFeature\\_SCT & cell\\_type & ⋯ & age & sex & predicted.celltype & predicted.celltype.l3 & predicted.celltype.l4 & predicted.celltype.l5 & predicted.celltype.l6 & G2M.Score & S.Score & Phase\\\\\n",
       "  & <fct> & <dbl> & <int> & <fct> & <chr> & <dbl> & <fct> & <dbl> & <int> & <fct> & ⋯ & <int> & <int> & <fct> & <chr> & <chr> & <chr> & <chr> & <dbl> & <dbl> & <chr>\\\\\n",
       "\\hline\n",
       "\tAAACCTGCAACGATCT-1 & onek1k &  39 & 18 & pool\\_1 & 686\\_687 & 3.717182 & b1 & 34 & 18 & TCL1A+ FCER2+ B cell & ⋯ & 69 & 1 & TCL1A+ FCER2+ B cell & B naive & B cell & B cell & Lymphoid & -0.026746015 & -0.0002682458 & G1 \\\\\n",
       "\tAAACGGGCAGTTCATG-1 & onek1k &  46 & 26 & pool\\_1 & 682\\_683 & 4.010349 & b1 & 45 & 26 & TCL1A+ FCER2+ B cell & ⋯ & 73 & 1 & TCL1A+ FCER2+ B cell & B naive & B cell & B cell & Lymphoid & -0.022353539 &  0.0187772069 & S  \\\\\n",
       "\tAAACGGGGTCCCTACT-1 & onek1k &  63 & 28 & pool\\_1 & 692\\_693 & 2.704292 & b1 & 59 & 28 & TCL1A+ FCER2+ B cell & ⋯ & 62 & 2 & TCL1A+ FCER2+ B cell & B naive & B cell & B cell & Lymphoid &  0.013419855 & -0.0049571022 & G2M\\\\\n",
       "\tAAACGGGGTTGCGCAC-1 & onek1k &  36 & 17 & pool\\_1 & 683\\_684 & 3.783045 & b1 & 41 & 17 & TCL1A+ FCER2+ B cell & ⋯ & 78 & 1 & TCL1A+ FCER2+ B cell & B naive & B cell & B cell & Lymphoid &  0.006211548 &  0.0100323934 & S  \\\\\n",
       "\tAAAGATGGTTATGCGT-1 & onek1k &  22 & 12 & pool\\_1 & 686\\_687 & 4.415423 & b1 & 31 & 12 & TCL1A+ FCER2+ B cell & ⋯ & 69 & 1 & TCL1A+ FCER2+ B cell & B naive & B cell & B cell & Lymphoid & -0.011067374 &  0.0040236872 & S  \\\\\n",
       "\tAAAGATGTCATGCATG-1 & onek1k & 138 & 44 & pool\\_1 & 687\\_688 & 3.022627 & b1 & 91 & 41 & TCL1A+ FCER2+ B cell & ⋯ & 63 & 2 & TCL1A+ FCER2+ B cell & B naive & B cell & B cell & Lymphoid & -0.009985215 & -0.0187964884 & G1 \\\\\n",
       "\\end{tabular}\n"
      ],
      "text/markdown": [
       "\n",
       "A data.frame: 6 × 22\n",
       "\n",
       "| <!--/--> | orig.ident &lt;fct&gt; | nCount_RNA &lt;dbl&gt; | nFeature_RNA &lt;int&gt; | pool &lt;fct&gt; | individual &lt;chr&gt; | percent.mt &lt;dbl&gt; | latent &lt;fct&gt; | nCount_SCT &lt;dbl&gt; | nFeature_SCT &lt;int&gt; | cell_type &lt;fct&gt; | ⋯ ⋯ | age &lt;int&gt; | sex &lt;int&gt; | predicted.celltype &lt;fct&gt; | predicted.celltype.l3 &lt;chr&gt; | predicted.celltype.l4 &lt;chr&gt; | predicted.celltype.l5 &lt;chr&gt; | predicted.celltype.l6 &lt;chr&gt; | G2M.Score &lt;dbl&gt; | S.Score &lt;dbl&gt; | Phase &lt;chr&gt; |\n",
       "|---|---|---|---|---|---|---|---|---|---|---|---|---|---|---|---|---|---|---|---|---|---|\n",
       "| AAACCTGCAACGATCT-1 | onek1k |  39 | 18 | pool_1 | 686_687 | 3.717182 | b1 | 34 | 18 | TCL1A+ FCER2+ B cell | ⋯ | 69 | 1 | TCL1A+ FCER2+ B cell | B naive | B cell | B cell | Lymphoid | -0.026746015 | -0.0002682458 | G1  |\n",
       "| AAACGGGCAGTTCATG-1 | onek1k |  46 | 26 | pool_1 | 682_683 | 4.010349 | b1 | 45 | 26 | TCL1A+ FCER2+ B cell | ⋯ | 73 | 1 | TCL1A+ FCER2+ B cell | B naive | B cell | B cell | Lymphoid | -0.022353539 |  0.0187772069 | S   |\n",
       "| AAACGGGGTCCCTACT-1 | onek1k |  63 | 28 | pool_1 | 692_693 | 2.704292 | b1 | 59 | 28 | TCL1A+ FCER2+ B cell | ⋯ | 62 | 2 | TCL1A+ FCER2+ B cell | B naive | B cell | B cell | Lymphoid |  0.013419855 | -0.0049571022 | G2M |\n",
       "| AAACGGGGTTGCGCAC-1 | onek1k |  36 | 17 | pool_1 | 683_684 | 3.783045 | b1 | 41 | 17 | TCL1A+ FCER2+ B cell | ⋯ | 78 | 1 | TCL1A+ FCER2+ B cell | B naive | B cell | B cell | Lymphoid |  0.006211548 |  0.0100323934 | S   |\n",
       "| AAAGATGGTTATGCGT-1 | onek1k |  22 | 12 | pool_1 | 686_687 | 4.415423 | b1 | 31 | 12 | TCL1A+ FCER2+ B cell | ⋯ | 69 | 1 | TCL1A+ FCER2+ B cell | B naive | B cell | B cell | Lymphoid | -0.011067374 |  0.0040236872 | S   |\n",
       "| AAAGATGTCATGCATG-1 | onek1k | 138 | 44 | pool_1 | 687_688 | 3.022627 | b1 | 91 | 41 | TCL1A+ FCER2+ B cell | ⋯ | 63 | 2 | TCL1A+ FCER2+ B cell | B naive | B cell | B cell | Lymphoid | -0.009985215 | -0.0187964884 | G1  |\n",
       "\n"
      ],
      "text/plain": [
       "                   orig.ident nCount_RNA nFeature_RNA pool   individual\n",
       "AAACCTGCAACGATCT-1 onek1k      39        18           pool_1 686_687   \n",
       "AAACGGGCAGTTCATG-1 onek1k      46        26           pool_1 682_683   \n",
       "AAACGGGGTCCCTACT-1 onek1k      63        28           pool_1 692_693   \n",
       "AAACGGGGTTGCGCAC-1 onek1k      36        17           pool_1 683_684   \n",
       "AAAGATGGTTATGCGT-1 onek1k      22        12           pool_1 686_687   \n",
       "AAAGATGTCATGCATG-1 onek1k     138        44           pool_1 687_688   \n",
       "                   percent.mt latent nCount_SCT nFeature_SCT\n",
       "AAACCTGCAACGATCT-1 3.717182   b1     34         18          \n",
       "AAACGGGCAGTTCATG-1 4.010349   b1     45         26          \n",
       "AAACGGGGTCCCTACT-1 2.704292   b1     59         28          \n",
       "AAACGGGGTTGCGCAC-1 3.783045   b1     41         17          \n",
       "AAAGATGGTTATGCGT-1 4.415423   b1     31         12          \n",
       "AAAGATGTCATGCATG-1 3.022627   b1     91         41          \n",
       "                   cell_type            ⋯ age sex predicted.celltype  \n",
       "AAACCTGCAACGATCT-1 TCL1A+ FCER2+ B cell ⋯ 69  1   TCL1A+ FCER2+ B cell\n",
       "AAACGGGCAGTTCATG-1 TCL1A+ FCER2+ B cell ⋯ 73  1   TCL1A+ FCER2+ B cell\n",
       "AAACGGGGTCCCTACT-1 TCL1A+ FCER2+ B cell ⋯ 62  2   TCL1A+ FCER2+ B cell\n",
       "AAACGGGGTTGCGCAC-1 TCL1A+ FCER2+ B cell ⋯ 78  1   TCL1A+ FCER2+ B cell\n",
       "AAAGATGGTTATGCGT-1 TCL1A+ FCER2+ B cell ⋯ 69  1   TCL1A+ FCER2+ B cell\n",
       "AAAGATGTCATGCATG-1 TCL1A+ FCER2+ B cell ⋯ 63  2   TCL1A+ FCER2+ B cell\n",
       "                   predicted.celltype.l3 predicted.celltype.l4\n",
       "AAACCTGCAACGATCT-1 B naive               B cell               \n",
       "AAACGGGCAGTTCATG-1 B naive               B cell               \n",
       "AAACGGGGTCCCTACT-1 B naive               B cell               \n",
       "AAACGGGGTTGCGCAC-1 B naive               B cell               \n",
       "AAAGATGGTTATGCGT-1 B naive               B cell               \n",
       "AAAGATGTCATGCATG-1 B naive               B cell               \n",
       "                   predicted.celltype.l5 predicted.celltype.l6 G2M.Score   \n",
       "AAACCTGCAACGATCT-1 B cell                Lymphoid              -0.026746015\n",
       "AAACGGGCAGTTCATG-1 B cell                Lymphoid              -0.022353539\n",
       "AAACGGGGTCCCTACT-1 B cell                Lymphoid               0.013419855\n",
       "AAACGGGGTTGCGCAC-1 B cell                Lymphoid               0.006211548\n",
       "AAAGATGGTTATGCGT-1 B cell                Lymphoid              -0.011067374\n",
       "AAAGATGTCATGCATG-1 B cell                Lymphoid              -0.009985215\n",
       "                   S.Score       Phase\n",
       "AAACCTGCAACGATCT-1 -0.0002682458 G1   \n",
       "AAACGGGCAGTTCATG-1  0.0187772069 S    \n",
       "AAACGGGGTCCCTACT-1 -0.0049571022 G2M  \n",
       "AAACGGGGTTGCGCAC-1  0.0100323934 S    \n",
       "AAAGATGGTTATGCGT-1  0.0040236872 S    \n",
       "AAAGATGTCATGCATG-1 -0.0187964884 G1   "
      ]
     },
     "metadata": {},
     "output_type": "display_data"
    }
   ],
   "source": [
    "head(sce_22@meta.data)"
   ]
  },
  {
   "cell_type": "code",
   "execution_count": 343,
   "id": "271c9b30",
   "metadata": {},
   "outputs": [
    {
     "data": {
      "text/html": [
       "980"
      ],
      "text/latex": [
       "980"
      ],
      "text/markdown": [
       "980"
      ],
      "text/plain": [
       "[1] 980"
      ]
     },
     "metadata": {},
     "output_type": "display_data"
    }
   ],
   "source": [
    "individuals = unique(sce_22@meta.data$individual)\n",
    "n = length(individuals)\n",
    "n"
   ]
  },
  {
   "cell_type": "code",
   "execution_count": 344,
   "id": "8a1387c9",
   "metadata": {},
   "outputs": [
    {
     "data": {
      "text/html": [
       "<table class=\"dataframe\">\n",
       "<caption>A data.frame: 2 × 1</caption>\n",
       "<thead>\n",
       "\t<tr><th></th><th scope=col>individual</th></tr>\n",
       "\t<tr><th></th><th scope=col>&lt;chr&gt;</th></tr>\n",
       "</thead>\n",
       "<tbody>\n",
       "\t<tr><th scope=row>1</th><td>686_687</td></tr>\n",
       "\t<tr><th scope=row>2</th><td>682_683</td></tr>\n",
       "</tbody>\n",
       "</table>\n"
      ],
      "text/latex": [
       "A data.frame: 2 × 1\n",
       "\\begin{tabular}{r|l}\n",
       "  & individual\\\\\n",
       "  & <chr>\\\\\n",
       "\\hline\n",
       "\t1 & 686\\_687\\\\\n",
       "\t2 & 682\\_683\\\\\n",
       "\\end{tabular}\n"
      ],
      "text/markdown": [
       "\n",
       "A data.frame: 2 × 1\n",
       "\n",
       "| <!--/--> | individual &lt;chr&gt; |\n",
       "|---|---|\n",
       "| 1 | 686_687 |\n",
       "| 2 | 682_683 |\n",
       "\n"
      ],
      "text/plain": [
       "  individual\n",
       "1 686_687   \n",
       "2 682_683   "
      ]
     },
     "metadata": {},
     "output_type": "display_data"
    }
   ],
   "source": [
    "df0 = data.frame(individual = individuals)\n",
    "head(df0,2)"
   ]
  },
  {
   "cell_type": "code",
   "execution_count": 345,
   "id": "9f48a67f",
   "metadata": {},
   "outputs": [],
   "source": [
    "for (individual in individuals){\n",
    "    df_curr = sce_22@meta.data[sce_22@meta.data$individual == individual,]\n",
    "    n_tot = nrow(df_curr)\n",
    "    n_top_z = nrow(df_curr[rownames(df_curr) %in% top_cells_z,])\n",
    "    n_top = nrow(df_curr[rownames(df_curr) %in% top_cells,])\n",
    "    n_bottom_z = nrow(df_curr[rownames(df_curr) %in% bottom_cells_z,])\n",
    "    n_bottom = nrow(df_curr[rownames(df_curr) %in% bottom_cells,])\n",
    "    df0[df0$individual == individual, \"tot_cells\"] = n_tot\n",
    "    df0[df0$individual == individual, \"top_outliers_pct\"] = n_top / n_tot\n",
    "    df0[df0$individual == individual, \"top_z_outliers_pct\"] = n_top_z / n_tot\n",
    "    df0[df0$individual == individual, \"bottom_outliers_pct\"] = n_bottom / n_tot\n",
    "    df0[df0$individual == individual, \"bottom_z_outliers_pct\"] = n_bottom_z / n_tot\n",
    "}"
   ]
  },
  {
   "cell_type": "code",
   "execution_count": 346,
   "id": "41829f31",
   "metadata": {},
   "outputs": [
    {
     "data": {
      "text/html": [
       "<table class=\"dataframe\">\n",
       "<caption>A data.frame: 6 × 6</caption>\n",
       "<thead>\n",
       "\t<tr><th></th><th scope=col>individual</th><th scope=col>tot_cells</th><th scope=col>top_outliers_pct</th><th scope=col>top_z_outliers_pct</th><th scope=col>bottom_outliers_pct</th><th scope=col>bottom_z_outliers_pct</th></tr>\n",
       "\t<tr><th></th><th scope=col>&lt;chr&gt;</th><th scope=col>&lt;int&gt;</th><th scope=col>&lt;dbl&gt;</th><th scope=col>&lt;dbl&gt;</th><th scope=col>&lt;dbl&gt;</th><th scope=col>&lt;dbl&gt;</th></tr>\n",
       "</thead>\n",
       "<tbody>\n",
       "\t<tr><th scope=row>1</th><td>686_687</td><td>125</td><td>0.00000000</td><td>0.00000000</td><td>0</td><td>0</td></tr>\n",
       "\t<tr><th scope=row>2</th><td>682_683</td><td> 52</td><td>0.00000000</td><td>0.00000000</td><td>0</td><td>0</td></tr>\n",
       "\t<tr><th scope=row>3</th><td>692_693</td><td> 48</td><td>0.00000000</td><td>0.00000000</td><td>0</td><td>0</td></tr>\n",
       "\t<tr><th scope=row>4</th><td>683_684</td><td>142</td><td>0.01408451</td><td>0.01408451</td><td>0</td><td>0</td></tr>\n",
       "\t<tr><th scope=row>5</th><td>687_688</td><td> 78</td><td>0.00000000</td><td>0.00000000</td><td>0</td><td>0</td></tr>\n",
       "\t<tr><th scope=row>6</th><td>690_691</td><td> 61</td><td>0.00000000</td><td>0.00000000</td><td>0</td><td>0</td></tr>\n",
       "</tbody>\n",
       "</table>\n"
      ],
      "text/latex": [
       "A data.frame: 6 × 6\n",
       "\\begin{tabular}{r|llllll}\n",
       "  & individual & tot\\_cells & top\\_outliers\\_pct & top\\_z\\_outliers\\_pct & bottom\\_outliers\\_pct & bottom\\_z\\_outliers\\_pct\\\\\n",
       "  & <chr> & <int> & <dbl> & <dbl> & <dbl> & <dbl>\\\\\n",
       "\\hline\n",
       "\t1 & 686\\_687 & 125 & 0.00000000 & 0.00000000 & 0 & 0\\\\\n",
       "\t2 & 682\\_683 &  52 & 0.00000000 & 0.00000000 & 0 & 0\\\\\n",
       "\t3 & 692\\_693 &  48 & 0.00000000 & 0.00000000 & 0 & 0\\\\\n",
       "\t4 & 683\\_684 & 142 & 0.01408451 & 0.01408451 & 0 & 0\\\\\n",
       "\t5 & 687\\_688 &  78 & 0.00000000 & 0.00000000 & 0 & 0\\\\\n",
       "\t6 & 690\\_691 &  61 & 0.00000000 & 0.00000000 & 0 & 0\\\\\n",
       "\\end{tabular}\n"
      ],
      "text/markdown": [
       "\n",
       "A data.frame: 6 × 6\n",
       "\n",
       "| <!--/--> | individual &lt;chr&gt; | tot_cells &lt;int&gt; | top_outliers_pct &lt;dbl&gt; | top_z_outliers_pct &lt;dbl&gt; | bottom_outliers_pct &lt;dbl&gt; | bottom_z_outliers_pct &lt;dbl&gt; |\n",
       "|---|---|---|---|---|---|---|\n",
       "| 1 | 686_687 | 125 | 0.00000000 | 0.00000000 | 0 | 0 |\n",
       "| 2 | 682_683 |  52 | 0.00000000 | 0.00000000 | 0 | 0 |\n",
       "| 3 | 692_693 |  48 | 0.00000000 | 0.00000000 | 0 | 0 |\n",
       "| 4 | 683_684 | 142 | 0.01408451 | 0.01408451 | 0 | 0 |\n",
       "| 5 | 687_688 |  78 | 0.00000000 | 0.00000000 | 0 | 0 |\n",
       "| 6 | 690_691 |  61 | 0.00000000 | 0.00000000 | 0 | 0 |\n",
       "\n"
      ],
      "text/plain": [
       "  individual tot_cells top_outliers_pct top_z_outliers_pct bottom_outliers_pct\n",
       "1 686_687    125       0.00000000       0.00000000         0                  \n",
       "2 682_683     52       0.00000000       0.00000000         0                  \n",
       "3 692_693     48       0.00000000       0.00000000         0                  \n",
       "4 683_684    142       0.01408451       0.01408451         0                  \n",
       "5 687_688     78       0.00000000       0.00000000         0                  \n",
       "6 690_691     61       0.00000000       0.00000000         0                  \n",
       "  bottom_z_outliers_pct\n",
       "1 0                    \n",
       "2 0                    \n",
       "3 0                    \n",
       "4 0                    \n",
       "5 0                    \n",
       "6 0                    "
      ]
     },
     "metadata": {},
     "output_type": "display_data"
    }
   ],
   "source": [
    "head(df0)"
   ]
  },
  {
   "cell_type": "code",
   "execution_count": 347,
   "id": "1ec0cd83",
   "metadata": {},
   "outputs": [
    {
     "data": {
      "text/html": [
       "0"
      ],
      "text/latex": [
       "0"
      ],
      "text/markdown": [
       "0"
      ],
      "text/plain": [
       "[1] 0"
      ]
     },
     "metadata": {},
     "output_type": "display_data"
    },
    {
     "data": {
      "text/html": [
       "0"
      ],
      "text/latex": [
       "0"
      ],
      "text/markdown": [
       "0"
      ],
      "text/plain": [
       "[1] 0"
      ]
     },
     "metadata": {},
     "output_type": "display_data"
    }
   ],
   "source": [
    "bottom_individuals = df0[df0$bottom_outliers_pct>0.1,\"individual\"]\n",
    "bottom_z_individuals = df0[df0$bottom_z_outliers_pct>0.1,\"individual\"]\n",
    "length(bottom_individuals)\n",
    "length(bottom_individuals[bottom_individuals %in% bottom_z_individuals])"
   ]
  },
  {
   "cell_type": "code",
   "execution_count": 348,
   "id": "d3cf1f65",
   "metadata": {},
   "outputs": [
    {
     "data": {
      "text/html": [
       "6"
      ],
      "text/latex": [
       "6"
      ],
      "text/markdown": [
       "6"
      ],
      "text/plain": [
       "[1] 6"
      ]
     },
     "metadata": {},
     "output_type": "display_data"
    },
    {
     "data": {
      "text/html": [
       "6"
      ],
      "text/latex": [
       "6"
      ],
      "text/markdown": [
       "6"
      ],
      "text/plain": [
       "[1] 6"
      ]
     },
     "metadata": {},
     "output_type": "display_data"
    },
    {
     "data": {
      "text/html": [
       "6"
      ],
      "text/latex": [
       "6"
      ],
      "text/markdown": [
       "6"
      ],
      "text/plain": [
       "[1] 6"
      ]
     },
     "metadata": {},
     "output_type": "display_data"
    }
   ],
   "source": [
    "top_individuals = df0[df0$top_outliers_pct>0.1,\"individual\"]\n",
    "top_z_individuals = df0[df0$top_z_outliers_pct>0.1,\"individual\"]\n",
    "length(top_z_individuals)\n",
    "length(top_individuals)\n",
    "length(top_individuals[top_individuals %in% top_z_individuals])"
   ]
  },
  {
   "cell_type": "code",
   "execution_count": 316,
   "id": "03a0ce0f",
   "metadata": {},
   "outputs": [
    {
     "data": {
      "image/png": "[encoded data removed]",
      "text/plain": [
       "Plot with title “Histogram of df0$top_z_outliers_pct”"
      ]
     },
     "metadata": {
      "image/png": {
       "height": 420,
       "width": 420
      }
     },
     "output_type": "display_data"
    },
    {
     "data": {
      "image/png": "[encoded data removed]",
      "text/plain": [
       "Plot with title “Histogram of df0$tot_cells”"
      ]
     },
     "metadata": {
      "image/png": {
       "height": 420,
       "width": 420
      }
     },
     "output_type": "display_data"
    }
   ],
   "source": [
    "hist(df0$top_z_outliers_pct)\n",
    "hist(df0$tot_cells)"
   ]
  },
  {
   "cell_type": "code",
   "execution_count": 317,
   "id": "89de0352",
   "metadata": {},
   "outputs": [
    {
     "data": {
      "image/png": "[encoded data removed]",
      "text/plain": [
       "plot without title"
      ]
     },
     "metadata": {
      "image/png": {
       "height": 420,
       "width": 420
      }
     },
     "output_type": "display_data"
    }
   ],
   "source": [
    "ggplot(df0, aes(x=top_z_outliers_pct, y=tot_cells)) + geom_point() + theme_classic()"
   ]
  },
  {
   "cell_type": "code",
   "execution_count": 318,
   "id": "5cbfd1b3",
   "metadata": {},
   "outputs": [],
   "source": [
    "# nrow(df0[df0$outliers_pct>0.1,])\n",
    "# df0[df0$outliers_pct>0.1,]"
   ]
  },
  {
   "cell_type": "code",
   "execution_count": 319,
   "id": "91382f05",
   "metadata": {},
   "outputs": [
    {
     "data": {
      "image/png": "[encoded data removed]",
      "text/plain": [
       "plot without title"
      ]
     },
     "metadata": {
      "image/png": {
       "height": 420,
       "width": 420
      }
     },
     "output_type": "display_data"
    }
   ],
   "source": [
    "ggplot(df0, aes(x=top_z_outliers_pct, y=top_outliers_pct)) + geom_point() + theme_classic()"
   ]
  },
  {
   "cell_type": "code",
   "execution_count": 320,
   "id": "f839699b",
   "metadata": {},
   "outputs": [
    {
     "data": {
      "image/png": "[encoded data removed]",
      "text/plain": [
       "plot without title"
      ]
     },
     "metadata": {
      "image/png": {
       "height": 420,
       "width": 420
      }
     },
     "output_type": "display_data"
    }
   ],
   "source": [
    "ggplot(df0, aes(x=bottom_z_outliers_pct, y=bottom_outliers_pct)) + geom_point() + theme_classic()"
   ]
  },
  {
   "cell_type": "code",
   "execution_count": 157,
   "id": "c2cbb9b5",
   "metadata": {},
   "outputs": [],
   "source": [
    "selected_cells = rownames(sce_22@meta.data[sce_22@meta.data$individual %in% df0[df0$outliers_pct>0.1,\"individual\"],])"
   ]
  },
  {
   "cell_type": "code",
   "execution_count": 164,
   "id": "9279f1bb",
   "metadata": {},
   "outputs": [
    {
     "name": "stderr",
     "output_type": "stream",
     "text": [
      "`stat_bin()` using `bins = 30`. Pick better value with `binwidth`.\n",
      "\n",
      "Warning message:\n",
      "“Removed 19 rows containing missing values (geom_bar).”\n"
     ]
    },
    {
     "data": {
      "image/png": "[encoded data removed]",
      "text/plain": [
       "plot without title"
      ]
     },
     "metadata": {
      "image/png": {
       "height": 420,
       "width": 420
      }
     },
     "output_type": "display_data"
    }
   ],
   "source": [
    "p = ggplot(y, aes(x=z_scores)) + geom_histogram(bins=50) + theme_classic() \n",
    "p + geom_histogram(data = y[rownames(y) %in% selected_cells,], col=\"red\", aes(x=z_scores)) + ylim(0,500)"
   ]
  },
  {
   "cell_type": "code",
   "execution_count": 162,
   "id": "db8d1418",
   "metadata": {},
   "outputs": [
    {
     "data": {
      "image/png": "[encoded data removed]",
      "text/plain": [
       "Plot with title “Histogram of y[rownames(y) %in% selected_cells, \"z_scores\"]”"
      ]
     },
     "metadata": {
      "image/png": {
       "height": 420,
       "width": 420
      }
     },
     "output_type": "display_data"
    }
   ],
   "source": [
    "hist(y[rownames(y) %in% selected_cells,\"z_scores\"])"
   ]
  },
  {
   "cell_type": "code",
   "execution_count": null,
   "id": "60d13025",
   "metadata": {},
   "outputs": [],
   "source": []
  }
 ],
 "metadata": {
  "kernelspec": {
   "display_name": "Single Cell Notebook (R 4.1.2)",
   "language": "R",
   "name": "singlecell"
  },
  "language_info": {
   "codemirror_mode": "r",
   "file_extension": ".r",
   "mimetype": "text/x-r-source",
   "name": "R",
   "pygments_lexer": "r",
   "version": "4.1.2"
  }
 },
 "nbformat": 4,
 "nbformat_minor": 5
}
