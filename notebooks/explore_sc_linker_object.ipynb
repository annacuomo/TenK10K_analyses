{
 "cells": [
  {
   "cell_type": "code",
   "execution_count": 1,
   "id": "e12b081e",
   "metadata": {},
   "outputs": [
    {
     "name": "stderr",
     "output_type": "stream",
     "text": [
      "Matplotlib created a temporary config/cache directory at /home/anncuo/Rare_Variants/matplotlib-4av_qsnr because the default path (/home/jovyan/.cache/matplotlib) is not a writable directory; it is highly recommended to set the MPLCONFIGDIR environment variable to a writable directory, in particular to speed up the import of Matplotlib and to better support multiprocessing.\n",
      "Matplotlib is building the font cache; this may take a moment.\n"
     ]
    }
   ],
   "source": [
    "import scanpy as sc"
   ]
  },
  {
   "cell_type": "code",
   "execution_count": 2,
   "id": "fab1225b",
   "metadata": {},
   "outputs": [],
   "source": [
    "asthma_file = \"/share/ScratchGeneral/anncuo/data/asthma.h5ad\""
   ]
  },
  {
   "cell_type": "code",
   "execution_count": 3,
   "id": "2b3a7136",
   "metadata": {},
   "outputs": [
    {
     "data": {
      "text/plain": [
       "AnnData object with n_obs × n_vars = 67078 × 22645\n",
       "    obs: 'batch', 'clus', 'dataset', 'loc', 'tSNE_1', 'tSNE_2', 'sampleid', 'percent_mito', 'cell_subset', 'leiden', 'disease', 'annot_level_2', 'annot_level_3'\n",
       "    var: 'highly_variable', 'means', 'dispersions', 'dispersions_norm', 'highly_variable_nbatches', 'highly_variable_intersection'\n",
       "    uns: 'annot_level_2_colors', 'annot_level_3_colors', 'batch_colors', 'cell_subset_colors', 'dataset_colors', 'disease_colors', 'leiden', 'leiden_colors', 'loc_colors', 'neighbors', 'pca', 'umap'\n",
       "    obsm: 'X_harmony', 'X_pca', 'X_umap'\n",
       "    varm: 'PCs'\n",
       "    layers: 'counts'\n",
       "    obsp: 'connectivities', 'distances'"
      ]
     },
     "execution_count": 3,
     "metadata": {},
     "output_type": "execute_result"
    }
   ],
   "source": [
    "df = sc.read(asthma_file)\n",
    "df"
   ]
  },
  {
   "cell_type": "code",
   "execution_count": 4,
   "id": "e3f0e450",
   "metadata": {},
   "outputs": [
    {
     "data": {
      "text/plain": [
       "\"AnnData object with n_obs × n_vars = 67078 × 22645\\n    obs: 'batch', 'clus', 'dataset', 'loc', 'tSNE_1', 'tSNE_2', 'sampleid', 'percent_mito', 'cell_subset', 'leiden', 'disease', 'annot_level_2', 'annot_level_3'\\n    var: 'highly_variable', 'means', 'dispersions', 'dispersions_norm', 'highly_variable_nbatches', 'highly_variable_intersection'\\n    uns: 'annot_level_2_colors', 'annot_level_3_colors', 'batch_colors', 'cell_subset_colors', 'dataset_colors', 'disease_colors', 'leiden', 'leiden_colors', 'loc_colors', 'neighbors', 'pca', 'umap'\\n    obsm: 'X_harmony', 'X_pca', 'X_umap'\\n    varm: 'PCs'\\n    layers: 'counts'\\n    obsp: 'connectivities', 'distances'\""
      ]
     },
     "execution_count": 4,
     "metadata": {},
     "output_type": "execute_result"
    }
   ],
   "source": [
    "df.obs"
   ]
  },
  {
   "cell_type": "code",
   "execution_count": null,
   "id": "466188b1",
   "metadata": {},
   "outputs": [],
   "source": []
  }
 ],
 "metadata": {
  "kernelspec": {
   "display_name": "Python (Jupyter - cellregmap)",
   "language": "python",
   "name": "cellregmap_notebook"
  },
  "language_info": {
   "codemirror_mode": {
    "name": "ipython",
    "version": 3
   },
   "file_extension": ".py",
   "mimetype": "text/x-python",
   "name": "python",
   "nbconvert_exporter": "python",
   "pygments_lexer": "ipython3",
   "version": "3.7.11"
  }
 },
 "nbformat": 4,
 "nbformat_minor": 5
}
