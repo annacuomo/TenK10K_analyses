{
 "cells": [
  {
   "cell_type": "code",
   "execution_count": 62,
   "id": "1c314ffd",
   "metadata": {},
   "outputs": [],
   "source": [
    "# Get object (Garvan HPC cluster)\n",
    "gene_ref_folder <- \"/share/ScratchGeneral/anncuo/OneK1K/gene_ref/\""
   ]
  },
  {
   "cell_type": "code",
   "execution_count": 63,
   "id": "317c3f8f",
   "metadata": {},
   "outputs": [],
   "source": [
    "gtf_file <- paste0(gene_ref_folder, \"gencode.v42.basic.annotation.gtf\")  # flagged as \"main\" annotation"
   ]
  },
  {
   "cell_type": "code",
   "execution_count": 64,
   "id": "6af2dff5",
   "metadata": {},
   "outputs": [
    {
     "data": {
      "text/html": [
       "<table class=\"dataframe\">\n",
       "<caption>A data.frame: 2 × 9</caption>\n",
       "<thead>\n",
       "\t<tr><th></th><th scope=col>V1</th><th scope=col>V2</th><th scope=col>V3</th><th scope=col>V4</th><th scope=col>V5</th><th scope=col>V6</th><th scope=col>V7</th><th scope=col>V8</th><th scope=col>V9</th></tr>\n",
       "\t<tr><th></th><th scope=col>&lt;chr&gt;</th><th scope=col>&lt;chr&gt;</th><th scope=col>&lt;chr&gt;</th><th scope=col>&lt;int&gt;</th><th scope=col>&lt;int&gt;</th><th scope=col>&lt;chr&gt;</th><th scope=col>&lt;chr&gt;</th><th scope=col>&lt;chr&gt;</th><th scope=col>&lt;chr&gt;</th></tr>\n",
       "</thead>\n",
       "<tbody>\n",
       "\t<tr><th scope=row>1</th><td>chr1</td><td>HAVANA</td><td>gene      </td><td>11869</td><td>14409</td><td>.</td><td>+</td><td>.</td><td>gene_id ENSG00000290825.1; gene_type lncRNA; gene_name DDX11L2; level 2; tag overlaps_pseudogene;                                                                                                                                                                   </td></tr>\n",
       "\t<tr><th scope=row>2</th><td>chr1</td><td>HAVANA</td><td>transcript</td><td>11869</td><td>14409</td><td>.</td><td>+</td><td>.</td><td>gene_id ENSG00000290825.1; transcript_id ENST00000456328.2; gene_type lncRNA; gene_name DDX11L2; transcript_type lncRNA; transcript_name DDX11L2-202; level 2; transcript_support_level 1; tag basic; tag Ensembl_canonical; havana_transcript OTTHUMT00000362751.1;</td></tr>\n",
       "</tbody>\n",
       "</table>\n"
      ],
      "text/latex": [
       "A data.frame: 2 × 9\n",
       "\\begin{tabular}{r|lllllllll}\n",
       "  & V1 & V2 & V3 & V4 & V5 & V6 & V7 & V8 & V9\\\\\n",
       "  & <chr> & <chr> & <chr> & <int> & <int> & <chr> & <chr> & <chr> & <chr>\\\\\n",
       "\\hline\n",
       "\t1 & chr1 & HAVANA & gene       & 11869 & 14409 & . & + & . & gene\\_id ENSG00000290825.1; gene\\_type lncRNA; gene\\_name DDX11L2; level 2; tag overlaps\\_pseudogene;                                                                                                                                                                   \\\\\n",
       "\t2 & chr1 & HAVANA & transcript & 11869 & 14409 & . & + & . & gene\\_id ENSG00000290825.1; transcript\\_id ENST00000456328.2; gene\\_type lncRNA; gene\\_name DDX11L2; transcript\\_type lncRNA; transcript\\_name DDX11L2-202; level 2; transcript\\_support\\_level 1; tag basic; tag Ensembl\\_canonical; havana\\_transcript OTTHUMT00000362751.1;\\\\\n",
       "\\end{tabular}\n"
      ],
      "text/markdown": [
       "\n",
       "A data.frame: 2 × 9\n",
       "\n",
       "| <!--/--> | V1 &lt;chr&gt; | V2 &lt;chr&gt; | V3 &lt;chr&gt; | V4 &lt;int&gt; | V5 &lt;int&gt; | V6 &lt;chr&gt; | V7 &lt;chr&gt; | V8 &lt;chr&gt; | V9 &lt;chr&gt; |\n",
       "|---|---|---|---|---|---|---|---|---|---|\n",
       "| 1 | chr1 | HAVANA | gene       | 11869 | 14409 | . | + | . | gene_id ENSG00000290825.1; gene_type lncRNA; gene_name DDX11L2; level 2; tag overlaps_pseudogene;                                                                                                                                                                    |\n",
       "| 2 | chr1 | HAVANA | transcript | 11869 | 14409 | . | + | . | gene_id ENSG00000290825.1; transcript_id ENST00000456328.2; gene_type lncRNA; gene_name DDX11L2; transcript_type lncRNA; transcript_name DDX11L2-202; level 2; transcript_support_level 1; tag basic; tag Ensembl_canonical; havana_transcript OTTHUMT00000362751.1; |\n",
       "\n"
      ],
      "text/plain": [
       "  V1   V2     V3         V4    V5    V6 V7 V8\n",
       "1 chr1 HAVANA gene       11869 14409 .  +  . \n",
       "2 chr1 HAVANA transcript 11869 14409 .  +  . \n",
       "  V9                                                                                                                                                                                                                                                                  \n",
       "1 gene_id ENSG00000290825.1; gene_type lncRNA; gene_name DDX11L2; level 2; tag overlaps_pseudogene;                                                                                                                                                                   \n",
       "2 gene_id ENSG00000290825.1; transcript_id ENST00000456328.2; gene_type lncRNA; gene_name DDX11L2; transcript_type lncRNA; transcript_name DDX11L2-202; level 2; transcript_support_level 1; tag basic; tag Ensembl_canonical; havana_transcript OTTHUMT00000362751.1;"
      ]
     },
     "metadata": {},
     "output_type": "display_data"
    },
    {
     "data": {
      "text/html": [
       "<table class=\"dataframe\">\n",
       "<caption>A data.frame: 3 × 9</caption>\n",
       "<thead>\n",
       "\t<tr><th></th><th scope=col>V1</th><th scope=col>V2</th><th scope=col>V3</th><th scope=col>V4</th><th scope=col>V5</th><th scope=col>V6</th><th scope=col>V7</th><th scope=col>V8</th><th scope=col>V9</th></tr>\n",
       "\t<tr><th></th><th scope=col>&lt;chr&gt;</th><th scope=col>&lt;chr&gt;</th><th scope=col>&lt;chr&gt;</th><th scope=col>&lt;int&gt;</th><th scope=col>&lt;int&gt;</th><th scope=col>&lt;chr&gt;</th><th scope=col>&lt;chr&gt;</th><th scope=col>&lt;chr&gt;</th><th scope=col>&lt;chr&gt;</th></tr>\n",
       "</thead>\n",
       "<tbody>\n",
       "\t<tr><th scope=row>1876570</th><td>chr22</td><td>HAVANA</td><td>transcript</td><td>22887780</td><td>22896107</td><td>.</td><td>+</td><td>.</td><td>gene_id ENSG00000254709.8; transcript_id ENST00000532223.2; gene_type protein_coding; gene_name IGLL5; transcript_type protein_coding; transcript_name IGLL5-203; level 2; protein_id ENSP00000436353.1; transcript_support_level 1; hgnc_id HGNC:38476; tag basic; tag appris_alternative_1; havana_gene OTTHUMG00000165670.3; havana_transcript OTTHUMT00000385698.2;                                                                    </td></tr>\n",
       "\t<tr><th scope=row>1876581</th><td>chr22</td><td>HAVANA</td><td>transcript</td><td>22887816</td><td>22896111</td><td>.</td><td>+</td><td>.</td><td>gene_id ENSG00000254709.8; transcript_id ENST00000526893.6; gene_type protein_coding; gene_name IGLL5; transcript_type protein_coding; transcript_name IGLL5-201; level 2; protein_id ENSP00000431254.1; transcript_support_level 1; hgnc_id HGNC:38476; tag basic; tag Ensembl_canonical; tag MANE_Select; tag appris_principal_2; tag CCDS; ccdsid CCDS54506.1; havana_gene OTTHUMG00000165670.3; havana_transcript OTTHUMT00000385699.2;</td></tr>\n",
       "\t<tr><th scope=row>1876592</th><td>chr22</td><td>HAVANA</td><td>transcript</td><td>22887829</td><td>22895825</td><td>.</td><td>+</td><td>.</td><td>gene_id ENSG00000254709.8; transcript_id ENST00000531372.1; gene_type protein_coding; gene_name IGLL5; transcript_type protein_coding; transcript_name IGLL5-202; level 2; protein_id ENSP00000434368.1; transcript_support_level 1; hgnc_id HGNC:38476; tag basic; havana_gene OTTHUMG00000165670.3; havana_transcript OTTHUMT00000385700.1;                                                                                              </td></tr>\n",
       "</tbody>\n",
       "</table>\n"
      ],
      "text/latex": [
       "A data.frame: 3 × 9\n",
       "\\begin{tabular}{r|lllllllll}\n",
       "  & V1 & V2 & V3 & V4 & V5 & V6 & V7 & V8 & V9\\\\\n",
       "  & <chr> & <chr> & <chr> & <int> & <int> & <chr> & <chr> & <chr> & <chr>\\\\\n",
       "\\hline\n",
       "\t1876570 & chr22 & HAVANA & transcript & 22887780 & 22896107 & . & + & . & gene\\_id ENSG00000254709.8; transcript\\_id ENST00000532223.2; gene\\_type protein\\_coding; gene\\_name IGLL5; transcript\\_type protein\\_coding; transcript\\_name IGLL5-203; level 2; protein\\_id ENSP00000436353.1; transcript\\_support\\_level 1; hgnc\\_id HGNC:38476; tag basic; tag appris\\_alternative\\_1; havana\\_gene OTTHUMG00000165670.3; havana\\_transcript OTTHUMT00000385698.2;                                                                    \\\\\n",
       "\t1876581 & chr22 & HAVANA & transcript & 22887816 & 22896111 & . & + & . & gene\\_id ENSG00000254709.8; transcript\\_id ENST00000526893.6; gene\\_type protein\\_coding; gene\\_name IGLL5; transcript\\_type protein\\_coding; transcript\\_name IGLL5-201; level 2; protein\\_id ENSP00000431254.1; transcript\\_support\\_level 1; hgnc\\_id HGNC:38476; tag basic; tag Ensembl\\_canonical; tag MANE\\_Select; tag appris\\_principal\\_2; tag CCDS; ccdsid CCDS54506.1; havana\\_gene OTTHUMG00000165670.3; havana\\_transcript OTTHUMT00000385699.2;\\\\\n",
       "\t1876592 & chr22 & HAVANA & transcript & 22887829 & 22895825 & . & + & . & gene\\_id ENSG00000254709.8; transcript\\_id ENST00000531372.1; gene\\_type protein\\_coding; gene\\_name IGLL5; transcript\\_type protein\\_coding; transcript\\_name IGLL5-202; level 2; protein\\_id ENSP00000434368.1; transcript\\_support\\_level 1; hgnc\\_id HGNC:38476; tag basic; havana\\_gene OTTHUMG00000165670.3; havana\\_transcript OTTHUMT00000385700.1;                                                                                              \\\\\n",
       "\\end{tabular}\n"
      ],
      "text/markdown": [
       "\n",
       "A data.frame: 3 × 9\n",
       "\n",
       "| <!--/--> | V1 &lt;chr&gt; | V2 &lt;chr&gt; | V3 &lt;chr&gt; | V4 &lt;int&gt; | V5 &lt;int&gt; | V6 &lt;chr&gt; | V7 &lt;chr&gt; | V8 &lt;chr&gt; | V9 &lt;chr&gt; |\n",
       "|---|---|---|---|---|---|---|---|---|---|\n",
       "| 1876570 | chr22 | HAVANA | transcript | 22887780 | 22896107 | . | + | . | gene_id ENSG00000254709.8; transcript_id ENST00000532223.2; gene_type protein_coding; gene_name IGLL5; transcript_type protein_coding; transcript_name IGLL5-203; level 2; protein_id ENSP00000436353.1; transcript_support_level 1; hgnc_id HGNC:38476; tag basic; tag appris_alternative_1; havana_gene OTTHUMG00000165670.3; havana_transcript OTTHUMT00000385698.2;                                                                     |\n",
       "| 1876581 | chr22 | HAVANA | transcript | 22887816 | 22896111 | . | + | . | gene_id ENSG00000254709.8; transcript_id ENST00000526893.6; gene_type protein_coding; gene_name IGLL5; transcript_type protein_coding; transcript_name IGLL5-201; level 2; protein_id ENSP00000431254.1; transcript_support_level 1; hgnc_id HGNC:38476; tag basic; tag Ensembl_canonical; tag MANE_Select; tag appris_principal_2; tag CCDS; ccdsid CCDS54506.1; havana_gene OTTHUMG00000165670.3; havana_transcript OTTHUMT00000385699.2; |\n",
       "| 1876592 | chr22 | HAVANA | transcript | 22887829 | 22895825 | . | + | . | gene_id ENSG00000254709.8; transcript_id ENST00000531372.1; gene_type protein_coding; gene_name IGLL5; transcript_type protein_coding; transcript_name IGLL5-202; level 2; protein_id ENSP00000434368.1; transcript_support_level 1; hgnc_id HGNC:38476; tag basic; havana_gene OTTHUMG00000165670.3; havana_transcript OTTHUMT00000385700.1;                                                                                               |\n",
       "\n"
      ],
      "text/plain": [
       "        V1    V2     V3         V4       V5       V6 V7 V8\n",
       "1876570 chr22 HAVANA transcript 22887780 22896107 .  +  . \n",
       "1876581 chr22 HAVANA transcript 22887816 22896111 .  +  . \n",
       "1876592 chr22 HAVANA transcript 22887829 22895825 .  +  . \n",
       "        V9                                                                                                                                                                                                                                                                                                                                                                                                                                         \n",
       "1876570 gene_id ENSG00000254709.8; transcript_id ENST00000532223.2; gene_type protein_coding; gene_name IGLL5; transcript_type protein_coding; transcript_name IGLL5-203; level 2; protein_id ENSP00000436353.1; transcript_support_level 1; hgnc_id HGNC:38476; tag basic; tag appris_alternative_1; havana_gene OTTHUMG00000165670.3; havana_transcript OTTHUMT00000385698.2;                                                                    \n",
       "1876581 gene_id ENSG00000254709.8; transcript_id ENST00000526893.6; gene_type protein_coding; gene_name IGLL5; transcript_type protein_coding; transcript_name IGLL5-201; level 2; protein_id ENSP00000431254.1; transcript_support_level 1; hgnc_id HGNC:38476; tag basic; tag Ensembl_canonical; tag MANE_Select; tag appris_principal_2; tag CCDS; ccdsid CCDS54506.1; havana_gene OTTHUMG00000165670.3; havana_transcript OTTHUMT00000385699.2;\n",
       "1876592 gene_id ENSG00000254709.8; transcript_id ENST00000531372.1; gene_type protein_coding; gene_name IGLL5; transcript_type protein_coding; transcript_name IGLL5-202; level 2; protein_id ENSP00000434368.1; transcript_support_level 1; hgnc_id HGNC:38476; tag basic; havana_gene OTTHUMG00000165670.3; havana_transcript OTTHUMT00000385700.1;                                                                                              "
      ]
     },
     "metadata": {},
     "output_type": "display_data"
    }
   ],
   "source": [
    "# Load object (Gencode v42)\n",
    "gtf <- read.table(gtf_file, header = FALSE, sep = \"\\t\")\n",
    "\n",
    "# Turn into data frame\n",
    "gtf_df <- as.data.frame(gtf)\n",
    "head(gtf_df,2)\n",
    "\n",
    "gtf_t_df = gtf_df[grep(\"transcript\",gtf_df$V3),]\n",
    "gtf_t_df[grep(\"IGLL5\",gtf_t_df$V9),] "
   ]
  },
  {
   "cell_type": "code",
   "execution_count": 59,
   "id": "ae9bc44a",
   "metadata": {},
   "outputs": [],
   "source": [
    "gtf_file <- paste0(gene_ref_folder, \"gencode.v38.annotation.gtf\")  # flagged as \"main\" annotation"
   ]
  },
  {
   "cell_type": "code",
   "execution_count": 60,
   "id": "7473166c",
   "metadata": {},
   "outputs": [
    {
     "data": {
      "text/html": [
       "<table class=\"dataframe\">\n",
       "<caption>A data.frame: 2 × 9</caption>\n",
       "<thead>\n",
       "\t<tr><th></th><th scope=col>V1</th><th scope=col>V2</th><th scope=col>V3</th><th scope=col>V4</th><th scope=col>V5</th><th scope=col>V6</th><th scope=col>V7</th><th scope=col>V8</th><th scope=col>V9</th></tr>\n",
       "\t<tr><th></th><th scope=col>&lt;chr&gt;</th><th scope=col>&lt;chr&gt;</th><th scope=col>&lt;chr&gt;</th><th scope=col>&lt;int&gt;</th><th scope=col>&lt;int&gt;</th><th scope=col>&lt;chr&gt;</th><th scope=col>&lt;chr&gt;</th><th scope=col>&lt;chr&gt;</th><th scope=col>&lt;chr&gt;</th></tr>\n",
       "</thead>\n",
       "<tbody>\n",
       "\t<tr><th scope=row>1</th><td>chr1</td><td>HAVANA</td><td>gene      </td><td>11869</td><td>14409</td><td>.</td><td>+</td><td>.</td><td>gene_id ENSG00000223972.5; gene_type transcribed_unprocessed_pseudogene; gene_name DDX11L1; level 2; hgnc_id HGNC:37102; havana_gene OTTHUMG00000000961.2;                                                                                                                                                                                   </td></tr>\n",
       "\t<tr><th scope=row>2</th><td>chr1</td><td>HAVANA</td><td>transcript</td><td>11869</td><td>14409</td><td>.</td><td>+</td><td>.</td><td>gene_id ENSG00000223972.5; transcript_id ENST00000456328.2; gene_type transcribed_unprocessed_pseudogene; gene_name DDX11L1; transcript_type processed_transcript; transcript_name DDX11L1-202; level 2; transcript_support_level 1; hgnc_id HGNC:37102; tag basic; havana_gene OTTHUMG00000000961.2; havana_transcript OTTHUMT00000362751.1;</td></tr>\n",
       "</tbody>\n",
       "</table>\n"
      ],
      "text/latex": [
       "A data.frame: 2 × 9\n",
       "\\begin{tabular}{r|lllllllll}\n",
       "  & V1 & V2 & V3 & V4 & V5 & V6 & V7 & V8 & V9\\\\\n",
       "  & <chr> & <chr> & <chr> & <int> & <int> & <chr> & <chr> & <chr> & <chr>\\\\\n",
       "\\hline\n",
       "\t1 & chr1 & HAVANA & gene       & 11869 & 14409 & . & + & . & gene\\_id ENSG00000223972.5; gene\\_type transcribed\\_unprocessed\\_pseudogene; gene\\_name DDX11L1; level 2; hgnc\\_id HGNC:37102; havana\\_gene OTTHUMG00000000961.2;                                                                                                                                                                                   \\\\\n",
       "\t2 & chr1 & HAVANA & transcript & 11869 & 14409 & . & + & . & gene\\_id ENSG00000223972.5; transcript\\_id ENST00000456328.2; gene\\_type transcribed\\_unprocessed\\_pseudogene; gene\\_name DDX11L1; transcript\\_type processed\\_transcript; transcript\\_name DDX11L1-202; level 2; transcript\\_support\\_level 1; hgnc\\_id HGNC:37102; tag basic; havana\\_gene OTTHUMG00000000961.2; havana\\_transcript OTTHUMT00000362751.1;\\\\\n",
       "\\end{tabular}\n"
      ],
      "text/markdown": [
       "\n",
       "A data.frame: 2 × 9\n",
       "\n",
       "| <!--/--> | V1 &lt;chr&gt; | V2 &lt;chr&gt; | V3 &lt;chr&gt; | V4 &lt;int&gt; | V5 &lt;int&gt; | V6 &lt;chr&gt; | V7 &lt;chr&gt; | V8 &lt;chr&gt; | V9 &lt;chr&gt; |\n",
       "|---|---|---|---|---|---|---|---|---|---|\n",
       "| 1 | chr1 | HAVANA | gene       | 11869 | 14409 | . | + | . | gene_id ENSG00000223972.5; gene_type transcribed_unprocessed_pseudogene; gene_name DDX11L1; level 2; hgnc_id HGNC:37102; havana_gene OTTHUMG00000000961.2;                                                                                                                                                                                    |\n",
       "| 2 | chr1 | HAVANA | transcript | 11869 | 14409 | . | + | . | gene_id ENSG00000223972.5; transcript_id ENST00000456328.2; gene_type transcribed_unprocessed_pseudogene; gene_name DDX11L1; transcript_type processed_transcript; transcript_name DDX11L1-202; level 2; transcript_support_level 1; hgnc_id HGNC:37102; tag basic; havana_gene OTTHUMG00000000961.2; havana_transcript OTTHUMT00000362751.1; |\n",
       "\n"
      ],
      "text/plain": [
       "  V1   V2     V3         V4    V5    V6 V7 V8\n",
       "1 chr1 HAVANA gene       11869 14409 .  +  . \n",
       "2 chr1 HAVANA transcript 11869 14409 .  +  . \n",
       "  V9                                                                                                                                                                                                                                                                                                                                           \n",
       "1 gene_id ENSG00000223972.5; gene_type transcribed_unprocessed_pseudogene; gene_name DDX11L1; level 2; hgnc_id HGNC:37102; havana_gene OTTHUMG00000000961.2;                                                                                                                                                                                   \n",
       "2 gene_id ENSG00000223972.5; transcript_id ENST00000456328.2; gene_type transcribed_unprocessed_pseudogene; gene_name DDX11L1; transcript_type processed_transcript; transcript_name DDX11L1-202; level 2; transcript_support_level 1; hgnc_id HGNC:37102; tag basic; havana_gene OTTHUMG00000000961.2; havana_transcript OTTHUMT00000362751.1;"
      ]
     },
     "metadata": {},
     "output_type": "display_data"
    },
    {
     "data": {
      "text/html": [
       "<table class=\"dataframe\">\n",
       "<caption>A data.frame: 3 × 9</caption>\n",
       "<thead>\n",
       "\t<tr><th></th><th scope=col>V1</th><th scope=col>V2</th><th scope=col>V3</th><th scope=col>V4</th><th scope=col>V5</th><th scope=col>V6</th><th scope=col>V7</th><th scope=col>V8</th><th scope=col>V9</th></tr>\n",
       "\t<tr><th></th><th scope=col>&lt;chr&gt;</th><th scope=col>&lt;chr&gt;</th><th scope=col>&lt;chr&gt;</th><th scope=col>&lt;int&gt;</th><th scope=col>&lt;int&gt;</th><th scope=col>&lt;chr&gt;</th><th scope=col>&lt;chr&gt;</th><th scope=col>&lt;chr&gt;</th><th scope=col>&lt;chr&gt;</th></tr>\n",
       "</thead>\n",
       "<tbody>\n",
       "\t<tr><th scope=row>2985273</th><td>chr22</td><td>HAVANA</td><td>transcript</td><td>22887780</td><td>22896107</td><td>.</td><td>+</td><td>.</td><td>gene_id ENSG00000254709.8; transcript_id ENST00000532223.2; gene_type protein_coding; gene_name IGLL5; transcript_type protein_coding; transcript_name IGLL5-203; level 2; protein_id ENSP00000436353.1; transcript_support_level 1; hgnc_id HGNC:38476; tag basic; tag appris_alternative_2; tag readthrough_transcript; havana_gene OTTHUMG00000165670.3; havana_transcript OTTHUMT00000385698.2;                                                                    </td></tr>\n",
       "\t<tr><th scope=row>2985284</th><td>chr22</td><td>HAVANA</td><td>transcript</td><td>22887816</td><td>22896111</td><td>.</td><td>+</td><td>.</td><td>gene_id ENSG00000254709.8; transcript_id ENST00000526893.6; gene_type protein_coding; gene_name IGLL5; transcript_type protein_coding; transcript_name IGLL5-201; level 2; protein_id ENSP00000431254.1; transcript_support_level 1; hgnc_id HGNC:38476; tag basic; tag Ensembl_canonical; tag MANE_Select; tag appris_principal_2; tag readthrough_transcript; tag CCDS; ccdsid CCDS54506.1; havana_gene OTTHUMG00000165670.3; havana_transcript OTTHUMT00000385699.2;</td></tr>\n",
       "\t<tr><th scope=row>2985295</th><td>chr22</td><td>HAVANA</td><td>transcript</td><td>22887829</td><td>22895825</td><td>.</td><td>+</td><td>.</td><td>gene_id ENSG00000254709.8; transcript_id ENST00000531372.1; gene_type protein_coding; gene_name IGLL5; transcript_type protein_coding; transcript_name IGLL5-202; level 2; protein_id ENSP00000434368.1; transcript_support_level 1; hgnc_id HGNC:38476; tag basic; tag readthrough_transcript; havana_gene OTTHUMG00000165670.3; havana_transcript OTTHUMT00000385700.1;                                                                                              </td></tr>\n",
       "</tbody>\n",
       "</table>\n"
      ],
      "text/latex": [
       "A data.frame: 3 × 9\n",
       "\\begin{tabular}{r|lllllllll}\n",
       "  & V1 & V2 & V3 & V4 & V5 & V6 & V7 & V8 & V9\\\\\n",
       "  & <chr> & <chr> & <chr> & <int> & <int> & <chr> & <chr> & <chr> & <chr>\\\\\n",
       "\\hline\n",
       "\t2985273 & chr22 & HAVANA & transcript & 22887780 & 22896107 & . & + & . & gene\\_id ENSG00000254709.8; transcript\\_id ENST00000532223.2; gene\\_type protein\\_coding; gene\\_name IGLL5; transcript\\_type protein\\_coding; transcript\\_name IGLL5-203; level 2; protein\\_id ENSP00000436353.1; transcript\\_support\\_level 1; hgnc\\_id HGNC:38476; tag basic; tag appris\\_alternative\\_2; tag readthrough\\_transcript; havana\\_gene OTTHUMG00000165670.3; havana\\_transcript OTTHUMT00000385698.2;                                                                    \\\\\n",
       "\t2985284 & chr22 & HAVANA & transcript & 22887816 & 22896111 & . & + & . & gene\\_id ENSG00000254709.8; transcript\\_id ENST00000526893.6; gene\\_type protein\\_coding; gene\\_name IGLL5; transcript\\_type protein\\_coding; transcript\\_name IGLL5-201; level 2; protein\\_id ENSP00000431254.1; transcript\\_support\\_level 1; hgnc\\_id HGNC:38476; tag basic; tag Ensembl\\_canonical; tag MANE\\_Select; tag appris\\_principal\\_2; tag readthrough\\_transcript; tag CCDS; ccdsid CCDS54506.1; havana\\_gene OTTHUMG00000165670.3; havana\\_transcript OTTHUMT00000385699.2;\\\\\n",
       "\t2985295 & chr22 & HAVANA & transcript & 22887829 & 22895825 & . & + & . & gene\\_id ENSG00000254709.8; transcript\\_id ENST00000531372.1; gene\\_type protein\\_coding; gene\\_name IGLL5; transcript\\_type protein\\_coding; transcript\\_name IGLL5-202; level 2; protein\\_id ENSP00000434368.1; transcript\\_support\\_level 1; hgnc\\_id HGNC:38476; tag basic; tag readthrough\\_transcript; havana\\_gene OTTHUMG00000165670.3; havana\\_transcript OTTHUMT00000385700.1;                                                                                              \\\\\n",
       "\\end{tabular}\n"
      ],
      "text/markdown": [
       "\n",
       "A data.frame: 3 × 9\n",
       "\n",
       "| <!--/--> | V1 &lt;chr&gt; | V2 &lt;chr&gt; | V3 &lt;chr&gt; | V4 &lt;int&gt; | V5 &lt;int&gt; | V6 &lt;chr&gt; | V7 &lt;chr&gt; | V8 &lt;chr&gt; | V9 &lt;chr&gt; |\n",
       "|---|---|---|---|---|---|---|---|---|---|\n",
       "| 2985273 | chr22 | HAVANA | transcript | 22887780 | 22896107 | . | + | . | gene_id ENSG00000254709.8; transcript_id ENST00000532223.2; gene_type protein_coding; gene_name IGLL5; transcript_type protein_coding; transcript_name IGLL5-203; level 2; protein_id ENSP00000436353.1; transcript_support_level 1; hgnc_id HGNC:38476; tag basic; tag appris_alternative_2; tag readthrough_transcript; havana_gene OTTHUMG00000165670.3; havana_transcript OTTHUMT00000385698.2;                                                                     |\n",
       "| 2985284 | chr22 | HAVANA | transcript | 22887816 | 22896111 | . | + | . | gene_id ENSG00000254709.8; transcript_id ENST00000526893.6; gene_type protein_coding; gene_name IGLL5; transcript_type protein_coding; transcript_name IGLL5-201; level 2; protein_id ENSP00000431254.1; transcript_support_level 1; hgnc_id HGNC:38476; tag basic; tag Ensembl_canonical; tag MANE_Select; tag appris_principal_2; tag readthrough_transcript; tag CCDS; ccdsid CCDS54506.1; havana_gene OTTHUMG00000165670.3; havana_transcript OTTHUMT00000385699.2; |\n",
       "| 2985295 | chr22 | HAVANA | transcript | 22887829 | 22895825 | . | + | . | gene_id ENSG00000254709.8; transcript_id ENST00000531372.1; gene_type protein_coding; gene_name IGLL5; transcript_type protein_coding; transcript_name IGLL5-202; level 2; protein_id ENSP00000434368.1; transcript_support_level 1; hgnc_id HGNC:38476; tag basic; tag readthrough_transcript; havana_gene OTTHUMG00000165670.3; havana_transcript OTTHUMT00000385700.1;                                                                                               |\n",
       "\n"
      ],
      "text/plain": [
       "        V1    V2     V3         V4       V5       V6 V7 V8\n",
       "2985273 chr22 HAVANA transcript 22887780 22896107 .  +  . \n",
       "2985284 chr22 HAVANA transcript 22887816 22896111 .  +  . \n",
       "2985295 chr22 HAVANA transcript 22887829 22895825 .  +  . \n",
       "        V9                                                                                                                                                                                                                                                                                                                                                                                                                                                                     \n",
       "2985273 gene_id ENSG00000254709.8; transcript_id ENST00000532223.2; gene_type protein_coding; gene_name IGLL5; transcript_type protein_coding; transcript_name IGLL5-203; level 2; protein_id ENSP00000436353.1; transcript_support_level 1; hgnc_id HGNC:38476; tag basic; tag appris_alternative_2; tag readthrough_transcript; havana_gene OTTHUMG00000165670.3; havana_transcript OTTHUMT00000385698.2;                                                                    \n",
       "2985284 gene_id ENSG00000254709.8; transcript_id ENST00000526893.6; gene_type protein_coding; gene_name IGLL5; transcript_type protein_coding; transcript_name IGLL5-201; level 2; protein_id ENSP00000431254.1; transcript_support_level 1; hgnc_id HGNC:38476; tag basic; tag Ensembl_canonical; tag MANE_Select; tag appris_principal_2; tag readthrough_transcript; tag CCDS; ccdsid CCDS54506.1; havana_gene OTTHUMG00000165670.3; havana_transcript OTTHUMT00000385699.2;\n",
       "2985295 gene_id ENSG00000254709.8; transcript_id ENST00000531372.1; gene_type protein_coding; gene_name IGLL5; transcript_type protein_coding; transcript_name IGLL5-202; level 2; protein_id ENSP00000434368.1; transcript_support_level 1; hgnc_id HGNC:38476; tag basic; tag readthrough_transcript; havana_gene OTTHUMG00000165670.3; havana_transcript OTTHUMT00000385700.1;                                                                                              "
      ]
     },
     "metadata": {},
     "output_type": "display_data"
    }
   ],
   "source": [
    "# Load object (Gencode v38)\n",
    "gtf <- read.table(gtf_file, header = FALSE, sep = \"\\t\")\n",
    "\n",
    "# Turn into data frame\n",
    "gtf_df <- as.data.frame(gtf)\n",
    "head(gtf_df,2)\n",
    "\n",
    "gtf_t_df = gtf_df[grep(\"transcript\",gtf_df$V3),]\n",
    "gtf_t_df[grep(\"IGLL5\",gtf_t_df$V9),] "
   ]
  },
  {
   "cell_type": "code",
   "execution_count": null,
   "id": "bbbd59c6",
   "metadata": {},
   "outputs": [],
   "source": []
  },
  {
   "cell_type": "code",
   "execution_count": null,
   "id": "cf6089a7",
   "metadata": {},
   "outputs": [],
   "source": []
  },
  {
   "cell_type": "code",
   "execution_count": null,
   "id": "60fbe9f5",
   "metadata": {},
   "outputs": [],
   "source": []
  },
  {
   "cell_type": "code",
   "execution_count": null,
   "id": "676d8865",
   "metadata": {},
   "outputs": [],
   "source": []
  },
  {
   "cell_type": "code",
   "execution_count": null,
   "id": "100598a2",
   "metadata": {},
   "outputs": [],
   "source": []
  },
  {
   "cell_type": "code",
   "execution_count": null,
   "id": "28a84c8f",
   "metadata": {},
   "outputs": [],
   "source": []
  },
  {
   "cell_type": "code",
   "execution_count": null,
   "id": "2ab36a41",
   "metadata": {},
   "outputs": [
    {
     "name": "stdout",
     "output_type": "stream",
     "text": [
      "[1] \"Total number of transcripts: 117681\"\n"
     ]
    }
   ],
   "source": [
    "# Load R packages\n",
    "library(plyr)\n",
    "\n",
    "# Get object (Garvan HPC cluster)\n",
    "gene_ref_folder <- \"/share/ScratchGeneral/anncuo/OneK1K/gene_ref/\"\n",
    "gtf_file <- paste0(gene_ref_folder, \"gencode.v42.basic.annotation.gtf\")  # flagged as \"main\" annotation\n",
    "# gtf_file <- paste0(gene_ref_folder, \"gencode.v42.chr_patch_hapl_scaff.annotation.gtf\")\n",
    "# gtf_file <- paste0(gene_ref_folder, \"gencode.v38.annotation.gtf\") # flagged as \"main\" annotation\n",
    "# gtf_file <- paste0(gene_ref_folder, \"gencode.v38.chr_patch_hapl_scaff.basic.annotation.gtf\")\n",
    "\n",
    "# Load object (Gencode v42)\n",
    "gtf <- read.table(gtf_file, header = FALSE, sep = \"\\t\")\n",
    "\n",
    "# Turn into data frame\n",
    "gtf_df <- as.data.frame(gtf)\n",
    "\n",
    "# Select transcripts only \n",
    "gtf_genes_df <- gtf_df[gtf_df$V3 == \"transcript\", ]\n",
    "print(paste0(\"Total number of transcripts: \", nrow(gtf_genes_df)))\n",
    "\n",
    "# Rename columns\n",
    "colnames(gtf_genes_df) <- c(\"seqname\", \"source\", \"feature\",\n",
    "    \"start\", \"end\", \"score\", \"strand\", \"frame\", \"attribute\")\n",
    "\n",
    "# Extract attributes\n",
    "attributes_df <- data.frame()\n",
    "for (i in seq_len(nrow(gtf_genes_df))){\n",
    "    line <- gtf_genes_df$attribute[i]\n",
    "    elems <- unlist(strsplit(line, \"; \"))\n",
    "    mat <- matrix(unlist(strsplit(elems, \" \")), nrow = 2, ncol = length(elems))\n",
    "    df_curr <- as.data.frame(mat)\n",
    "    colnames(df_curr) <- mat[1, ]\n",
    "    df_curr <- df_curr[-1, ]\n",
    "    attributes_df <- rbind.fill(attributes_df, df_curr)\n",
    "}\n",
    "\n",
    "# Add reformatted attributes to data frame\n",
    "full_df <- cbind(gtf_genes_df, attributes_df)\n",
    "full_df$attribute <- c()\n",
    "\n",
    "# Add columns Ensembl Gene ID (no version)\n",
    "full_df$ensembl_gene_id <- gsub(\"\\\\..*\", \"\", full_df$gene_id)\n",
    "\n",
    "# Clean attribute columns\n",
    "full_df$tag <- gsub(\";\", \"\", full_df$tag)\n",
    "full_df$level <- gsub(\";\", \"\", full_df$level)\n",
    "full_df$havana_gene <- gsub(\";\", \"\", full_df$havana_gene)\n",
    "\n",
    "# Save formatted object\n",
    "csv_filename <- gsub(\".gtf\", \".transcriptsonly.csv\", gtf_file)\n",
    "write.csv(full_df, csv_filename)"
   ]
  },
  {
   "cell_type": "code",
   "execution_count": null,
   "id": "0e4b9f8a",
   "metadata": {},
   "outputs": [],
   "source": []
  },
  {
   "cell_type": "code",
   "execution_count": null,
   "id": "d19d7c83",
   "metadata": {},
   "outputs": [],
   "source": []
  },
  {
   "cell_type": "code",
   "execution_count": null,
   "id": "d064af1b",
   "metadata": {},
   "outputs": [],
   "source": []
  },
  {
   "cell_type": "code",
   "execution_count": null,
   "id": "39e1ec5d",
   "metadata": {},
   "outputs": [],
   "source": []
  }
 ],
 "metadata": {
  "kernelspec": {
   "display_name": "Single Cell Notebook (R 4.1.2)",
   "language": "R",
   "name": "singlecell"
  },
  "language_info": {
   "codemirror_mode": "r",
   "file_extension": ".r",
   "mimetype": "text/x-r-source",
   "name": "R",
   "pygments_lexer": "r",
   "version": "4.1.2"
  }
 },
 "nbformat": 4,
 "nbformat_minor": 5
}
