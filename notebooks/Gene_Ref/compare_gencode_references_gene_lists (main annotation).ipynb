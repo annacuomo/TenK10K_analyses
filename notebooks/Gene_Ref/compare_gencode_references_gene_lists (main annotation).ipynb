{
 "cells": [
  {
   "cell_type": "code",
   "execution_count": null,
   "id": "14219053",
   "metadata": {},
   "outputs": [],
   "source": [
    "### Considering the two files flagged by Gencode to be the \"main\" annotation files\n",
    "# from https://www.gencodegenes.org/human/release_{}.html\n",
    "# v38 (Ensembl 104):   gencode.v38.annotation.gtf\n",
    "# v42 (Ensembl 108):   gencode.v42.basic.annotation.gtf"
   ]
  },
  {
   "cell_type": "code",
   "execution_count": 170,
   "id": "427a82e1",
   "metadata": {},
   "outputs": [
    {
     "data": {
      "text/html": [
       "<table class=\"dataframe\">\n",
       "<caption>A data.frame: 2 × 17</caption>\n",
       "<thead>\n",
       "\t<tr><th></th><th scope=col>seqname</th><th scope=col>source</th><th scope=col>feature</th><th scope=col>start</th><th scope=col>end</th><th scope=col>score</th><th scope=col>strand</th><th scope=col>frame</th><th scope=col>gene_id</th><th scope=col>gene_type</th><th scope=col>gene_name</th><th scope=col>level</th><th scope=col>tag</th><th scope=col>hgnc_id</th><th scope=col>havana_gene</th><th scope=col>artif_dupl</th><th scope=col>ensembl_gene_id</th></tr>\n",
       "\t<tr><th></th><th scope=col>&lt;chr&gt;</th><th scope=col>&lt;chr&gt;</th><th scope=col>&lt;chr&gt;</th><th scope=col>&lt;int&gt;</th><th scope=col>&lt;int&gt;</th><th scope=col>&lt;chr&gt;</th><th scope=col>&lt;chr&gt;</th><th scope=col>&lt;chr&gt;</th><th scope=col>&lt;chr&gt;</th><th scope=col>&lt;chr&gt;</th><th scope=col>&lt;chr&gt;</th><th scope=col>&lt;chr&gt;</th><th scope=col>&lt;chr&gt;</th><th scope=col>&lt;chr&gt;</th><th scope=col>&lt;chr&gt;</th><th scope=col>&lt;chr&gt;</th><th scope=col>&lt;chr&gt;</th></tr>\n",
       "</thead>\n",
       "<tbody>\n",
       "\t<tr><th scope=row>1</th><td>chr1</td><td>HAVANA</td><td>gene</td><td>11869</td><td>14409</td><td>.</td><td>+</td><td>.</td><td>ENSG00000290825.1</td><td>lncRNA                            </td><td>DDX11L2</td><td>2</td><td>overlaps_pseudogene</td><td>NA        </td><td>NA                  </td><td>NA</td><td>ENSG00000290825</td></tr>\n",
       "\t<tr><th scope=row>6</th><td>chr1</td><td>HAVANA</td><td>gene</td><td>12010</td><td>13670</td><td>.</td><td>+</td><td>.</td><td>ENSG00000223972.6</td><td>transcribed_unprocessed_pseudogene</td><td>DDX11L1</td><td>2</td><td>NA                 </td><td>HGNC:37102</td><td>OTTHUMG00000000961.2</td><td>NA</td><td>ENSG00000223972</td></tr>\n",
       "</tbody>\n",
       "</table>\n"
      ],
      "text/latex": [
       "A data.frame: 2 × 17\n",
       "\\begin{tabular}{r|lllllllllllllllll}\n",
       "  & seqname & source & feature & start & end & score & strand & frame & gene\\_id & gene\\_type & gene\\_name & level & tag & hgnc\\_id & havana\\_gene & artif\\_dupl & ensembl\\_gene\\_id\\\\\n",
       "  & <chr> & <chr> & <chr> & <int> & <int> & <chr> & <chr> & <chr> & <chr> & <chr> & <chr> & <chr> & <chr> & <chr> & <chr> & <chr> & <chr>\\\\\n",
       "\\hline\n",
       "\t1 & chr1 & HAVANA & gene & 11869 & 14409 & . & + & . & ENSG00000290825.1 & lncRNA                             & DDX11L2 & 2 & overlaps\\_pseudogene & NA         & NA                   & NA & ENSG00000290825\\\\\n",
       "\t6 & chr1 & HAVANA & gene & 12010 & 13670 & . & + & . & ENSG00000223972.6 & transcribed\\_unprocessed\\_pseudogene & DDX11L1 & 2 & NA                  & HGNC:37102 & OTTHUMG00000000961.2 & NA & ENSG00000223972\\\\\n",
       "\\end{tabular}\n"
      ],
      "text/markdown": [
       "\n",
       "A data.frame: 2 × 17\n",
       "\n",
       "| <!--/--> | seqname &lt;chr&gt; | source &lt;chr&gt; | feature &lt;chr&gt; | start &lt;int&gt; | end &lt;int&gt; | score &lt;chr&gt; | strand &lt;chr&gt; | frame &lt;chr&gt; | gene_id &lt;chr&gt; | gene_type &lt;chr&gt; | gene_name &lt;chr&gt; | level &lt;chr&gt; | tag &lt;chr&gt; | hgnc_id &lt;chr&gt; | havana_gene &lt;chr&gt; | artif_dupl &lt;chr&gt; | ensembl_gene_id &lt;chr&gt; |\n",
       "|---|---|---|---|---|---|---|---|---|---|---|---|---|---|---|---|---|---|\n",
       "| 1 | chr1 | HAVANA | gene | 11869 | 14409 | . | + | . | ENSG00000290825.1 | lncRNA                             | DDX11L2 | 2 | overlaps_pseudogene | NA         | NA                   | NA | ENSG00000290825 |\n",
       "| 6 | chr1 | HAVANA | gene | 12010 | 13670 | . | + | . | ENSG00000223972.6 | transcribed_unprocessed_pseudogene | DDX11L1 | 2 | NA                  | HGNC:37102 | OTTHUMG00000000961.2 | NA | ENSG00000223972 |\n",
       "\n"
      ],
      "text/plain": [
       "  seqname source feature start end   score strand frame gene_id          \n",
       "1 chr1    HAVANA gene    11869 14409 .     +      .     ENSG00000290825.1\n",
       "6 chr1    HAVANA gene    12010 13670 .     +      .     ENSG00000223972.6\n",
       "  gene_type                          gene_name level tag                \n",
       "1 lncRNA                             DDX11L2   2     overlaps_pseudogene\n",
       "6 transcribed_unprocessed_pseudogene DDX11L1   2     NA                 \n",
       "  hgnc_id    havana_gene          artif_dupl ensembl_gene_id\n",
       "1 NA         NA                   NA         ENSG00000290825\n",
       "6 HGNC:37102 OTTHUMG00000000961.2 NA         ENSG00000223972"
      ]
     },
     "metadata": {},
     "output_type": "display_data"
    }
   ],
   "source": [
    "df_42 = read.csv(\"/share/ScratchGeneral/anncuo/OneK1K/gene_ref/gencode.v42.basic.annotation.genesonly.csv\", row.names=1)\n",
    "head(df_42,2)"
   ]
  },
  {
   "cell_type": "code",
   "execution_count": 202,
   "id": "1a25f59a",
   "metadata": {},
   "outputs": [
    {
     "data": {
      "text/plain": [
       "\n",
       "artifactual_duplication        fragmented_locus              ncRNA_host \n",
       "                     17                       2                    2924 \n",
       "      overlapping_locus     overlaps_pseudogene                     PAR \n",
       "                   8347                     761                      32 \n",
       "         pseudo_consens        readthrough_gene  reference_genome_error \n",
       "                   8904                      38                      13 \n",
       "              retrogene          semi_processed \n",
       "                    332                       4 "
      ]
     },
     "metadata": {},
     "output_type": "display_data"
    }
   ],
   "source": [
    "table(df_42$tag)"
   ]
  },
  {
   "cell_type": "code",
   "execution_count": 203,
   "id": "1923e0f1",
   "metadata": {
    "scrolled": true
   },
   "outputs": [
    {
     "data": {
      "text/html": [
       "<table class=\"dataframe\">\n",
       "<caption>A data.frame: 38 × 17</caption>\n",
       "<thead>\n",
       "\t<tr><th></th><th scope=col>seqname</th><th scope=col>source</th><th scope=col>feature</th><th scope=col>start</th><th scope=col>end</th><th scope=col>score</th><th scope=col>strand</th><th scope=col>frame</th><th scope=col>gene_id</th><th scope=col>gene_type</th><th scope=col>gene_name</th><th scope=col>level</th><th scope=col>tag</th><th scope=col>hgnc_id</th><th scope=col>havana_gene</th><th scope=col>artif_dupl</th><th scope=col>ensembl_gene_id</th></tr>\n",
       "\t<tr><th></th><th scope=col>&lt;chr&gt;</th><th scope=col>&lt;chr&gt;</th><th scope=col>&lt;chr&gt;</th><th scope=col>&lt;int&gt;</th><th scope=col>&lt;int&gt;</th><th scope=col>&lt;chr&gt;</th><th scope=col>&lt;chr&gt;</th><th scope=col>&lt;chr&gt;</th><th scope=col>&lt;chr&gt;</th><th scope=col>&lt;chr&gt;</th><th scope=col>&lt;chr&gt;</th><th scope=col>&lt;chr&gt;</th><th scope=col>&lt;chr&gt;</th><th scope=col>&lt;chr&gt;</th><th scope=col>&lt;chr&gt;</th><th scope=col>&lt;chr&gt;</th><th scope=col>&lt;chr&gt;</th></tr>\n",
       "</thead>\n",
       "<tbody>\n",
       "\t<tr><th scope=row>31324</th><td>chr1 </td><td>HAVANA</td><td>gene</td><td> 25811470</td><td> 25823744</td><td>.</td><td>+</td><td>.</td><td>ENSG00000255054.3 </td><td>protein_coding</td><td>ENSG00000255054</td><td>2</td><td>readthrough_gene</td><td>NA        </td><td>OTTHUMG00000167136.2 </td><td>NA</td><td>ENSG00000255054</td></tr>\n",
       "\t<tr><th scope=row>62345</th><td>chr1 </td><td>HAVANA</td><td>gene</td><td> 52020153</td><td> 52033350</td><td>.</td><td>-</td><td>.</td><td>ENSG00000285839.1 </td><td>protein_coding</td><td>ENSG00000285839</td><td>2</td><td>readthrough_gene</td><td>NA        </td><td>OTTHUMG00000193360.1 </td><td>NA</td><td>ENSG00000285839</td></tr>\n",
       "\t<tr><th scope=row>64931</th><td>chr1 </td><td>HAVANA</td><td>gene</td><td> 54132686</td><td> 54200073</td><td>.</td><td>-</td><td>.</td><td>ENSG00000256407.2 </td><td>protein_coding</td><td>ENSG00000256407</td><td>2</td><td>readthrough_gene</td><td>NA        </td><td>OTTHUMG00000168203.2 </td><td>NA</td><td>ENSG00000256407</td></tr>\n",
       "\t<tr><th scope=row>75805</th><td>chr1 </td><td>HAVANA</td><td>gene</td><td> 74198235</td><td> 74544393</td><td>.</td><td>+</td><td>.</td><td>ENSG00000259030.8 </td><td>protein_coding</td><td>FPGT-TNNI3K    </td><td>1</td><td>readthrough_gene</td><td>HGNC:42952</td><td>OTTHUMG00000166281.7 </td><td>NA</td><td>ENSG00000259030</td></tr>\n",
       "\t<tr><th scope=row>299645</th><td>chr2 </td><td>HAVANA</td><td>gene</td><td>189661519</td><td>189667881</td><td>.</td><td>+</td><td>.</td><td>ENSG00000286165.1 </td><td>protein_coding</td><td>ENSG00000286165</td><td>2</td><td>readthrough_gene</td><td>NA        </td><td>OTTHUMG00000193523.1 </td><td>NA</td><td>ENSG00000286165</td></tr>\n",
       "\t<tr><th scope=row>321473</th><td>chr2 </td><td>HAVANA</td><td>gene</td><td>219209772</td><td>219222738</td><td>.</td><td>-</td><td>.</td><td>ENSG00000284820.1 </td><td>protein_coding</td><td>ENSG00000284820</td><td>2</td><td>readthrough_gene</td><td>NA        </td><td>OTTHUMG00000192415.1 </td><td>NA</td><td>ENSG00000284820</td></tr>\n",
       "\t<tr><th scope=row>322597</th><td>chr2 </td><td>HAVANA</td><td>gene</td><td>219491867</td><td>219498244</td><td>.</td><td>+</td><td>.</td><td>ENSG00000286143.1 </td><td>protein_coding</td><td>ENSG00000286143</td><td>2</td><td>readthrough_gene</td><td>NA        </td><td>OTTHUMG00000193741.1 </td><td>NA</td><td>ENSG00000286143</td></tr>\n",
       "\t<tr><th scope=row>370620</th><td>chr3 </td><td>HAVANA</td><td>gene</td><td> 42809446</td><td> 43055871</td><td>.</td><td>+</td><td>.</td><td>ENSG00000273291.5 </td><td>protein_coding</td><td>ENSG00000273291</td><td>2</td><td>readthrough_gene</td><td>NA        </td><td>OTTHUMG00000156448.10</td><td>NA</td><td>ENSG00000273291</td></tr>\n",
       "\t<tr><th scope=row>412628</th><td>chr3 </td><td>HAVANA</td><td>gene</td><td>119703076</td><td>119807570</td><td>.</td><td>+</td><td>.</td><td>ENSG00000285585.1 </td><td>protein_coding</td><td>ENSG00000285585</td><td>2</td><td>readthrough_gene</td><td>NA        </td><td>OTTHUMG00000159422.3 </td><td>NA</td><td>ENSG00000285585</td></tr>\n",
       "\t<tr><th scope=row>433049</th><td>chr3 </td><td>HAVANA</td><td>gene</td><td>141738474</td><td>141807919</td><td>.</td><td>+</td><td>.</td><td>ENSG00000285558.1 </td><td>protein_coding</td><td>ENSG00000285558</td><td>2</td><td>readthrough_gene</td><td>NA        </td><td>OTTHUMG00000159068.3 </td><td>NA</td><td>ENSG00000285558</td></tr>\n",
       "\t<tr><th scope=row>469146</th><td>chr4 </td><td>HAVANA</td><td>gene</td><td>  2078998</td><td>  2242276</td><td>.</td><td>-</td><td>.</td><td>ENSG00000290263.1 </td><td>protein_coding</td><td>ENSG00000290263</td><td>2</td><td>readthrough_gene</td><td>NA        </td><td>OTTHUMG00000159805.16</td><td>NA</td><td>ENSG00000290263</td></tr>\n",
       "\t<tr><th scope=row>490833</th><td>chr4 </td><td>HAVANA</td><td>gene</td><td> 55346228</td><td> 55388368</td><td>.</td><td>+</td><td>.</td><td>ENSG00000288695.1 </td><td>protein_coding</td><td>ENSG00000288695</td><td>2</td><td>readthrough_gene</td><td>NA        </td><td>NA                   </td><td>NA</td><td>ENSG00000288695</td></tr>\n",
       "\t<tr><th scope=row>628548</th><td>chr5 </td><td>HAVANA</td><td>gene</td><td>157341596</td><td>157460100</td><td>.</td><td>-</td><td>.</td><td>ENSG00000285868.1 </td><td>protein_coding</td><td>ENSG00000285868</td><td>2</td><td>readthrough_gene</td><td>NA        </td><td>OTTHUMG00000193404.1 </td><td>NA</td><td>ENSG00000285868</td></tr>\n",
       "\t<tr><th scope=row>755270</th><td>chr7 </td><td>HAVANA</td><td>gene</td><td> 29122340</td><td> 29514667</td><td>.</td><td>+</td><td>.</td><td>ENSG00000285162.1 </td><td>protein_coding</td><td>ENSG00000285162</td><td>2</td><td>readthrough_gene</td><td>NA        </td><td>OTTHUMG00000192441.1 </td><td>NA</td><td>ENSG00000285162</td></tr>\n",
       "\t<tr><th scope=row>756266</th><td>chr7 </td><td>HAVANA</td><td>gene</td><td> 30497077</td><td> 30550761</td><td>.</td><td>-</td><td>.</td><td>ENSG00000281039.1 </td><td>protein_coding</td><td>ENSG00000281039</td><td>2</td><td>readthrough_gene</td><td>NA        </td><td>OTTHUMG00000189706.1 </td><td>NA</td><td>ENSG00000281039</td></tr>\n",
       "\t<tr><th scope=row>792964</th><td>chr7 </td><td>HAVANA</td><td>gene</td><td> 99325879</td><td> 99394653</td><td>.</td><td>+</td><td>.</td><td>ENSG00000284292.1 </td><td>protein_coding</td><td>ENSG00000284292</td><td>2</td><td>readthrough_gene</td><td>NA        </td><td>OTTHUMG00000154553.3 </td><td>NA</td><td>ENSG00000284292</td></tr>\n",
       "\t<tr><th scope=row>793366</th><td>chr7 </td><td>HAVANA</td><td>gene</td><td> 99419749</td><td> 99466197</td><td>.</td><td>-</td><td>.</td><td>ENSG00000248919.7 </td><td>protein_coding</td><td>ATP5MF-PTCD1   </td><td>1</td><td>readthrough_gene</td><td>HGNC:38844</td><td>OTTHUMG00000160779.2 </td><td>NA</td><td>ENSG00000248919</td></tr>\n",
       "\t<tr><th scope=row>794042</th><td>chr7 </td><td>HAVANA</td><td>gene</td><td> 99684957</td><td> 99735102</td><td>.</td><td>-</td><td>.</td><td>ENSG00000282301.4 </td><td>protein_coding</td><td>CYP3A7-CYP3A51P</td><td>2</td><td>readthrough_gene</td><td>HGNC:51504</td><td>NA                   </td><td>NA</td><td>ENSG00000282301</td></tr>\n",
       "\t<tr><th scope=row>797532</th><td>chr7 </td><td>HAVANA</td><td>gene</td><td>100397577</td><td>100434107</td><td>.</td><td>+</td><td>.</td><td>ENSG00000289690.1 </td><td>protein_coding</td><td>ENSG00000289690</td><td>2</td><td>readthrough_gene</td><td>NA        </td><td>NA                   </td><td>NA</td><td>ENSG00000289690</td></tr>\n",
       "\t<tr><th scope=row>855514</th><td>chr8 </td><td>HAVANA</td><td>gene</td><td> 37934340</td><td> 37965953</td><td>.</td><td>-</td><td>.</td><td>ENSG00000285880.1 </td><td>protein_coding</td><td>ENSG00000285880</td><td>2</td><td>readthrough_gene</td><td>NA        </td><td>OTTHUMG00000193361.1 </td><td>NA</td><td>ENSG00000285880</td></tr>\n",
       "\t<tr><th scope=row>899869</th><td>chr8 </td><td>HAVANA</td><td>gene</td><td>142764334</td><td>142778224</td><td>.</td><td>-</td><td>.</td><td>ENSG00000284505.1 </td><td>protein_coding</td><td>LYNX1-SLURP2   </td><td>2</td><td>readthrough_gene</td><td>HGNC:52291</td><td>OTTHUMG00000191911.1 </td><td>NA</td><td>ENSG00000284505</td></tr>\n",
       "\t<tr><th scope=row>978848</th><td>chr9 </td><td>HAVANA</td><td>gene</td><td>136361904</td><td>136373644</td><td>.</td><td>-</td><td>.</td><td>ENSG00000289701.1 </td><td>protein_coding</td><td>ENSG00000289701</td><td>2</td><td>readthrough_gene</td><td>NA        </td><td>NA                   </td><td>NA</td><td>ENSG00000289701</td></tr>\n",
       "\t<tr><th scope=row>981374</th><td>chr9 </td><td>HAVANA</td><td>gene</td><td>137031241</td><td>137040436</td><td>.</td><td>-</td><td>.</td><td>ENSG00000279073.3 </td><td>protein_coding</td><td>ENSG00000279073</td><td>2</td><td>readthrough_gene</td><td>NA        </td><td>OTTHUMG00000189401.1 </td><td>NA</td><td>ENSG00000279073</td></tr>\n",
       "\t<tr><th scope=row>1072831</th><td>chr11</td><td>HAVANA</td><td>gene</td><td>  1734821</td><td>  1763954</td><td>.</td><td>-</td><td>.</td><td>ENSG00000250644.3 </td><td>protein_coding</td><td>ENSG00000250644</td><td>1</td><td>readthrough_gene</td><td>NA        </td><td>OTTHUMG00000161994.5 </td><td>NA</td><td>ENSG00000250644</td></tr>\n",
       "\t<tr><th scope=row>1127072</th><td>chr11</td><td>HAVANA</td><td>gene</td><td> 65261928</td><td> 65326543</td><td>.</td><td>+</td><td>.</td><td>ENSG00000285816.1 </td><td>protein_coding</td><td>ENSG00000285816</td><td>2</td><td>readthrough_gene</td><td>NA        </td><td>OTTHUMG00000165951.6 </td><td>NA</td><td>ENSG00000285816</td></tr>\n",
       "\t<tr><th scope=row>1232060</th><td>chr12</td><td>HAVANA</td><td>gene</td><td> 53506691</td><td> 53625979</td><td>.</td><td>-</td><td>.</td><td>ENSG00000267281.3 </td><td>protein_coding</td><td>ATF7-NPFF      </td><td>2</td><td>readthrough_gene</td><td>HGNC:55073</td><td>OTTHUMG00000182349.1 </td><td>NA</td><td>ENSG00000267281</td></tr>\n",
       "\t<tr><th scope=row>1238736</th><td>chr12</td><td>HAVANA</td><td>gene</td><td> 56449700</td><td> 56488170</td><td>.</td><td>-</td><td>.</td><td>ENSG00000285528.1 </td><td>protein_coding</td><td>ENSG00000285528</td><td>2</td><td>readthrough_gene</td><td>NA        </td><td>OTTHUMG00000193403.1 </td><td>NA</td><td>ENSG00000285528</td></tr>\n",
       "\t<tr><th scope=row>1425571</th><td>chr15</td><td>HAVANA</td><td>gene</td><td> 57591908</td><td> 57714745</td><td>.</td><td>+</td><td>.</td><td>ENSG00000137878.17</td><td>protein_coding</td><td>GCOM1          </td><td>2</td><td>readthrough_gene</td><td>HGNC:26424</td><td>OTTHUMG00000176411.5 </td><td>NA</td><td>ENSG00000137878</td></tr>\n",
       "\t<tr><th scope=row>1430937</th><td>chr15</td><td>HAVANA</td><td>gene</td><td> 64841883</td><td> 64930920</td><td>.</td><td>+</td><td>.</td><td>ENSG00000249240.2 </td><td>protein_coding</td><td>ENSG00000249240</td><td>2</td><td>readthrough_gene</td><td>NA        </td><td>OTTHUMG00000161678.2 </td><td>NA</td><td>ENSG00000249240</td></tr>\n",
       "\t<tr><th scope=row>1519482</th><td>chr16</td><td>HAVANA</td><td>gene</td><td> 67644988</td><td> 67657569</td><td>.</td><td>+</td><td>.</td><td>ENSG00000159753.15</td><td>protein_coding</td><td>CARMIL2        </td><td>2</td><td>readthrough_gene</td><td>HGNC:27089</td><td>OTTHUMG00000184043.3 </td><td>NA</td><td>ENSG00000159753</td></tr>\n",
       "\t<tr><th scope=row>1555812</th><td>chr17</td><td>HAVANA</td><td>gene</td><td>  7549099</td><td>  7561601</td><td>.</td><td>+</td><td>.</td><td>ENSG00000248871.1 </td><td>protein_coding</td><td>TNFSF12-TNFSF13</td><td>2</td><td>readthrough_gene</td><td>HGNC:33537</td><td>OTTHUMG00000161573.1 </td><td>NA</td><td>ENSG00000248871</td></tr>\n",
       "\t<tr><th scope=row>1583999</th><td>chr17</td><td>HAVANA</td><td>gene</td><td> 35983656</td><td> 36001621</td><td>.</td><td>-</td><td>.</td><td>ENSG00000275688.4 </td><td>protein_coding</td><td>CCL15-CCL14    </td><td>2</td><td>readthrough_gene</td><td>HGNC:44436</td><td>OTTHUMG00000188405.1 </td><td>NA</td><td>ENSG00000275688</td></tr>\n",
       "\t<tr><th scope=row>1619113</th><td>chr17</td><td>HAVANA</td><td>gene</td><td> 58345206</td><td> 58417595</td><td>.</td><td>-</td><td>.</td><td>ENSG00000285897.1 </td><td>protein_coding</td><td>ENSG00000285897</td><td>2</td><td>readthrough_gene</td><td>NA        </td><td>OTTHUMG00000179077.3 </td><td>NA</td><td>ENSG00000285897</td></tr>\n",
       "\t<tr><th scope=row>1625820</th><td>chr17</td><td>HAVANA</td><td>gene</td><td> 63550603</td><td> 63608347</td><td>.</td><td>+</td><td>.</td><td>ENSG00000288894.1 </td><td>protein_coding</td><td>ENSG00000288894</td><td>2</td><td>readthrough_gene</td><td>NA        </td><td>NA                   </td><td>NA</td><td>ENSG00000288894</td></tr>\n",
       "\t<tr><th scope=row>1715058</th><td>chr19</td><td>HAVANA</td><td>gene</td><td> 12132117</td><td> 12156731</td><td>.</td><td>-</td><td>.</td><td>ENSG00000213297.8 </td><td>protein_coding</td><td>ZNF625-ZNF20   </td><td>2</td><td>readthrough_gene</td><td>HGNC:48368</td><td>OTTHUMG00000170135.1 </td><td>NA</td><td>ENSG00000213297</td></tr>\n",
       "\t<tr><th scope=row>1746677</th><td>chr19</td><td>HAVANA</td><td>gene</td><td> 36850858</td><td> 36998682</td><td>.</td><td>+</td><td>.</td><td>ENSG00000291239.1 </td><td>protein_coding</td><td>ENSG00000291239</td><td>2</td><td>readthrough_gene</td><td>NA        </td><td>NA                   </td><td>NA</td><td>ENSG00000291239</td></tr>\n",
       "\t<tr><th scope=row>1853613</th><td>chr21</td><td>HAVANA</td><td>gene</td><td> 34511122</td><td> 34614913</td><td>.</td><td>-</td><td>.</td><td>ENSG00000288711.1 </td><td>protein_coding</td><td>ENSG00000288711</td><td>2</td><td>readthrough_gene</td><td>NA        </td><td>NA                   </td><td>NA</td><td>ENSG00000288711</td></tr>\n",
       "\t<tr><th scope=row>1895841</th><td>chr22</td><td>HAVANA</td><td>gene</td><td> 38291918</td><td> 38398522</td><td>.</td><td>-</td><td>.</td><td>ENSG00000283900.1 </td><td>protein_coding</td><td>TPTEP2-CSNK1E  </td><td>2</td><td>readthrough_gene</td><td>HGNC:53829</td><td>OTTHUMG00000192148.1 </td><td>NA</td><td>ENSG00000283900</td></tr>\n",
       "</tbody>\n",
       "</table>\n"
      ],
      "text/latex": [
       "A data.frame: 38 × 17\n",
       "\\begin{tabular}{r|lllllllllllllllll}\n",
       "  & seqname & source & feature & start & end & score & strand & frame & gene\\_id & gene\\_type & gene\\_name & level & tag & hgnc\\_id & havana\\_gene & artif\\_dupl & ensembl\\_gene\\_id\\\\\n",
       "  & <chr> & <chr> & <chr> & <int> & <int> & <chr> & <chr> & <chr> & <chr> & <chr> & <chr> & <chr> & <chr> & <chr> & <chr> & <chr> & <chr>\\\\\n",
       "\\hline\n",
       "\t31324 & chr1  & HAVANA & gene &  25811470 &  25823744 & . & + & . & ENSG00000255054.3  & protein\\_coding & ENSG00000255054 & 2 & readthrough\\_gene & NA         & OTTHUMG00000167136.2  & NA & ENSG00000255054\\\\\n",
       "\t62345 & chr1  & HAVANA & gene &  52020153 &  52033350 & . & - & . & ENSG00000285839.1  & protein\\_coding & ENSG00000285839 & 2 & readthrough\\_gene & NA         & OTTHUMG00000193360.1  & NA & ENSG00000285839\\\\\n",
       "\t64931 & chr1  & HAVANA & gene &  54132686 &  54200073 & . & - & . & ENSG00000256407.2  & protein\\_coding & ENSG00000256407 & 2 & readthrough\\_gene & NA         & OTTHUMG00000168203.2  & NA & ENSG00000256407\\\\\n",
       "\t75805 & chr1  & HAVANA & gene &  74198235 &  74544393 & . & + & . & ENSG00000259030.8  & protein\\_coding & FPGT-TNNI3K     & 1 & readthrough\\_gene & HGNC:42952 & OTTHUMG00000166281.7  & NA & ENSG00000259030\\\\\n",
       "\t299645 & chr2  & HAVANA & gene & 189661519 & 189667881 & . & + & . & ENSG00000286165.1  & protein\\_coding & ENSG00000286165 & 2 & readthrough\\_gene & NA         & OTTHUMG00000193523.1  & NA & ENSG00000286165\\\\\n",
       "\t321473 & chr2  & HAVANA & gene & 219209772 & 219222738 & . & - & . & ENSG00000284820.1  & protein\\_coding & ENSG00000284820 & 2 & readthrough\\_gene & NA         & OTTHUMG00000192415.1  & NA & ENSG00000284820\\\\\n",
       "\t322597 & chr2  & HAVANA & gene & 219491867 & 219498244 & . & + & . & ENSG00000286143.1  & protein\\_coding & ENSG00000286143 & 2 & readthrough\\_gene & NA         & OTTHUMG00000193741.1  & NA & ENSG00000286143\\\\\n",
       "\t370620 & chr3  & HAVANA & gene &  42809446 &  43055871 & . & + & . & ENSG00000273291.5  & protein\\_coding & ENSG00000273291 & 2 & readthrough\\_gene & NA         & OTTHUMG00000156448.10 & NA & ENSG00000273291\\\\\n",
       "\t412628 & chr3  & HAVANA & gene & 119703076 & 119807570 & . & + & . & ENSG00000285585.1  & protein\\_coding & ENSG00000285585 & 2 & readthrough\\_gene & NA         & OTTHUMG00000159422.3  & NA & ENSG00000285585\\\\\n",
       "\t433049 & chr3  & HAVANA & gene & 141738474 & 141807919 & . & + & . & ENSG00000285558.1  & protein\\_coding & ENSG00000285558 & 2 & readthrough\\_gene & NA         & OTTHUMG00000159068.3  & NA & ENSG00000285558\\\\\n",
       "\t469146 & chr4  & HAVANA & gene &   2078998 &   2242276 & . & - & . & ENSG00000290263.1  & protein\\_coding & ENSG00000290263 & 2 & readthrough\\_gene & NA         & OTTHUMG00000159805.16 & NA & ENSG00000290263\\\\\n",
       "\t490833 & chr4  & HAVANA & gene &  55346228 &  55388368 & . & + & . & ENSG00000288695.1  & protein\\_coding & ENSG00000288695 & 2 & readthrough\\_gene & NA         & NA                    & NA & ENSG00000288695\\\\\n",
       "\t628548 & chr5  & HAVANA & gene & 157341596 & 157460100 & . & - & . & ENSG00000285868.1  & protein\\_coding & ENSG00000285868 & 2 & readthrough\\_gene & NA         & OTTHUMG00000193404.1  & NA & ENSG00000285868\\\\\n",
       "\t755270 & chr7  & HAVANA & gene &  29122340 &  29514667 & . & + & . & ENSG00000285162.1  & protein\\_coding & ENSG00000285162 & 2 & readthrough\\_gene & NA         & OTTHUMG00000192441.1  & NA & ENSG00000285162\\\\\n",
       "\t756266 & chr7  & HAVANA & gene &  30497077 &  30550761 & . & - & . & ENSG00000281039.1  & protein\\_coding & ENSG00000281039 & 2 & readthrough\\_gene & NA         & OTTHUMG00000189706.1  & NA & ENSG00000281039\\\\\n",
       "\t792964 & chr7  & HAVANA & gene &  99325879 &  99394653 & . & + & . & ENSG00000284292.1  & protein\\_coding & ENSG00000284292 & 2 & readthrough\\_gene & NA         & OTTHUMG00000154553.3  & NA & ENSG00000284292\\\\\n",
       "\t793366 & chr7  & HAVANA & gene &  99419749 &  99466197 & . & - & . & ENSG00000248919.7  & protein\\_coding & ATP5MF-PTCD1    & 1 & readthrough\\_gene & HGNC:38844 & OTTHUMG00000160779.2  & NA & ENSG00000248919\\\\\n",
       "\t794042 & chr7  & HAVANA & gene &  99684957 &  99735102 & . & - & . & ENSG00000282301.4  & protein\\_coding & CYP3A7-CYP3A51P & 2 & readthrough\\_gene & HGNC:51504 & NA                    & NA & ENSG00000282301\\\\\n",
       "\t797532 & chr7  & HAVANA & gene & 100397577 & 100434107 & . & + & . & ENSG00000289690.1  & protein\\_coding & ENSG00000289690 & 2 & readthrough\\_gene & NA         & NA                    & NA & ENSG00000289690\\\\\n",
       "\t855514 & chr8  & HAVANA & gene &  37934340 &  37965953 & . & - & . & ENSG00000285880.1  & protein\\_coding & ENSG00000285880 & 2 & readthrough\\_gene & NA         & OTTHUMG00000193361.1  & NA & ENSG00000285880\\\\\n",
       "\t899869 & chr8  & HAVANA & gene & 142764334 & 142778224 & . & - & . & ENSG00000284505.1  & protein\\_coding & LYNX1-SLURP2    & 2 & readthrough\\_gene & HGNC:52291 & OTTHUMG00000191911.1  & NA & ENSG00000284505\\\\\n",
       "\t978848 & chr9  & HAVANA & gene & 136361904 & 136373644 & . & - & . & ENSG00000289701.1  & protein\\_coding & ENSG00000289701 & 2 & readthrough\\_gene & NA         & NA                    & NA & ENSG00000289701\\\\\n",
       "\t981374 & chr9  & HAVANA & gene & 137031241 & 137040436 & . & - & . & ENSG00000279073.3  & protein\\_coding & ENSG00000279073 & 2 & readthrough\\_gene & NA         & OTTHUMG00000189401.1  & NA & ENSG00000279073\\\\\n",
       "\t1072831 & chr11 & HAVANA & gene &   1734821 &   1763954 & . & - & . & ENSG00000250644.3  & protein\\_coding & ENSG00000250644 & 1 & readthrough\\_gene & NA         & OTTHUMG00000161994.5  & NA & ENSG00000250644\\\\\n",
       "\t1127072 & chr11 & HAVANA & gene &  65261928 &  65326543 & . & + & . & ENSG00000285816.1  & protein\\_coding & ENSG00000285816 & 2 & readthrough\\_gene & NA         & OTTHUMG00000165951.6  & NA & ENSG00000285816\\\\\n",
       "\t1232060 & chr12 & HAVANA & gene &  53506691 &  53625979 & . & - & . & ENSG00000267281.3  & protein\\_coding & ATF7-NPFF       & 2 & readthrough\\_gene & HGNC:55073 & OTTHUMG00000182349.1  & NA & ENSG00000267281\\\\\n",
       "\t1238736 & chr12 & HAVANA & gene &  56449700 &  56488170 & . & - & . & ENSG00000285528.1  & protein\\_coding & ENSG00000285528 & 2 & readthrough\\_gene & NA         & OTTHUMG00000193403.1  & NA & ENSG00000285528\\\\\n",
       "\t1425571 & chr15 & HAVANA & gene &  57591908 &  57714745 & . & + & . & ENSG00000137878.17 & protein\\_coding & GCOM1           & 2 & readthrough\\_gene & HGNC:26424 & OTTHUMG00000176411.5  & NA & ENSG00000137878\\\\\n",
       "\t1430937 & chr15 & HAVANA & gene &  64841883 &  64930920 & . & + & . & ENSG00000249240.2  & protein\\_coding & ENSG00000249240 & 2 & readthrough\\_gene & NA         & OTTHUMG00000161678.2  & NA & ENSG00000249240\\\\\n",
       "\t1519482 & chr16 & HAVANA & gene &  67644988 &  67657569 & . & + & . & ENSG00000159753.15 & protein\\_coding & CARMIL2         & 2 & readthrough\\_gene & HGNC:27089 & OTTHUMG00000184043.3  & NA & ENSG00000159753\\\\\n",
       "\t1555812 & chr17 & HAVANA & gene &   7549099 &   7561601 & . & + & . & ENSG00000248871.1  & protein\\_coding & TNFSF12-TNFSF13 & 2 & readthrough\\_gene & HGNC:33537 & OTTHUMG00000161573.1  & NA & ENSG00000248871\\\\\n",
       "\t1583999 & chr17 & HAVANA & gene &  35983656 &  36001621 & . & - & . & ENSG00000275688.4  & protein\\_coding & CCL15-CCL14     & 2 & readthrough\\_gene & HGNC:44436 & OTTHUMG00000188405.1  & NA & ENSG00000275688\\\\\n",
       "\t1619113 & chr17 & HAVANA & gene &  58345206 &  58417595 & . & - & . & ENSG00000285897.1  & protein\\_coding & ENSG00000285897 & 2 & readthrough\\_gene & NA         & OTTHUMG00000179077.3  & NA & ENSG00000285897\\\\\n",
       "\t1625820 & chr17 & HAVANA & gene &  63550603 &  63608347 & . & + & . & ENSG00000288894.1  & protein\\_coding & ENSG00000288894 & 2 & readthrough\\_gene & NA         & NA                    & NA & ENSG00000288894\\\\\n",
       "\t1715058 & chr19 & HAVANA & gene &  12132117 &  12156731 & . & - & . & ENSG00000213297.8  & protein\\_coding & ZNF625-ZNF20    & 2 & readthrough\\_gene & HGNC:48368 & OTTHUMG00000170135.1  & NA & ENSG00000213297\\\\\n",
       "\t1746677 & chr19 & HAVANA & gene &  36850858 &  36998682 & . & + & . & ENSG00000291239.1  & protein\\_coding & ENSG00000291239 & 2 & readthrough\\_gene & NA         & NA                    & NA & ENSG00000291239\\\\\n",
       "\t1853613 & chr21 & HAVANA & gene &  34511122 &  34614913 & . & - & . & ENSG00000288711.1  & protein\\_coding & ENSG00000288711 & 2 & readthrough\\_gene & NA         & NA                    & NA & ENSG00000288711\\\\\n",
       "\t1895841 & chr22 & HAVANA & gene &  38291918 &  38398522 & . & - & . & ENSG00000283900.1  & protein\\_coding & TPTEP2-CSNK1E   & 2 & readthrough\\_gene & HGNC:53829 & OTTHUMG00000192148.1  & NA & ENSG00000283900\\\\\n",
       "\\end{tabular}\n"
      ],
      "text/markdown": [
       "\n",
       "A data.frame: 38 × 17\n",
       "\n",
       "| <!--/--> | seqname &lt;chr&gt; | source &lt;chr&gt; | feature &lt;chr&gt; | start &lt;int&gt; | end &lt;int&gt; | score &lt;chr&gt; | strand &lt;chr&gt; | frame &lt;chr&gt; | gene_id &lt;chr&gt; | gene_type &lt;chr&gt; | gene_name &lt;chr&gt; | level &lt;chr&gt; | tag &lt;chr&gt; | hgnc_id &lt;chr&gt; | havana_gene &lt;chr&gt; | artif_dupl &lt;chr&gt; | ensembl_gene_id &lt;chr&gt; |\n",
       "|---|---|---|---|---|---|---|---|---|---|---|---|---|---|---|---|---|---|\n",
       "| 31324 | chr1  | HAVANA | gene |  25811470 |  25823744 | . | + | . | ENSG00000255054.3  | protein_coding | ENSG00000255054 | 2 | readthrough_gene | NA         | OTTHUMG00000167136.2  | NA | ENSG00000255054 |\n",
       "| 62345 | chr1  | HAVANA | gene |  52020153 |  52033350 | . | - | . | ENSG00000285839.1  | protein_coding | ENSG00000285839 | 2 | readthrough_gene | NA         | OTTHUMG00000193360.1  | NA | ENSG00000285839 |\n",
       "| 64931 | chr1  | HAVANA | gene |  54132686 |  54200073 | . | - | . | ENSG00000256407.2  | protein_coding | ENSG00000256407 | 2 | readthrough_gene | NA         | OTTHUMG00000168203.2  | NA | ENSG00000256407 |\n",
       "| 75805 | chr1  | HAVANA | gene |  74198235 |  74544393 | . | + | . | ENSG00000259030.8  | protein_coding | FPGT-TNNI3K     | 1 | readthrough_gene | HGNC:42952 | OTTHUMG00000166281.7  | NA | ENSG00000259030 |\n",
       "| 299645 | chr2  | HAVANA | gene | 189661519 | 189667881 | . | + | . | ENSG00000286165.1  | protein_coding | ENSG00000286165 | 2 | readthrough_gene | NA         | OTTHUMG00000193523.1  | NA | ENSG00000286165 |\n",
       "| 321473 | chr2  | HAVANA | gene | 219209772 | 219222738 | . | - | . | ENSG00000284820.1  | protein_coding | ENSG00000284820 | 2 | readthrough_gene | NA         | OTTHUMG00000192415.1  | NA | ENSG00000284820 |\n",
       "| 322597 | chr2  | HAVANA | gene | 219491867 | 219498244 | . | + | . | ENSG00000286143.1  | protein_coding | ENSG00000286143 | 2 | readthrough_gene | NA         | OTTHUMG00000193741.1  | NA | ENSG00000286143 |\n",
       "| 370620 | chr3  | HAVANA | gene |  42809446 |  43055871 | . | + | . | ENSG00000273291.5  | protein_coding | ENSG00000273291 | 2 | readthrough_gene | NA         | OTTHUMG00000156448.10 | NA | ENSG00000273291 |\n",
       "| 412628 | chr3  | HAVANA | gene | 119703076 | 119807570 | . | + | . | ENSG00000285585.1  | protein_coding | ENSG00000285585 | 2 | readthrough_gene | NA         | OTTHUMG00000159422.3  | NA | ENSG00000285585 |\n",
       "| 433049 | chr3  | HAVANA | gene | 141738474 | 141807919 | . | + | . | ENSG00000285558.1  | protein_coding | ENSG00000285558 | 2 | readthrough_gene | NA         | OTTHUMG00000159068.3  | NA | ENSG00000285558 |\n",
       "| 469146 | chr4  | HAVANA | gene |   2078998 |   2242276 | . | - | . | ENSG00000290263.1  | protein_coding | ENSG00000290263 | 2 | readthrough_gene | NA         | OTTHUMG00000159805.16 | NA | ENSG00000290263 |\n",
       "| 490833 | chr4  | HAVANA | gene |  55346228 |  55388368 | . | + | . | ENSG00000288695.1  | protein_coding | ENSG00000288695 | 2 | readthrough_gene | NA         | NA                    | NA | ENSG00000288695 |\n",
       "| 628548 | chr5  | HAVANA | gene | 157341596 | 157460100 | . | - | . | ENSG00000285868.1  | protein_coding | ENSG00000285868 | 2 | readthrough_gene | NA         | OTTHUMG00000193404.1  | NA | ENSG00000285868 |\n",
       "| 755270 | chr7  | HAVANA | gene |  29122340 |  29514667 | . | + | . | ENSG00000285162.1  | protein_coding | ENSG00000285162 | 2 | readthrough_gene | NA         | OTTHUMG00000192441.1  | NA | ENSG00000285162 |\n",
       "| 756266 | chr7  | HAVANA | gene |  30497077 |  30550761 | . | - | . | ENSG00000281039.1  | protein_coding | ENSG00000281039 | 2 | readthrough_gene | NA         | OTTHUMG00000189706.1  | NA | ENSG00000281039 |\n",
       "| 792964 | chr7  | HAVANA | gene |  99325879 |  99394653 | . | + | . | ENSG00000284292.1  | protein_coding | ENSG00000284292 | 2 | readthrough_gene | NA         | OTTHUMG00000154553.3  | NA | ENSG00000284292 |\n",
       "| 793366 | chr7  | HAVANA | gene |  99419749 |  99466197 | . | - | . | ENSG00000248919.7  | protein_coding | ATP5MF-PTCD1    | 1 | readthrough_gene | HGNC:38844 | OTTHUMG00000160779.2  | NA | ENSG00000248919 |\n",
       "| 794042 | chr7  | HAVANA | gene |  99684957 |  99735102 | . | - | . | ENSG00000282301.4  | protein_coding | CYP3A7-CYP3A51P | 2 | readthrough_gene | HGNC:51504 | NA                    | NA | ENSG00000282301 |\n",
       "| 797532 | chr7  | HAVANA | gene | 100397577 | 100434107 | . | + | . | ENSG00000289690.1  | protein_coding | ENSG00000289690 | 2 | readthrough_gene | NA         | NA                    | NA | ENSG00000289690 |\n",
       "| 855514 | chr8  | HAVANA | gene |  37934340 |  37965953 | . | - | . | ENSG00000285880.1  | protein_coding | ENSG00000285880 | 2 | readthrough_gene | NA         | OTTHUMG00000193361.1  | NA | ENSG00000285880 |\n",
       "| 899869 | chr8  | HAVANA | gene | 142764334 | 142778224 | . | - | . | ENSG00000284505.1  | protein_coding | LYNX1-SLURP2    | 2 | readthrough_gene | HGNC:52291 | OTTHUMG00000191911.1  | NA | ENSG00000284505 |\n",
       "| 978848 | chr9  | HAVANA | gene | 136361904 | 136373644 | . | - | . | ENSG00000289701.1  | protein_coding | ENSG00000289701 | 2 | readthrough_gene | NA         | NA                    | NA | ENSG00000289701 |\n",
       "| 981374 | chr9  | HAVANA | gene | 137031241 | 137040436 | . | - | . | ENSG00000279073.3  | protein_coding | ENSG00000279073 | 2 | readthrough_gene | NA         | OTTHUMG00000189401.1  | NA | ENSG00000279073 |\n",
       "| 1072831 | chr11 | HAVANA | gene |   1734821 |   1763954 | . | - | . | ENSG00000250644.3  | protein_coding | ENSG00000250644 | 1 | readthrough_gene | NA         | OTTHUMG00000161994.5  | NA | ENSG00000250644 |\n",
       "| 1127072 | chr11 | HAVANA | gene |  65261928 |  65326543 | . | + | . | ENSG00000285816.1  | protein_coding | ENSG00000285816 | 2 | readthrough_gene | NA         | OTTHUMG00000165951.6  | NA | ENSG00000285816 |\n",
       "| 1232060 | chr12 | HAVANA | gene |  53506691 |  53625979 | . | - | . | ENSG00000267281.3  | protein_coding | ATF7-NPFF       | 2 | readthrough_gene | HGNC:55073 | OTTHUMG00000182349.1  | NA | ENSG00000267281 |\n",
       "| 1238736 | chr12 | HAVANA | gene |  56449700 |  56488170 | . | - | . | ENSG00000285528.1  | protein_coding | ENSG00000285528 | 2 | readthrough_gene | NA         | OTTHUMG00000193403.1  | NA | ENSG00000285528 |\n",
       "| 1425571 | chr15 | HAVANA | gene |  57591908 |  57714745 | . | + | . | ENSG00000137878.17 | protein_coding | GCOM1           | 2 | readthrough_gene | HGNC:26424 | OTTHUMG00000176411.5  | NA | ENSG00000137878 |\n",
       "| 1430937 | chr15 | HAVANA | gene |  64841883 |  64930920 | . | + | . | ENSG00000249240.2  | protein_coding | ENSG00000249240 | 2 | readthrough_gene | NA         | OTTHUMG00000161678.2  | NA | ENSG00000249240 |\n",
       "| 1519482 | chr16 | HAVANA | gene |  67644988 |  67657569 | . | + | . | ENSG00000159753.15 | protein_coding | CARMIL2         | 2 | readthrough_gene | HGNC:27089 | OTTHUMG00000184043.3  | NA | ENSG00000159753 |\n",
       "| 1555812 | chr17 | HAVANA | gene |   7549099 |   7561601 | . | + | . | ENSG00000248871.1  | protein_coding | TNFSF12-TNFSF13 | 2 | readthrough_gene | HGNC:33537 | OTTHUMG00000161573.1  | NA | ENSG00000248871 |\n",
       "| 1583999 | chr17 | HAVANA | gene |  35983656 |  36001621 | . | - | . | ENSG00000275688.4  | protein_coding | CCL15-CCL14     | 2 | readthrough_gene | HGNC:44436 | OTTHUMG00000188405.1  | NA | ENSG00000275688 |\n",
       "| 1619113 | chr17 | HAVANA | gene |  58345206 |  58417595 | . | - | . | ENSG00000285897.1  | protein_coding | ENSG00000285897 | 2 | readthrough_gene | NA         | OTTHUMG00000179077.3  | NA | ENSG00000285897 |\n",
       "| 1625820 | chr17 | HAVANA | gene |  63550603 |  63608347 | . | + | . | ENSG00000288894.1  | protein_coding | ENSG00000288894 | 2 | readthrough_gene | NA         | NA                    | NA | ENSG00000288894 |\n",
       "| 1715058 | chr19 | HAVANA | gene |  12132117 |  12156731 | . | - | . | ENSG00000213297.8  | protein_coding | ZNF625-ZNF20    | 2 | readthrough_gene | HGNC:48368 | OTTHUMG00000170135.1  | NA | ENSG00000213297 |\n",
       "| 1746677 | chr19 | HAVANA | gene |  36850858 |  36998682 | . | + | . | ENSG00000291239.1  | protein_coding | ENSG00000291239 | 2 | readthrough_gene | NA         | NA                    | NA | ENSG00000291239 |\n",
       "| 1853613 | chr21 | HAVANA | gene |  34511122 |  34614913 | . | - | . | ENSG00000288711.1  | protein_coding | ENSG00000288711 | 2 | readthrough_gene | NA         | NA                    | NA | ENSG00000288711 |\n",
       "| 1895841 | chr22 | HAVANA | gene |  38291918 |  38398522 | . | - | . | ENSG00000283900.1  | protein_coding | TPTEP2-CSNK1E   | 2 | readthrough_gene | HGNC:53829 | OTTHUMG00000192148.1  | NA | ENSG00000283900 |\n",
       "\n"
      ],
      "text/plain": [
       "        seqname source feature start     end       score strand frame\n",
       "31324   chr1    HAVANA gene     25811470  25823744 .     +      .    \n",
       "62345   chr1    HAVANA gene     52020153  52033350 .     -      .    \n",
       "64931   chr1    HAVANA gene     54132686  54200073 .     -      .    \n",
       "75805   chr1    HAVANA gene     74198235  74544393 .     +      .    \n",
       "299645  chr2    HAVANA gene    189661519 189667881 .     +      .    \n",
       "321473  chr2    HAVANA gene    219209772 219222738 .     -      .    \n",
       "322597  chr2    HAVANA gene    219491867 219498244 .     +      .    \n",
       "370620  chr3    HAVANA gene     42809446  43055871 .     +      .    \n",
       "412628  chr3    HAVANA gene    119703076 119807570 .     +      .    \n",
       "433049  chr3    HAVANA gene    141738474 141807919 .     +      .    \n",
       "469146  chr4    HAVANA gene      2078998   2242276 .     -      .    \n",
       "490833  chr4    HAVANA gene     55346228  55388368 .     +      .    \n",
       "628548  chr5    HAVANA gene    157341596 157460100 .     -      .    \n",
       "755270  chr7    HAVANA gene     29122340  29514667 .     +      .    \n",
       "756266  chr7    HAVANA gene     30497077  30550761 .     -      .    \n",
       "792964  chr7    HAVANA gene     99325879  99394653 .     +      .    \n",
       "793366  chr7    HAVANA gene     99419749  99466197 .     -      .    \n",
       "794042  chr7    HAVANA gene     99684957  99735102 .     -      .    \n",
       "797532  chr7    HAVANA gene    100397577 100434107 .     +      .    \n",
       "855514  chr8    HAVANA gene     37934340  37965953 .     -      .    \n",
       "899869  chr8    HAVANA gene    142764334 142778224 .     -      .    \n",
       "978848  chr9    HAVANA gene    136361904 136373644 .     -      .    \n",
       "981374  chr9    HAVANA gene    137031241 137040436 .     -      .    \n",
       "1072831 chr11   HAVANA gene      1734821   1763954 .     -      .    \n",
       "1127072 chr11   HAVANA gene     65261928  65326543 .     +      .    \n",
       "1232060 chr12   HAVANA gene     53506691  53625979 .     -      .    \n",
       "1238736 chr12   HAVANA gene     56449700  56488170 .     -      .    \n",
       "1425571 chr15   HAVANA gene     57591908  57714745 .     +      .    \n",
       "1430937 chr15   HAVANA gene     64841883  64930920 .     +      .    \n",
       "1519482 chr16   HAVANA gene     67644988  67657569 .     +      .    \n",
       "1555812 chr17   HAVANA gene      7549099   7561601 .     +      .    \n",
       "1583999 chr17   HAVANA gene     35983656  36001621 .     -      .    \n",
       "1619113 chr17   HAVANA gene     58345206  58417595 .     -      .    \n",
       "1625820 chr17   HAVANA gene     63550603  63608347 .     +      .    \n",
       "1715058 chr19   HAVANA gene     12132117  12156731 .     -      .    \n",
       "1746677 chr19   HAVANA gene     36850858  36998682 .     +      .    \n",
       "1853613 chr21   HAVANA gene     34511122  34614913 .     -      .    \n",
       "1895841 chr22   HAVANA gene     38291918  38398522 .     -      .    \n",
       "        gene_id            gene_type      gene_name       level\n",
       "31324   ENSG00000255054.3  protein_coding ENSG00000255054 2    \n",
       "62345   ENSG00000285839.1  protein_coding ENSG00000285839 2    \n",
       "64931   ENSG00000256407.2  protein_coding ENSG00000256407 2    \n",
       "75805   ENSG00000259030.8  protein_coding FPGT-TNNI3K     1    \n",
       "299645  ENSG00000286165.1  protein_coding ENSG00000286165 2    \n",
       "321473  ENSG00000284820.1  protein_coding ENSG00000284820 2    \n",
       "322597  ENSG00000286143.1  protein_coding ENSG00000286143 2    \n",
       "370620  ENSG00000273291.5  protein_coding ENSG00000273291 2    \n",
       "412628  ENSG00000285585.1  protein_coding ENSG00000285585 2    \n",
       "433049  ENSG00000285558.1  protein_coding ENSG00000285558 2    \n",
       "469146  ENSG00000290263.1  protein_coding ENSG00000290263 2    \n",
       "490833  ENSG00000288695.1  protein_coding ENSG00000288695 2    \n",
       "628548  ENSG00000285868.1  protein_coding ENSG00000285868 2    \n",
       "755270  ENSG00000285162.1  protein_coding ENSG00000285162 2    \n",
       "756266  ENSG00000281039.1  protein_coding ENSG00000281039 2    \n",
       "792964  ENSG00000284292.1  protein_coding ENSG00000284292 2    \n",
       "793366  ENSG00000248919.7  protein_coding ATP5MF-PTCD1    1    \n",
       "794042  ENSG00000282301.4  protein_coding CYP3A7-CYP3A51P 2    \n",
       "797532  ENSG00000289690.1  protein_coding ENSG00000289690 2    \n",
       "855514  ENSG00000285880.1  protein_coding ENSG00000285880 2    \n",
       "899869  ENSG00000284505.1  protein_coding LYNX1-SLURP2    2    \n",
       "978848  ENSG00000289701.1  protein_coding ENSG00000289701 2    \n",
       "981374  ENSG00000279073.3  protein_coding ENSG00000279073 2    \n",
       "1072831 ENSG00000250644.3  protein_coding ENSG00000250644 1    \n",
       "1127072 ENSG00000285816.1  protein_coding ENSG00000285816 2    \n",
       "1232060 ENSG00000267281.3  protein_coding ATF7-NPFF       2    \n",
       "1238736 ENSG00000285528.1  protein_coding ENSG00000285528 2    \n",
       "1425571 ENSG00000137878.17 protein_coding GCOM1           2    \n",
       "1430937 ENSG00000249240.2  protein_coding ENSG00000249240 2    \n",
       "1519482 ENSG00000159753.15 protein_coding CARMIL2         2    \n",
       "1555812 ENSG00000248871.1  protein_coding TNFSF12-TNFSF13 2    \n",
       "1583999 ENSG00000275688.4  protein_coding CCL15-CCL14     2    \n",
       "1619113 ENSG00000285897.1  protein_coding ENSG00000285897 2    \n",
       "1625820 ENSG00000288894.1  protein_coding ENSG00000288894 2    \n",
       "1715058 ENSG00000213297.8  protein_coding ZNF625-ZNF20    2    \n",
       "1746677 ENSG00000291239.1  protein_coding ENSG00000291239 2    \n",
       "1853613 ENSG00000288711.1  protein_coding ENSG00000288711 2    \n",
       "1895841 ENSG00000283900.1  protein_coding TPTEP2-CSNK1E   2    \n",
       "        tag              hgnc_id    havana_gene           artif_dupl\n",
       "31324   readthrough_gene NA         OTTHUMG00000167136.2  NA        \n",
       "62345   readthrough_gene NA         OTTHUMG00000193360.1  NA        \n",
       "64931   readthrough_gene NA         OTTHUMG00000168203.2  NA        \n",
       "75805   readthrough_gene HGNC:42952 OTTHUMG00000166281.7  NA        \n",
       "299645  readthrough_gene NA         OTTHUMG00000193523.1  NA        \n",
       "321473  readthrough_gene NA         OTTHUMG00000192415.1  NA        \n",
       "322597  readthrough_gene NA         OTTHUMG00000193741.1  NA        \n",
       "370620  readthrough_gene NA         OTTHUMG00000156448.10 NA        \n",
       "412628  readthrough_gene NA         OTTHUMG00000159422.3  NA        \n",
       "433049  readthrough_gene NA         OTTHUMG00000159068.3  NA        \n",
       "469146  readthrough_gene NA         OTTHUMG00000159805.16 NA        \n",
       "490833  readthrough_gene NA         NA                    NA        \n",
       "628548  readthrough_gene NA         OTTHUMG00000193404.1  NA        \n",
       "755270  readthrough_gene NA         OTTHUMG00000192441.1  NA        \n",
       "756266  readthrough_gene NA         OTTHUMG00000189706.1  NA        \n",
       "792964  readthrough_gene NA         OTTHUMG00000154553.3  NA        \n",
       "793366  readthrough_gene HGNC:38844 OTTHUMG00000160779.2  NA        \n",
       "794042  readthrough_gene HGNC:51504 NA                    NA        \n",
       "797532  readthrough_gene NA         NA                    NA        \n",
       "855514  readthrough_gene NA         OTTHUMG00000193361.1  NA        \n",
       "899869  readthrough_gene HGNC:52291 OTTHUMG00000191911.1  NA        \n",
       "978848  readthrough_gene NA         NA                    NA        \n",
       "981374  readthrough_gene NA         OTTHUMG00000189401.1  NA        \n",
       "1072831 readthrough_gene NA         OTTHUMG00000161994.5  NA        \n",
       "1127072 readthrough_gene NA         OTTHUMG00000165951.6  NA        \n",
       "1232060 readthrough_gene HGNC:55073 OTTHUMG00000182349.1  NA        \n",
       "1238736 readthrough_gene NA         OTTHUMG00000193403.1  NA        \n",
       "1425571 readthrough_gene HGNC:26424 OTTHUMG00000176411.5  NA        \n",
       "1430937 readthrough_gene NA         OTTHUMG00000161678.2  NA        \n",
       "1519482 readthrough_gene HGNC:27089 OTTHUMG00000184043.3  NA        \n",
       "1555812 readthrough_gene HGNC:33537 OTTHUMG00000161573.1  NA        \n",
       "1583999 readthrough_gene HGNC:44436 OTTHUMG00000188405.1  NA        \n",
       "1619113 readthrough_gene NA         OTTHUMG00000179077.3  NA        \n",
       "1625820 readthrough_gene NA         NA                    NA        \n",
       "1715058 readthrough_gene HGNC:48368 OTTHUMG00000170135.1  NA        \n",
       "1746677 readthrough_gene NA         NA                    NA        \n",
       "1853613 readthrough_gene NA         NA                    NA        \n",
       "1895841 readthrough_gene HGNC:53829 OTTHUMG00000192148.1  NA        \n",
       "        ensembl_gene_id\n",
       "31324   ENSG00000255054\n",
       "62345   ENSG00000285839\n",
       "64931   ENSG00000256407\n",
       "75805   ENSG00000259030\n",
       "299645  ENSG00000286165\n",
       "321473  ENSG00000284820\n",
       "322597  ENSG00000286143\n",
       "370620  ENSG00000273291\n",
       "412628  ENSG00000285585\n",
       "433049  ENSG00000285558\n",
       "469146  ENSG00000290263\n",
       "490833  ENSG00000288695\n",
       "628548  ENSG00000285868\n",
       "755270  ENSG00000285162\n",
       "756266  ENSG00000281039\n",
       "792964  ENSG00000284292\n",
       "793366  ENSG00000248919\n",
       "794042  ENSG00000282301\n",
       "797532  ENSG00000289690\n",
       "855514  ENSG00000285880\n",
       "899869  ENSG00000284505\n",
       "978848  ENSG00000289701\n",
       "981374  ENSG00000279073\n",
       "1072831 ENSG00000250644\n",
       "1127072 ENSG00000285816\n",
       "1232060 ENSG00000267281\n",
       "1238736 ENSG00000285528\n",
       "1425571 ENSG00000137878\n",
       "1430937 ENSG00000249240\n",
       "1519482 ENSG00000159753\n",
       "1555812 ENSG00000248871\n",
       "1583999 ENSG00000275688\n",
       "1619113 ENSG00000285897\n",
       "1625820 ENSG00000288894\n",
       "1715058 ENSG00000213297\n",
       "1746677 ENSG00000291239\n",
       "1853613 ENSG00000288711\n",
       "1895841 ENSG00000283900"
      ]
     },
     "metadata": {},
     "output_type": "display_data"
    }
   ],
   "source": [
    "df_42[grep(\"readthrough_gene\",df_42$tag),]"
   ]
  },
  {
   "cell_type": "code",
   "execution_count": 171,
   "id": "9e64fd5c",
   "metadata": {},
   "outputs": [
    {
     "data": {
      "text/html": [
       "<table class=\"dataframe\">\n",
       "<caption>A data.frame: 2 × 16</caption>\n",
       "<thead>\n",
       "\t<tr><th></th><th scope=col>seqname</th><th scope=col>source</th><th scope=col>feature</th><th scope=col>start</th><th scope=col>end</th><th scope=col>score</th><th scope=col>strand</th><th scope=col>frame</th><th scope=col>gene_id</th><th scope=col>gene_type</th><th scope=col>gene_name</th><th scope=col>level</th><th scope=col>hgnc_id</th><th scope=col>havana_gene</th><th scope=col>tag</th><th scope=col>ensembl_gene_id</th></tr>\n",
       "\t<tr><th></th><th scope=col>&lt;chr&gt;</th><th scope=col>&lt;chr&gt;</th><th scope=col>&lt;chr&gt;</th><th scope=col>&lt;int&gt;</th><th scope=col>&lt;int&gt;</th><th scope=col>&lt;chr&gt;</th><th scope=col>&lt;chr&gt;</th><th scope=col>&lt;chr&gt;</th><th scope=col>&lt;chr&gt;</th><th scope=col>&lt;chr&gt;</th><th scope=col>&lt;chr&gt;</th><th scope=col>&lt;int&gt;</th><th scope=col>&lt;chr&gt;</th><th scope=col>&lt;chr&gt;</th><th scope=col>&lt;chr&gt;</th><th scope=col>&lt;chr&gt;</th></tr>\n",
       "</thead>\n",
       "<tbody>\n",
       "\t<tr><th scope=row>1</th><td>chr1</td><td>HAVANA</td><td>gene</td><td>11869</td><td>14409</td><td>.</td><td>+</td><td>.</td><td>ENSG00000223972.5</td><td>transcribed_unprocessed_pseudogene</td><td>DDX11L1</td><td>2</td><td>HGNC:37102</td><td>OTTHUMG00000000961.2</td><td>NA</td><td>ENSG00000223972</td></tr>\n",
       "\t<tr><th scope=row>13</th><td>chr1</td><td>HAVANA</td><td>gene</td><td>14404</td><td>29570</td><td>.</td><td>-</td><td>.</td><td>ENSG00000227232.5</td><td>unprocessed_pseudogene            </td><td>WASH7P </td><td>2</td><td>HGNC:38034</td><td>OTTHUMG00000000958.1</td><td>NA</td><td>ENSG00000227232</td></tr>\n",
       "</tbody>\n",
       "</table>\n"
      ],
      "text/latex": [
       "A data.frame: 2 × 16\n",
       "\\begin{tabular}{r|llllllllllllllll}\n",
       "  & seqname & source & feature & start & end & score & strand & frame & gene\\_id & gene\\_type & gene\\_name & level & hgnc\\_id & havana\\_gene & tag & ensembl\\_gene\\_id\\\\\n",
       "  & <chr> & <chr> & <chr> & <int> & <int> & <chr> & <chr> & <chr> & <chr> & <chr> & <chr> & <int> & <chr> & <chr> & <chr> & <chr>\\\\\n",
       "\\hline\n",
       "\t1 & chr1 & HAVANA & gene & 11869 & 14409 & . & + & . & ENSG00000223972.5 & transcribed\\_unprocessed\\_pseudogene & DDX11L1 & 2 & HGNC:37102 & OTTHUMG00000000961.2 & NA & ENSG00000223972\\\\\n",
       "\t13 & chr1 & HAVANA & gene & 14404 & 29570 & . & - & . & ENSG00000227232.5 & unprocessed\\_pseudogene             & WASH7P  & 2 & HGNC:38034 & OTTHUMG00000000958.1 & NA & ENSG00000227232\\\\\n",
       "\\end{tabular}\n"
      ],
      "text/markdown": [
       "\n",
       "A data.frame: 2 × 16\n",
       "\n",
       "| <!--/--> | seqname &lt;chr&gt; | source &lt;chr&gt; | feature &lt;chr&gt; | start &lt;int&gt; | end &lt;int&gt; | score &lt;chr&gt; | strand &lt;chr&gt; | frame &lt;chr&gt; | gene_id &lt;chr&gt; | gene_type &lt;chr&gt; | gene_name &lt;chr&gt; | level &lt;int&gt; | hgnc_id &lt;chr&gt; | havana_gene &lt;chr&gt; | tag &lt;chr&gt; | ensembl_gene_id &lt;chr&gt; |\n",
       "|---|---|---|---|---|---|---|---|---|---|---|---|---|---|---|---|---|\n",
       "| 1 | chr1 | HAVANA | gene | 11869 | 14409 | . | + | . | ENSG00000223972.5 | transcribed_unprocessed_pseudogene | DDX11L1 | 2 | HGNC:37102 | OTTHUMG00000000961.2 | NA | ENSG00000223972 |\n",
       "| 13 | chr1 | HAVANA | gene | 14404 | 29570 | . | - | . | ENSG00000227232.5 | unprocessed_pseudogene             | WASH7P  | 2 | HGNC:38034 | OTTHUMG00000000958.1 | NA | ENSG00000227232 |\n",
       "\n"
      ],
      "text/plain": [
       "   seqname source feature start end   score strand frame gene_id          \n",
       "1  chr1    HAVANA gene    11869 14409 .     +      .     ENSG00000223972.5\n",
       "13 chr1    HAVANA gene    14404 29570 .     -      .     ENSG00000227232.5\n",
       "   gene_type                          gene_name level hgnc_id   \n",
       "1  transcribed_unprocessed_pseudogene DDX11L1   2     HGNC:37102\n",
       "13 unprocessed_pseudogene             WASH7P    2     HGNC:38034\n",
       "   havana_gene          tag ensembl_gene_id\n",
       "1  OTTHUMG00000000961.2 NA  ENSG00000223972\n",
       "13 OTTHUMG00000000958.1 NA  ENSG00000227232"
      ]
     },
     "metadata": {},
     "output_type": "display_data"
    }
   ],
   "source": [
    "df_38 = read.csv(\"/share/ScratchGeneral/anncuo/OneK1K/gene_ref/gencode.v38.annotation.genesonly.csv\", row.names=1)\n",
    "head(df_38,2)"
   ]
  },
  {
   "cell_type": "code",
   "execution_count": 207,
   "id": "2b51a68d",
   "metadata": {},
   "outputs": [
    {
     "data": {
      "text/plain": [
       "\n",
       "      fragmented_locus             ncRNA_host      overlapping_locus \n",
       "                     2                   2836                   8102 \n",
       "                   PAR         pseudo_consens reference_genome_error \n",
       "                    30                   8912                     13 \n",
       "             retrogene         semi_processed \n",
       "                   331                      4 "
      ]
     },
     "metadata": {},
     "output_type": "display_data"
    }
   ],
   "source": [
    "table(df_38$tag)"
   ]
  },
  {
   "cell_type": "code",
   "execution_count": null,
   "id": "3b99f3ed",
   "metadata": {},
   "outputs": [],
   "source": []
  },
  {
   "cell_type": "code",
   "execution_count": 172,
   "id": "fe8c8c3d",
   "metadata": {},
   "outputs": [
    {
     "data": {
      "text/html": [
       "62696"
      ],
      "text/latex": [
       "62696"
      ],
      "text/markdown": [
       "62696"
      ],
      "text/plain": [
       "[1] 62696"
      ]
     },
     "metadata": {},
     "output_type": "display_data"
    },
    {
     "data": {
      "text/html": [
       "60649"
      ],
      "text/latex": [
       "60649"
      ],
      "text/markdown": [
       "60649"
      ],
      "text/plain": [
       "[1] 60649"
      ]
     },
     "metadata": {},
     "output_type": "display_data"
    }
   ],
   "source": [
    "# Compare total number of genes\n",
    "nrow(df_42)\n",
    "nrow(df_38)"
   ]
  },
  {
   "cell_type": "code",
   "execution_count": null,
   "id": "3e9b2dd6",
   "metadata": {},
   "outputs": [],
   "source": [
    "# Check specifically for IGLL5"
   ]
  },
  {
   "cell_type": "code",
   "execution_count": 173,
   "id": "262a3674",
   "metadata": {},
   "outputs": [
    {
     "data": {
      "text/html": [
       "<table class=\"dataframe\">\n",
       "<caption>A data.frame: 1 × 17</caption>\n",
       "<thead>\n",
       "\t<tr><th></th><th scope=col>seqname</th><th scope=col>source</th><th scope=col>feature</th><th scope=col>start</th><th scope=col>end</th><th scope=col>score</th><th scope=col>strand</th><th scope=col>frame</th><th scope=col>gene_id</th><th scope=col>gene_type</th><th scope=col>gene_name</th><th scope=col>level</th><th scope=col>tag</th><th scope=col>hgnc_id</th><th scope=col>havana_gene</th><th scope=col>artif_dupl</th><th scope=col>ensembl_gene_id</th></tr>\n",
       "\t<tr><th></th><th scope=col>&lt;chr&gt;</th><th scope=col>&lt;chr&gt;</th><th scope=col>&lt;chr&gt;</th><th scope=col>&lt;int&gt;</th><th scope=col>&lt;int&gt;</th><th scope=col>&lt;chr&gt;</th><th scope=col>&lt;chr&gt;</th><th scope=col>&lt;chr&gt;</th><th scope=col>&lt;chr&gt;</th><th scope=col>&lt;chr&gt;</th><th scope=col>&lt;chr&gt;</th><th scope=col>&lt;chr&gt;</th><th scope=col>&lt;chr&gt;</th><th scope=col>&lt;chr&gt;</th><th scope=col>&lt;chr&gt;</th><th scope=col>&lt;chr&gt;</th><th scope=col>&lt;chr&gt;</th></tr>\n",
       "</thead>\n",
       "<tbody>\n",
       "\t<tr><th scope=row>1876569</th><td>chr22</td><td>HAVANA</td><td>gene</td><td>22887780</td><td>22896111</td><td>.</td><td>+</td><td>.</td><td>ENSG00000254709.8</td><td>protein_coding</td><td>IGLL5</td><td>2</td><td>overlapping_locus</td><td>HGNC:38476</td><td>OTTHUMG00000165670.3</td><td>NA</td><td>ENSG00000254709</td></tr>\n",
       "</tbody>\n",
       "</table>\n"
      ],
      "text/latex": [
       "A data.frame: 1 × 17\n",
       "\\begin{tabular}{r|lllllllllllllllll}\n",
       "  & seqname & source & feature & start & end & score & strand & frame & gene\\_id & gene\\_type & gene\\_name & level & tag & hgnc\\_id & havana\\_gene & artif\\_dupl & ensembl\\_gene\\_id\\\\\n",
       "  & <chr> & <chr> & <chr> & <int> & <int> & <chr> & <chr> & <chr> & <chr> & <chr> & <chr> & <chr> & <chr> & <chr> & <chr> & <chr> & <chr>\\\\\n",
       "\\hline\n",
       "\t1876569 & chr22 & HAVANA & gene & 22887780 & 22896111 & . & + & . & ENSG00000254709.8 & protein\\_coding & IGLL5 & 2 & overlapping\\_locus & HGNC:38476 & OTTHUMG00000165670.3 & NA & ENSG00000254709\\\\\n",
       "\\end{tabular}\n"
      ],
      "text/markdown": [
       "\n",
       "A data.frame: 1 × 17\n",
       "\n",
       "| <!--/--> | seqname &lt;chr&gt; | source &lt;chr&gt; | feature &lt;chr&gt; | start &lt;int&gt; | end &lt;int&gt; | score &lt;chr&gt; | strand &lt;chr&gt; | frame &lt;chr&gt; | gene_id &lt;chr&gt; | gene_type &lt;chr&gt; | gene_name &lt;chr&gt; | level &lt;chr&gt; | tag &lt;chr&gt; | hgnc_id &lt;chr&gt; | havana_gene &lt;chr&gt; | artif_dupl &lt;chr&gt; | ensembl_gene_id &lt;chr&gt; |\n",
       "|---|---|---|---|---|---|---|---|---|---|---|---|---|---|---|---|---|---|\n",
       "| 1876569 | chr22 | HAVANA | gene | 22887780 | 22896111 | . | + | . | ENSG00000254709.8 | protein_coding | IGLL5 | 2 | overlapping_locus | HGNC:38476 | OTTHUMG00000165670.3 | NA | ENSG00000254709 |\n",
       "\n"
      ],
      "text/plain": [
       "        seqname source feature start    end      score strand frame\n",
       "1876569 chr22   HAVANA gene    22887780 22896111 .     +      .    \n",
       "        gene_id           gene_type      gene_name level tag              \n",
       "1876569 ENSG00000254709.8 protein_coding IGLL5     2     overlapping_locus\n",
       "        hgnc_id    havana_gene          artif_dupl ensembl_gene_id\n",
       "1876569 HGNC:38476 OTTHUMG00000165670.3 NA         ENSG00000254709"
      ]
     },
     "metadata": {},
     "output_type": "display_data"
    },
    {
     "data": {
      "text/html": [
       "<table class=\"dataframe\">\n",
       "<caption>A data.frame: 1 × 17</caption>\n",
       "<thead>\n",
       "\t<tr><th></th><th scope=col>seqname</th><th scope=col>source</th><th scope=col>feature</th><th scope=col>start</th><th scope=col>end</th><th scope=col>score</th><th scope=col>strand</th><th scope=col>frame</th><th scope=col>gene_id</th><th scope=col>gene_type</th><th scope=col>gene_name</th><th scope=col>level</th><th scope=col>tag</th><th scope=col>hgnc_id</th><th scope=col>havana_gene</th><th scope=col>artif_dupl</th><th scope=col>ensembl_gene_id</th></tr>\n",
       "\t<tr><th></th><th scope=col>&lt;chr&gt;</th><th scope=col>&lt;chr&gt;</th><th scope=col>&lt;chr&gt;</th><th scope=col>&lt;int&gt;</th><th scope=col>&lt;int&gt;</th><th scope=col>&lt;chr&gt;</th><th scope=col>&lt;chr&gt;</th><th scope=col>&lt;chr&gt;</th><th scope=col>&lt;chr&gt;</th><th scope=col>&lt;chr&gt;</th><th scope=col>&lt;chr&gt;</th><th scope=col>&lt;chr&gt;</th><th scope=col>&lt;chr&gt;</th><th scope=col>&lt;chr&gt;</th><th scope=col>&lt;chr&gt;</th><th scope=col>&lt;chr&gt;</th><th scope=col>&lt;chr&gt;</th></tr>\n",
       "</thead>\n",
       "<tbody>\n",
       "\t<tr><th scope=row>1876601</th><td>chr22</td><td>HAVANA</td><td>gene</td><td>22893692</td><td>22893818</td><td>.</td><td>+</td><td>.</td><td>ENSG00000211674.2</td><td>IG_J_gene</td><td>IGLJ1</td><td>2</td><td>overlapping_locus</td><td>HGNC:5863</td><td>OTTHUMG00000151225.2</td><td>NA</td><td>ENSG00000211674</td></tr>\n",
       "</tbody>\n",
       "</table>\n"
      ],
      "text/latex": [
       "A data.frame: 1 × 17\n",
       "\\begin{tabular}{r|lllllllllllllllll}\n",
       "  & seqname & source & feature & start & end & score & strand & frame & gene\\_id & gene\\_type & gene\\_name & level & tag & hgnc\\_id & havana\\_gene & artif\\_dupl & ensembl\\_gene\\_id\\\\\n",
       "  & <chr> & <chr> & <chr> & <int> & <int> & <chr> & <chr> & <chr> & <chr> & <chr> & <chr> & <chr> & <chr> & <chr> & <chr> & <chr> & <chr>\\\\\n",
       "\\hline\n",
       "\t1876601 & chr22 & HAVANA & gene & 22893692 & 22893818 & . & + & . & ENSG00000211674.2 & IG\\_J\\_gene & IGLJ1 & 2 & overlapping\\_locus & HGNC:5863 & OTTHUMG00000151225.2 & NA & ENSG00000211674\\\\\n",
       "\\end{tabular}\n"
      ],
      "text/markdown": [
       "\n",
       "A data.frame: 1 × 17\n",
       "\n",
       "| <!--/--> | seqname &lt;chr&gt; | source &lt;chr&gt; | feature &lt;chr&gt; | start &lt;int&gt; | end &lt;int&gt; | score &lt;chr&gt; | strand &lt;chr&gt; | frame &lt;chr&gt; | gene_id &lt;chr&gt; | gene_type &lt;chr&gt; | gene_name &lt;chr&gt; | level &lt;chr&gt; | tag &lt;chr&gt; | hgnc_id &lt;chr&gt; | havana_gene &lt;chr&gt; | artif_dupl &lt;chr&gt; | ensembl_gene_id &lt;chr&gt; |\n",
       "|---|---|---|---|---|---|---|---|---|---|---|---|---|---|---|---|---|---|\n",
       "| 1876601 | chr22 | HAVANA | gene | 22893692 | 22893818 | . | + | . | ENSG00000211674.2 | IG_J_gene | IGLJ1 | 2 | overlapping_locus | HGNC:5863 | OTTHUMG00000151225.2 | NA | ENSG00000211674 |\n",
       "\n"
      ],
      "text/plain": [
       "        seqname source feature start    end      score strand frame\n",
       "1876601 chr22   HAVANA gene    22893692 22893818 .     +      .    \n",
       "        gene_id           gene_type gene_name level tag               hgnc_id  \n",
       "1876601 ENSG00000211674.2 IG_J_gene IGLJ1     2     overlapping_locus HGNC:5863\n",
       "        havana_gene          artif_dupl ensembl_gene_id\n",
       "1876601 OTTHUMG00000151225.2 NA         ENSG00000211674"
      ]
     },
     "metadata": {},
     "output_type": "display_data"
    },
    {
     "data": {
      "text/html": [
       "<table class=\"dataframe\">\n",
       "<caption>A data.frame: 1 × 17</caption>\n",
       "<thead>\n",
       "\t<tr><th></th><th scope=col>seqname</th><th scope=col>source</th><th scope=col>feature</th><th scope=col>start</th><th scope=col>end</th><th scope=col>score</th><th scope=col>strand</th><th scope=col>frame</th><th scope=col>gene_id</th><th scope=col>gene_type</th><th scope=col>gene_name</th><th scope=col>level</th><th scope=col>tag</th><th scope=col>hgnc_id</th><th scope=col>havana_gene</th><th scope=col>artif_dupl</th><th scope=col>ensembl_gene_id</th></tr>\n",
       "\t<tr><th></th><th scope=col>&lt;chr&gt;</th><th scope=col>&lt;chr&gt;</th><th scope=col>&lt;chr&gt;</th><th scope=col>&lt;int&gt;</th><th scope=col>&lt;int&gt;</th><th scope=col>&lt;chr&gt;</th><th scope=col>&lt;chr&gt;</th><th scope=col>&lt;chr&gt;</th><th scope=col>&lt;chr&gt;</th><th scope=col>&lt;chr&gt;</th><th scope=col>&lt;chr&gt;</th><th scope=col>&lt;chr&gt;</th><th scope=col>&lt;chr&gt;</th><th scope=col>&lt;chr&gt;</th><th scope=col>&lt;chr&gt;</th><th scope=col>&lt;chr&gt;</th><th scope=col>&lt;chr&gt;</th></tr>\n",
       "</thead>\n",
       "<tbody>\n",
       "\t<tr><th scope=row>1876605</th><td>chr22</td><td>HAVANA</td><td>gene</td><td>22895375</td><td>22895834</td><td>.</td><td>+</td><td>.</td><td>ENSG00000211675.2</td><td>IG_C_gene</td><td>IGLC1</td><td>2</td><td>overlapping_locus</td><td>HGNC:5855</td><td>OTTHUMG00000151218.3</td><td>NA</td><td>ENSG00000211675</td></tr>\n",
       "</tbody>\n",
       "</table>\n"
      ],
      "text/latex": [
       "A data.frame: 1 × 17\n",
       "\\begin{tabular}{r|lllllllllllllllll}\n",
       "  & seqname & source & feature & start & end & score & strand & frame & gene\\_id & gene\\_type & gene\\_name & level & tag & hgnc\\_id & havana\\_gene & artif\\_dupl & ensembl\\_gene\\_id\\\\\n",
       "  & <chr> & <chr> & <chr> & <int> & <int> & <chr> & <chr> & <chr> & <chr> & <chr> & <chr> & <chr> & <chr> & <chr> & <chr> & <chr> & <chr>\\\\\n",
       "\\hline\n",
       "\t1876605 & chr22 & HAVANA & gene & 22895375 & 22895834 & . & + & . & ENSG00000211675.2 & IG\\_C\\_gene & IGLC1 & 2 & overlapping\\_locus & HGNC:5855 & OTTHUMG00000151218.3 & NA & ENSG00000211675\\\\\n",
       "\\end{tabular}\n"
      ],
      "text/markdown": [
       "\n",
       "A data.frame: 1 × 17\n",
       "\n",
       "| <!--/--> | seqname &lt;chr&gt; | source &lt;chr&gt; | feature &lt;chr&gt; | start &lt;int&gt; | end &lt;int&gt; | score &lt;chr&gt; | strand &lt;chr&gt; | frame &lt;chr&gt; | gene_id &lt;chr&gt; | gene_type &lt;chr&gt; | gene_name &lt;chr&gt; | level &lt;chr&gt; | tag &lt;chr&gt; | hgnc_id &lt;chr&gt; | havana_gene &lt;chr&gt; | artif_dupl &lt;chr&gt; | ensembl_gene_id &lt;chr&gt; |\n",
       "|---|---|---|---|---|---|---|---|---|---|---|---|---|---|---|---|---|---|\n",
       "| 1876605 | chr22 | HAVANA | gene | 22895375 | 22895834 | . | + | . | ENSG00000211675.2 | IG_C_gene | IGLC1 | 2 | overlapping_locus | HGNC:5855 | OTTHUMG00000151218.3 | NA | ENSG00000211675 |\n",
       "\n"
      ],
      "text/plain": [
       "        seqname source feature start    end      score strand frame\n",
       "1876605 chr22   HAVANA gene    22895375 22895834 .     +      .    \n",
       "        gene_id           gene_type gene_name level tag               hgnc_id  \n",
       "1876605 ENSG00000211675.2 IG_C_gene IGLC1     2     overlapping_locus HGNC:5855\n",
       "        havana_gene          artif_dupl ensembl_gene_id\n",
       "1876605 OTTHUMG00000151218.3 NA         ENSG00000211675"
      ]
     },
     "metadata": {},
     "output_type": "display_data"
    }
   ],
   "source": [
    "# release 42\n",
    "df_42[grep(\"IGLL5\",df_42$gene_name),]\n",
    "df_42[grep(\"IGLJ1\",df_42$gene_name),]\n",
    "df_42[grep(\"IGLC1\",df_42$gene_name),]"
   ]
  },
  {
   "cell_type": "code",
   "execution_count": 174,
   "id": "84aef954",
   "metadata": {},
   "outputs": [
    {
     "data": {
      "text/html": [
       "<table class=\"dataframe\">\n",
       "<caption>A data.frame: 1 × 16</caption>\n",
       "<thead>\n",
       "\t<tr><th></th><th scope=col>seqname</th><th scope=col>source</th><th scope=col>feature</th><th scope=col>start</th><th scope=col>end</th><th scope=col>score</th><th scope=col>strand</th><th scope=col>frame</th><th scope=col>gene_id</th><th scope=col>gene_type</th><th scope=col>gene_name</th><th scope=col>level</th><th scope=col>hgnc_id</th><th scope=col>havana_gene</th><th scope=col>tag</th><th scope=col>ensembl_gene_id</th></tr>\n",
       "\t<tr><th></th><th scope=col>&lt;chr&gt;</th><th scope=col>&lt;chr&gt;</th><th scope=col>&lt;chr&gt;</th><th scope=col>&lt;int&gt;</th><th scope=col>&lt;int&gt;</th><th scope=col>&lt;chr&gt;</th><th scope=col>&lt;chr&gt;</th><th scope=col>&lt;chr&gt;</th><th scope=col>&lt;chr&gt;</th><th scope=col>&lt;chr&gt;</th><th scope=col>&lt;chr&gt;</th><th scope=col>&lt;int&gt;</th><th scope=col>&lt;chr&gt;</th><th scope=col>&lt;chr&gt;</th><th scope=col>&lt;chr&gt;</th><th scope=col>&lt;chr&gt;</th></tr>\n",
       "</thead>\n",
       "<tbody>\n",
       "\t<tr><th scope=row>2985272</th><td>chr22</td><td>HAVANA</td><td>gene</td><td>22887780</td><td>22896111</td><td>.</td><td>+</td><td>.</td><td>ENSG00000254709.8</td><td>protein_coding</td><td>IGLL5</td><td>2</td><td>HGNC:38476</td><td>OTTHUMG00000165670.3</td><td>overlapping_locus</td><td>ENSG00000254709</td></tr>\n",
       "</tbody>\n",
       "</table>\n"
      ],
      "text/latex": [
       "A data.frame: 1 × 16\n",
       "\\begin{tabular}{r|llllllllllllllll}\n",
       "  & seqname & source & feature & start & end & score & strand & frame & gene\\_id & gene\\_type & gene\\_name & level & hgnc\\_id & havana\\_gene & tag & ensembl\\_gene\\_id\\\\\n",
       "  & <chr> & <chr> & <chr> & <int> & <int> & <chr> & <chr> & <chr> & <chr> & <chr> & <chr> & <int> & <chr> & <chr> & <chr> & <chr>\\\\\n",
       "\\hline\n",
       "\t2985272 & chr22 & HAVANA & gene & 22887780 & 22896111 & . & + & . & ENSG00000254709.8 & protein\\_coding & IGLL5 & 2 & HGNC:38476 & OTTHUMG00000165670.3 & overlapping\\_locus & ENSG00000254709\\\\\n",
       "\\end{tabular}\n"
      ],
      "text/markdown": [
       "\n",
       "A data.frame: 1 × 16\n",
       "\n",
       "| <!--/--> | seqname &lt;chr&gt; | source &lt;chr&gt; | feature &lt;chr&gt; | start &lt;int&gt; | end &lt;int&gt; | score &lt;chr&gt; | strand &lt;chr&gt; | frame &lt;chr&gt; | gene_id &lt;chr&gt; | gene_type &lt;chr&gt; | gene_name &lt;chr&gt; | level &lt;int&gt; | hgnc_id &lt;chr&gt; | havana_gene &lt;chr&gt; | tag &lt;chr&gt; | ensembl_gene_id &lt;chr&gt; |\n",
       "|---|---|---|---|---|---|---|---|---|---|---|---|---|---|---|---|---|\n",
       "| 2985272 | chr22 | HAVANA | gene | 22887780 | 22896111 | . | + | . | ENSG00000254709.8 | protein_coding | IGLL5 | 2 | HGNC:38476 | OTTHUMG00000165670.3 | overlapping_locus | ENSG00000254709 |\n",
       "\n"
      ],
      "text/plain": [
       "        seqname source feature start    end      score strand frame\n",
       "2985272 chr22   HAVANA gene    22887780 22896111 .     +      .    \n",
       "        gene_id           gene_type      gene_name level hgnc_id   \n",
       "2985272 ENSG00000254709.8 protein_coding IGLL5     2     HGNC:38476\n",
       "        havana_gene          tag               ensembl_gene_id\n",
       "2985272 OTTHUMG00000165670.3 overlapping_locus ENSG00000254709"
      ]
     },
     "metadata": {},
     "output_type": "display_data"
    },
    {
     "data": {
      "text/html": [
       "<table class=\"dataframe\">\n",
       "<caption>A data.frame: 1 × 16</caption>\n",
       "<thead>\n",
       "\t<tr><th></th><th scope=col>seqname</th><th scope=col>source</th><th scope=col>feature</th><th scope=col>start</th><th scope=col>end</th><th scope=col>score</th><th scope=col>strand</th><th scope=col>frame</th><th scope=col>gene_id</th><th scope=col>gene_type</th><th scope=col>gene_name</th><th scope=col>level</th><th scope=col>hgnc_id</th><th scope=col>havana_gene</th><th scope=col>tag</th><th scope=col>ensembl_gene_id</th></tr>\n",
       "\t<tr><th></th><th scope=col>&lt;chr&gt;</th><th scope=col>&lt;chr&gt;</th><th scope=col>&lt;chr&gt;</th><th scope=col>&lt;int&gt;</th><th scope=col>&lt;int&gt;</th><th scope=col>&lt;chr&gt;</th><th scope=col>&lt;chr&gt;</th><th scope=col>&lt;chr&gt;</th><th scope=col>&lt;chr&gt;</th><th scope=col>&lt;chr&gt;</th><th scope=col>&lt;chr&gt;</th><th scope=col>&lt;int&gt;</th><th scope=col>&lt;chr&gt;</th><th scope=col>&lt;chr&gt;</th><th scope=col>&lt;chr&gt;</th><th scope=col>&lt;chr&gt;</th></tr>\n",
       "</thead>\n",
       "<tbody>\n",
       "\t<tr><th scope=row>2985304</th><td>chr22</td><td>HAVANA</td><td>gene</td><td>22893692</td><td>22893818</td><td>.</td><td>+</td><td>.</td><td>ENSG00000211674.2</td><td>IG_J_gene</td><td>IGLJ1</td><td>2</td><td>HGNC:5863</td><td>OTTHUMG00000151225.2</td><td>overlapping_locus</td><td>ENSG00000211674</td></tr>\n",
       "</tbody>\n",
       "</table>\n"
      ],
      "text/latex": [
       "A data.frame: 1 × 16\n",
       "\\begin{tabular}{r|llllllllllllllll}\n",
       "  & seqname & source & feature & start & end & score & strand & frame & gene\\_id & gene\\_type & gene\\_name & level & hgnc\\_id & havana\\_gene & tag & ensembl\\_gene\\_id\\\\\n",
       "  & <chr> & <chr> & <chr> & <int> & <int> & <chr> & <chr> & <chr> & <chr> & <chr> & <chr> & <int> & <chr> & <chr> & <chr> & <chr>\\\\\n",
       "\\hline\n",
       "\t2985304 & chr22 & HAVANA & gene & 22893692 & 22893818 & . & + & . & ENSG00000211674.2 & IG\\_J\\_gene & IGLJ1 & 2 & HGNC:5863 & OTTHUMG00000151225.2 & overlapping\\_locus & ENSG00000211674\\\\\n",
       "\\end{tabular}\n"
      ],
      "text/markdown": [
       "\n",
       "A data.frame: 1 × 16\n",
       "\n",
       "| <!--/--> | seqname &lt;chr&gt; | source &lt;chr&gt; | feature &lt;chr&gt; | start &lt;int&gt; | end &lt;int&gt; | score &lt;chr&gt; | strand &lt;chr&gt; | frame &lt;chr&gt; | gene_id &lt;chr&gt; | gene_type &lt;chr&gt; | gene_name &lt;chr&gt; | level &lt;int&gt; | hgnc_id &lt;chr&gt; | havana_gene &lt;chr&gt; | tag &lt;chr&gt; | ensembl_gene_id &lt;chr&gt; |\n",
       "|---|---|---|---|---|---|---|---|---|---|---|---|---|---|---|---|---|\n",
       "| 2985304 | chr22 | HAVANA | gene | 22893692 | 22893818 | . | + | . | ENSG00000211674.2 | IG_J_gene | IGLJ1 | 2 | HGNC:5863 | OTTHUMG00000151225.2 | overlapping_locus | ENSG00000211674 |\n",
       "\n"
      ],
      "text/plain": [
       "        seqname source feature start    end      score strand frame\n",
       "2985304 chr22   HAVANA gene    22893692 22893818 .     +      .    \n",
       "        gene_id           gene_type gene_name level hgnc_id  \n",
       "2985304 ENSG00000211674.2 IG_J_gene IGLJ1     2     HGNC:5863\n",
       "        havana_gene          tag               ensembl_gene_id\n",
       "2985304 OTTHUMG00000151225.2 overlapping_locus ENSG00000211674"
      ]
     },
     "metadata": {},
     "output_type": "display_data"
    },
    {
     "data": {
      "text/html": [
       "<table class=\"dataframe\">\n",
       "<caption>A data.frame: 1 × 16</caption>\n",
       "<thead>\n",
       "\t<tr><th></th><th scope=col>seqname</th><th scope=col>source</th><th scope=col>feature</th><th scope=col>start</th><th scope=col>end</th><th scope=col>score</th><th scope=col>strand</th><th scope=col>frame</th><th scope=col>gene_id</th><th scope=col>gene_type</th><th scope=col>gene_name</th><th scope=col>level</th><th scope=col>hgnc_id</th><th scope=col>havana_gene</th><th scope=col>tag</th><th scope=col>ensembl_gene_id</th></tr>\n",
       "\t<tr><th></th><th scope=col>&lt;chr&gt;</th><th scope=col>&lt;chr&gt;</th><th scope=col>&lt;chr&gt;</th><th scope=col>&lt;int&gt;</th><th scope=col>&lt;int&gt;</th><th scope=col>&lt;chr&gt;</th><th scope=col>&lt;chr&gt;</th><th scope=col>&lt;chr&gt;</th><th scope=col>&lt;chr&gt;</th><th scope=col>&lt;chr&gt;</th><th scope=col>&lt;chr&gt;</th><th scope=col>&lt;int&gt;</th><th scope=col>&lt;chr&gt;</th><th scope=col>&lt;chr&gt;</th><th scope=col>&lt;chr&gt;</th><th scope=col>&lt;chr&gt;</th></tr>\n",
       "</thead>\n",
       "<tbody>\n",
       "\t<tr><th scope=row>2985308</th><td>chr22</td><td>HAVANA</td><td>gene</td><td>22895375</td><td>22895834</td><td>.</td><td>+</td><td>.</td><td>ENSG00000211675.2</td><td>IG_C_gene</td><td>IGLC1</td><td>2</td><td>HGNC:5855</td><td>OTTHUMG00000151218.3</td><td>overlapping_locus</td><td>ENSG00000211675</td></tr>\n",
       "</tbody>\n",
       "</table>\n"
      ],
      "text/latex": [
       "A data.frame: 1 × 16\n",
       "\\begin{tabular}{r|llllllllllllllll}\n",
       "  & seqname & source & feature & start & end & score & strand & frame & gene\\_id & gene\\_type & gene\\_name & level & hgnc\\_id & havana\\_gene & tag & ensembl\\_gene\\_id\\\\\n",
       "  & <chr> & <chr> & <chr> & <int> & <int> & <chr> & <chr> & <chr> & <chr> & <chr> & <chr> & <int> & <chr> & <chr> & <chr> & <chr>\\\\\n",
       "\\hline\n",
       "\t2985308 & chr22 & HAVANA & gene & 22895375 & 22895834 & . & + & . & ENSG00000211675.2 & IG\\_C\\_gene & IGLC1 & 2 & HGNC:5855 & OTTHUMG00000151218.3 & overlapping\\_locus & ENSG00000211675\\\\\n",
       "\\end{tabular}\n"
      ],
      "text/markdown": [
       "\n",
       "A data.frame: 1 × 16\n",
       "\n",
       "| <!--/--> | seqname &lt;chr&gt; | source &lt;chr&gt; | feature &lt;chr&gt; | start &lt;int&gt; | end &lt;int&gt; | score &lt;chr&gt; | strand &lt;chr&gt; | frame &lt;chr&gt; | gene_id &lt;chr&gt; | gene_type &lt;chr&gt; | gene_name &lt;chr&gt; | level &lt;int&gt; | hgnc_id &lt;chr&gt; | havana_gene &lt;chr&gt; | tag &lt;chr&gt; | ensembl_gene_id &lt;chr&gt; |\n",
       "|---|---|---|---|---|---|---|---|---|---|---|---|---|---|---|---|---|\n",
       "| 2985308 | chr22 | HAVANA | gene | 22895375 | 22895834 | . | + | . | ENSG00000211675.2 | IG_C_gene | IGLC1 | 2 | HGNC:5855 | OTTHUMG00000151218.3 | overlapping_locus | ENSG00000211675 |\n",
       "\n"
      ],
      "text/plain": [
       "        seqname source feature start    end      score strand frame\n",
       "2985308 chr22   HAVANA gene    22895375 22895834 .     +      .    \n",
       "        gene_id           gene_type gene_name level hgnc_id  \n",
       "2985308 ENSG00000211675.2 IG_C_gene IGLC1     2     HGNC:5855\n",
       "        havana_gene          tag               ensembl_gene_id\n",
       "2985308 OTTHUMG00000151218.3 overlapping_locus ENSG00000211675"
      ]
     },
     "metadata": {},
     "output_type": "display_data"
    }
   ],
   "source": [
    "# release 38\n",
    "df_38[grep(\"IGLL5\",df_38$gene_name),]\n",
    "df_38[grep(\"IGLJ1\",df_38$gene_name),]\n",
    "df_38[grep(\"IGLC1\",df_38$gene_name),]"
   ]
  },
  {
   "cell_type": "code",
   "execution_count": null,
   "id": "0ab16dbd",
   "metadata": {},
   "outputs": [],
   "source": []
  },
  {
   "cell_type": "code",
   "execution_count": 175,
   "id": "3f11a223",
   "metadata": {},
   "outputs": [
    {
     "data": {
      "text/html": [
       "19937"
      ],
      "text/latex": [
       "19937"
      ],
      "text/markdown": [
       "19937"
      ],
      "text/plain": [
       "[1] 19937"
      ]
     },
     "metadata": {},
     "output_type": "display_data"
    }
   ],
   "source": [
    "# Compile list of (protein coding; pc) genes in v38\n",
    "pc_genes_38 = unique(df_38[grep(\"protein_coding\",df_38$gene_type),\"ensembl_gene_id\"])\n",
    "length(pc_genes_38)"
   ]
  },
  {
   "cell_type": "code",
   "execution_count": 176,
   "id": "3e6dfd00",
   "metadata": {},
   "outputs": [
    {
     "data": {
      "text/html": [
       "20012"
      ],
      "text/latex": [
       "20012"
      ],
      "text/markdown": [
       "20012"
      ],
      "text/plain": [
       "[1] 20012"
      ]
     },
     "metadata": {},
     "output_type": "display_data"
    }
   ],
   "source": [
    "# Compile list of pc genes in v 42\n",
    "pc_genes_42 = unique(df_42[grep(\"protein_coding\",df_42$gene_type),\"ensembl_gene_id\"])\n",
    "length(pc_genes_42)"
   ]
  },
  {
   "cell_type": "code",
   "execution_count": 183,
   "id": "ccfea9d3",
   "metadata": {},
   "outputs": [
    {
     "data": {
      "text/html": [
       "19859"
      ],
      "text/latex": [
       "19859"
      ],
      "text/markdown": [
       "19859"
      ],
      "text/plain": [
       "[1] 19859"
      ]
     },
     "metadata": {},
     "output_type": "display_data"
    }
   ],
   "source": [
    "# Common pc genes between the two objects\n",
    "common_genes = pc_genes_38[pc_genes_38 %in% pc_genes_42]\n",
    "length(common_genes)"
   ]
  },
  {
   "cell_type": "code",
   "execution_count": 184,
   "id": "54289909",
   "metadata": {},
   "outputs": [
    {
     "data": {
      "text/html": [
       "78"
      ],
      "text/latex": [
       "78"
      ],
      "text/markdown": [
       "78"
      ],
      "text/plain": [
       "[1] 78"
      ]
     },
     "metadata": {},
     "output_type": "display_data"
    }
   ],
   "source": [
    "# v38 only\n",
    "genes38only = pc_genes_38[!(pc_genes_38 %in% pc_genes_42)]\n",
    "length(genes38only)"
   ]
  },
  {
   "cell_type": "code",
   "execution_count": 185,
   "id": "729dc531",
   "metadata": {},
   "outputs": [
    {
     "data": {
      "text/html": [
       "153"
      ],
      "text/latex": [
       "153"
      ],
      "text/markdown": [
       "153"
      ],
      "text/plain": [
       "[1] 153"
      ]
     },
     "metadata": {},
     "output_type": "display_data"
    }
   ],
   "source": [
    "# v42 only\n",
    "genes42only = pc_genes_42[!(pc_genes_42 %in% pc_genes_38)]\n",
    "length(genes42only)"
   ]
  },
  {
   "cell_type": "code",
   "execution_count": null,
   "id": "b7e2e90d",
   "metadata": {},
   "outputs": [],
   "source": [
    "##### Genes that were not considered protein coding in 42 (only in 38): tot:78"
   ]
  },
  {
   "cell_type": "code",
   "execution_count": 189,
   "id": "b34fa8b5",
   "metadata": {},
   "outputs": [
    {
     "data": {
      "text/html": [
       "<table class=\"dataframe\">\n",
       "<caption>A data.frame: 6 × 16</caption>\n",
       "<thead>\n",
       "\t<tr><th></th><th scope=col>seqname</th><th scope=col>source</th><th scope=col>feature</th><th scope=col>start</th><th scope=col>end</th><th scope=col>score</th><th scope=col>strand</th><th scope=col>frame</th><th scope=col>gene_id</th><th scope=col>gene_type</th><th scope=col>gene_name</th><th scope=col>level</th><th scope=col>hgnc_id</th><th scope=col>havana_gene</th><th scope=col>tag</th><th scope=col>ensembl_gene_id</th></tr>\n",
       "\t<tr><th></th><th scope=col>&lt;chr&gt;</th><th scope=col>&lt;chr&gt;</th><th scope=col>&lt;chr&gt;</th><th scope=col>&lt;int&gt;</th><th scope=col>&lt;int&gt;</th><th scope=col>&lt;chr&gt;</th><th scope=col>&lt;chr&gt;</th><th scope=col>&lt;chr&gt;</th><th scope=col>&lt;chr&gt;</th><th scope=col>&lt;chr&gt;</th><th scope=col>&lt;chr&gt;</th><th scope=col>&lt;int&gt;</th><th scope=col>&lt;chr&gt;</th><th scope=col>&lt;chr&gt;</th><th scope=col>&lt;chr&gt;</th><th scope=col>&lt;chr&gt;</th></tr>\n",
       "</thead>\n",
       "<tbody>\n",
       "\t<tr><th scope=row>157587</th><td>chr1</td><td>HAVANA</td><td>gene</td><td>121087345</td><td>121097161</td><td>.</td><td>+</td><td>.</td><td>ENSG00000198019.13</td><td>protein_coding</td><td>FCGR1B  </td><td>2</td><td>HGNC:3614 </td><td>OTTHUMG00000040903.9</td><td>NA       </td><td>ENSG00000198019</td></tr>\n",
       "\t<tr><th scope=row>158642</th><td>chr1</td><td>HAVANA</td><td>gene</td><td>145241630</td><td>145242124</td><td>.</td><td>-</td><td>.</td><td>ENSG00000256374.2 </td><td>protein_coding</td><td>PPIAL4D </td><td>2</td><td>HGNC:33998</td><td>OTTHUMG00000078265.3</td><td>retrogene</td><td>ENSG00000256374</td></tr>\n",
       "\t<tr><th scope=row>167728</th><td>chr1</td><td>HAVANA</td><td>gene</td><td>149583865</td><td>149584464</td><td>.</td><td>+</td><td>.</td><td>ENSG00000263464.2 </td><td>protein_coding</td><td>PPIAL4C </td><td>2</td><td>HGNC:33995</td><td>OTTHUMG00000188675.1</td><td>retrogene</td><td>ENSG00000263464</td></tr>\n",
       "\t<tr><th scope=row>167972</th><td>chr1</td><td>HAVANA</td><td>gene</td><td>149842188</td><td>149842736</td><td>.</td><td>-</td><td>.</td><td>ENSG00000203812.2 </td><td>protein_coding</td><td>H2AC18  </td><td>2</td><td>HGNC:4736 </td><td>OTTHUMG00000188678.1</td><td>NA       </td><td>ENSG00000203812</td></tr>\n",
       "\t<tr><th scope=row>167990</th><td>chr1</td><td>HAVANA</td><td>gene</td><td>149851061</td><td>149851624</td><td>.</td><td>+</td><td>.</td><td>ENSG00000272196.2 </td><td>protein_coding</td><td>H2AC19  </td><td>2</td><td>HGNC:29668</td><td>OTTHUMG00000012097.1</td><td>NA       </td><td>ENSG00000272196</td></tr>\n",
       "\t<tr><th scope=row>177610</th><td>chr1</td><td>HAVANA</td><td>gene</td><td>153437058</td><td>153439949</td><td>.</td><td>-</td><td>.</td><td>ENSG00000197364.7 </td><td>protein_coding</td><td>S100A7L2</td><td>2</td><td>HGNC:21655</td><td>OTTHUMG00000013129.4</td><td>NA       </td><td>ENSG00000197364</td></tr>\n",
       "</tbody>\n",
       "</table>\n"
      ],
      "text/latex": [
       "A data.frame: 6 × 16\n",
       "\\begin{tabular}{r|llllllllllllllll}\n",
       "  & seqname & source & feature & start & end & score & strand & frame & gene\\_id & gene\\_type & gene\\_name & level & hgnc\\_id & havana\\_gene & tag & ensembl\\_gene\\_id\\\\\n",
       "  & <chr> & <chr> & <chr> & <int> & <int> & <chr> & <chr> & <chr> & <chr> & <chr> & <chr> & <int> & <chr> & <chr> & <chr> & <chr>\\\\\n",
       "\\hline\n",
       "\t157587 & chr1 & HAVANA & gene & 121087345 & 121097161 & . & + & . & ENSG00000198019.13 & protein\\_coding & FCGR1B   & 2 & HGNC:3614  & OTTHUMG00000040903.9 & NA        & ENSG00000198019\\\\\n",
       "\t158642 & chr1 & HAVANA & gene & 145241630 & 145242124 & . & - & . & ENSG00000256374.2  & protein\\_coding & PPIAL4D  & 2 & HGNC:33998 & OTTHUMG00000078265.3 & retrogene & ENSG00000256374\\\\\n",
       "\t167728 & chr1 & HAVANA & gene & 149583865 & 149584464 & . & + & . & ENSG00000263464.2  & protein\\_coding & PPIAL4C  & 2 & HGNC:33995 & OTTHUMG00000188675.1 & retrogene & ENSG00000263464\\\\\n",
       "\t167972 & chr1 & HAVANA & gene & 149842188 & 149842736 & . & - & . & ENSG00000203812.2  & protein\\_coding & H2AC18   & 2 & HGNC:4736  & OTTHUMG00000188678.1 & NA        & ENSG00000203812\\\\\n",
       "\t167990 & chr1 & HAVANA & gene & 149851061 & 149851624 & . & + & . & ENSG00000272196.2  & protein\\_coding & H2AC19   & 2 & HGNC:29668 & OTTHUMG00000012097.1 & NA        & ENSG00000272196\\\\\n",
       "\t177610 & chr1 & HAVANA & gene & 153437058 & 153439949 & . & - & . & ENSG00000197364.7  & protein\\_coding & S100A7L2 & 2 & HGNC:21655 & OTTHUMG00000013129.4 & NA        & ENSG00000197364\\\\\n",
       "\\end{tabular}\n"
      ],
      "text/markdown": [
       "\n",
       "A data.frame: 6 × 16\n",
       "\n",
       "| <!--/--> | seqname &lt;chr&gt; | source &lt;chr&gt; | feature &lt;chr&gt; | start &lt;int&gt; | end &lt;int&gt; | score &lt;chr&gt; | strand &lt;chr&gt; | frame &lt;chr&gt; | gene_id &lt;chr&gt; | gene_type &lt;chr&gt; | gene_name &lt;chr&gt; | level &lt;int&gt; | hgnc_id &lt;chr&gt; | havana_gene &lt;chr&gt; | tag &lt;chr&gt; | ensembl_gene_id &lt;chr&gt; |\n",
       "|---|---|---|---|---|---|---|---|---|---|---|---|---|---|---|---|---|\n",
       "| 157587 | chr1 | HAVANA | gene | 121087345 | 121097161 | . | + | . | ENSG00000198019.13 | protein_coding | FCGR1B   | 2 | HGNC:3614  | OTTHUMG00000040903.9 | NA        | ENSG00000198019 |\n",
       "| 158642 | chr1 | HAVANA | gene | 145241630 | 145242124 | . | - | . | ENSG00000256374.2  | protein_coding | PPIAL4D  | 2 | HGNC:33998 | OTTHUMG00000078265.3 | retrogene | ENSG00000256374 |\n",
       "| 167728 | chr1 | HAVANA | gene | 149583865 | 149584464 | . | + | . | ENSG00000263464.2  | protein_coding | PPIAL4C  | 2 | HGNC:33995 | OTTHUMG00000188675.1 | retrogene | ENSG00000263464 |\n",
       "| 167972 | chr1 | HAVANA | gene | 149842188 | 149842736 | . | - | . | ENSG00000203812.2  | protein_coding | H2AC18   | 2 | HGNC:4736  | OTTHUMG00000188678.1 | NA        | ENSG00000203812 |\n",
       "| 167990 | chr1 | HAVANA | gene | 149851061 | 149851624 | . | + | . | ENSG00000272196.2  | protein_coding | H2AC19   | 2 | HGNC:29668 | OTTHUMG00000012097.1 | NA        | ENSG00000272196 |\n",
       "| 177610 | chr1 | HAVANA | gene | 153437058 | 153439949 | . | - | . | ENSG00000197364.7  | protein_coding | S100A7L2 | 2 | HGNC:21655 | OTTHUMG00000013129.4 | NA        | ENSG00000197364 |\n",
       "\n"
      ],
      "text/plain": [
       "       seqname source feature start     end       score strand frame\n",
       "157587 chr1    HAVANA gene    121087345 121097161 .     +      .    \n",
       "158642 chr1    HAVANA gene    145241630 145242124 .     -      .    \n",
       "167728 chr1    HAVANA gene    149583865 149584464 .     +      .    \n",
       "167972 chr1    HAVANA gene    149842188 149842736 .     -      .    \n",
       "167990 chr1    HAVANA gene    149851061 149851624 .     +      .    \n",
       "177610 chr1    HAVANA gene    153437058 153439949 .     -      .    \n",
       "       gene_id            gene_type      gene_name level hgnc_id   \n",
       "157587 ENSG00000198019.13 protein_coding FCGR1B    2     HGNC:3614 \n",
       "158642 ENSG00000256374.2  protein_coding PPIAL4D   2     HGNC:33998\n",
       "167728 ENSG00000263464.2  protein_coding PPIAL4C   2     HGNC:33995\n",
       "167972 ENSG00000203812.2  protein_coding H2AC18    2     HGNC:4736 \n",
       "167990 ENSG00000272196.2  protein_coding H2AC19    2     HGNC:29668\n",
       "177610 ENSG00000197364.7  protein_coding S100A7L2  2     HGNC:21655\n",
       "       havana_gene          tag       ensembl_gene_id\n",
       "157587 OTTHUMG00000040903.9 NA        ENSG00000198019\n",
       "158642 OTTHUMG00000078265.3 retrogene ENSG00000256374\n",
       "167728 OTTHUMG00000188675.1 retrogene ENSG00000263464\n",
       "167972 OTTHUMG00000188678.1 NA        ENSG00000203812\n",
       "167990 OTTHUMG00000012097.1 NA        ENSG00000272196\n",
       "177610 OTTHUMG00000013129.4 NA        ENSG00000197364"
      ]
     },
     "metadata": {},
     "output_type": "display_data"
    }
   ],
   "source": [
    "df38only = df_38[df_38$ensembl_gene_id %in% genes38only,]\n",
    "head(df38only)"
   ]
  },
  {
   "cell_type": "code",
   "execution_count": 190,
   "id": "238f68ed",
   "metadata": {},
   "outputs": [
    {
     "data": {
      "text/plain": [
       "\n",
       " chr1 chr10 chr11 chr12 chr14 chr15 chr16 chr17 chr18 chr19  chr2 chr20 chr21 \n",
       "    9     3     4     1     1     2     2     2     4     2     1     1    16 \n",
       "chr22  chr3  chr4  chr5  chr6  chr7  chr9  chrX  chrY \n",
       "    3     2     1     3     7     6     5     2     1 "
      ]
     },
     "metadata": {},
     "output_type": "display_data"
    }
   ],
   "source": [
    "table(df38only$seqname)"
   ]
  },
  {
   "cell_type": "code",
   "execution_count": 191,
   "id": "ee5a80df",
   "metadata": {},
   "outputs": [
    {
     "data": {
      "text/plain": [
       "\n",
       "       ncRNA_host overlapping_locus         retrogene \n",
       "               10                25                 8 "
      ]
     },
     "metadata": {},
     "output_type": "display_data"
    }
   ],
   "source": [
    "table(df38only$tag)"
   ]
  },
  {
   "cell_type": "code",
   "execution_count": 192,
   "id": "83cacb25",
   "metadata": {},
   "outputs": [
    {
     "data": {
      "text/plain": [
       "\n",
       " 1  2 \n",
       " 7 71 "
      ]
     },
     "metadata": {},
     "output_type": "display_data"
    }
   ],
   "source": [
    "table(df38only$level)"
   ]
  },
  {
   "cell_type": "code",
   "execution_count": 200,
   "id": "236224f5",
   "metadata": {},
   "outputs": [
    {
     "data": {
      "text/html": [
       "<style>\n",
       ".list-inline {list-style: none; margin:0; padding: 0}\n",
       ".list-inline>li {display: inline-block}\n",
       ".list-inline>li:not(:last-child)::after {content: \"\\00b7\"; padding: 0 .5ex}\n",
       "</style>\n",
       "<ol class=list-inline><li>'FCGR1B'</li><li>'PPIAL4D'</li><li>'PPIAL4C'</li><li>'H2AC18'</li><li>'H2AC19'</li><li>'S100A7L2'</li><li>'RPS27AP5'</li><li>'RP11-434N15.2'</li><li>'MTRNR2L11'</li><li>'PDE11A'</li><li>'PRSS45P'</li><li>'MTRNR2L12'</li><li>'MTRNR2L13'</li><li>'CTB-31E20.1'</li><li>'FAM153B'</li><li>'RP11-826N14.7'</li><li>'KAAG1'</li><li>'XXbac-BPG32J3.20'</li><li>'LY6G6E'</li><li>'ADGRF2'</li><li>'VNN3'</li><li>'SOD2'</li><li>'TCP10L2'</li><li>'SPDYE11'</li><li>'RP11-286H14.4'</li><li>'MTRNR2L6'</li><li>'CTAGE4'</li><li>'CTAGE8'</li><li>'ZBED6CL'</li><li>'RP11-145E5.5'</li><li>'FAM95C'</li><li>'ANKRD20A2P'</li><li>'ANKRD20A4P'</li><li>'ANKRD20A3P'</li><li>'RP11-295P9.13'</li><li>'MTRNR2L7'</li><li>'MTRNR2L5'</li><li>'SLC22A18AS'</li><li>'MTRNR2L8'</li><li>'ZNF705E'</li><li>'C11orf45'</li><li>'CLECL1'</li><li>'HOMEZ'</li><li>'ST20'</li><li>'RP11-437B10.1'</li><li>'MTRNR2L4'</li><li>'RP11-666O2.7'</li><li>'MTRNR2L1'</li><li>'TIAF1'</li><li>'ELOA3D'</li><li>'ELOA3CP'</li><li>'ELOA3B'</li><li>'ELOA3'</li><li>'ZNF781'</li><li>'SIGLEC5'</li><li>'MTRNR2L3'</li><li>'CH507-9B2.2'</li><li>'CH507-9B2.1'</li><li>'GATD3B'</li><li>'CH507-9B2.4'</li><li>'CH507-9B2.5'</li><li>'CH507-9B2.9'</li><li>'CH507-42P11.1'</li><li>'SIK1B'</li><li>'CBSL'</li><li>'U2AF1L5'</li><li>'CRYAA2'</li><li>'SMIM11B'</li><li>'FAM243B'</li><li>'SMIM34B'</li><li>'KCNE1B'</li><li>'KB-218C10.1'</li><li>'USP41'</li><li>'GGT2'</li><li>'CH17-476P10.1'</li><li>'MTRNR2L10'</li><li>'CDR1'</li><li>'PRYP3'</li></ol>\n"
      ],
      "text/latex": [
       "\\begin{enumerate*}\n",
       "\\item 'FCGR1B'\n",
       "\\item 'PPIAL4D'\n",
       "\\item 'PPIAL4C'\n",
       "\\item 'H2AC18'\n",
       "\\item 'H2AC19'\n",
       "\\item 'S100A7L2'\n",
       "\\item 'RPS27AP5'\n",
       "\\item 'RP11-434N15.2'\n",
       "\\item 'MTRNR2L11'\n",
       "\\item 'PDE11A'\n",
       "\\item 'PRSS45P'\n",
       "\\item 'MTRNR2L12'\n",
       "\\item 'MTRNR2L13'\n",
       "\\item 'CTB-31E20.1'\n",
       "\\item 'FAM153B'\n",
       "\\item 'RP11-826N14.7'\n",
       "\\item 'KAAG1'\n",
       "\\item 'XXbac-BPG32J3.20'\n",
       "\\item 'LY6G6E'\n",
       "\\item 'ADGRF2'\n",
       "\\item 'VNN3'\n",
       "\\item 'SOD2'\n",
       "\\item 'TCP10L2'\n",
       "\\item 'SPDYE11'\n",
       "\\item 'RP11-286H14.4'\n",
       "\\item 'MTRNR2L6'\n",
       "\\item 'CTAGE4'\n",
       "\\item 'CTAGE8'\n",
       "\\item 'ZBED6CL'\n",
       "\\item 'RP11-145E5.5'\n",
       "\\item 'FAM95C'\n",
       "\\item 'ANKRD20A2P'\n",
       "\\item 'ANKRD20A4P'\n",
       "\\item 'ANKRD20A3P'\n",
       "\\item 'RP11-295P9.13'\n",
       "\\item 'MTRNR2L7'\n",
       "\\item 'MTRNR2L5'\n",
       "\\item 'SLC22A18AS'\n",
       "\\item 'MTRNR2L8'\n",
       "\\item 'ZNF705E'\n",
       "\\item 'C11orf45'\n",
       "\\item 'CLECL1'\n",
       "\\item 'HOMEZ'\n",
       "\\item 'ST20'\n",
       "\\item 'RP11-437B10.1'\n",
       "\\item 'MTRNR2L4'\n",
       "\\item 'RP11-666O2.7'\n",
       "\\item 'MTRNR2L1'\n",
       "\\item 'TIAF1'\n",
       "\\item 'ELOA3D'\n",
       "\\item 'ELOA3CP'\n",
       "\\item 'ELOA3B'\n",
       "\\item 'ELOA3'\n",
       "\\item 'ZNF781'\n",
       "\\item 'SIGLEC5'\n",
       "\\item 'MTRNR2L3'\n",
       "\\item 'CH507-9B2.2'\n",
       "\\item 'CH507-9B2.1'\n",
       "\\item 'GATD3B'\n",
       "\\item 'CH507-9B2.4'\n",
       "\\item 'CH507-9B2.5'\n",
       "\\item 'CH507-9B2.9'\n",
       "\\item 'CH507-42P11.1'\n",
       "\\item 'SIK1B'\n",
       "\\item 'CBSL'\n",
       "\\item 'U2AF1L5'\n",
       "\\item 'CRYAA2'\n",
       "\\item 'SMIM11B'\n",
       "\\item 'FAM243B'\n",
       "\\item 'SMIM34B'\n",
       "\\item 'KCNE1B'\n",
       "\\item 'KB-218C10.1'\n",
       "\\item 'USP41'\n",
       "\\item 'GGT2'\n",
       "\\item 'CH17-476P10.1'\n",
       "\\item 'MTRNR2L10'\n",
       "\\item 'CDR1'\n",
       "\\item 'PRYP3'\n",
       "\\end{enumerate*}\n"
      ],
      "text/markdown": [
       "1. 'FCGR1B'\n",
       "2. 'PPIAL4D'\n",
       "3. 'PPIAL4C'\n",
       "4. 'H2AC18'\n",
       "5. 'H2AC19'\n",
       "6. 'S100A7L2'\n",
       "7. 'RPS27AP5'\n",
       "8. 'RP11-434N15.2'\n",
       "9. 'MTRNR2L11'\n",
       "10. 'PDE11A'\n",
       "11. 'PRSS45P'\n",
       "12. 'MTRNR2L12'\n",
       "13. 'MTRNR2L13'\n",
       "14. 'CTB-31E20.1'\n",
       "15. 'FAM153B'\n",
       "16. 'RP11-826N14.7'\n",
       "17. 'KAAG1'\n",
       "18. 'XXbac-BPG32J3.20'\n",
       "19. 'LY6G6E'\n",
       "20. 'ADGRF2'\n",
       "21. 'VNN3'\n",
       "22. 'SOD2'\n",
       "23. 'TCP10L2'\n",
       "24. 'SPDYE11'\n",
       "25. 'RP11-286H14.4'\n",
       "26. 'MTRNR2L6'\n",
       "27. 'CTAGE4'\n",
       "28. 'CTAGE8'\n",
       "29. 'ZBED6CL'\n",
       "30. 'RP11-145E5.5'\n",
       "31. 'FAM95C'\n",
       "32. 'ANKRD20A2P'\n",
       "33. 'ANKRD20A4P'\n",
       "34. 'ANKRD20A3P'\n",
       "35. 'RP11-295P9.13'\n",
       "36. 'MTRNR2L7'\n",
       "37. 'MTRNR2L5'\n",
       "38. 'SLC22A18AS'\n",
       "39. 'MTRNR2L8'\n",
       "40. 'ZNF705E'\n",
       "41. 'C11orf45'\n",
       "42. 'CLECL1'\n",
       "43. 'HOMEZ'\n",
       "44. 'ST20'\n",
       "45. 'RP11-437B10.1'\n",
       "46. 'MTRNR2L4'\n",
       "47. 'RP11-666O2.7'\n",
       "48. 'MTRNR2L1'\n",
       "49. 'TIAF1'\n",
       "50. 'ELOA3D'\n",
       "51. 'ELOA3CP'\n",
       "52. 'ELOA3B'\n",
       "53. 'ELOA3'\n",
       "54. 'ZNF781'\n",
       "55. 'SIGLEC5'\n",
       "56. 'MTRNR2L3'\n",
       "57. 'CH507-9B2.2'\n",
       "58. 'CH507-9B2.1'\n",
       "59. 'GATD3B'\n",
       "60. 'CH507-9B2.4'\n",
       "61. 'CH507-9B2.5'\n",
       "62. 'CH507-9B2.9'\n",
       "63. 'CH507-42P11.1'\n",
       "64. 'SIK1B'\n",
       "65. 'CBSL'\n",
       "66. 'U2AF1L5'\n",
       "67. 'CRYAA2'\n",
       "68. 'SMIM11B'\n",
       "69. 'FAM243B'\n",
       "70. 'SMIM34B'\n",
       "71. 'KCNE1B'\n",
       "72. 'KB-218C10.1'\n",
       "73. 'USP41'\n",
       "74. 'GGT2'\n",
       "75. 'CH17-476P10.1'\n",
       "76. 'MTRNR2L10'\n",
       "77. 'CDR1'\n",
       "78. 'PRYP3'\n",
       "\n",
       "\n"
      ],
      "text/plain": [
       " [1] \"FCGR1B\"           \"PPIAL4D\"          \"PPIAL4C\"          \"H2AC18\"          \n",
       " [5] \"H2AC19\"           \"S100A7L2\"         \"RPS27AP5\"         \"RP11-434N15.2\"   \n",
       " [9] \"MTRNR2L11\"        \"PDE11A\"           \"PRSS45P\"          \"MTRNR2L12\"       \n",
       "[13] \"MTRNR2L13\"        \"CTB-31E20.1\"      \"FAM153B\"          \"RP11-826N14.7\"   \n",
       "[17] \"KAAG1\"            \"XXbac-BPG32J3.20\" \"LY6G6E\"           \"ADGRF2\"          \n",
       "[21] \"VNN3\"             \"SOD2\"             \"TCP10L2\"          \"SPDYE11\"         \n",
       "[25] \"RP11-286H14.4\"    \"MTRNR2L6\"         \"CTAGE4\"           \"CTAGE8\"          \n",
       "[29] \"ZBED6CL\"          \"RP11-145E5.5\"     \"FAM95C\"           \"ANKRD20A2P\"      \n",
       "[33] \"ANKRD20A4P\"       \"ANKRD20A3P\"       \"RP11-295P9.13\"    \"MTRNR2L7\"        \n",
       "[37] \"MTRNR2L5\"         \"SLC22A18AS\"       \"MTRNR2L8\"         \"ZNF705E\"         \n",
       "[41] \"C11orf45\"         \"CLECL1\"           \"HOMEZ\"            \"ST20\"            \n",
       "[45] \"RP11-437B10.1\"    \"MTRNR2L4\"         \"RP11-666O2.7\"     \"MTRNR2L1\"        \n",
       "[49] \"TIAF1\"            \"ELOA3D\"           \"ELOA3CP\"          \"ELOA3B\"          \n",
       "[53] \"ELOA3\"            \"ZNF781\"           \"SIGLEC5\"          \"MTRNR2L3\"        \n",
       "[57] \"CH507-9B2.2\"      \"CH507-9B2.1\"      \"GATD3B\"           \"CH507-9B2.4\"     \n",
       "[61] \"CH507-9B2.5\"      \"CH507-9B2.9\"      \"CH507-42P11.1\"    \"SIK1B\"           \n",
       "[65] \"CBSL\"             \"U2AF1L5\"          \"CRYAA2\"           \"SMIM11B\"         \n",
       "[69] \"FAM243B\"          \"SMIM34B\"          \"KCNE1B\"           \"KB-218C10.1\"     \n",
       "[73] \"USP41\"            \"GGT2\"             \"CH17-476P10.1\"    \"MTRNR2L10\"       \n",
       "[77] \"CDR1\"             \"PRYP3\"           "
      ]
     },
     "metadata": {},
     "output_type": "display_data"
    }
   ],
   "source": [
    "df38only$gene_name"
   ]
  },
  {
   "cell_type": "code",
   "execution_count": null,
   "id": "3d5d7357",
   "metadata": {},
   "outputs": [],
   "source": [
    "##### Genes that were not considered protein coding in 38 (only in 42): tot=153"
   ]
  },
  {
   "cell_type": "code",
   "execution_count": 193,
   "id": "c0419a81",
   "metadata": {},
   "outputs": [
    {
     "data": {
      "text/html": [
       "153"
      ],
      "text/latex": [
       "153"
      ],
      "text/markdown": [
       "153"
      ],
      "text/plain": [
       "[1] 153"
      ]
     },
     "metadata": {},
     "output_type": "display_data"
    },
    {
     "data": {
      "text/html": [
       "<table class=\"dataframe\">\n",
       "<caption>A data.frame: 6 × 17</caption>\n",
       "<thead>\n",
       "\t<tr><th></th><th scope=col>seqname</th><th scope=col>source</th><th scope=col>feature</th><th scope=col>start</th><th scope=col>end</th><th scope=col>score</th><th scope=col>strand</th><th scope=col>frame</th><th scope=col>gene_id</th><th scope=col>gene_type</th><th scope=col>gene_name</th><th scope=col>level</th><th scope=col>tag</th><th scope=col>hgnc_id</th><th scope=col>havana_gene</th><th scope=col>artif_dupl</th><th scope=col>ensembl_gene_id</th></tr>\n",
       "\t<tr><th></th><th scope=col>&lt;chr&gt;</th><th scope=col>&lt;chr&gt;</th><th scope=col>&lt;chr&gt;</th><th scope=col>&lt;int&gt;</th><th scope=col>&lt;int&gt;</th><th scope=col>&lt;chr&gt;</th><th scope=col>&lt;chr&gt;</th><th scope=col>&lt;chr&gt;</th><th scope=col>&lt;chr&gt;</th><th scope=col>&lt;chr&gt;</th><th scope=col>&lt;chr&gt;</th><th scope=col>&lt;chr&gt;</th><th scope=col>&lt;chr&gt;</th><th scope=col>&lt;chr&gt;</th><th scope=col>&lt;chr&gt;</th><th scope=col>&lt;chr&gt;</th><th scope=col>&lt;chr&gt;</th></tr>\n",
       "</thead>\n",
       "<tbody>\n",
       "\t<tr><th scope=row>22856</th><td>chr1</td><td>HAVANA</td><td>gene</td><td> 19265982</td><td> 19274194</td><td>.</td><td>-</td><td>.</td><td>ENSG00000211454.16</td><td>protein_coding</td><td>AKR7L          </td><td>2 </td><td>NA               </td><td>HGNC:24056</td><td>OTTHUMG00000002520.6</td><td>NA</td><td>ENSG00000211454</td></tr>\n",
       "\t<tr><th scope=row>25469</th><td>chr1</td><td>HAVANA</td><td>gene</td><td> 21547404</td><td> 21554002</td><td>.</td><td>+</td><td>.</td><td>ENSG00000289715.1 </td><td>protein_coding</td><td>ENSG00000289715</td><td>2 </td><td>overlapping_locus</td><td>NA        </td><td>NA                  </td><td>NA</td><td>ENSG00000289715</td></tr>\n",
       "\t<tr><th scope=row>26332</th><td>chr1</td><td>HAVANA</td><td>gene</td><td> 22025142</td><td> 22092943</td><td>.</td><td>+</td><td>.</td><td>ENSG00000289694.1 </td><td>protein_coding</td><td>ENSG00000289694</td><td>2 </td><td>overlapping_locus</td><td>NA        </td><td>NA                  </td><td>NA</td><td>ENSG00000289694</td></tr>\n",
       "\t<tr><th scope=row>27038</th><td>chr1</td><td>HAVANA</td><td>gene</td><td> 22636506</td><td> 22644067</td><td>.</td><td>+</td><td>.</td><td>ENSG00000289692.1 </td><td>protein_coding</td><td>ENSG00000289692</td><td>2 </td><td>overlapping_locus</td><td>NA        </td><td>NA                  </td><td>NA</td><td>ENSG00000289692</td></tr>\n",
       "\t<tr><th scope=row>37502</th><td>chr1</td><td>HAVANA</td><td>gene</td><td> 30576655</td><td> 30576825</td><td>.</td><td>-</td><td>.</td><td>ENSG00000289710.1 </td><td>protein_coding</td><td>ENSG00000289710</td><td>2;</td><td>NA               </td><td>NA        </td><td>NA                  </td><td>NA</td><td>ENSG00000289710</td></tr>\n",
       "\t<tr><th scope=row>103801</th><td>chr1</td><td>HAVANA</td><td>gene</td><td>120415035</td><td>120469676</td><td>.</td><td>+</td><td>.</td><td>ENSG00000270231.5 </td><td>protein_coding</td><td>NBPF8          </td><td>2 </td><td>NA               </td><td>HGNC:31990</td><td>OTTHUMG00000185013.3</td><td>NA</td><td>ENSG00000270231</td></tr>\n",
       "</tbody>\n",
       "</table>\n"
      ],
      "text/latex": [
       "A data.frame: 6 × 17\n",
       "\\begin{tabular}{r|lllllllllllllllll}\n",
       "  & seqname & source & feature & start & end & score & strand & frame & gene\\_id & gene\\_type & gene\\_name & level & tag & hgnc\\_id & havana\\_gene & artif\\_dupl & ensembl\\_gene\\_id\\\\\n",
       "  & <chr> & <chr> & <chr> & <int> & <int> & <chr> & <chr> & <chr> & <chr> & <chr> & <chr> & <chr> & <chr> & <chr> & <chr> & <chr> & <chr>\\\\\n",
       "\\hline\n",
       "\t22856 & chr1 & HAVANA & gene &  19265982 &  19274194 & . & - & . & ENSG00000211454.16 & protein\\_coding & AKR7L           & 2  & NA                & HGNC:24056 & OTTHUMG00000002520.6 & NA & ENSG00000211454\\\\\n",
       "\t25469 & chr1 & HAVANA & gene &  21547404 &  21554002 & . & + & . & ENSG00000289715.1  & protein\\_coding & ENSG00000289715 & 2  & overlapping\\_locus & NA         & NA                   & NA & ENSG00000289715\\\\\n",
       "\t26332 & chr1 & HAVANA & gene &  22025142 &  22092943 & . & + & . & ENSG00000289694.1  & protein\\_coding & ENSG00000289694 & 2  & overlapping\\_locus & NA         & NA                   & NA & ENSG00000289694\\\\\n",
       "\t27038 & chr1 & HAVANA & gene &  22636506 &  22644067 & . & + & . & ENSG00000289692.1  & protein\\_coding & ENSG00000289692 & 2  & overlapping\\_locus & NA         & NA                   & NA & ENSG00000289692\\\\\n",
       "\t37502 & chr1 & HAVANA & gene &  30576655 &  30576825 & . & - & . & ENSG00000289710.1  & protein\\_coding & ENSG00000289710 & 2; & NA                & NA         & NA                   & NA & ENSG00000289710\\\\\n",
       "\t103801 & chr1 & HAVANA & gene & 120415035 & 120469676 & . & + & . & ENSG00000270231.5  & protein\\_coding & NBPF8           & 2  & NA                & HGNC:31990 & OTTHUMG00000185013.3 & NA & ENSG00000270231\\\\\n",
       "\\end{tabular}\n"
      ],
      "text/markdown": [
       "\n",
       "A data.frame: 6 × 17\n",
       "\n",
       "| <!--/--> | seqname &lt;chr&gt; | source &lt;chr&gt; | feature &lt;chr&gt; | start &lt;int&gt; | end &lt;int&gt; | score &lt;chr&gt; | strand &lt;chr&gt; | frame &lt;chr&gt; | gene_id &lt;chr&gt; | gene_type &lt;chr&gt; | gene_name &lt;chr&gt; | level &lt;chr&gt; | tag &lt;chr&gt; | hgnc_id &lt;chr&gt; | havana_gene &lt;chr&gt; | artif_dupl &lt;chr&gt; | ensembl_gene_id &lt;chr&gt; |\n",
       "|---|---|---|---|---|---|---|---|---|---|---|---|---|---|---|---|---|---|\n",
       "| 22856 | chr1 | HAVANA | gene |  19265982 |  19274194 | . | - | . | ENSG00000211454.16 | protein_coding | AKR7L           | 2  | NA                | HGNC:24056 | OTTHUMG00000002520.6 | NA | ENSG00000211454 |\n",
       "| 25469 | chr1 | HAVANA | gene |  21547404 |  21554002 | . | + | . | ENSG00000289715.1  | protein_coding | ENSG00000289715 | 2  | overlapping_locus | NA         | NA                   | NA | ENSG00000289715 |\n",
       "| 26332 | chr1 | HAVANA | gene |  22025142 |  22092943 | . | + | . | ENSG00000289694.1  | protein_coding | ENSG00000289694 | 2  | overlapping_locus | NA         | NA                   | NA | ENSG00000289694 |\n",
       "| 27038 | chr1 | HAVANA | gene |  22636506 |  22644067 | . | + | . | ENSG00000289692.1  | protein_coding | ENSG00000289692 | 2  | overlapping_locus | NA         | NA                   | NA | ENSG00000289692 |\n",
       "| 37502 | chr1 | HAVANA | gene |  30576655 |  30576825 | . | - | . | ENSG00000289710.1  | protein_coding | ENSG00000289710 | 2; | NA                | NA         | NA                   | NA | ENSG00000289710 |\n",
       "| 103801 | chr1 | HAVANA | gene | 120415035 | 120469676 | . | + | . | ENSG00000270231.5  | protein_coding | NBPF8           | 2  | NA                | HGNC:31990 | OTTHUMG00000185013.3 | NA | ENSG00000270231 |\n",
       "\n"
      ],
      "text/plain": [
       "       seqname source feature start     end       score strand frame\n",
       "22856  chr1    HAVANA gene     19265982  19274194 .     -      .    \n",
       "25469  chr1    HAVANA gene     21547404  21554002 .     +      .    \n",
       "26332  chr1    HAVANA gene     22025142  22092943 .     +      .    \n",
       "27038  chr1    HAVANA gene     22636506  22644067 .     +      .    \n",
       "37502  chr1    HAVANA gene     30576655  30576825 .     -      .    \n",
       "103801 chr1    HAVANA gene    120415035 120469676 .     +      .    \n",
       "       gene_id            gene_type      gene_name       level\n",
       "22856  ENSG00000211454.16 protein_coding AKR7L           2    \n",
       "25469  ENSG00000289715.1  protein_coding ENSG00000289715 2    \n",
       "26332  ENSG00000289694.1  protein_coding ENSG00000289694 2    \n",
       "27038  ENSG00000289692.1  protein_coding ENSG00000289692 2    \n",
       "37502  ENSG00000289710.1  protein_coding ENSG00000289710 2;   \n",
       "103801 ENSG00000270231.5  protein_coding NBPF8           2    \n",
       "       tag               hgnc_id    havana_gene          artif_dupl\n",
       "22856  NA                HGNC:24056 OTTHUMG00000002520.6 NA        \n",
       "25469  overlapping_locus NA         NA                   NA        \n",
       "26332  overlapping_locus NA         NA                   NA        \n",
       "27038  overlapping_locus NA         NA                   NA        \n",
       "37502  NA                NA         NA                   NA        \n",
       "103801 NA                HGNC:31990 OTTHUMG00000185013.3 NA        \n",
       "       ensembl_gene_id\n",
       "22856  ENSG00000211454\n",
       "25469  ENSG00000289715\n",
       "26332  ENSG00000289694\n",
       "27038  ENSG00000289692\n",
       "37502  ENSG00000289710\n",
       "103801 ENSG00000270231"
      ]
     },
     "metadata": {},
     "output_type": "display_data"
    }
   ],
   "source": [
    "df42only = df_42[df_42$ensembl_gene_id %in% genes42only,]\n",
    "nrow(df42only)\n",
    "head(df42only)"
   ]
  },
  {
   "cell_type": "code",
   "execution_count": 194,
   "id": "35e407d7",
   "metadata": {},
   "outputs": [
    {
     "data": {
      "text/plain": [
       "\n",
       " chr1 chr10 chr11 chr12 chr14 chr15 chr16 chr17 chr18 chr19  chr2 chr20 chr22 \n",
       "   21     6    13     4     6     6     6     6     1     8     4     2     6 \n",
       " chr3  chr4  chr5  chr6  chr7  chr8  chr9  chrX \n",
       "    8     6     2    10    17    13     4     4 "
      ]
     },
     "metadata": {},
     "output_type": "display_data"
    }
   ],
   "source": [
    "table(df42only$seqname)"
   ]
  },
  {
   "cell_type": "code",
   "execution_count": 195,
   "id": "da7479e3",
   "metadata": {},
   "outputs": [
    {
     "data": {
      "text/plain": [
       "\n",
       "       ncRNA_host overlapping_locus  readthrough_gene         retrogene \n",
       "                9                61                 5                 7 "
      ]
     },
     "metadata": {},
     "output_type": "display_data"
    }
   ],
   "source": [
    "table(df42only$tag)"
   ]
  },
  {
   "cell_type": "code",
   "execution_count": 198,
   "id": "70f54a20",
   "metadata": {},
   "outputs": [
    {
     "data": {
      "text/plain": [
       "\n",
       "  1   2 \n",
       "  3 150 "
      ]
     },
     "metadata": {},
     "output_type": "display_data"
    }
   ],
   "source": [
    "table(df42only$level)"
   ]
  },
  {
   "cell_type": "code",
   "execution_count": 199,
   "id": "3fa6e63d",
   "metadata": {},
   "outputs": [
    {
     "data": {
      "text/html": [
       "<style>\n",
       ".list-inline {list-style: none; margin:0; padding: 0}\n",
       ".list-inline>li {display: inline-block}\n",
       ".list-inline>li:not(:last-child)::after {content: \"\\00b7\"; padding: 0 .5ex}\n",
       "</style>\n",
       "<ol class=list-inline><li>'AKR7L'</li><li>'ENSG00000289715'</li><li>'ENSG00000289694'</li><li>'ENSG00000289692'</li><li>'ENSG00000289710'</li><li>'NBPF8'</li><li>'PPIAL4D'</li><li>'ENSG00000289565'</li><li>'PPIAL4C'</li><li>'H2AC18'</li><li>'H2AC19'</li><li>'PYDC5'</li><li>'OR10J3'</li><li>'OR10J4'</li><li>'ENSG00000289768'</li><li>'FCGR2C'</li><li>'ENSG00000289697'</li><li>'ENSG00000289700'</li><li>'VN1R5'</li><li>'OR9H1P'</li><li>'OR2T7'</li><li>'NAT8B'</li><li>'ENSG00000289685'</li><li>'ENSG00000289490'</li><li>'SCYGR10'</li><li>'ENSG00000289763'</li><li>'ENSG00000289809'</li><li>'ENSG00000290317'</li><li>'ENSG00000290315'</li><li>'ENSG00000290318'</li><li>'OR5AC1'</li><li>'OR5H8'</li><li>'ENSG00000289747'</li><li>'ENSG00000290263'</li><li>'ENSG00000290180'</li><li>'GBA3'</li><li>'ENSG00000289761'</li><li>'ENSG00000288796'</li><li>'ENSG00000290316'</li><li>'ENSG00000289791'</li><li>'ENSG00000273345'</li><li>'ENSG00000290217'</li><li>'OR2B8P'</li><li>'ZKSCAN8P1'</li><li>'OR12D1'</li><li>'HCG22'</li><li>'ENSG00000289282'</li><li>'ENSG00000290147'</li><li>'ENSG00000214558'</li><li>'SOD2'</li><li>'ENSG00000272980'</li><li>'ENSG00000290149'</li><li>'TARP'</li><li>'SPDYE11'</li><li>'SPDYE10'</li><li>'ENSG00000289346'</li><li>'SPDYE12'</li><li>'SPDYE18'</li><li>'ENSG00000289027'</li><li>'ENSG00000289690'</li><li>'ENSG00000289760'</li><li>'ENSG00000289360'</li><li>'ENSG00000288914'</li><li>'OR9A1P'</li><li>'OR10AC1'</li><li>'CTAGE4'</li><li>'CTAGE8'</li><li>'ENSG00000283128'</li><li>'FAM90A15P'</li><li>'FAM90A3P'</li><li>'FAM90A13P'</li><li>'FAM90A5P'</li><li>'FAM90A20P'</li><li>'FAM90A11P'</li><li>'FAM90A24P'</li><li>'FAM90A12P'</li><li>'POTEA'</li><li>'ENSG00000289653'</li><li>'ENSG00000289767'</li><li>'MROH5'</li><li>'ENSG00000290230'</li><li>'OR13C7'</li><li>'SPATA31C2'</li><li>'ENSG00000288841'</li><li>'ENSG00000289701'</li><li>'PTCHD3'</li><li>'ENSG00000289325'</li><li>'ENSG00000289258'</li><li>'ENSG00000289051'</li><li>'ENSG00000289758'</li><li>'PNLIPRP2'</li><li>'OR52E1'</li><li>'OR52P1'</li><li>'OR4C45'</li><li>'OR4A8'</li><li>'OR8J2'</li><li>'OR5AL1'</li><li>'OR5G3'</li><li>'OR5AK3P'</li><li>'XNDC1N-ZNF705EP-ALG1L9P'</li><li>'CASP12'</li><li>'CARD16'</li><li>'OR8G3P'</li><li>'OR8G2P'</li><li>'ENSG00000290146'</li><li>'ENSG00000289766'</li><li>'AK4P3'</li><li>'ENSG00000289695'</li><li>'OR4K3'</li><li>'OR4Q2'</li><li>'OR11H7'</li><li>'HOMEZ'</li><li>'ENSG00000289503'</li><li>'SERPINA2'</li><li>'ENSG00000273756'</li><li>'GOLGA6L24P'</li><li>'GOLGA6L25P'</li><li>'ARHGAP11A-SCG5'</li><li>'ENSG00000289025'</li><li>'NOX5'</li><li>'ENSG00000289722'</li><li>'ENSG00000289281'</li><li>'ENSG00000290183'</li><li>'ENSG00000289491'</li><li>'ENSG00000284209'</li><li>'PKD1L2'</li><li>'CCDC92B'</li><li>'OR1P1'</li><li>'H2BN1'</li><li>'ENSG00000288894'</li><li>'CD300H'</li><li>'ENSG00000289764'</li><li>'ENSG00000289724'</li><li>'ENSG00000289762'</li><li>'RPSAP58'</li><li>'ENSG00000291239'</li><li>'IFNL4'</li><li>'TPRX2'</li><li>'SIGLEC16'</li><li>'FAM90A27P'</li><li>'KIR2DS4'</li><li>'ENSG00000289720'</li><li>'HMGB1P1'</li><li>'FAM246C'</li><li>'TUBA3FP'</li><li>'ENSG00000291240'</li><li>'GSTT2'</li><li>'CYP2D7'</li><li>'ENSG00000289517'</li><li>'H2AL1Q'</li><li>'ENSG00000290184'</li><li>'RHOXF1P3'</li><li>'UBE2NL'</li></ol>\n"
      ],
      "text/latex": [
       "\\begin{enumerate*}\n",
       "\\item 'AKR7L'\n",
       "\\item 'ENSG00000289715'\n",
       "\\item 'ENSG00000289694'\n",
       "\\item 'ENSG00000289692'\n",
       "\\item 'ENSG00000289710'\n",
       "\\item 'NBPF8'\n",
       "\\item 'PPIAL4D'\n",
       "\\item 'ENSG00000289565'\n",
       "\\item 'PPIAL4C'\n",
       "\\item 'H2AC18'\n",
       "\\item 'H2AC19'\n",
       "\\item 'PYDC5'\n",
       "\\item 'OR10J3'\n",
       "\\item 'OR10J4'\n",
       "\\item 'ENSG00000289768'\n",
       "\\item 'FCGR2C'\n",
       "\\item 'ENSG00000289697'\n",
       "\\item 'ENSG00000289700'\n",
       "\\item 'VN1R5'\n",
       "\\item 'OR9H1P'\n",
       "\\item 'OR2T7'\n",
       "\\item 'NAT8B'\n",
       "\\item 'ENSG00000289685'\n",
       "\\item 'ENSG00000289490'\n",
       "\\item 'SCYGR10'\n",
       "\\item 'ENSG00000289763'\n",
       "\\item 'ENSG00000289809'\n",
       "\\item 'ENSG00000290317'\n",
       "\\item 'ENSG00000290315'\n",
       "\\item 'ENSG00000290318'\n",
       "\\item 'OR5AC1'\n",
       "\\item 'OR5H8'\n",
       "\\item 'ENSG00000289747'\n",
       "\\item 'ENSG00000290263'\n",
       "\\item 'ENSG00000290180'\n",
       "\\item 'GBA3'\n",
       "\\item 'ENSG00000289761'\n",
       "\\item 'ENSG00000288796'\n",
       "\\item 'ENSG00000290316'\n",
       "\\item 'ENSG00000289791'\n",
       "\\item 'ENSG00000273345'\n",
       "\\item 'ENSG00000290217'\n",
       "\\item 'OR2B8P'\n",
       "\\item 'ZKSCAN8P1'\n",
       "\\item 'OR12D1'\n",
       "\\item 'HCG22'\n",
       "\\item 'ENSG00000289282'\n",
       "\\item 'ENSG00000290147'\n",
       "\\item 'ENSG00000214558'\n",
       "\\item 'SOD2'\n",
       "\\item 'ENSG00000272980'\n",
       "\\item 'ENSG00000290149'\n",
       "\\item 'TARP'\n",
       "\\item 'SPDYE11'\n",
       "\\item 'SPDYE10'\n",
       "\\item 'ENSG00000289346'\n",
       "\\item 'SPDYE12'\n",
       "\\item 'SPDYE18'\n",
       "\\item 'ENSG00000289027'\n",
       "\\item 'ENSG00000289690'\n",
       "\\item 'ENSG00000289760'\n",
       "\\item 'ENSG00000289360'\n",
       "\\item 'ENSG00000288914'\n",
       "\\item 'OR9A1P'\n",
       "\\item 'OR10AC1'\n",
       "\\item 'CTAGE4'\n",
       "\\item 'CTAGE8'\n",
       "\\item 'ENSG00000283128'\n",
       "\\item 'FAM90A15P'\n",
       "\\item 'FAM90A3P'\n",
       "\\item 'FAM90A13P'\n",
       "\\item 'FAM90A5P'\n",
       "\\item 'FAM90A20P'\n",
       "\\item 'FAM90A11P'\n",
       "\\item 'FAM90A24P'\n",
       "\\item 'FAM90A12P'\n",
       "\\item 'POTEA'\n",
       "\\item 'ENSG00000289653'\n",
       "\\item 'ENSG00000289767'\n",
       "\\item 'MROH5'\n",
       "\\item 'ENSG00000290230'\n",
       "\\item 'OR13C7'\n",
       "\\item 'SPATA31C2'\n",
       "\\item 'ENSG00000288841'\n",
       "\\item 'ENSG00000289701'\n",
       "\\item 'PTCHD3'\n",
       "\\item 'ENSG00000289325'\n",
       "\\item 'ENSG00000289258'\n",
       "\\item 'ENSG00000289051'\n",
       "\\item 'ENSG00000289758'\n",
       "\\item 'PNLIPRP2'\n",
       "\\item 'OR52E1'\n",
       "\\item 'OR52P1'\n",
       "\\item 'OR4C45'\n",
       "\\item 'OR4A8'\n",
       "\\item 'OR8J2'\n",
       "\\item 'OR5AL1'\n",
       "\\item 'OR5G3'\n",
       "\\item 'OR5AK3P'\n",
       "\\item 'XNDC1N-ZNF705EP-ALG1L9P'\n",
       "\\item 'CASP12'\n",
       "\\item 'CARD16'\n",
       "\\item 'OR8G3P'\n",
       "\\item 'OR8G2P'\n",
       "\\item 'ENSG00000290146'\n",
       "\\item 'ENSG00000289766'\n",
       "\\item 'AK4P3'\n",
       "\\item 'ENSG00000289695'\n",
       "\\item 'OR4K3'\n",
       "\\item 'OR4Q2'\n",
       "\\item 'OR11H7'\n",
       "\\item 'HOMEZ'\n",
       "\\item 'ENSG00000289503'\n",
       "\\item 'SERPINA2'\n",
       "\\item 'ENSG00000273756'\n",
       "\\item 'GOLGA6L24P'\n",
       "\\item 'GOLGA6L25P'\n",
       "\\item 'ARHGAP11A-SCG5'\n",
       "\\item 'ENSG00000289025'\n",
       "\\item 'NOX5'\n",
       "\\item 'ENSG00000289722'\n",
       "\\item 'ENSG00000289281'\n",
       "\\item 'ENSG00000290183'\n",
       "\\item 'ENSG00000289491'\n",
       "\\item 'ENSG00000284209'\n",
       "\\item 'PKD1L2'\n",
       "\\item 'CCDC92B'\n",
       "\\item 'OR1P1'\n",
       "\\item 'H2BN1'\n",
       "\\item 'ENSG00000288894'\n",
       "\\item 'CD300H'\n",
       "\\item 'ENSG00000289764'\n",
       "\\item 'ENSG00000289724'\n",
       "\\item 'ENSG00000289762'\n",
       "\\item 'RPSAP58'\n",
       "\\item 'ENSG00000291239'\n",
       "\\item 'IFNL4'\n",
       "\\item 'TPRX2'\n",
       "\\item 'SIGLEC16'\n",
       "\\item 'FAM90A27P'\n",
       "\\item 'KIR2DS4'\n",
       "\\item 'ENSG00000289720'\n",
       "\\item 'HMGB1P1'\n",
       "\\item 'FAM246C'\n",
       "\\item 'TUBA3FP'\n",
       "\\item 'ENSG00000291240'\n",
       "\\item 'GSTT2'\n",
       "\\item 'CYP2D7'\n",
       "\\item 'ENSG00000289517'\n",
       "\\item 'H2AL1Q'\n",
       "\\item 'ENSG00000290184'\n",
       "\\item 'RHOXF1P3'\n",
       "\\item 'UBE2NL'\n",
       "\\end{enumerate*}\n"
      ],
      "text/markdown": [
       "1. 'AKR7L'\n",
       "2. 'ENSG00000289715'\n",
       "3. 'ENSG00000289694'\n",
       "4. 'ENSG00000289692'\n",
       "5. 'ENSG00000289710'\n",
       "6. 'NBPF8'\n",
       "7. 'PPIAL4D'\n",
       "8. 'ENSG00000289565'\n",
       "9. 'PPIAL4C'\n",
       "10. 'H2AC18'\n",
       "11. 'H2AC19'\n",
       "12. 'PYDC5'\n",
       "13. 'OR10J3'\n",
       "14. 'OR10J4'\n",
       "15. 'ENSG00000289768'\n",
       "16. 'FCGR2C'\n",
       "17. 'ENSG00000289697'\n",
       "18. 'ENSG00000289700'\n",
       "19. 'VN1R5'\n",
       "20. 'OR9H1P'\n",
       "21. 'OR2T7'\n",
       "22. 'NAT8B'\n",
       "23. 'ENSG00000289685'\n",
       "24. 'ENSG00000289490'\n",
       "25. 'SCYGR10'\n",
       "26. 'ENSG00000289763'\n",
       "27. 'ENSG00000289809'\n",
       "28. 'ENSG00000290317'\n",
       "29. 'ENSG00000290315'\n",
       "30. 'ENSG00000290318'\n",
       "31. 'OR5AC1'\n",
       "32. 'OR5H8'\n",
       "33. 'ENSG00000289747'\n",
       "34. 'ENSG00000290263'\n",
       "35. 'ENSG00000290180'\n",
       "36. 'GBA3'\n",
       "37. 'ENSG00000289761'\n",
       "38. 'ENSG00000288796'\n",
       "39. 'ENSG00000290316'\n",
       "40. 'ENSG00000289791'\n",
       "41. 'ENSG00000273345'\n",
       "42. 'ENSG00000290217'\n",
       "43. 'OR2B8P'\n",
       "44. 'ZKSCAN8P1'\n",
       "45. 'OR12D1'\n",
       "46. 'HCG22'\n",
       "47. 'ENSG00000289282'\n",
       "48. 'ENSG00000290147'\n",
       "49. 'ENSG00000214558'\n",
       "50. 'SOD2'\n",
       "51. 'ENSG00000272980'\n",
       "52. 'ENSG00000290149'\n",
       "53. 'TARP'\n",
       "54. 'SPDYE11'\n",
       "55. 'SPDYE10'\n",
       "56. 'ENSG00000289346'\n",
       "57. 'SPDYE12'\n",
       "58. 'SPDYE18'\n",
       "59. 'ENSG00000289027'\n",
       "60. 'ENSG00000289690'\n",
       "61. 'ENSG00000289760'\n",
       "62. 'ENSG00000289360'\n",
       "63. 'ENSG00000288914'\n",
       "64. 'OR9A1P'\n",
       "65. 'OR10AC1'\n",
       "66. 'CTAGE4'\n",
       "67. 'CTAGE8'\n",
       "68. 'ENSG00000283128'\n",
       "69. 'FAM90A15P'\n",
       "70. 'FAM90A3P'\n",
       "71. 'FAM90A13P'\n",
       "72. 'FAM90A5P'\n",
       "73. 'FAM90A20P'\n",
       "74. 'FAM90A11P'\n",
       "75. 'FAM90A24P'\n",
       "76. 'FAM90A12P'\n",
       "77. 'POTEA'\n",
       "78. 'ENSG00000289653'\n",
       "79. 'ENSG00000289767'\n",
       "80. 'MROH5'\n",
       "81. 'ENSG00000290230'\n",
       "82. 'OR13C7'\n",
       "83. 'SPATA31C2'\n",
       "84. 'ENSG00000288841'\n",
       "85. 'ENSG00000289701'\n",
       "86. 'PTCHD3'\n",
       "87. 'ENSG00000289325'\n",
       "88. 'ENSG00000289258'\n",
       "89. 'ENSG00000289051'\n",
       "90. 'ENSG00000289758'\n",
       "91. 'PNLIPRP2'\n",
       "92. 'OR52E1'\n",
       "93. 'OR52P1'\n",
       "94. 'OR4C45'\n",
       "95. 'OR4A8'\n",
       "96. 'OR8J2'\n",
       "97. 'OR5AL1'\n",
       "98. 'OR5G3'\n",
       "99. 'OR5AK3P'\n",
       "100. 'XNDC1N-ZNF705EP-ALG1L9P'\n",
       "101. 'CASP12'\n",
       "102. 'CARD16'\n",
       "103. 'OR8G3P'\n",
       "104. 'OR8G2P'\n",
       "105. 'ENSG00000290146'\n",
       "106. 'ENSG00000289766'\n",
       "107. 'AK4P3'\n",
       "108. 'ENSG00000289695'\n",
       "109. 'OR4K3'\n",
       "110. 'OR4Q2'\n",
       "111. 'OR11H7'\n",
       "112. 'HOMEZ'\n",
       "113. 'ENSG00000289503'\n",
       "114. 'SERPINA2'\n",
       "115. 'ENSG00000273756'\n",
       "116. 'GOLGA6L24P'\n",
       "117. 'GOLGA6L25P'\n",
       "118. 'ARHGAP11A-SCG5'\n",
       "119. 'ENSG00000289025'\n",
       "120. 'NOX5'\n",
       "121. 'ENSG00000289722'\n",
       "122. 'ENSG00000289281'\n",
       "123. 'ENSG00000290183'\n",
       "124. 'ENSG00000289491'\n",
       "125. 'ENSG00000284209'\n",
       "126. 'PKD1L2'\n",
       "127. 'CCDC92B'\n",
       "128. 'OR1P1'\n",
       "129. 'H2BN1'\n",
       "130. 'ENSG00000288894'\n",
       "131. 'CD300H'\n",
       "132. 'ENSG00000289764'\n",
       "133. 'ENSG00000289724'\n",
       "134. 'ENSG00000289762'\n",
       "135. 'RPSAP58'\n",
       "136. 'ENSG00000291239'\n",
       "137. 'IFNL4'\n",
       "138. 'TPRX2'\n",
       "139. 'SIGLEC16'\n",
       "140. 'FAM90A27P'\n",
       "141. 'KIR2DS4'\n",
       "142. 'ENSG00000289720'\n",
       "143. 'HMGB1P1'\n",
       "144. 'FAM246C'\n",
       "145. 'TUBA3FP'\n",
       "146. 'ENSG00000291240'\n",
       "147. 'GSTT2'\n",
       "148. 'CYP2D7'\n",
       "149. 'ENSG00000289517'\n",
       "150. 'H2AL1Q'\n",
       "151. 'ENSG00000290184'\n",
       "152. 'RHOXF1P3'\n",
       "153. 'UBE2NL'\n",
       "\n",
       "\n"
      ],
      "text/plain": [
       "  [1] \"AKR7L\"                   \"ENSG00000289715\"        \n",
       "  [3] \"ENSG00000289694\"         \"ENSG00000289692\"        \n",
       "  [5] \"ENSG00000289710\"         \"NBPF8\"                  \n",
       "  [7] \"PPIAL4D\"                 \"ENSG00000289565\"        \n",
       "  [9] \"PPIAL4C\"                 \"H2AC18\"                 \n",
       " [11] \"H2AC19\"                  \"PYDC5\"                  \n",
       " [13] \"OR10J3\"                  \"OR10J4\"                 \n",
       " [15] \"ENSG00000289768\"         \"FCGR2C\"                 \n",
       " [17] \"ENSG00000289697\"         \"ENSG00000289700\"        \n",
       " [19] \"VN1R5\"                   \"OR9H1P\"                 \n",
       " [21] \"OR2T7\"                   \"NAT8B\"                  \n",
       " [23] \"ENSG00000289685\"         \"ENSG00000289490\"        \n",
       " [25] \"SCYGR10\"                 \"ENSG00000289763\"        \n",
       " [27] \"ENSG00000289809\"         \"ENSG00000290317\"        \n",
       " [29] \"ENSG00000290315\"         \"ENSG00000290318\"        \n",
       " [31] \"OR5AC1\"                  \"OR5H8\"                  \n",
       " [33] \"ENSG00000289747\"         \"ENSG00000290263\"        \n",
       " [35] \"ENSG00000290180\"         \"GBA3\"                   \n",
       " [37] \"ENSG00000289761\"         \"ENSG00000288796\"        \n",
       " [39] \"ENSG00000290316\"         \"ENSG00000289791\"        \n",
       " [41] \"ENSG00000273345\"         \"ENSG00000290217\"        \n",
       " [43] \"OR2B8P\"                  \"ZKSCAN8P1\"              \n",
       " [45] \"OR12D1\"                  \"HCG22\"                  \n",
       " [47] \"ENSG00000289282\"         \"ENSG00000290147\"        \n",
       " [49] \"ENSG00000214558\"         \"SOD2\"                   \n",
       " [51] \"ENSG00000272980\"         \"ENSG00000290149\"        \n",
       " [53] \"TARP\"                    \"SPDYE11\"                \n",
       " [55] \"SPDYE10\"                 \"ENSG00000289346\"        \n",
       " [57] \"SPDYE12\"                 \"SPDYE18\"                \n",
       " [59] \"ENSG00000289027\"         \"ENSG00000289690\"        \n",
       " [61] \"ENSG00000289760\"         \"ENSG00000289360\"        \n",
       " [63] \"ENSG00000288914\"         \"OR9A1P\"                 \n",
       " [65] \"OR10AC1\"                 \"CTAGE4\"                 \n",
       " [67] \"CTAGE8\"                  \"ENSG00000283128\"        \n",
       " [69] \"FAM90A15P\"               \"FAM90A3P\"               \n",
       " [71] \"FAM90A13P\"               \"FAM90A5P\"               \n",
       " [73] \"FAM90A20P\"               \"FAM90A11P\"              \n",
       " [75] \"FAM90A24P\"               \"FAM90A12P\"              \n",
       " [77] \"POTEA\"                   \"ENSG00000289653\"        \n",
       " [79] \"ENSG00000289767\"         \"MROH5\"                  \n",
       " [81] \"ENSG00000290230\"         \"OR13C7\"                 \n",
       " [83] \"SPATA31C2\"               \"ENSG00000288841\"        \n",
       " [85] \"ENSG00000289701\"         \"PTCHD3\"                 \n",
       " [87] \"ENSG00000289325\"         \"ENSG00000289258\"        \n",
       " [89] \"ENSG00000289051\"         \"ENSG00000289758\"        \n",
       " [91] \"PNLIPRP2\"                \"OR52E1\"                 \n",
       " [93] \"OR52P1\"                  \"OR4C45\"                 \n",
       " [95] \"OR4A8\"                   \"OR8J2\"                  \n",
       " [97] \"OR5AL1\"                  \"OR5G3\"                  \n",
       " [99] \"OR5AK3P\"                 \"XNDC1N-ZNF705EP-ALG1L9P\"\n",
       "[101] \"CASP12\"                  \"CARD16\"                 \n",
       "[103] \"OR8G3P\"                  \"OR8G2P\"                 \n",
       "[105] \"ENSG00000290146\"         \"ENSG00000289766\"        \n",
       "[107] \"AK4P3\"                   \"ENSG00000289695\"        \n",
       "[109] \"OR4K3\"                   \"OR4Q2\"                  \n",
       "[111] \"OR11H7\"                  \"HOMEZ\"                  \n",
       "[113] \"ENSG00000289503\"         \"SERPINA2\"               \n",
       "[115] \"ENSG00000273756\"         \"GOLGA6L24P\"             \n",
       "[117] \"GOLGA6L25P\"              \"ARHGAP11A-SCG5\"         \n",
       "[119] \"ENSG00000289025\"         \"NOX5\"                   \n",
       "[121] \"ENSG00000289722\"         \"ENSG00000289281\"        \n",
       "[123] \"ENSG00000290183\"         \"ENSG00000289491\"        \n",
       "[125] \"ENSG00000284209\"         \"PKD1L2\"                 \n",
       "[127] \"CCDC92B\"                 \"OR1P1\"                  \n",
       "[129] \"H2BN1\"                   \"ENSG00000288894\"        \n",
       "[131] \"CD300H\"                  \"ENSG00000289764\"        \n",
       "[133] \"ENSG00000289724\"         \"ENSG00000289762\"        \n",
       "[135] \"RPSAP58\"                 \"ENSG00000291239\"        \n",
       "[137] \"IFNL4\"                   \"TPRX2\"                  \n",
       "[139] \"SIGLEC16\"                \"FAM90A27P\"              \n",
       "[141] \"KIR2DS4\"                 \"ENSG00000289720\"        \n",
       "[143] \"HMGB1P1\"                 \"FAM246C\"                \n",
       "[145] \"TUBA3FP\"                 \"ENSG00000291240\"        \n",
       "[147] \"GSTT2\"                   \"CYP2D7\"                 \n",
       "[149] \"ENSG00000289517\"         \"H2AL1Q\"                 \n",
       "[151] \"ENSG00000290184\"         \"RHOXF1P3\"               \n",
       "[153] \"UBE2NL\"                 "
      ]
     },
     "metadata": {},
     "output_type": "display_data"
    }
   ],
   "source": [
    "df42only$gene_name"
   ]
  },
  {
   "cell_type": "code",
   "execution_count": null,
   "id": "41baed99",
   "metadata": {},
   "outputs": [],
   "source": []
  },
  {
   "cell_type": "code",
   "execution_count": null,
   "id": "de59be4c",
   "metadata": {},
   "outputs": [],
   "source": []
  },
  {
   "cell_type": "code",
   "execution_count": null,
   "id": "9911d4cb",
   "metadata": {},
   "outputs": [],
   "source": []
  }
 ],
 "metadata": {
  "kernelspec": {
   "display_name": "Single Cell Notebook (R 4.1.2)",
   "language": "R",
   "name": "singlecell"
  },
  "language_info": {
   "codemirror_mode": "r",
   "file_extension": ".r",
   "mimetype": "text/x-r-source",
   "name": "R",
   "pygments_lexer": "r",
   "version": "4.1.2"
  }
 },
 "nbformat": 4,
 "nbformat_minor": 5
}
