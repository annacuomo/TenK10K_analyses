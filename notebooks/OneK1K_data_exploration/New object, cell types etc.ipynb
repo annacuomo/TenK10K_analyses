{
 "cells": [
  {
   "cell_type": "code",
   "execution_count": 1,
   "id": "617736fb",
   "metadata": {},
   "outputs": [],
   "source": [
    "#### Sara's files\n",
    "mydir = \"/share/ScratchGeneral/anncuo/OneK1K/Saras_files/\""
   ]
  },
  {
   "cell_type": "code",
   "execution_count": 2,
   "id": "8468bcc9",
   "metadata": {},
   "outputs": [],
   "source": [
    "in_seurat_file = paste0(mydir,\"cell_type.RDS\")\n",
    "in_indiv_phen_file = paste0(mydir,\"phen.RDS\")\n",
    "in_meta_file = paste0(mydir,\"metadata.Rdata\")"
   ]
  },
  {
   "cell_type": "code",
   "execution_count": 4,
   "id": "76342231",
   "metadata": {},
   "outputs": [
    {
     "name": "stderr",
     "output_type": "stream",
     "text": [
      "Loading required package: Seurat\n",
      "\n",
      "Attaching SeuratObject\n",
      "\n"
     ]
    }
   ],
   "source": [
    "# Read in seurat object and individual metadata \n",
    "obj   <- readRDS(in_seurat_file)\n",
    "phens <- readRDS(in_indiv_phen_file)\n",
    "load(in_meta_file) \n",
    "obj@meta.data = metadata "
   ]
  },
  {
   "cell_type": "code",
   "execution_count": 5,
   "id": "6533d925",
   "metadata": {},
   "outputs": [
    {
     "data": {
      "text/plain": [
       "An object of class Seurat \n",
       "57641 features across 1272489 samples within 2 assays \n",
       "Active assay: SCT (24903 features, 3000 variable features)\n",
       " 1 other assay present: RNA\n",
       " 2 dimensional reductions calculated: pca, umap"
      ]
     },
     "metadata": {},
     "output_type": "display_data"
    }
   ],
   "source": [
    "obj"
   ]
  },
  {
   "cell_type": "code",
   "execution_count": 6,
   "id": "2d20ae82",
   "metadata": {},
   "outputs": [
    {
     "data": {
      "text/html": [
       "<table class=\"dataframe\">\n",
       "<caption>A data.frame: 2 × 22</caption>\n",
       "<thead>\n",
       "\t<tr><th></th><th scope=col>orig.ident</th><th scope=col>nCount_RNA</th><th scope=col>nFeature_RNA</th><th scope=col>pool</th><th scope=col>individual</th><th scope=col>percent.mt</th><th scope=col>latent</th><th scope=col>nCount_SCT</th><th scope=col>nFeature_SCT</th><th scope=col>cell_type</th><th scope=col>⋯</th><th scope=col>age</th><th scope=col>sex</th><th scope=col>predicted.celltype</th><th scope=col>predicted.celltype.l3</th><th scope=col>predicted.celltype.l4</th><th scope=col>predicted.celltype.l5</th><th scope=col>predicted.celltype.l6</th><th scope=col>G2M.Score</th><th scope=col>S.Score</th><th scope=col>Phase</th></tr>\n",
       "\t<tr><th></th><th scope=col>&lt;fct&gt;</th><th scope=col>&lt;dbl&gt;</th><th scope=col>&lt;int&gt;</th><th scope=col>&lt;fct&gt;</th><th scope=col>&lt;chr&gt;</th><th scope=col>&lt;dbl&gt;</th><th scope=col>&lt;fct&gt;</th><th scope=col>&lt;dbl&gt;</th><th scope=col>&lt;int&gt;</th><th scope=col>&lt;fct&gt;</th><th scope=col>⋯</th><th scope=col>&lt;int&gt;</th><th scope=col>&lt;int&gt;</th><th scope=col>&lt;fct&gt;</th><th scope=col>&lt;chr&gt;</th><th scope=col>&lt;chr&gt;</th><th scope=col>&lt;chr&gt;</th><th scope=col>&lt;chr&gt;</th><th scope=col>&lt;dbl&gt;</th><th scope=col>&lt;dbl&gt;</th><th scope=col>&lt;chr&gt;</th></tr>\n",
       "</thead>\n",
       "<tbody>\n",
       "\t<tr><th scope=row>AAACCTGAGAATGTTG-1</th><td>onek1k</td><td>4754</td><td>1201</td><td>pool_1</td><td>691_692</td><td>1.451409</td><td>b1</td><td>3226</td><td>1186</td><td>CD4+ KLRB1+ T cell</td><td>⋯</td><td>66</td><td>1</td><td>CD4+ KLRB1+ T cell</td><td>CD4 TEM</td><td>CD4 T  </td><td>T cell </td><td>Lymphoid</td><td>-0.02439549</td><td> 0.008654699</td><td>S </td></tr>\n",
       "\t<tr><th scope=row>AAACCTGAGAGAACAG-1</th><td>onek1k</td><td>2459</td><td> 896</td><td>pool_1</td><td>693_694</td><td>3.700691</td><td>b1</td><td>2710</td><td> 896</td><td>XCL1- NK          </td><td>⋯</td><td>88</td><td>2</td><td>XCL1- NK          </td><td>NK     </td><td>NK cell</td><td>NK cell</td><td>Lymphoid</td><td>-0.02651399</td><td>-0.015410997</td><td>G1</td></tr>\n",
       "</tbody>\n",
       "</table>\n"
      ],
      "text/latex": [
       "A data.frame: 2 × 22\n",
       "\\begin{tabular}{r|lllllllllllllllllllll}\n",
       "  & orig.ident & nCount\\_RNA & nFeature\\_RNA & pool & individual & percent.mt & latent & nCount\\_SCT & nFeature\\_SCT & cell\\_type & ⋯ & age & sex & predicted.celltype & predicted.celltype.l3 & predicted.celltype.l4 & predicted.celltype.l5 & predicted.celltype.l6 & G2M.Score & S.Score & Phase\\\\\n",
       "  & <fct> & <dbl> & <int> & <fct> & <chr> & <dbl> & <fct> & <dbl> & <int> & <fct> & ⋯ & <int> & <int> & <fct> & <chr> & <chr> & <chr> & <chr> & <dbl> & <dbl> & <chr>\\\\\n",
       "\\hline\n",
       "\tAAACCTGAGAATGTTG-1 & onek1k & 4754 & 1201 & pool\\_1 & 691\\_692 & 1.451409 & b1 & 3226 & 1186 & CD4+ KLRB1+ T cell & ⋯ & 66 & 1 & CD4+ KLRB1+ T cell & CD4 TEM & CD4 T   & T cell  & Lymphoid & -0.02439549 &  0.008654699 & S \\\\\n",
       "\tAAACCTGAGAGAACAG-1 & onek1k & 2459 &  896 & pool\\_1 & 693\\_694 & 3.700691 & b1 & 2710 &  896 & XCL1- NK           & ⋯ & 88 & 2 & XCL1- NK           & NK      & NK cell & NK cell & Lymphoid & -0.02651399 & -0.015410997 & G1\\\\\n",
       "\\end{tabular}\n"
      ],
      "text/markdown": [
       "\n",
       "A data.frame: 2 × 22\n",
       "\n",
       "| <!--/--> | orig.ident &lt;fct&gt; | nCount_RNA &lt;dbl&gt; | nFeature_RNA &lt;int&gt; | pool &lt;fct&gt; | individual &lt;chr&gt; | percent.mt &lt;dbl&gt; | latent &lt;fct&gt; | nCount_SCT &lt;dbl&gt; | nFeature_SCT &lt;int&gt; | cell_type &lt;fct&gt; | ⋯ ⋯ | age &lt;int&gt; | sex &lt;int&gt; | predicted.celltype &lt;fct&gt; | predicted.celltype.l3 &lt;chr&gt; | predicted.celltype.l4 &lt;chr&gt; | predicted.celltype.l5 &lt;chr&gt; | predicted.celltype.l6 &lt;chr&gt; | G2M.Score &lt;dbl&gt; | S.Score &lt;dbl&gt; | Phase &lt;chr&gt; |\n",
       "|---|---|---|---|---|---|---|---|---|---|---|---|---|---|---|---|---|---|---|---|---|---|\n",
       "| AAACCTGAGAATGTTG-1 | onek1k | 4754 | 1201 | pool_1 | 691_692 | 1.451409 | b1 | 3226 | 1186 | CD4+ KLRB1+ T cell | ⋯ | 66 | 1 | CD4+ KLRB1+ T cell | CD4 TEM | CD4 T   | T cell  | Lymphoid | -0.02439549 |  0.008654699 | S  |\n",
       "| AAACCTGAGAGAACAG-1 | onek1k | 2459 |  896 | pool_1 | 693_694 | 3.700691 | b1 | 2710 |  896 | XCL1- NK           | ⋯ | 88 | 2 | XCL1- NK           | NK      | NK cell | NK cell | Lymphoid | -0.02651399 | -0.015410997 | G1 |\n",
       "\n"
      ],
      "text/plain": [
       "                   orig.ident nCount_RNA nFeature_RNA pool   individual\n",
       "AAACCTGAGAATGTTG-1 onek1k     4754       1201         pool_1 691_692   \n",
       "AAACCTGAGAGAACAG-1 onek1k     2459        896         pool_1 693_694   \n",
       "                   percent.mt latent nCount_SCT nFeature_SCT cell_type         \n",
       "AAACCTGAGAATGTTG-1 1.451409   b1     3226       1186         CD4+ KLRB1+ T cell\n",
       "AAACCTGAGAGAACAG-1 3.700691   b1     2710        896         XCL1- NK          \n",
       "                   ⋯ age sex predicted.celltype predicted.celltype.l3\n",
       "AAACCTGAGAATGTTG-1 ⋯ 66  1   CD4+ KLRB1+ T cell CD4 TEM              \n",
       "AAACCTGAGAGAACAG-1 ⋯ 88  2   XCL1- NK           NK                   \n",
       "                   predicted.celltype.l4 predicted.celltype.l5\n",
       "AAACCTGAGAATGTTG-1 CD4 T                 T cell               \n",
       "AAACCTGAGAGAACAG-1 NK cell               NK cell              \n",
       "                   predicted.celltype.l6 G2M.Score   S.Score      Phase\n",
       "AAACCTGAGAATGTTG-1 Lymphoid              -0.02439549  0.008654699 S    \n",
       "AAACCTGAGAGAACAG-1 Lymphoid              -0.02651399 -0.015410997 G1   "
      ]
     },
     "metadata": {},
     "output_type": "display_data"
    }
   ],
   "source": [
    "head(obj@meta.data,2)"
   ]
  },
  {
   "cell_type": "code",
   "execution_count": 7,
   "id": "eab63ebb",
   "metadata": {},
   "outputs": [
    {
     "data": {
      "text/html": [
       "<style>\n",
       ".list-inline {list-style: none; margin:0; padding: 0}\n",
       ".list-inline>li {display: inline-block}\n",
       ".list-inline>li:not(:last-child)::after {content: \"\\00b7\"; padding: 0 .5ex}\n",
       "</style>\n",
       "<ol class=list-inline><li>'CD4 TEM'</li><li>'NK'</li><li>'CD4 Naive'</li><li>'CD8 TEM'</li><li>'B naive'</li><li>'CD8 TCM'</li><li>'CD4 TCM'</li><li>'B intermediate'</li><li>NA</li><li>'CD8 Naive'</li><li>'NK_CD56bright'</li><li>'B memory'</li><li>'CD16 Mono'</li><li>'MAIT'</li><li>'Treg'</li><li>'CD14 Mono'</li><li>'dnT'</li><li>'Eryth'</li><li>'NK Proliferating'</li><li>'CD4 CTL'</li><li>'HSPC'</li><li>'Platelet'</li><li>'Plasmablast'</li><li>'ILC'</li><li>'gdT'</li><li>'DC'</li><li>'CD4 Proliferating'</li><li>'CD8 Proliferating'</li><li>'Doublet'</li></ol>\n"
      ],
      "text/latex": [
       "\\begin{enumerate*}\n",
       "\\item 'CD4 TEM'\n",
       "\\item 'NK'\n",
       "\\item 'CD4 Naive'\n",
       "\\item 'CD8 TEM'\n",
       "\\item 'B naive'\n",
       "\\item 'CD8 TCM'\n",
       "\\item 'CD4 TCM'\n",
       "\\item 'B intermediate'\n",
       "\\item NA\n",
       "\\item 'CD8 Naive'\n",
       "\\item 'NK\\_CD56bright'\n",
       "\\item 'B memory'\n",
       "\\item 'CD16 Mono'\n",
       "\\item 'MAIT'\n",
       "\\item 'Treg'\n",
       "\\item 'CD14 Mono'\n",
       "\\item 'dnT'\n",
       "\\item 'Eryth'\n",
       "\\item 'NK Proliferating'\n",
       "\\item 'CD4 CTL'\n",
       "\\item 'HSPC'\n",
       "\\item 'Platelet'\n",
       "\\item 'Plasmablast'\n",
       "\\item 'ILC'\n",
       "\\item 'gdT'\n",
       "\\item 'DC'\n",
       "\\item 'CD4 Proliferating'\n",
       "\\item 'CD8 Proliferating'\n",
       "\\item 'Doublet'\n",
       "\\end{enumerate*}\n"
      ],
      "text/markdown": [
       "1. 'CD4 TEM'\n",
       "2. 'NK'\n",
       "3. 'CD4 Naive'\n",
       "4. 'CD8 TEM'\n",
       "5. 'B naive'\n",
       "6. 'CD8 TCM'\n",
       "7. 'CD4 TCM'\n",
       "8. 'B intermediate'\n",
       "9. NA\n",
       "10. 'CD8 Naive'\n",
       "11. 'NK_CD56bright'\n",
       "12. 'B memory'\n",
       "13. 'CD16 Mono'\n",
       "14. 'MAIT'\n",
       "15. 'Treg'\n",
       "16. 'CD14 Mono'\n",
       "17. 'dnT'\n",
       "18. 'Eryth'\n",
       "19. 'NK Proliferating'\n",
       "20. 'CD4 CTL'\n",
       "21. 'HSPC'\n",
       "22. 'Platelet'\n",
       "23. 'Plasmablast'\n",
       "24. 'ILC'\n",
       "25. 'gdT'\n",
       "26. 'DC'\n",
       "27. 'CD4 Proliferating'\n",
       "28. 'CD8 Proliferating'\n",
       "29. 'Doublet'\n",
       "\n",
       "\n"
      ],
      "text/plain": [
       " [1] \"CD4 TEM\"           \"NK\"                \"CD4 Naive\"        \n",
       " [4] \"CD8 TEM\"           \"B naive\"           \"CD8 TCM\"          \n",
       " [7] \"CD4 TCM\"           \"B intermediate\"    NA                 \n",
       "[10] \"CD8 Naive\"         \"NK_CD56bright\"     \"B memory\"         \n",
       "[13] \"CD16 Mono\"         \"MAIT\"              \"Treg\"             \n",
       "[16] \"CD14 Mono\"         \"dnT\"               \"Eryth\"            \n",
       "[19] \"NK Proliferating\"  \"CD4 CTL\"           \"HSPC\"             \n",
       "[22] \"Platelet\"          \"Plasmablast\"       \"ILC\"              \n",
       "[25] \"gdT\"               \"DC\"                \"CD4 Proliferating\"\n",
       "[28] \"CD8 Proliferating\" \"Doublet\"          "
      ]
     },
     "metadata": {},
     "output_type": "display_data"
    }
   ],
   "source": [
    "### use l3 celltype annotation\n",
    "unique(obj@meta.data$predicted.celltype.l3)"
   ]
  },
  {
   "cell_type": "code",
   "execution_count": null,
   "id": "bf41b8e8",
   "metadata": {},
   "outputs": [],
   "source": []
  }
 ],
 "metadata": {
  "kernelspec": {
   "display_name": "Single Cell Notebook (R 4.1.2)",
   "language": "R",
   "name": "singlecell"
  },
  "language_info": {
   "codemirror_mode": "r",
   "file_extension": ".r",
   "mimetype": "text/x-r-source",
   "name": "R",
   "pygments_lexer": "r",
   "version": "4.1.2"
  }
 },
 "nbformat": 4,
 "nbformat_minor": 5
}
