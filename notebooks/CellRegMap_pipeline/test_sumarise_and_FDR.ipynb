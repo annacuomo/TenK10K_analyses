{
 "cells": [
  {
   "cell_type": "code",
   "execution_count": 1,
   "id": "8131fd1f",
   "metadata": {},
   "outputs": [],
   "source": [
    "import os\n",
    "import click\n",
    "import pandas as pd\n",
    "import numpy as np"
   ]
  },
  {
   "cell_type": "code",
   "execution_count": 2,
   "id": "55b9feac",
   "metadata": {},
   "outputs": [],
   "source": [
    "def smartAppend(table,name,value):\n",
    "    \"\"\" helper function for appending in a dictionary \"\"\"\n",
    "    if name not in table.keys():\n",
    "        table[name] = []\n",
    "    table[name].append(value)"
   ]
  },
  {
   "cell_type": "code",
   "execution_count": 3,
   "id": "8b7dd6e7",
   "metadata": {},
   "outputs": [],
   "source": [
    "# @click.command()\n",
    "# @click.option('--file-with-filenames', required=True)\n",
    "# @click.option(\n",
    "#     \"--output-folder\", required=False, default=\"\"\n",
    "# )  # by default current directory, where you are running your script from"
   ]
  },
  {
   "cell_type": "code",
   "execution_count": 4,
   "id": "a0fc0ae9",
   "metadata": {},
   "outputs": [],
   "source": [
    "output_folder = \"\""
   ]
  },
  {
   "cell_type": "code",
   "execution_count": 5,
   "id": "53ea8ac7",
   "metadata": {},
   "outputs": [],
   "source": [
    "# with open(file_with_filenames, encoding='utf-8') as f:\n",
    "#     list_of_files = f.readlines()"
   ]
  },
  {
   "cell_type": "code",
   "execution_count": 6,
   "id": "5e83807b",
   "metadata": {},
   "outputs": [],
   "source": [
    "list_of_files = ['/share/ScratchGeneral/anncuo/OneK1K/CRM_interaction/Bcells_Bcell_eQTLs/ABRACL.tsv',\n",
    "                  '/share/ScratchGeneral/anncuo/OneK1K/CRM_interaction/Bcells_Bcell_eQTLs/AC006129.4.tsv']"
   ]
  },
  {
   "cell_type": "code",
   "execution_count": 7,
   "id": "45f8ee84",
   "metadata": {},
   "outputs": [
    {
     "name": "stdout",
     "output_type": "stream",
     "text": [
      "         gene  n_snps       snp_id    pv_raw   pv_Bonf\n",
      "0      ABRACL       1  6:139343892  0.005028  0.005028\n",
      "1  AC006129.4       1  19:42049821  0.020503  0.020503\n"
     ]
    }
   ],
   "source": [
    "x = 0\n",
    "table = {}\n",
    "for file in list_of_files:\n",
    "#     print(file)\n",
    "    x += 1\n",
    "    if x % 500 == 0: \n",
    "        print(x)\n",
    "    df = pd.read_csv(file, index_col=0)\n",
    "#     print(df.head())\n",
    "    nsnps = int(len(df))\n",
    "    if nsnps==0:\n",
    "        continue\n",
    "    gene = os.path.splitext(os.path.basename(file))[0] \n",
    "#     print(gene)\n",
    "    chrom = df['chrom'].values[0]\n",
    "#     print(chrom)\n",
    "    for i in range(nsnps):\n",
    "        temp = {}\n",
    "        temp['gene'] = gene\n",
    "        temp['n_snps'] = nsnps\n",
    "        temp['snp_id'] = df['variant'].values[i]\n",
    "        temp['pv_raw'] = df['pv'].values[i]\n",
    "        temp['pv_Bonf'] = nsnps * temp['pv_raw']\n",
    "        if temp['pv_Bonf']>1: temp['pv_Bonf'] = 1\n",
    "        if temp['pv_Bonf']<0: temp['pv_Bonf'] = 0\n",
    "\n",
    "    for key in temp.keys():\n",
    "        smartAppend(table, key, temp[key])\n",
    "\n",
    "# print(x)\n",
    "for key in table.keys():\n",
    "    table[key] = np.array(table[key])\n",
    "\n",
    "df = pd.DataFrame.from_dict(table)\n",
    "print(df.head())\n",
    "outfile = \"summary.csv\" \n",
    "myp = os.path.join(output_folder, outfile)\n",
    "# myp\n",
    "#     df.to_csv(myp)"
   ]
  },
  {
   "cell_type": "code",
   "execution_count": null,
   "id": "bd5a5043",
   "metadata": {},
   "outputs": [],
   "source": []
  },
  {
   "cell_type": "code",
   "execution_count": null,
   "id": "e056afee",
   "metadata": {},
   "outputs": [],
   "source": []
  },
  {
   "cell_type": "code",
   "execution_count": 17,
   "id": "a7a9c304",
   "metadata": {},
   "outputs": [],
   "source": [
    "# pip install qvalue\n",
    "\n",
    "# import qvalue as qvalue\n",
    "\n",
    "# ?qvalue.estimate\n",
    "\n",
    "# df_sign = df\n",
    "# df_sign[\"qv\"] = qvalue.estimate(df_sign[\"pv_Bonf\"])"
   ]
  },
  {
   "cell_type": "code",
   "execution_count": null,
   "id": "3aa9439c",
   "metadata": {},
   "outputs": [],
   "source": []
  },
  {
   "cell_type": "code",
   "execution_count": 20,
   "id": "ac9a6b52",
   "metadata": {},
   "outputs": [],
   "source": [
    "import scipy as sp\n",
    "from scipy import interpolate\n",
    "\n",
    "\n",
    "def qv_estimate(pv, m=None, verbose=False, lowmem=False, pi0=None):\n",
    "    \"\"\"\n",
    "    Estimates q-values from p-values\n",
    "    Args\n",
    "    =====\n",
    "    m: number of tests. If not specified m = pv.size\n",
    "    verbose: print verbose messages? (default False)\n",
    "    lowmem: use memory-efficient in-place algorithm\n",
    "    pi0: if None, it's estimated as suggested in Storey and Tibshirani, 2003.\n",
    "         For most GWAS this is not necessary, since pi0 is extremely likely to be\n",
    "         1\n",
    "    \"\"\"\n",
    "    assert(pv.min() >= 0 and pv.max() <= 1), \"p-values should be between 0 and 1\"\n",
    "\n",
    "    original_shape = pv.shape\n",
    "    pv = pv.ravel()  # flattens the array in place, more efficient than flatten()\n",
    "\n",
    "    if m is None:\n",
    "        m = float(len(pv))\n",
    "    else:\n",
    "        # the user has supplied an m\n",
    "        m *= 1.0\n",
    "\n",
    "    # if the number of hypotheses is small, just set pi0 to 1\n",
    "    if len(pv) < 100 and pi0 is None:\n",
    "        pi0 = 1.0\n",
    "    elif pi0 is not None:\n",
    "        pi0 = pi0\n",
    "    else:\n",
    "        # evaluate pi0 for different lambdas\n",
    "        pi0 = []\n",
    "        lam = sp.arange(0, 0.90, 0.01)\n",
    "        counts = sp.array([(pv > i).sum() for i in sp.arange(0, 0.9, 0.01)])\n",
    "        for l in range(len(lam)):\n",
    "            pi0.append(counts[l]/(m*(1-lam[l])))\n",
    "\n",
    "        pi0 = sp.array(pi0)\n",
    "\n",
    "        # fit natural cubic spline\n",
    "        tck = interpolate.splrep(lam, pi0, k=3)\n",
    "        pi0 = interpolate.splev(lam[-1], tck)\n",
    "        if verbose:\n",
    "            print(\"qvalues pi0=%.3f, estimated proportion of null features \" % pi0)\n",
    "\n",
    "        if pi0 > 1:\n",
    "            if verbose:\n",
    "                print(\"got pi0 > 1 (%.3f) while estimating qvalues, setting it to 1\" % pi0)\n",
    "            pi0 = 1.0\n",
    "\n",
    "    assert(pi0 >= 0 and pi0 <= 1), \"pi0 is not between 0 and 1: %f\" % pi0\n",
    "\n",
    "    if lowmem:\n",
    "        # low memory version, only uses 1 pv and 1 qv matrices\n",
    "        qv = sp.zeros((len(pv),))\n",
    "        last_pv = pv.argmax()\n",
    "        qv[last_pv] = (pi0*pv[last_pv]*m)/float(m)\n",
    "        pv[last_pv] = -sp.inf\n",
    "        prev_qv = last_pv\n",
    "        for i in range(int(len(pv))-2, -1, -1):\n",
    "            cur_max = pv.argmax()\n",
    "            qv_i = (pi0*m*pv[cur_max]/float(i+1))\n",
    "            pv[cur_max] = -sp.inf\n",
    "            qv_i1 = prev_qv\n",
    "            qv[cur_max] = min(qv_i, qv_i1)\n",
    "            prev_qv = qv[cur_max]\n",
    "\n",
    "    else:\n",
    "        p_ordered = sp.argsort(pv)\n",
    "        pv = pv[p_ordered]\n",
    "        qv = pi0 * m/len(pv) * pv\n",
    "        qv[-1] = min(qv[-1], 1.0)\n",
    "\n",
    "        for i in range(len(pv)-2, -1, -1):\n",
    "            qv[i] = min(pi0*m*pv[i]/(i+1.0), qv[i+1])\n",
    "\n",
    "        # reorder qvalues\n",
    "        qv_temp = qv.copy()\n",
    "        qv = sp.zeros_like(qv)\n",
    "        qv[p_ordered] = qv_temp\n",
    "\n",
    "    # reshape qvalues\n",
    "    qv = qv.reshape(original_shape)\n",
    "\n",
    "    return qv"
   ]
  },
  {
   "cell_type": "code",
   "execution_count": 26,
   "id": "0f7d4070",
   "metadata": {},
   "outputs": [
    {
     "name": "stderr",
     "output_type": "stream",
     "text": [
      "/share/ScratchGeneral/anncuo/jupyter/conda_notebooks/envs/cellregmap_notebook/lib/python3.7/site-packages/ipykernel_launcher.py:72: DeprecationWarning: scipy.argsort is deprecated and will be removed in SciPy 2.0.0, use numpy.argsort instead\n",
      "/share/ScratchGeneral/anncuo/jupyter/conda_notebooks/envs/cellregmap_notebook/lib/python3.7/site-packages/ipykernel_launcher.py:82: DeprecationWarning: scipy.zeros_like is deprecated and will be removed in SciPy 2.0.0, use numpy.zeros_like instead\n"
     ]
    }
   ],
   "source": [
    "df[\"qv\"] = qv_estimate(df[\"pv_Bonf\"])"
   ]
  },
  {
   "cell_type": "code",
   "execution_count": 39,
   "id": "594cfebe",
   "metadata": {},
   "outputs": [],
   "source": [
    "fdr=0.02"
   ]
  },
  {
   "cell_type": "code",
   "execution_count": 40,
   "id": "3870d10a",
   "metadata": {},
   "outputs": [],
   "source": [
    "df_sign = df[df[\"qv\"]<fdr]"
   ]
  },
  {
   "cell_type": "code",
   "execution_count": 41,
   "id": "25fc0ffb",
   "metadata": {},
   "outputs": [
    {
     "data": {
      "text/plain": [
       "(2, 6)"
      ]
     },
     "execution_count": 41,
     "metadata": {},
     "output_type": "execute_result"
    }
   ],
   "source": [
    "df.shape"
   ]
  },
  {
   "cell_type": "code",
   "execution_count": 42,
   "id": "dae01b05",
   "metadata": {},
   "outputs": [
    {
     "data": {
      "text/plain": [
       "(1, 6)"
      ]
     },
     "execution_count": 42,
     "metadata": {},
     "output_type": "execute_result"
    }
   ],
   "source": [
    "df_sign.shape"
   ]
  },
  {
   "cell_type": "code",
   "execution_count": 43,
   "id": "f742e37b",
   "metadata": {},
   "outputs": [
    {
     "data": {
      "text/html": [
       "<div>\n",
       "<style scoped>\n",
       "    .dataframe tbody tr th:only-of-type {\n",
       "        vertical-align: middle;\n",
       "    }\n",
       "\n",
       "    .dataframe tbody tr th {\n",
       "        vertical-align: top;\n",
       "    }\n",
       "\n",
       "    .dataframe thead th {\n",
       "        text-align: right;\n",
       "    }\n",
       "</style>\n",
       "<table border=\"1\" class=\"dataframe\">\n",
       "  <thead>\n",
       "    <tr style=\"text-align: right;\">\n",
       "      <th></th>\n",
       "      <th>gene</th>\n",
       "      <th>n_snps</th>\n",
       "      <th>snp_id</th>\n",
       "      <th>pv_raw</th>\n",
       "      <th>pv_Bonf</th>\n",
       "      <th>qv</th>\n",
       "    </tr>\n",
       "  </thead>\n",
       "  <tbody>\n",
       "    <tr>\n",
       "      <th>0</th>\n",
       "      <td>ABRACL</td>\n",
       "      <td>1</td>\n",
       "      <td>6:139343892</td>\n",
       "      <td>0.005028</td>\n",
       "      <td>0.005028</td>\n",
       "      <td>0.010055</td>\n",
       "    </tr>\n",
       "  </tbody>\n",
       "</table>\n",
       "</div>"
      ],
      "text/plain": [
       "     gene  n_snps       snp_id    pv_raw   pv_Bonf        qv\n",
       "0  ABRACL       1  6:139343892  0.005028  0.005028  0.010055"
      ]
     },
     "execution_count": 43,
     "metadata": {},
     "output_type": "execute_result"
    }
   ],
   "source": [
    "df_sign.head()"
   ]
  },
  {
   "cell_type": "code",
   "execution_count": null,
   "id": "91291e3d",
   "metadata": {},
   "outputs": [],
   "source": []
  },
  {
   "cell_type": "code",
   "execution_count": null,
   "id": "86427dc3",
   "metadata": {},
   "outputs": [],
   "source": []
  },
  {
   "cell_type": "code",
   "execution_count": null,
   "id": "3c49d283",
   "metadata": {},
   "outputs": [],
   "source": []
  },
  {
   "cell_type": "code",
   "execution_count": null,
   "id": "7b5bd7d9",
   "metadata": {},
   "outputs": [],
   "source": [
    "##### "
   ]
  },
  {
   "cell_type": "code",
   "execution_count": 39,
   "id": "cbc61e46",
   "metadata": {},
   "outputs": [
    {
     "name": "stdout",
     "output_type": "stream",
     "text": [
      "\u001b[33mWARNING: The directory '/home/jovyan/.cache/pip' or its parent directory is not owned or is not writable by the current user. The cache has been disabled. Check the permissions and owner of that directory. If executing pip with sudo, you should use sudo's -H flag.\u001b[0m\n",
      "Collecting rpy2\n",
      "  Downloading rpy2-3.5.2.tar.gz (202 kB)\n",
      "\u001b[K     |████████████████████████████████| 202 kB 17.7 MB/s eta 0:00:01\n",
      "\u001b[?25hRequirement already satisfied: cffi>=1.10.0 in /share/ScratchGeneral/anncuo/jupyter/conda_notebooks/envs/cellregmap_notebook/lib/python3.7/site-packages (from rpy2) (1.15.0)\n",
      "Requirement already satisfied: jinja2 in /share/ScratchGeneral/anncuo/jupyter/conda_notebooks/envs/cellregmap_notebook/lib/python3.7/site-packages (from rpy2) (3.0.3)\n",
      "Requirement already satisfied: pytz in /share/ScratchGeneral/anncuo/jupyter/conda_notebooks/envs/cellregmap_notebook/lib/python3.7/site-packages (from rpy2) (2021.3)\n",
      "Collecting tzlocal\n",
      "  Downloading tzlocal-4.2-py3-none-any.whl (19 kB)\n",
      "Requirement already satisfied: typing-extensions in /share/ScratchGeneral/anncuo/jupyter/conda_notebooks/envs/cellregmap_notebook/lib/python3.7/site-packages (from rpy2) (3.10.0.2)\n",
      "Requirement already satisfied: pycparser in /share/ScratchGeneral/anncuo/jupyter/conda_notebooks/envs/cellregmap_notebook/lib/python3.7/site-packages (from cffi>=1.10.0->rpy2) (2.21)\n",
      "Requirement already satisfied: MarkupSafe>=2.0 in /share/ScratchGeneral/anncuo/jupyter/conda_notebooks/envs/cellregmap_notebook/lib/python3.7/site-packages (from jinja2->rpy2) (2.0.1)\n",
      "Collecting backports.zoneinfo\n",
      "  Downloading backports.zoneinfo-0.2.1-cp37-cp37m-manylinux1_x86_64.whl (70 kB)\n",
      "\u001b[K     |████████████████████████████████| 70 kB 48.1 MB/s eta 0:00:01\n",
      "\u001b[?25hCollecting pytz-deprecation-shim\n",
      "  Downloading pytz_deprecation_shim-0.1.0.post0-py2.py3-none-any.whl (15 kB)\n",
      "Collecting tzdata\n",
      "  Downloading tzdata-2022.1-py2.py3-none-any.whl (339 kB)\n",
      "\u001b[K     |████████████████████████████████| 339 kB 59.3 MB/s eta 0:00:01\n",
      "\u001b[?25hBuilding wheels for collected packages: rpy2\n",
      "  Building wheel for rpy2 (setup.py) ... \u001b[?25ldone\n",
      "\u001b[?25h  Created wheel for rpy2: filename=rpy2-3.5.2-cp37-cp37m-linux_x86_64.whl size=368165 sha256=099ba8df4a34896c87f2a538ec0c37f176ea55f228506fa3fb9ef32807d6cbf3\n",
      "  Stored in directory: /tmp/pip-ephem-wheel-cache-5_sod446/wheels/b8/27/91/fafb1fc786bd06e26f89321039aff9223d1e16acfbdb2572fd\n",
      "Successfully built rpy2\n",
      "Installing collected packages: tzdata, backports.zoneinfo, pytz-deprecation-shim, tzlocal, rpy2\n",
      "Successfully installed backports.zoneinfo-0.2.1 pytz-deprecation-shim-0.1.0.post0 rpy2-3.5.2 tzdata-2022.1 tzlocal-4.2\n",
      "Note: you may need to restart the kernel to use updated packages.\n"
     ]
    }
   ],
   "source": [
    "pip install rpy2"
   ]
  },
  {
   "cell_type": "code",
   "execution_count": null,
   "id": "3fa1f1ba",
   "metadata": {},
   "outputs": [],
   "source": []
  },
  {
   "cell_type": "code",
   "execution_count": 43,
   "id": "cb76738a",
   "metadata": {},
   "outputs": [
    {
     "ename": "PackageNotInstalledError",
     "evalue": "The R package \"qvalue\" is not installed.",
     "output_type": "error",
     "traceback": [
      "\u001b[0;31m---------------------------------------------------------------------------\u001b[0m",
      "\u001b[0;31mPackageNotInstalledError\u001b[0m                  Traceback (most recent call last)",
      "\u001b[0;32m/tmp/ipykernel_807/3631779226.py\u001b[0m in \u001b[0;36m<module>\u001b[0;34m\u001b[0m\n\u001b[1;32m      6\u001b[0m \u001b[0;34m\u001b[0m\u001b[0m\n\u001b[1;32m      7\u001b[0m \u001b[0mdevtools\u001b[0m \u001b[0;34m=\u001b[0m \u001b[0mimportr\u001b[0m\u001b[0;34m(\u001b[0m\u001b[0;34m\"devtools\"\u001b[0m\u001b[0;34m)\u001b[0m\u001b[0;34m\u001b[0m\u001b[0;34m\u001b[0m\u001b[0m\n\u001b[0;32m----> 8\u001b[0;31m \u001b[0mqvalue\u001b[0m \u001b[0;34m=\u001b[0m \u001b[0mimportr\u001b[0m\u001b[0;34m(\u001b[0m\u001b[0;34m\"qvalue\"\u001b[0m\u001b[0;34m)\u001b[0m\u001b[0;34m\u001b[0m\u001b[0;34m\u001b[0m\u001b[0m\n\u001b[0m",
      "\u001b[0;32m/share/ScratchGeneral/anncuo/jupyter/conda_notebooks/envs/cellregmap_notebook/lib/python3.7/site-packages/rpy2/robjects/packages.py\u001b[0m in \u001b[0;36mimportr\u001b[0;34m(name, lib_loc, robject_translations, signature_translation, suppress_messages, on_conflict, symbol_r2python, symbol_resolve, data)\u001b[0m\n\u001b[1;32m    471\u001b[0m     \u001b[0;32mif\u001b[0m \u001b[0;32mnot\u001b[0m \u001b[0misinstalled\u001b[0m\u001b[0;34m(\u001b[0m\u001b[0mname\u001b[0m\u001b[0;34m,\u001b[0m \u001b[0mlib_loc\u001b[0m\u001b[0;34m=\u001b[0m\u001b[0mlib_loc\u001b[0m\u001b[0;34m)\u001b[0m\u001b[0;34m:\u001b[0m\u001b[0;34m\u001b[0m\u001b[0;34m\u001b[0m\u001b[0m\n\u001b[1;32m    472\u001b[0m         raise PackageNotInstalledError(\n\u001b[0;32m--> 473\u001b[0;31m             \u001b[0;34m'The R package \"%s\" is not installed.'\u001b[0m \u001b[0;34m%\u001b[0m \u001b[0mname\u001b[0m\u001b[0;34m\u001b[0m\u001b[0;34m\u001b[0m\u001b[0m\n\u001b[0m\u001b[1;32m    474\u001b[0m         )\n\u001b[1;32m    475\u001b[0m \u001b[0;34m\u001b[0m\u001b[0m\n",
      "\u001b[0;31mPackageNotInstalledError\u001b[0m: The R package \"qvalue\" is not installed."
     ]
    }
   ],
   "source": [
    "import sys\n",
    "import rpy2\n",
    "import rpy2.robjects as ro\n",
    "from rpy2.robjects import r\n",
    "from rpy2.robjects.packages import importr\n",
    "\n",
    "devtools = importr(\"devtools\")\n",
    "qvalue = importr(\"qvalue\")"
   ]
  },
  {
   "cell_type": "code",
   "execution_count": null,
   "id": "ffff6bdb",
   "metadata": {},
   "outputs": [],
   "source": []
  }
 ],
 "metadata": {
  "kernelspec": {
   "display_name": "Python (Jupyter - cellregmap)",
   "language": "python",
   "name": "cellregmap_notebook"
  },
  "language_info": {
   "codemirror_mode": {
    "name": "ipython",
    "version": 3
   },
   "file_extension": ".py",
   "mimetype": "text/x-python",
   "name": "python",
   "nbconvert_exporter": "python",
   "pygments_lexer": "ipython3",
   "version": "3.7.11"
  }
 },
 "nbformat": 4,
 "nbformat_minor": 5
}
