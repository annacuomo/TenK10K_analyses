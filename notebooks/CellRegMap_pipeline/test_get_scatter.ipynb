{
 "cells": [
  {
   "cell_type": "code",
   "execution_count": 3,
   "id": "288b1703",
   "metadata": {},
   "outputs": [],
   "source": [
    "import pandas as pd"
   ]
  },
  {
   "cell_type": "code",
   "execution_count": 4,
   "id": "6a47889b",
   "metadata": {},
   "outputs": [],
   "source": [
    "### example fvf (feature variant filter file)"
   ]
  },
  {
   "cell_type": "code",
   "execution_count": 5,
   "id": "c4252647",
   "metadata": {},
   "outputs": [
    {
     "data": {
      "text/html": [
       "<div>\n",
       "<style scoped>\n",
       "    .dataframe tbody tr th:only-of-type {\n",
       "        vertical-align: middle;\n",
       "    }\n",
       "\n",
       "    .dataframe tbody tr th {\n",
       "        vertical-align: top;\n",
       "    }\n",
       "\n",
       "    .dataframe thead th {\n",
       "        text-align: right;\n",
       "    }\n",
       "</style>\n",
       "<table border=\"1\" class=\"dataframe\">\n",
       "  <thead>\n",
       "    <tr style=\"text-align: right;\">\n",
       "      <th></th>\n",
       "      <th>feature</th>\n",
       "      <th>snp_id</th>\n",
       "      <th>chrom</th>\n",
       "    </tr>\n",
       "  </thead>\n",
       "  <tbody>\n",
       "    <tr>\n",
       "      <th>1</th>\n",
       "      <td>RP11-298J20.3</td>\n",
       "      <td>10:126644482</td>\n",
       "      <td>10</td>\n",
       "    </tr>\n",
       "    <tr>\n",
       "      <th>2</th>\n",
       "      <td>PPA1</td>\n",
       "      <td>10:71963608</td>\n",
       "      <td>10</td>\n",
       "    </tr>\n",
       "    <tr>\n",
       "      <th>3</th>\n",
       "      <td>GDI2</td>\n",
       "      <td>10:5855403</td>\n",
       "      <td>10</td>\n",
       "    </tr>\n",
       "    <tr>\n",
       "      <th>4</th>\n",
       "      <td>OPTN</td>\n",
       "      <td>10:13160035</td>\n",
       "      <td>10</td>\n",
       "    </tr>\n",
       "    <tr>\n",
       "      <th>5</th>\n",
       "      <td>MGMT</td>\n",
       "      <td>10:131279791</td>\n",
       "      <td>10</td>\n",
       "    </tr>\n",
       "  </tbody>\n",
       "</table>\n",
       "</div>"
      ],
      "text/plain": [
       "         feature        snp_id  chrom\n",
       "1  RP11-298J20.3  10:126644482     10\n",
       "2           PPA1   10:71963608     10\n",
       "3           GDI2    10:5855403     10\n",
       "4           OPTN   10:13160035     10\n",
       "5           MGMT  10:131279791     10"
      ]
     },
     "execution_count": 5,
     "metadata": {},
     "output_type": "execute_result"
    }
   ],
   "source": [
    "# Filter on specific gene-SNP pairs\n",
    "# eQTL from B cells (B IN + B Mem)\n",
    "input_files_dir = \"/share/ScratchGeneral/anncuo/OneK1K/input_files_CellRegMap/\"\n",
    "Bcell_eqtl_file = input_files_dir+\"fvf_Bcell_eqtls.csv\"\n",
    "Bcell_eqtl = pd.read_csv(Bcell_eqtl_file, index_col = 0)\n",
    "Bcell_eqtl.head()"
   ]
  },
  {
   "cell_type": "code",
   "execution_count": 6,
   "id": "cd404ff9",
   "metadata": {},
   "outputs": [],
   "source": [
    "genes = Bcell_eqtl[\"feature\"].unique()"
   ]
  },
  {
   "cell_type": "code",
   "execution_count": 7,
   "id": "2c27284e",
   "metadata": {},
   "outputs": [
    {
     "data": {
      "text/plain": [
       "1466"
      ]
     },
     "execution_count": 7,
     "metadata": {},
     "output_type": "execute_result"
    }
   ],
   "source": [
    "len(genes)"
   ]
  },
  {
   "cell_type": "code",
   "execution_count": 8,
   "id": "88ca628c",
   "metadata": {},
   "outputs": [
    {
     "data": {
      "text/plain": [
       "(3264, 3)"
      ]
     },
     "execution_count": 8,
     "metadata": {},
     "output_type": "execute_result"
    }
   ],
   "source": [
    "Bcell_eqtl.shape"
   ]
  },
  {
   "cell_type": "code",
   "execution_count": null,
   "id": "7c352924",
   "metadata": {},
   "outputs": [],
   "source": []
  },
  {
   "cell_type": "code",
   "execution_count": 29,
   "id": "b91c8add",
   "metadata": {},
   "outputs": [
    {
     "data": {
      "text/html": [
       "<div>\n",
       "<style scoped>\n",
       "    .dataframe tbody tr th:only-of-type {\n",
       "        vertical-align: middle;\n",
       "    }\n",
       "\n",
       "    .dataframe tbody tr th {\n",
       "        vertical-align: top;\n",
       "    }\n",
       "\n",
       "    .dataframe thead th {\n",
       "        text-align: right;\n",
       "    }\n",
       "</style>\n",
       "<table border=\"1\" class=\"dataframe\">\n",
       "  <thead>\n",
       "    <tr style=\"text-align: right;\">\n",
       "      <th></th>\n",
       "      <th>GeneName</th>\n",
       "      <th>chrom</th>\n",
       "    </tr>\n",
       "  </thead>\n",
       "  <tbody>\n",
       "    <tr>\n",
       "      <th>0</th>\n",
       "      <td>AARS2</td>\n",
       "      <td>6</td>\n",
       "    </tr>\n",
       "    <tr>\n",
       "      <th>1</th>\n",
       "      <td>ABCA1</td>\n",
       "      <td>9</td>\n",
       "    </tr>\n",
       "    <tr>\n",
       "      <th>2</th>\n",
       "      <td>ABCA5</td>\n",
       "      <td>17</td>\n",
       "    </tr>\n",
       "    <tr>\n",
       "      <th>3</th>\n",
       "      <td>ABHD16A</td>\n",
       "      <td>6</td>\n",
       "    </tr>\n",
       "    <tr>\n",
       "      <th>4</th>\n",
       "      <td>ABRACL</td>\n",
       "      <td>6</td>\n",
       "    </tr>\n",
       "  </tbody>\n",
       "</table>\n",
       "</div>"
      ],
      "text/plain": [
       "  GeneName  chrom\n",
       "0    AARS2      6\n",
       "1    ABCA1      9\n",
       "2    ABCA5     17\n",
       "3  ABHD16A      6\n",
       "4   ABRACL      6"
      ]
     },
     "execution_count": 29,
     "metadata": {},
     "output_type": "execute_result"
    }
   ],
   "source": [
    "input_files_dir = \"/share/ScratchGeneral/anncuo/OneK1K/input_files_CellRegMap/\"\n",
    "unique_pairs_file = input_files_dir+\"outputPairs.csv\"\n",
    "unique_pairs = pd.read_csv(unique_pairs_file, header=None)\n",
    "unique_pairs.columns = [\"GeneName\",\"chrom\"]\n",
    "unique_pairs.head()"
   ]
  },
  {
   "cell_type": "code",
   "execution_count": 31,
   "id": "a068cc7d",
   "metadata": {},
   "outputs": [
    {
     "data": {
      "text/plain": [
       "(1466, 2)"
      ]
     },
     "execution_count": 31,
     "metadata": {},
     "output_type": "execute_result"
    }
   ],
   "source": [
    "unique_pairs.shape"
   ]
  },
  {
   "cell_type": "code",
   "execution_count": 32,
   "id": "305e8854",
   "metadata": {},
   "outputs": [
    {
     "data": {
      "text/plain": [
       "1466"
      ]
     },
     "execution_count": 32,
     "metadata": {},
     "output_type": "execute_result"
    }
   ],
   "source": [
    "len(unique_pairs[\"GeneName\"].unique())"
   ]
  },
  {
   "cell_type": "code",
   "execution_count": null,
   "id": "d64a48f8",
   "metadata": {},
   "outputs": [],
   "source": []
  },
  {
   "cell_type": "code",
   "execution_count": null,
   "id": "f724c79e",
   "metadata": {},
   "outputs": [],
   "source": [
    "# cut sort and uniq -u"
   ]
  }
 ],
 "metadata": {
  "kernelspec": {
   "display_name": "Python (Jupyter - cellregmap)",
   "language": "python",
   "name": "cellregmap_notebook"
  },
  "language_info": {
   "codemirror_mode": {
    "name": "ipython",
    "version": 3
   },
   "file_extension": ".py",
   "mimetype": "text/x-python",
   "name": "python",
   "nbconvert_exporter": "python",
   "pygments_lexer": "ipython3",
   "version": "3.7.11"
  }
 },
 "nbformat": 4,
 "nbformat_minor": 5
}
