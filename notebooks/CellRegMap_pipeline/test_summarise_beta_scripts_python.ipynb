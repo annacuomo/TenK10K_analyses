{
 "cells": [
  {
   "cell_type": "code",
   "execution_count": 67,
   "id": "02000c2e",
   "metadata": {},
   "outputs": [],
   "source": [
    "import os\n",
    "import re\n",
    "import click\n",
    "import pandas as pd\n",
    "import numpy as np"
   ]
  },
  {
   "cell_type": "code",
   "execution_count": 68,
   "id": "fb232f1b",
   "metadata": {},
   "outputs": [],
   "source": [
    "def smartAppend(table,name,value):\n",
    "    \"\"\" helper function for appending in a dictionary \"\"\"\n",
    "    if name not in table.keys():\n",
    "        table[name] = []\n",
    "    table[name].append(value)"
   ]
  },
  {
   "cell_type": "code",
   "execution_count": 69,
   "id": "2d84d636",
   "metadata": {},
   "outputs": [],
   "source": [
    "# @click.command()\n",
    "# @click.option('--file-with-filenames-1', required=True)\n",
    "# @click.option('--file-with-filenames-2', required=True)"
   ]
  },
  {
   "cell_type": "code",
   "execution_count": 70,
   "id": "6794cbde",
   "metadata": {},
   "outputs": [],
   "source": [
    "##################\n",
    "####### betaG\n",
    "x = 0\n",
    "table = {}"
   ]
  },
  {
   "cell_type": "code",
   "execution_count": 71,
   "id": "7556089a",
   "metadata": {},
   "outputs": [],
   "source": [
    "# with open(file_with_filenames_1, encoding='utf-8') as f:\n",
    "#     list_of_files1 = f.readlines()"
   ]
  },
  {
   "cell_type": "code",
   "execution_count": 72,
   "id": "68a7e77d",
   "metadata": {},
   "outputs": [],
   "source": [
    "list_of_files1 = ['/share/ScratchGeneral/anncuo/OneK1K/CRM_interaction/Bcells_noplasma_Bcell_eQTLs/betas/ABRACL_betaG.csv',\n",
    "                  '/share/ScratchGeneral/anncuo/OneK1K/CRM_interaction/Bcells_noplasma_Bcell_eQTLs/betas/AC006129.4_betaG.csv']"
   ]
  },
  {
   "cell_type": "code",
   "execution_count": 73,
   "id": "47d46aed",
   "metadata": {},
   "outputs": [],
   "source": [
    "path_results = \"\""
   ]
  },
  {
   "cell_type": "code",
   "execution_count": 74,
   "id": "fcbbe050",
   "metadata": {},
   "outputs": [
    {
     "name": "stdout",
     "output_type": "stream",
     "text": [
      "/share/ScratchGeneral/anncuo/OneK1K/CRM_interaction/Bcells_noplasma_Bcell_eQTLs/betas/ABRACL_betaG.csv\n",
      "   chrom    betaG      variant\n",
      "0      6 -0.00197  6:139343892\n",
      "ABRACL\n",
      "6\n",
      "/share/ScratchGeneral/anncuo/OneK1K/CRM_interaction/Bcells_noplasma_Bcell_eQTLs/betas/AC006129.4_betaG.csv\n",
      "   chrom     betaG      variant\n",
      "0     19 -0.000204  19:42049821\n",
      "AC006129.4\n",
      "19\n"
     ]
    },
    {
     "data": {
      "text/plain": [
       "'summary_betaG.csv'"
      ]
     },
     "execution_count": 74,
     "metadata": {},
     "output_type": "execute_result"
    }
   ],
   "source": [
    "for file in list_of_files1:\n",
    "    print(file)\n",
    "    x += 1\n",
    "    if x % 500 == 0: \n",
    "        print(x)\n",
    "    df = pd.read_csv(file, index_col=0)\n",
    "    print(df.head())\n",
    "    nsnps = int(len(df))\n",
    "    if nsnps==0:\n",
    "        continue\n",
    "    gene = re.sub(\"_betaG\",\"\",os.path.splitext(os.path.basename(file))[0])\n",
    "    print(gene)\n",
    "    chrom = df['chrom'].values[0]\n",
    "    print(chrom)\n",
    "    for i in range(nsnps):\n",
    "        temp = {}\n",
    "        temp['gene'] = gene\n",
    "        temp['n_snps'] = nsnps\n",
    "        temp['snp_id'] = df['variant'].values[i]\n",
    "        temp['betaG'] = df['betaG'].values[i]\n",
    "\n",
    "    for key in temp.keys():\n",
    "        smartAppend(table, key, temp[key])\n",
    "\n",
    "# print(x)\n",
    "for key in table.keys():\n",
    "    table[key] = np.array(table[key])\n",
    "\n",
    "df = pd.DataFrame.from_dict(table)\n",
    "df.head()\n",
    "outfile = \"summary_betaG.csv\" \n",
    "myp = os.path.join(path_results, outfile)\n",
    "myp\n",
    "# df.to_csv(myp)"
   ]
  },
  {
   "cell_type": "code",
   "execution_count": 75,
   "id": "211ebf0a",
   "metadata": {},
   "outputs": [],
   "source": [
    "# betaGxC\n",
    "x = 0\n",
    "table = {}\n",
    "\n",
    "# with open(file_with_filenames_2, encoding='utf-8') as f:\n",
    "#     list_of_files2 = f.readlines()\n",
    "\n",
    "list_of_files2 = ['/share/ScratchGeneral/anncuo/OneK1K/CRM_interaction/Bcells_noplasma_Bcell_eQTLs/betas/ABRACL_betaGxC.csv',\n",
    "                  '/share/ScratchGeneral/anncuo/OneK1K/CRM_interaction/Bcells_noplasma_Bcell_eQTLs/betas/AC006129.4_betaGxC.csv']"
   ]
  },
  {
   "cell_type": "code",
   "execution_count": 82,
   "id": "124c0b74",
   "metadata": {},
   "outputs": [
    {
     "name": "stdout",
     "output_type": "stream",
     "text": [
      "                    ABRACL_6:139343892\n",
      "AAACCTGCAACGATCT-1            0.061712\n",
      "AAACCTGGTCAGAATA-1            0.008589\n",
      "AAACGGGAGCGTCAAG-1            0.009808\n",
      "AAACGGGAGGGAACGG-1            0.019251\n",
      "AAACGGGCAGTTCATG-1            0.050792\n",
      "                    ABRACL_6:139343892  AC006129.4_19:42049821\n",
      "AAACCTGCAACGATCT-1            0.061712                0.050538\n",
      "AAACCTGGTCAGAATA-1            0.008589               -0.002523\n",
      "AAACGGGAGCGTCAAG-1            0.009808                0.039309\n",
      "AAACGGGAGGGAACGG-1            0.019251                0.033133\n",
      "AAACGGGCAGTTCATG-1            0.050792                0.050145\n"
     ]
    }
   ],
   "source": [
    "df_all = pd.DataFrame()\n",
    "for file in list_of_files2:\n",
    "#     print(file)\n",
    "    x += 1\n",
    "    if x % 500 == 0: \n",
    "        print(x)\n",
    "    df = pd.read_csv(file, index_col=0)\n",
    "#     print(df.head())\n",
    "    nsnps = int(len(df))\n",
    "    if nsnps==0:\n",
    "        continue\n",
    "    gene = re.sub(\"_betaGxC\",\"\",os.path.splitext(os.path.basename(file))[0]) \n",
    "#     print(gene)\n",
    "    df.columns = gene + \"_\" + df.columns\n",
    "#     print(df.head())\n",
    "    df_all = pd.concat([df_all, df], axis=1)\n",
    "    print(df_all.head())\n",
    "\n",
    "outfile = \"summary_betaGxC.csv\" \n",
    "myp = os.path.join(path_results, outfile)\n",
    "# df_all.to_csv(myp)"
   ]
  },
  {
   "cell_type": "code",
   "execution_count": null,
   "id": "779dbe70",
   "metadata": {},
   "outputs": [],
   "source": []
  }
 ],
 "metadata": {
  "kernelspec": {
   "display_name": "Python (Jupyter - cellregmap)",
   "language": "python",
   "name": "cellregmap_notebook"
  },
  "language_info": {
   "codemirror_mode": {
    "name": "ipython",
    "version": 3
   },
   "file_extension": ".py",
   "mimetype": "text/x-python",
   "name": "python",
   "nbconvert_exporter": "python",
   "pygments_lexer": "ipython3",
   "version": "3.7.11"
  }
 },
 "nbformat": 4,
 "nbformat_minor": 5
}
