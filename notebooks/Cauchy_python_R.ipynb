{
 "cells": [
  {
   "cell_type": "code",
   "execution_count": 15,
   "id": "7df40e03-a444-410d-ad0a-f8e74a1264e3",
   "metadata": {},
   "outputs": [],
   "source": [
    "### Cauchy p-value combination (ACAT-O approach)"
   ]
  },
  {
   "cell_type": "code",
   "execution_count": 16,
   "id": "9b0138bc-dfef-4bc4-a61f-70efb61accc6",
   "metadata": {},
   "outputs": [
    {
     "data": {
      "text/plain": [
       "0.001953404405770076"
      ]
     },
     "execution_count": 16,
     "metadata": {},
     "output_type": "execute_result"
    }
   ],
   "source": [
    "########## in python\n",
    "import numpy as np\n",
    "from scipy.stats import cauchy\n",
    "from math import pi, tan\n",
    "\n",
    "pvals = np.array([2e-2, 4e-4, 0.2, 0.1, 0.8])\n",
    "\n",
    "elems = np.array([tan((0.5 - pval) * pi) for pval in pvals])\n",
    "t_acato = (1 / len(pvals)) * np.sum(elems)  # T statistic\n",
    "pv = 1 - float(cauchy.cdf(t_acato))         # get Cauchy PV\n",
    "\n",
    "pv"
   ]
  },
  {
   "cell_type": "code",
   "execution_count": 1,
   "id": "024747c3-50c1-432b-8cdd-cdde617fd2d7",
   "metadata": {},
   "outputs": [
    {
     "data": {
      "text/html": [
       "0.00195340440577018"
      ],
      "text/latex": [
       "0.00195340440577018"
      ],
      "text/markdown": [
       "0.00195340440577018"
      ],
      "text/plain": [
       "[1] 0.001953404"
      ]
     },
     "metadata": {},
     "output_type": "display_data"
    }
   ],
   "source": [
    "########## in R\n",
    "pvals = c(2e-2, 4e-4, 0.2, 0.1, 0.8)\n",
    "\n",
    "elems <- tan((0.5 - pvals) * pi)\n",
    "t_acato <- (1 / length(pvals)) * sum(elems)            # T statistic\n",
    "pv <- as.numeric(pcauchy(t_acato, lower.tail = FALSE)) # get Cauchy PV\n",
    "\n",
    "pv"
   ]
  },
  {
   "cell_type": "code",
   "execution_count": null,
   "id": "a3bb662e-93a9-454a-8528-b73a73444692",
   "metadata": {},
   "outputs": [],
   "source": []
  }
 ],
 "metadata": {
  "environment": {
   "kernel": "ir",
   "name": "r-cpu.4-1.m87",
   "type": "gcloud",
   "uri": "gcr.io/deeplearning-platform-release/r-cpu.4-1:m87"
  },
  "kernelspec": {
   "display_name": "R",
   "language": "R",
   "name": "ir"
  },
  "language_info": {
   "codemirror_mode": "r",
   "file_extension": ".r",
   "mimetype": "text/x-r-source",
   "name": "R",
   "pygments_lexer": "r",
   "version": "4.1.2"
  }
 },
 "nbformat": 4,
 "nbformat_minor": 5
}
