{
 "cells": [
  {
   "cell_type": "code",
   "execution_count": 1,
   "id": "d6f239d6",
   "metadata": {},
   "outputs": [],
   "source": [
    "import os"
   ]
  },
  {
   "cell_type": "code",
   "execution_count": 7,
   "id": "9ea6c47a",
   "metadata": {},
   "outputs": [],
   "source": [
    "folder = \"/share/ScratchGeneral/anncuo/OneK1K/CRM_interaction/Monocytes_Mono_eQTLs/sex_interactions/\""
   ]
  },
  {
   "cell_type": "code",
   "execution_count": 12,
   "id": "e3d7267a",
   "metadata": {},
   "outputs": [],
   "source": [
    "file = folder+\"BLK.csv\""
   ]
  },
  {
   "cell_type": "code",
   "execution_count": 13,
   "id": "2025267b",
   "metadata": {},
   "outputs": [
    {
     "data": {
      "text/plain": [
       "'/share/ScratchGeneral/anncuo/OneK1K/CRM_interaction/Monocytes_Mono_eQTLs/sex_interactions/BLK.csv'"
      ]
     },
     "execution_count": 13,
     "metadata": {},
     "output_type": "execute_result"
    }
   ],
   "source": [
    "file"
   ]
  },
  {
   "cell_type": "code",
   "execution_count": 14,
   "id": "316d6a57",
   "metadata": {},
   "outputs": [],
   "source": [
    "gene = os.path.splitext(os.path.basename(file))[0] "
   ]
  },
  {
   "cell_type": "code",
   "execution_count": 15,
   "id": "e89e8fe6",
   "metadata": {},
   "outputs": [
    {
     "data": {
      "text/plain": [
       "'BLK'"
      ]
     },
     "execution_count": 15,
     "metadata": {},
     "output_type": "execute_result"
    }
   ],
   "source": [
    "gene"
   ]
  },
  {
   "cell_type": "code",
   "execution_count": null,
   "id": "9dfc3ede",
   "metadata": {},
   "outputs": [],
   "source": []
  }
 ],
 "metadata": {
  "kernelspec": {
   "display_name": "Python (Jupyter - cellregmap)",
   "language": "python",
   "name": "cellregmap_notebook"
  },
  "language_info": {
   "codemirror_mode": {
    "name": "ipython",
    "version": 3
   },
   "file_extension": ".py",
   "mimetype": "text/x-python",
   "name": "python",
   "nbconvert_exporter": "python",
   "pygments_lexer": "ipython3",
   "version": "3.7.11"
  }
 },
 "nbformat": 4,
 "nbformat_minor": 5
}
