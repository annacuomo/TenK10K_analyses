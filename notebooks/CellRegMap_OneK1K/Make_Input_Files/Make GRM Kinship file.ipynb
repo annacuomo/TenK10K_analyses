{
 "cells": [
  {
   "cell_type": "code",
   "execution_count": 1,
   "id": "a6ae0811",
   "metadata": {},
   "outputs": [],
   "source": [
    "mydir = \"/share/ScratchGeneral/anncuo/OneK1K/\""
   ]
  },
  {
   "cell_type": "code",
   "execution_count": 2,
   "id": "876e8d14",
   "metadata": {},
   "outputs": [
    {
     "data": {
      "text/html": [
       "<style>\n",
       ".list-inline {list-style: none; margin:0; padding: 0}\n",
       ".list-inline>li {display: inline-block}\n",
       ".list-inline>li:not(:last-child)::after {content: \"\\00b7\"; padding: 0 .5ex}\n",
       "</style>\n",
       "<ol class=list-inline><li>'grm.bed'</li><li>'grm.bim'</li><li>'grm.fam'</li><li>'grm.grm.bin'</li><li>'grm.grm.id'</li><li>'grm.grm.N.bin'</li><li>'grm.hh'</li><li>'grm.log'</li><li>'grm.rel.grm.id'</li><li>'y_par.snps'</li></ol>\n"
      ],
      "text/latex": [
       "\\begin{enumerate*}\n",
       "\\item 'grm.bed'\n",
       "\\item 'grm.bim'\n",
       "\\item 'grm.fam'\n",
       "\\item 'grm.grm.bin'\n",
       "\\item 'grm.grm.id'\n",
       "\\item 'grm.grm.N.bin'\n",
       "\\item 'grm.hh'\n",
       "\\item 'grm.log'\n",
       "\\item 'grm.rel.grm.id'\n",
       "\\item 'y\\_par.snps'\n",
       "\\end{enumerate*}\n"
      ],
      "text/markdown": [
       "1. 'grm.bed'\n",
       "2. 'grm.bim'\n",
       "3. 'grm.fam'\n",
       "4. 'grm.grm.bin'\n",
       "5. 'grm.grm.id'\n",
       "6. 'grm.grm.N.bin'\n",
       "7. 'grm.hh'\n",
       "8. 'grm.log'\n",
       "9. 'grm.rel.grm.id'\n",
       "10. 'y_par.snps'\n",
       "\n",
       "\n"
      ],
      "text/plain": [
       " [1] \"grm.bed\"        \"grm.bim\"        \"grm.fam\"        \"grm.grm.bin\"   \n",
       " [5] \"grm.grm.id\"     \"grm.grm.N.bin\"  \"grm.hh\"         \"grm.log\"       \n",
       " [9] \"grm.rel.grm.id\" \"y_par.snps\"    "
      ]
     },
     "metadata": {},
     "output_type": "display_data"
    }
   ],
   "source": [
    "list.files(paste0(mydir,\"grm\"))"
   ]
  },
  {
   "cell_type": "code",
   "execution_count": 38,
   "id": "63832acf",
   "metadata": {},
   "outputs": [
    {
     "data": {
      "text/html": [
       "<table class=\"dataframe\">\n",
       "<caption>A data.frame: 6 × 6</caption>\n",
       "<thead>\n",
       "\t<tr><th></th><th scope=col>V1</th><th scope=col>V2</th><th scope=col>V3</th><th scope=col>V4</th><th scope=col>V5</th><th scope=col>V6</th></tr>\n",
       "\t<tr><th></th><th scope=col>&lt;int&gt;</th><th scope=col>&lt;chr&gt;</th><th scope=col>&lt;int&gt;</th><th scope=col>&lt;int&gt;</th><th scope=col>&lt;int&gt;</th><th scope=col>&lt;int&gt;</th></tr>\n",
       "</thead>\n",
       "<tbody>\n",
       "\t<tr><th scope=row>1081</th><td>1099</td><td>848_2</td><td>0</td><td>0</td><td>2</td><td>-9</td></tr>\n",
       "\t<tr><th scope=row>1082</th><td>1100</td><td>914_2</td><td>0</td><td>0</td><td>2</td><td>-9</td></tr>\n",
       "\t<tr><th scope=row>1083</th><td>1101</td><td>915_2</td><td>0</td><td>0</td><td>2</td><td>-9</td></tr>\n",
       "\t<tr><th scope=row>1084</th><td>1102</td><td>932_2</td><td>0</td><td>0</td><td>1</td><td>-9</td></tr>\n",
       "\t<tr><th scope=row>1085</th><td>1103</td><td>926_2</td><td>0</td><td>0</td><td>2</td><td>-9</td></tr>\n",
       "\t<tr><th scope=row>1086</th><td>1104</td><td>920_2</td><td>0</td><td>0</td><td>2</td><td>-9</td></tr>\n",
       "</tbody>\n",
       "</table>\n"
      ],
      "text/latex": [
       "A data.frame: 6 × 6\n",
       "\\begin{tabular}{r|llllll}\n",
       "  & V1 & V2 & V3 & V4 & V5 & V6\\\\\n",
       "  & <int> & <chr> & <int> & <int> & <int> & <int>\\\\\n",
       "\\hline\n",
       "\t1081 & 1099 & 848\\_2 & 0 & 0 & 2 & -9\\\\\n",
       "\t1082 & 1100 & 914\\_2 & 0 & 0 & 2 & -9\\\\\n",
       "\t1083 & 1101 & 915\\_2 & 0 & 0 & 2 & -9\\\\\n",
       "\t1084 & 1102 & 932\\_2 & 0 & 0 & 1 & -9\\\\\n",
       "\t1085 & 1103 & 926\\_2 & 0 & 0 & 2 & -9\\\\\n",
       "\t1086 & 1104 & 920\\_2 & 0 & 0 & 2 & -9\\\\\n",
       "\\end{tabular}\n"
      ],
      "text/markdown": [
       "\n",
       "A data.frame: 6 × 6\n",
       "\n",
       "| <!--/--> | V1 &lt;int&gt; | V2 &lt;chr&gt; | V3 &lt;int&gt; | V4 &lt;int&gt; | V5 &lt;int&gt; | V6 &lt;int&gt; |\n",
       "|---|---|---|---|---|---|---|\n",
       "| 1081 | 1099 | 848_2 | 0 | 0 | 2 | -9 |\n",
       "| 1082 | 1100 | 914_2 | 0 | 0 | 2 | -9 |\n",
       "| 1083 | 1101 | 915_2 | 0 | 0 | 2 | -9 |\n",
       "| 1084 | 1102 | 932_2 | 0 | 0 | 1 | -9 |\n",
       "| 1085 | 1103 | 926_2 | 0 | 0 | 2 | -9 |\n",
       "| 1086 | 1104 | 920_2 | 0 | 0 | 2 | -9 |\n",
       "\n"
      ],
      "text/plain": [
       "     V1   V2    V3 V4 V5 V6\n",
       "1081 1099 848_2 0  0  2  -9\n",
       "1082 1100 914_2 0  0  2  -9\n",
       "1083 1101 915_2 0  0  2  -9\n",
       "1084 1102 932_2 0  0  1  -9\n",
       "1085 1103 926_2 0  0  2  -9\n",
       "1086 1104 920_2 0  0  2  -9"
      ]
     },
     "metadata": {},
     "output_type": "display_data"
    }
   ],
   "source": [
    "df = read.table(paste0(mydir,\"grm/grm.fam\"))\n",
    "tail(df)"
   ]
  },
  {
   "cell_type": "code",
   "execution_count": 40,
   "id": "aad29773",
   "metadata": {},
   "outputs": [
    {
     "data": {
      "text/html": [
       "1086"
      ],
      "text/latex": [
       "1086"
      ],
      "text/markdown": [
       "1086"
      ],
      "text/plain": [
       "[1] 1086"
      ]
     },
     "metadata": {},
     "output_type": "display_data"
    }
   ],
   "source": [
    "length(unique(df$V2))"
   ]
  },
  {
   "cell_type": "code",
   "execution_count": null,
   "id": "47e9d6ad",
   "metadata": {},
   "outputs": [],
   "source": [
    "# goal: a donor x donor kinship matrix"
   ]
  },
  {
   "cell_type": "code",
   "execution_count": 3,
   "id": "1baca0b2",
   "metadata": {},
   "outputs": [],
   "source": [
    "# attempt: using function from https://gist.github.com/explodecomputer/7150052\n",
    "readGRM <- function(rootname)\n",
    "{\n",
    "    bin.file.name <- paste(rootname, \".grm.bin\", sep=\"\")\n",
    "    n.file.name <- paste(rootname, \".grm.N.bin\", sep=\"\")\n",
    "    id.file.name <- paste(rootname, \".grm.id\", sep=\"\")\n",
    "\n",
    "    cat(\"Reading IDs\\n\")\n",
    "    id <- read.table(id.file.name, colClasses=\"character\")\n",
    "    n <- dim(id)[1]\n",
    "    cat(\"Reading GRM\\n\")\n",
    "    bin.file <- file(bin.file.name, \"rb\")\n",
    "    grm <- readBin(bin.file, n=n*(n+1)/2, what=numeric(0), size=4)\n",
    "    close(bin.file)\n",
    "    cat(\"Reading N\\n\")\n",
    "    n.file <- file(n.file.name, \"rb\")\n",
    "    N <- readBin(n.file, n=n*(n+1)/2, what=numeric(0), size=4)\n",
    "    close(n.file)\n",
    "\n",
    "    cat(\"Creating data frame\\n\")\n",
    "    l <- list()\n",
    "    for(i in 1:n)\n",
    "    {\n",
    "        l[[i]] <- 1:i\n",
    "    }\n",
    "    col1 <- rep(1:n, 1:n)\n",
    "    col2 <- unlist(l)\n",
    "    grm <- data.frame(id1=col1, id2=col2, N=N, grm=grm)\t\n",
    "\n",
    "    ret <- list()\n",
    "    ret$grm <- grm\n",
    "    ret$id <- id\n",
    "    return(ret)\n",
    "}"
   ]
  },
  {
   "cell_type": "code",
   "execution_count": 4,
   "id": "7bd054d2",
   "metadata": {},
   "outputs": [],
   "source": [
    "rootname = \"/share/ScratchGeneral/anncuo/OneK1K/grm/grm\""
   ]
  },
  {
   "cell_type": "code",
   "execution_count": 5,
   "id": "e5d3b5f2",
   "metadata": {},
   "outputs": [
    {
     "name": "stdout",
     "output_type": "stream",
     "text": [
      "Reading IDs\n",
      "Reading GRM\n",
      "Reading N\n",
      "Creating data frame\n"
     ]
    }
   ],
   "source": [
    "grm = readGRM(rootname)"
   ]
  },
  {
   "cell_type": "code",
   "execution_count": 7,
   "id": "80f98ca0",
   "metadata": {},
   "outputs": [
    {
     "name": "stdout",
     "output_type": "stream",
     "text": [
      "List of 2\n",
      " $ grm:'data.frame':\t590241 obs. of  4 variables:\n",
      "  ..$ id1: int [1:590241] 1 2 2 3 3 3 4 4 4 4 ...\n",
      "  ..$ id2: int [1:590241] 1 1 2 1 2 3 1 2 3 4 ...\n",
      "  ..$ N  : num [1:590241] 497039 496776 497965 496791 497710 ...\n",
      "  ..$ grm: num [1:590241] 0.995624 -0.001683 0.990942 -0.000266 0.00444 ...\n",
      " $ id :'data.frame':\t1086 obs. of  2 variables:\n",
      "  ..$ V1: chr [1:1086] \"1\" \"2\" \"3\" \"4\" ...\n",
      "  ..$ V2: chr [1:1086] \"1\" \"2\" \"3\" \"4\" ...\n"
     ]
    }
   ],
   "source": [
    "str(grm)"
   ]
  },
  {
   "cell_type": "code",
   "execution_count": 9,
   "id": "4904c4d2",
   "metadata": {},
   "outputs": [
    {
     "data": {
      "text/html": [
       "<style>\n",
       ".list-inline {list-style: none; margin:0; padding: 0}\n",
       ".list-inline>li {display: inline-block}\n",
       ".list-inline>li:not(:last-child)::after {content: \"\\00b7\"; padding: 0 .5ex}\n",
       "</style>\n",
       "<ol class=list-inline><li>590241</li><li>4</li></ol>\n"
      ],
      "text/latex": [
       "\\begin{enumerate*}\n",
       "\\item 590241\n",
       "\\item 4\n",
       "\\end{enumerate*}\n"
      ],
      "text/markdown": [
       "1. 590241\n",
       "2. 4\n",
       "\n",
       "\n"
      ],
      "text/plain": [
       "[1] 590241      4"
      ]
     },
     "metadata": {},
     "output_type": "display_data"
    }
   ],
   "source": [
    "dim(grm$grm)"
   ]
  },
  {
   "cell_type": "code",
   "execution_count": 23,
   "id": "6f88983b",
   "metadata": {},
   "outputs": [],
   "source": [
    "x = grm$grm"
   ]
  },
  {
   "cell_type": "code",
   "execution_count": 36,
   "id": "0834e994",
   "metadata": {},
   "outputs": [
    {
     "data": {
      "text/html": [
       "<table class=\"dataframe\">\n",
       "<caption>A data.frame: 6 × 3</caption>\n",
       "<thead>\n",
       "\t<tr><th></th><th scope=col>id1</th><th scope=col>id2</th><th scope=col>grm</th></tr>\n",
       "\t<tr><th></th><th scope=col>&lt;int&gt;</th><th scope=col>&lt;int&gt;</th><th scope=col>&lt;dbl&gt;</th></tr>\n",
       "</thead>\n",
       "<tbody>\n",
       "\t<tr><th scope=row>1</th><td>1</td><td>1</td><td> 0.9956240654</td></tr>\n",
       "\t<tr><th scope=row>2</th><td>2</td><td>1</td><td>-0.0016830340</td></tr>\n",
       "\t<tr><th scope=row>3</th><td>2</td><td>2</td><td> 0.9909417629</td></tr>\n",
       "\t<tr><th scope=row>4</th><td>3</td><td>1</td><td>-0.0002661081</td></tr>\n",
       "\t<tr><th scope=row>5</th><td>3</td><td>2</td><td> 0.0044398019</td></tr>\n",
       "\t<tr><th scope=row>6</th><td>3</td><td>3</td><td> 0.9953926206</td></tr>\n",
       "</tbody>\n",
       "</table>\n"
      ],
      "text/latex": [
       "A data.frame: 6 × 3\n",
       "\\begin{tabular}{r|lll}\n",
       "  & id1 & id2 & grm\\\\\n",
       "  & <int> & <int> & <dbl>\\\\\n",
       "\\hline\n",
       "\t1 & 1 & 1 &  0.9956240654\\\\\n",
       "\t2 & 2 & 1 & -0.0016830340\\\\\n",
       "\t3 & 2 & 2 &  0.9909417629\\\\\n",
       "\t4 & 3 & 1 & -0.0002661081\\\\\n",
       "\t5 & 3 & 2 &  0.0044398019\\\\\n",
       "\t6 & 3 & 3 &  0.9953926206\\\\\n",
       "\\end{tabular}\n"
      ],
      "text/markdown": [
       "\n",
       "A data.frame: 6 × 3\n",
       "\n",
       "| <!--/--> | id1 &lt;int&gt; | id2 &lt;int&gt; | grm &lt;dbl&gt; |\n",
       "|---|---|---|---|\n",
       "| 1 | 1 | 1 |  0.9956240654 |\n",
       "| 2 | 2 | 1 | -0.0016830340 |\n",
       "| 3 | 2 | 2 |  0.9909417629 |\n",
       "| 4 | 3 | 1 | -0.0002661081 |\n",
       "| 5 | 3 | 2 |  0.0044398019 |\n",
       "| 6 | 3 | 3 |  0.9953926206 |\n",
       "\n"
      ],
      "text/plain": [
       "  id1 id2 grm          \n",
       "1 1   1    0.9956240654\n",
       "2 2   1   -0.0016830340\n",
       "3 2   2    0.9909417629\n",
       "4 3   1   -0.0002661081\n",
       "5 3   2    0.0044398019\n",
       "6 3   3    0.9953926206"
      ]
     },
     "metadata": {},
     "output_type": "display_data"
    }
   ],
   "source": [
    "head(x)"
   ]
  },
  {
   "cell_type": "code",
   "execution_count": 43,
   "id": "76de177f",
   "metadata": {},
   "outputs": [
    {
     "data": {
      "text/html": [
       "<table class=\"dataframe\">\n",
       "<caption>A data.frame: 6 × 2</caption>\n",
       "<thead>\n",
       "\t<tr><th></th><th scope=col>V1</th><th scope=col>V2</th></tr>\n",
       "\t<tr><th></th><th scope=col>&lt;chr&gt;</th><th scope=col>&lt;chr&gt;</th></tr>\n",
       "</thead>\n",
       "<tbody>\n",
       "\t<tr><th scope=row>1081</th><td>1099</td><td>848_2</td></tr>\n",
       "\t<tr><th scope=row>1082</th><td>1100</td><td>914_2</td></tr>\n",
       "\t<tr><th scope=row>1083</th><td>1101</td><td>915_2</td></tr>\n",
       "\t<tr><th scope=row>1084</th><td>1102</td><td>932_2</td></tr>\n",
       "\t<tr><th scope=row>1085</th><td>1103</td><td>926_2</td></tr>\n",
       "\t<tr><th scope=row>1086</th><td>1104</td><td>920_2</td></tr>\n",
       "</tbody>\n",
       "</table>\n"
      ],
      "text/latex": [
       "A data.frame: 6 × 2\n",
       "\\begin{tabular}{r|ll}\n",
       "  & V1 & V2\\\\\n",
       "  & <chr> & <chr>\\\\\n",
       "\\hline\n",
       "\t1081 & 1099 & 848\\_2\\\\\n",
       "\t1082 & 1100 & 914\\_2\\\\\n",
       "\t1083 & 1101 & 915\\_2\\\\\n",
       "\t1084 & 1102 & 932\\_2\\\\\n",
       "\t1085 & 1103 & 926\\_2\\\\\n",
       "\t1086 & 1104 & 920\\_2\\\\\n",
       "\\end{tabular}\n"
      ],
      "text/markdown": [
       "\n",
       "A data.frame: 6 × 2\n",
       "\n",
       "| <!--/--> | V1 &lt;chr&gt; | V2 &lt;chr&gt; |\n",
       "|---|---|---|\n",
       "| 1081 | 1099 | 848_2 |\n",
       "| 1082 | 1100 | 914_2 |\n",
       "| 1083 | 1101 | 915_2 |\n",
       "| 1084 | 1102 | 932_2 |\n",
       "| 1085 | 1103 | 926_2 |\n",
       "| 1086 | 1104 | 920_2 |\n",
       "\n"
      ],
      "text/plain": [
       "     V1   V2   \n",
       "1081 1099 848_2\n",
       "1082 1100 914_2\n",
       "1083 1101 915_2\n",
       "1084 1102 932_2\n",
       "1085 1103 926_2\n",
       "1086 1104 920_2"
      ]
     },
     "metadata": {},
     "output_type": "display_data"
    }
   ],
   "source": [
    "ids = grm$id\n",
    "tail(ids)"
   ]
  },
  {
   "cell_type": "code",
   "execution_count": 44,
   "id": "259bd634",
   "metadata": {},
   "outputs": [],
   "source": [
    "colnames(ids) = c(\"FAMID\",\"INDID\")"
   ]
  },
  {
   "cell_type": "code",
   "execution_count": 45,
   "id": "6d6a24c7",
   "metadata": {},
   "outputs": [],
   "source": [
    "write.csv(ids,\"/share/ScratchGeneral/anncuo/OneK1K/input_files_CellRegMap/grm_ids.csv\")"
   ]
  },
  {
   "cell_type": "code",
   "execution_count": 25,
   "id": "d228d759",
   "metadata": {},
   "outputs": [],
   "source": [
    "write.csv(x,\"/share/ScratchGeneral/anncuo/OneK1K/input_files_CellRegMap/grm_long.csv\")"
   ]
  },
  {
   "cell_type": "code",
   "execution_count": 24,
   "id": "966ee977",
   "metadata": {},
   "outputs": [
    {
     "data": {
      "text/html": [
       "1086"
      ],
      "text/latex": [
       "1086"
      ],
      "text/markdown": [
       "1086"
      ],
      "text/plain": [
       "[1] 1086"
      ]
     },
     "metadata": {},
     "output_type": "display_data"
    },
    {
     "data": {
      "text/html": [
       "1086"
      ],
      "text/latex": [
       "1086"
      ],
      "text/markdown": [
       "1086"
      ],
      "text/plain": [
       "[1] 1086"
      ]
     },
     "metadata": {},
     "output_type": "display_data"
    }
   ],
   "source": [
    "length(unique(x$id1))\n",
    "length(unique(x$id2))"
   ]
  },
  {
   "cell_type": "code",
   "execution_count": null,
   "id": "29beff24",
   "metadata": {},
   "outputs": [],
   "source": []
  }
 ],
 "metadata": {
  "kernelspec": {
   "display_name": "Single Cell Notebook (R 4.1.2)",
   "language": "R",
   "name": "singlecell"
  },
  "language_info": {
   "codemirror_mode": "r",
   "file_extension": ".r",
   "mimetype": "text/x-r-source",
   "name": "R",
   "pygments_lexer": "r",
   "version": "4.1.2"
  }
 },
 "nbformat": 4,
 "nbformat_minor": 5
}
