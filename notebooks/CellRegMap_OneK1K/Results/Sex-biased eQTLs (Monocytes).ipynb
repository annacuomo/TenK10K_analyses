{
 "cells": [
  {
   "cell_type": "code",
   "execution_count": 19,
   "id": "9762965b",
   "metadata": {},
   "outputs": [],
   "source": [
    "library(qvalue)"
   ]
  },
  {
   "cell_type": "code",
   "execution_count": 20,
   "id": "f8172298",
   "metadata": {},
   "outputs": [],
   "source": [
    "mydir = \"/share/ScratchGeneral/anncuo/OneK1K/\"\n",
    "results_folder = paste0(mydir ,\"CRM_interaction/Monocytes_Mono_eQTLs/sex_interactions/\")"
   ]
  },
  {
   "cell_type": "code",
   "execution_count": 21,
   "id": "88af3f68",
   "metadata": {},
   "outputs": [
    {
     "data": {
      "text/html": [
       "905"
      ],
      "text/latex": [
       "905"
      ],
      "text/markdown": [
       "905"
      ],
      "text/plain": [
       "[1] 905"
      ]
     },
     "metadata": {},
     "output_type": "display_data"
    },
    {
     "data": {
      "text/html": [
       "<table class=\"dataframe\">\n",
       "<caption>A data.frame: 2 × 5</caption>\n",
       "<thead>\n",
       "\t<tr><th></th><th scope=col>gene</th><th scope=col>n_snps</th><th scope=col>snp_id</th><th scope=col>pv_raw</th><th scope=col>pv_Bonf</th></tr>\n",
       "\t<tr><th></th><th scope=col>&lt;chr&gt;</th><th scope=col>&lt;int&gt;</th><th scope=col>&lt;chr&gt;</th><th scope=col>&lt;dbl&gt;</th><th scope=col>&lt;dbl&gt;</th></tr>\n",
       "</thead>\n",
       "<tbody>\n",
       "\t<tr><th scope=row>903</th><td>NOMO3    </td><td>4</td><td>16:16353166</td><td>0.3539202</td><td>1</td></tr>\n",
       "\t<tr><th scope=row>904</th><td>SERPINB10</td><td>5</td><td>18:61544888</td><td>0.7222130</td><td>1</td></tr>\n",
       "</tbody>\n",
       "</table>\n"
      ],
      "text/latex": [
       "A data.frame: 2 × 5\n",
       "\\begin{tabular}{r|lllll}\n",
       "  & gene & n\\_snps & snp\\_id & pv\\_raw & pv\\_Bonf\\\\\n",
       "  & <chr> & <int> & <chr> & <dbl> & <dbl>\\\\\n",
       "\\hline\n",
       "\t903 & NOMO3     & 4 & 16:16353166 & 0.3539202 & 1\\\\\n",
       "\t904 & SERPINB10 & 5 & 18:61544888 & 0.7222130 & 1\\\\\n",
       "\\end{tabular}\n"
      ],
      "text/markdown": [
       "\n",
       "A data.frame: 2 × 5\n",
       "\n",
       "| <!--/--> | gene &lt;chr&gt; | n_snps &lt;int&gt; | snp_id &lt;chr&gt; | pv_raw &lt;dbl&gt; | pv_Bonf &lt;dbl&gt; |\n",
       "|---|---|---|---|---|---|\n",
       "| 903 | NOMO3     | 4 | 16:16353166 | 0.3539202 | 1 |\n",
       "| 904 | SERPINB10 | 5 | 18:61544888 | 0.7222130 | 1 |\n",
       "\n"
      ],
      "text/plain": [
       "    gene      n_snps snp_id      pv_raw    pv_Bonf\n",
       "903 NOMO3     4      16:16353166 0.3539202 1      \n",
       "904 SERPINB10 5      18:61544888 0.7222130 1      "
      ]
     },
     "metadata": {},
     "output_type": "display_data"
    }
   ],
   "source": [
    "df = read.csv(paste0(results_folder,\"summary.csv\"), row.names=1)\n",
    "nrow(df)\n",
    "tail(df,2)"
   ]
  },
  {
   "cell_type": "code",
   "execution_count": 22,
   "id": "5da83da7",
   "metadata": {},
   "outputs": [
    {
     "data": {
      "image/png": "[encoded data removed]",
      "text/plain": [
       "Plot with title “Histogram of df$pv_raw”"
      ]
     },
     "metadata": {
      "image/png": {
       "height": 420,
       "width": 420
      }
     },
     "output_type": "display_data"
    },
    {
     "data": {
      "image/png": "[encoded data removed]",
      "text/plain": [
       "Plot with title “Histogram of df$pv_Bonf”"
      ]
     },
     "metadata": {
      "image/png": {
       "height": 420,
       "width": 420
      }
     },
     "output_type": "display_data"
    }
   ],
   "source": [
    "hist(df$pv_raw)\n",
    "hist(df$pv_Bonf)"
   ]
  },
  {
   "cell_type": "code",
   "execution_count": 23,
   "id": "ea92b525",
   "metadata": {},
   "outputs": [],
   "source": [
    "df$chrom = paste0(\"chr\",gsub(\"\\\\:.*\",\"\",df$snp_id))"
   ]
  },
  {
   "cell_type": "code",
   "execution_count": 24,
   "id": "ad07ddb4",
   "metadata": {},
   "outputs": [
    {
     "data": {
      "text/html": [
       "<style>\n",
       ".list-inline {list-style: none; margin:0; padding: 0}\n",
       ".list-inline>li {display: inline-block}\n",
       ".list-inline>li:not(:last-child)::after {content: \"\\00b7\"; padding: 0 .5ex}\n",
       "</style>\n",
       "<ol class=list-inline><li>68</li><li>905</li><li>0.0751381215469613</li></ol>\n"
      ],
      "text/latex": [
       "\\begin{enumerate*}\n",
       "\\item 68\n",
       "\\item 905\n",
       "\\item 0.0751381215469613\n",
       "\\end{enumerate*}\n"
      ],
      "text/markdown": [
       "1. 68\n",
       "2. 905\n",
       "3. 0.0751381215469613\n",
       "\n",
       "\n"
      ],
      "text/plain": [
       "[1]  68.00000000 905.00000000   0.07513812"
      ]
     },
     "metadata": {},
     "output_type": "display_data"
    }
   ],
   "source": [
    "df$qv = qvalue(df$pv_raw)$qvalues\n",
    "c(nrow(df[df$qv<0.05,]), nrow(df), nrow(df[df$qv<0.05,])/nrow(df))"
   ]
  },
  {
   "cell_type": "code",
   "execution_count": 25,
   "id": "86ede27e",
   "metadata": {},
   "outputs": [
    {
     "data": {
      "text/plain": [
       "\n",
       " chr1 chr10 chr11 chr12 chr13 chr14 chr15 chr16 chr17 chr19  chr2 chr20 chr21 \n",
       "   10     2     2     2     1     1     3     1     2     6     5     4     1 \n",
       "chr22  chr3  chr4  chr5  chr6  chr7  chr8  chr9 \n",
       "    1     3     4     1    10     4     2     3 "
      ]
     },
     "metadata": {},
     "output_type": "display_data"
    }
   ],
   "source": [
    "table(df[df$qv<0.05,\"chrom\"])"
   ]
  },
  {
   "cell_type": "code",
   "execution_count": 26,
   "id": "d3b1d18f",
   "metadata": {
    "scrolled": true
   },
   "outputs": [
    {
     "data": {
      "text/html": [
       "<style>\n",
       ".list-inline {list-style: none; margin:0; padding: 0}\n",
       ".list-inline>li {display: inline-block}\n",
       ".list-inline>li:not(:last-child)::after {content: \"\\00b7\"; padding: 0 .5ex}\n",
       "</style>\n",
       "<ol class=list-inline><li>'H1F0'</li><li>'HMGN1'</li><li>'RPS16'</li><li>'RGS1'</li><li>'CST3'</li><li>'PPDPF'</li><li>'RPL28'</li><li>'LILRA5'</li><li>'RP11-290F20.3'</li><li>'CD40'</li><li>'LMNA'</li><li>'RP11-347P5.1'</li><li>'RPS8'</li><li>'CDC42'</li><li>'RNF144B'</li><li>'HLA-A'</li><li>'FCGR2B'</li><li>'C1orf86'</li><li>'GBP2'</li><li>'L1TD1'</li><li>'DARS2'</li><li>'RPS7'</li><li>'MMEL1'</li><li>'CALM2'</li><li>'TMSB10'</li><li>'C2orf81'</li><li>'C3orf14'</li><li>'RNF13'</li><li>'CSTA'</li><li>'SETD9'</li><li>'PSMB9'</li><li>'HFE'</li><li>'HLA-DPA1'</li><li>'SERPINB1'</li><li>'CITED2'</li><li>'HIST1H2BD'</li><li>'SERPINB9'</li><li>'LYRM4'</li><li>'TMEM176B'</li><li>'TOMM7'</li><li>'CD36'</li><li>'FIS1'</li><li>'NDUFS8'</li><li>'CTSC'</li><li>'NDUFA12'</li><li>'PCBP2'</li><li>'DDX5'</li><li>'CD300E'</li><li>'FTL'</li><li>'UBA52'</li><li>'ICAM3'</li><li>'SNHG8'</li><li>'HSD17B11'</li><li>'RP11-362F19.1'</li><li>'FAM198B'</li><li>'ASAH1'</li><li>'OSTF1'</li><li>'FIBCD1'</li><li>'DECR1'</li><li>'LIPA'</li><li>'RPL12'</li><li>'MAP3K8'</li><li>'EPSTI1'</li><li>'RPL36AL'</li><li>'SEC11A'</li><li>'CHP1'</li><li>'PRKCB'</li><li>'ANPEP'</li></ol>\n"
      ],
      "text/latex": [
       "\\begin{enumerate*}\n",
       "\\item 'H1F0'\n",
       "\\item 'HMGN1'\n",
       "\\item 'RPS16'\n",
       "\\item 'RGS1'\n",
       "\\item 'CST3'\n",
       "\\item 'PPDPF'\n",
       "\\item 'RPL28'\n",
       "\\item 'LILRA5'\n",
       "\\item 'RP11-290F20.3'\n",
       "\\item 'CD40'\n",
       "\\item 'LMNA'\n",
       "\\item 'RP11-347P5.1'\n",
       "\\item 'RPS8'\n",
       "\\item 'CDC42'\n",
       "\\item 'RNF144B'\n",
       "\\item 'HLA-A'\n",
       "\\item 'FCGR2B'\n",
       "\\item 'C1orf86'\n",
       "\\item 'GBP2'\n",
       "\\item 'L1TD1'\n",
       "\\item 'DARS2'\n",
       "\\item 'RPS7'\n",
       "\\item 'MMEL1'\n",
       "\\item 'CALM2'\n",
       "\\item 'TMSB10'\n",
       "\\item 'C2orf81'\n",
       "\\item 'C3orf14'\n",
       "\\item 'RNF13'\n",
       "\\item 'CSTA'\n",
       "\\item 'SETD9'\n",
       "\\item 'PSMB9'\n",
       "\\item 'HFE'\n",
       "\\item 'HLA-DPA1'\n",
       "\\item 'SERPINB1'\n",
       "\\item 'CITED2'\n",
       "\\item 'HIST1H2BD'\n",
       "\\item 'SERPINB9'\n",
       "\\item 'LYRM4'\n",
       "\\item 'TMEM176B'\n",
       "\\item 'TOMM7'\n",
       "\\item 'CD36'\n",
       "\\item 'FIS1'\n",
       "\\item 'NDUFS8'\n",
       "\\item 'CTSC'\n",
       "\\item 'NDUFA12'\n",
       "\\item 'PCBP2'\n",
       "\\item 'DDX5'\n",
       "\\item 'CD300E'\n",
       "\\item 'FTL'\n",
       "\\item 'UBA52'\n",
       "\\item 'ICAM3'\n",
       "\\item 'SNHG8'\n",
       "\\item 'HSD17B11'\n",
       "\\item 'RP11-362F19.1'\n",
       "\\item 'FAM198B'\n",
       "\\item 'ASAH1'\n",
       "\\item 'OSTF1'\n",
       "\\item 'FIBCD1'\n",
       "\\item 'DECR1'\n",
       "\\item 'LIPA'\n",
       "\\item 'RPL12'\n",
       "\\item 'MAP3K8'\n",
       "\\item 'EPSTI1'\n",
       "\\item 'RPL36AL'\n",
       "\\item 'SEC11A'\n",
       "\\item 'CHP1'\n",
       "\\item 'PRKCB'\n",
       "\\item 'ANPEP'\n",
       "\\end{enumerate*}\n"
      ],
      "text/markdown": [
       "1. 'H1F0'\n",
       "2. 'HMGN1'\n",
       "3. 'RPS16'\n",
       "4. 'RGS1'\n",
       "5. 'CST3'\n",
       "6. 'PPDPF'\n",
       "7. 'RPL28'\n",
       "8. 'LILRA5'\n",
       "9. 'RP11-290F20.3'\n",
       "10. 'CD40'\n",
       "11. 'LMNA'\n",
       "12. 'RP11-347P5.1'\n",
       "13. 'RPS8'\n",
       "14. 'CDC42'\n",
       "15. 'RNF144B'\n",
       "16. 'HLA-A'\n",
       "17. 'FCGR2B'\n",
       "18. 'C1orf86'\n",
       "19. 'GBP2'\n",
       "20. 'L1TD1'\n",
       "21. 'DARS2'\n",
       "22. 'RPS7'\n",
       "23. 'MMEL1'\n",
       "24. 'CALM2'\n",
       "25. 'TMSB10'\n",
       "26. 'C2orf81'\n",
       "27. 'C3orf14'\n",
       "28. 'RNF13'\n",
       "29. 'CSTA'\n",
       "30. 'SETD9'\n",
       "31. 'PSMB9'\n",
       "32. 'HFE'\n",
       "33. 'HLA-DPA1'\n",
       "34. 'SERPINB1'\n",
       "35. 'CITED2'\n",
       "36. 'HIST1H2BD'\n",
       "37. 'SERPINB9'\n",
       "38. 'LYRM4'\n",
       "39. 'TMEM176B'\n",
       "40. 'TOMM7'\n",
       "41. 'CD36'\n",
       "42. 'FIS1'\n",
       "43. 'NDUFS8'\n",
       "44. 'CTSC'\n",
       "45. 'NDUFA12'\n",
       "46. 'PCBP2'\n",
       "47. 'DDX5'\n",
       "48. 'CD300E'\n",
       "49. 'FTL'\n",
       "50. 'UBA52'\n",
       "51. 'ICAM3'\n",
       "52. 'SNHG8'\n",
       "53. 'HSD17B11'\n",
       "54. 'RP11-362F19.1'\n",
       "55. 'FAM198B'\n",
       "56. 'ASAH1'\n",
       "57. 'OSTF1'\n",
       "58. 'FIBCD1'\n",
       "59. 'DECR1'\n",
       "60. 'LIPA'\n",
       "61. 'RPL12'\n",
       "62. 'MAP3K8'\n",
       "63. 'EPSTI1'\n",
       "64. 'RPL36AL'\n",
       "65. 'SEC11A'\n",
       "66. 'CHP1'\n",
       "67. 'PRKCB'\n",
       "68. 'ANPEP'\n",
       "\n",
       "\n"
      ],
      "text/plain": [
       " [1] \"H1F0\"          \"HMGN1\"         \"RPS16\"         \"RGS1\"         \n",
       " [5] \"CST3\"          \"PPDPF\"         \"RPL28\"         \"LILRA5\"       \n",
       " [9] \"RP11-290F20.3\" \"CD40\"          \"LMNA\"          \"RP11-347P5.1\" \n",
       "[13] \"RPS8\"          \"CDC42\"         \"RNF144B\"       \"HLA-A\"        \n",
       "[17] \"FCGR2B\"        \"C1orf86\"       \"GBP2\"          \"L1TD1\"        \n",
       "[21] \"DARS2\"         \"RPS7\"          \"MMEL1\"         \"CALM2\"        \n",
       "[25] \"TMSB10\"        \"C2orf81\"       \"C3orf14\"       \"RNF13\"        \n",
       "[29] \"CSTA\"          \"SETD9\"         \"PSMB9\"         \"HFE\"          \n",
       "[33] \"HLA-DPA1\"      \"SERPINB1\"      \"CITED2\"        \"HIST1H2BD\"    \n",
       "[37] \"SERPINB9\"      \"LYRM4\"         \"TMEM176B\"      \"TOMM7\"        \n",
       "[41] \"CD36\"          \"FIS1\"          \"NDUFS8\"        \"CTSC\"         \n",
       "[45] \"NDUFA12\"       \"PCBP2\"         \"DDX5\"          \"CD300E\"       \n",
       "[49] \"FTL\"           \"UBA52\"         \"ICAM3\"         \"SNHG8\"        \n",
       "[53] \"HSD17B11\"      \"RP11-362F19.1\" \"FAM198B\"       \"ASAH1\"        \n",
       "[57] \"OSTF1\"         \"FIBCD1\"        \"DECR1\"         \"LIPA\"         \n",
       "[61] \"RPL12\"         \"MAP3K8\"        \"EPSTI1\"        \"RPL36AL\"      \n",
       "[65] \"SEC11A\"        \"CHP1\"          \"PRKCB\"         \"ANPEP\"        "
      ]
     },
     "metadata": {},
     "output_type": "display_data"
    }
   ],
   "source": [
    "df[df$qv<0.05,\"gene\"]"
   ]
  },
  {
   "cell_type": "code",
   "execution_count": null,
   "id": "5d782db1",
   "metadata": {},
   "outputs": [],
   "source": []
  },
  {
   "cell_type": "code",
   "execution_count": null,
   "id": "6ada61cd",
   "metadata": {},
   "outputs": [],
   "source": [
    "##### Persistent eQTL effects "
   ]
  },
  {
   "cell_type": "code",
   "execution_count": 31,
   "id": "a0680f99",
   "metadata": {},
   "outputs": [
    {
     "data": {
      "text/html": [
       "68"
      ],
      "text/latex": [
       "68"
      ],
      "text/markdown": [
       "68"
      ],
      "text/plain": [
       "[1] 68"
      ]
     },
     "metadata": {},
     "output_type": "display_data"
    },
    {
     "data": {
      "text/html": [
       "<table class=\"dataframe\">\n",
       "<caption>A data.frame: 2 × 1</caption>\n",
       "<thead>\n",
       "\t<tr><th></th><th scope=col>betaG</th></tr>\n",
       "\t<tr><th></th><th scope=col>&lt;dbl&gt;</th></tr>\n",
       "</thead>\n",
       "<tbody>\n",
       "\t<tr><th scope=row>TOMM7-7:22852499</th><td>0.29902698</td></tr>\n",
       "\t<tr><th scope=row>UBA52-19:18699990</th><td>0.05833068</td></tr>\n",
       "</tbody>\n",
       "</table>\n"
      ],
      "text/latex": [
       "A data.frame: 2 × 1\n",
       "\\begin{tabular}{r|l}\n",
       "  & betaG\\\\\n",
       "  & <dbl>\\\\\n",
       "\\hline\n",
       "\tTOMM7-7:22852499 & 0.29902698\\\\\n",
       "\tUBA52-19:18699990 & 0.05833068\\\\\n",
       "\\end{tabular}\n"
      ],
      "text/markdown": [
       "\n",
       "A data.frame: 2 × 1\n",
       "\n",
       "| <!--/--> | betaG &lt;dbl&gt; |\n",
       "|---|---|\n",
       "| TOMM7-7:22852499 | 0.29902698 |\n",
       "| UBA52-19:18699990 | 0.05833068 |\n",
       "\n"
      ],
      "text/plain": [
       "                  betaG     \n",
       "TOMM7-7:22852499  0.29902698\n",
       "UBA52-19:18699990 0.05833068"
      ]
     },
     "metadata": {},
     "output_type": "display_data"
    }
   ],
   "source": [
    "df0 = read.csv(paste0(results_folder,\"betas/summary_betaG.csv\"), row.names=1)\n",
    "nrow(df0)\n",
    "tail(df0,2)"
   ]
  },
  {
   "cell_type": "code",
   "execution_count": null,
   "id": "2c27e089",
   "metadata": {},
   "outputs": [],
   "source": []
  },
  {
   "cell_type": "code",
   "execution_count": null,
   "id": "b59d19b7",
   "metadata": {},
   "outputs": [],
   "source": [
    "##### cell-level GxC eQTL effects "
   ]
  },
  {
   "cell_type": "code",
   "execution_count": 32,
   "id": "822bdf52",
   "metadata": {},
   "outputs": [
    {
     "data": {
      "text/html": [
       "53399"
      ],
      "text/latex": [
       "53399"
      ],
      "text/markdown": [
       "53399"
      ],
      "text/plain": [
       "[1] 53399"
      ]
     },
     "metadata": {},
     "output_type": "display_data"
    },
    {
     "data": {
      "text/html": [
       "<table class=\"dataframe\">\n",
       "<caption>A data.frame: 2 × 68</caption>\n",
       "<thead>\n",
       "\t<tr><th></th><th scope=col>ANPEP.15.90363995</th><th scope=col>ASAH1.8.17836501</th><th scope=col>C1orf86.1.2060058</th><th scope=col>C2orf81.2.74878639</th><th scope=col>C3orf14.3.62327558</th><th scope=col>CALM2.2.47313757</th><th scope=col>CD300E.17.72649890</th><th scope=col>CD36.7.80303762</th><th scope=col>CD40.20.44747086</th><th scope=col>CDC42.1.22414785</th><th scope=col>⋯</th><th scope=col>RPS8.1.45319121</th><th scope=col>SEC11A.15.85336311</th><th scope=col>SERPINB1.6.1939145</th><th scope=col>SERPINB9.6.2996136</th><th scope=col>SETD9.5.56213410</th><th scope=col>SNHG8.4.119925104</th><th scope=col>TMEM176B.7.150502608</th><th scope=col>TMSB10.2.85083503</th><th scope=col>TOMM7.7.22852499</th><th scope=col>UBA52.19.18699990</th></tr>\n",
       "\t<tr><th></th><th scope=col>&lt;dbl&gt;</th><th scope=col>&lt;dbl&gt;</th><th scope=col>&lt;int&gt;</th><th scope=col>&lt;dbl&gt;</th><th scope=col>&lt;int&gt;</th><th scope=col>&lt;int&gt;</th><th scope=col>&lt;int&gt;</th><th scope=col>&lt;int&gt;</th><th scope=col>&lt;dbl&gt;</th><th scope=col>&lt;dbl&gt;</th><th scope=col>⋯</th><th scope=col>&lt;dbl&gt;</th><th scope=col>&lt;dbl&gt;</th><th scope=col>&lt;dbl&gt;</th><th scope=col>&lt;int&gt;</th><th scope=col>&lt;int&gt;</th><th scope=col>&lt;dbl&gt;</th><th scope=col>&lt;dbl&gt;</th><th scope=col>&lt;int&gt;</th><th scope=col>&lt;int&gt;</th><th scope=col>&lt;int&gt;</th></tr>\n",
       "</thead>\n",
       "<tbody>\n",
       "\t<tr><th scope=row>TTTGGTTGTTTGCATG-9</th><td>0.002717806</td><td>-0.004303263</td><td>0</td><td>3.233865e-16</td><td>0</td><td>0</td><td>0</td><td>0</td><td>-0.0002563148</td><td>-0.006239742</td><td>⋯</td><td>-0.01455634</td><td>0.00109094</td><td>-0.005747613</td><td>0</td><td>0</td><td>0.007302481</td><td>-0.01278434</td><td>0</td><td>0</td><td>0</td></tr>\n",
       "\t<tr><th scope=row>TTTGTCACACATTCGA-9</th><td>0.002717806</td><td>-0.004303263</td><td>0</td><td>3.233865e-16</td><td>0</td><td>0</td><td>0</td><td>0</td><td>-0.0002563148</td><td>-0.006239742</td><td>⋯</td><td>-0.01455634</td><td>0.00109094</td><td>-0.005747613</td><td>0</td><td>0</td><td>0.007302481</td><td>-0.01278434</td><td>0</td><td>0</td><td>0</td></tr>\n",
       "</tbody>\n",
       "</table>\n"
      ],
      "text/latex": [
       "A data.frame: 2 × 68\n",
       "\\begin{tabular}{r|lllllllllllllllllllll}\n",
       "  & ANPEP.15.90363995 & ASAH1.8.17836501 & C1orf86.1.2060058 & C2orf81.2.74878639 & C3orf14.3.62327558 & CALM2.2.47313757 & CD300E.17.72649890 & CD36.7.80303762 & CD40.20.44747086 & CDC42.1.22414785 & ⋯ & RPS8.1.45319121 & SEC11A.15.85336311 & SERPINB1.6.1939145 & SERPINB9.6.2996136 & SETD9.5.56213410 & SNHG8.4.119925104 & TMEM176B.7.150502608 & TMSB10.2.85083503 & TOMM7.7.22852499 & UBA52.19.18699990\\\\\n",
       "  & <dbl> & <dbl> & <int> & <dbl> & <int> & <int> & <int> & <int> & <dbl> & <dbl> & ⋯ & <dbl> & <dbl> & <dbl> & <int> & <int> & <dbl> & <dbl> & <int> & <int> & <int>\\\\\n",
       "\\hline\n",
       "\tTTTGGTTGTTTGCATG-9 & 0.002717806 & -0.004303263 & 0 & 3.233865e-16 & 0 & 0 & 0 & 0 & -0.0002563148 & -0.006239742 & ⋯ & -0.01455634 & 0.00109094 & -0.005747613 & 0 & 0 & 0.007302481 & -0.01278434 & 0 & 0 & 0\\\\\n",
       "\tTTTGTCACACATTCGA-9 & 0.002717806 & -0.004303263 & 0 & 3.233865e-16 & 0 & 0 & 0 & 0 & -0.0002563148 & -0.006239742 & ⋯ & -0.01455634 & 0.00109094 & -0.005747613 & 0 & 0 & 0.007302481 & -0.01278434 & 0 & 0 & 0\\\\\n",
       "\\end{tabular}\n"
      ],
      "text/markdown": [
       "\n",
       "A data.frame: 2 × 68\n",
       "\n",
       "| <!--/--> | ANPEP.15.90363995 &lt;dbl&gt; | ASAH1.8.17836501 &lt;dbl&gt; | C1orf86.1.2060058 &lt;int&gt; | C2orf81.2.74878639 &lt;dbl&gt; | C3orf14.3.62327558 &lt;int&gt; | CALM2.2.47313757 &lt;int&gt; | CD300E.17.72649890 &lt;int&gt; | CD36.7.80303762 &lt;int&gt; | CD40.20.44747086 &lt;dbl&gt; | CDC42.1.22414785 &lt;dbl&gt; | ⋯ ⋯ | RPS8.1.45319121 &lt;dbl&gt; | SEC11A.15.85336311 &lt;dbl&gt; | SERPINB1.6.1939145 &lt;dbl&gt; | SERPINB9.6.2996136 &lt;int&gt; | SETD9.5.56213410 &lt;int&gt; | SNHG8.4.119925104 &lt;dbl&gt; | TMEM176B.7.150502608 &lt;dbl&gt; | TMSB10.2.85083503 &lt;int&gt; | TOMM7.7.22852499 &lt;int&gt; | UBA52.19.18699990 &lt;int&gt; |\n",
       "|---|---|---|---|---|---|---|---|---|---|---|---|---|---|---|---|---|---|---|---|---|---|\n",
       "| TTTGGTTGTTTGCATG-9 | 0.002717806 | -0.004303263 | 0 | 3.233865e-16 | 0 | 0 | 0 | 0 | -0.0002563148 | -0.006239742 | ⋯ | -0.01455634 | 0.00109094 | -0.005747613 | 0 | 0 | 0.007302481 | -0.01278434 | 0 | 0 | 0 |\n",
       "| TTTGTCACACATTCGA-9 | 0.002717806 | -0.004303263 | 0 | 3.233865e-16 | 0 | 0 | 0 | 0 | -0.0002563148 | -0.006239742 | ⋯ | -0.01455634 | 0.00109094 | -0.005747613 | 0 | 0 | 0.007302481 | -0.01278434 | 0 | 0 | 0 |\n",
       "\n"
      ],
      "text/plain": [
       "                   ANPEP.15.90363995 ASAH1.8.17836501 C1orf86.1.2060058\n",
       "TTTGGTTGTTTGCATG-9 0.002717806       -0.004303263     0                \n",
       "TTTGTCACACATTCGA-9 0.002717806       -0.004303263     0                \n",
       "                   C2orf81.2.74878639 C3orf14.3.62327558 CALM2.2.47313757\n",
       "TTTGGTTGTTTGCATG-9 3.233865e-16       0                  0               \n",
       "TTTGTCACACATTCGA-9 3.233865e-16       0                  0               \n",
       "                   CD300E.17.72649890 CD36.7.80303762 CD40.20.44747086\n",
       "TTTGGTTGTTTGCATG-9 0                  0               -0.0002563148   \n",
       "TTTGTCACACATTCGA-9 0                  0               -0.0002563148   \n",
       "                   CDC42.1.22414785 ⋯ RPS8.1.45319121 SEC11A.15.85336311\n",
       "TTTGGTTGTTTGCATG-9 -0.006239742     ⋯ -0.01455634     0.00109094        \n",
       "TTTGTCACACATTCGA-9 -0.006239742     ⋯ -0.01455634     0.00109094        \n",
       "                   SERPINB1.6.1939145 SERPINB9.6.2996136 SETD9.5.56213410\n",
       "TTTGGTTGTTTGCATG-9 -0.005747613       0                  0               \n",
       "TTTGTCACACATTCGA-9 -0.005747613       0                  0               \n",
       "                   SNHG8.4.119925104 TMEM176B.7.150502608 TMSB10.2.85083503\n",
       "TTTGGTTGTTTGCATG-9 0.007302481       -0.01278434          0                \n",
       "TTTGTCACACATTCGA-9 0.007302481       -0.01278434          0                \n",
       "                   TOMM7.7.22852499 UBA52.19.18699990\n",
       "TTTGGTTGTTTGCATG-9 0                0                \n",
       "TTTGTCACACATTCGA-9 0                0                "
      ]
     },
     "metadata": {},
     "output_type": "display_data"
    }
   ],
   "source": [
    "df1 = read.csv(paste0(results_folder,\"betas/summary_betaGxC.csv\"), row.names=1)\n",
    "nrow(df1)\n",
    "tail(df1,2)"
   ]
  },
  {
   "cell_type": "code",
   "execution_count": null,
   "id": "5892ae3d",
   "metadata": {},
   "outputs": [],
   "source": []
  },
  {
   "cell_type": "code",
   "execution_count": null,
   "id": "65f1c8d8",
   "metadata": {},
   "outputs": [],
   "source": [
    "########## Plot effects on some dimensionality reduction that shows sex differences"
   ]
  },
  {
   "cell_type": "code",
   "execution_count": null,
   "id": "b6422cb2",
   "metadata": {},
   "outputs": [],
   "source": []
  }
 ],
 "metadata": {
  "kernelspec": {
   "display_name": "Single Cell Notebook (R 4.1.2)",
   "language": "R",
   "name": "singlecell"
  },
  "language_info": {
   "codemirror_mode": "r",
   "file_extension": ".r",
   "mimetype": "text/x-r-source",
   "name": "R",
   "pygments_lexer": "r",
   "version": "4.1.2"
  }
 },
 "nbformat": 4,
 "nbformat_minor": 5
}
