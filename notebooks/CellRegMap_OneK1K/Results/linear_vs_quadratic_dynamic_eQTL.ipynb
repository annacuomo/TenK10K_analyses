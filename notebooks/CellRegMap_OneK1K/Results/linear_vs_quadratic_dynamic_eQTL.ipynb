{
 "cells": [
  {
   "cell_type": "code",
   "execution_count": 18,
   "id": "8fb4069f",
   "metadata": {},
   "outputs": [],
   "source": [
    "library(qvalue)"
   ]
  },
  {
   "cell_type": "code",
   "execution_count": 19,
   "id": "1bd40b7b",
   "metadata": {},
   "outputs": [],
   "source": [
    "# dynamic effects\n",
    "dynamic_file = \"/share/ScratchGeneral/anncuo/OneK1K/dyn_eqtl_linear-sq_data.RDS\""
   ]
  },
  {
   "cell_type": "code",
   "execution_count": 20,
   "id": "1e6974ac",
   "metadata": {},
   "outputs": [
    {
     "data": {
      "text/html": [
       "<table class=\"dataframe\">\n",
       "<caption>A data.table: 2 × 11</caption>\n",
       "<thead>\n",
       "\t<tr><th scope=col>GeneID</th><th scope=col>snpid</th><th scope=col>anova</th><th scope=col>p.value</th><th scope=col>fdr</th><th scope=col>anova_sq</th><th scope=col>p.value_sq</th><th scope=col>fdr_sq</th><th scope=col>id</th><th scope=col>singular</th><th scope=col>singular_sq</th></tr>\n",
       "\t<tr><th scope=col>&lt;chr&gt;</th><th scope=col>&lt;chr&gt;</th><th scope=col>&lt;list&gt;</th><th scope=col>&lt;dbl&gt;</th><th scope=col>&lt;dbl&gt;</th><th scope=col>&lt;list&gt;</th><th scope=col>&lt;dbl&gt;</th><th scope=col>&lt;dbl&gt;</th><th scope=col>&lt;chr&gt;</th><th scope=col>&lt;lgl&gt;</th><th scope=col>&lt;lgl&gt;</th></tr>\n",
       "</thead>\n",
       "<tbody>\n",
       "\t<tr><td>PPA1</td><td>10:71963608_A</td><td>15.000000, 16.000000, -7871.558581, -7870.257037, -7771.993991, -7764.054808, 3950.779291, 3951.128519, -7901.558581, -7902.257037, NA, 0.698456, NA, 1.000000, NA, 0.403303</td><td>0.4033030</td><td>0.7946625</td><td>16.0000000, 18.0000000, -8275.2382811, -8272.0825183, -8169.0360516, -8152.6050101, 4153.6191406, 4154.0412591, -8307.2382811, -8308.0825183, NA, 0.8442371, NA, 2.0000000, NA, 0.6556563</td><td>0.6556563</td><td>1.0000000</td><td>10:71963608_A-PPA1</td><td>FALSE</td><td>FALSE</td></tr>\n",
       "\t<tr><td>GDI2</td><td>10:5855403_C </td><td>15.0000000, 16.0000000, -5414.1029960, -5413.4603514, -5314.5384059, -5307.2581219, 2722.0514980, 2722.7301757, -5444.1029960, -5445.4603514, NA, 1.3573554, NA, 1.0000000, NA, 0.2439963</td><td>0.2439963</td><td>0.6506389</td><td>16.0000000, 18.0000000, -5869.3416840, -5867.0102079, -5763.1394545, -5747.5326997, 2950.6708420, 2951.5051039, -5901.3416840, -5903.0102079, NA, 1.6685239, NA, 2.0000000, NA, 0.4341948</td><td>0.4341948</td><td>0.8882569</td><td>10:5855403_C-GDI2 </td><td>FALSE</td><td>FALSE</td></tr>\n",
       "</tbody>\n",
       "</table>\n"
      ],
      "text/latex": [
       "A data.table: 2 × 11\n",
       "\\begin{tabular}{lllllllllll}\n",
       " GeneID & snpid & anova & p.value & fdr & anova\\_sq & p.value\\_sq & fdr\\_sq & id & singular & singular\\_sq\\\\\n",
       " <chr> & <chr> & <list> & <dbl> & <dbl> & <list> & <dbl> & <dbl> & <chr> & <lgl> & <lgl>\\\\\n",
       "\\hline\n",
       "\t PPA1 & 10:71963608\\_A & 15.000000, 16.000000, -7871.558581, -7870.257037, -7771.993991, -7764.054808, 3950.779291, 3951.128519, -7901.558581, -7902.257037, NA, 0.698456, NA, 1.000000, NA, 0.403303 & 0.4033030 & 0.7946625 & 16.0000000, 18.0000000, -8275.2382811, -8272.0825183, -8169.0360516, -8152.6050101, 4153.6191406, 4154.0412591, -8307.2382811, -8308.0825183, NA, 0.8442371, NA, 2.0000000, NA, 0.6556563 & 0.6556563 & 1.0000000 & 10:71963608\\_A-PPA1 & FALSE & FALSE\\\\\n",
       "\t GDI2 & 10:5855403\\_C  & 15.0000000, 16.0000000, -5414.1029960, -5413.4603514, -5314.5384059, -5307.2581219, 2722.0514980, 2722.7301757, -5444.1029960, -5445.4603514, NA, 1.3573554, NA, 1.0000000, NA, 0.2439963 & 0.2439963 & 0.6506389 & 16.0000000, 18.0000000, -5869.3416840, -5867.0102079, -5763.1394545, -5747.5326997, 2950.6708420, 2951.5051039, -5901.3416840, -5903.0102079, NA, 1.6685239, NA, 2.0000000, NA, 0.4341948 & 0.4341948 & 0.8882569 & 10:5855403\\_C-GDI2  & FALSE & FALSE\\\\\n",
       "\\end{tabular}\n"
      ],
      "text/markdown": [
       "\n",
       "A data.table: 2 × 11\n",
       "\n",
       "| GeneID &lt;chr&gt; | snpid &lt;chr&gt; | anova &lt;list&gt; | p.value &lt;dbl&gt; | fdr &lt;dbl&gt; | anova_sq &lt;list&gt; | p.value_sq &lt;dbl&gt; | fdr_sq &lt;dbl&gt; | id &lt;chr&gt; | singular &lt;lgl&gt; | singular_sq &lt;lgl&gt; |\n",
       "|---|---|---|---|---|---|---|---|---|---|---|\n",
       "| PPA1 | 10:71963608_A | 15.000000, 16.000000, -7871.558581, -7870.257037, -7771.993991, -7764.054808, 3950.779291, 3951.128519, -7901.558581, -7902.257037, NA, 0.698456, NA, 1.000000, NA, 0.403303 | 0.4033030 | 0.7946625 | 16.0000000, 18.0000000, -8275.2382811, -8272.0825183, -8169.0360516, -8152.6050101, 4153.6191406, 4154.0412591, -8307.2382811, -8308.0825183, NA, 0.8442371, NA, 2.0000000, NA, 0.6556563 | 0.6556563 | 1.0000000 | 10:71963608_A-PPA1 | FALSE | FALSE |\n",
       "| GDI2 | 10:5855403_C  | 15.0000000, 16.0000000, -5414.1029960, -5413.4603514, -5314.5384059, -5307.2581219, 2722.0514980, 2722.7301757, -5444.1029960, -5445.4603514, NA, 1.3573554, NA, 1.0000000, NA, 0.2439963 | 0.2439963 | 0.6506389 | 16.0000000, 18.0000000, -5869.3416840, -5867.0102079, -5763.1394545, -5747.5326997, 2950.6708420, 2951.5051039, -5901.3416840, -5903.0102079, NA, 1.6685239, NA, 2.0000000, NA, 0.4341948 | 0.4341948 | 0.8882569 | 10:5855403_C-GDI2  | FALSE | FALSE |\n",
       "\n"
      ],
      "text/plain": [
       "  GeneID snpid        \n",
       "1 PPA1   10:71963608_A\n",
       "2 GDI2   10:5855403_C \n",
       "  anova                                                                                                                                                                                    \n",
       "1 15.000000, 16.000000, -7871.558581, -7870.257037, -7771.993991, -7764.054808, 3950.779291, 3951.128519, -7901.558581, -7902.257037, NA, 0.698456, NA, 1.000000, NA, 0.403303             \n",
       "2 15.0000000, 16.0000000, -5414.1029960, -5413.4603514, -5314.5384059, -5307.2581219, 2722.0514980, 2722.7301757, -5444.1029960, -5445.4603514, NA, 1.3573554, NA, 1.0000000, NA, 0.2439963\n",
       "  p.value   fdr      \n",
       "1 0.4033030 0.7946625\n",
       "2 0.2439963 0.6506389\n",
       "  anova_sq                                                                                                                                                                                 \n",
       "1 16.0000000, 18.0000000, -8275.2382811, -8272.0825183, -8169.0360516, -8152.6050101, 4153.6191406, 4154.0412591, -8307.2382811, -8308.0825183, NA, 0.8442371, NA, 2.0000000, NA, 0.6556563\n",
       "2 16.0000000, 18.0000000, -5869.3416840, -5867.0102079, -5763.1394545, -5747.5326997, 2950.6708420, 2951.5051039, -5901.3416840, -5903.0102079, NA, 1.6685239, NA, 2.0000000, NA, 0.4341948\n",
       "  p.value_sq fdr_sq    id                 singular singular_sq\n",
       "1 0.6556563  1.0000000 10:71963608_A-PPA1 FALSE    FALSE      \n",
       "2 0.4341948  0.8882569 10:5855403_C-GDI2  FALSE    FALSE      "
      ]
     },
     "metadata": {},
     "output_type": "display_data"
    },
    {
     "data": {
      "text/html": [
       "303"
      ],
      "text/latex": [
       "303"
      ],
      "text/markdown": [
       "303"
      ],
      "text/plain": [
       "[1] 303"
      ]
     },
     "metadata": {},
     "output_type": "display_data"
    }
   ],
   "source": [
    "dt = readRDS(dynamic_file)\n",
    "head(dt,2)\n",
    "length(unique(dt[dt$fdr_sq<0.05,]$id))"
   ]
  },
  {
   "cell_type": "code",
   "execution_count": 21,
   "id": "e033d01c",
   "metadata": {},
   "outputs": [
    {
     "data": {
      "text/html": [
       "128"
      ],
      "text/latex": [
       "128"
      ],
      "text/markdown": [
       "128"
      ],
      "text/plain": [
       "[1] 128"
      ]
     },
     "metadata": {},
     "output_type": "display_data"
    }
   ],
   "source": [
    "myfile = \"/share/ScratchGeneral/anncuo/OneK1K/CRM_interaction/Bcells_Bcell_eQTLs/summary.csv\"\n",
    "df = read.csv(myfile, row.names=1)\n",
    "nrow(df)"
   ]
  },
  {
   "cell_type": "code",
   "execution_count": 22,
   "id": "b0023b45",
   "metadata": {},
   "outputs": [
    {
     "data": {
      "text/html": [
       "<table class=\"dataframe\">\n",
       "<caption>A data.frame: 6 × 5</caption>\n",
       "<thead>\n",
       "\t<tr><th></th><th scope=col>gene</th><th scope=col>n_snps</th><th scope=col>snp_id</th><th scope=col>pv_raw</th><th scope=col>pv_Bonf</th></tr>\n",
       "\t<tr><th></th><th scope=col>&lt;chr&gt;</th><th scope=col>&lt;int&gt;</th><th scope=col>&lt;chr&gt;</th><th scope=col>&lt;dbl&gt;</th><th scope=col>&lt;dbl&gt;</th></tr>\n",
       "</thead>\n",
       "<tbody>\n",
       "\t<tr><th scope=row>0</th><td>VPREB3   </td><td>1</td><td>22:24093998</td><td>4.927083e-02</td><td>4.927083e-02</td></tr>\n",
       "\t<tr><th scope=row>1</th><td>ARFGAP3  </td><td>1</td><td>22:43028803</td><td>1.504560e-02</td><td>1.504560e-02</td></tr>\n",
       "\t<tr><th scope=row>2</th><td>RPS8     </td><td>1</td><td>1:45241285 </td><td>2.315208e-02</td><td>2.315208e-02</td></tr>\n",
       "\t<tr><th scope=row>3</th><td>SMDT1    </td><td>2</td><td>22:42468535</td><td>9.429772e-08</td><td>1.885954e-07</td></tr>\n",
       "\t<tr><th scope=row>4</th><td>RP4-539M6</td><td>1</td><td>22:31025552</td><td>2.832393e-02</td><td>2.832393e-02</td></tr>\n",
       "\t<tr><th scope=row>5</th><td>CD96     </td><td>2</td><td>3:111253069</td><td>1.009690e-07</td><td>2.019380e-07</td></tr>\n",
       "</tbody>\n",
       "</table>\n"
      ],
      "text/latex": [
       "A data.frame: 6 × 5\n",
       "\\begin{tabular}{r|lllll}\n",
       "  & gene & n\\_snps & snp\\_id & pv\\_raw & pv\\_Bonf\\\\\n",
       "  & <chr> & <int> & <chr> & <dbl> & <dbl>\\\\\n",
       "\\hline\n",
       "\t0 & VPREB3    & 1 & 22:24093998 & 4.927083e-02 & 4.927083e-02\\\\\n",
       "\t1 & ARFGAP3   & 1 & 22:43028803 & 1.504560e-02 & 1.504560e-02\\\\\n",
       "\t2 & RPS8      & 1 & 1:45241285  & 2.315208e-02 & 2.315208e-02\\\\\n",
       "\t3 & SMDT1     & 2 & 22:42468535 & 9.429772e-08 & 1.885954e-07\\\\\n",
       "\t4 & RP4-539M6 & 1 & 22:31025552 & 2.832393e-02 & 2.832393e-02\\\\\n",
       "\t5 & CD96      & 2 & 3:111253069 & 1.009690e-07 & 2.019380e-07\\\\\n",
       "\\end{tabular}\n"
      ],
      "text/markdown": [
       "\n",
       "A data.frame: 6 × 5\n",
       "\n",
       "| <!--/--> | gene &lt;chr&gt; | n_snps &lt;int&gt; | snp_id &lt;chr&gt; | pv_raw &lt;dbl&gt; | pv_Bonf &lt;dbl&gt; |\n",
       "|---|---|---|---|---|---|\n",
       "| 0 | VPREB3    | 1 | 22:24093998 | 4.927083e-02 | 4.927083e-02 |\n",
       "| 1 | ARFGAP3   | 1 | 22:43028803 | 1.504560e-02 | 1.504560e-02 |\n",
       "| 2 | RPS8      | 1 | 1:45241285  | 2.315208e-02 | 2.315208e-02 |\n",
       "| 3 | SMDT1     | 2 | 22:42468535 | 9.429772e-08 | 1.885954e-07 |\n",
       "| 4 | RP4-539M6 | 1 | 22:31025552 | 2.832393e-02 | 2.832393e-02 |\n",
       "| 5 | CD96      | 2 | 3:111253069 | 1.009690e-07 | 2.019380e-07 |\n",
       "\n"
      ],
      "text/plain": [
       "  gene      n_snps snp_id      pv_raw       pv_Bonf     \n",
       "0 VPREB3    1      22:24093998 4.927083e-02 4.927083e-02\n",
       "1 ARFGAP3   1      22:43028803 1.504560e-02 1.504560e-02\n",
       "2 RPS8      1      1:45241285  2.315208e-02 2.315208e-02\n",
       "3 SMDT1     2      22:42468535 9.429772e-08 1.885954e-07\n",
       "4 RP4-539M6 1      22:31025552 2.832393e-02 2.832393e-02\n",
       "5 CD96      2      3:111253069 1.009690e-07 2.019380e-07"
      ]
     },
     "metadata": {},
     "output_type": "display_data"
    }
   ],
   "source": [
    "head(df)"
   ]
  },
  {
   "cell_type": "code",
   "execution_count": 23,
   "id": "cb2a091c",
   "metadata": {},
   "outputs": [
    {
     "data": {
      "text/plain": [
       "\n",
       " 1  2  3  4  5  7  8  9 10 11 12 13 14 15 16 17 18 19 20 21 22 \n",
       " 6  6  8  7  4  4  9  3 10  6  2  9  9  3  2  7  7  6  3  7 10 "
      ]
     },
     "metadata": {},
     "output_type": "display_data"
    }
   ],
   "source": [
    "df$chr = as.numeric(gsub(\"\\\\:.*\",\"\",df$snp_id))\n",
    "table(df$chr)"
   ]
  },
  {
   "cell_type": "code",
   "execution_count": 24,
   "id": "9a51cc05",
   "metadata": {},
   "outputs": [
    {
     "data": {
      "text/html": [
       "<style>\n",
       ".list-inline {list-style: none; margin:0; padding: 0}\n",
       ".list-inline>li {display: inline-block}\n",
       ".list-inline>li:not(:last-child)::after {content: \"\\00b7\"; padding: 0 .5ex}\n",
       "</style>\n",
       "<ol class=list-inline><li>128</li><li>82</li><li>0.640625</li></ol>\n"
      ],
      "text/latex": [
       "\\begin{enumerate*}\n",
       "\\item 128\n",
       "\\item 82\n",
       "\\item 0.640625\n",
       "\\end{enumerate*}\n"
      ],
      "text/markdown": [
       "1. 128\n",
       "2. 82\n",
       "3. 0.640625\n",
       "\n",
       "\n"
      ],
      "text/plain": [
       "[1] 128.000000  82.000000   0.640625"
      ]
     },
     "metadata": {},
     "output_type": "display_data"
    }
   ],
   "source": [
    "df$qv = qvalue(df$pv_Bonf)$qvalues\n",
    "c(nrow(df),\n",
    "nrow(df[df$qv<0.05,]),\n",
    "nrow(df[df$qv<0.05,])/nrow(df))"
   ]
  },
  {
   "cell_type": "code",
   "execution_count": 25,
   "id": "771e337b",
   "metadata": {},
   "outputs": [
    {
     "data": {
      "text/html": [
       "<style>\n",
       ".list-inline {list-style: none; margin:0; padding: 0}\n",
       ".list-inline>li {display: inline-block}\n",
       ".list-inline>li:not(:last-child)::after {content: \"\\00b7\"; padding: 0 .5ex}\n",
       "</style>\n",
       "<ol class=list-inline><li>'VPREB3-22:24093998'</li><li>'ARFGAP3-22:43028803'</li><li>'RPS8-1:45241285'</li><li>'SMDT1-22:42468535'</li><li>'RP4-539M6-22:31025552'</li><li>'CD96-3:111253069'</li></ol>\n"
      ],
      "text/latex": [
       "\\begin{enumerate*}\n",
       "\\item 'VPREB3-22:24093998'\n",
       "\\item 'ARFGAP3-22:43028803'\n",
       "\\item 'RPS8-1:45241285'\n",
       "\\item 'SMDT1-22:42468535'\n",
       "\\item 'RP4-539M6-22:31025552'\n",
       "\\item 'CD96-3:111253069'\n",
       "\\end{enumerate*}\n"
      ],
      "text/markdown": [
       "1. 'VPREB3-22:24093998'\n",
       "2. 'ARFGAP3-22:43028803'\n",
       "3. 'RPS8-1:45241285'\n",
       "4. 'SMDT1-22:42468535'\n",
       "5. 'RP4-539M6-22:31025552'\n",
       "6. 'CD96-3:111253069'\n",
       "\n",
       "\n"
      ],
      "text/plain": [
       "[1] \"VPREB3-22:24093998\"    \"ARFGAP3-22:43028803\"   \"RPS8-1:45241285\"      \n",
       "[4] \"SMDT1-22:42468535\"     \"RP4-539M6-22:31025552\" \"CD96-3:111253069\"     "
      ]
     },
     "metadata": {},
     "output_type": "display_data"
    }
   ],
   "source": [
    "df$eqtl = paste0(df$gene,\"-\",df$snp_id)\n",
    "head(df$eqtl)"
   ]
  },
  {
   "cell_type": "code",
   "execution_count": 26,
   "id": "90c90847",
   "metadata": {},
   "outputs": [
    {
     "data": {
      "text/html": [
       "<style>\n",
       ".list-inline {list-style: none; margin:0; padding: 0}\n",
       ".list-inline>li {display: inline-block}\n",
       ".list-inline>li:not(:last-child)::after {content: \"\\00b7\"; padding: 0 .5ex}\n",
       "</style>\n",
       "<ol class=list-inline><li>'PPA1-10:71963608'</li><li>'GDI2-10:5855403'</li><li>'OPTN-10:13160035'</li><li>'MGMT-10:131279791'</li><li>'VDAC2-10:76970613'</li><li>'VCL-10:75913033'</li></ol>\n"
      ],
      "text/latex": [
       "\\begin{enumerate*}\n",
       "\\item 'PPA1-10:71963608'\n",
       "\\item 'GDI2-10:5855403'\n",
       "\\item 'OPTN-10:13160035'\n",
       "\\item 'MGMT-10:131279791'\n",
       "\\item 'VDAC2-10:76970613'\n",
       "\\item 'VCL-10:75913033'\n",
       "\\end{enumerate*}\n"
      ],
      "text/markdown": [
       "1. 'PPA1-10:71963608'\n",
       "2. 'GDI2-10:5855403'\n",
       "3. 'OPTN-10:13160035'\n",
       "4. 'MGMT-10:131279791'\n",
       "5. 'VDAC2-10:76970613'\n",
       "6. 'VCL-10:75913033'\n",
       "\n",
       "\n"
      ],
      "text/plain": [
       "[1] \"PPA1-10:71963608\"  \"GDI2-10:5855403\"   \"OPTN-10:13160035\" \n",
       "[4] \"MGMT-10:131279791\" \"VDAC2-10:76970613\" \"VCL-10:75913033\"  "
      ]
     },
     "metadata": {},
     "output_type": "display_data"
    }
   ],
   "source": [
    "dt$eqtl = paste0(dt$GeneID,\"-\",gsub(\"_.*\",\"\",dt$snpid))\n",
    "head(dt$eqtl)"
   ]
  },
  {
   "cell_type": "code",
   "execution_count": 27,
   "id": "06052b7f",
   "metadata": {},
   "outputs": [],
   "source": [
    "eqtls1 = df[df$qv<0.05,]$eqtl\n",
    "eqtls2 = dt[dt$fdr_sq<0.05,]$eqtl"
   ]
  },
  {
   "cell_type": "code",
   "execution_count": 28,
   "id": "673c9b0e",
   "metadata": {},
   "outputs": [
    {
     "data": {
      "text/html": [
       "82"
      ],
      "text/latex": [
       "82"
      ],
      "text/markdown": [
       "82"
      ],
      "text/plain": [
       "[1] 82"
      ]
     },
     "metadata": {},
     "output_type": "display_data"
    },
    {
     "data": {
      "text/html": [
       "303"
      ],
      "text/latex": [
       "303"
      ],
      "text/markdown": [
       "303"
      ],
      "text/plain": [
       "[1] 303"
      ]
     },
     "metadata": {},
     "output_type": "display_data"
    }
   ],
   "source": [
    "length(eqtls1)\n",
    "length(eqtls2)"
   ]
  },
  {
   "cell_type": "code",
   "execution_count": 29,
   "id": "16b6dcbf",
   "metadata": {},
   "outputs": [
    {
     "data": {
      "text/html": [
       "24"
      ],
      "text/latex": [
       "24"
      ],
      "text/markdown": [
       "24"
      ],
      "text/plain": [
       "[1] 24"
      ]
     },
     "metadata": {},
     "output_type": "display_data"
    }
   ],
   "source": [
    "length(eqtls1[eqtls1 %in% eqtls2])"
   ]
  },
  {
   "cell_type": "code",
   "execution_count": null,
   "id": "ae7919f4",
   "metadata": {},
   "outputs": [],
   "source": []
  }
 ],
 "metadata": {
  "kernelspec": {
   "display_name": "Single Cell Notebook (R 4.1.2)",
   "language": "R",
   "name": "singlecell"
  },
  "language_info": {
   "codemirror_mode": "r",
   "file_extension": ".r",
   "mimetype": "text/x-r-source",
   "name": "R",
   "pygments_lexer": "r",
   "version": "4.1.2"
  }
 },
 "nbformat": 4,
 "nbformat_minor": 5
}
