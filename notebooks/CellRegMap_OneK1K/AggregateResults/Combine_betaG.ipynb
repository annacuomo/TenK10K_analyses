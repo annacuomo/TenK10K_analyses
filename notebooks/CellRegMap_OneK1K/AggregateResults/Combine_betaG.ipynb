{
 "cells": [
  {
   "cell_type": "code",
   "execution_count": 19,
   "id": "faeb58f5",
   "metadata": {},
   "outputs": [],
   "source": [
    "### TO DO: turn this and the betaGxC equivalent into python scripts that can be integrated in the pipeline"
   ]
  },
  {
   "cell_type": "code",
   "execution_count": null,
   "id": "df6d84a2",
   "metadata": {},
   "outputs": [],
   "source": []
  },
  {
   "cell_type": "code",
   "execution_count": 20,
   "id": "bef10181",
   "metadata": {},
   "outputs": [],
   "source": [
    "mydir = \"/share/ScratchGeneral/anncuo/OneK1K/CRM_interaction/Monocytes_Mono_eQTLs/sex_interactions/betas/\"\n",
    "mydir = \"/share/ScratchGeneral/anncuo/OneK1K/CRM_interaction/Bcells_noplasma_Bcell_eQTLs/betas/\""
   ]
  },
  {
   "cell_type": "code",
   "execution_count": 21,
   "id": "fa6de1cb",
   "metadata": {},
   "outputs": [
    {
     "data": {
      "text/html": [
       "314"
      ],
      "text/latex": [
       "314"
      ],
      "text/markdown": [
       "314"
      ],
      "text/plain": [
       "[1] 314"
      ]
     },
     "metadata": {},
     "output_type": "display_data"
    },
    {
     "data": {
      "text/html": [
       "<style>\n",
       ".list-inline {list-style: none; margin:0; padding: 0}\n",
       ".list-inline>li {display: inline-block}\n",
       ".list-inline>li:not(:last-child)::after {content: \"\\00b7\"; padding: 0 .5ex}\n",
       "</style>\n",
       "<ol class=list-inline><li>'ABRACL_betaG.csv'</li><li>'AC006129.4_betaG.csv'</li><li>'AC006369.2_betaG.csv'</li><li>'AC023590.1_betaG.csv'</li><li>'AC079767.4_betaG.csv'</li><li>'ACTG1_betaG.csv'</li></ol>\n"
      ],
      "text/latex": [
       "\\begin{enumerate*}\n",
       "\\item 'ABRACL\\_betaG.csv'\n",
       "\\item 'AC006129.4\\_betaG.csv'\n",
       "\\item 'AC006369.2\\_betaG.csv'\n",
       "\\item 'AC023590.1\\_betaG.csv'\n",
       "\\item 'AC079767.4\\_betaG.csv'\n",
       "\\item 'ACTG1\\_betaG.csv'\n",
       "\\end{enumerate*}\n"
      ],
      "text/markdown": [
       "1. 'ABRACL_betaG.csv'\n",
       "2. 'AC006129.4_betaG.csv'\n",
       "3. 'AC006369.2_betaG.csv'\n",
       "4. 'AC023590.1_betaG.csv'\n",
       "5. 'AC079767.4_betaG.csv'\n",
       "6. 'ACTG1_betaG.csv'\n",
       "\n",
       "\n"
      ],
      "text/plain": [
       "[1] \"ABRACL_betaG.csv\"     \"AC006129.4_betaG.csv\" \"AC006369.2_betaG.csv\"\n",
       "[4] \"AC023590.1_betaG.csv\" \"AC079767.4_betaG.csv\" \"ACTG1_betaG.csv\"     "
      ]
     },
     "metadata": {},
     "output_type": "display_data"
    }
   ],
   "source": [
    "mygenes = list.files(mydir,pattern = \"betaG.csv\")\n",
    "length(mygenes)\n",
    "head(mygenes)"
   ]
  },
  {
   "cell_type": "code",
   "execution_count": 22,
   "id": "8e6c6167",
   "metadata": {},
   "outputs": [],
   "source": [
    "## test using one gene\n",
    "\n",
    "# gene = mygenes[1]\n",
    "# gene\n",
    "# df0 = read.csv(paste0(mydir,gene),row.names = 1)\n",
    "# snp = df0$variant\n",
    "# rownames(df0) = paste0(gsub(\"_betaG.csv\",\"\",gene),\"-\",snp)\n",
    "# df0$chrom <- c()\n",
    "# df0$variant <- c()\n",
    "# head(df0)"
   ]
  },
  {
   "cell_type": "code",
   "execution_count": 25,
   "id": "bf2d33ac",
   "metadata": {},
   "outputs": [
    {
     "data": {
      "text/html": [
       "315"
      ],
      "text/latex": [
       "315"
      ],
      "text/markdown": [
       "315"
      ],
      "text/plain": [
       "[1] 315"
      ]
     },
     "metadata": {},
     "output_type": "display_data"
    },
    {
     "data": {
      "text/html": [
       "<table class=\"dataframe\">\n",
       "<caption>A data.frame: 6 × 1</caption>\n",
       "<thead>\n",
       "\t<tr><th></th><th scope=col>betaG</th></tr>\n",
       "\t<tr><th></th><th scope=col>&lt;dbl&gt;</th></tr>\n",
       "</thead>\n",
       "<tbody>\n",
       "\t<tr><th scope=row>ABRACL-6:139343892</th><td>-0.0019698391</td></tr>\n",
       "\t<tr><th scope=row>AC006129.4-19:42049821</th><td>-0.0002040214</td></tr>\n",
       "\t<tr><th scope=row>AC006369.2-2:37836063</th><td> 0.0090732973</td></tr>\n",
       "\t<tr><th scope=row>AC023590.1-8:119629454</th><td> 0.0244278190</td></tr>\n",
       "\t<tr><th scope=row>AC079767.4-2:208526245</th><td> 0.0013465717</td></tr>\n",
       "\t<tr><th scope=row>ACTG1-17:79478019</th><td>-0.0391731860</td></tr>\n",
       "</tbody>\n",
       "</table>\n"
      ],
      "text/latex": [
       "A data.frame: 6 × 1\n",
       "\\begin{tabular}{r|l}\n",
       "  & betaG\\\\\n",
       "  & <dbl>\\\\\n",
       "\\hline\n",
       "\tABRACL-6:139343892 & -0.0019698391\\\\\n",
       "\tAC006129.4-19:42049821 & -0.0002040214\\\\\n",
       "\tAC006369.2-2:37836063 &  0.0090732973\\\\\n",
       "\tAC023590.1-8:119629454 &  0.0244278190\\\\\n",
       "\tAC079767.4-2:208526245 &  0.0013465717\\\\\n",
       "\tACTG1-17:79478019 & -0.0391731860\\\\\n",
       "\\end{tabular}\n"
      ],
      "text/markdown": [
       "\n",
       "A data.frame: 6 × 1\n",
       "\n",
       "| <!--/--> | betaG &lt;dbl&gt; |\n",
       "|---|---|\n",
       "| ABRACL-6:139343892 | -0.0019698391 |\n",
       "| AC006129.4-19:42049821 | -0.0002040214 |\n",
       "| AC006369.2-2:37836063 |  0.0090732973 |\n",
       "| AC023590.1-8:119629454 |  0.0244278190 |\n",
       "| AC079767.4-2:208526245 |  0.0013465717 |\n",
       "| ACTG1-17:79478019 | -0.0391731860 |\n",
       "\n"
      ],
      "text/plain": [
       "                       betaG        \n",
       "ABRACL-6:139343892     -0.0019698391\n",
       "AC006129.4-19:42049821 -0.0002040214\n",
       "AC006369.2-2:37836063   0.0090732973\n",
       "AC023590.1-8:119629454  0.0244278190\n",
       "AC079767.4-2:208526245  0.0013465717\n",
       "ACTG1-17:79478019      -0.0391731860"
      ]
     },
     "metadata": {},
     "output_type": "display_data"
    }
   ],
   "source": [
    "df = data.frame()\n",
    "for (gene in mygenes){\n",
    "    if (gene == \"summary_betaG.csv\"){next}\n",
    "    df_curr = read.csv(paste0(mydir,gene),row.names = 1)\n",
    "    snp = df_curr$variant\n",
    "    rownames(df_curr) = paste0(gsub(\"_betaG.csv\",\"\",gene),\"-\",snp)\n",
    "    df_curr$chrom <- c()\n",
    "    df_curr$variant <- c()\n",
    "    df = rbind(df, df_curr)\n",
    "    }\n",
    "nrow(df)\n",
    "head(df)"
   ]
  },
  {
   "cell_type": "code",
   "execution_count": 26,
   "id": "3c9a6935",
   "metadata": {},
   "outputs": [],
   "source": [
    "filename = paste0(mydir,\"summary_betaG.csv\")\n",
    "write.csv(df, filename, quote = F)"
   ]
  },
  {
   "cell_type": "code",
   "execution_count": null,
   "id": "3ab9ade2",
   "metadata": {},
   "outputs": [],
   "source": []
  }
 ],
 "metadata": {
  "kernelspec": {
   "display_name": "Single Cell Notebook (R 4.1.2)",
   "language": "R",
   "name": "singlecell"
  },
  "language_info": {
   "codemirror_mode": "r",
   "file_extension": ".r",
   "mimetype": "text/x-r-source",
   "name": "R",
   "pygments_lexer": "r",
   "version": "4.1.2"
  }
 },
 "nbformat": 4,
 "nbformat_minor": 5
}
