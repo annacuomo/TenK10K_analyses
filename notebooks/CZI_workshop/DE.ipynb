{
 "cells": [
  {
   "cell_type": "code",
   "execution_count": 240,
   "id": "482af603",
   "metadata": {},
   "outputs": [],
   "source": [
    "library(Seurat)\n",
    "library(dplyr)"
   ]
  },
  {
   "cell_type": "code",
   "execution_count": 241,
   "id": "44eefd7f",
   "metadata": {},
   "outputs": [],
   "source": [
    "# Seurat object\n",
    "mydir = \"/share/ScratchGeneral/anncuo/OneK1K/\"\n",
    "sce_filename = paste0(mydir,\"cell_type.RDS\")"
   ]
  },
  {
   "cell_type": "code",
   "execution_count": 242,
   "id": "0c44730f",
   "metadata": {},
   "outputs": [
    {
     "data": {
      "text/plain": [
       "An object of class Seurat \n",
       "57641 features across 1272489 samples within 2 assays \n",
       "Active assay: SCT (24903 features, 3000 variable features)\n",
       " 1 other assay present: RNA\n",
       " 2 dimensional reductions calculated: pca, umap"
      ]
     },
     "metadata": {},
     "output_type": "display_data"
    }
   ],
   "source": [
    "# 57,641 features \n",
    "# across 1272489 samples (cells)\n",
    "# with two assays: SCT and RNA\n",
    "# dimensionality reductions: PCA, UMAP\n",
    "sce = readRDS(sce_filename)\n",
    "sce"
   ]
  },
  {
   "cell_type": "code",
   "execution_count": 243,
   "id": "484c5fcd",
   "metadata": {},
   "outputs": [
    {
     "data": {
      "text/html": [
       "<table class=\"dataframe\">\n",
       "<caption>A data.frame: 6 × 4</caption>\n",
       "<thead>\n",
       "\t<tr><th></th><th scope=col>batch_id</th><th scope=col>celltype.mDC.l1</th><th scope=col>celltype.mDC.l2</th><th scope=col>celltype.mDC.l3</th></tr>\n",
       "\t<tr><th></th><th scope=col>&lt;chr&gt;</th><th scope=col>&lt;chr&gt;</th><th scope=col>&lt;chr&gt;</th><th scope=col>&lt;chr&gt;</th></tr>\n",
       "</thead>\n",
       "<tbody>\n",
       "\t<tr><th scope=row>10_1016_j_cell_2020_08_001_Schulte-Schrepping-0</th><td>10_1016_j_cell_2020_08_001</td><td>Mono </td><td>CD14 Mono</td><td>CD14 Mono</td></tr>\n",
       "\t<tr><th scope=row>10_1016_j_cell_2020_08_001_Schulte-Schrepping-1</th><td>10_1016_j_cell_2020_08_001</td><td>Mono </td><td>CD14 Mono</td><td>CD14 Mono</td></tr>\n",
       "\t<tr><th scope=row>10_1016_j_cell_2020_08_001_Schulte-Schrepping-10</th><td>10_1016_j_cell_2020_08_001</td><td>Mono </td><td>CD14 Mono</td><td>CD14 Mono</td></tr>\n",
       "\t<tr><th scope=row>10_1016_j_cell_2020_08_001_Schulte-Schrepping-100</th><td>10_1016_j_cell_2020_08_001</td><td>Mono </td><td>CD14 Mono</td><td>CD14 Mono</td></tr>\n",
       "\t<tr><th scope=row>10_1016_j_cell_2020_08_001_Schulte-Schrepping-1000</th><td>10_1016_j_cell_2020_08_001</td><td>CD8 T</td><td>CD8 TEM  </td><td>CD8 TEM_5</td></tr>\n",
       "\t<tr><th scope=row>10_1016_j_cell_2020_08_001_Schulte-Schrepping-10000</th><td>10_1016_j_cell_2020_08_001</td><td>Mono </td><td>CD14 Mono</td><td>CD14 Mono</td></tr>\n",
       "</tbody>\n",
       "</table>\n"
      ],
      "text/latex": [
       "A data.frame: 6 × 4\n",
       "\\begin{tabular}{r|llll}\n",
       "  & batch\\_id & celltype.mDC.l1 & celltype.mDC.l2 & celltype.mDC.l3\\\\\n",
       "  & <chr> & <chr> & <chr> & <chr>\\\\\n",
       "\\hline\n",
       "\t10\\_1016\\_j\\_cell\\_2020\\_08\\_001\\_Schulte-Schrepping-0 & 10\\_1016\\_j\\_cell\\_2020\\_08\\_001 & Mono  & CD14 Mono & CD14 Mono\\\\\n",
       "\t10\\_1016\\_j\\_cell\\_2020\\_08\\_001\\_Schulte-Schrepping-1 & 10\\_1016\\_j\\_cell\\_2020\\_08\\_001 & Mono  & CD14 Mono & CD14 Mono\\\\\n",
       "\t10\\_1016\\_j\\_cell\\_2020\\_08\\_001\\_Schulte-Schrepping-10 & 10\\_1016\\_j\\_cell\\_2020\\_08\\_001 & Mono  & CD14 Mono & CD14 Mono\\\\\n",
       "\t10\\_1016\\_j\\_cell\\_2020\\_08\\_001\\_Schulte-Schrepping-100 & 10\\_1016\\_j\\_cell\\_2020\\_08\\_001 & Mono  & CD14 Mono & CD14 Mono\\\\\n",
       "\t10\\_1016\\_j\\_cell\\_2020\\_08\\_001\\_Schulte-Schrepping-1000 & 10\\_1016\\_j\\_cell\\_2020\\_08\\_001 & CD8 T & CD8 TEM   & CD8 TEM\\_5\\\\\n",
       "\t10\\_1016\\_j\\_cell\\_2020\\_08\\_001\\_Schulte-Schrepping-10000 & 10\\_1016\\_j\\_cell\\_2020\\_08\\_001 & Mono  & CD14 Mono & CD14 Mono\\\\\n",
       "\\end{tabular}\n"
      ],
      "text/markdown": [
       "\n",
       "A data.frame: 6 × 4\n",
       "\n",
       "| <!--/--> | batch_id &lt;chr&gt; | celltype.mDC.l1 &lt;chr&gt; | celltype.mDC.l2 &lt;chr&gt; | celltype.mDC.l3 &lt;chr&gt; |\n",
       "|---|---|---|---|---|\n",
       "| 10_1016_j_cell_2020_08_001_Schulte-Schrepping-0 | 10_1016_j_cell_2020_08_001 | Mono  | CD14 Mono | CD14 Mono |\n",
       "| 10_1016_j_cell_2020_08_001_Schulte-Schrepping-1 | 10_1016_j_cell_2020_08_001 | Mono  | CD14 Mono | CD14 Mono |\n",
       "| 10_1016_j_cell_2020_08_001_Schulte-Schrepping-10 | 10_1016_j_cell_2020_08_001 | Mono  | CD14 Mono | CD14 Mono |\n",
       "| 10_1016_j_cell_2020_08_001_Schulte-Schrepping-100 | 10_1016_j_cell_2020_08_001 | Mono  | CD14 Mono | CD14 Mono |\n",
       "| 10_1016_j_cell_2020_08_001_Schulte-Schrepping-1000 | 10_1016_j_cell_2020_08_001 | CD8 T | CD8 TEM   | CD8 TEM_5 |\n",
       "| 10_1016_j_cell_2020_08_001_Schulte-Schrepping-10000 | 10_1016_j_cell_2020_08_001 | Mono  | CD14 Mono | CD14 Mono |\n",
       "\n"
      ],
      "text/plain": [
       "                                                    batch_id                  \n",
       "10_1016_j_cell_2020_08_001_Schulte-Schrepping-0     10_1016_j_cell_2020_08_001\n",
       "10_1016_j_cell_2020_08_001_Schulte-Schrepping-1     10_1016_j_cell_2020_08_001\n",
       "10_1016_j_cell_2020_08_001_Schulte-Schrepping-10    10_1016_j_cell_2020_08_001\n",
       "10_1016_j_cell_2020_08_001_Schulte-Schrepping-100   10_1016_j_cell_2020_08_001\n",
       "10_1016_j_cell_2020_08_001_Schulte-Schrepping-1000  10_1016_j_cell_2020_08_001\n",
       "10_1016_j_cell_2020_08_001_Schulte-Schrepping-10000 10_1016_j_cell_2020_08_001\n",
       "                                                    celltype.mDC.l1\n",
       "10_1016_j_cell_2020_08_001_Schulte-Schrepping-0     Mono           \n",
       "10_1016_j_cell_2020_08_001_Schulte-Schrepping-1     Mono           \n",
       "10_1016_j_cell_2020_08_001_Schulte-Schrepping-10    Mono           \n",
       "10_1016_j_cell_2020_08_001_Schulte-Schrepping-100   Mono           \n",
       "10_1016_j_cell_2020_08_001_Schulte-Schrepping-1000  CD8 T          \n",
       "10_1016_j_cell_2020_08_001_Schulte-Schrepping-10000 Mono           \n",
       "                                                    celltype.mDC.l2\n",
       "10_1016_j_cell_2020_08_001_Schulte-Schrepping-0     CD14 Mono      \n",
       "10_1016_j_cell_2020_08_001_Schulte-Schrepping-1     CD14 Mono      \n",
       "10_1016_j_cell_2020_08_001_Schulte-Schrepping-10    CD14 Mono      \n",
       "10_1016_j_cell_2020_08_001_Schulte-Schrepping-100   CD14 Mono      \n",
       "10_1016_j_cell_2020_08_001_Schulte-Schrepping-1000  CD8 TEM        \n",
       "10_1016_j_cell_2020_08_001_Schulte-Schrepping-10000 CD14 Mono      \n",
       "                                                    celltype.mDC.l3\n",
       "10_1016_j_cell_2020_08_001_Schulte-Schrepping-0     CD14 Mono      \n",
       "10_1016_j_cell_2020_08_001_Schulte-Schrepping-1     CD14 Mono      \n",
       "10_1016_j_cell_2020_08_001_Schulte-Schrepping-10    CD14 Mono      \n",
       "10_1016_j_cell_2020_08_001_Schulte-Schrepping-100   CD14 Mono      \n",
       "10_1016_j_cell_2020_08_001_Schulte-Schrepping-1000  CD8 TEM_5      \n",
       "10_1016_j_cell_2020_08_001_Schulte-Schrepping-10000 CD14 Mono      "
      ]
     },
     "metadata": {},
     "output_type": "display_data"
    }
   ],
   "source": [
    "# Seurat object\n",
    "mydir = \"/share/ScratchGeneral/anncuo/sc-integration-workshop/\"\n",
    "all_meta_filename = paste0(mydir,\"all_meta.rds\")\n",
    "all_meta = readRDS(all_meta_filename)\n",
    "head(all_meta)"
   ]
  },
  {
   "cell_type": "code",
   "execution_count": 244,
   "id": "f6dddee2",
   "metadata": {},
   "outputs": [
    {
     "data": {
      "text/html": [
       "1247768"
      ],
      "text/latex": [
       "1247768"
      ],
      "text/markdown": [
       "1247768"
      ],
      "text/plain": [
       "[1] 1247768"
      ]
     },
     "metadata": {},
     "output_type": "display_data"
    },
    {
     "data": {
      "text/html": [
       "<table class=\"dataframe\">\n",
       "<caption>A data.frame: 2 × 4</caption>\n",
       "<thead>\n",
       "\t<tr><th></th><th scope=col>batch_id</th><th scope=col>celltype.mDC.l1</th><th scope=col>celltype.mDC.l2</th><th scope=col>celltype.mDC.l3</th></tr>\n",
       "\t<tr><th></th><th scope=col>&lt;chr&gt;</th><th scope=col>&lt;chr&gt;</th><th scope=col>&lt;chr&gt;</th><th scope=col>&lt;chr&gt;</th></tr>\n",
       "</thead>\n",
       "<tbody>\n",
       "\t<tr><th scope=row>powell_eqtl_AAACCTGAGAATGTTG-1</th><td>powell_eqtl</td><td>CD4 T</td><td>CD4 TCM</td><td>CD4 TCM_1</td></tr>\n",
       "\t<tr><th scope=row>powell_eqtl_AAACCTGAGAGAACAG-1</th><td>powell_eqtl</td><td>NK   </td><td>NK     </td><td>NK_1     </td></tr>\n",
       "</tbody>\n",
       "</table>\n"
      ],
      "text/latex": [
       "A data.frame: 2 × 4\n",
       "\\begin{tabular}{r|llll}\n",
       "  & batch\\_id & celltype.mDC.l1 & celltype.mDC.l2 & celltype.mDC.l3\\\\\n",
       "  & <chr> & <chr> & <chr> & <chr>\\\\\n",
       "\\hline\n",
       "\tpowell\\_eqtl\\_AAACCTGAGAATGTTG-1 & powell\\_eqtl & CD4 T & CD4 TCM & CD4 TCM\\_1\\\\\n",
       "\tpowell\\_eqtl\\_AAACCTGAGAGAACAG-1 & powell\\_eqtl & NK    & NK      & NK\\_1     \\\\\n",
       "\\end{tabular}\n"
      ],
      "text/markdown": [
       "\n",
       "A data.frame: 2 × 4\n",
       "\n",
       "| <!--/--> | batch_id &lt;chr&gt; | celltype.mDC.l1 &lt;chr&gt; | celltype.mDC.l2 &lt;chr&gt; | celltype.mDC.l3 &lt;chr&gt; |\n",
       "|---|---|---|---|---|\n",
       "| powell_eqtl_AAACCTGAGAATGTTG-1 | powell_eqtl | CD4 T | CD4 TCM | CD4 TCM_1 |\n",
       "| powell_eqtl_AAACCTGAGAGAACAG-1 | powell_eqtl | NK    | NK      | NK_1      |\n",
       "\n"
      ],
      "text/plain": [
       "                               batch_id    celltype.mDC.l1 celltype.mDC.l2\n",
       "powell_eqtl_AAACCTGAGAATGTTG-1 powell_eqtl CD4 T           CD4 TCM        \n",
       "powell_eqtl_AAACCTGAGAGAACAG-1 powell_eqtl NK              NK             \n",
       "                               celltype.mDC.l3\n",
       "powell_eqtl_AAACCTGAGAATGTTG-1 CD4 TCM_1      \n",
       "powell_eqtl_AAACCTGAGAGAACAG-1 NK_1           "
      ]
     },
     "metadata": {},
     "output_type": "display_data"
    }
   ],
   "source": [
    "subset_all_meta = all_meta[all_meta$batch_id == \"powell_eqtl\",]\n",
    "nrow(subset_all_meta)\n",
    "head(subset_all_meta,2)"
   ]
  },
  {
   "cell_type": "code",
   "execution_count": 245,
   "id": "624927e7",
   "metadata": {},
   "outputs": [
    {
     "data": {
      "text/html": [
       "<table class=\"dataframe\">\n",
       "<caption>A data.frame: 2 × 4</caption>\n",
       "<thead>\n",
       "\t<tr><th></th><th scope=col>batch_id</th><th scope=col>celltype.mDC.l1</th><th scope=col>celltype.mDC.l2</th><th scope=col>celltype.mDC.l3</th></tr>\n",
       "\t<tr><th></th><th scope=col>&lt;chr&gt;</th><th scope=col>&lt;chr&gt;</th><th scope=col>&lt;chr&gt;</th><th scope=col>&lt;chr&gt;</th></tr>\n",
       "</thead>\n",
       "<tbody>\n",
       "\t<tr><th scope=row>AAACCTGAGAATGTTG-1</th><td>powell_eqtl</td><td>CD4 T</td><td>CD4 TCM</td><td>CD4 TCM_1</td></tr>\n",
       "\t<tr><th scope=row>AAACCTGAGAGAACAG-1</th><td>powell_eqtl</td><td>NK   </td><td>NK     </td><td>NK_1     </td></tr>\n",
       "</tbody>\n",
       "</table>\n"
      ],
      "text/latex": [
       "A data.frame: 2 × 4\n",
       "\\begin{tabular}{r|llll}\n",
       "  & batch\\_id & celltype.mDC.l1 & celltype.mDC.l2 & celltype.mDC.l3\\\\\n",
       "  & <chr> & <chr> & <chr> & <chr>\\\\\n",
       "\\hline\n",
       "\tAAACCTGAGAATGTTG-1 & powell\\_eqtl & CD4 T & CD4 TCM & CD4 TCM\\_1\\\\\n",
       "\tAAACCTGAGAGAACAG-1 & powell\\_eqtl & NK    & NK      & NK\\_1     \\\\\n",
       "\\end{tabular}\n"
      ],
      "text/markdown": [
       "\n",
       "A data.frame: 2 × 4\n",
       "\n",
       "| <!--/--> | batch_id &lt;chr&gt; | celltype.mDC.l1 &lt;chr&gt; | celltype.mDC.l2 &lt;chr&gt; | celltype.mDC.l3 &lt;chr&gt; |\n",
       "|---|---|---|---|---|\n",
       "| AAACCTGAGAATGTTG-1 | powell_eqtl | CD4 T | CD4 TCM | CD4 TCM_1 |\n",
       "| AAACCTGAGAGAACAG-1 | powell_eqtl | NK    | NK      | NK_1      |\n",
       "\n"
      ],
      "text/plain": [
       "                   batch_id    celltype.mDC.l1 celltype.mDC.l2 celltype.mDC.l3\n",
       "AAACCTGAGAATGTTG-1 powell_eqtl CD4 T           CD4 TCM         CD4 TCM_1      \n",
       "AAACCTGAGAGAACAG-1 powell_eqtl NK              NK              NK_1           "
      ]
     },
     "metadata": {},
     "output_type": "display_data"
    }
   ],
   "source": [
    "rownames(subset_all_meta) = gsub(\"powell_eqtl_\",\"\",rownames(subset_all_meta))\n",
    "head(subset_all_meta,2)"
   ]
  },
  {
   "cell_type": "code",
   "execution_count": 247,
   "id": "681b6fcc",
   "metadata": {},
   "outputs": [],
   "source": [
    "sce = sce[,colnames(sce) %in% rownames(subset_all_meta)]"
   ]
  },
  {
   "cell_type": "code",
   "execution_count": 250,
   "id": "5418af43",
   "metadata": {},
   "outputs": [
    {
     "data": {
      "text/html": [
       "<style>\n",
       ".list-inline {list-style: none; margin:0; padding: 0}\n",
       ".list-inline>li {display: inline-block}\n",
       ".list-inline>li:not(:last-child)::after {content: \"\\00b7\"; padding: 0 .5ex}\n",
       "</style>\n",
       "<ol class=list-inline><li>24903</li><li>1244678</li></ol>\n"
      ],
      "text/latex": [
       "\\begin{enumerate*}\n",
       "\\item 24903\n",
       "\\item 1244678\n",
       "\\end{enumerate*}\n"
      ],
      "text/markdown": [
       "1. 24903\n",
       "2. 1244678\n",
       "\n",
       "\n"
      ],
      "text/plain": [
       "[1]   24903 1244678"
      ]
     },
     "metadata": {},
     "output_type": "display_data"
    }
   ],
   "source": [
    "dim(sce)"
   ]
  },
  {
   "cell_type": "code",
   "execution_count": 251,
   "id": "87741473",
   "metadata": {},
   "outputs": [],
   "source": [
    "subset_all_meta = subset_all_meta[rownames(subset_all_meta) %in% colnames(sce),]"
   ]
  },
  {
   "cell_type": "code",
   "execution_count": 252,
   "id": "2cf791fc",
   "metadata": {},
   "outputs": [],
   "source": [
    "sce@meta.data$celltype.mDC.l2 = subset_all_meta$celltype.mDC.l2"
   ]
  },
  {
   "cell_type": "code",
   "execution_count": 253,
   "id": "0981bd07",
   "metadata": {},
   "outputs": [
    {
     "name": "stderr",
     "output_type": "stream",
     "text": [
      "Warning message in PseudobulkExpression(object = object, pb.method = \"aggregate\", :\n",
      "“Exponentiation yielded infinite values. `data` may not be log-normed.”\n"
     ]
    }
   ],
   "source": [
    "pseudobulk = AggregateExpression(sce, group.by=c(\"individual\",\"celltype.mDC.l2\"))"
   ]
  },
  {
   "cell_type": "code",
   "execution_count": 254,
   "id": "bb7d2019",
   "metadata": {},
   "outputs": [],
   "source": [
    "mat = pseudobulk$RNA\n",
    "write.csv(mat,\"/share/ScratchGeneral/anncuo/sc-integration-workshop/new_celltypes_donor_celltype_summed.csv\")"
   ]
  },
  {
   "cell_type": "code",
   "execution_count": null,
   "id": "27bd1450",
   "metadata": {},
   "outputs": [],
   "source": []
  },
  {
   "cell_type": "code",
   "execution_count": 26,
   "id": "39a54f11",
   "metadata": {},
   "outputs": [
    {
     "data": {
      "text/html": [
       "<table class=\"dataframe\">\n",
       "<caption>A data.frame: 6 × 8</caption>\n",
       "<thead>\n",
       "\t<tr><th></th><th scope=col>sampleid</th><th scope=col>SEX</th><th scope=col>PCA1</th><th scope=col>PCA2</th><th scope=col>PCA3</th><th scope=col>PCA4</th><th scope=col>PCA5</th><th scope=col>PCA6</th></tr>\n",
       "\t<tr><th></th><th scope=col>&lt;chr&gt;</th><th scope=col>&lt;int&gt;</th><th scope=col>&lt;dbl&gt;</th><th scope=col>&lt;dbl&gt;</th><th scope=col>&lt;dbl&gt;</th><th scope=col>&lt;dbl&gt;</th><th scope=col>&lt;dbl&gt;</th><th scope=col>&lt;dbl&gt;</th></tr>\n",
       "</thead>\n",
       "<tbody>\n",
       "\t<tr><th scope=row>1</th><td>1_1      </td><td>2</td><td> 0.02775250</td><td>-0.000592955</td><td> 0.00757785</td><td>-0.01409290</td><td> 0.009323330</td><td> 0.031375400</td></tr>\n",
       "\t<tr><th scope=row>2</th><td>10_10    </td><td>2</td><td> 0.02052560</td><td> 0.040040200</td><td>-0.01847820</td><td> 0.03658380</td><td>-0.014617600</td><td> 0.013474100</td></tr>\n",
       "\t<tr><th scope=row>3</th><td>1000_1001</td><td>2</td><td> 0.01081720</td><td>-0.004233600</td><td> 0.00537891</td><td>-0.02058190</td><td>-0.027539500</td><td>-0.039861100</td></tr>\n",
       "\t<tr><th scope=row>4</th><td>1001_1002</td><td>2</td><td> 0.01211940</td><td> 0.000788658</td><td>-0.00671328</td><td>-0.01969960</td><td>-0.000180694</td><td> 0.037322600</td></tr>\n",
       "\t<tr><th scope=row>5</th><td>1002_1003</td><td>1</td><td>-0.05739470</td><td>-0.019243700</td><td> 0.00442424</td><td> 0.00619121</td><td>-0.010877400</td><td>-0.013743000</td></tr>\n",
       "\t<tr><th scope=row>6</th><td>1003_1004</td><td>2</td><td> 0.00532722</td><td> 0.008837440</td><td>-0.01299120</td><td> 0.00997544</td><td>-0.024854800</td><td> 0.000188687</td></tr>\n",
       "</tbody>\n",
       "</table>\n"
      ],
      "text/latex": [
       "A data.frame: 6 × 8\n",
       "\\begin{tabular}{r|llllllll}\n",
       "  & sampleid & SEX & PCA1 & PCA2 & PCA3 & PCA4 & PCA5 & PCA6\\\\\n",
       "  & <chr> & <int> & <dbl> & <dbl> & <dbl> & <dbl> & <dbl> & <dbl>\\\\\n",
       "\\hline\n",
       "\t1 & 1\\_1       & 2 &  0.02775250 & -0.000592955 &  0.00757785 & -0.01409290 &  0.009323330 &  0.031375400\\\\\n",
       "\t2 & 10\\_10     & 2 &  0.02052560 &  0.040040200 & -0.01847820 &  0.03658380 & -0.014617600 &  0.013474100\\\\\n",
       "\t3 & 1000\\_1001 & 2 &  0.01081720 & -0.004233600 &  0.00537891 & -0.02058190 & -0.027539500 & -0.039861100\\\\\n",
       "\t4 & 1001\\_1002 & 2 &  0.01211940 &  0.000788658 & -0.00671328 & -0.01969960 & -0.000180694 &  0.037322600\\\\\n",
       "\t5 & 1002\\_1003 & 1 & -0.05739470 & -0.019243700 &  0.00442424 &  0.00619121 & -0.010877400 & -0.013743000\\\\\n",
       "\t6 & 1003\\_1004 & 2 &  0.00532722 &  0.008837440 & -0.01299120 &  0.00997544 & -0.024854800 &  0.000188687\\\\\n",
       "\\end{tabular}\n"
      ],
      "text/markdown": [
       "\n",
       "A data.frame: 6 × 8\n",
       "\n",
       "| <!--/--> | sampleid &lt;chr&gt; | SEX &lt;int&gt; | PCA1 &lt;dbl&gt; | PCA2 &lt;dbl&gt; | PCA3 &lt;dbl&gt; | PCA4 &lt;dbl&gt; | PCA5 &lt;dbl&gt; | PCA6 &lt;dbl&gt; |\n",
       "|---|---|---|---|---|---|---|---|---|\n",
       "| 1 | 1_1       | 2 |  0.02775250 | -0.000592955 |  0.00757785 | -0.01409290 |  0.009323330 |  0.031375400 |\n",
       "| 2 | 10_10     | 2 |  0.02052560 |  0.040040200 | -0.01847820 |  0.03658380 | -0.014617600 |  0.013474100 |\n",
       "| 3 | 1000_1001 | 2 |  0.01081720 | -0.004233600 |  0.00537891 | -0.02058190 | -0.027539500 | -0.039861100 |\n",
       "| 4 | 1001_1002 | 2 |  0.01211940 |  0.000788658 | -0.00671328 | -0.01969960 | -0.000180694 |  0.037322600 |\n",
       "| 5 | 1002_1003 | 1 | -0.05739470 | -0.019243700 |  0.00442424 |  0.00619121 | -0.010877400 | -0.013743000 |\n",
       "| 6 | 1003_1004 | 2 |  0.00532722 |  0.008837440 | -0.01299120 |  0.00997544 | -0.024854800 |  0.000188687 |\n",
       "\n"
      ],
      "text/plain": [
       "  sampleid  SEX PCA1        PCA2         PCA3        PCA4        PCA5        \n",
       "1 1_1       2    0.02775250 -0.000592955  0.00757785 -0.01409290  0.009323330\n",
       "2 10_10     2    0.02052560  0.040040200 -0.01847820  0.03658380 -0.014617600\n",
       "3 1000_1001 2    0.01081720 -0.004233600  0.00537891 -0.02058190 -0.027539500\n",
       "4 1001_1002 2    0.01211940  0.000788658 -0.00671328 -0.01969960 -0.000180694\n",
       "5 1002_1003 1   -0.05739470 -0.019243700  0.00442424  0.00619121 -0.010877400\n",
       "6 1003_1004 2    0.00532722  0.008837440 -0.01299120  0.00997544 -0.024854800\n",
       "  PCA6        \n",
       "1  0.031375400\n",
       "2  0.013474100\n",
       "3 -0.039861100\n",
       "4  0.037322600\n",
       "5 -0.013743000\n",
       "6  0.000188687"
      ]
     },
     "metadata": {},
     "output_type": "display_data"
    }
   ],
   "source": [
    "## Covariates\n",
    "mydir = \"/share/ScratchGeneral/anncuo/OneK1K/\"\n",
    "covs_filename =  paste0(mydir,\"/covariates.tsv\")\n",
    "df_covs = read.csv(covs_filename, sep=\"\\t\")\n",
    "head(df_covs)"
   ]
  },
  {
   "cell_type": "code",
   "execution_count": 97,
   "id": "9fc2c51e",
   "metadata": {},
   "outputs": [
    {
     "data": {
      "text/html": [
       "<table class=\"dataframe\">\n",
       "<caption>A data.frame: 6 × 2</caption>\n",
       "<thead>\n",
       "\t<tr><th></th><th scope=col>sampleid</th><th scope=col>age</th></tr>\n",
       "\t<tr><th></th><th scope=col>&lt;chr&gt;</th><th scope=col>&lt;int&gt;</th></tr>\n",
       "</thead>\n",
       "<tbody>\n",
       "\t<tr><th scope=row>1</th><td>1_1</td><td>65</td></tr>\n",
       "\t<tr><th scope=row>2</th><td>2_2</td><td>48</td></tr>\n",
       "\t<tr><th scope=row>3</th><td>3_3</td><td>53</td></tr>\n",
       "\t<tr><th scope=row>4</th><td>4_4</td><td>48</td></tr>\n",
       "\t<tr><th scope=row>5</th><td>5_5</td><td>41</td></tr>\n",
       "\t<tr><th scope=row>6</th><td>6_6</td><td>79</td></tr>\n",
       "</tbody>\n",
       "</table>\n"
      ],
      "text/latex": [
       "A data.frame: 6 × 2\n",
       "\\begin{tabular}{r|ll}\n",
       "  & sampleid & age\\\\\n",
       "  & <chr> & <int>\\\\\n",
       "\\hline\n",
       "\t1 & 1\\_1 & 65\\\\\n",
       "\t2 & 2\\_2 & 48\\\\\n",
       "\t3 & 3\\_3 & 53\\\\\n",
       "\t4 & 4\\_4 & 48\\\\\n",
       "\t5 & 5\\_5 & 41\\\\\n",
       "\t6 & 6\\_6 & 79\\\\\n",
       "\\end{tabular}\n"
      ],
      "text/markdown": [
       "\n",
       "A data.frame: 6 × 2\n",
       "\n",
       "| <!--/--> | sampleid &lt;chr&gt; | age &lt;int&gt; |\n",
       "|---|---|---|\n",
       "| 1 | 1_1 | 65 |\n",
       "| 2 | 2_2 | 48 |\n",
       "| 3 | 3_3 | 53 |\n",
       "| 4 | 4_4 | 48 |\n",
       "| 5 | 5_5 | 41 |\n",
       "| 6 | 6_6 | 79 |\n",
       "\n"
      ],
      "text/plain": [
       "  sampleid age\n",
       "1 1_1      65 \n",
       "2 2_2      48 \n",
       "3 3_3      53 \n",
       "4 4_4      48 \n",
       "5 5_5      41 \n",
       "6 6_6      79 "
      ]
     },
     "metadata": {},
     "output_type": "display_data"
    }
   ],
   "source": [
    "## Age covariates\n",
    "age_filename =  paste0(mydir,\"/age_covariate.tsv\")\n",
    "df_age = read.csv(age_filename, sep=\"\\t\")\n",
    "colnames(df_age)[1] = \"sampleid\"\n",
    "head(df_age)"
   ]
  },
  {
   "cell_type": "code",
   "execution_count": 98,
   "id": "d0ed0a47",
   "metadata": {},
   "outputs": [
    {
     "name": "stderr",
     "output_type": "stream",
     "text": [
      "\u001b[1m\u001b[22mJoining, by = \"sampleid\"\n"
     ]
    },
    {
     "data": {
      "text/html": [
       "<table class=\"dataframe\">\n",
       "<caption>A data.frame: 6 × 9</caption>\n",
       "<thead>\n",
       "\t<tr><th></th><th scope=col>sampleid</th><th scope=col>age</th><th scope=col>SEX</th><th scope=col>PCA1</th><th scope=col>PCA2</th><th scope=col>PCA3</th><th scope=col>PCA4</th><th scope=col>PCA5</th><th scope=col>PCA6</th></tr>\n",
       "\t<tr><th></th><th scope=col>&lt;chr&gt;</th><th scope=col>&lt;int&gt;</th><th scope=col>&lt;int&gt;</th><th scope=col>&lt;dbl&gt;</th><th scope=col>&lt;dbl&gt;</th><th scope=col>&lt;dbl&gt;</th><th scope=col>&lt;dbl&gt;</th><th scope=col>&lt;dbl&gt;</th><th scope=col>&lt;dbl&gt;</th></tr>\n",
       "</thead>\n",
       "<tbody>\n",
       "\t<tr><th scope=row>1</th><td>1_1</td><td>65</td><td>2</td><td> 0.02775250</td><td>-0.000592955</td><td> 0.00757785</td><td>-0.014092900</td><td> 0.00932333</td><td> 0.03137540</td></tr>\n",
       "\t<tr><th scope=row>2</th><td>2_2</td><td>48</td><td>2</td><td>-0.04813530</td><td>-0.056674100</td><td>-0.01547420</td><td>-0.000729391</td><td> 0.00027473</td><td> 0.01116000</td></tr>\n",
       "\t<tr><th scope=row>3</th><td>3_3</td><td>53</td><td>2</td><td> 0.01369180</td><td>-0.046308100</td><td>-0.00584410</td><td> 0.026565000</td><td>-0.00435940</td><td> 0.03093290</td></tr>\n",
       "\t<tr><th scope=row>4</th><td>4_4</td><td>48</td><td>2</td><td> 0.01780390</td><td> 0.046411400</td><td>-0.02508330</td><td> 0.015125200</td><td> 0.02318960</td><td>-0.00741249</td></tr>\n",
       "\t<tr><th scope=row>5</th><td>6_6</td><td>79</td><td>2</td><td>-0.01165420</td><td> 0.015232400</td><td> 0.01065710</td><td>-0.071689000</td><td>-0.05411840</td><td> 0.00316309</td></tr>\n",
       "\t<tr><th scope=row>6</th><td>7_7</td><td>74</td><td>2</td><td> 0.00233242</td><td> 0.022173500</td><td> 0.02882250</td><td> 0.004397390</td><td> 0.07210630</td><td>-0.02177460</td></tr>\n",
       "</tbody>\n",
       "</table>\n"
      ],
      "text/latex": [
       "A data.frame: 6 × 9\n",
       "\\begin{tabular}{r|lllllllll}\n",
       "  & sampleid & age & SEX & PCA1 & PCA2 & PCA3 & PCA4 & PCA5 & PCA6\\\\\n",
       "  & <chr> & <int> & <int> & <dbl> & <dbl> & <dbl> & <dbl> & <dbl> & <dbl>\\\\\n",
       "\\hline\n",
       "\t1 & 1\\_1 & 65 & 2 &  0.02775250 & -0.000592955 &  0.00757785 & -0.014092900 &  0.00932333 &  0.03137540\\\\\n",
       "\t2 & 2\\_2 & 48 & 2 & -0.04813530 & -0.056674100 & -0.01547420 & -0.000729391 &  0.00027473 &  0.01116000\\\\\n",
       "\t3 & 3\\_3 & 53 & 2 &  0.01369180 & -0.046308100 & -0.00584410 &  0.026565000 & -0.00435940 &  0.03093290\\\\\n",
       "\t4 & 4\\_4 & 48 & 2 &  0.01780390 &  0.046411400 & -0.02508330 &  0.015125200 &  0.02318960 & -0.00741249\\\\\n",
       "\t5 & 6\\_6 & 79 & 2 & -0.01165420 &  0.015232400 &  0.01065710 & -0.071689000 & -0.05411840 &  0.00316309\\\\\n",
       "\t6 & 7\\_7 & 74 & 2 &  0.00233242 &  0.022173500 &  0.02882250 &  0.004397390 &  0.07210630 & -0.02177460\\\\\n",
       "\\end{tabular}\n"
      ],
      "text/markdown": [
       "\n",
       "A data.frame: 6 × 9\n",
       "\n",
       "| <!--/--> | sampleid &lt;chr&gt; | age &lt;int&gt; | SEX &lt;int&gt; | PCA1 &lt;dbl&gt; | PCA2 &lt;dbl&gt; | PCA3 &lt;dbl&gt; | PCA4 &lt;dbl&gt; | PCA5 &lt;dbl&gt; | PCA6 &lt;dbl&gt; |\n",
       "|---|---|---|---|---|---|---|---|---|---|\n",
       "| 1 | 1_1 | 65 | 2 |  0.02775250 | -0.000592955 |  0.00757785 | -0.014092900 |  0.00932333 |  0.03137540 |\n",
       "| 2 | 2_2 | 48 | 2 | -0.04813530 | -0.056674100 | -0.01547420 | -0.000729391 |  0.00027473 |  0.01116000 |\n",
       "| 3 | 3_3 | 53 | 2 |  0.01369180 | -0.046308100 | -0.00584410 |  0.026565000 | -0.00435940 |  0.03093290 |\n",
       "| 4 | 4_4 | 48 | 2 |  0.01780390 |  0.046411400 | -0.02508330 |  0.015125200 |  0.02318960 | -0.00741249 |\n",
       "| 5 | 6_6 | 79 | 2 | -0.01165420 |  0.015232400 |  0.01065710 | -0.071689000 | -0.05411840 |  0.00316309 |\n",
       "| 6 | 7_7 | 74 | 2 |  0.00233242 |  0.022173500 |  0.02882250 |  0.004397390 |  0.07210630 | -0.02177460 |\n",
       "\n"
      ],
      "text/plain": [
       "  sampleid age SEX PCA1        PCA2         PCA3        PCA4        \n",
       "1 1_1      65  2    0.02775250 -0.000592955  0.00757785 -0.014092900\n",
       "2 2_2      48  2   -0.04813530 -0.056674100 -0.01547420 -0.000729391\n",
       "3 3_3      53  2    0.01369180 -0.046308100 -0.00584410  0.026565000\n",
       "4 4_4      48  2    0.01780390  0.046411400 -0.02508330  0.015125200\n",
       "5 6_6      79  2   -0.01165420  0.015232400  0.01065710 -0.071689000\n",
       "6 7_7      74  2    0.00233242  0.022173500  0.02882250  0.004397390\n",
       "  PCA5        PCA6       \n",
       "1  0.00932333  0.03137540\n",
       "2  0.00027473  0.01116000\n",
       "3 -0.00435940  0.03093290\n",
       "4  0.02318960 -0.00741249\n",
       "5 -0.05411840  0.00316309\n",
       "6  0.07210630 -0.02177460"
      ]
     },
     "metadata": {},
     "output_type": "display_data"
    }
   ],
   "source": [
    "age_sex = inner_join(df_age, df_covs)\n",
    "head(age_sex)"
   ]
  },
  {
   "cell_type": "code",
   "execution_count": 108,
   "id": "6a0d0e25",
   "metadata": {},
   "outputs": [
    {
     "data": {
      "text/html": [
       "982"
      ],
      "text/latex": [
       "982"
      ],
      "text/markdown": [
       "982"
      ],
      "text/plain": [
       "[1] 982"
      ]
     },
     "metadata": {},
     "output_type": "display_data"
    }
   ],
   "source": [
    "nrow(age_sex)"
   ]
  },
  {
   "cell_type": "code",
   "execution_count": 255,
   "id": "29d51d77",
   "metadata": {},
   "outputs": [],
   "source": [
    "df = mat"
   ]
  },
  {
   "cell_type": "code",
   "execution_count": 258,
   "id": "4b34b094",
   "metadata": {},
   "outputs": [
    {
     "data": {
      "text/html": [
       "<table class=\"dataframe\">\n",
       "<caption>A data.frame: 6 × 9</caption>\n",
       "<thead>\n",
       "\t<tr><th></th><th scope=col>batch_id</th><th scope=col>celltype.mDC.l1</th><th scope=col>celltype.mDC.l2</th><th scope=col>celltype.mDC.l3</th><th scope=col>donor_summary</th><th scope=col>sex</th><th scope=col>development_stage</th><th scope=col>ethnicity</th><th scope=col>disease</th></tr>\n",
       "\t<tr><th></th><th scope=col>&lt;chr&gt;</th><th scope=col>&lt;chr&gt;</th><th scope=col>&lt;chr&gt;</th><th scope=col>&lt;chr&gt;</th><th scope=col>&lt;chr&gt;</th><th scope=col>&lt;fct&gt;</th><th scope=col>&lt;fct&gt;</th><th scope=col>&lt;fct&gt;</th><th scope=col>&lt;fct&gt;</th></tr>\n",
       "</thead>\n",
       "<tbody>\n",
       "\t<tr><th scope=row>10_1016_j_cell_2020_08_001_Schulte-Schrepping-0</th><td>10_1016_j_cell_2020_08_001</td><td>Mono </td><td>CD14 Mono</td><td>CD14 Mono</td><td>10_1016_j_cell_2020_08_001_C19-CB-0001</td><td>male</td><td>third decade human stage </td><td>unknown</td><td>COVID-19</td></tr>\n",
       "\t<tr><th scope=row>10_1016_j_cell_2020_08_001_Schulte-Schrepping-1</th><td>10_1016_j_cell_2020_08_001</td><td>Mono </td><td>CD14 Mono</td><td>CD14 Mono</td><td>10_1016_j_cell_2020_08_001_C19-CB-0003</td><td>male</td><td>fifth decade human stage </td><td>unknown</td><td>COVID-19</td></tr>\n",
       "\t<tr><th scope=row>10_1016_j_cell_2020_08_001_Schulte-Schrepping-10</th><td>10_1016_j_cell_2020_08_001</td><td>Mono </td><td>CD14 Mono</td><td>CD14 Mono</td><td>10_1016_j_cell_2020_08_001_C19-CB-0001</td><td>male</td><td>third decade human stage </td><td>unknown</td><td>COVID-19</td></tr>\n",
       "\t<tr><th scope=row>10_1016_j_cell_2020_08_001_Schulte-Schrepping-100</th><td>10_1016_j_cell_2020_08_001</td><td>Mono </td><td>CD14 Mono</td><td>CD14 Mono</td><td>10_1016_j_cell_2020_08_001_C19-CB-0003</td><td>male</td><td>fifth decade human stage </td><td>unknown</td><td>COVID-19</td></tr>\n",
       "\t<tr><th scope=row>10_1016_j_cell_2020_08_001_Schulte-Schrepping-1000</th><td>10_1016_j_cell_2020_08_001</td><td>CD8 T</td><td>CD8 TEM  </td><td>CD8 TEM_5</td><td>10_1016_j_cell_2020_08_001_C19-CB-0001</td><td>male</td><td>third decade human stage </td><td>unknown</td><td>COVID-19</td></tr>\n",
       "\t<tr><th scope=row>10_1016_j_cell_2020_08_001_Schulte-Schrepping-10000</th><td>10_1016_j_cell_2020_08_001</td><td>Mono </td><td>CD14 Mono</td><td>CD14 Mono</td><td>10_1016_j_cell_2020_08_001_C19-CB-0005</td><td>male</td><td>eighth decade human stage</td><td>unknown</td><td>COVID-19</td></tr>\n",
       "</tbody>\n",
       "</table>\n"
      ],
      "text/latex": [
       "A data.frame: 6 × 9\n",
       "\\begin{tabular}{r|lllllllll}\n",
       "  & batch\\_id & celltype.mDC.l1 & celltype.mDC.l2 & celltype.mDC.l3 & donor\\_summary & sex & development\\_stage & ethnicity & disease\\\\\n",
       "  & <chr> & <chr> & <chr> & <chr> & <chr> & <fct> & <fct> & <fct> & <fct>\\\\\n",
       "\\hline\n",
       "\t10\\_1016\\_j\\_cell\\_2020\\_08\\_001\\_Schulte-Schrepping-0 & 10\\_1016\\_j\\_cell\\_2020\\_08\\_001 & Mono  & CD14 Mono & CD14 Mono & 10\\_1016\\_j\\_cell\\_2020\\_08\\_001\\_C19-CB-0001 & male & third decade human stage  & unknown & COVID-19\\\\\n",
       "\t10\\_1016\\_j\\_cell\\_2020\\_08\\_001\\_Schulte-Schrepping-1 & 10\\_1016\\_j\\_cell\\_2020\\_08\\_001 & Mono  & CD14 Mono & CD14 Mono & 10\\_1016\\_j\\_cell\\_2020\\_08\\_001\\_C19-CB-0003 & male & fifth decade human stage  & unknown & COVID-19\\\\\n",
       "\t10\\_1016\\_j\\_cell\\_2020\\_08\\_001\\_Schulte-Schrepping-10 & 10\\_1016\\_j\\_cell\\_2020\\_08\\_001 & Mono  & CD14 Mono & CD14 Mono & 10\\_1016\\_j\\_cell\\_2020\\_08\\_001\\_C19-CB-0001 & male & third decade human stage  & unknown & COVID-19\\\\\n",
       "\t10\\_1016\\_j\\_cell\\_2020\\_08\\_001\\_Schulte-Schrepping-100 & 10\\_1016\\_j\\_cell\\_2020\\_08\\_001 & Mono  & CD14 Mono & CD14 Mono & 10\\_1016\\_j\\_cell\\_2020\\_08\\_001\\_C19-CB-0003 & male & fifth decade human stage  & unknown & COVID-19\\\\\n",
       "\t10\\_1016\\_j\\_cell\\_2020\\_08\\_001\\_Schulte-Schrepping-1000 & 10\\_1016\\_j\\_cell\\_2020\\_08\\_001 & CD8 T & CD8 TEM   & CD8 TEM\\_5 & 10\\_1016\\_j\\_cell\\_2020\\_08\\_001\\_C19-CB-0001 & male & third decade human stage  & unknown & COVID-19\\\\\n",
       "\t10\\_1016\\_j\\_cell\\_2020\\_08\\_001\\_Schulte-Schrepping-10000 & 10\\_1016\\_j\\_cell\\_2020\\_08\\_001 & Mono  & CD14 Mono & CD14 Mono & 10\\_1016\\_j\\_cell\\_2020\\_08\\_001\\_C19-CB-0005 & male & eighth decade human stage & unknown & COVID-19\\\\\n",
       "\\end{tabular}\n"
      ],
      "text/markdown": [
       "\n",
       "A data.frame: 6 × 9\n",
       "\n",
       "| <!--/--> | batch_id &lt;chr&gt; | celltype.mDC.l1 &lt;chr&gt; | celltype.mDC.l2 &lt;chr&gt; | celltype.mDC.l3 &lt;chr&gt; | donor_summary &lt;chr&gt; | sex &lt;fct&gt; | development_stage &lt;fct&gt; | ethnicity &lt;fct&gt; | disease &lt;fct&gt; |\n",
       "|---|---|---|---|---|---|---|---|---|---|\n",
       "| 10_1016_j_cell_2020_08_001_Schulte-Schrepping-0 | 10_1016_j_cell_2020_08_001 | Mono  | CD14 Mono | CD14 Mono | 10_1016_j_cell_2020_08_001_C19-CB-0001 | male | third decade human stage  | unknown | COVID-19 |\n",
       "| 10_1016_j_cell_2020_08_001_Schulte-Schrepping-1 | 10_1016_j_cell_2020_08_001 | Mono  | CD14 Mono | CD14 Mono | 10_1016_j_cell_2020_08_001_C19-CB-0003 | male | fifth decade human stage  | unknown | COVID-19 |\n",
       "| 10_1016_j_cell_2020_08_001_Schulte-Schrepping-10 | 10_1016_j_cell_2020_08_001 | Mono  | CD14 Mono | CD14 Mono | 10_1016_j_cell_2020_08_001_C19-CB-0001 | male | third decade human stage  | unknown | COVID-19 |\n",
       "| 10_1016_j_cell_2020_08_001_Schulte-Schrepping-100 | 10_1016_j_cell_2020_08_001 | Mono  | CD14 Mono | CD14 Mono | 10_1016_j_cell_2020_08_001_C19-CB-0003 | male | fifth decade human stage  | unknown | COVID-19 |\n",
       "| 10_1016_j_cell_2020_08_001_Schulte-Schrepping-1000 | 10_1016_j_cell_2020_08_001 | CD8 T | CD8 TEM   | CD8 TEM_5 | 10_1016_j_cell_2020_08_001_C19-CB-0001 | male | third decade human stage  | unknown | COVID-19 |\n",
       "| 10_1016_j_cell_2020_08_001_Schulte-Schrepping-10000 | 10_1016_j_cell_2020_08_001 | Mono  | CD14 Mono | CD14 Mono | 10_1016_j_cell_2020_08_001_C19-CB-0005 | male | eighth decade human stage | unknown | COVID-19 |\n",
       "\n"
      ],
      "text/plain": [
       "                                                    batch_id                  \n",
       "10_1016_j_cell_2020_08_001_Schulte-Schrepping-0     10_1016_j_cell_2020_08_001\n",
       "10_1016_j_cell_2020_08_001_Schulte-Schrepping-1     10_1016_j_cell_2020_08_001\n",
       "10_1016_j_cell_2020_08_001_Schulte-Schrepping-10    10_1016_j_cell_2020_08_001\n",
       "10_1016_j_cell_2020_08_001_Schulte-Schrepping-100   10_1016_j_cell_2020_08_001\n",
       "10_1016_j_cell_2020_08_001_Schulte-Schrepping-1000  10_1016_j_cell_2020_08_001\n",
       "10_1016_j_cell_2020_08_001_Schulte-Schrepping-10000 10_1016_j_cell_2020_08_001\n",
       "                                                    celltype.mDC.l1\n",
       "10_1016_j_cell_2020_08_001_Schulte-Schrepping-0     Mono           \n",
       "10_1016_j_cell_2020_08_001_Schulte-Schrepping-1     Mono           \n",
       "10_1016_j_cell_2020_08_001_Schulte-Schrepping-10    Mono           \n",
       "10_1016_j_cell_2020_08_001_Schulte-Schrepping-100   Mono           \n",
       "10_1016_j_cell_2020_08_001_Schulte-Schrepping-1000  CD8 T          \n",
       "10_1016_j_cell_2020_08_001_Schulte-Schrepping-10000 Mono           \n",
       "                                                    celltype.mDC.l2\n",
       "10_1016_j_cell_2020_08_001_Schulte-Schrepping-0     CD14 Mono      \n",
       "10_1016_j_cell_2020_08_001_Schulte-Schrepping-1     CD14 Mono      \n",
       "10_1016_j_cell_2020_08_001_Schulte-Schrepping-10    CD14 Mono      \n",
       "10_1016_j_cell_2020_08_001_Schulte-Schrepping-100   CD14 Mono      \n",
       "10_1016_j_cell_2020_08_001_Schulte-Schrepping-1000  CD8 TEM        \n",
       "10_1016_j_cell_2020_08_001_Schulte-Schrepping-10000 CD14 Mono      \n",
       "                                                    celltype.mDC.l3\n",
       "10_1016_j_cell_2020_08_001_Schulte-Schrepping-0     CD14 Mono      \n",
       "10_1016_j_cell_2020_08_001_Schulte-Schrepping-1     CD14 Mono      \n",
       "10_1016_j_cell_2020_08_001_Schulte-Schrepping-10    CD14 Mono      \n",
       "10_1016_j_cell_2020_08_001_Schulte-Schrepping-100   CD14 Mono      \n",
       "10_1016_j_cell_2020_08_001_Schulte-Schrepping-1000  CD8 TEM_5      \n",
       "10_1016_j_cell_2020_08_001_Schulte-Schrepping-10000 CD14 Mono      \n",
       "                                                    donor_summary                         \n",
       "10_1016_j_cell_2020_08_001_Schulte-Schrepping-0     10_1016_j_cell_2020_08_001_C19-CB-0001\n",
       "10_1016_j_cell_2020_08_001_Schulte-Schrepping-1     10_1016_j_cell_2020_08_001_C19-CB-0003\n",
       "10_1016_j_cell_2020_08_001_Schulte-Schrepping-10    10_1016_j_cell_2020_08_001_C19-CB-0001\n",
       "10_1016_j_cell_2020_08_001_Schulte-Schrepping-100   10_1016_j_cell_2020_08_001_C19-CB-0003\n",
       "10_1016_j_cell_2020_08_001_Schulte-Schrepping-1000  10_1016_j_cell_2020_08_001_C19-CB-0001\n",
       "10_1016_j_cell_2020_08_001_Schulte-Schrepping-10000 10_1016_j_cell_2020_08_001_C19-CB-0005\n",
       "                                                    sex \n",
       "10_1016_j_cell_2020_08_001_Schulte-Schrepping-0     male\n",
       "10_1016_j_cell_2020_08_001_Schulte-Schrepping-1     male\n",
       "10_1016_j_cell_2020_08_001_Schulte-Schrepping-10    male\n",
       "10_1016_j_cell_2020_08_001_Schulte-Schrepping-100   male\n",
       "10_1016_j_cell_2020_08_001_Schulte-Schrepping-1000  male\n",
       "10_1016_j_cell_2020_08_001_Schulte-Schrepping-10000 male\n",
       "                                                    development_stage        \n",
       "10_1016_j_cell_2020_08_001_Schulte-Schrepping-0     third decade human stage \n",
       "10_1016_j_cell_2020_08_001_Schulte-Schrepping-1     fifth decade human stage \n",
       "10_1016_j_cell_2020_08_001_Schulte-Schrepping-10    third decade human stage \n",
       "10_1016_j_cell_2020_08_001_Schulte-Schrepping-100   fifth decade human stage \n",
       "10_1016_j_cell_2020_08_001_Schulte-Schrepping-1000  third decade human stage \n",
       "10_1016_j_cell_2020_08_001_Schulte-Schrepping-10000 eighth decade human stage\n",
       "                                                    ethnicity disease \n",
       "10_1016_j_cell_2020_08_001_Schulte-Schrepping-0     unknown   COVID-19\n",
       "10_1016_j_cell_2020_08_001_Schulte-Schrepping-1     unknown   COVID-19\n",
       "10_1016_j_cell_2020_08_001_Schulte-Schrepping-10    unknown   COVID-19\n",
       "10_1016_j_cell_2020_08_001_Schulte-Schrepping-100   unknown   COVID-19\n",
       "10_1016_j_cell_2020_08_001_Schulte-Schrepping-1000  unknown   COVID-19\n",
       "10_1016_j_cell_2020_08_001_Schulte-Schrepping-10000 unknown   COVID-19"
      ]
     },
     "metadata": {},
     "output_type": "display_data"
    }
   ],
   "source": [
    "# Seurat object\n",
    "mydir = \"/share/ScratchGeneral/anncuo/sc-integration-workshop/\"\n",
    "all_meta_filename = paste0(mydir,\"all_meta_new.rds\")\n",
    "# all_meta_filename = paste0(mydir,\"all_meta.rds\")\n",
    "all_meta = readRDS(all_meta_filename)\n",
    "head(all_meta)"
   ]
  },
  {
   "cell_type": "code",
   "execution_count": 259,
   "id": "f82dea21",
   "metadata": {},
   "outputs": [],
   "source": [
    "celltypes = all_meta$celltype.mDC.l2\n",
    "celltypes = gsub(\" \",\"_\",celltypes)"
   ]
  },
  {
   "cell_type": "code",
   "execution_count": 262,
   "id": "46327b51",
   "metadata": {},
   "outputs": [
    {
     "data": {
      "text/html": [
       "<table class=\"dataframe\">\n",
       "<caption>A data.frame: 6 × 23000</caption>\n",
       "<thead>\n",
       "\t<tr><th></th><th scope=col>1_1_B intermediate</th><th scope=col>1_1_B memory</th><th scope=col>1_1_B naive</th><th scope=col>1_1_CD14 Mono</th><th scope=col>1_1_CD16 Mono</th><th scope=col>1_1_CD4 CTL</th><th scope=col>1_1_CD4 Naive</th><th scope=col>1_1_CD4 TCM</th><th scope=col>1_1_CD4 TEM</th><th scope=col>1_1_CD8 Naive</th><th scope=col>⋯</th><th scope=col>999_1000_dnT</th><th scope=col>999_1000_gdT</th><th scope=col>999_1000_HSPC</th><th scope=col>999_1000_ILC</th><th scope=col>999_1000_MAIT</th><th scope=col>999_1000_NK</th><th scope=col>999_1000_NK_CD56bright</th><th scope=col>999_1000_Plasmablast</th><th scope=col>999_1000_Platelet</th><th scope=col>999_1000_Treg</th></tr>\n",
       "\t<tr><th></th><th scope=col>&lt;dbl&gt;</th><th scope=col>&lt;dbl&gt;</th><th scope=col>&lt;dbl&gt;</th><th scope=col>&lt;dbl&gt;</th><th scope=col>&lt;dbl&gt;</th><th scope=col>&lt;dbl&gt;</th><th scope=col>&lt;dbl&gt;</th><th scope=col>&lt;dbl&gt;</th><th scope=col>&lt;dbl&gt;</th><th scope=col>&lt;dbl&gt;</th><th scope=col>⋯</th><th scope=col>&lt;dbl&gt;</th><th scope=col>&lt;dbl&gt;</th><th scope=col>&lt;dbl&gt;</th><th scope=col>&lt;dbl&gt;</th><th scope=col>&lt;dbl&gt;</th><th scope=col>&lt;dbl&gt;</th><th scope=col>&lt;dbl&gt;</th><th scope=col>&lt;dbl&gt;</th><th scope=col>&lt;dbl&gt;</th><th scope=col>&lt;dbl&gt;</th></tr>\n",
       "</thead>\n",
       "<tbody>\n",
       "\t<tr><th scope=row>MIR1302-10</th><td>0</td><td>0</td><td>0</td><td>0.000000</td><td>0</td><td>0</td><td>0</td><td>0</td><td>0</td><td>0</td><td>⋯</td><td>0</td><td>0</td><td>0</td><td>0</td><td>0</td><td>0</td><td>0</td><td>0</td><td>0</td><td>0</td></tr>\n",
       "\t<tr><th scope=row>FAM138A</th><td>0</td><td>0</td><td>0</td><td>0.000000</td><td>0</td><td>0</td><td>0</td><td>0</td><td>0</td><td>0</td><td>⋯</td><td>0</td><td>0</td><td>0</td><td>0</td><td>0</td><td>0</td><td>0</td><td>0</td><td>0</td><td>0</td></tr>\n",
       "\t<tr><th scope=row>OR4F5</th><td>0</td><td>0</td><td>0</td><td>0.000000</td><td>0</td><td>0</td><td>0</td><td>0</td><td>0</td><td>0</td><td>⋯</td><td>0</td><td>0</td><td>0</td><td>0</td><td>0</td><td>0</td><td>0</td><td>0</td><td>0</td><td>0</td></tr>\n",
       "\t<tr><th scope=row>RP11-34P13.7</th><td>0</td><td>0</td><td>0</td><td>0.000000</td><td>0</td><td>0</td><td>0</td><td>0</td><td>0</td><td>0</td><td>⋯</td><td>0</td><td>0</td><td>0</td><td>0</td><td>0</td><td>0</td><td>0</td><td>0</td><td>0</td><td>0</td></tr>\n",
       "\t<tr><th scope=row>RP11-34P13.8</th><td>0</td><td>0</td><td>0</td><td>0.000000</td><td>0</td><td>0</td><td>0</td><td>0</td><td>0</td><td>0</td><td>⋯</td><td>0</td><td>0</td><td>0</td><td>0</td><td>0</td><td>0</td><td>0</td><td>0</td><td>0</td><td>0</td></tr>\n",
       "\t<tr><th scope=row>AL627309.1</th><td>0</td><td>0</td><td>0</td><td>3.436564</td><td>0</td><td>0</td><td>0</td><td>0</td><td>0</td><td>0</td><td>⋯</td><td>0</td><td>0</td><td>0</td><td>0</td><td>0</td><td>0</td><td>0</td><td>0</td><td>0</td><td>0</td></tr>\n",
       "</tbody>\n",
       "</table>\n"
      ],
      "text/latex": [
       "A data.frame: 6 × 23000\n",
       "\\begin{tabular}{r|lllllllllllllllllllll}\n",
       "  & 1\\_1\\_B intermediate & 1\\_1\\_B memory & 1\\_1\\_B naive & 1\\_1\\_CD14 Mono & 1\\_1\\_CD16 Mono & 1\\_1\\_CD4 CTL & 1\\_1\\_CD4 Naive & 1\\_1\\_CD4 TCM & 1\\_1\\_CD4 TEM & 1\\_1\\_CD8 Naive & ⋯ & 999\\_1000\\_dnT & 999\\_1000\\_gdT & 999\\_1000\\_HSPC & 999\\_1000\\_ILC & 999\\_1000\\_MAIT & 999\\_1000\\_NK & 999\\_1000\\_NK\\_CD56bright & 999\\_1000\\_Plasmablast & 999\\_1000\\_Platelet & 999\\_1000\\_Treg\\\\\n",
       "  & <dbl> & <dbl> & <dbl> & <dbl> & <dbl> & <dbl> & <dbl> & <dbl> & <dbl> & <dbl> & ⋯ & <dbl> & <dbl> & <dbl> & <dbl> & <dbl> & <dbl> & <dbl> & <dbl> & <dbl> & <dbl>\\\\\n",
       "\\hline\n",
       "\tMIR1302-10 & 0 & 0 & 0 & 0.000000 & 0 & 0 & 0 & 0 & 0 & 0 & ⋯ & 0 & 0 & 0 & 0 & 0 & 0 & 0 & 0 & 0 & 0\\\\\n",
       "\tFAM138A & 0 & 0 & 0 & 0.000000 & 0 & 0 & 0 & 0 & 0 & 0 & ⋯ & 0 & 0 & 0 & 0 & 0 & 0 & 0 & 0 & 0 & 0\\\\\n",
       "\tOR4F5 & 0 & 0 & 0 & 0.000000 & 0 & 0 & 0 & 0 & 0 & 0 & ⋯ & 0 & 0 & 0 & 0 & 0 & 0 & 0 & 0 & 0 & 0\\\\\n",
       "\tRP11-34P13.7 & 0 & 0 & 0 & 0.000000 & 0 & 0 & 0 & 0 & 0 & 0 & ⋯ & 0 & 0 & 0 & 0 & 0 & 0 & 0 & 0 & 0 & 0\\\\\n",
       "\tRP11-34P13.8 & 0 & 0 & 0 & 0.000000 & 0 & 0 & 0 & 0 & 0 & 0 & ⋯ & 0 & 0 & 0 & 0 & 0 & 0 & 0 & 0 & 0 & 0\\\\\n",
       "\tAL627309.1 & 0 & 0 & 0 & 3.436564 & 0 & 0 & 0 & 0 & 0 & 0 & ⋯ & 0 & 0 & 0 & 0 & 0 & 0 & 0 & 0 & 0 & 0\\\\\n",
       "\\end{tabular}\n"
      ],
      "text/markdown": [
       "\n",
       "A data.frame: 6 × 23000\n",
       "\n",
       "| <!--/--> | 1_1_B intermediate &lt;dbl&gt; | 1_1_B memory &lt;dbl&gt; | 1_1_B naive &lt;dbl&gt; | 1_1_CD14 Mono &lt;dbl&gt; | 1_1_CD16 Mono &lt;dbl&gt; | 1_1_CD4 CTL &lt;dbl&gt; | 1_1_CD4 Naive &lt;dbl&gt; | 1_1_CD4 TCM &lt;dbl&gt; | 1_1_CD4 TEM &lt;dbl&gt; | 1_1_CD8 Naive &lt;dbl&gt; | ⋯ ⋯ | 999_1000_dnT &lt;dbl&gt; | 999_1000_gdT &lt;dbl&gt; | 999_1000_HSPC &lt;dbl&gt; | 999_1000_ILC &lt;dbl&gt; | 999_1000_MAIT &lt;dbl&gt; | 999_1000_NK &lt;dbl&gt; | 999_1000_NK_CD56bright &lt;dbl&gt; | 999_1000_Plasmablast &lt;dbl&gt; | 999_1000_Platelet &lt;dbl&gt; | 999_1000_Treg &lt;dbl&gt; |\n",
       "|---|---|---|---|---|---|---|---|---|---|---|---|---|---|---|---|---|---|---|---|---|---|\n",
       "| MIR1302-10 | 0 | 0 | 0 | 0.000000 | 0 | 0 | 0 | 0 | 0 | 0 | ⋯ | 0 | 0 | 0 | 0 | 0 | 0 | 0 | 0 | 0 | 0 |\n",
       "| FAM138A | 0 | 0 | 0 | 0.000000 | 0 | 0 | 0 | 0 | 0 | 0 | ⋯ | 0 | 0 | 0 | 0 | 0 | 0 | 0 | 0 | 0 | 0 |\n",
       "| OR4F5 | 0 | 0 | 0 | 0.000000 | 0 | 0 | 0 | 0 | 0 | 0 | ⋯ | 0 | 0 | 0 | 0 | 0 | 0 | 0 | 0 | 0 | 0 |\n",
       "| RP11-34P13.7 | 0 | 0 | 0 | 0.000000 | 0 | 0 | 0 | 0 | 0 | 0 | ⋯ | 0 | 0 | 0 | 0 | 0 | 0 | 0 | 0 | 0 | 0 |\n",
       "| RP11-34P13.8 | 0 | 0 | 0 | 0.000000 | 0 | 0 | 0 | 0 | 0 | 0 | ⋯ | 0 | 0 | 0 | 0 | 0 | 0 | 0 | 0 | 0 | 0 |\n",
       "| AL627309.1 | 0 | 0 | 0 | 3.436564 | 0 | 0 | 0 | 0 | 0 | 0 | ⋯ | 0 | 0 | 0 | 0 | 0 | 0 | 0 | 0 | 0 | 0 |\n",
       "\n"
      ],
      "text/plain": [
       "             1_1_B intermediate 1_1_B memory 1_1_B naive 1_1_CD14 Mono\n",
       "MIR1302-10   0                  0            0           0.000000     \n",
       "FAM138A      0                  0            0           0.000000     \n",
       "OR4F5        0                  0            0           0.000000     \n",
       "RP11-34P13.7 0                  0            0           0.000000     \n",
       "RP11-34P13.8 0                  0            0           0.000000     \n",
       "AL627309.1   0                  0            0           3.436564     \n",
       "             1_1_CD16 Mono 1_1_CD4 CTL 1_1_CD4 Naive 1_1_CD4 TCM 1_1_CD4 TEM\n",
       "MIR1302-10   0             0           0             0           0          \n",
       "FAM138A      0             0           0             0           0          \n",
       "OR4F5        0             0           0             0           0          \n",
       "RP11-34P13.7 0             0           0             0           0          \n",
       "RP11-34P13.8 0             0           0             0           0          \n",
       "AL627309.1   0             0           0             0           0          \n",
       "             1_1_CD8 Naive ⋯ 999_1000_dnT 999_1000_gdT 999_1000_HSPC\n",
       "MIR1302-10   0             ⋯ 0            0            0            \n",
       "FAM138A      0             ⋯ 0            0            0            \n",
       "OR4F5        0             ⋯ 0            0            0            \n",
       "RP11-34P13.7 0             ⋯ 0            0            0            \n",
       "RP11-34P13.8 0             ⋯ 0            0            0            \n",
       "AL627309.1   0             ⋯ 0            0            0            \n",
       "             999_1000_ILC 999_1000_MAIT 999_1000_NK 999_1000_NK_CD56bright\n",
       "MIR1302-10   0            0             0           0                     \n",
       "FAM138A      0            0             0           0                     \n",
       "OR4F5        0            0             0           0                     \n",
       "RP11-34P13.7 0            0             0           0                     \n",
       "RP11-34P13.8 0            0             0           0                     \n",
       "AL627309.1   0            0             0           0                     \n",
       "             999_1000_Plasmablast 999_1000_Platelet 999_1000_Treg\n",
       "MIR1302-10   0                    0                 0            \n",
       "FAM138A      0                    0                 0            \n",
       "OR4F5        0                    0                 0            \n",
       "RP11-34P13.7 0                    0                 0            \n",
       "RP11-34P13.8 0                    0                 0            \n",
       "AL627309.1   0                    0                 0            "
      ]
     },
     "metadata": {},
     "output_type": "display_data"
    }
   ],
   "source": [
    "df = as.data.frame(df)\n",
    "head(df)"
   ]
  },
  {
   "cell_type": "code",
   "execution_count": 264,
   "id": "19455af0",
   "metadata": {},
   "outputs": [],
   "source": [
    "female_donors = age_sex[age_sex$SEX==2,\"sampleid\"]"
   ]
  },
  {
   "cell_type": "code",
   "execution_count": 267,
   "id": "e144d5fd",
   "metadata": {},
   "outputs": [
    {
     "data": {
      "text/html": [
       "<table class=\"dataframe\">\n",
       "<caption>A data.frame: 6 × 0</caption>\n",
       "<tbody>\n",
       "\t<tr><th scope=row>MIR1302-10</th></tr>\n",
       "\t<tr><th scope=row>FAM138A</th></tr>\n",
       "\t<tr><th scope=row>OR4F5</th></tr>\n",
       "\t<tr><th scope=row>RP11-34P13.7</th></tr>\n",
       "\t<tr><th scope=row>RP11-34P13.8</th></tr>\n",
       "\t<tr><th scope=row>AL627309.1</th></tr>\n",
       "</tbody>\n",
       "</table>\n"
      ],
      "text/latex": [
       "A data.frame: 6 × 0\n",
       "\\begin{tabular}{r|}\n",
       "\tMIR1302-10\\\\\n",
       "\tFAM138A\\\\\n",
       "\tOR4F5\\\\\n",
       "\tRP11-34P13.7\\\\\n",
       "\tRP11-34P13.8\\\\\n",
       "\tAL627309.1\\\\\n",
       "\\end{tabular}\n"
      ],
      "text/markdown": [
       "\n",
       "A data.frame: 6 × 0\n",
       "\n",
       "| MIR1302-10 |\n",
       "| FAM138A |\n",
       "| OR4F5 |\n",
       "| RP11-34P13.7 |\n",
       "| RP11-34P13.8 |\n",
       "| AL627309.1 |\n",
       "\n"
      ],
      "text/plain": [
       "            \n",
       "MIR1302-10  \n",
       "FAM138A     \n",
       "OR4F5       \n",
       "RP11-34P13.7\n",
       "RP11-34P13.8\n",
       "AL627309.1  "
      ]
     },
     "metadata": {},
     "output_type": "display_data"
    }
   ],
   "source": [
    "head(counts)"
   ]
  },
  {
   "cell_type": "code",
   "execution_count": null,
   "id": "e59dcfbb",
   "metadata": {},
   "outputs": [],
   "source": [
    "colnames(df) = gsub(\" \",\"_\",colnames(df))\n",
    "for (celltype in celltypes){\n",
    "    print(celltype)\n",
    "    samples = colnames(df)[grep(celltype,colnames(df))]\n",
    "    counts = df[,samples]\n",
    "    samples = gsub(paste0(\"_\",celltype),\"\",samples)\n",
    "    meta_subset = age_sex[age_sex$sampleid %in% colnames(counts),]\n",
    "    rownames(meta_subset) = meta_subset$sampleid\n",
    "    colnames(counts) = samples\n",
    "    sce = CreateSeuratObject(counts, meta.data = meta_subset)\n",
    "    Idents(object = sce, cells = female_donors) <- \"Female\"\n",
    "    mat = FindMarkers(sce, ident.1 = \"Female\", min.pct = 0.5)\n",
    "    write.csv(mat,paste0(\"/share/ScratchGeneral/anncuo/sc-integration-workshop/new_DE_results_\",celltype,\".csv\"))\n",
    "}"
   ]
  },
  {
   "cell_type": "code",
   "execution_count": null,
   "id": "d734835e",
   "metadata": {},
   "outputs": [],
   "source": []
  },
  {
   "cell_type": "code",
   "execution_count": 269,
   "id": "8b235d57",
   "metadata": {},
   "outputs": [
    {
     "data": {
      "text/html": [
       "<table class=\"dataframe\">\n",
       "<caption>A data.frame: 6 × 23000</caption>\n",
       "<thead>\n",
       "\t<tr><th></th><th scope=col>1_1_B intermediate</th><th scope=col>1_1_B memory</th><th scope=col>1_1_B naive</th><th scope=col>1_1_CD14 Mono</th><th scope=col>1_1_CD16 Mono</th><th scope=col>1_1_CD4 CTL</th><th scope=col>1_1_CD4 Naive</th><th scope=col>1_1_CD4 TCM</th><th scope=col>1_1_CD4 TEM</th><th scope=col>1_1_CD8 Naive</th><th scope=col>⋯</th><th scope=col>999_1000_dnT</th><th scope=col>999_1000_gdT</th><th scope=col>999_1000_HSPC</th><th scope=col>999_1000_ILC</th><th scope=col>999_1000_MAIT</th><th scope=col>999_1000_NK</th><th scope=col>999_1000_NK_CD56bright</th><th scope=col>999_1000_Plasmablast</th><th scope=col>999_1000_Platelet</th><th scope=col>999_1000_Treg</th></tr>\n",
       "\t<tr><th></th><th scope=col>&lt;dbl&gt;</th><th scope=col>&lt;dbl&gt;</th><th scope=col>&lt;dbl&gt;</th><th scope=col>&lt;dbl&gt;</th><th scope=col>&lt;dbl&gt;</th><th scope=col>&lt;dbl&gt;</th><th scope=col>&lt;dbl&gt;</th><th scope=col>&lt;dbl&gt;</th><th scope=col>&lt;dbl&gt;</th><th scope=col>&lt;dbl&gt;</th><th scope=col>⋯</th><th scope=col>&lt;dbl&gt;</th><th scope=col>&lt;dbl&gt;</th><th scope=col>&lt;dbl&gt;</th><th scope=col>&lt;dbl&gt;</th><th scope=col>&lt;dbl&gt;</th><th scope=col>&lt;dbl&gt;</th><th scope=col>&lt;dbl&gt;</th><th scope=col>&lt;dbl&gt;</th><th scope=col>&lt;dbl&gt;</th><th scope=col>&lt;dbl&gt;</th></tr>\n",
       "</thead>\n",
       "<tbody>\n",
       "\t<tr><th scope=row>MIR1302-10</th><td>0</td><td>0</td><td>0</td><td>0.000000</td><td>0</td><td>0</td><td>0</td><td>0</td><td>0</td><td>0</td><td>⋯</td><td>0</td><td>0</td><td>0</td><td>0</td><td>0</td><td>0</td><td>0</td><td>0</td><td>0</td><td>0</td></tr>\n",
       "\t<tr><th scope=row>FAM138A</th><td>0</td><td>0</td><td>0</td><td>0.000000</td><td>0</td><td>0</td><td>0</td><td>0</td><td>0</td><td>0</td><td>⋯</td><td>0</td><td>0</td><td>0</td><td>0</td><td>0</td><td>0</td><td>0</td><td>0</td><td>0</td><td>0</td></tr>\n",
       "\t<tr><th scope=row>OR4F5</th><td>0</td><td>0</td><td>0</td><td>0.000000</td><td>0</td><td>0</td><td>0</td><td>0</td><td>0</td><td>0</td><td>⋯</td><td>0</td><td>0</td><td>0</td><td>0</td><td>0</td><td>0</td><td>0</td><td>0</td><td>0</td><td>0</td></tr>\n",
       "\t<tr><th scope=row>RP11-34P13.7</th><td>0</td><td>0</td><td>0</td><td>0.000000</td><td>0</td><td>0</td><td>0</td><td>0</td><td>0</td><td>0</td><td>⋯</td><td>0</td><td>0</td><td>0</td><td>0</td><td>0</td><td>0</td><td>0</td><td>0</td><td>0</td><td>0</td></tr>\n",
       "\t<tr><th scope=row>RP11-34P13.8</th><td>0</td><td>0</td><td>0</td><td>0.000000</td><td>0</td><td>0</td><td>0</td><td>0</td><td>0</td><td>0</td><td>⋯</td><td>0</td><td>0</td><td>0</td><td>0</td><td>0</td><td>0</td><td>0</td><td>0</td><td>0</td><td>0</td></tr>\n",
       "\t<tr><th scope=row>AL627309.1</th><td>0</td><td>0</td><td>0</td><td>3.436564</td><td>0</td><td>0</td><td>0</td><td>0</td><td>0</td><td>0</td><td>⋯</td><td>0</td><td>0</td><td>0</td><td>0</td><td>0</td><td>0</td><td>0</td><td>0</td><td>0</td><td>0</td></tr>\n",
       "</tbody>\n",
       "</table>\n"
      ],
      "text/latex": [
       "A data.frame: 6 × 23000\n",
       "\\begin{tabular}{r|lllllllllllllllllllll}\n",
       "  & 1\\_1\\_B intermediate & 1\\_1\\_B memory & 1\\_1\\_B naive & 1\\_1\\_CD14 Mono & 1\\_1\\_CD16 Mono & 1\\_1\\_CD4 CTL & 1\\_1\\_CD4 Naive & 1\\_1\\_CD4 TCM & 1\\_1\\_CD4 TEM & 1\\_1\\_CD8 Naive & ⋯ & 999\\_1000\\_dnT & 999\\_1000\\_gdT & 999\\_1000\\_HSPC & 999\\_1000\\_ILC & 999\\_1000\\_MAIT & 999\\_1000\\_NK & 999\\_1000\\_NK\\_CD56bright & 999\\_1000\\_Plasmablast & 999\\_1000\\_Platelet & 999\\_1000\\_Treg\\\\\n",
       "  & <dbl> & <dbl> & <dbl> & <dbl> & <dbl> & <dbl> & <dbl> & <dbl> & <dbl> & <dbl> & ⋯ & <dbl> & <dbl> & <dbl> & <dbl> & <dbl> & <dbl> & <dbl> & <dbl> & <dbl> & <dbl>\\\\\n",
       "\\hline\n",
       "\tMIR1302-10 & 0 & 0 & 0 & 0.000000 & 0 & 0 & 0 & 0 & 0 & 0 & ⋯ & 0 & 0 & 0 & 0 & 0 & 0 & 0 & 0 & 0 & 0\\\\\n",
       "\tFAM138A & 0 & 0 & 0 & 0.000000 & 0 & 0 & 0 & 0 & 0 & 0 & ⋯ & 0 & 0 & 0 & 0 & 0 & 0 & 0 & 0 & 0 & 0\\\\\n",
       "\tOR4F5 & 0 & 0 & 0 & 0.000000 & 0 & 0 & 0 & 0 & 0 & 0 & ⋯ & 0 & 0 & 0 & 0 & 0 & 0 & 0 & 0 & 0 & 0\\\\\n",
       "\tRP11-34P13.7 & 0 & 0 & 0 & 0.000000 & 0 & 0 & 0 & 0 & 0 & 0 & ⋯ & 0 & 0 & 0 & 0 & 0 & 0 & 0 & 0 & 0 & 0\\\\\n",
       "\tRP11-34P13.8 & 0 & 0 & 0 & 0.000000 & 0 & 0 & 0 & 0 & 0 & 0 & ⋯ & 0 & 0 & 0 & 0 & 0 & 0 & 0 & 0 & 0 & 0\\\\\n",
       "\tAL627309.1 & 0 & 0 & 0 & 3.436564 & 0 & 0 & 0 & 0 & 0 & 0 & ⋯ & 0 & 0 & 0 & 0 & 0 & 0 & 0 & 0 & 0 & 0\\\\\n",
       "\\end{tabular}\n"
      ],
      "text/markdown": [
       "\n",
       "A data.frame: 6 × 23000\n",
       "\n",
       "| <!--/--> | 1_1_B intermediate &lt;dbl&gt; | 1_1_B memory &lt;dbl&gt; | 1_1_B naive &lt;dbl&gt; | 1_1_CD14 Mono &lt;dbl&gt; | 1_1_CD16 Mono &lt;dbl&gt; | 1_1_CD4 CTL &lt;dbl&gt; | 1_1_CD4 Naive &lt;dbl&gt; | 1_1_CD4 TCM &lt;dbl&gt; | 1_1_CD4 TEM &lt;dbl&gt; | 1_1_CD8 Naive &lt;dbl&gt; | ⋯ ⋯ | 999_1000_dnT &lt;dbl&gt; | 999_1000_gdT &lt;dbl&gt; | 999_1000_HSPC &lt;dbl&gt; | 999_1000_ILC &lt;dbl&gt; | 999_1000_MAIT &lt;dbl&gt; | 999_1000_NK &lt;dbl&gt; | 999_1000_NK_CD56bright &lt;dbl&gt; | 999_1000_Plasmablast &lt;dbl&gt; | 999_1000_Platelet &lt;dbl&gt; | 999_1000_Treg &lt;dbl&gt; |\n",
       "|---|---|---|---|---|---|---|---|---|---|---|---|---|---|---|---|---|---|---|---|---|---|\n",
       "| MIR1302-10 | 0 | 0 | 0 | 0.000000 | 0 | 0 | 0 | 0 | 0 | 0 | ⋯ | 0 | 0 | 0 | 0 | 0 | 0 | 0 | 0 | 0 | 0 |\n",
       "| FAM138A | 0 | 0 | 0 | 0.000000 | 0 | 0 | 0 | 0 | 0 | 0 | ⋯ | 0 | 0 | 0 | 0 | 0 | 0 | 0 | 0 | 0 | 0 |\n",
       "| OR4F5 | 0 | 0 | 0 | 0.000000 | 0 | 0 | 0 | 0 | 0 | 0 | ⋯ | 0 | 0 | 0 | 0 | 0 | 0 | 0 | 0 | 0 | 0 |\n",
       "| RP11-34P13.7 | 0 | 0 | 0 | 0.000000 | 0 | 0 | 0 | 0 | 0 | 0 | ⋯ | 0 | 0 | 0 | 0 | 0 | 0 | 0 | 0 | 0 | 0 |\n",
       "| RP11-34P13.8 | 0 | 0 | 0 | 0.000000 | 0 | 0 | 0 | 0 | 0 | 0 | ⋯ | 0 | 0 | 0 | 0 | 0 | 0 | 0 | 0 | 0 | 0 |\n",
       "| AL627309.1 | 0 | 0 | 0 | 3.436564 | 0 | 0 | 0 | 0 | 0 | 0 | ⋯ | 0 | 0 | 0 | 0 | 0 | 0 | 0 | 0 | 0 | 0 |\n",
       "\n"
      ],
      "text/plain": [
       "             1_1_B intermediate 1_1_B memory 1_1_B naive 1_1_CD14 Mono\n",
       "MIR1302-10   0                  0            0           0.000000     \n",
       "FAM138A      0                  0            0           0.000000     \n",
       "OR4F5        0                  0            0           0.000000     \n",
       "RP11-34P13.7 0                  0            0           0.000000     \n",
       "RP11-34P13.8 0                  0            0           0.000000     \n",
       "AL627309.1   0                  0            0           3.436564     \n",
       "             1_1_CD16 Mono 1_1_CD4 CTL 1_1_CD4 Naive 1_1_CD4 TCM 1_1_CD4 TEM\n",
       "MIR1302-10   0             0           0             0           0          \n",
       "FAM138A      0             0           0             0           0          \n",
       "OR4F5        0             0           0             0           0          \n",
       "RP11-34P13.7 0             0           0             0           0          \n",
       "RP11-34P13.8 0             0           0             0           0          \n",
       "AL627309.1   0             0           0             0           0          \n",
       "             1_1_CD8 Naive ⋯ 999_1000_dnT 999_1000_gdT 999_1000_HSPC\n",
       "MIR1302-10   0             ⋯ 0            0            0            \n",
       "FAM138A      0             ⋯ 0            0            0            \n",
       "OR4F5        0             ⋯ 0            0            0            \n",
       "RP11-34P13.7 0             ⋯ 0            0            0            \n",
       "RP11-34P13.8 0             ⋯ 0            0            0            \n",
       "AL627309.1   0             ⋯ 0            0            0            \n",
       "             999_1000_ILC 999_1000_MAIT 999_1000_NK 999_1000_NK_CD56bright\n",
       "MIR1302-10   0            0             0           0                     \n",
       "FAM138A      0            0             0           0                     \n",
       "OR4F5        0            0             0           0                     \n",
       "RP11-34P13.7 0            0             0           0                     \n",
       "RP11-34P13.8 0            0             0           0                     \n",
       "AL627309.1   0            0             0           0                     \n",
       "             999_1000_Plasmablast 999_1000_Platelet 999_1000_Treg\n",
       "MIR1302-10   0                    0                 0            \n",
       "FAM138A      0                    0                 0            \n",
       "OR4F5        0                    0                 0            \n",
       "RP11-34P13.7 0                    0                 0            \n",
       "RP11-34P13.8 0                    0                 0            \n",
       "AL627309.1   0                    0                 0            "
      ]
     },
     "metadata": {},
     "output_type": "display_data"
    }
   ],
   "source": [
    "head(df)"
   ]
  },
  {
   "cell_type": "code",
   "execution_count": 268,
   "id": "d9deb656",
   "metadata": {},
   "outputs": [
    {
     "data": {
      "text/html": [],
      "text/latex": [],
      "text/markdown": [],
      "text/plain": [
       "character(0)"
      ]
     },
     "metadata": {},
     "output_type": "display_data"
    }
   ],
   "source": [
    "samples = colnames(df)[grep(celltype,colnames(df))]\n",
    "head(samples)"
   ]
  },
  {
   "cell_type": "code",
   "execution_count": null,
   "id": "a77cd25d",
   "metadata": {},
   "outputs": [],
   "source": [
    "    counts = df[,samples]\n",
    "    samples = gsub(paste0(\"_\",celltype),\"\",samples)\n",
    "    meta_subset = age_sex[age_sex$sampleid %in% colnames(counts),]\n",
    "    rownames(meta_subset) = meta_subset$sampleid\n",
    "    colnames(counts) = samples\n",
    "    sce = CreateSeuratObject(counts, meta.data = meta_subset)\n",
    "    Idents(object = sce, cells = female_donors) <- \"Female\"\n",
    "    mat = FindMarkers(sce, ident.1 = \"Female\", min.pct = 0.5)\n",
    "    write.csv(mat,paste0(\"/share/ScratchGeneral/anncuo/sc-integration-workshop/new_DE_results_\",celltype,\".csv\"))"
   ]
  },
  {
   "cell_type": "code",
   "execution_count": null,
   "id": "3d5dcb8e",
   "metadata": {},
   "outputs": [],
   "source": []
  },
  {
   "cell_type": "code",
   "execution_count": 228,
   "id": "f83816bd",
   "metadata": {},
   "outputs": [],
   "source": [
    "# mono_cd14_samples = colnames(counts)[grep(\"Monocyte.CD14\",colnames(counts))]\n",
    "mono_other_samples = colnames(counts)[grep(\"Monocyte.FCGR3A\",colnames(counts))]\n",
    "# DC_samples = colnames(counts)[grep(\"Dendritic.cell\",colnames(counts))]\n",
    "# plasma_samples = colnames(counts)[grep(\"IgJ\",colnames(counts))]"
   ]
  },
  {
   "cell_type": "code",
   "execution_count": 230,
   "id": "ffc1b21d",
   "metadata": {},
   "outputs": [],
   "source": [
    "counts_mono_other = df1[,mono_other_samples]"
   ]
  },
  {
   "cell_type": "code",
   "execution_count": 204,
   "id": "fea9ae1e",
   "metadata": {},
   "outputs": [],
   "source": [
    "Bcells_1_samples = colnames(counts)[grep(\"FCER2..B.cell.1\",colnames(counts))]"
   ]
  },
  {
   "cell_type": "code",
   "execution_count": 221,
   "id": "0aca0d57",
   "metadata": {},
   "outputs": [
    {
     "data": {
      "text/html": [
       "981"
      ],
      "text/latex": [
       "981"
      ],
      "text/markdown": [
       "981"
      ],
      "text/plain": [
       "[1] 981"
      ]
     },
     "metadata": {},
     "output_type": "display_data"
    },
    {
     "data": {
      "text/html": [
       "<table class=\"dataframe\">\n",
       "<caption>A data.frame: 6 × 981</caption>\n",
       "<thead>\n",
       "\t<tr><th></th><th scope=col>X1_1_TCL1A..FCER2..B.cell.1</th><th scope=col>X10_10_TCL1A..FCER2..B.cell.1</th><th scope=col>X1000_1001_TCL1A..FCER2..B.cell.1</th><th scope=col>X1001_1002_TCL1A..FCER2..B.cell.1</th><th scope=col>X1002_1003_TCL1A..FCER2..B.cell.1</th><th scope=col>X1003_1004_TCL1A..FCER2..B.cell.1</th><th scope=col>X1004_1005_TCL1A..FCER2..B.cell.1</th><th scope=col>X1005_1006_TCL1A..FCER2..B.cell.1</th><th scope=col>X1006_1007_TCL1A..FCER2..B.cell.1</th><th scope=col>X1007_1008_TCL1A..FCER2..B.cell.1</th><th scope=col>⋯</th><th scope=col>X990_991_TCL1A..FCER2..B.cell.1</th><th scope=col>X991_992_TCL1A..FCER2..B.cell.1</th><th scope=col>X992_993_TCL1A..FCER2..B.cell.1</th><th scope=col>X993_994_TCL1A..FCER2..B.cell.1</th><th scope=col>X994_995_TCL1A..FCER2..B.cell.1</th><th scope=col>X995_996_TCL1A..FCER2..B.cell.1</th><th scope=col>X996_997_TCL1A..FCER2..B.cell.1</th><th scope=col>X997_998_TCL1A..FCER2..B.cell.1</th><th scope=col>X998_999_TCL1A..FCER2..B.cell.1</th><th scope=col>X999_1000_TCL1A..FCER2..B.cell.1</th></tr>\n",
       "\t<tr><th></th><th scope=col>&lt;dbl&gt;</th><th scope=col>&lt;dbl&gt;</th><th scope=col>&lt;dbl&gt;</th><th scope=col>&lt;dbl&gt;</th><th scope=col>&lt;dbl&gt;</th><th scope=col>&lt;dbl&gt;</th><th scope=col>&lt;dbl&gt;</th><th scope=col>&lt;dbl&gt;</th><th scope=col>&lt;dbl&gt;</th><th scope=col>&lt;dbl&gt;</th><th scope=col>⋯</th><th scope=col>&lt;dbl&gt;</th><th scope=col>&lt;dbl&gt;</th><th scope=col>&lt;dbl&gt;</th><th scope=col>&lt;dbl&gt;</th><th scope=col>&lt;dbl&gt;</th><th scope=col>&lt;dbl&gt;</th><th scope=col>&lt;dbl&gt;</th><th scope=col>&lt;dbl&gt;</th><th scope=col>&lt;dbl&gt;</th><th scope=col>&lt;dbl&gt;</th></tr>\n",
       "</thead>\n",
       "<tbody>\n",
       "\t<tr><th scope=row>MIR1302-10</th><td>0</td><td>0.000000</td><td>0</td><td>0.000000</td><td>0.000000</td><td>0.000000</td><td>0.000000</td><td>0.000000</td><td>0.000000</td><td>0.000000</td><td>⋯</td><td>0.000000</td><td>0.000000</td><td>0</td><td>0.000000</td><td>0.000000</td><td> 0.00000</td><td> 0.000000</td><td>0.000000</td><td>0.000000</td><td>0.000000</td></tr>\n",
       "\t<tr><th scope=row>RP11-34P13.7</th><td>0</td><td>0.000000</td><td>0</td><td>0.000000</td><td>0.000000</td><td>0.000000</td><td>0.000000</td><td>0.000000</td><td>0.000000</td><td>0.000000</td><td>⋯</td><td>0.000000</td><td>0.000000</td><td>0</td><td>0.000000</td><td>0.000000</td><td> 0.00000</td><td> 0.000000</td><td>0.000000</td><td>0.000000</td><td>0.000000</td></tr>\n",
       "\t<tr><th scope=row>RP11-34P13.8</th><td>0</td><td>0.000000</td><td>0</td><td>0.000000</td><td>0.000000</td><td>0.000000</td><td>0.000000</td><td>0.000000</td><td>0.000000</td><td>0.000000</td><td>⋯</td><td>0.000000</td><td>0.000000</td><td>0</td><td>0.000000</td><td>0.000000</td><td> 0.00000</td><td> 0.000000</td><td>0.000000</td><td>0.000000</td><td>0.000000</td></tr>\n",
       "\t<tr><th scope=row>AL627309.1</th><td>0</td><td>0.000000</td><td>0</td><td>0.000000</td><td>0.000000</td><td>0.000000</td><td>1.718282</td><td>1.718282</td><td>0.000000</td><td>0.000000</td><td>⋯</td><td>0.000000</td><td>3.436564</td><td>0</td><td>0.000000</td><td>0.000000</td><td> 0.00000</td><td> 1.718282</td><td>0.000000</td><td>1.718282</td><td>0.000000</td></tr>\n",
       "\t<tr><th scope=row>RP11-34P13.9</th><td>0</td><td>0.000000</td><td>0</td><td>0.000000</td><td>0.000000</td><td>0.000000</td><td>0.000000</td><td>0.000000</td><td>0.000000</td><td>0.000000</td><td>⋯</td><td>0.000000</td><td>0.000000</td><td>0</td><td>0.000000</td><td>0.000000</td><td> 0.00000</td><td> 0.000000</td><td>0.000000</td><td>0.000000</td><td>0.000000</td></tr>\n",
       "\t<tr><th scope=row>AP006222.2</th><td>0</td><td>3.436564</td><td>0</td><td>6.873127</td><td>5.154845</td><td>3.436564</td><td>0.000000</td><td>1.718282</td><td>3.436564</td><td>5.154845</td><td>⋯</td><td>1.718282</td><td>3.436564</td><td>0</td><td>3.436564</td><td>3.436564</td><td>12.02797</td><td>16.698747</td><td>1.718282</td><td>8.591409</td><td>6.873127</td></tr>\n",
       "</tbody>\n",
       "</table>\n"
      ],
      "text/latex": [
       "A data.frame: 6 × 981\n",
       "\\begin{tabular}{r|lllllllllllllllllllll}\n",
       "  & X1\\_1\\_TCL1A..FCER2..B.cell.1 & X10\\_10\\_TCL1A..FCER2..B.cell.1 & X1000\\_1001\\_TCL1A..FCER2..B.cell.1 & X1001\\_1002\\_TCL1A..FCER2..B.cell.1 & X1002\\_1003\\_TCL1A..FCER2..B.cell.1 & X1003\\_1004\\_TCL1A..FCER2..B.cell.1 & X1004\\_1005\\_TCL1A..FCER2..B.cell.1 & X1005\\_1006\\_TCL1A..FCER2..B.cell.1 & X1006\\_1007\\_TCL1A..FCER2..B.cell.1 & X1007\\_1008\\_TCL1A..FCER2..B.cell.1 & ⋯ & X990\\_991\\_TCL1A..FCER2..B.cell.1 & X991\\_992\\_TCL1A..FCER2..B.cell.1 & X992\\_993\\_TCL1A..FCER2..B.cell.1 & X993\\_994\\_TCL1A..FCER2..B.cell.1 & X994\\_995\\_TCL1A..FCER2..B.cell.1 & X995\\_996\\_TCL1A..FCER2..B.cell.1 & X996\\_997\\_TCL1A..FCER2..B.cell.1 & X997\\_998\\_TCL1A..FCER2..B.cell.1 & X998\\_999\\_TCL1A..FCER2..B.cell.1 & X999\\_1000\\_TCL1A..FCER2..B.cell.1\\\\\n",
       "  & <dbl> & <dbl> & <dbl> & <dbl> & <dbl> & <dbl> & <dbl> & <dbl> & <dbl> & <dbl> & ⋯ & <dbl> & <dbl> & <dbl> & <dbl> & <dbl> & <dbl> & <dbl> & <dbl> & <dbl> & <dbl>\\\\\n",
       "\\hline\n",
       "\tMIR1302-10 & 0 & 0.000000 & 0 & 0.000000 & 0.000000 & 0.000000 & 0.000000 & 0.000000 & 0.000000 & 0.000000 & ⋯ & 0.000000 & 0.000000 & 0 & 0.000000 & 0.000000 &  0.00000 &  0.000000 & 0.000000 & 0.000000 & 0.000000\\\\\n",
       "\tRP11-34P13.7 & 0 & 0.000000 & 0 & 0.000000 & 0.000000 & 0.000000 & 0.000000 & 0.000000 & 0.000000 & 0.000000 & ⋯ & 0.000000 & 0.000000 & 0 & 0.000000 & 0.000000 &  0.00000 &  0.000000 & 0.000000 & 0.000000 & 0.000000\\\\\n",
       "\tRP11-34P13.8 & 0 & 0.000000 & 0 & 0.000000 & 0.000000 & 0.000000 & 0.000000 & 0.000000 & 0.000000 & 0.000000 & ⋯ & 0.000000 & 0.000000 & 0 & 0.000000 & 0.000000 &  0.00000 &  0.000000 & 0.000000 & 0.000000 & 0.000000\\\\\n",
       "\tAL627309.1 & 0 & 0.000000 & 0 & 0.000000 & 0.000000 & 0.000000 & 1.718282 & 1.718282 & 0.000000 & 0.000000 & ⋯ & 0.000000 & 3.436564 & 0 & 0.000000 & 0.000000 &  0.00000 &  1.718282 & 0.000000 & 1.718282 & 0.000000\\\\\n",
       "\tRP11-34P13.9 & 0 & 0.000000 & 0 & 0.000000 & 0.000000 & 0.000000 & 0.000000 & 0.000000 & 0.000000 & 0.000000 & ⋯ & 0.000000 & 0.000000 & 0 & 0.000000 & 0.000000 &  0.00000 &  0.000000 & 0.000000 & 0.000000 & 0.000000\\\\\n",
       "\tAP006222.2 & 0 & 3.436564 & 0 & 6.873127 & 5.154845 & 3.436564 & 0.000000 & 1.718282 & 3.436564 & 5.154845 & ⋯ & 1.718282 & 3.436564 & 0 & 3.436564 & 3.436564 & 12.02797 & 16.698747 & 1.718282 & 8.591409 & 6.873127\\\\\n",
       "\\end{tabular}\n"
      ],
      "text/markdown": [
       "\n",
       "A data.frame: 6 × 981\n",
       "\n",
       "| <!--/--> | X1_1_TCL1A..FCER2..B.cell.1 &lt;dbl&gt; | X10_10_TCL1A..FCER2..B.cell.1 &lt;dbl&gt; | X1000_1001_TCL1A..FCER2..B.cell.1 &lt;dbl&gt; | X1001_1002_TCL1A..FCER2..B.cell.1 &lt;dbl&gt; | X1002_1003_TCL1A..FCER2..B.cell.1 &lt;dbl&gt; | X1003_1004_TCL1A..FCER2..B.cell.1 &lt;dbl&gt; | X1004_1005_TCL1A..FCER2..B.cell.1 &lt;dbl&gt; | X1005_1006_TCL1A..FCER2..B.cell.1 &lt;dbl&gt; | X1006_1007_TCL1A..FCER2..B.cell.1 &lt;dbl&gt; | X1007_1008_TCL1A..FCER2..B.cell.1 &lt;dbl&gt; | ⋯ ⋯ | X990_991_TCL1A..FCER2..B.cell.1 &lt;dbl&gt; | X991_992_TCL1A..FCER2..B.cell.1 &lt;dbl&gt; | X992_993_TCL1A..FCER2..B.cell.1 &lt;dbl&gt; | X993_994_TCL1A..FCER2..B.cell.1 &lt;dbl&gt; | X994_995_TCL1A..FCER2..B.cell.1 &lt;dbl&gt; | X995_996_TCL1A..FCER2..B.cell.1 &lt;dbl&gt; | X996_997_TCL1A..FCER2..B.cell.1 &lt;dbl&gt; | X997_998_TCL1A..FCER2..B.cell.1 &lt;dbl&gt; | X998_999_TCL1A..FCER2..B.cell.1 &lt;dbl&gt; | X999_1000_TCL1A..FCER2..B.cell.1 &lt;dbl&gt; |\n",
       "|---|---|---|---|---|---|---|---|---|---|---|---|---|---|---|---|---|---|---|---|---|---|\n",
       "| MIR1302-10 | 0 | 0.000000 | 0 | 0.000000 | 0.000000 | 0.000000 | 0.000000 | 0.000000 | 0.000000 | 0.000000 | ⋯ | 0.000000 | 0.000000 | 0 | 0.000000 | 0.000000 |  0.00000 |  0.000000 | 0.000000 | 0.000000 | 0.000000 |\n",
       "| RP11-34P13.7 | 0 | 0.000000 | 0 | 0.000000 | 0.000000 | 0.000000 | 0.000000 | 0.000000 | 0.000000 | 0.000000 | ⋯ | 0.000000 | 0.000000 | 0 | 0.000000 | 0.000000 |  0.00000 |  0.000000 | 0.000000 | 0.000000 | 0.000000 |\n",
       "| RP11-34P13.8 | 0 | 0.000000 | 0 | 0.000000 | 0.000000 | 0.000000 | 0.000000 | 0.000000 | 0.000000 | 0.000000 | ⋯ | 0.000000 | 0.000000 | 0 | 0.000000 | 0.000000 |  0.00000 |  0.000000 | 0.000000 | 0.000000 | 0.000000 |\n",
       "| AL627309.1 | 0 | 0.000000 | 0 | 0.000000 | 0.000000 | 0.000000 | 1.718282 | 1.718282 | 0.000000 | 0.000000 | ⋯ | 0.000000 | 3.436564 | 0 | 0.000000 | 0.000000 |  0.00000 |  1.718282 | 0.000000 | 1.718282 | 0.000000 |\n",
       "| RP11-34P13.9 | 0 | 0.000000 | 0 | 0.000000 | 0.000000 | 0.000000 | 0.000000 | 0.000000 | 0.000000 | 0.000000 | ⋯ | 0.000000 | 0.000000 | 0 | 0.000000 | 0.000000 |  0.00000 |  0.000000 | 0.000000 | 0.000000 | 0.000000 |\n",
       "| AP006222.2 | 0 | 3.436564 | 0 | 6.873127 | 5.154845 | 3.436564 | 0.000000 | 1.718282 | 3.436564 | 5.154845 | ⋯ | 1.718282 | 3.436564 | 0 | 3.436564 | 3.436564 | 12.02797 | 16.698747 | 1.718282 | 8.591409 | 6.873127 |\n",
       "\n"
      ],
      "text/plain": [
       "             X1_1_TCL1A..FCER2..B.cell.1 X10_10_TCL1A..FCER2..B.cell.1\n",
       "MIR1302-10   0                           0.000000                     \n",
       "RP11-34P13.7 0                           0.000000                     \n",
       "RP11-34P13.8 0                           0.000000                     \n",
       "AL627309.1   0                           0.000000                     \n",
       "RP11-34P13.9 0                           0.000000                     \n",
       "AP006222.2   0                           3.436564                     \n",
       "             X1000_1001_TCL1A..FCER2..B.cell.1\n",
       "MIR1302-10   0                                \n",
       "RP11-34P13.7 0                                \n",
       "RP11-34P13.8 0                                \n",
       "AL627309.1   0                                \n",
       "RP11-34P13.9 0                                \n",
       "AP006222.2   0                                \n",
       "             X1001_1002_TCL1A..FCER2..B.cell.1\n",
       "MIR1302-10   0.000000                         \n",
       "RP11-34P13.7 0.000000                         \n",
       "RP11-34P13.8 0.000000                         \n",
       "AL627309.1   0.000000                         \n",
       "RP11-34P13.9 0.000000                         \n",
       "AP006222.2   6.873127                         \n",
       "             X1002_1003_TCL1A..FCER2..B.cell.1\n",
       "MIR1302-10   0.000000                         \n",
       "RP11-34P13.7 0.000000                         \n",
       "RP11-34P13.8 0.000000                         \n",
       "AL627309.1   0.000000                         \n",
       "RP11-34P13.9 0.000000                         \n",
       "AP006222.2   5.154845                         \n",
       "             X1003_1004_TCL1A..FCER2..B.cell.1\n",
       "MIR1302-10   0.000000                         \n",
       "RP11-34P13.7 0.000000                         \n",
       "RP11-34P13.8 0.000000                         \n",
       "AL627309.1   0.000000                         \n",
       "RP11-34P13.9 0.000000                         \n",
       "AP006222.2   3.436564                         \n",
       "             X1004_1005_TCL1A..FCER2..B.cell.1\n",
       "MIR1302-10   0.000000                         \n",
       "RP11-34P13.7 0.000000                         \n",
       "RP11-34P13.8 0.000000                         \n",
       "AL627309.1   1.718282                         \n",
       "RP11-34P13.9 0.000000                         \n",
       "AP006222.2   0.000000                         \n",
       "             X1005_1006_TCL1A..FCER2..B.cell.1\n",
       "MIR1302-10   0.000000                         \n",
       "RP11-34P13.7 0.000000                         \n",
       "RP11-34P13.8 0.000000                         \n",
       "AL627309.1   1.718282                         \n",
       "RP11-34P13.9 0.000000                         \n",
       "AP006222.2   1.718282                         \n",
       "             X1006_1007_TCL1A..FCER2..B.cell.1\n",
       "MIR1302-10   0.000000                         \n",
       "RP11-34P13.7 0.000000                         \n",
       "RP11-34P13.8 0.000000                         \n",
       "AL627309.1   0.000000                         \n",
       "RP11-34P13.9 0.000000                         \n",
       "AP006222.2   3.436564                         \n",
       "             X1007_1008_TCL1A..FCER2..B.cell.1 ⋯\n",
       "MIR1302-10   0.000000                          ⋯\n",
       "RP11-34P13.7 0.000000                          ⋯\n",
       "RP11-34P13.8 0.000000                          ⋯\n",
       "AL627309.1   0.000000                          ⋯\n",
       "RP11-34P13.9 0.000000                          ⋯\n",
       "AP006222.2   5.154845                          ⋯\n",
       "             X990_991_TCL1A..FCER2..B.cell.1 X991_992_TCL1A..FCER2..B.cell.1\n",
       "MIR1302-10   0.000000                        0.000000                       \n",
       "RP11-34P13.7 0.000000                        0.000000                       \n",
       "RP11-34P13.8 0.000000                        0.000000                       \n",
       "AL627309.1   0.000000                        3.436564                       \n",
       "RP11-34P13.9 0.000000                        0.000000                       \n",
       "AP006222.2   1.718282                        3.436564                       \n",
       "             X992_993_TCL1A..FCER2..B.cell.1 X993_994_TCL1A..FCER2..B.cell.1\n",
       "MIR1302-10   0                               0.000000                       \n",
       "RP11-34P13.7 0                               0.000000                       \n",
       "RP11-34P13.8 0                               0.000000                       \n",
       "AL627309.1   0                               0.000000                       \n",
       "RP11-34P13.9 0                               0.000000                       \n",
       "AP006222.2   0                               3.436564                       \n",
       "             X994_995_TCL1A..FCER2..B.cell.1 X995_996_TCL1A..FCER2..B.cell.1\n",
       "MIR1302-10   0.000000                         0.00000                       \n",
       "RP11-34P13.7 0.000000                         0.00000                       \n",
       "RP11-34P13.8 0.000000                         0.00000                       \n",
       "AL627309.1   0.000000                         0.00000                       \n",
       "RP11-34P13.9 0.000000                         0.00000                       \n",
       "AP006222.2   3.436564                        12.02797                       \n",
       "             X996_997_TCL1A..FCER2..B.cell.1 X997_998_TCL1A..FCER2..B.cell.1\n",
       "MIR1302-10    0.000000                       0.000000                       \n",
       "RP11-34P13.7  0.000000                       0.000000                       \n",
       "RP11-34P13.8  0.000000                       0.000000                       \n",
       "AL627309.1    1.718282                       0.000000                       \n",
       "RP11-34P13.9  0.000000                       0.000000                       \n",
       "AP006222.2   16.698747                       1.718282                       \n",
       "             X998_999_TCL1A..FCER2..B.cell.1 X999_1000_TCL1A..FCER2..B.cell.1\n",
       "MIR1302-10   0.000000                        0.000000                        \n",
       "RP11-34P13.7 0.000000                        0.000000                        \n",
       "RP11-34P13.8 0.000000                        0.000000                        \n",
       "AL627309.1   1.718282                        0.000000                        \n",
       "RP11-34P13.9 0.000000                        0.000000                        \n",
       "AP006222.2   8.591409                        6.873127                        "
      ]
     },
     "metadata": {},
     "output_type": "display_data"
    }
   ],
   "source": [
    "counts_Bcells1 = df1[,Bcells_1_samples]\n",
    "ncol(counts_Bcells1)\n",
    "head(counts_Bcells1)"
   ]
  },
  {
   "cell_type": "code",
   "execution_count": 222,
   "id": "ca7eff03",
   "metadata": {},
   "outputs": [
    {
     "data": {
      "text/html": [
       "<style>\n",
       ".list-inline {list-style: none; margin:0; padding: 0}\n",
       ".list-inline>li {display: inline-block}\n",
       ".list-inline>li:not(:last-child)::after {content: \"\\00b7\"; padding: 0 .5ex}\n",
       "</style>\n",
       "<ol class=list-inline><li>'1_1'</li><li>'10_10'</li><li>'1000_1001'</li><li>'1001_1002'</li><li>'1002_1003'</li><li>'1003_1004'</li></ol>\n"
      ],
      "text/latex": [
       "\\begin{enumerate*}\n",
       "\\item '1\\_1'\n",
       "\\item '10\\_10'\n",
       "\\item '1000\\_1001'\n",
       "\\item '1001\\_1002'\n",
       "\\item '1002\\_1003'\n",
       "\\item '1003\\_1004'\n",
       "\\end{enumerate*}\n"
      ],
      "text/markdown": [
       "1. '1_1'\n",
       "2. '10_10'\n",
       "3. '1000_1001'\n",
       "4. '1001_1002'\n",
       "5. '1002_1003'\n",
       "6. '1003_1004'\n",
       "\n",
       "\n"
      ],
      "text/plain": [
       "[1] \"1_1\"       \"10_10\"     \"1000_1001\" \"1001_1002\" \"1002_1003\" \"1003_1004\""
      ]
     },
     "metadata": {},
     "output_type": "display_data"
    },
    {
     "data": {
      "text/html": [
       "<table class=\"dataframe\">\n",
       "<caption>A data.frame: 5 × 5</caption>\n",
       "<thead>\n",
       "\t<tr><th></th><th scope=col>1_1</th><th scope=col>10_10</th><th scope=col>1000_1001</th><th scope=col>1001_1002</th><th scope=col>1002_1003</th></tr>\n",
       "\t<tr><th></th><th scope=col>&lt;dbl&gt;</th><th scope=col>&lt;dbl&gt;</th><th scope=col>&lt;dbl&gt;</th><th scope=col>&lt;dbl&gt;</th><th scope=col>&lt;dbl&gt;</th></tr>\n",
       "</thead>\n",
       "<tbody>\n",
       "\t<tr><th scope=row>MIR1302-10</th><td>0</td><td>0</td><td>0</td><td>0</td><td>0</td></tr>\n",
       "\t<tr><th scope=row>RP11-34P13.7</th><td>0</td><td>0</td><td>0</td><td>0</td><td>0</td></tr>\n",
       "\t<tr><th scope=row>RP11-34P13.8</th><td>0</td><td>0</td><td>0</td><td>0</td><td>0</td></tr>\n",
       "\t<tr><th scope=row>AL627309.1</th><td>0</td><td>0</td><td>0</td><td>0</td><td>0</td></tr>\n",
       "\t<tr><th scope=row>RP11-34P13.9</th><td>0</td><td>0</td><td>0</td><td>0</td><td>0</td></tr>\n",
       "</tbody>\n",
       "</table>\n"
      ],
      "text/latex": [
       "A data.frame: 5 × 5\n",
       "\\begin{tabular}{r|lllll}\n",
       "  & 1\\_1 & 10\\_10 & 1000\\_1001 & 1001\\_1002 & 1002\\_1003\\\\\n",
       "  & <dbl> & <dbl> & <dbl> & <dbl> & <dbl>\\\\\n",
       "\\hline\n",
       "\tMIR1302-10 & 0 & 0 & 0 & 0 & 0\\\\\n",
       "\tRP11-34P13.7 & 0 & 0 & 0 & 0 & 0\\\\\n",
       "\tRP11-34P13.8 & 0 & 0 & 0 & 0 & 0\\\\\n",
       "\tAL627309.1 & 0 & 0 & 0 & 0 & 0\\\\\n",
       "\tRP11-34P13.9 & 0 & 0 & 0 & 0 & 0\\\\\n",
       "\\end{tabular}\n"
      ],
      "text/markdown": [
       "\n",
       "A data.frame: 5 × 5\n",
       "\n",
       "| <!--/--> | 1_1 &lt;dbl&gt; | 10_10 &lt;dbl&gt; | 1000_1001 &lt;dbl&gt; | 1001_1002 &lt;dbl&gt; | 1002_1003 &lt;dbl&gt; |\n",
       "|---|---|---|---|---|---|\n",
       "| MIR1302-10 | 0 | 0 | 0 | 0 | 0 |\n",
       "| RP11-34P13.7 | 0 | 0 | 0 | 0 | 0 |\n",
       "| RP11-34P13.8 | 0 | 0 | 0 | 0 | 0 |\n",
       "| AL627309.1 | 0 | 0 | 0 | 0 | 0 |\n",
       "| RP11-34P13.9 | 0 | 0 | 0 | 0 | 0 |\n",
       "\n"
      ],
      "text/plain": [
       "             1_1 10_10 1000_1001 1001_1002 1002_1003\n",
       "MIR1302-10   0   0     0         0         0        \n",
       "RP11-34P13.7 0   0     0         0         0        \n",
       "RP11-34P13.8 0   0     0         0         0        \n",
       "AL627309.1   0   0     0         0         0        \n",
       "RP11-34P13.9 0   0     0         0         0        "
      ]
     },
     "metadata": {},
     "output_type": "display_data"
    }
   ],
   "source": [
    "colnames(counts_Bcells1) = gsub(\"X\",\"\",gsub(\"\\\\.\",\"\",gsub(\"_TCL1A..FCER2..B.cell.1\",\"\",colnames(counts_plasma))))\n",
    "head(colnames(counts_Bcells1))\n",
    "counts_Bcells1[1:5,1:5]"
   ]
  },
  {
   "cell_type": "code",
   "execution_count": 157,
   "id": "727b29a9",
   "metadata": {},
   "outputs": [
    {
     "data": {
      "text/html": [
       "<table class=\"dataframe\">\n",
       "<caption>A data.frame: 5 × 5</caption>\n",
       "<thead>\n",
       "\t<tr><th></th><th scope=col>1_1</th><th scope=col>10_10</th><th scope=col>1000_1001</th><th scope=col>1001_1002</th><th scope=col>1002_1003</th></tr>\n",
       "\t<tr><th></th><th scope=col>&lt;dbl&gt;</th><th scope=col>&lt;dbl&gt;</th><th scope=col>&lt;dbl&gt;</th><th scope=col>&lt;dbl&gt;</th><th scope=col>&lt;dbl&gt;</th></tr>\n",
       "</thead>\n",
       "<tbody>\n",
       "\t<tr><th scope=row>MIR1302-10</th><td>0</td><td>0</td><td>0</td><td>0</td><td>0</td></tr>\n",
       "\t<tr><th scope=row>FAM138A</th><td>0</td><td>0</td><td>0</td><td>0</td><td>0</td></tr>\n",
       "\t<tr><th scope=row>OR4F5</th><td>0</td><td>0</td><td>0</td><td>0</td><td>0</td></tr>\n",
       "\t<tr><th scope=row>RP11-34P13.7</th><td>0</td><td>0</td><td>0</td><td>0</td><td>0</td></tr>\n",
       "\t<tr><th scope=row>RP11-34P13.8</th><td>0</td><td>0</td><td>0</td><td>0</td><td>0</td></tr>\n",
       "</tbody>\n",
       "</table>\n"
      ],
      "text/latex": [
       "A data.frame: 5 × 5\n",
       "\\begin{tabular}{r|lllll}\n",
       "  & 1\\_1 & 10\\_10 & 1000\\_1001 & 1001\\_1002 & 1002\\_1003\\\\\n",
       "  & <dbl> & <dbl> & <dbl> & <dbl> & <dbl>\\\\\n",
       "\\hline\n",
       "\tMIR1302-10 & 0 & 0 & 0 & 0 & 0\\\\\n",
       "\tFAM138A & 0 & 0 & 0 & 0 & 0\\\\\n",
       "\tOR4F5 & 0 & 0 & 0 & 0 & 0\\\\\n",
       "\tRP11-34P13.7 & 0 & 0 & 0 & 0 & 0\\\\\n",
       "\tRP11-34P13.8 & 0 & 0 & 0 & 0 & 0\\\\\n",
       "\\end{tabular}\n"
      ],
      "text/markdown": [
       "\n",
       "A data.frame: 5 × 5\n",
       "\n",
       "| <!--/--> | 1_1 &lt;dbl&gt; | 10_10 &lt;dbl&gt; | 1000_1001 &lt;dbl&gt; | 1001_1002 &lt;dbl&gt; | 1002_1003 &lt;dbl&gt; |\n",
       "|---|---|---|---|---|---|\n",
       "| MIR1302-10 | 0 | 0 | 0 | 0 | 0 |\n",
       "| FAM138A | 0 | 0 | 0 | 0 | 0 |\n",
       "| OR4F5 | 0 | 0 | 0 | 0 | 0 |\n",
       "| RP11-34P13.7 | 0 | 0 | 0 | 0 | 0 |\n",
       "| RP11-34P13.8 | 0 | 0 | 0 | 0 | 0 |\n",
       "\n"
      ],
      "text/plain": [
       "             1_1 10_10 1000_1001 1001_1002 1002_1003\n",
       "MIR1302-10   0   0     0         0         0        \n",
       "FAM138A      0   0     0         0         0        \n",
       "OR4F5        0   0     0         0         0        \n",
       "RP11-34P13.7 0   0     0         0         0        \n",
       "RP11-34P13.8 0   0     0         0         0        "
      ]
     },
     "metadata": {},
     "output_type": "display_data"
    }
   ],
   "source": [
    "# colnames(counts_DC) = gsub(\"X\",\"\",gsub(\"\\\\.\",\"\",gsub(\"_Dendritic.cell\",\"\",colnames(counts_DC))))\n",
    "# counts_DC[1:5,1:5]"
   ]
  },
  {
   "cell_type": "code",
   "execution_count": 231,
   "id": "663c62ca",
   "metadata": {},
   "outputs": [
    {
     "data": {
      "text/html": [
       "<table class=\"dataframe\">\n",
       "<caption>A data.frame: 5 × 5</caption>\n",
       "<thead>\n",
       "\t<tr><th></th><th scope=col>1_1</th><th scope=col>10_10</th><th scope=col>1000_1001</th><th scope=col>1001_1002</th><th scope=col>1002_1003</th></tr>\n",
       "\t<tr><th></th><th scope=col>&lt;dbl&gt;</th><th scope=col>&lt;dbl&gt;</th><th scope=col>&lt;dbl&gt;</th><th scope=col>&lt;dbl&gt;</th><th scope=col>&lt;dbl&gt;</th></tr>\n",
       "</thead>\n",
       "<tbody>\n",
       "\t<tr><th scope=row>MIR1302-10</th><td>0</td><td>0</td><td>0</td><td>0</td><td>0</td></tr>\n",
       "\t<tr><th scope=row>RP11-34P13.7</th><td>0</td><td>0</td><td>0</td><td>0</td><td>0</td></tr>\n",
       "\t<tr><th scope=row>RP11-34P13.8</th><td>0</td><td>0</td><td>0</td><td>0</td><td>0</td></tr>\n",
       "\t<tr><th scope=row>AL627309.1</th><td>0</td><td>0</td><td>0</td><td>0</td><td>0</td></tr>\n",
       "\t<tr><th scope=row>RP11-34P13.9</th><td>0</td><td>0</td><td>0</td><td>0</td><td>0</td></tr>\n",
       "</tbody>\n",
       "</table>\n"
      ],
      "text/latex": [
       "A data.frame: 5 × 5\n",
       "\\begin{tabular}{r|lllll}\n",
       "  & 1\\_1 & 10\\_10 & 1000\\_1001 & 1001\\_1002 & 1002\\_1003\\\\\n",
       "  & <dbl> & <dbl> & <dbl> & <dbl> & <dbl>\\\\\n",
       "\\hline\n",
       "\tMIR1302-10 & 0 & 0 & 0 & 0 & 0\\\\\n",
       "\tRP11-34P13.7 & 0 & 0 & 0 & 0 & 0\\\\\n",
       "\tRP11-34P13.8 & 0 & 0 & 0 & 0 & 0\\\\\n",
       "\tAL627309.1 & 0 & 0 & 0 & 0 & 0\\\\\n",
       "\tRP11-34P13.9 & 0 & 0 & 0 & 0 & 0\\\\\n",
       "\\end{tabular}\n"
      ],
      "text/markdown": [
       "\n",
       "A data.frame: 5 × 5\n",
       "\n",
       "| <!--/--> | 1_1 &lt;dbl&gt; | 10_10 &lt;dbl&gt; | 1000_1001 &lt;dbl&gt; | 1001_1002 &lt;dbl&gt; | 1002_1003 &lt;dbl&gt; |\n",
       "|---|---|---|---|---|---|\n",
       "| MIR1302-10 | 0 | 0 | 0 | 0 | 0 |\n",
       "| RP11-34P13.7 | 0 | 0 | 0 | 0 | 0 |\n",
       "| RP11-34P13.8 | 0 | 0 | 0 | 0 | 0 |\n",
       "| AL627309.1 | 0 | 0 | 0 | 0 | 0 |\n",
       "| RP11-34P13.9 | 0 | 0 | 0 | 0 | 0 |\n",
       "\n"
      ],
      "text/plain": [
       "             1_1 10_10 1000_1001 1001_1002 1002_1003\n",
       "MIR1302-10   0   0     0         0         0        \n",
       "RP11-34P13.7 0   0     0         0         0        \n",
       "RP11-34P13.8 0   0     0         0         0        \n",
       "AL627309.1   0   0     0         0         0        \n",
       "RP11-34P13.9 0   0     0         0         0        "
      ]
     },
     "metadata": {},
     "output_type": "display_data"
    }
   ],
   "source": [
    "colnames(counts_mono_other) = gsub(\"X\",\"\",gsub(\"\\\\.\",\"\",gsub(\"_Monocyte.FCGR3A\",\"\",colnames(counts_mono_other))))\n",
    "counts_mono_other[1:5,1:5]"
   ]
  },
  {
   "cell_type": "code",
   "execution_count": 158,
   "id": "541ac7ef",
   "metadata": {},
   "outputs": [],
   "source": [
    "# colnames(counts_mono_cd14) = gsub(\"X\",\"\",gsub(\"\\\\.\",\"\",gsub(\"_Monocyte.CD14\",\"\",colnames(counts_mono_cd14))))\n",
    "# counts_mono_cd14[1:5,1:5]"
   ]
  },
  {
   "cell_type": "code",
   "execution_count": 232,
   "id": "2e8741ff",
   "metadata": {},
   "outputs": [
    {
     "data": {
      "text/html": [
       "982"
      ],
      "text/latex": [
       "982"
      ],
      "text/markdown": [
       "982"
      ],
      "text/plain": [
       "[1] 982"
      ]
     },
     "metadata": {},
     "output_type": "display_data"
    },
    {
     "data": {
      "text/html": [
       "933"
      ],
      "text/latex": [
       "933"
      ],
      "text/markdown": [
       "933"
      ],
      "text/plain": [
       "[1] 933"
      ]
     },
     "metadata": {},
     "output_type": "display_data"
    },
    {
     "data": {
      "text/html": [
       "<table class=\"dataframe\">\n",
       "<caption>A data.frame: 6 × 9</caption>\n",
       "<thead>\n",
       "\t<tr><th></th><th scope=col>sampleid</th><th scope=col>age</th><th scope=col>SEX</th><th scope=col>PCA1</th><th scope=col>PCA2</th><th scope=col>PCA3</th><th scope=col>PCA4</th><th scope=col>PCA5</th><th scope=col>PCA6</th></tr>\n",
       "\t<tr><th></th><th scope=col>&lt;chr&gt;</th><th scope=col>&lt;int&gt;</th><th scope=col>&lt;int&gt;</th><th scope=col>&lt;dbl&gt;</th><th scope=col>&lt;dbl&gt;</th><th scope=col>&lt;dbl&gt;</th><th scope=col>&lt;dbl&gt;</th><th scope=col>&lt;dbl&gt;</th><th scope=col>&lt;dbl&gt;</th></tr>\n",
       "</thead>\n",
       "<tbody>\n",
       "\t<tr><th scope=row>1_1</th><td>1_1</td><td>65</td><td>2</td><td> 0.02775250</td><td>-0.000592955</td><td> 0.00757785</td><td>-0.014092900</td><td> 0.00932333</td><td> 0.03137540</td></tr>\n",
       "\t<tr><th scope=row>2_2</th><td>2_2</td><td>48</td><td>2</td><td>-0.04813530</td><td>-0.056674100</td><td>-0.01547420</td><td>-0.000729391</td><td> 0.00027473</td><td> 0.01116000</td></tr>\n",
       "\t<tr><th scope=row>3_3</th><td>3_3</td><td>53</td><td>2</td><td> 0.01369180</td><td>-0.046308100</td><td>-0.00584410</td><td> 0.026565000</td><td>-0.00435940</td><td> 0.03093290</td></tr>\n",
       "\t<tr><th scope=row>4_4</th><td>4_4</td><td>48</td><td>2</td><td> 0.01780390</td><td> 0.046411400</td><td>-0.02508330</td><td> 0.015125200</td><td> 0.02318960</td><td>-0.00741249</td></tr>\n",
       "\t<tr><th scope=row>6_6</th><td>6_6</td><td>79</td><td>2</td><td>-0.01165420</td><td> 0.015232400</td><td> 0.01065710</td><td>-0.071689000</td><td>-0.05411840</td><td> 0.00316309</td></tr>\n",
       "\t<tr><th scope=row>7_7</th><td>7_7</td><td>74</td><td>2</td><td> 0.00233242</td><td> 0.022173500</td><td> 0.02882250</td><td> 0.004397390</td><td> 0.07210630</td><td>-0.02177460</td></tr>\n",
       "</tbody>\n",
       "</table>\n"
      ],
      "text/latex": [
       "A data.frame: 6 × 9\n",
       "\\begin{tabular}{r|lllllllll}\n",
       "  & sampleid & age & SEX & PCA1 & PCA2 & PCA3 & PCA4 & PCA5 & PCA6\\\\\n",
       "  & <chr> & <int> & <int> & <dbl> & <dbl> & <dbl> & <dbl> & <dbl> & <dbl>\\\\\n",
       "\\hline\n",
       "\t1\\_1 & 1\\_1 & 65 & 2 &  0.02775250 & -0.000592955 &  0.00757785 & -0.014092900 &  0.00932333 &  0.03137540\\\\\n",
       "\t2\\_2 & 2\\_2 & 48 & 2 & -0.04813530 & -0.056674100 & -0.01547420 & -0.000729391 &  0.00027473 &  0.01116000\\\\\n",
       "\t3\\_3 & 3\\_3 & 53 & 2 &  0.01369180 & -0.046308100 & -0.00584410 &  0.026565000 & -0.00435940 &  0.03093290\\\\\n",
       "\t4\\_4 & 4\\_4 & 48 & 2 &  0.01780390 &  0.046411400 & -0.02508330 &  0.015125200 &  0.02318960 & -0.00741249\\\\\n",
       "\t6\\_6 & 6\\_6 & 79 & 2 & -0.01165420 &  0.015232400 &  0.01065710 & -0.071689000 & -0.05411840 &  0.00316309\\\\\n",
       "\t7\\_7 & 7\\_7 & 74 & 2 &  0.00233242 &  0.022173500 &  0.02882250 &  0.004397390 &  0.07210630 & -0.02177460\\\\\n",
       "\\end{tabular}\n"
      ],
      "text/markdown": [
       "\n",
       "A data.frame: 6 × 9\n",
       "\n",
       "| <!--/--> | sampleid &lt;chr&gt; | age &lt;int&gt; | SEX &lt;int&gt; | PCA1 &lt;dbl&gt; | PCA2 &lt;dbl&gt; | PCA3 &lt;dbl&gt; | PCA4 &lt;dbl&gt; | PCA5 &lt;dbl&gt; | PCA6 &lt;dbl&gt; |\n",
       "|---|---|---|---|---|---|---|---|---|---|\n",
       "| 1_1 | 1_1 | 65 | 2 |  0.02775250 | -0.000592955 |  0.00757785 | -0.014092900 |  0.00932333 |  0.03137540 |\n",
       "| 2_2 | 2_2 | 48 | 2 | -0.04813530 | -0.056674100 | -0.01547420 | -0.000729391 |  0.00027473 |  0.01116000 |\n",
       "| 3_3 | 3_3 | 53 | 2 |  0.01369180 | -0.046308100 | -0.00584410 |  0.026565000 | -0.00435940 |  0.03093290 |\n",
       "| 4_4 | 4_4 | 48 | 2 |  0.01780390 |  0.046411400 | -0.02508330 |  0.015125200 |  0.02318960 | -0.00741249 |\n",
       "| 6_6 | 6_6 | 79 | 2 | -0.01165420 |  0.015232400 |  0.01065710 | -0.071689000 | -0.05411840 |  0.00316309 |\n",
       "| 7_7 | 7_7 | 74 | 2 |  0.00233242 |  0.022173500 |  0.02882250 |  0.004397390 |  0.07210630 | -0.02177460 |\n",
       "\n"
      ],
      "text/plain": [
       "    sampleid age SEX PCA1        PCA2         PCA3        PCA4        \n",
       "1_1 1_1      65  2    0.02775250 -0.000592955  0.00757785 -0.014092900\n",
       "2_2 2_2      48  2   -0.04813530 -0.056674100 -0.01547420 -0.000729391\n",
       "3_3 3_3      53  2    0.01369180 -0.046308100 -0.00584410  0.026565000\n",
       "4_4 4_4      48  2    0.01780390  0.046411400 -0.02508330  0.015125200\n",
       "6_6 6_6      79  2   -0.01165420  0.015232400  0.01065710 -0.071689000\n",
       "7_7 7_7      74  2    0.00233242  0.022173500  0.02882250  0.004397390\n",
       "    PCA5        PCA6       \n",
       "1_1  0.00932333  0.03137540\n",
       "2_2  0.00027473  0.01116000\n",
       "3_3 -0.00435940  0.03093290\n",
       "4_4  0.02318960 -0.00741249\n",
       "6_6 -0.05411840  0.00316309\n",
       "7_7  0.07210630 -0.02177460"
      ]
     },
     "metadata": {},
     "output_type": "display_data"
    }
   ],
   "source": [
    "nrow(age_sex)\n",
    "meta_subset = age_sex[age_sex$sampleid %in% colnames(counts_mono_other),]\n",
    "rownames(meta_subset) = meta_subset$sampleid\n",
    "nrow(meta_subset)\n",
    "head(meta_subset)"
   ]
  },
  {
   "cell_type": "code",
   "execution_count": 224,
   "id": "4dcbcd64",
   "metadata": {},
   "outputs": [
    {
     "data": {
      "text/html": [
       "968"
      ],
      "text/latex": [
       "968"
      ],
      "text/markdown": [
       "968"
      ],
      "text/plain": [
       "[1] 968"
      ]
     },
     "metadata": {},
     "output_type": "display_data"
    }
   ],
   "source": [
    "length(colnames(counts_mono_cd14))"
   ]
  },
  {
   "cell_type": "code",
   "execution_count": 227,
   "id": "84f26851",
   "metadata": {
    "scrolled": true
   },
   "outputs": [],
   "source": [
    "# rownames(counts_Bcells1)"
   ]
  },
  {
   "cell_type": "code",
   "execution_count": 233,
   "id": "7abb8516",
   "metadata": {},
   "outputs": [],
   "source": [
    "sce_mono1 = CreateSeuratObject(counts_mono_other, meta.data = meta_subset)"
   ]
  },
  {
   "cell_type": "code",
   "execution_count": 164,
   "id": "dcd31eb9",
   "metadata": {},
   "outputs": [
    {
     "data": {
      "text/html": [
       "565"
      ],
      "text/latex": [
       "565"
      ],
      "text/markdown": [
       "565"
      ],
      "text/plain": [
       "[1] 565"
      ]
     },
     "metadata": {},
     "output_type": "display_data"
    },
    {
     "data": {
      "text/html": [
       "<style>\n",
       ".list-inline {list-style: none; margin:0; padding: 0}\n",
       ".list-inline>li {display: inline-block}\n",
       ".list-inline>li:not(:last-child)::after {content: \"\\00b7\"; padding: 0 .5ex}\n",
       "</style>\n",
       "<ol class=list-inline><li>'1_1'</li><li>'2_2'</li><li>'3_3'</li><li>'4_4'</li><li>'6_6'</li><li>'7_7'</li></ol>\n"
      ],
      "text/latex": [
       "\\begin{enumerate*}\n",
       "\\item '1\\_1'\n",
       "\\item '2\\_2'\n",
       "\\item '3\\_3'\n",
       "\\item '4\\_4'\n",
       "\\item '6\\_6'\n",
       "\\item '7\\_7'\n",
       "\\end{enumerate*}\n"
      ],
      "text/markdown": [
       "1. '1_1'\n",
       "2. '2_2'\n",
       "3. '3_3'\n",
       "4. '4_4'\n",
       "5. '6_6'\n",
       "6. '7_7'\n",
       "\n",
       "\n"
      ],
      "text/plain": [
       "[1] \"1_1\" \"2_2\" \"3_3\" \"4_4\" \"6_6\" \"7_7\""
      ]
     },
     "metadata": {},
     "output_type": "display_data"
    }
   ],
   "source": [
    "female_donors = age_sex[age_sex$SEX==2,\"sampleid\"]\n",
    "length(female_donors)\n",
    "head(female_donors)"
   ]
  },
  {
   "cell_type": "code",
   "execution_count": 234,
   "id": "06aecd32",
   "metadata": {},
   "outputs": [],
   "source": [
    "Idents(object = sce_mono1, cells = female_donors) <- \"Female\""
   ]
  },
  {
   "cell_type": "code",
   "execution_count": 235,
   "id": "3db73380",
   "metadata": {},
   "outputs": [],
   "source": [
    "mat = FindMarkers(sce_mono1, ident.1 = \"Female\", min.pct = 0.5)"
   ]
  },
  {
   "cell_type": "code",
   "execution_count": 236,
   "id": "f5f06502",
   "metadata": {},
   "outputs": [],
   "source": [
    "# mat_DC = mat\n",
    "# mat_mono_CD14 = mat\n",
    "# mat_plasma = mat\n",
    "# mat_mono_FGFRA = mat"
   ]
  },
  {
   "cell_type": "code",
   "execution_count": 237,
   "id": "fd798814",
   "metadata": {},
   "outputs": [
    {
     "data": {
      "text/html": [
       "<table class=\"dataframe\">\n",
       "<caption>A data.frame: 6 × 5</caption>\n",
       "<thead>\n",
       "\t<tr><th></th><th scope=col>p_val</th><th scope=col>avg_log2FC</th><th scope=col>pct.1</th><th scope=col>pct.2</th><th scope=col>p_val_adj</th></tr>\n",
       "\t<tr><th></th><th scope=col>&lt;dbl&gt;</th><th scope=col>&lt;dbl&gt;</th><th scope=col>&lt;dbl&gt;</th><th scope=col>&lt;dbl&gt;</th><th scope=col>&lt;dbl&gt;</th></tr>\n",
       "</thead>\n",
       "<tbody>\n",
       "\t<tr><th scope=row>EIF1AY</th><td>2.041688e-103</td><td>      -Inf</td><td>0.128</td><td>0.797</td><td>5.756744e-99</td></tr>\n",
       "\t<tr><th scope=row>XIST</th><td>5.764760e-102</td><td>       Inf</td><td>0.957</td><td>0.490</td><td>1.625432e-97</td></tr>\n",
       "\t<tr><th scope=row>DDX3Y</th><td> 1.251870e-80</td><td>-186.80357</td><td>0.145</td><td>0.718</td><td>3.529774e-76</td></tr>\n",
       "\t<tr><th scope=row>UTY</th><td> 3.524454e-78</td><td> -39.83605</td><td>0.063</td><td>0.617</td><td>9.937551e-74</td></tr>\n",
       "\t<tr><th scope=row>NRAS</th><td> 5.571920e-05</td><td>  12.44259</td><td>0.440</td><td>0.576</td><td>1.000000e+00</td></tr>\n",
       "\t<tr><th scope=row>ATF7IP2</th><td> 7.527916e-05</td><td> -17.31147</td><td>0.516</td><td>0.629</td><td>1.000000e+00</td></tr>\n",
       "</tbody>\n",
       "</table>\n"
      ],
      "text/latex": [
       "A data.frame: 6 × 5\n",
       "\\begin{tabular}{r|lllll}\n",
       "  & p\\_val & avg\\_log2FC & pct.1 & pct.2 & p\\_val\\_adj\\\\\n",
       "  & <dbl> & <dbl> & <dbl> & <dbl> & <dbl>\\\\\n",
       "\\hline\n",
       "\tEIF1AY & 2.041688e-103 &       -Inf & 0.128 & 0.797 & 5.756744e-99\\\\\n",
       "\tXIST & 5.764760e-102 &        Inf & 0.957 & 0.490 & 1.625432e-97\\\\\n",
       "\tDDX3Y &  1.251870e-80 & -186.80357 & 0.145 & 0.718 & 3.529774e-76\\\\\n",
       "\tUTY &  3.524454e-78 &  -39.83605 & 0.063 & 0.617 & 9.937551e-74\\\\\n",
       "\tNRAS &  5.571920e-05 &   12.44259 & 0.440 & 0.576 & 1.000000e+00\\\\\n",
       "\tATF7IP2 &  7.527916e-05 &  -17.31147 & 0.516 & 0.629 & 1.000000e+00\\\\\n",
       "\\end{tabular}\n"
      ],
      "text/markdown": [
       "\n",
       "A data.frame: 6 × 5\n",
       "\n",
       "| <!--/--> | p_val &lt;dbl&gt; | avg_log2FC &lt;dbl&gt; | pct.1 &lt;dbl&gt; | pct.2 &lt;dbl&gt; | p_val_adj &lt;dbl&gt; |\n",
       "|---|---|---|---|---|---|\n",
       "| EIF1AY | 2.041688e-103 |       -Inf | 0.128 | 0.797 | 5.756744e-99 |\n",
       "| XIST | 5.764760e-102 |        Inf | 0.957 | 0.490 | 1.625432e-97 |\n",
       "| DDX3Y |  1.251870e-80 | -186.80357 | 0.145 | 0.718 | 3.529774e-76 |\n",
       "| UTY |  3.524454e-78 |  -39.83605 | 0.063 | 0.617 | 9.937551e-74 |\n",
       "| NRAS |  5.571920e-05 |   12.44259 | 0.440 | 0.576 | 1.000000e+00 |\n",
       "| ATF7IP2 |  7.527916e-05 |  -17.31147 | 0.516 | 0.629 | 1.000000e+00 |\n",
       "\n"
      ],
      "text/plain": [
       "        p_val         avg_log2FC pct.1 pct.2 p_val_adj   \n",
       "EIF1AY  2.041688e-103       -Inf 0.128 0.797 5.756744e-99\n",
       "XIST    5.764760e-102        Inf 0.957 0.490 1.625432e-97\n",
       "DDX3Y    1.251870e-80 -186.80357 0.145 0.718 3.529774e-76\n",
       "UTY      3.524454e-78  -39.83605 0.063 0.617 9.937551e-74\n",
       "NRAS     5.571920e-05   12.44259 0.440 0.576 1.000000e+00\n",
       "ATF7IP2  7.527916e-05  -17.31147 0.516 0.629 1.000000e+00"
      ]
     },
     "metadata": {},
     "output_type": "display_data"
    }
   ],
   "source": [
    "head(mat_mono_FGFRA)"
   ]
  },
  {
   "cell_type": "code",
   "execution_count": 194,
   "id": "6810a069",
   "metadata": {},
   "outputs": [
    {
     "data": {
      "text/html": [
       "<table class=\"dataframe\">\n",
       "<caption>A data.frame: 6 × 5</caption>\n",
       "<thead>\n",
       "\t<tr><th></th><th scope=col>p_val</th><th scope=col>avg_log2FC</th><th scope=col>pct.1</th><th scope=col>pct.2</th><th scope=col>p_val_adj</th></tr>\n",
       "\t<tr><th></th><th scope=col>&lt;dbl&gt;</th><th scope=col>&lt;dbl&gt;</th><th scope=col>&lt;dbl&gt;</th><th scope=col>&lt;dbl&gt;</th><th scope=col>&lt;dbl&gt;</th></tr>\n",
       "</thead>\n",
       "<tbody>\n",
       "\t<tr><th scope=row>EIF1AY</th><td>3.186238e-100</td><td>      -Inf</td><td>0.100</td><td>0.829</td><td>1.043111e-95</td></tr>\n",
       "\t<tr><th scope=row>XIST</th><td> 2.670841e-74</td><td>       Inf</td><td>0.904</td><td>0.374</td><td>8.743798e-70</td></tr>\n",
       "\t<tr><th scope=row>KDM5D</th><td> 3.496920e-65</td><td>-863.33348</td><td>0.060</td><td>0.609</td><td>1.144822e-60</td></tr>\n",
       "\t<tr><th scope=row>JPX</th><td> 4.999232e-06</td><td> -28.28508</td><td>0.624</td><td>0.490</td><td>1.636649e-01</td></tr>\n",
       "\t<tr><th scope=row>ZRSR2</th><td> 1.388235e-03</td><td> 122.65216</td><td>0.564</td><td>0.487</td><td>1.000000e+00</td></tr>\n",
       "\t<tr><th scope=row>SAT2</th><td> 4.469907e-03</td><td>-578.98537</td><td>0.787</td><td>0.742</td><td>1.000000e+00</td></tr>\n",
       "</tbody>\n",
       "</table>\n"
      ],
      "text/latex": [
       "A data.frame: 6 × 5\n",
       "\\begin{tabular}{r|lllll}\n",
       "  & p\\_val & avg\\_log2FC & pct.1 & pct.2 & p\\_val\\_adj\\\\\n",
       "  & <dbl> & <dbl> & <dbl> & <dbl> & <dbl>\\\\\n",
       "\\hline\n",
       "\tEIF1AY & 3.186238e-100 &       -Inf & 0.100 & 0.829 & 1.043111e-95\\\\\n",
       "\tXIST &  2.670841e-74 &        Inf & 0.904 & 0.374 & 8.743798e-70\\\\\n",
       "\tKDM5D &  3.496920e-65 & -863.33348 & 0.060 & 0.609 & 1.144822e-60\\\\\n",
       "\tJPX &  4.999232e-06 &  -28.28508 & 0.624 & 0.490 & 1.636649e-01\\\\\n",
       "\tZRSR2 &  1.388235e-03 &  122.65216 & 0.564 & 0.487 & 1.000000e+00\\\\\n",
       "\tSAT2 &  4.469907e-03 & -578.98537 & 0.787 & 0.742 & 1.000000e+00\\\\\n",
       "\\end{tabular}\n"
      ],
      "text/markdown": [
       "\n",
       "A data.frame: 6 × 5\n",
       "\n",
       "| <!--/--> | p_val &lt;dbl&gt; | avg_log2FC &lt;dbl&gt; | pct.1 &lt;dbl&gt; | pct.2 &lt;dbl&gt; | p_val_adj &lt;dbl&gt; |\n",
       "|---|---|---|---|---|---|\n",
       "| EIF1AY | 3.186238e-100 |       -Inf | 0.100 | 0.829 | 1.043111e-95 |\n",
       "| XIST |  2.670841e-74 |        Inf | 0.904 | 0.374 | 8.743798e-70 |\n",
       "| KDM5D |  3.496920e-65 | -863.33348 | 0.060 | 0.609 | 1.144822e-60 |\n",
       "| JPX |  4.999232e-06 |  -28.28508 | 0.624 | 0.490 | 1.636649e-01 |\n",
       "| ZRSR2 |  1.388235e-03 |  122.65216 | 0.564 | 0.487 | 1.000000e+00 |\n",
       "| SAT2 |  4.469907e-03 | -578.98537 | 0.787 | 0.742 | 1.000000e+00 |\n",
       "\n"
      ],
      "text/plain": [
       "       p_val         avg_log2FC pct.1 pct.2 p_val_adj   \n",
       "EIF1AY 3.186238e-100       -Inf 0.100 0.829 1.043111e-95\n",
       "XIST    2.670841e-74        Inf 0.904 0.374 8.743798e-70\n",
       "KDM5D   3.496920e-65 -863.33348 0.060 0.609 1.144822e-60\n",
       "JPX     4.999232e-06  -28.28508 0.624 0.490 1.636649e-01\n",
       "ZRSR2   1.388235e-03  122.65216 0.564 0.487 1.000000e+00\n",
       "SAT2    4.469907e-03 -578.98537 0.787 0.742 1.000000e+00"
      ]
     },
     "metadata": {},
     "output_type": "display_data"
    }
   ],
   "source": [
    "head(mat_plasma)"
   ]
  },
  {
   "cell_type": "code",
   "execution_count": 183,
   "id": "f8e71faf",
   "metadata": {},
   "outputs": [
    {
     "data": {
      "text/html": [
       "<table class=\"dataframe\">\n",
       "<caption>A data.frame: 6 × 5</caption>\n",
       "<thead>\n",
       "\t<tr><th></th><th scope=col>p_val</th><th scope=col>avg_log2FC</th><th scope=col>pct.1</th><th scope=col>pct.2</th><th scope=col>p_val_adj</th></tr>\n",
       "\t<tr><th></th><th scope=col>&lt;dbl&gt;</th><th scope=col>&lt;dbl&gt;</th><th scope=col>&lt;dbl&gt;</th><th scope=col>&lt;dbl&gt;</th><th scope=col>&lt;dbl&gt;</th></tr>\n",
       "</thead>\n",
       "<tbody>\n",
       "\t<tr><th scope=row>DDX3Y</th><td>1.884420e-101</td><td>     -Inf</td><td>0.285</td><td>0.869</td><td>6.169215e-97</td></tr>\n",
       "\t<tr><th scope=row>EIF1AY</th><td>2.525529e-100</td><td>     -Inf</td><td>0.248</td><td>0.852</td><td>8.268076e-96</td></tr>\n",
       "\t<tr><th scope=row>UTY</th><td> 4.276327e-71</td><td>-68.67160</td><td>0.142</td><td>0.664</td><td>1.399984e-66</td></tr>\n",
       "\t<tr><th scope=row>ZFY</th><td> 3.324473e-64</td><td>-41.65362</td><td>0.045</td><td>0.516</td><td>1.088366e-59</td></tr>\n",
       "\t<tr><th scope=row>ARSD</th><td> 6.514707e-05</td><td>-38.28189</td><td>0.673</td><td>0.569</td><td>1.000000e+00</td></tr>\n",
       "\t<tr><th scope=row>XPO7</th><td> 6.998734e-05</td><td>-28.18894</td><td>0.539</td><td>0.655</td><td>1.000000e+00</td></tr>\n",
       "</tbody>\n",
       "</table>\n"
      ],
      "text/latex": [
       "A data.frame: 6 × 5\n",
       "\\begin{tabular}{r|lllll}\n",
       "  & p\\_val & avg\\_log2FC & pct.1 & pct.2 & p\\_val\\_adj\\\\\n",
       "  & <dbl> & <dbl> & <dbl> & <dbl> & <dbl>\\\\\n",
       "\\hline\n",
       "\tDDX3Y & 1.884420e-101 &      -Inf & 0.285 & 0.869 & 6.169215e-97\\\\\n",
       "\tEIF1AY & 2.525529e-100 &      -Inf & 0.248 & 0.852 & 8.268076e-96\\\\\n",
       "\tUTY &  4.276327e-71 & -68.67160 & 0.142 & 0.664 & 1.399984e-66\\\\\n",
       "\tZFY &  3.324473e-64 & -41.65362 & 0.045 & 0.516 & 1.088366e-59\\\\\n",
       "\tARSD &  6.514707e-05 & -38.28189 & 0.673 & 0.569 & 1.000000e+00\\\\\n",
       "\tXPO7 &  6.998734e-05 & -28.18894 & 0.539 & 0.655 & 1.000000e+00\\\\\n",
       "\\end{tabular}\n"
      ],
      "text/markdown": [
       "\n",
       "A data.frame: 6 × 5\n",
       "\n",
       "| <!--/--> | p_val &lt;dbl&gt; | avg_log2FC &lt;dbl&gt; | pct.1 &lt;dbl&gt; | pct.2 &lt;dbl&gt; | p_val_adj &lt;dbl&gt; |\n",
       "|---|---|---|---|---|---|\n",
       "| DDX3Y | 1.884420e-101 |      -Inf | 0.285 | 0.869 | 6.169215e-97 |\n",
       "| EIF1AY | 2.525529e-100 |      -Inf | 0.248 | 0.852 | 8.268076e-96 |\n",
       "| UTY |  4.276327e-71 | -68.67160 | 0.142 | 0.664 | 1.399984e-66 |\n",
       "| ZFY |  3.324473e-64 | -41.65362 | 0.045 | 0.516 | 1.088366e-59 |\n",
       "| ARSD |  6.514707e-05 | -38.28189 | 0.673 | 0.569 | 1.000000e+00 |\n",
       "| XPO7 |  6.998734e-05 | -28.18894 | 0.539 | 0.655 | 1.000000e+00 |\n",
       "\n"
      ],
      "text/plain": [
       "       p_val         avg_log2FC pct.1 pct.2 p_val_adj   \n",
       "DDX3Y  1.884420e-101      -Inf  0.285 0.869 6.169215e-97\n",
       "EIF1AY 2.525529e-100      -Inf  0.248 0.852 8.268076e-96\n",
       "UTY     4.276327e-71 -68.67160  0.142 0.664 1.399984e-66\n",
       "ZFY     3.324473e-64 -41.65362  0.045 0.516 1.088366e-59\n",
       "ARSD    6.514707e-05 -38.28189  0.673 0.569 1.000000e+00\n",
       "XPO7    6.998734e-05 -28.18894  0.539 0.655 1.000000e+00"
      ]
     },
     "metadata": {},
     "output_type": "display_data"
    }
   ],
   "source": [
    "head(mat_mono_CD14)"
   ]
  },
  {
   "cell_type": "code",
   "execution_count": 239,
   "id": "4f15632e",
   "metadata": {},
   "outputs": [
    {
     "data": {
      "text/html": [
       "<table class=\"dataframe\">\n",
       "<caption>A data.frame: 14 × 5</caption>\n",
       "<thead>\n",
       "\t<tr><th></th><th scope=col>p_val</th><th scope=col>avg_log2FC</th><th scope=col>pct.1</th><th scope=col>pct.2</th><th scope=col>p_val_adj</th></tr>\n",
       "\t<tr><th></th><th scope=col>&lt;dbl&gt;</th><th scope=col>&lt;dbl&gt;</th><th scope=col>&lt;dbl&gt;</th><th scope=col>&lt;dbl&gt;</th><th scope=col>&lt;dbl&gt;</th></tr>\n",
       "</thead>\n",
       "<tbody>\n",
       "\t<tr><th scope=row>EIF1AY</th><td>3.712014e-123</td><td>-591.374289</td><td>0.124</td><td>0.861</td><td>1.215239e-118</td></tr>\n",
       "\t<tr><th scope=row>XIST</th><td>1.198056e-116</td><td>        Inf</td><td>0.977</td><td>0.504</td><td>3.922196e-112</td></tr>\n",
       "\t<tr><th scope=row>DDX3Y</th><td>9.434714e-106</td><td>-550.992393</td><td>0.153</td><td>0.818</td><td>3.088737e-101</td></tr>\n",
       "\t<tr><th scope=row>UTY</th><td> 1.812252e-71</td><td> -42.523526</td><td>0.045</td><td>0.552</td><td> 5.932952e-67</td></tr>\n",
       "\t<tr><th scope=row>KDM5D</th><td> 3.250923e-58</td><td> -22.556621</td><td>0.061</td><td>0.509</td><td> 1.064287e-53</td></tr>\n",
       "\t<tr><th scope=row>TTTY15</th><td> 7.772480e-50</td><td> -21.789750</td><td>0.086</td><td>0.504</td><td> 2.544554e-45</td></tr>\n",
       "\t<tr><th scope=row>WASH4P</th><td> 2.414997e-08</td><td>       -Inf</td><td>0.871</td><td>0.927</td><td> 7.906218e-04</td></tr>\n",
       "\t<tr><th scope=row>SRSF6</th><td> 8.059152e-08</td><td>       -Inf</td><td>0.865</td><td>0.917</td><td> 2.638405e-03</td></tr>\n",
       "\t<tr><th scope=row>PLEKHF2</th><td> 4.884295e-07</td><td>  -8.633659</td><td>0.530</td><td>0.681</td><td> 1.599020e-02</td></tr>\n",
       "\t<tr><th scope=row>PPM1M</th><td> 5.200221e-07</td><td>-140.043613</td><td>0.601</td><td>0.737</td><td> 1.702448e-02</td></tr>\n",
       "\t<tr><th scope=row>PIP4K2A</th><td> 6.900552e-07</td><td>       -Inf</td><td>0.855</td><td>0.908</td><td> 2.259103e-02</td></tr>\n",
       "\t<tr><th scope=row>NEK7</th><td> 7.573633e-07</td><td>  -8.643411</td><td>0.409</td><td>0.547</td><td> 2.479456e-02</td></tr>\n",
       "\t<tr><th scope=row>NME1-NME2</th><td> 9.519283e-07</td><td> -52.158284</td><td>0.567</td><td>0.696</td><td> 3.116423e-02</td></tr>\n",
       "\t<tr><th scope=row>MTPAP</th><td> 1.077299e-06</td><td>   4.129285</td><td>0.370</td><td>0.521</td><td> 3.526861e-02</td></tr>\n",
       "</tbody>\n",
       "</table>\n"
      ],
      "text/latex": [
       "A data.frame: 14 × 5\n",
       "\\begin{tabular}{r|lllll}\n",
       "  & p\\_val & avg\\_log2FC & pct.1 & pct.2 & p\\_val\\_adj\\\\\n",
       "  & <dbl> & <dbl> & <dbl> & <dbl> & <dbl>\\\\\n",
       "\\hline\n",
       "\tEIF1AY & 3.712014e-123 & -591.374289 & 0.124 & 0.861 & 1.215239e-118\\\\\n",
       "\tXIST & 1.198056e-116 &         Inf & 0.977 & 0.504 & 3.922196e-112\\\\\n",
       "\tDDX3Y & 9.434714e-106 & -550.992393 & 0.153 & 0.818 & 3.088737e-101\\\\\n",
       "\tUTY &  1.812252e-71 &  -42.523526 & 0.045 & 0.552 &  5.932952e-67\\\\\n",
       "\tKDM5D &  3.250923e-58 &  -22.556621 & 0.061 & 0.509 &  1.064287e-53\\\\\n",
       "\tTTTY15 &  7.772480e-50 &  -21.789750 & 0.086 & 0.504 &  2.544554e-45\\\\\n",
       "\tWASH4P &  2.414997e-08 &        -Inf & 0.871 & 0.927 &  7.906218e-04\\\\\n",
       "\tSRSF6 &  8.059152e-08 &        -Inf & 0.865 & 0.917 &  2.638405e-03\\\\\n",
       "\tPLEKHF2 &  4.884295e-07 &   -8.633659 & 0.530 & 0.681 &  1.599020e-02\\\\\n",
       "\tPPM1M &  5.200221e-07 & -140.043613 & 0.601 & 0.737 &  1.702448e-02\\\\\n",
       "\tPIP4K2A &  6.900552e-07 &        -Inf & 0.855 & 0.908 &  2.259103e-02\\\\\n",
       "\tNEK7 &  7.573633e-07 &   -8.643411 & 0.409 & 0.547 &  2.479456e-02\\\\\n",
       "\tNME1-NME2 &  9.519283e-07 &  -52.158284 & 0.567 & 0.696 &  3.116423e-02\\\\\n",
       "\tMTPAP &  1.077299e-06 &    4.129285 & 0.370 & 0.521 &  3.526861e-02\\\\\n",
       "\\end{tabular}\n"
      ],
      "text/markdown": [
       "\n",
       "A data.frame: 14 × 5\n",
       "\n",
       "| <!--/--> | p_val &lt;dbl&gt; | avg_log2FC &lt;dbl&gt; | pct.1 &lt;dbl&gt; | pct.2 &lt;dbl&gt; | p_val_adj &lt;dbl&gt; |\n",
       "|---|---|---|---|---|---|\n",
       "| EIF1AY | 3.712014e-123 | -591.374289 | 0.124 | 0.861 | 1.215239e-118 |\n",
       "| XIST | 1.198056e-116 |         Inf | 0.977 | 0.504 | 3.922196e-112 |\n",
       "| DDX3Y | 9.434714e-106 | -550.992393 | 0.153 | 0.818 | 3.088737e-101 |\n",
       "| UTY |  1.812252e-71 |  -42.523526 | 0.045 | 0.552 |  5.932952e-67 |\n",
       "| KDM5D |  3.250923e-58 |  -22.556621 | 0.061 | 0.509 |  1.064287e-53 |\n",
       "| TTTY15 |  7.772480e-50 |  -21.789750 | 0.086 | 0.504 |  2.544554e-45 |\n",
       "| WASH4P |  2.414997e-08 |        -Inf | 0.871 | 0.927 |  7.906218e-04 |\n",
       "| SRSF6 |  8.059152e-08 |        -Inf | 0.865 | 0.917 |  2.638405e-03 |\n",
       "| PLEKHF2 |  4.884295e-07 |   -8.633659 | 0.530 | 0.681 |  1.599020e-02 |\n",
       "| PPM1M |  5.200221e-07 | -140.043613 | 0.601 | 0.737 |  1.702448e-02 |\n",
       "| PIP4K2A |  6.900552e-07 |        -Inf | 0.855 | 0.908 |  2.259103e-02 |\n",
       "| NEK7 |  7.573633e-07 |   -8.643411 | 0.409 | 0.547 |  2.479456e-02 |\n",
       "| NME1-NME2 |  9.519283e-07 |  -52.158284 | 0.567 | 0.696 |  3.116423e-02 |\n",
       "| MTPAP |  1.077299e-06 |    4.129285 | 0.370 | 0.521 |  3.526861e-02 |\n",
       "\n"
      ],
      "text/plain": [
       "          p_val         avg_log2FC  pct.1 pct.2 p_val_adj    \n",
       "EIF1AY    3.712014e-123 -591.374289 0.124 0.861 1.215239e-118\n",
       "XIST      1.198056e-116         Inf 0.977 0.504 3.922196e-112\n",
       "DDX3Y     9.434714e-106 -550.992393 0.153 0.818 3.088737e-101\n",
       "UTY        1.812252e-71  -42.523526 0.045 0.552  5.932952e-67\n",
       "KDM5D      3.250923e-58  -22.556621 0.061 0.509  1.064287e-53\n",
       "TTTY15     7.772480e-50  -21.789750 0.086 0.504  2.544554e-45\n",
       "WASH4P     2.414997e-08        -Inf 0.871 0.927  7.906218e-04\n",
       "SRSF6      8.059152e-08        -Inf 0.865 0.917  2.638405e-03\n",
       "PLEKHF2    4.884295e-07   -8.633659 0.530 0.681  1.599020e-02\n",
       "PPM1M      5.200221e-07 -140.043613 0.601 0.737  1.702448e-02\n",
       "PIP4K2A    6.900552e-07        -Inf 0.855 0.908  2.259103e-02\n",
       "NEK7       7.573633e-07   -8.643411 0.409 0.547  2.479456e-02\n",
       "NME1-NME2  9.519283e-07  -52.158284 0.567 0.696  3.116423e-02\n",
       "MTPAP      1.077299e-06    4.129285 0.370 0.521  3.526861e-02"
      ]
     },
     "metadata": {},
     "output_type": "display_data"
    }
   ],
   "source": [
    "head(mat_DC,14)"
   ]
  },
  {
   "cell_type": "code",
   "execution_count": 238,
   "id": "d07bc766",
   "metadata": {},
   "outputs": [
    {
     "data": {
      "text/html": [
       "4460"
      ],
      "text/latex": [
       "4460"
      ],
      "text/markdown": [
       "4460"
      ],
      "text/plain": [
       "[1] 4460"
      ]
     },
     "metadata": {},
     "output_type": "display_data"
    },
    {
     "data": {
      "text/html": [
       "4"
      ],
      "text/latex": [
       "4"
      ],
      "text/markdown": [
       "4"
      ],
      "text/plain": [
       "[1] 4"
      ]
     },
     "metadata": {},
     "output_type": "display_data"
    }
   ],
   "source": [
    "nrow(mat)\n",
    "nrow(mat[mat$p_val_adj<0.05,])"
   ]
  },
  {
   "cell_type": "code",
   "execution_count": null,
   "id": "c1d2d490",
   "metadata": {},
   "outputs": [],
   "source": []
  },
  {
   "cell_type": "code",
   "execution_count": null,
   "id": "6289f51a",
   "metadata": {},
   "outputs": [],
   "source": [
    "dds <- DESeqDataSetFromMatrix(cluster_counts, \n",
    "                              colData = cluster_metadata, \n",
    "                              design = ~ group_id)"
   ]
  },
  {
   "cell_type": "code",
   "execution_count": null,
   "id": "0c3539d5",
   "metadata": {},
   "outputs": [],
   "source": [
    "dds <- DESeq(dds)"
   ]
  }
 ],
 "metadata": {
  "kernelspec": {
   "display_name": "Single Cell Notebook (R 4.1.2)",
   "language": "R",
   "name": "singlecell"
  },
  "language_info": {
   "codemirror_mode": "r",
   "file_extension": ".r",
   "mimetype": "text/x-r-source",
   "name": "R",
   "pygments_lexer": "r",
   "version": "4.1.2"
  }
 },
 "nbformat": 4,
 "nbformat_minor": 5
}
