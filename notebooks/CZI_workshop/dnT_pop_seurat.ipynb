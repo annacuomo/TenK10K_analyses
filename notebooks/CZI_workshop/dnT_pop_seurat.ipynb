{
 "cells": [
  {
   "cell_type": "code",
   "execution_count": 14,
   "id": "2a367273",
   "metadata": {},
   "outputs": [],
   "source": [
    "library(Seurat)"
   ]
  },
  {
   "cell_type": "code",
   "execution_count": 6,
   "id": "f0b87c95",
   "metadata": {},
   "outputs": [],
   "source": [
    "sce_filename = \"/share/ScratchGeneral/anncuo/sc-integration-workshop/dnT_seurat.rds\""
   ]
  },
  {
   "cell_type": "code",
   "execution_count": 7,
   "id": "66fdbfd5",
   "metadata": {},
   "outputs": [],
   "source": [
    "sce = readRDS(sce_filename)"
   ]
  },
  {
   "cell_type": "code",
   "execution_count": 11,
   "id": "c7a89b9b",
   "metadata": {},
   "outputs": [
    {
     "data": {
      "text/plain": [
       "An object of class Seurat \n",
       "58597 features across 15416 samples within 1 assay \n",
       "Active assay: RNA (58597 features, 0 variable features)"
      ]
     },
     "metadata": {},
     "output_type": "display_data"
    }
   ],
   "source": [
    "sce"
   ]
  },
  {
   "cell_type": "code",
   "execution_count": 12,
   "id": "4a16ae69",
   "metadata": {
    "scrolled": true
   },
   "outputs": [
    {
     "name": "stdout",
     "output_type": "stream",
     "text": [
      "Formal class 'Seurat' [package \"SeuratObject\"] with 13 slots\n",
      "  ..@ assays      :List of 1\n",
      "  .. ..$ RNA:Formal class 'Assay' [package \"SeuratObject\"] with 8 slots\n",
      "  .. .. .. ..@ counts       :Formal class 'dgCMatrix' [package \"Matrix\"] with 6 slots\n",
      "  .. .. .. .. .. ..@ i       : int [1:26159171] 0 8 13 28 37 65 80 87 90 92 ...\n",
      "  .. .. .. .. .. ..@ p       : int [1:15417] 0 3327 5880 7993 10039 11383 15000 18125 21830 23345 ...\n",
      "  .. .. .. .. .. ..@ Dim     : int [1:2] 58597 15416\n",
      "  .. .. .. .. .. ..@ Dimnames:List of 2\n",
      "  .. .. .. .. .. .. ..$ : chr [1:58597] \"LAYN\" \"DHPS\" \"EFEMP2\" \"SPRED2\" ...\n",
      "  .. .. .. .. .. .. ..$ : chr [1:15416] \"10_1016_j_cell_2020_08_001_Schulte-Schrepping-11295\" \"10_1016_j_cell_2020_08_001_Schulte-Schrepping-12964\" \"10_1016_j_cell_2020_08_001_Schulte-Schrepping-13804\" \"10_1016_j_cell_2020_08_001_Schulte-Schrepping-14022\" ...\n",
      "  .. .. .. .. .. ..@ x       : num [1:26159171] 2 5 2 1 1 4 1 3 2 1 ...\n",
      "  .. .. .. .. .. ..@ factors : list()\n",
      "  .. .. .. ..@ data         :Formal class 'dgCMatrix' [package \"Matrix\"] with 6 slots\n",
      "  .. .. .. .. .. ..@ i       : int [1:26159171] 0 8 13 28 37 65 80 87 90 92 ...\n",
      "  .. .. .. .. .. ..@ p       : int [1:15417] 0 3327 5880 7993 10039 11383 15000 18125 21830 23345 ...\n",
      "  .. .. .. .. .. ..@ Dim     : int [1:2] 58597 15416\n",
      "  .. .. .. .. .. ..@ Dimnames:List of 2\n",
      "  .. .. .. .. .. .. ..$ : chr [1:58597] \"LAYN\" \"DHPS\" \"EFEMP2\" \"SPRED2\" ...\n",
      "  .. .. .. .. .. .. ..$ : chr [1:15416] \"10_1016_j_cell_2020_08_001_Schulte-Schrepping-11295\" \"10_1016_j_cell_2020_08_001_Schulte-Schrepping-12964\" \"10_1016_j_cell_2020_08_001_Schulte-Schrepping-13804\" \"10_1016_j_cell_2020_08_001_Schulte-Schrepping-14022\" ...\n",
      "  .. .. .. .. .. ..@ x       : num [1:26159171] 1.017 1.689 1.017 0.633 0.633 ...\n",
      "  .. .. .. .. .. ..@ factors : list()\n",
      "  .. .. .. ..@ scale.data   : num[0 , 0 ] \n",
      "  .. .. .. ..@ key          : chr \"rna_\"\n",
      "  .. .. .. ..@ assay.orig   : NULL\n",
      "  .. .. .. ..@ var.features : logi(0) \n",
      "  .. .. .. ..@ meta.features:'data.frame':\t58597 obs. of  0 variables\n",
      "  .. .. .. ..@ misc         : list()\n",
      "  ..@ meta.data   :'data.frame':\t15416 obs. of  301 variables:\n",
      "  .. ..$ orig.ident                                     : chr [1:15416] \"SeuratProject\" \"SeuratProject\" \"SeuratProject\" \"SeuratProject\" ...\n",
      "  .. ..$ nCount_RNA                                     : num [1:15416] 11325 7336 5930 5303 3731 ...\n",
      "  .. ..$ nFeature_RNA                                   : int [1:15416] 3327 2553 2113 2046 1344 3617 3125 3705 1515 2835 ...\n",
      "  .. ..$ COVID.19.related_medication_and_anti.microbials: chr [1:15416] \"Steroids, antibiotics\" \"none\" \"Antibiotics\" \"Steroids, antibiotics\" ...\n",
      "  .. ..$ age                                            : chr [1:15416] \"61_65\" \"71_75\" \"61_65\" \"61_65\" ...\n",
      "  .. ..$ cluster_labels_res.0.4                         : chr [1:15416] \"CD4+ T cells_2\" \"CD4+ T cells_2\" \"CD4+ T cells_2\" \"CD4+ T cells_2\" ...\n",
      "  .. ..$ Dataset                                        : chr [1:15416] \"Schulte-Schrepping et al._Cell\" \"Schulte-Schrepping et al._Cell\" \"Schulte-Schrepping et al._Cell\" \"Schulte-Schrepping et al._Cell\" ...\n",
      "  .. ..$ sample                                         : chr [1:15416] \"Schulte-Schrepping_C19-CB-0008_d13\" \"Schulte-Schrepping_C19-CB-0012_d9\" \"Schulte-Schrepping_C19-CB-0011_d13\" \"Schulte-Schrepping_C19-CB-0008_d13\" ...\n",
      "  .. ..$ disease_original                               : chr [1:15416] \"COVID-19 Severe\" \"COVID-19 Severe\" \"COVID-19 Severe\" \"COVID-19 Severe\" ...\n",
      "  .. ..$ disease_general                                : chr [1:15416] \"COVID-19 Severe/Late stage/Vent\" \"COVID-19 Severe/Late stage/Vent\" \"COVID-19 Severe/Late stage/Vent\" \"COVID-19 Severe/Late stage/Vent\" ...\n",
      "  .. ..$ COVID.19.Condition                             : chr [1:15416] \"severe_late\" \"severe_early\" \"severe_late\" \"severe_late\" ...\n",
      "  .. ..$ Lineage                                        : chr [1:15416] \"Lymphoid_T/NK\" \"Lymphoid_T/NK\" \"Lymphoid_T/NK\" \"Lymphoid_T/NK\" ...\n",
      "  .. ..$ Cell.group                                     : chr [1:15416] \"Other T\" \"Other T\" \"Other T\" \"Other T\" ...\n",
      "  .. ..$ Cell.class_reannotated                         : chr [1:15416] \"dn T\" \"dn T\" \"dn T\" \"dn T\" ...\n",
      "  .. ..$ nFeaturess_RNA                                 : num [1:15416] 3378 2593 2158 2083 1366 ...\n",
      "  .. ..$ nCounts_RNA                                    : num [1:15416] 24480 19891 16922 16754 11597 ...\n",
      "  .. ..$ percent_mito                                   : num [1:15416] 0.00519 0.00668 0.00761 0.00664 0.01105 ...\n",
      "  .. ..$ tissue_original                                : chr [1:15416] \"PBMC\" \"PBMC\" \"PBMC\" \"PBMC\" ...\n",
      "  .. ..$ tissue_ontology_term_id                        : chr [1:15416] \"UBERON:0000178\" \"UBERON:0000178\" \"UBERON:0000178\" \"UBERON:0000178\" ...\n",
      "  .. ..$ disease_ontology_term_id                       : chr [1:15416] \"MONDO:0100096\" \"MONDO:0100096\" \"MONDO:0100096\" \"MONDO:0100096\" ...\n",
      "  .. ..$ patient                                        : chr [1:15416] \"C19-CB-0008\" \"C19-CB-0012\" \"C19-CB-0011\" \"C19-CB-0008\" ...\n",
      "  .. ..$ cell_type_ontology_term_id                     : chr [1:15416] \"CL:0002489\" \"CL:0002489\" \"CL:0002489\" \"CL:0002489\" ...\n",
      "  .. ..$ assay_ontology_term_id                         : chr [1:15416] \"EFO:0009922\" \"EFO:0009922\" \"EFO:0009922\" \"EFO:0009922\" ...\n",
      "  .. ..$ development_stage_ontology_term_id             : chr [1:15416] \"HsapDv:0000241\" \"HsapDv:0000242\" \"HsapDv:0000241\" \"HsapDv:0000241\" ...\n",
      "  .. ..$ ethnicity_ontology_term_id                     : chr [1:15416] \"unknown\" \"unknown\" \"unknown\" \"unknown\" ...\n",
      "  .. ..$ sex_ontology_term_id                           : chr [1:15416] \"PATO:0000384\" \"PATO:0000384\" \"PATO:0000384\" \"PATO:0000384\" ...\n",
      "  .. ..$ is_primary_data                                : logi [1:15416] TRUE TRUE TRUE TRUE TRUE TRUE ...\n",
      "  .. ..$ organism_ontology_term_id                      : chr [1:15416] \"NCBITaxon:9606\" \"NCBITaxon:9606\" \"NCBITaxon:9606\" \"NCBITaxon:9606\" ...\n",
      "  .. ..$ cell_type                                      : chr [1:15416] \"double negative thymocyte\" \"double negative thymocyte\" \"double negative thymocyte\" \"double negative thymocyte\" ...\n",
      "  .. ..$ assay                                          : chr [1:15416] \"10x 3' v3\" \"10x 3' v3\" \"10x 3' v3\" \"10x 3' v3\" ...\n",
      "  .. ..$ disease                                        : chr [1:15416] \"COVID-19\" \"COVID-19\" \"COVID-19\" \"COVID-19\" ...\n",
      "  .. ..$ organism                                       : chr [1:15416] \"Homo sapiens\" \"Homo sapiens\" \"Homo sapiens\" \"Homo sapiens\" ...\n",
      "  .. ..$ sex                                            : chr [1:15416] \"male\" \"male\" \"male\" \"male\" ...\n",
      "  .. ..$ tissue                                         : chr [1:15416] \"blood\" \"blood\" \"blood\" \"blood\" ...\n",
      "  .. ..$ ethnicity                                      : chr [1:15416] \"unknown\" \"unknown\" \"unknown\" \"unknown\" ...\n",
      "  .. ..$ development_stage                              : chr [1:15416] \"seventh decade human stage\" \"eighth decade human stage\" \"seventh decade human stage\" \"seventh decade human stage\" ...\n",
      "  .. ..$ batch_id                                       : chr [1:15416] \"10_1016_j_cell_2020_08_001\" \"10_1016_j_cell_2020_08_001\" \"10_1016_j_cell_2020_08_001\" \"10_1016_j_cell_2020_08_001\" ...\n",
      "  .. ..$ celltype                                       : chr [1:15416] NA NA NA NA ...\n",
      "  .. ..$ majorType                                      : chr [1:15416] NA NA NA NA ...\n",
      "  .. ..$ City                                           : chr [1:15416] NA NA NA NA ...\n",
      "  .. ..$ sampleID                                       : chr [1:15416] NA NA NA NA ...\n",
      "  .. ..$ PatientID                                      : chr [1:15416] NA NA NA NA ...\n",
      "  .. ..$ Sample.type                                    : chr [1:15416] NA NA NA NA ...\n",
      "  .. ..$ CoVID.19.severity                              : chr [1:15416] NA NA NA NA ...\n",
      "  .. ..$ Sample.time                                    : chr [1:15416] NA NA NA NA ...\n",
      "  .. ..$ Sampling.day..Days.after.symptom.onset.        : chr [1:15416] NA NA NA NA ...\n",
      "  .. ..$ BCR.single.cell.sequencing                     : chr [1:15416] NA NA NA NA ...\n",
      "  .. ..$ TCR.single.cell.sequencing                     : chr [1:15416] NA NA NA NA ...\n",
      "  .. ..$ Outcome                                        : chr [1:15416] NA NA NA NA ...\n",
      "  .. ..$ Comorbidities                                  : chr [1:15416] NA NA NA NA ...\n",
      "  .. ..$ COVID.19.related.medication.and.anti.microbials: chr [1:15416] NA NA NA NA ...\n",
      "  .. ..$ Leukocytes..G.over.L.                          : chr [1:15416] NA NA NA NA ...\n",
      "  .. ..$ Neutrophils..G.over.L.                         : chr [1:15416] NA NA NA NA ...\n",
      "  .. ..$ Lymphocytes..G.over.L.                         : chr [1:15416] NA NA NA NA ...\n",
      "  .. ..$ Unpublished                                    : chr [1:15416] NA NA NA NA ...\n",
      "  .. ..$ author_cell_type                               : chr [1:15416] NA NA NA NA ...\n",
      "  .. ..$ days_since_hospitalized                        : chr [1:15416] NA NA NA NA ...\n",
      "  .. ..$ donor                                          : chr [1:15416] NA NA NA NA ...\n",
      "  .. ..$ severity                                       : chr [1:15416] NA NA NA NA ...\n",
      "  .. ..$ dsm_severity_score                             : chr [1:15416] NA NA NA NA ...\n",
      "  .. ..$ ever_admitted_to_icu                           : chr [1:15416] NA NA NA NA ...\n",
      "  .. ..$ days_since_onset                               : chr [1:15416] NA NA NA NA ...\n",
      "  .. ..$ timepoint                                      : chr [1:15416] NA NA NA NA ...\n",
      "  .. ..$ dsm_severity_score_group                       : chr [1:15416] NA NA NA NA ...\n",
      "  .. ..$ outcome                                        : chr [1:15416] NA NA NA NA ...\n",
      "  .. ..$ material_type                                  : chr [1:15416] NA NA NA NA ...\n",
      "  .. ..$ Source                                         : chr [1:15416] NA NA NA NA ...\n",
      "  .. ..$ GEX_region                                     : chr [1:15416] NA NA NA NA ...\n",
      "  .. ..$ cluster                                        : chr [1:15416] NA NA NA NA ...\n",
      "  .. ..$ cluster_source                                 : chr [1:15416] NA NA NA NA ...\n",
      "  .. ..$ minor_subset                                   : chr [1:15416] NA NA NA NA ...\n",
      "  .. ..$ minor_subset_source                            : chr [1:15416] NA NA NA NA ...\n",
      "  .. ..$ major_subset                                   : chr [1:15416] NA NA NA NA ...\n",
      "  .. ..$ major_subset_source                            : chr [1:15416] NA NA NA NA ...\n",
      "  .. ..$ cell_type_source                               : chr [1:15416] NA NA NA NA ...\n",
      "  .. ..$ COMBAT_ID                                      : chr [1:15416] NA NA NA NA ...\n",
      "  .. ..$ scRNASeq_sample_ID                             : chr [1:15416] NA NA NA NA ...\n",
      "  .. ..$ Age                                            : num [1:15416] NA NA NA NA NA NA NA NA NA NA ...\n",
      "  .. ..$ Hospitalstay                                   : num [1:15416] NA NA NA NA NA NA NA NA NA NA ...\n",
      "  .. ..$ TimeSinceOnset                                 : num [1:15416] NA NA NA NA NA NA NA NA NA NA ...\n",
      "  .. ..$ QC_ngenes                                      : num [1:15416] NA NA NA NA NA NA NA NA NA NA ...\n",
      "  .. ..$ QC_total_UMI                                   : num [1:15416] NA NA NA NA NA NA NA NA NA NA ...\n",
      "  .. ..$ QC_pct_mitochondrial                           : num [1:15416] NA NA NA NA NA NA NA NA NA NA ...\n",
      "  .. ..$ QC_scrub_doublet_scores                        : num [1:15416] NA NA NA NA NA NA NA NA NA NA ...\n",
      "  .. ..$ TCR_clone_count                                : num [1:15416] NA NA NA NA NA NA NA NA NA NA ...\n",
      "  .. ..$ TCR_clone_proportion                           : num [1:15416] NA NA NA NA NA NA NA NA NA NA ...\n",
      "  .. ..$ BCR_total_mut_HC                               : num [1:15416] NA NA NA NA NA NA NA NA NA NA ...\n",
      "  .. ..$ BCR_clonal_abundance_HC                        : num [1:15416] NA NA NA NA NA NA NA NA NA NA ...\n",
      "  .. ..$ BCR_total_mut_LC                               : num [1:15416] NA NA NA NA NA NA NA NA NA NA ...\n",
      "  .. ..$ cell_type_original                             : chr [1:15416] NA NA NA NA ...\n",
      "  .. ..$ donor_id                                       : chr [1:15416] NA NA NA NA ...\n",
      "  .. ..$ days_post_intubation                           : chr [1:15416] NA NA NA NA ...\n",
      "  .. ..$ Sample_geo_accession                           : chr [1:15416] NA NA NA NA ...\n",
      "  .. ..$ barcodes                                       : chr [1:15416] NA NA NA NA ...\n",
      "  .. ..$ Donor                                          : chr [1:15416] NA NA NA NA ...\n",
      "  .. ..$ Time                                           : num [1:15416] NA NA NA NA NA NA NA NA NA NA ...\n",
      "  .. ..$ author_ethnicity                               : chr [1:15416] NA NA NA NA ...\n",
      "  .. ..$ Smoking.History                                : chr [1:15416] NA NA NA NA ...\n",
      "  .. ..$ Duration.of.SLE.yrs.                           : num [1:15416] NA NA NA NA NA NA NA NA NA NA ...\n",
      "  .. .. [list output truncated]\n",
      "  ..@ active.assay: chr \"RNA\"\n",
      "  ..@ active.ident: Factor w/ 76 levels \"2\",\"3\",\"4\",\"5\",..: 76 76 76 76 76 76 76 76 76 76 ...\n",
      "  .. ..- attr(*, \"names\")= chr [1:15416] \"10_1016_j_cell_2020_08_001_Schulte-Schrepping-11295\" \"10_1016_j_cell_2020_08_001_Schulte-Schrepping-12964\" \"10_1016_j_cell_2020_08_001_Schulte-Schrepping-13804\" \"10_1016_j_cell_2020_08_001_Schulte-Schrepping-14022\" ...\n",
      "  ..@ graphs      : list()\n",
      "  ..@ neighbors   : list()\n",
      "  ..@ reductions  : list()\n",
      "  ..@ images      : list()\n",
      "  ..@ project.name: chr \"SeuratProject\"\n",
      "  ..@ misc        : list()\n",
      "  ..@ version     :Classes 'package_version', 'numeric_version'  hidden list of 1\n",
      "  .. ..$ : int [1:3] 4 0 4\n",
      "  ..@ commands    : list()\n",
      "  ..@ tools       : list()\n"
     ]
    }
   ],
   "source": [
    "str(sce)"
   ]
  },
  {
   "cell_type": "code",
   "execution_count": 21,
   "id": "73d61508",
   "metadata": {},
   "outputs": [],
   "source": [
    "# names(sce@meta.data)"
   ]
  },
  {
   "cell_type": "code",
   "execution_count": 42,
   "id": "d6c9e155",
   "metadata": {
    "scrolled": true
   },
   "outputs": [
    {
     "data": {
      "text/plain": [
       "\n",
       "            effector CD4-positive, alpha-beta T cell \n",
       "                                                   1 \n",
       "           IgG-negative class switched memory B cell \n",
       "                                                   1 \n",
       "                               intermediate monocyte \n",
       "                                                   1 \n",
       "          myeloid lineage restricted progenitor cell \n",
       "                                                   1 \n",
       "                              non-classical monocyte \n",
       "                                                   1 \n",
       "                           transitional stage B cell \n",
       "                                                   1 \n",
       "                                         animal cell \n",
       "                                                   2 \n",
       "                                         granulocyte \n",
       "                                                   2 \n",
       "                professional antigen presenting cell \n",
       "                                                   2 \n",
       "  CD16-positive, CD56-dim natural killer cell, human \n",
       "                                                   3 \n",
       "                            memory regulatory T cell \n",
       "                                                   3 \n",
       "                                        naive B cell \n",
       "                                                   3 \n",
       "                                         plasma cell \n",
       "                                                   3 \n",
       "                                         erythrocyte \n",
       "                                                   4 \n",
       "                                       megakaryocyte \n",
       "                                                   4 \n",
       "                  CD4-positive, alpha-beta thymocyte \n",
       "                                                   7 \n",
       "           CD8-positive, alpha-beta cytotoxic T cell \n",
       "                                                   7 \n",
       "                  CD8-positive, alpha-beta thymocyte \n",
       "                                                   7 \n",
       "    activated CD4-positive, alpha-beta T cell, human \n",
       "                                                   8 \n",
       "                                       memory T cell \n",
       "                                                   8 \n",
       "                                    T-helper 22 cell \n",
       "                                                   9 \n",
       "                                        naive T cell \n",
       "                                                  11 \n",
       "                                            platelet \n",
       "                                                  11 \n",
       "                                  classical monocyte \n",
       "                                                  12 \n",
       "               double-positive, alpha-beta thymocyte \n",
       "                                                  12 \n",
       "                            T follicular helper cell \n",
       "                                                  15 \n",
       "                                 natural killer cell \n",
       "                                                  16 \n",
       "                                         native cell \n",
       "                                                  19 \n",
       "                                  gamma-delta T cell \n",
       "                                                  28 \n",
       "                                              B cell \n",
       "                                                  45 \n",
       "      central memory CD8-positive, alpha-beta T cell \n",
       "                                                  51 \n",
       "            effector CD8-positive, alpha-beta T cell \n",
       "                                                  52 \n",
       "                                              T cell \n",
       "                                                  56 \n",
       "                                          blood cell \n",
       "                                                  58 \n",
       "                                    mature NK T cell \n",
       "                                                  71 \n",
       "     effector memory CD8-positive, alpha-beta T cell \n",
       "                                                  86 \n",
       "              CD8-positive, alpha-beta memory T cell \n",
       "                                                 114 \n",
       "                            mucosal invariant T cell \n",
       "                                                 128 \n",
       "      central memory CD4-positive, alpha-beta T cell \n",
       "                                                 136 \n",
       "                                   regulatory T cell \n",
       "                                                 183 \n",
       "     effector memory CD4-positive, alpha-beta T cell \n",
       "                                                 229 \n",
       "                            mature alpha-beta T cell \n",
       "                                                 417 \n",
       "naive thymus-derived CD8-positive, alpha-beta T cell \n",
       "                                                 469 \n",
       "                          CD4-positive helper T cell \n",
       "                                                 509 \n",
       "                   double negative T regulatory cell \n",
       "                                                 566 \n",
       "naive thymus-derived CD4-positive, alpha-beta T cell \n",
       "                                                 699 \n",
       "                                          lymphocyte \n",
       "                                                1208 \n",
       "              CD4-positive, alpha-beta memory T cell \n",
       "                                                1347 \n",
       "                     CD4-positive, alpha-beta T cell \n",
       "                                                1471 \n",
       "                           double negative thymocyte \n",
       "                                                1861 \n",
       "                   peripheral blood mononuclear cell \n",
       "                                                2436 \n",
       "                     CD8-positive, alpha-beta T cell \n",
       "                                                3022 "
      ]
     },
     "metadata": {},
     "output_type": "display_data"
    }
   ],
   "source": [
    "sort(table(sce@meta.data$cell_type), descending=T)"
   ]
  },
  {
   "cell_type": "code",
   "execution_count": 39,
   "id": "1bd94176",
   "metadata": {},
   "outputs": [
    {
     "data": {
      "text/plain": [
       "< table of extent 0 >"
      ]
     },
     "metadata": {},
     "output_type": "display_data"
    }
   ],
   "source": [
    "table(sce@meta.data$predicted.l2)"
   ]
  },
  {
   "cell_type": "code",
   "execution_count": 47,
   "id": "21a82802",
   "metadata": {},
   "outputs": [
    {
     "data": {
      "image/png": "[encoded data removed]",
      "text/plain": [
       "plot without title"
      ]
     },
     "metadata": {
      "image/png": {
       "height": 300,
       "width": 900
      }
     },
     "output_type": "display_data"
    }
   ],
   "source": [
    "options(repr.plot.width = 15, repr.plot.height = 5) \n",
    "barplot(table(sce@meta.data$batch_id))"
   ]
  },
  {
   "cell_type": "code",
   "execution_count": 46,
   "id": "c5f6342c",
   "metadata": {},
   "outputs": [
    {
     "data": {
      "text/plain": [
       "\n",
       "                    COVID-19                    influenza \n",
       "                        5028                           42 \n",
       "                      normal   respiratory system disease \n",
       "                        7454                            5 \n",
       "systemic lupus erythematosus \n",
       "                        2887 "
      ]
     },
     "metadata": {},
     "output_type": "display_data"
    }
   ],
   "source": [
    "table(sce@meta.data$disease)"
   ]
  },
  {
   "cell_type": "code",
   "execution_count": 45,
   "id": "3382bdc9",
   "metadata": {},
   "outputs": [
    {
     "data": {
      "image/png": "[encoded data removed]",
      "text/plain": [
       "plot without title"
      ]
     },
     "metadata": {
      "image/png": {
       "height": 480,
       "width": 600
      }
     },
     "output_type": "display_data"
    }
   ],
   "source": [
    "barplot(table(sce@meta.data$disease))"
   ]
  },
  {
   "cell_type": "code",
   "execution_count": 36,
   "id": "5e1c5a76",
   "metadata": {},
   "outputs": [
    {
     "data": {
      "image/png": "[encoded data removed]",
      "text/plain": [
       "plot without title"
      ]
     },
     "metadata": {
      "image/png": {
       "height": 480,
       "width": 600
      }
     },
     "output_type": "display_data"
    }
   ],
   "source": [
    "barplot(table(sce@meta.data$age))"
   ]
  },
  {
   "cell_type": "code",
   "execution_count": 30,
   "id": "22c5e4f1",
   "metadata": {},
   "outputs": [
    {
     "data": {
      "text/plain": [
       "\n",
       " female    male unknown \n",
       "   8504    6247     665 "
      ]
     },
     "metadata": {},
     "output_type": "display_data"
    }
   ],
   "source": [
    "table(sce@meta.data$sex)"
   ]
  },
  {
   "cell_type": "code",
   "execution_count": null,
   "id": "b20851fe",
   "metadata": {},
   "outputs": [],
   "source": []
  }
 ],
 "metadata": {
  "kernelspec": {
   "display_name": "Single Cell Notebook (R 4.1.2)",
   "language": "R",
   "name": "singlecell"
  },
  "language_info": {
   "codemirror_mode": "r",
   "file_extension": ".r",
   "mimetype": "text/x-r-source",
   "name": "R",
   "pygments_lexer": "r",
   "version": "4.1.2"
  }
 },
 "nbformat": 4,
 "nbformat_minor": 5
}
