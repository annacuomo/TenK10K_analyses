{
 "cells": [
  {
   "cell_type": "code",
   "execution_count": 4,
   "id": "77cb53db",
   "metadata": {},
   "outputs": [],
   "source": [
    "import pandas as pd"
   ]
  },
  {
   "cell_type": "code",
   "execution_count": 1,
   "id": "496ad8c3",
   "metadata": {},
   "outputs": [
    {
     "data": {
      "text/plain": [
       "<module 'cellregmap' from '/share/ScratchGeneral/anncuo/jupyter/conda_notebooks/envs/cellregmap_notebook/lib/python3.7/site-packages/cellregmap/__init__.py'>"
      ]
     },
     "execution_count": 1,
     "metadata": {},
     "output_type": "execute_result"
    }
   ],
   "source": [
    "import cellregmap\n",
    "cellregmap "
   ]
  },
  {
   "cell_type": "code",
   "execution_count": 2,
   "id": "7306e11f",
   "metadata": {},
   "outputs": [],
   "source": [
    "from cellregmap import run_association, run_interaction"
   ]
  },
  {
   "cell_type": "code",
   "execution_count": null,
   "id": "5538d6a7",
   "metadata": {},
   "outputs": [],
   "source": [
    "# TODO: create an input files folder\n",
    "# add:\n",
    "# - a sample mapping file (cells to donors)\n",
    "# - a phenotype file (genes x cells)"
   ]
  },
  {
   "cell_type": "code",
   "execution_count": null,
   "id": "a37d3684",
   "metadata": {},
   "outputs": [],
   "source": [
    "# TODO: figure out genotypes"
   ]
  },
  {
   "cell_type": "code",
   "execution_count": null,
   "id": "f834575f",
   "metadata": {},
   "outputs": [],
   "source": [
    "## sample mapping file\n",
    "## this file will map cells to donors \n",
    "## it will also only include donors we have single-cell data for (a subset of all of HipSci donors)\n",
    "sample_mapping_file = input_files_dir+\"sample_mapping_file.csv\"\n",
    "sample_mapping = pd.read_csv(sample_mapping_file, dtype={\"genotype_individual_id\": str, \"phenotype_sample_id\": str})"
   ]
  }
 ],
 "metadata": {
  "kernelspec": {
   "display_name": "Python (Jupyter - cellregmap)",
   "language": "python",
   "name": "cellregmap_notebook"
  },
  "language_info": {
   "codemirror_mode": {
    "name": "ipython",
    "version": 3
   },
   "file_extension": ".py",
   "mimetype": "text/x-python",
   "name": "python",
   "nbconvert_exporter": "python",
   "pygments_lexer": "ipython3",
   "version": "3.7.11"
  }
 },
 "nbformat": 4,
 "nbformat_minor": 5
}
