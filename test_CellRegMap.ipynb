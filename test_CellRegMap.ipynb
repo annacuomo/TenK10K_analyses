{
 "cells": [
  {
   "cell_type": "code",
   "execution_count": 4,
   "id": "77cb53db",
   "metadata": {},
   "outputs": [],
   "source": [
    "import pandas as pd"
   ]
  },
  {
   "cell_type": "code",
   "execution_count": 5,
   "id": "496ad8c3",
   "metadata": {},
   "outputs": [
    {
     "data": {
      "text/plain": [
       "<module 'cellregmap' from '/share/ScratchGeneral/anncuo/jupyter/conda_notebooks/envs/cellregmap_notebook/lib/python3.7/site-packages/cellregmap/__init__.py'>"
      ]
     },
     "execution_count": 5,
     "metadata": {},
     "output_type": "execute_result"
    }
   ],
   "source": [
    "import cellregmap\n",
    "cellregmap "
   ]
  },
  {
   "cell_type": "code",
   "execution_count": 6,
   "id": "7306e11f",
   "metadata": {},
   "outputs": [],
   "source": [
    "from cellregmap import run_association, run_interaction"
   ]
  },
  {
   "cell_type": "code",
   "execution_count": 7,
   "id": "5538d6a7",
   "metadata": {},
   "outputs": [],
   "source": [
    "# TODO: create an input files folder\n",
    "# add:\n",
    "# - a sample mapping file (cells to donors)\n",
    "# - a phenotype file (genes x cells)"
   ]
  },
  {
   "cell_type": "code",
   "execution_count": 8,
   "id": "35d90e42",
   "metadata": {},
   "outputs": [],
   "source": [
    "input_files_dir = \"/share/ScratchGeneral/anncuo/OneK1K/input_files_CellRegMap/\""
   ]
  },
  {
   "cell_type": "code",
   "execution_count": 9,
   "id": "a37d3684",
   "metadata": {},
   "outputs": [],
   "source": [
    "# TODO: figure out genotypes"
   ]
  },
  {
   "cell_type": "code",
   "execution_count": 13,
   "id": "f834575f",
   "metadata": {},
   "outputs": [],
   "source": [
    "## sample mapping file\n",
    "## this file will map cells to donors \n",
    "## it will also only include donors we have single-cell data for (a subset of all of HipSci donors)\n",
    "sample_mapping_file = input_files_dir+\"smf.csv\"\n",
    "sample_mapping = pd.read_csv(sample_mapping_file, dtype={\"genotype_individual_id\": str, \"phenotype_sample_id\": str}, index_col=0)"
   ]
  },
  {
   "cell_type": "code",
   "execution_count": 14,
   "id": "a134b7c6",
   "metadata": {},
   "outputs": [
    {
     "data": {
      "text/html": [
       "<div>\n",
       "<style scoped>\n",
       "    .dataframe tbody tr th:only-of-type {\n",
       "        vertical-align: middle;\n",
       "    }\n",
       "\n",
       "    .dataframe tbody tr th {\n",
       "        vertical-align: top;\n",
       "    }\n",
       "\n",
       "    .dataframe thead th {\n",
       "        text-align: right;\n",
       "    }\n",
       "</style>\n",
       "<table border=\"1\" class=\"dataframe\">\n",
       "  <thead>\n",
       "    <tr style=\"text-align: right;\">\n",
       "      <th></th>\n",
       "      <th>phenotype_sample_id</th>\n",
       "      <th>genotype_individual_id</th>\n",
       "    </tr>\n",
       "  </thead>\n",
       "  <tbody>\n",
       "    <tr>\n",
       "      <th>1</th>\n",
       "      <td>AAACCTGAGAATGTTG-1</td>\n",
       "      <td>691_692</td>\n",
       "    </tr>\n",
       "    <tr>\n",
       "      <th>2</th>\n",
       "      <td>AAACCTGAGAGAACAG-1</td>\n",
       "      <td>693_694</td>\n",
       "    </tr>\n",
       "    <tr>\n",
       "      <th>3</th>\n",
       "      <td>AAACCTGAGCATGGCA-1</td>\n",
       "      <td>688_689</td>\n",
       "    </tr>\n",
       "    <tr>\n",
       "      <th>4</th>\n",
       "      <td>AAACCTGAGTATTGGA-1</td>\n",
       "      <td>683_684</td>\n",
       "    </tr>\n",
       "    <tr>\n",
       "      <th>5</th>\n",
       "      <td>AAACCTGAGTGTCCCG-1</td>\n",
       "      <td>684_685</td>\n",
       "    </tr>\n",
       "  </tbody>\n",
       "</table>\n",
       "</div>"
      ],
      "text/plain": [
       "  phenotype_sample_id genotype_individual_id\n",
       "1  AAACCTGAGAATGTTG-1                691_692\n",
       "2  AAACCTGAGAGAACAG-1                693_694\n",
       "3  AAACCTGAGCATGGCA-1                688_689\n",
       "4  AAACCTGAGTATTGGA-1                683_684\n",
       "5  AAACCTGAGTGTCCCG-1                684_685"
      ]
     },
     "execution_count": 14,
     "metadata": {},
     "output_type": "execute_result"
    }
   ],
   "source": [
    "sample_mapping.head()"
   ]
  },
  {
   "cell_type": "code",
   "execution_count": null,
   "id": "ccea80e6",
   "metadata": {},
   "outputs": [],
   "source": []
  }
 ],
 "metadata": {
  "kernelspec": {
   "display_name": "Python (Jupyter - cellregmap)",
   "language": "python",
   "name": "cellregmap_notebook"
  },
  "language_info": {
   "codemirror_mode": {
    "name": "ipython",
    "version": 3
   },
   "file_extension": ".py",
   "mimetype": "text/x-python",
   "name": "python",
   "nbconvert_exporter": "python",
   "pygments_lexer": "ipython3",
   "version": "3.7.11"
  }
 },
 "nbformat": 4,
 "nbformat_minor": 5
}
