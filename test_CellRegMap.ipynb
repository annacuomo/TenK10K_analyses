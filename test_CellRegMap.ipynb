{
 "cells": [
  {
   "cell_type": "code",
   "execution_count": 1,
   "id": "77cb53db",
   "metadata": {},
   "outputs": [
    {
     "name": "stderr",
     "output_type": "stream",
     "text": [
      "Matplotlib created a temporary config/cache directory at /tmp/matplotlib-8m31qh9w because the default path (/home/jovyan/.cache/matplotlib) is not a writable directory; it is highly recommended to set the MPLCONFIGDIR environment variable to a writable directory, in particular to speed up the import of Matplotlib and to better support multiprocessing.\n"
     ]
    }
   ],
   "source": [
    "import scanpy as sc\n",
    "import pandas as pd\n",
    "import xarray as xr\n",
    "from numpy import ones\n",
    "from pandas_plink import read_plink1_bin\n",
    "from numpy.linalg import cholesky\n",
    "import matplotlib.pyplot as plt\n",
    "import time\n",
    "from limix.qc import quantile_gaussianize"
   ]
  },
  {
   "cell_type": "code",
   "execution_count": 2,
   "id": "496ad8c3",
   "metadata": {},
   "outputs": [
    {
     "data": {
      "text/plain": [
       "<module 'cellregmap' from '/share/ScratchGeneral/anncuo/jupyter/conda_notebooks/envs/cellregmap_notebook/lib/python3.7/site-packages/cellregmap/__init__.py'>"
      ]
     },
     "execution_count": 2,
     "metadata": {},
     "output_type": "execute_result"
    }
   ],
   "source": [
    "import cellregmap\n",
    "cellregmap "
   ]
  },
  {
   "cell_type": "code",
   "execution_count": 3,
   "id": "7306e11f",
   "metadata": {},
   "outputs": [],
   "source": [
    "from cellregmap import run_association, run_interaction"
   ]
  },
  {
   "cell_type": "code",
   "execution_count": 4,
   "id": "ec6289c0",
   "metadata": {},
   "outputs": [],
   "source": [
    "chrom = 22 "
   ]
  },
  {
   "cell_type": "code",
   "execution_count": 5,
   "id": "35d90e42",
   "metadata": {},
   "outputs": [],
   "source": [
    "mydir = \"/share/ScratchGeneral/anncuo/OneK1K/\"\n",
    "input_files_dir = \"/share/ScratchGeneral/anncuo/OneK1K/input_files_CellRegMap/\""
   ]
  },
  {
   "cell_type": "code",
   "execution_count": 6,
   "id": "f834575f",
   "metadata": {},
   "outputs": [],
   "source": [
    "## sample mapping file\n",
    "## this file will map cells to donors \n",
    "## it will also only include donors we have single-cell data for (a subset of all of HipSci donors)\n",
    "sample_mapping_file = input_files_dir+\"smf.csv\"\n",
    "sample_mapping = pd.read_csv(sample_mapping_file, dtype={\"individual_long\": str, \"genotype_individual_id\": str, \"phenotype_sample_id\": str}, index_col=0)"
   ]
  },
  {
   "cell_type": "code",
   "execution_count": 7,
   "id": "a134b7c6",
   "metadata": {},
   "outputs": [
    {
     "data": {
      "text/html": [
       "<div>\n",
       "<style scoped>\n",
       "    .dataframe tbody tr th:only-of-type {\n",
       "        vertical-align: middle;\n",
       "    }\n",
       "\n",
       "    .dataframe tbody tr th {\n",
       "        vertical-align: top;\n",
       "    }\n",
       "\n",
       "    .dataframe thead th {\n",
       "        text-align: right;\n",
       "    }\n",
       "</style>\n",
       "<table border=\"1\" class=\"dataframe\">\n",
       "  <thead>\n",
       "    <tr style=\"text-align: right;\">\n",
       "      <th></th>\n",
       "      <th>phenotype_sample_id</th>\n",
       "      <th>genotype_individual_id</th>\n",
       "      <th>individual_long</th>\n",
       "    </tr>\n",
       "  </thead>\n",
       "  <tbody>\n",
       "    <tr>\n",
       "      <th>1</th>\n",
       "      <td>AAACCTGAGAATGTTG-1</td>\n",
       "      <td>692</td>\n",
       "      <td>691_692</td>\n",
       "    </tr>\n",
       "    <tr>\n",
       "      <th>2</th>\n",
       "      <td>AAACCTGAGAGAACAG-1</td>\n",
       "      <td>694</td>\n",
       "      <td>693_694</td>\n",
       "    </tr>\n",
       "    <tr>\n",
       "      <th>3</th>\n",
       "      <td>AAACCTGAGCATGGCA-1</td>\n",
       "      <td>689</td>\n",
       "      <td>688_689</td>\n",
       "    </tr>\n",
       "    <tr>\n",
       "      <th>4</th>\n",
       "      <td>AAACCTGAGTATTGGA-1</td>\n",
       "      <td>684</td>\n",
       "      <td>683_684</td>\n",
       "    </tr>\n",
       "    <tr>\n",
       "      <th>5</th>\n",
       "      <td>AAACCTGAGTGTCCCG-1</td>\n",
       "      <td>685</td>\n",
       "      <td>684_685</td>\n",
       "    </tr>\n",
       "  </tbody>\n",
       "</table>\n",
       "</div>"
      ],
      "text/plain": [
       "  phenotype_sample_id genotype_individual_id individual_long\n",
       "1  AAACCTGAGAATGTTG-1                    692         691_692\n",
       "2  AAACCTGAGAGAACAG-1                    694         693_694\n",
       "3  AAACCTGAGCATGGCA-1                    689         688_689\n",
       "4  AAACCTGAGTATTGGA-1                    684         683_684\n",
       "5  AAACCTGAGTGTCCCG-1                    685         684_685"
      ]
     },
     "execution_count": 7,
     "metadata": {},
     "output_type": "execute_result"
    }
   ],
   "source": [
    "sample_mapping.head()"
   ]
  },
  {
   "cell_type": "code",
   "execution_count": 8,
   "id": "37b06f53",
   "metadata": {},
   "outputs": [
    {
     "name": "stdout",
     "output_type": "stream",
     "text": [
      "Number of unique donors: 981\n"
     ]
    }
   ],
   "source": [
    "## extract unique individuals\n",
    "donors0 = sample_mapping[\"genotype_individual_id\"].unique()\n",
    "donors0.sort()\n",
    "print(\"Number of unique donors: {}\".format(len(donors0)))"
   ]
  },
  {
   "cell_type": "code",
   "execution_count": 9,
   "id": "7fdd2382",
   "metadata": {},
   "outputs": [],
   "source": [
    "#### kinship file"
   ]
  },
  {
   "cell_type": "code",
   "execution_count": 10,
   "id": "85383c71",
   "metadata": {},
   "outputs": [
    {
     "name": "stderr",
     "output_type": "stream",
     "text": [
      "/share/ScratchGeneral/anncuo/jupyter/conda_notebooks/envs/cellregmap_notebook/lib/python3.7/site-packages/IPython/core/interactiveshell.py:3457: DtypeWarning: Columns (0) have mixed types.Specify dtype option on import or set low_memory=False.\n",
      "  exec(code_obj, self.user_global_ns, self.user_ns)\n"
     ]
    }
   ],
   "source": [
    "## read in GRM (genotype relationship matrix; kinship matrix)\n",
    "kinship_file=\"/share/ScratchGeneral/anncuo/OneK1K/input_files_CellRegMap/grm_wide.csv\"\n",
    "K = pd.read_csv(kinship_file, index_col=0)\n",
    "K.index = K.index.astype('str')\n",
    "assert all(K.columns == K.index) #symmetric matrix, donors x donors"
   ]
  },
  {
   "cell_type": "code",
   "execution_count": 11,
   "id": "fefe209e",
   "metadata": {},
   "outputs": [
    {
     "name": "stdout",
     "output_type": "stream",
     "text": [
      "Number of donors after kinship intersection: 981\n"
     ]
    }
   ],
   "source": [
    "K = xr.DataArray(K.values, dims=[\"sample_0\", \"sample_1\"], coords={\"sample_0\": K.columns, \"sample_1\": K.index})\n",
    "K = K.sortby(\"sample_0\").sortby(\"sample_1\")\n",
    "donors = sorted(set(list(K.sample_0.values)).intersection(donors0))\n",
    "print(\"Number of donors after kinship intersection: {}\".format(len(donors)))"
   ]
  },
  {
   "cell_type": "code",
   "execution_count": 12,
   "id": "7edcda4c",
   "metadata": {},
   "outputs": [],
   "source": [
    "## subset to relevant donors\n",
    "K = K.sel(sample_0=donors, sample_1=donors)\n",
    "assert all(K.sample_0 == donors)\n",
    "assert all(K.sample_1 == donors)"
   ]
  },
  {
   "cell_type": "code",
   "execution_count": 13,
   "id": "4dca6ebb",
   "metadata": {},
   "outputs": [
    {
     "data": {
      "text/plain": [
       "<matplotlib.image.AxesImage at 0x2b2b103c8ad0>"
      ]
     },
     "execution_count": 13,
     "metadata": {},
     "output_type": "execute_result"
    },
    {
     "data": {
      "image/png": "[encoded data removed]",
      "text/plain": [
       "<Figure size 288x288 with 1 Axes>"
      ]
     },
     "metadata": {
      "needs_background": "light"
     },
     "output_type": "display_data"
    }
   ],
   "source": [
    "plt.matshow(K)"
   ]
  },
  {
   "cell_type": "code",
   "execution_count": 14,
   "id": "8692426c",
   "metadata": {},
   "outputs": [],
   "source": [
    "## and decompose such as K = hK @ hK.T (using Cholesky decomposition)\n",
    "hK = cholesky(K.values)\n",
    "hK = xr.DataArray(hK, dims=[\"sample\", \"col\"], coords={\"sample\": K.sample_0.values})\n",
    "assert all(hK.sample.values == K.sample_0.values)"
   ]
  },
  {
   "cell_type": "code",
   "execution_count": 15,
   "id": "f5d3abc7",
   "metadata": {},
   "outputs": [
    {
     "name": "stdout",
     "output_type": "stream",
     "text": [
      "Sample mapping number of rows BEFORE intersection: 1267768\n",
      "Sample mapping number of rows AFTER intersection: 1267768\n"
     ]
    }
   ],
   "source": [
    "del K\n",
    "print(\"Sample mapping number of rows BEFORE intersection: {}\".format(sample_mapping.shape[0]))\n",
    "## subsample sample mapping file to donors in the kinship matrix\n",
    "sample_mapping = sample_mapping[sample_mapping[\"genotype_individual_id\"].isin(donors)]\n",
    "print(\"Sample mapping number of rows AFTER intersection: {}\".format(sample_mapping.shape[0]))"
   ]
  },
  {
   "cell_type": "code",
   "execution_count": 16,
   "id": "08ffca8c",
   "metadata": {},
   "outputs": [],
   "source": [
    "## use sel from xarray to expand hK (using the sample mapping file)\n",
    "hK_expanded = hK.sel(sample=sample_mapping[\"genotype_individual_id\"].values)\n",
    "assert all(hK_expanded.sample.values == sample_mapping[\"genotype_individual_id\"].values)"
   ]
  },
  {
   "cell_type": "code",
   "execution_count": 17,
   "id": "62b1ef54",
   "metadata": {},
   "outputs": [
    {
     "data": {
      "text/plain": [
       "(1267768, 981)"
      ]
     },
     "execution_count": 17,
     "metadata": {},
     "output_type": "execute_result"
    }
   ],
   "source": [
    "hK_expanded.shape"
   ]
  },
  {
   "cell_type": "code",
   "execution_count": null,
   "id": "d6a7d3a7",
   "metadata": {},
   "outputs": [],
   "source": []
  },
  {
   "cell_type": "code",
   "execution_count": 18,
   "id": "32a7ce4a",
   "metadata": {},
   "outputs": [],
   "source": [
    "#### phenotype file"
   ]
  },
  {
   "cell_type": "code",
   "execution_count": 19,
   "id": "7b552346",
   "metadata": {},
   "outputs": [],
   "source": [
    "# open anndata \n",
    "my_file = \"/share/ScratchGeneral/anncuo/OneK1K/expression_objects/sce\"+str(chrom)+\".h5ad\"\n",
    "adata = sc.read(my_file)\n",
    "# sparse to dense\n",
    "mat = adata.raw.X.todense()\n",
    "# make pandas dataframe\n",
    "mat_df = pd.DataFrame(data=mat.T, index=adata.raw.var.index, columns=adata.obs.index)\n",
    "# turn into xr array\n",
    "phenotype = xr.DataArray(mat_df.values, dims=[\"trait\", \"cell\"], coords={\"trait\": mat_df.index.values, \"cell\": mat_df.columns.values})\n",
    "phenotype = phenotype.sel(cell=sample_mapping[\"phenotype_sample_id\"].values)"
   ]
  },
  {
   "cell_type": "code",
   "execution_count": 20,
   "id": "462b884c",
   "metadata": {},
   "outputs": [],
   "source": [
    "del mat\n",
    "del mat_df"
   ]
  },
  {
   "cell_type": "code",
   "execution_count": 21,
   "id": "438ccbc5",
   "metadata": {},
   "outputs": [
    {
     "data": {
      "text/plain": [
       "(600, 1267768)"
      ]
     },
     "execution_count": 21,
     "metadata": {},
     "output_type": "execute_result"
    }
   ],
   "source": [
    "phenotype.shape"
   ]
  },
  {
   "cell_type": "code",
   "execution_count": 22,
   "id": "adf910cb",
   "metadata": {},
   "outputs": [
    {
     "data": {
      "text/html": [
       "<div><svg style=\"position: absolute; width: 0; height: 0; overflow: hidden\">\n",
       "<defs>\n",
       "<symbol id=\"icon-database\" viewBox=\"0 0 32 32\">\n",
       "<path d=\"M16 0c-8.837 0-16 2.239-16 5v4c0 2.761 7.163 5 16 5s16-2.239 16-5v-4c0-2.761-7.163-5-16-5z\"></path>\n",
       "<path d=\"M16 17c-8.837 0-16-2.239-16-5v6c0 2.761 7.163 5 16 5s16-2.239 16-5v-6c0 2.761-7.163 5-16 5z\"></path>\n",
       "<path d=\"M16 26c-8.837 0-16-2.239-16-5v6c0 2.761 7.163 5 16 5s16-2.239 16-5v-6c0 2.761-7.163 5-16 5z\"></path>\n",
       "</symbol>\n",
       "<symbol id=\"icon-file-text2\" viewBox=\"0 0 32 32\">\n",
       "<path d=\"M28.681 7.159c-0.694-0.947-1.662-2.053-2.724-3.116s-2.169-2.030-3.116-2.724c-1.612-1.182-2.393-1.319-2.841-1.319h-15.5c-1.378 0-2.5 1.121-2.5 2.5v27c0 1.378 1.122 2.5 2.5 2.5h23c1.378 0 2.5-1.122 2.5-2.5v-19.5c0-0.448-0.137-1.23-1.319-2.841zM24.543 5.457c0.959 0.959 1.712 1.825 2.268 2.543h-4.811v-4.811c0.718 0.556 1.584 1.309 2.543 2.268zM28 29.5c0 0.271-0.229 0.5-0.5 0.5h-23c-0.271 0-0.5-0.229-0.5-0.5v-27c0-0.271 0.229-0.5 0.5-0.5 0 0 15.499-0 15.5 0v7c0 0.552 0.448 1 1 1h7v19.5z\"></path>\n",
       "<path d=\"M23 26h-14c-0.552 0-1-0.448-1-1s0.448-1 1-1h14c0.552 0 1 0.448 1 1s-0.448 1-1 1z\"></path>\n",
       "<path d=\"M23 22h-14c-0.552 0-1-0.448-1-1s0.448-1 1-1h14c0.552 0 1 0.448 1 1s-0.448 1-1 1z\"></path>\n",
       "<path d=\"M23 18h-14c-0.552 0-1-0.448-1-1s0.448-1 1-1h14c0.552 0 1 0.448 1 1s-0.448 1-1 1z\"></path>\n",
       "</symbol>\n",
       "</defs>\n",
       "</svg>\n",
       "<style>/* CSS stylesheet for displaying xarray objects in jupyterlab.\n",
       " *\n",
       " */\n",
       "\n",
       ":root {\n",
       "  --xr-font-color0: var(--jp-content-font-color0, rgba(0, 0, 0, 1));\n",
       "  --xr-font-color2: var(--jp-content-font-color2, rgba(0, 0, 0, 0.54));\n",
       "  --xr-font-color3: var(--jp-content-font-color3, rgba(0, 0, 0, 0.38));\n",
       "  --xr-border-color: var(--jp-border-color2, #e0e0e0);\n",
       "  --xr-disabled-color: var(--jp-layout-color3, #bdbdbd);\n",
       "  --xr-background-color: var(--jp-layout-color0, white);\n",
       "  --xr-background-color-row-even: var(--jp-layout-color1, white);\n",
       "  --xr-background-color-row-odd: var(--jp-layout-color2, #eeeeee);\n",
       "}\n",
       "\n",
       "html[theme=dark],\n",
       "body.vscode-dark {\n",
       "  --xr-font-color0: rgba(255, 255, 255, 1);\n",
       "  --xr-font-color2: rgba(255, 255, 255, 0.54);\n",
       "  --xr-font-color3: rgba(255, 255, 255, 0.38);\n",
       "  --xr-border-color: #1F1F1F;\n",
       "  --xr-disabled-color: #515151;\n",
       "  --xr-background-color: #111111;\n",
       "  --xr-background-color-row-even: #111111;\n",
       "  --xr-background-color-row-odd: #313131;\n",
       "}\n",
       "\n",
       ".xr-wrap {\n",
       "  display: block !important;\n",
       "  min-width: 300px;\n",
       "  max-width: 700px;\n",
       "}\n",
       "\n",
       ".xr-text-repr-fallback {\n",
       "  /* fallback to plain text repr when CSS is not injected (untrusted notebook) */\n",
       "  display: none;\n",
       "}\n",
       "\n",
       ".xr-header {\n",
       "  padding-top: 6px;\n",
       "  padding-bottom: 6px;\n",
       "  margin-bottom: 4px;\n",
       "  border-bottom: solid 1px var(--xr-border-color);\n",
       "}\n",
       "\n",
       ".xr-header > div,\n",
       ".xr-header > ul {\n",
       "  display: inline;\n",
       "  margin-top: 0;\n",
       "  margin-bottom: 0;\n",
       "}\n",
       "\n",
       ".xr-obj-type,\n",
       ".xr-array-name {\n",
       "  margin-left: 2px;\n",
       "  margin-right: 10px;\n",
       "}\n",
       "\n",
       ".xr-obj-type {\n",
       "  color: var(--xr-font-color2);\n",
       "}\n",
       "\n",
       ".xr-sections {\n",
       "  padding-left: 0 !important;\n",
       "  display: grid;\n",
       "  grid-template-columns: 150px auto auto 1fr 20px 20px;\n",
       "}\n",
       "\n",
       ".xr-section-item {\n",
       "  display: contents;\n",
       "}\n",
       "\n",
       ".xr-section-item input {\n",
       "  display: none;\n",
       "}\n",
       "\n",
       ".xr-section-item input + label {\n",
       "  color: var(--xr-disabled-color);\n",
       "}\n",
       "\n",
       ".xr-section-item input:enabled + label {\n",
       "  cursor: pointer;\n",
       "  color: var(--xr-font-color2);\n",
       "}\n",
       "\n",
       ".xr-section-item input:enabled + label:hover {\n",
       "  color: var(--xr-font-color0);\n",
       "}\n",
       "\n",
       ".xr-section-summary {\n",
       "  grid-column: 1;\n",
       "  color: var(--xr-font-color2);\n",
       "  font-weight: 500;\n",
       "}\n",
       "\n",
       ".xr-section-summary > span {\n",
       "  display: inline-block;\n",
       "  padding-left: 0.5em;\n",
       "}\n",
       "\n",
       ".xr-section-summary-in:disabled + label {\n",
       "  color: var(--xr-font-color2);\n",
       "}\n",
       "\n",
       ".xr-section-summary-in + label:before {\n",
       "  display: inline-block;\n",
       "  content: '►';\n",
       "  font-size: 11px;\n",
       "  width: 15px;\n",
       "  text-align: center;\n",
       "}\n",
       "\n",
       ".xr-section-summary-in:disabled + label:before {\n",
       "  color: var(--xr-disabled-color);\n",
       "}\n",
       "\n",
       ".xr-section-summary-in:checked + label:before {\n",
       "  content: '▼';\n",
       "}\n",
       "\n",
       ".xr-section-summary-in:checked + label > span {\n",
       "  display: none;\n",
       "}\n",
       "\n",
       ".xr-section-summary,\n",
       ".xr-section-inline-details {\n",
       "  padding-top: 4px;\n",
       "  padding-bottom: 4px;\n",
       "}\n",
       "\n",
       ".xr-section-inline-details {\n",
       "  grid-column: 2 / -1;\n",
       "}\n",
       "\n",
       ".xr-section-details {\n",
       "  display: none;\n",
       "  grid-column: 1 / -1;\n",
       "  margin-bottom: 5px;\n",
       "}\n",
       "\n",
       ".xr-section-summary-in:checked ~ .xr-section-details {\n",
       "  display: contents;\n",
       "}\n",
       "\n",
       ".xr-array-wrap {\n",
       "  grid-column: 1 / -1;\n",
       "  display: grid;\n",
       "  grid-template-columns: 20px auto;\n",
       "}\n",
       "\n",
       ".xr-array-wrap > label {\n",
       "  grid-column: 1;\n",
       "  vertical-align: top;\n",
       "}\n",
       "\n",
       ".xr-preview {\n",
       "  color: var(--xr-font-color3);\n",
       "}\n",
       "\n",
       ".xr-array-preview,\n",
       ".xr-array-data {\n",
       "  padding: 0 5px !important;\n",
       "  grid-column: 2;\n",
       "}\n",
       "\n",
       ".xr-array-data,\n",
       ".xr-array-in:checked ~ .xr-array-preview {\n",
       "  display: none;\n",
       "}\n",
       "\n",
       ".xr-array-in:checked ~ .xr-array-data,\n",
       ".xr-array-preview {\n",
       "  display: inline-block;\n",
       "}\n",
       "\n",
       ".xr-dim-list {\n",
       "  display: inline-block !important;\n",
       "  list-style: none;\n",
       "  padding: 0 !important;\n",
       "  margin: 0;\n",
       "}\n",
       "\n",
       ".xr-dim-list li {\n",
       "  display: inline-block;\n",
       "  padding: 0;\n",
       "  margin: 0;\n",
       "}\n",
       "\n",
       ".xr-dim-list:before {\n",
       "  content: '(';\n",
       "}\n",
       "\n",
       ".xr-dim-list:after {\n",
       "  content: ')';\n",
       "}\n",
       "\n",
       ".xr-dim-list li:not(:last-child):after {\n",
       "  content: ',';\n",
       "  padding-right: 5px;\n",
       "}\n",
       "\n",
       ".xr-has-index {\n",
       "  font-weight: bold;\n",
       "}\n",
       "\n",
       ".xr-var-list,\n",
       ".xr-var-item {\n",
       "  display: contents;\n",
       "}\n",
       "\n",
       ".xr-var-item > div,\n",
       ".xr-var-item label,\n",
       ".xr-var-item > .xr-var-name span {\n",
       "  background-color: var(--xr-background-color-row-even);\n",
       "  margin-bottom: 0;\n",
       "}\n",
       "\n",
       ".xr-var-item > .xr-var-name:hover span {\n",
       "  padding-right: 5px;\n",
       "}\n",
       "\n",
       ".xr-var-list > li:nth-child(odd) > div,\n",
       ".xr-var-list > li:nth-child(odd) > label,\n",
       ".xr-var-list > li:nth-child(odd) > .xr-var-name span {\n",
       "  background-color: var(--xr-background-color-row-odd);\n",
       "}\n",
       "\n",
       ".xr-var-name {\n",
       "  grid-column: 1;\n",
       "}\n",
       "\n",
       ".xr-var-dims {\n",
       "  grid-column: 2;\n",
       "}\n",
       "\n",
       ".xr-var-dtype {\n",
       "  grid-column: 3;\n",
       "  text-align: right;\n",
       "  color: var(--xr-font-color2);\n",
       "}\n",
       "\n",
       ".xr-var-preview {\n",
       "  grid-column: 4;\n",
       "}\n",
       "\n",
       ".xr-var-name,\n",
       ".xr-var-dims,\n",
       ".xr-var-dtype,\n",
       ".xr-preview,\n",
       ".xr-attrs dt {\n",
       "  white-space: nowrap;\n",
       "  overflow: hidden;\n",
       "  text-overflow: ellipsis;\n",
       "  padding-right: 10px;\n",
       "}\n",
       "\n",
       ".xr-var-name:hover,\n",
       ".xr-var-dims:hover,\n",
       ".xr-var-dtype:hover,\n",
       ".xr-attrs dt:hover {\n",
       "  overflow: visible;\n",
       "  width: auto;\n",
       "  z-index: 1;\n",
       "}\n",
       "\n",
       ".xr-var-attrs,\n",
       ".xr-var-data {\n",
       "  display: none;\n",
       "  background-color: var(--xr-background-color) !important;\n",
       "  padding-bottom: 5px !important;\n",
       "}\n",
       "\n",
       ".xr-var-attrs-in:checked ~ .xr-var-attrs,\n",
       ".xr-var-data-in:checked ~ .xr-var-data {\n",
       "  display: block;\n",
       "}\n",
       "\n",
       ".xr-var-data > table {\n",
       "  float: right;\n",
       "}\n",
       "\n",
       ".xr-var-name span,\n",
       ".xr-var-data,\n",
       ".xr-attrs {\n",
       "  padding-left: 25px !important;\n",
       "}\n",
       "\n",
       ".xr-attrs,\n",
       ".xr-var-attrs,\n",
       ".xr-var-data {\n",
       "  grid-column: 1 / -1;\n",
       "}\n",
       "\n",
       "dl.xr-attrs {\n",
       "  padding: 0;\n",
       "  margin: 0;\n",
       "  display: grid;\n",
       "  grid-template-columns: 125px auto;\n",
       "}\n",
       "\n",
       ".xr-attrs dt,\n",
       ".xr-attrs dd {\n",
       "  padding: 0;\n",
       "  margin: 0;\n",
       "  float: left;\n",
       "  padding-right: 10px;\n",
       "  width: auto;\n",
       "}\n",
       "\n",
       ".xr-attrs dt {\n",
       "  font-weight: normal;\n",
       "  grid-column: 1;\n",
       "}\n",
       "\n",
       ".xr-attrs dt:hover span {\n",
       "  display: inline-block;\n",
       "  background: var(--xr-background-color);\n",
       "  padding-right: 10px;\n",
       "}\n",
       "\n",
       ".xr-attrs dd {\n",
       "  grid-column: 2;\n",
       "  white-space: pre-wrap;\n",
       "  word-break: break-all;\n",
       "}\n",
       "\n",
       ".xr-icon-database,\n",
       ".xr-icon-file-text2 {\n",
       "  display: inline-block;\n",
       "  vertical-align: middle;\n",
       "  width: 1em;\n",
       "  height: 1.5em !important;\n",
       "  stroke-width: 0;\n",
       "  stroke: currentColor;\n",
       "  fill: currentColor;\n",
       "}\n",
       "</style><pre class='xr-text-repr-fallback'>&lt;xarray.DataArray (trait: 5, cell: 5)&gt;\n",
       "array([[0., 0., 0., 0., 0.],\n",
       "       [0., 0., 0., 0., 0.],\n",
       "       [0., 0., 0., 0., 0.],\n",
       "       [0., 0., 0., 0., 0.],\n",
       "       [0., 0., 0., 0., 0.]])\n",
       "Coordinates:\n",
       "  * trait    (trait) object &#x27;AC002472.1&#x27; &#x27;KIAA1658&#x27; ... &#x27;CCT8L2&#x27; &#x27;TPTEP1&#x27;\n",
       "  * cell     (cell) object &#x27;AAACCTGAGAATGTTG-1&#x27; ... &#x27;AAACCTGAGTGTCCCG-1&#x27;</pre><div class='xr-wrap' style='display:none'><div class='xr-header'><div class='xr-obj-type'>xarray.DataArray</div><div class='xr-array-name'></div><ul class='xr-dim-list'><li><span class='xr-has-index'>trait</span>: 5</li><li><span class='xr-has-index'>cell</span>: 5</li></ul></div><ul class='xr-sections'><li class='xr-section-item'><div class='xr-array-wrap'><input id='section-2db809e7-652c-4715-8ee8-1461ad114854' class='xr-array-in' type='checkbox' checked><label for='section-2db809e7-652c-4715-8ee8-1461ad114854' title='Show/hide data repr'><svg class='icon xr-icon-database'><use xlink:href='#icon-database'></use></svg></label><div class='xr-array-preview xr-preview'><span>0.0 0.0 0.0 0.0 0.0 0.0 0.0 0.0 ... 0.0 0.0 0.0 0.0 0.0 0.0 0.0 0.0</span></div><div class='xr-array-data'><pre>array([[0., 0., 0., 0., 0.],\n",
       "       [0., 0., 0., 0., 0.],\n",
       "       [0., 0., 0., 0., 0.],\n",
       "       [0., 0., 0., 0., 0.],\n",
       "       [0., 0., 0., 0., 0.]])</pre></div></div></li><li class='xr-section-item'><input id='section-ff83189f-2e29-4a94-8489-8a74c37e8c20' class='xr-section-summary-in' type='checkbox'  checked><label for='section-ff83189f-2e29-4a94-8489-8a74c37e8c20' class='xr-section-summary' >Coordinates: <span>(2)</span></label><div class='xr-section-inline-details'></div><div class='xr-section-details'><ul class='xr-var-list'><li class='xr-var-item'><div class='xr-var-name'><span class='xr-has-index'>trait</span></div><div class='xr-var-dims'>(trait)</div><div class='xr-var-dtype'>object</div><div class='xr-var-preview xr-preview'>&#x27;AC002472.1&#x27; ... &#x27;TPTEP1&#x27;</div><input id='attrs-3f016588-3374-4ec4-b5dc-8fcb3f71c30e' class='xr-var-attrs-in' type='checkbox' disabled><label for='attrs-3f016588-3374-4ec4-b5dc-8fcb3f71c30e' title='Show/Hide attributes'><svg class='icon xr-icon-file-text2'><use xlink:href='#icon-file-text2'></use></svg></label><input id='data-d422035e-e0a3-4549-8105-4bb651294f9d' class='xr-var-data-in' type='checkbox'><label for='data-d422035e-e0a3-4549-8105-4bb651294f9d' title='Show/Hide data repr'><svg class='icon xr-icon-database'><use xlink:href='#icon-database'></use></svg></label><div class='xr-var-attrs'><dl class='xr-attrs'></dl></div><div class='xr-var-data'><pre>array([&#x27;AC002472.1&#x27;, &#x27;KIAA1658&#x27;, &#x27;AC005003.1&#x27;, &#x27;CCT8L2&#x27;, &#x27;TPTEP1&#x27;],\n",
       "      dtype=object)</pre></div></li><li class='xr-var-item'><div class='xr-var-name'><span class='xr-has-index'>cell</span></div><div class='xr-var-dims'>(cell)</div><div class='xr-var-dtype'>object</div><div class='xr-var-preview xr-preview'>&#x27;AAACCTGAGAATGTTG-1&#x27; ... &#x27;AAACCT...</div><input id='attrs-1f722075-18a5-4e2f-803f-717703c796d7' class='xr-var-attrs-in' type='checkbox' disabled><label for='attrs-1f722075-18a5-4e2f-803f-717703c796d7' title='Show/Hide attributes'><svg class='icon xr-icon-file-text2'><use xlink:href='#icon-file-text2'></use></svg></label><input id='data-53c6b8e8-80f1-4f25-9bc6-d0d8b2524138' class='xr-var-data-in' type='checkbox'><label for='data-53c6b8e8-80f1-4f25-9bc6-d0d8b2524138' title='Show/Hide data repr'><svg class='icon xr-icon-database'><use xlink:href='#icon-database'></use></svg></label><div class='xr-var-attrs'><dl class='xr-attrs'></dl></div><div class='xr-var-data'><pre>array([&#x27;AAACCTGAGAATGTTG-1&#x27;, &#x27;AAACCTGAGAGAACAG-1&#x27;, &#x27;AAACCTGAGCATGGCA-1&#x27;,\n",
       "       &#x27;AAACCTGAGTATTGGA-1&#x27;, &#x27;AAACCTGAGTGTCCCG-1&#x27;], dtype=object)</pre></div></li></ul></div></li><li class='xr-section-item'><input id='section-23ed10a0-72b0-44ee-9ccc-05abff442073' class='xr-section-summary-in' type='checkbox' disabled ><label for='section-23ed10a0-72b0-44ee-9ccc-05abff442073' class='xr-section-summary'  title='Expand/collapse section'>Attributes: <span>(0)</span></label><div class='xr-section-inline-details'></div><div class='xr-section-details'><dl class='xr-attrs'></dl></div></li></ul></div></div>"
      ],
      "text/plain": [
       "<xarray.DataArray (trait: 5, cell: 5)>\n",
       "array([[0., 0., 0., 0., 0.],\n",
       "       [0., 0., 0., 0., 0.],\n",
       "       [0., 0., 0., 0., 0.],\n",
       "       [0., 0., 0., 0., 0.],\n",
       "       [0., 0., 0., 0., 0.]])\n",
       "Coordinates:\n",
       "  * trait    (trait) object 'AC002472.1' 'KIAA1658' ... 'CCT8L2' 'TPTEP1'\n",
       "  * cell     (cell) object 'AAACCTGAGAATGTTG-1' ... 'AAACCTGAGTGTCCCG-1'"
      ]
     },
     "execution_count": 22,
     "metadata": {},
     "output_type": "execute_result"
    }
   ],
   "source": [
    "phenotype.head()"
   ]
  },
  {
   "cell_type": "code",
   "execution_count": 23,
   "id": "b80cb4c0",
   "metadata": {},
   "outputs": [],
   "source": [
    "#### genotype file"
   ]
  },
  {
   "cell_type": "code",
   "execution_count": 24,
   "id": "01f99b49",
   "metadata": {},
   "outputs": [
    {
     "name": "stderr",
     "output_type": "stream",
     "text": [
      "Mapping files: 100%|██████████| 3/3 [00:00<00:00, 20.33it/s]\n"
     ]
    }
   ],
   "source": [
    "## read in genotype file (plink format)\n",
    "plink_folder = \"/share/ScratchGeneral/anncuo/OneK1K/plink_files/\"\n",
    "plink_file = plink_folder+\"plink_chr\"+str(chrom)+\".bed\"\n",
    "G = read_plink1_bin(plink_file)"
   ]
  },
  {
   "cell_type": "code",
   "execution_count": 25,
   "id": "2748d6f5",
   "metadata": {},
   "outputs": [
    {
     "data": {
      "text/html": [
       "<div><svg style=\"position: absolute; width: 0; height: 0; overflow: hidden\">\n",
       "<defs>\n",
       "<symbol id=\"icon-database\" viewBox=\"0 0 32 32\">\n",
       "<path d=\"M16 0c-8.837 0-16 2.239-16 5v4c0 2.761 7.163 5 16 5s16-2.239 16-5v-4c0-2.761-7.163-5-16-5z\"></path>\n",
       "<path d=\"M16 17c-8.837 0-16-2.239-16-5v6c0 2.761 7.163 5 16 5s16-2.239 16-5v-6c0 2.761-7.163 5-16 5z\"></path>\n",
       "<path d=\"M16 26c-8.837 0-16-2.239-16-5v6c0 2.761 7.163 5 16 5s16-2.239 16-5v-6c0 2.761-7.163 5-16 5z\"></path>\n",
       "</symbol>\n",
       "<symbol id=\"icon-file-text2\" viewBox=\"0 0 32 32\">\n",
       "<path d=\"M28.681 7.159c-0.694-0.947-1.662-2.053-2.724-3.116s-2.169-2.030-3.116-2.724c-1.612-1.182-2.393-1.319-2.841-1.319h-15.5c-1.378 0-2.5 1.121-2.5 2.5v27c0 1.378 1.122 2.5 2.5 2.5h23c1.378 0 2.5-1.122 2.5-2.5v-19.5c0-0.448-0.137-1.23-1.319-2.841zM24.543 5.457c0.959 0.959 1.712 1.825 2.268 2.543h-4.811v-4.811c0.718 0.556 1.584 1.309 2.543 2.268zM28 29.5c0 0.271-0.229 0.5-0.5 0.5h-23c-0.271 0-0.5-0.229-0.5-0.5v-27c0-0.271 0.229-0.5 0.5-0.5 0 0 15.499-0 15.5 0v7c0 0.552 0.448 1 1 1h7v19.5z\"></path>\n",
       "<path d=\"M23 26h-14c-0.552 0-1-0.448-1-1s0.448-1 1-1h14c0.552 0 1 0.448 1 1s-0.448 1-1 1z\"></path>\n",
       "<path d=\"M23 22h-14c-0.552 0-1-0.448-1-1s0.448-1 1-1h14c0.552 0 1 0.448 1 1s-0.448 1-1 1z\"></path>\n",
       "<path d=\"M23 18h-14c-0.552 0-1-0.448-1-1s0.448-1 1-1h14c0.552 0 1 0.448 1 1s-0.448 1-1 1z\"></path>\n",
       "</symbol>\n",
       "</defs>\n",
       "</svg>\n",
       "<style>/* CSS stylesheet for displaying xarray objects in jupyterlab.\n",
       " *\n",
       " */\n",
       "\n",
       ":root {\n",
       "  --xr-font-color0: var(--jp-content-font-color0, rgba(0, 0, 0, 1));\n",
       "  --xr-font-color2: var(--jp-content-font-color2, rgba(0, 0, 0, 0.54));\n",
       "  --xr-font-color3: var(--jp-content-font-color3, rgba(0, 0, 0, 0.38));\n",
       "  --xr-border-color: var(--jp-border-color2, #e0e0e0);\n",
       "  --xr-disabled-color: var(--jp-layout-color3, #bdbdbd);\n",
       "  --xr-background-color: var(--jp-layout-color0, white);\n",
       "  --xr-background-color-row-even: var(--jp-layout-color1, white);\n",
       "  --xr-background-color-row-odd: var(--jp-layout-color2, #eeeeee);\n",
       "}\n",
       "\n",
       "html[theme=dark],\n",
       "body.vscode-dark {\n",
       "  --xr-font-color0: rgba(255, 255, 255, 1);\n",
       "  --xr-font-color2: rgba(255, 255, 255, 0.54);\n",
       "  --xr-font-color3: rgba(255, 255, 255, 0.38);\n",
       "  --xr-border-color: #1F1F1F;\n",
       "  --xr-disabled-color: #515151;\n",
       "  --xr-background-color: #111111;\n",
       "  --xr-background-color-row-even: #111111;\n",
       "  --xr-background-color-row-odd: #313131;\n",
       "}\n",
       "\n",
       ".xr-wrap {\n",
       "  display: block !important;\n",
       "  min-width: 300px;\n",
       "  max-width: 700px;\n",
       "}\n",
       "\n",
       ".xr-text-repr-fallback {\n",
       "  /* fallback to plain text repr when CSS is not injected (untrusted notebook) */\n",
       "  display: none;\n",
       "}\n",
       "\n",
       ".xr-header {\n",
       "  padding-top: 6px;\n",
       "  padding-bottom: 6px;\n",
       "  margin-bottom: 4px;\n",
       "  border-bottom: solid 1px var(--xr-border-color);\n",
       "}\n",
       "\n",
       ".xr-header > div,\n",
       ".xr-header > ul {\n",
       "  display: inline;\n",
       "  margin-top: 0;\n",
       "  margin-bottom: 0;\n",
       "}\n",
       "\n",
       ".xr-obj-type,\n",
       ".xr-array-name {\n",
       "  margin-left: 2px;\n",
       "  margin-right: 10px;\n",
       "}\n",
       "\n",
       ".xr-obj-type {\n",
       "  color: var(--xr-font-color2);\n",
       "}\n",
       "\n",
       ".xr-sections {\n",
       "  padding-left: 0 !important;\n",
       "  display: grid;\n",
       "  grid-template-columns: 150px auto auto 1fr 20px 20px;\n",
       "}\n",
       "\n",
       ".xr-section-item {\n",
       "  display: contents;\n",
       "}\n",
       "\n",
       ".xr-section-item input {\n",
       "  display: none;\n",
       "}\n",
       "\n",
       ".xr-section-item input + label {\n",
       "  color: var(--xr-disabled-color);\n",
       "}\n",
       "\n",
       ".xr-section-item input:enabled + label {\n",
       "  cursor: pointer;\n",
       "  color: var(--xr-font-color2);\n",
       "}\n",
       "\n",
       ".xr-section-item input:enabled + label:hover {\n",
       "  color: var(--xr-font-color0);\n",
       "}\n",
       "\n",
       ".xr-section-summary {\n",
       "  grid-column: 1;\n",
       "  color: var(--xr-font-color2);\n",
       "  font-weight: 500;\n",
       "}\n",
       "\n",
       ".xr-section-summary > span {\n",
       "  display: inline-block;\n",
       "  padding-left: 0.5em;\n",
       "}\n",
       "\n",
       ".xr-section-summary-in:disabled + label {\n",
       "  color: var(--xr-font-color2);\n",
       "}\n",
       "\n",
       ".xr-section-summary-in + label:before {\n",
       "  display: inline-block;\n",
       "  content: '►';\n",
       "  font-size: 11px;\n",
       "  width: 15px;\n",
       "  text-align: center;\n",
       "}\n",
       "\n",
       ".xr-section-summary-in:disabled + label:before {\n",
       "  color: var(--xr-disabled-color);\n",
       "}\n",
       "\n",
       ".xr-section-summary-in:checked + label:before {\n",
       "  content: '▼';\n",
       "}\n",
       "\n",
       ".xr-section-summary-in:checked + label > span {\n",
       "  display: none;\n",
       "}\n",
       "\n",
       ".xr-section-summary,\n",
       ".xr-section-inline-details {\n",
       "  padding-top: 4px;\n",
       "  padding-bottom: 4px;\n",
       "}\n",
       "\n",
       ".xr-section-inline-details {\n",
       "  grid-column: 2 / -1;\n",
       "}\n",
       "\n",
       ".xr-section-details {\n",
       "  display: none;\n",
       "  grid-column: 1 / -1;\n",
       "  margin-bottom: 5px;\n",
       "}\n",
       "\n",
       ".xr-section-summary-in:checked ~ .xr-section-details {\n",
       "  display: contents;\n",
       "}\n",
       "\n",
       ".xr-array-wrap {\n",
       "  grid-column: 1 / -1;\n",
       "  display: grid;\n",
       "  grid-template-columns: 20px auto;\n",
       "}\n",
       "\n",
       ".xr-array-wrap > label {\n",
       "  grid-column: 1;\n",
       "  vertical-align: top;\n",
       "}\n",
       "\n",
       ".xr-preview {\n",
       "  color: var(--xr-font-color3);\n",
       "}\n",
       "\n",
       ".xr-array-preview,\n",
       ".xr-array-data {\n",
       "  padding: 0 5px !important;\n",
       "  grid-column: 2;\n",
       "}\n",
       "\n",
       ".xr-array-data,\n",
       ".xr-array-in:checked ~ .xr-array-preview {\n",
       "  display: none;\n",
       "}\n",
       "\n",
       ".xr-array-in:checked ~ .xr-array-data,\n",
       ".xr-array-preview {\n",
       "  display: inline-block;\n",
       "}\n",
       "\n",
       ".xr-dim-list {\n",
       "  display: inline-block !important;\n",
       "  list-style: none;\n",
       "  padding: 0 !important;\n",
       "  margin: 0;\n",
       "}\n",
       "\n",
       ".xr-dim-list li {\n",
       "  display: inline-block;\n",
       "  padding: 0;\n",
       "  margin: 0;\n",
       "}\n",
       "\n",
       ".xr-dim-list:before {\n",
       "  content: '(';\n",
       "}\n",
       "\n",
       ".xr-dim-list:after {\n",
       "  content: ')';\n",
       "}\n",
       "\n",
       ".xr-dim-list li:not(:last-child):after {\n",
       "  content: ',';\n",
       "  padding-right: 5px;\n",
       "}\n",
       "\n",
       ".xr-has-index {\n",
       "  font-weight: bold;\n",
       "}\n",
       "\n",
       ".xr-var-list,\n",
       ".xr-var-item {\n",
       "  display: contents;\n",
       "}\n",
       "\n",
       ".xr-var-item > div,\n",
       ".xr-var-item label,\n",
       ".xr-var-item > .xr-var-name span {\n",
       "  background-color: var(--xr-background-color-row-even);\n",
       "  margin-bottom: 0;\n",
       "}\n",
       "\n",
       ".xr-var-item > .xr-var-name:hover span {\n",
       "  padding-right: 5px;\n",
       "}\n",
       "\n",
       ".xr-var-list > li:nth-child(odd) > div,\n",
       ".xr-var-list > li:nth-child(odd) > label,\n",
       ".xr-var-list > li:nth-child(odd) > .xr-var-name span {\n",
       "  background-color: var(--xr-background-color-row-odd);\n",
       "}\n",
       "\n",
       ".xr-var-name {\n",
       "  grid-column: 1;\n",
       "}\n",
       "\n",
       ".xr-var-dims {\n",
       "  grid-column: 2;\n",
       "}\n",
       "\n",
       ".xr-var-dtype {\n",
       "  grid-column: 3;\n",
       "  text-align: right;\n",
       "  color: var(--xr-font-color2);\n",
       "}\n",
       "\n",
       ".xr-var-preview {\n",
       "  grid-column: 4;\n",
       "}\n",
       "\n",
       ".xr-var-name,\n",
       ".xr-var-dims,\n",
       ".xr-var-dtype,\n",
       ".xr-preview,\n",
       ".xr-attrs dt {\n",
       "  white-space: nowrap;\n",
       "  overflow: hidden;\n",
       "  text-overflow: ellipsis;\n",
       "  padding-right: 10px;\n",
       "}\n",
       "\n",
       ".xr-var-name:hover,\n",
       ".xr-var-dims:hover,\n",
       ".xr-var-dtype:hover,\n",
       ".xr-attrs dt:hover {\n",
       "  overflow: visible;\n",
       "  width: auto;\n",
       "  z-index: 1;\n",
       "}\n",
       "\n",
       ".xr-var-attrs,\n",
       ".xr-var-data {\n",
       "  display: none;\n",
       "  background-color: var(--xr-background-color) !important;\n",
       "  padding-bottom: 5px !important;\n",
       "}\n",
       "\n",
       ".xr-var-attrs-in:checked ~ .xr-var-attrs,\n",
       ".xr-var-data-in:checked ~ .xr-var-data {\n",
       "  display: block;\n",
       "}\n",
       "\n",
       ".xr-var-data > table {\n",
       "  float: right;\n",
       "}\n",
       "\n",
       ".xr-var-name span,\n",
       ".xr-var-data,\n",
       ".xr-attrs {\n",
       "  padding-left: 25px !important;\n",
       "}\n",
       "\n",
       ".xr-attrs,\n",
       ".xr-var-attrs,\n",
       ".xr-var-data {\n",
       "  grid-column: 1 / -1;\n",
       "}\n",
       "\n",
       "dl.xr-attrs {\n",
       "  padding: 0;\n",
       "  margin: 0;\n",
       "  display: grid;\n",
       "  grid-template-columns: 125px auto;\n",
       "}\n",
       "\n",
       ".xr-attrs dt,\n",
       ".xr-attrs dd {\n",
       "  padding: 0;\n",
       "  margin: 0;\n",
       "  float: left;\n",
       "  padding-right: 10px;\n",
       "  width: auto;\n",
       "}\n",
       "\n",
       ".xr-attrs dt {\n",
       "  font-weight: normal;\n",
       "  grid-column: 1;\n",
       "}\n",
       "\n",
       ".xr-attrs dt:hover span {\n",
       "  display: inline-block;\n",
       "  background: var(--xr-background-color);\n",
       "  padding-right: 10px;\n",
       "}\n",
       "\n",
       ".xr-attrs dd {\n",
       "  grid-column: 2;\n",
       "  white-space: pre-wrap;\n",
       "  word-break: break-all;\n",
       "}\n",
       "\n",
       ".xr-icon-database,\n",
       ".xr-icon-file-text2 {\n",
       "  display: inline-block;\n",
       "  vertical-align: middle;\n",
       "  width: 1em;\n",
       "  height: 1.5em !important;\n",
       "  stroke-width: 0;\n",
       "  stroke: currentColor;\n",
       "  fill: currentColor;\n",
       "}\n",
       "</style><pre class='xr-text-repr-fallback'>&lt;xarray.DataArray &#x27;genotype&#x27; (sample: 1034, variant: 69825)&gt;\n",
       "dask.array&lt;transpose, shape=(1034, 69825), dtype=float32, chunksize=(1024, 1024), chunktype=numpy.ndarray&gt;\n",
       "Coordinates:\n",
       "  * sample   (sample) object &#x27;1_1&#x27; &#x27;2_2&#x27; &#x27;3_3&#x27; ... &#x27;1103_926_2&#x27; &#x27;1104_920_2&#x27;\n",
       "  * variant  (variant) &lt;U12 &#x27;variant0&#x27; &#x27;variant1&#x27; ... &#x27;variant69824&#x27;\n",
       "    fid      (sample) object &#x27;0&#x27; &#x27;0&#x27; &#x27;0&#x27; &#x27;0&#x27; &#x27;0&#x27; &#x27;0&#x27; ... &#x27;0&#x27; &#x27;0&#x27; &#x27;0&#x27; &#x27;0&#x27; &#x27;0&#x27; &#x27;0&#x27;\n",
       "    iid      (sample) object &#x27;1_1&#x27; &#x27;2_2&#x27; &#x27;3_3&#x27; ... &#x27;1103_926_2&#x27; &#x27;1104_920_2&#x27;\n",
       "    father   (sample) object &#x27;0&#x27; &#x27;0&#x27; &#x27;0&#x27; &#x27;0&#x27; &#x27;0&#x27; &#x27;0&#x27; ... &#x27;0&#x27; &#x27;0&#x27; &#x27;0&#x27; &#x27;0&#x27; &#x27;0&#x27; &#x27;0&#x27;\n",
       "    mother   (sample) object &#x27;0&#x27; &#x27;0&#x27; &#x27;0&#x27; &#x27;0&#x27; &#x27;0&#x27; &#x27;0&#x27; ... &#x27;0&#x27; &#x27;0&#x27; &#x27;0&#x27; &#x27;0&#x27; &#x27;0&#x27; &#x27;0&#x27;\n",
       "    gender   (sample) object &#x27;0&#x27; &#x27;0&#x27; &#x27;0&#x27; &#x27;0&#x27; &#x27;0&#x27; &#x27;0&#x27; ... &#x27;0&#x27; &#x27;0&#x27; &#x27;0&#x27; &#x27;0&#x27; &#x27;0&#x27; &#x27;0&#x27;\n",
       "    trait    (sample) object &#x27;-9&#x27; &#x27;-9&#x27; &#x27;-9&#x27; &#x27;-9&#x27; &#x27;-9&#x27; ... &#x27;-9&#x27; &#x27;-9&#x27; &#x27;-9&#x27; &#x27;-9&#x27;\n",
       "    chrom    (variant) object &#x27;22&#x27; &#x27;22&#x27; &#x27;22&#x27; &#x27;22&#x27; &#x27;22&#x27; ... &#x27;22&#x27; &#x27;22&#x27; &#x27;22&#x27; &#x27;22&#x27;\n",
       "    snp      (variant) object &#x27;22:16849573&#x27; &#x27;22:16849971&#x27; ... &#x27;22:51216564&#x27;\n",
       "    cm       (variant) float64 0.0 0.0 0.0 0.0 0.0 0.0 ... 0.0 0.0 0.0 0.0 0.0\n",
       "    pos      (variant) int32 16849573 16849971 16850437 ... 51213613 51216564\n",
       "    a0       (variant) object &#x27;G&#x27; &#x27;T&#x27; &#x27;A&#x27; &#x27;T&#x27; &#x27;T&#x27; &#x27;T&#x27; ... &#x27;G&#x27; &#x27;T&#x27; &#x27;G&#x27; &#x27;T&#x27; &#x27;C&#x27;\n",
       "    a1       (variant) object &#x27;A&#x27; &#x27;A&#x27; &#x27;G&#x27; &#x27;C&#x27; &#x27;C&#x27; &#x27;C&#x27; ... &#x27;A&#x27; &#x27;G&#x27; &#x27;A&#x27; &#x27;C&#x27; &#x27;T&#x27;</pre><div class='xr-wrap' style='display:none'><div class='xr-header'><div class='xr-obj-type'>xarray.DataArray</div><div class='xr-array-name'>'genotype'</div><ul class='xr-dim-list'><li><span class='xr-has-index'>sample</span>: 1034</li><li><span class='xr-has-index'>variant</span>: 69825</li></ul></div><ul class='xr-sections'><li class='xr-section-item'><div class='xr-array-wrap'><input id='section-e74bd3d7-5b23-48b7-83b6-ceb6f589b681' class='xr-array-in' type='checkbox' checked><label for='section-e74bd3d7-5b23-48b7-83b6-ceb6f589b681' title='Show/hide data repr'><svg class='icon xr-icon-database'><use xlink:href='#icon-database'></use></svg></label><div class='xr-array-preview xr-preview'><span>dask.array&lt;chunksize=(1024, 1024), meta=np.ndarray&gt;</span></div><div class='xr-array-data'><table>\n",
       "    <tr>\n",
       "        <td>\n",
       "            <table>\n",
       "                <thead>\n",
       "                    <tr>\n",
       "                        <td> </td>\n",
       "                        <th> Array </th>\n",
       "                        <th> Chunk </th>\n",
       "                    </tr>\n",
       "                </thead>\n",
       "                <tbody>\n",
       "                    \n",
       "                    <tr>\n",
       "                        <th> Bytes </th>\n",
       "                        <td> 275.42 MiB </td>\n",
       "                        <td> 4.00 MiB </td>\n",
       "                    </tr>\n",
       "                    \n",
       "                    <tr>\n",
       "                        <th> Shape </th>\n",
       "                        <td> (1034, 69825) </td>\n",
       "                        <td> (1024, 1024) </td>\n",
       "                    </tr>\n",
       "                    <tr>\n",
       "                        <th> Count </th>\n",
       "                        <td> 690 Tasks </td>\n",
       "                        <td> 138 Chunks </td>\n",
       "                    </tr>\n",
       "                    <tr>\n",
       "                    <th> Type </th>\n",
       "                    <td> float32 </td>\n",
       "                    <td> numpy.ndarray </td>\n",
       "                    </tr>\n",
       "                </tbody>\n",
       "            </table>\n",
       "        </td>\n",
       "        <td>\n",
       "        <svg width=\"170\" height=\"77\" style=\"stroke:rgb(0,0,0);stroke-width:1\" >\n",
       "\n",
       "  <!-- Horizontal lines -->\n",
       "  <line x1=\"0\" y1=\"0\" x2=\"120\" y2=\"0\" style=\"stroke-width:2\" />\n",
       "  <line x1=\"0\" y1=\"27\" x2=\"120\" y2=\"27\" />\n",
       "  <line x1=\"0\" y1=\"27\" x2=\"120\" y2=\"27\" style=\"stroke-width:2\" />\n",
       "\n",
       "  <!-- Vertical lines -->\n",
       "  <line x1=\"0\" y1=\"0\" x2=\"0\" y2=\"27\" style=\"stroke-width:2\" />\n",
       "  <line x1=\"5\" y1=\"0\" x2=\"5\" y2=\"27\" />\n",
       "  <line x1=\"12\" y1=\"0\" x2=\"12\" y2=\"27\" />\n",
       "  <line x1=\"17\" y1=\"0\" x2=\"17\" y2=\"27\" />\n",
       "  <line x1=\"24\" y1=\"0\" x2=\"24\" y2=\"27\" />\n",
       "  <line x1=\"31\" y1=\"0\" x2=\"31\" y2=\"27\" />\n",
       "  <line x1=\"36\" y1=\"0\" x2=\"36\" y2=\"27\" />\n",
       "  <line x1=\"43\" y1=\"0\" x2=\"43\" y2=\"27\" />\n",
       "  <line x1=\"51\" y1=\"0\" x2=\"51\" y2=\"27\" />\n",
       "  <line x1=\"56\" y1=\"0\" x2=\"56\" y2=\"27\" />\n",
       "  <line x1=\"63\" y1=\"0\" x2=\"63\" y2=\"27\" />\n",
       "  <line x1=\"68\" y1=\"0\" x2=\"68\" y2=\"27\" />\n",
       "  <line x1=\"75\" y1=\"0\" x2=\"75\" y2=\"27\" />\n",
       "  <line x1=\"82\" y1=\"0\" x2=\"82\" y2=\"27\" />\n",
       "  <line x1=\"87\" y1=\"0\" x2=\"87\" y2=\"27\" />\n",
       "  <line x1=\"95\" y1=\"0\" x2=\"95\" y2=\"27\" />\n",
       "  <line x1=\"102\" y1=\"0\" x2=\"102\" y2=\"27\" />\n",
       "  <line x1=\"107\" y1=\"0\" x2=\"107\" y2=\"27\" />\n",
       "  <line x1=\"114\" y1=\"0\" x2=\"114\" y2=\"27\" />\n",
       "  <line x1=\"120\" y1=\"0\" x2=\"120\" y2=\"27\" style=\"stroke-width:2\" />\n",
       "\n",
       "  <!-- Colored Rectangle -->\n",
       "  <polygon points=\"0.0,0.0 120.0,0.0 120.0,27.390138150119867 0.0,27.390138150119867\" style=\"fill:#8B4903A0;stroke-width:0\"/>\n",
       "\n",
       "  <!-- Text -->\n",
       "  <text x=\"60.000000\" y=\"47.390138\" font-size=\"1.0rem\" font-weight=\"100\" text-anchor=\"middle\" >69825</text>\n",
       "  <text x=\"140.000000\" y=\"13.695069\" font-size=\"1.0rem\" font-weight=\"100\" text-anchor=\"middle\" transform=\"rotate(-90,140.000000,13.695069)\">1034</text>\n",
       "</svg>\n",
       "        </td>\n",
       "    </tr>\n",
       "</table></div></div></li><li class='xr-section-item'><input id='section-994086e0-8730-4c25-bb8a-d57d129ab51c' class='xr-section-summary-in' type='checkbox'  checked><label for='section-994086e0-8730-4c25-bb8a-d57d129ab51c' class='xr-section-summary' >Coordinates: <span>(14)</span></label><div class='xr-section-inline-details'></div><div class='xr-section-details'><ul class='xr-var-list'><li class='xr-var-item'><div class='xr-var-name'><span class='xr-has-index'>sample</span></div><div class='xr-var-dims'>(sample)</div><div class='xr-var-dtype'>object</div><div class='xr-var-preview xr-preview'>&#x27;1_1&#x27; &#x27;2_2&#x27; ... &#x27;1104_920_2&#x27;</div><input id='attrs-5bbdc53f-4641-449d-bf80-907814549c6e' class='xr-var-attrs-in' type='checkbox' disabled><label for='attrs-5bbdc53f-4641-449d-bf80-907814549c6e' title='Show/Hide attributes'><svg class='icon xr-icon-file-text2'><use xlink:href='#icon-file-text2'></use></svg></label><input id='data-9f002624-016b-4e0e-a6cf-4a57c2866ca8' class='xr-var-data-in' type='checkbox'><label for='data-9f002624-016b-4e0e-a6cf-4a57c2866ca8' title='Show/Hide data repr'><svg class='icon xr-icon-database'><use xlink:href='#icon-database'></use></svg></label><div class='xr-var-attrs'><dl class='xr-attrs'></dl></div><div class='xr-var-data'><pre>array([&#x27;1_1&#x27;, &#x27;2_2&#x27;, &#x27;3_3&#x27;, ..., &#x27;1102_932_2&#x27;, &#x27;1103_926_2&#x27;, &#x27;1104_920_2&#x27;],\n",
       "      dtype=object)</pre></div></li><li class='xr-var-item'><div class='xr-var-name'><span class='xr-has-index'>variant</span></div><div class='xr-var-dims'>(variant)</div><div class='xr-var-dtype'>&lt;U12</div><div class='xr-var-preview xr-preview'>&#x27;variant0&#x27; ... &#x27;variant69824&#x27;</div><input id='attrs-43a89e19-af47-4939-9faf-bd483eebf9f8' class='xr-var-attrs-in' type='checkbox' disabled><label for='attrs-43a89e19-af47-4939-9faf-bd483eebf9f8' title='Show/Hide attributes'><svg class='icon xr-icon-file-text2'><use xlink:href='#icon-file-text2'></use></svg></label><input id='data-0d5710e4-af3f-4e4f-babc-b205ce870282' class='xr-var-data-in' type='checkbox'><label for='data-0d5710e4-af3f-4e4f-babc-b205ce870282' title='Show/Hide data repr'><svg class='icon xr-icon-database'><use xlink:href='#icon-database'></use></svg></label><div class='xr-var-attrs'><dl class='xr-attrs'></dl></div><div class='xr-var-data'><pre>array([&#x27;variant0&#x27;, &#x27;variant1&#x27;, &#x27;variant2&#x27;, ..., &#x27;variant69822&#x27;, &#x27;variant69823&#x27;,\n",
       "       &#x27;variant69824&#x27;], dtype=&#x27;&lt;U12&#x27;)</pre></div></li><li class='xr-var-item'><div class='xr-var-name'><span>fid</span></div><div class='xr-var-dims'>(sample)</div><div class='xr-var-dtype'>object</div><div class='xr-var-preview xr-preview'>&#x27;0&#x27; &#x27;0&#x27; &#x27;0&#x27; &#x27;0&#x27; ... &#x27;0&#x27; &#x27;0&#x27; &#x27;0&#x27; &#x27;0&#x27;</div><input id='attrs-e30c7978-fa6d-470b-8c84-6f11b00e6cd4' class='xr-var-attrs-in' type='checkbox' disabled><label for='attrs-e30c7978-fa6d-470b-8c84-6f11b00e6cd4' title='Show/Hide attributes'><svg class='icon xr-icon-file-text2'><use xlink:href='#icon-file-text2'></use></svg></label><input id='data-693b4230-66c3-47e1-8772-0cbcaea5bc79' class='xr-var-data-in' type='checkbox'><label for='data-693b4230-66c3-47e1-8772-0cbcaea5bc79' title='Show/Hide data repr'><svg class='icon xr-icon-database'><use xlink:href='#icon-database'></use></svg></label><div class='xr-var-attrs'><dl class='xr-attrs'></dl></div><div class='xr-var-data'><pre>array([&#x27;0&#x27;, &#x27;0&#x27;, &#x27;0&#x27;, ..., &#x27;0&#x27;, &#x27;0&#x27;, &#x27;0&#x27;], dtype=object)</pre></div></li><li class='xr-var-item'><div class='xr-var-name'><span>iid</span></div><div class='xr-var-dims'>(sample)</div><div class='xr-var-dtype'>object</div><div class='xr-var-preview xr-preview'>&#x27;1_1&#x27; &#x27;2_2&#x27; ... &#x27;1104_920_2&#x27;</div><input id='attrs-dfe965af-7b34-4667-8a31-e34f513e9f77' class='xr-var-attrs-in' type='checkbox' disabled><label for='attrs-dfe965af-7b34-4667-8a31-e34f513e9f77' title='Show/Hide attributes'><svg class='icon xr-icon-file-text2'><use xlink:href='#icon-file-text2'></use></svg></label><input id='data-dafbbf2b-73d3-4c87-b1d6-479f1c3576ef' class='xr-var-data-in' type='checkbox'><label for='data-dafbbf2b-73d3-4c87-b1d6-479f1c3576ef' title='Show/Hide data repr'><svg class='icon xr-icon-database'><use xlink:href='#icon-database'></use></svg></label><div class='xr-var-attrs'><dl class='xr-attrs'></dl></div><div class='xr-var-data'><pre>array([&#x27;1_1&#x27;, &#x27;2_2&#x27;, &#x27;3_3&#x27;, ..., &#x27;1102_932_2&#x27;, &#x27;1103_926_2&#x27;, &#x27;1104_920_2&#x27;],\n",
       "      dtype=object)</pre></div></li><li class='xr-var-item'><div class='xr-var-name'><span>father</span></div><div class='xr-var-dims'>(sample)</div><div class='xr-var-dtype'>object</div><div class='xr-var-preview xr-preview'>&#x27;0&#x27; &#x27;0&#x27; &#x27;0&#x27; &#x27;0&#x27; ... &#x27;0&#x27; &#x27;0&#x27; &#x27;0&#x27; &#x27;0&#x27;</div><input id='attrs-3cbd4b21-abb8-4433-8624-81529193ca50' class='xr-var-attrs-in' type='checkbox' disabled><label for='attrs-3cbd4b21-abb8-4433-8624-81529193ca50' title='Show/Hide attributes'><svg class='icon xr-icon-file-text2'><use xlink:href='#icon-file-text2'></use></svg></label><input id='data-bfed7fb2-87cb-4f2d-984f-be9cbc4c6dd6' class='xr-var-data-in' type='checkbox'><label for='data-bfed7fb2-87cb-4f2d-984f-be9cbc4c6dd6' title='Show/Hide data repr'><svg class='icon xr-icon-database'><use xlink:href='#icon-database'></use></svg></label><div class='xr-var-attrs'><dl class='xr-attrs'></dl></div><div class='xr-var-data'><pre>array([&#x27;0&#x27;, &#x27;0&#x27;, &#x27;0&#x27;, ..., &#x27;0&#x27;, &#x27;0&#x27;, &#x27;0&#x27;], dtype=object)</pre></div></li><li class='xr-var-item'><div class='xr-var-name'><span>mother</span></div><div class='xr-var-dims'>(sample)</div><div class='xr-var-dtype'>object</div><div class='xr-var-preview xr-preview'>&#x27;0&#x27; &#x27;0&#x27; &#x27;0&#x27; &#x27;0&#x27; ... &#x27;0&#x27; &#x27;0&#x27; &#x27;0&#x27; &#x27;0&#x27;</div><input id='attrs-f2cbbae2-fd6b-4a9e-ad09-c7896afc7528' class='xr-var-attrs-in' type='checkbox' disabled><label for='attrs-f2cbbae2-fd6b-4a9e-ad09-c7896afc7528' title='Show/Hide attributes'><svg class='icon xr-icon-file-text2'><use xlink:href='#icon-file-text2'></use></svg></label><input id='data-dd428081-3290-404f-983d-c2306ca69506' class='xr-var-data-in' type='checkbox'><label for='data-dd428081-3290-404f-983d-c2306ca69506' title='Show/Hide data repr'><svg class='icon xr-icon-database'><use xlink:href='#icon-database'></use></svg></label><div class='xr-var-attrs'><dl class='xr-attrs'></dl></div><div class='xr-var-data'><pre>array([&#x27;0&#x27;, &#x27;0&#x27;, &#x27;0&#x27;, ..., &#x27;0&#x27;, &#x27;0&#x27;, &#x27;0&#x27;], dtype=object)</pre></div></li><li class='xr-var-item'><div class='xr-var-name'><span>gender</span></div><div class='xr-var-dims'>(sample)</div><div class='xr-var-dtype'>object</div><div class='xr-var-preview xr-preview'>&#x27;0&#x27; &#x27;0&#x27; &#x27;0&#x27; &#x27;0&#x27; ... &#x27;0&#x27; &#x27;0&#x27; &#x27;0&#x27; &#x27;0&#x27;</div><input id='attrs-8cc582ca-8393-451d-8820-c62ed77f451e' class='xr-var-attrs-in' type='checkbox' disabled><label for='attrs-8cc582ca-8393-451d-8820-c62ed77f451e' title='Show/Hide attributes'><svg class='icon xr-icon-file-text2'><use xlink:href='#icon-file-text2'></use></svg></label><input id='data-5981fd66-e3f7-4648-a346-cc1f17ac7734' class='xr-var-data-in' type='checkbox'><label for='data-5981fd66-e3f7-4648-a346-cc1f17ac7734' title='Show/Hide data repr'><svg class='icon xr-icon-database'><use xlink:href='#icon-database'></use></svg></label><div class='xr-var-attrs'><dl class='xr-attrs'></dl></div><div class='xr-var-data'><pre>array([&#x27;0&#x27;, &#x27;0&#x27;, &#x27;0&#x27;, ..., &#x27;0&#x27;, &#x27;0&#x27;, &#x27;0&#x27;], dtype=object)</pre></div></li><li class='xr-var-item'><div class='xr-var-name'><span>trait</span></div><div class='xr-var-dims'>(sample)</div><div class='xr-var-dtype'>object</div><div class='xr-var-preview xr-preview'>&#x27;-9&#x27; &#x27;-9&#x27; &#x27;-9&#x27; ... &#x27;-9&#x27; &#x27;-9&#x27; &#x27;-9&#x27;</div><input id='attrs-e03f822b-c7cf-43c7-8c38-c6dbcf874a71' class='xr-var-attrs-in' type='checkbox' disabled><label for='attrs-e03f822b-c7cf-43c7-8c38-c6dbcf874a71' title='Show/Hide attributes'><svg class='icon xr-icon-file-text2'><use xlink:href='#icon-file-text2'></use></svg></label><input id='data-5fbf6741-001f-40b2-a626-b4ff9305558a' class='xr-var-data-in' type='checkbox'><label for='data-5fbf6741-001f-40b2-a626-b4ff9305558a' title='Show/Hide data repr'><svg class='icon xr-icon-database'><use xlink:href='#icon-database'></use></svg></label><div class='xr-var-attrs'><dl class='xr-attrs'></dl></div><div class='xr-var-data'><pre>array([&#x27;-9&#x27;, &#x27;-9&#x27;, &#x27;-9&#x27;, ..., &#x27;-9&#x27;, &#x27;-9&#x27;, &#x27;-9&#x27;], dtype=object)</pre></div></li><li class='xr-var-item'><div class='xr-var-name'><span>chrom</span></div><div class='xr-var-dims'>(variant)</div><div class='xr-var-dtype'>object</div><div class='xr-var-preview xr-preview'>&#x27;22&#x27; &#x27;22&#x27; &#x27;22&#x27; ... &#x27;22&#x27; &#x27;22&#x27; &#x27;22&#x27;</div><input id='attrs-81569bbb-fd67-4693-9493-724262168f5f' class='xr-var-attrs-in' type='checkbox' disabled><label for='attrs-81569bbb-fd67-4693-9493-724262168f5f' title='Show/Hide attributes'><svg class='icon xr-icon-file-text2'><use xlink:href='#icon-file-text2'></use></svg></label><input id='data-b7b5b687-0fa5-4bd4-999e-c45f80b48390' class='xr-var-data-in' type='checkbox'><label for='data-b7b5b687-0fa5-4bd4-999e-c45f80b48390' title='Show/Hide data repr'><svg class='icon xr-icon-database'><use xlink:href='#icon-database'></use></svg></label><div class='xr-var-attrs'><dl class='xr-attrs'></dl></div><div class='xr-var-data'><pre>array([&#x27;22&#x27;, &#x27;22&#x27;, &#x27;22&#x27;, ..., &#x27;22&#x27;, &#x27;22&#x27;, &#x27;22&#x27;], dtype=object)</pre></div></li><li class='xr-var-item'><div class='xr-var-name'><span>snp</span></div><div class='xr-var-dims'>(variant)</div><div class='xr-var-dtype'>object</div><div class='xr-var-preview xr-preview'>&#x27;22:16849573&#x27; ... &#x27;22:51216564&#x27;</div><input id='attrs-0c229589-4a1d-4760-b8f4-4af08386639c' class='xr-var-attrs-in' type='checkbox' disabled><label for='attrs-0c229589-4a1d-4760-b8f4-4af08386639c' title='Show/Hide attributes'><svg class='icon xr-icon-file-text2'><use xlink:href='#icon-file-text2'></use></svg></label><input id='data-a650a437-25d6-456c-9a0c-693bbc4f0d54' class='xr-var-data-in' type='checkbox'><label for='data-a650a437-25d6-456c-9a0c-693bbc4f0d54' title='Show/Hide data repr'><svg class='icon xr-icon-database'><use xlink:href='#icon-database'></use></svg></label><div class='xr-var-attrs'><dl class='xr-attrs'></dl></div><div class='xr-var-data'><pre>array([&#x27;22:16849573&#x27;, &#x27;22:16849971&#x27;, &#x27;22:16850437&#x27;, ..., &#x27;22:51211031&#x27;,\n",
       "       &#x27;22:51213613&#x27;, &#x27;22:51216564&#x27;], dtype=object)</pre></div></li><li class='xr-var-item'><div class='xr-var-name'><span>cm</span></div><div class='xr-var-dims'>(variant)</div><div class='xr-var-dtype'>float64</div><div class='xr-var-preview xr-preview'>0.0 0.0 0.0 0.0 ... 0.0 0.0 0.0 0.0</div><input id='attrs-c41672de-b115-4dbd-bf16-dd6424475ed2' class='xr-var-attrs-in' type='checkbox' disabled><label for='attrs-c41672de-b115-4dbd-bf16-dd6424475ed2' title='Show/Hide attributes'><svg class='icon xr-icon-file-text2'><use xlink:href='#icon-file-text2'></use></svg></label><input id='data-aebb2b73-0f4f-44ce-9917-f2f8955753e0' class='xr-var-data-in' type='checkbox'><label for='data-aebb2b73-0f4f-44ce-9917-f2f8955753e0' title='Show/Hide data repr'><svg class='icon xr-icon-database'><use xlink:href='#icon-database'></use></svg></label><div class='xr-var-attrs'><dl class='xr-attrs'></dl></div><div class='xr-var-data'><pre>array([0., 0., 0., ..., 0., 0., 0.])</pre></div></li><li class='xr-var-item'><div class='xr-var-name'><span>pos</span></div><div class='xr-var-dims'>(variant)</div><div class='xr-var-dtype'>int32</div><div class='xr-var-preview xr-preview'>16849573 16849971 ... 51216564</div><input id='attrs-f3c92447-4053-40c2-bd0a-18002aab7e8a' class='xr-var-attrs-in' type='checkbox' disabled><label for='attrs-f3c92447-4053-40c2-bd0a-18002aab7e8a' title='Show/Hide attributes'><svg class='icon xr-icon-file-text2'><use xlink:href='#icon-file-text2'></use></svg></label><input id='data-5fedea6e-cfbf-4c04-bb0c-ef291d480a68' class='xr-var-data-in' type='checkbox'><label for='data-5fedea6e-cfbf-4c04-bb0c-ef291d480a68' title='Show/Hide data repr'><svg class='icon xr-icon-database'><use xlink:href='#icon-database'></use></svg></label><div class='xr-var-attrs'><dl class='xr-attrs'></dl></div><div class='xr-var-data'><pre>array([16849573, 16849971, 16850437, ..., 51211031, 51213613, 51216564],\n",
       "      dtype=int32)</pre></div></li><li class='xr-var-item'><div class='xr-var-name'><span>a0</span></div><div class='xr-var-dims'>(variant)</div><div class='xr-var-dtype'>object</div><div class='xr-var-preview xr-preview'>&#x27;G&#x27; &#x27;T&#x27; &#x27;A&#x27; &#x27;T&#x27; ... &#x27;T&#x27; &#x27;G&#x27; &#x27;T&#x27; &#x27;C&#x27;</div><input id='attrs-56880132-54ec-4e7f-a5e6-c6956f41c797' class='xr-var-attrs-in' type='checkbox' disabled><label for='attrs-56880132-54ec-4e7f-a5e6-c6956f41c797' title='Show/Hide attributes'><svg class='icon xr-icon-file-text2'><use xlink:href='#icon-file-text2'></use></svg></label><input id='data-77e4dae5-c190-4d9f-b034-237b1df1d134' class='xr-var-data-in' type='checkbox'><label for='data-77e4dae5-c190-4d9f-b034-237b1df1d134' title='Show/Hide data repr'><svg class='icon xr-icon-database'><use xlink:href='#icon-database'></use></svg></label><div class='xr-var-attrs'><dl class='xr-attrs'></dl></div><div class='xr-var-data'><pre>array([&#x27;G&#x27;, &#x27;T&#x27;, &#x27;A&#x27;, ..., &#x27;G&#x27;, &#x27;T&#x27;, &#x27;C&#x27;], dtype=object)</pre></div></li><li class='xr-var-item'><div class='xr-var-name'><span>a1</span></div><div class='xr-var-dims'>(variant)</div><div class='xr-var-dtype'>object</div><div class='xr-var-preview xr-preview'>&#x27;A&#x27; &#x27;A&#x27; &#x27;G&#x27; &#x27;C&#x27; ... &#x27;G&#x27; &#x27;A&#x27; &#x27;C&#x27; &#x27;T&#x27;</div><input id='attrs-44cdb811-1af9-453b-9d95-e3fae9a037ce' class='xr-var-attrs-in' type='checkbox' disabled><label for='attrs-44cdb811-1af9-453b-9d95-e3fae9a037ce' title='Show/Hide attributes'><svg class='icon xr-icon-file-text2'><use xlink:href='#icon-file-text2'></use></svg></label><input id='data-d9365330-a7a9-4fe5-a1c2-46535eb22b42' class='xr-var-data-in' type='checkbox'><label for='data-d9365330-a7a9-4fe5-a1c2-46535eb22b42' title='Show/Hide data repr'><svg class='icon xr-icon-database'><use xlink:href='#icon-database'></use></svg></label><div class='xr-var-attrs'><dl class='xr-attrs'></dl></div><div class='xr-var-data'><pre>array([&#x27;A&#x27;, &#x27;A&#x27;, &#x27;G&#x27;, ..., &#x27;A&#x27;, &#x27;C&#x27;, &#x27;T&#x27;], dtype=object)</pre></div></li></ul></div></li><li class='xr-section-item'><input id='section-2a7cd231-57e2-4d62-9dba-091634d5fab9' class='xr-section-summary-in' type='checkbox' disabled ><label for='section-2a7cd231-57e2-4d62-9dba-091634d5fab9' class='xr-section-summary'  title='Expand/collapse section'>Attributes: <span>(0)</span></label><div class='xr-section-inline-details'></div><div class='xr-section-details'><dl class='xr-attrs'></dl></div></li></ul></div></div>"
      ],
      "text/plain": [
       "<xarray.DataArray 'genotype' (sample: 1034, variant: 69825)>\n",
       "dask.array<transpose, shape=(1034, 69825), dtype=float32, chunksize=(1024, 1024), chunktype=numpy.ndarray>\n",
       "Coordinates:\n",
       "  * sample   (sample) object '1_1' '2_2' '3_3' ... '1103_926_2' '1104_920_2'\n",
       "  * variant  (variant) <U12 'variant0' 'variant1' ... 'variant69824'\n",
       "    fid      (sample) object '0' '0' '0' '0' '0' '0' ... '0' '0' '0' '0' '0' '0'\n",
       "    iid      (sample) object '1_1' '2_2' '3_3' ... '1103_926_2' '1104_920_2'\n",
       "    father   (sample) object '0' '0' '0' '0' '0' '0' ... '0' '0' '0' '0' '0' '0'\n",
       "    mother   (sample) object '0' '0' '0' '0' '0' '0' ... '0' '0' '0' '0' '0' '0'\n",
       "    gender   (sample) object '0' '0' '0' '0' '0' '0' ... '0' '0' '0' '0' '0' '0'\n",
       "    trait    (sample) object '-9' '-9' '-9' '-9' '-9' ... '-9' '-9' '-9' '-9'\n",
       "    chrom    (variant) object '22' '22' '22' '22' '22' ... '22' '22' '22' '22'\n",
       "    snp      (variant) object '22:16849573' '22:16849971' ... '22:51216564'\n",
       "    cm       (variant) float64 0.0 0.0 0.0 0.0 0.0 0.0 ... 0.0 0.0 0.0 0.0 0.0\n",
       "    pos      (variant) int32 16849573 16849971 16850437 ... 51213613 51216564\n",
       "    a0       (variant) object 'G' 'T' 'A' 'T' 'T' 'T' ... 'G' 'T' 'G' 'T' 'C'\n",
       "    a1       (variant) object 'A' 'A' 'G' 'C' 'C' 'C' ... 'A' 'G' 'A' 'C' 'T'"
      ]
     },
     "execution_count": 25,
     "metadata": {},
     "output_type": "execute_result"
    }
   ],
   "source": [
    "G"
   ]
  },
  {
   "cell_type": "code",
   "execution_count": 26,
   "id": "88aecf7f",
   "metadata": {},
   "outputs": [
    {
     "data": {
      "text/plain": [
       "(1034, 69825)"
      ]
     },
     "execution_count": 26,
     "metadata": {},
     "output_type": "execute_result"
    }
   ],
   "source": [
    "G.shape"
   ]
  },
  {
   "cell_type": "code",
   "execution_count": 27,
   "id": "b67cf794",
   "metadata": {},
   "outputs": [],
   "source": [
    "def cis_snp_selection(feature_id, annotation_df, G, window_size):\n",
    "    feature = annotation_df.query(\"gene_name==\\\"{}\\\"\".format(feature_id)).squeeze()\n",
    "    chrom = str(feature['seqid'])\n",
    "    start = feature['start']\n",
    "    end = feature['end']\n",
    "    # make robust to features self-specified back-to-front\n",
    "    lowest = min([start,end])\n",
    "    highest = max([start,end])\n",
    "    # for cis, we sequentially add snps that fall within each region\n",
    "    G = G.where((G.chrom == str(chrom)) & (G.pos > (lowest-window_size)) & (G.pos < (highest+window_size)), drop=True)\n",
    "    return G"
   ]
  },
  {
   "cell_type": "code",
   "execution_count": 28,
   "id": "dde476f7",
   "metadata": {},
   "outputs": [
    {
     "data": {
      "text/plain": [
       "array(['AC002472.1', 'KIAA1658', 'AC005003.1', 'CCT8L2', 'TPTEP1', 'XKR3',\n",
       "       'GAB4', 'IL17RA', 'CECR6', 'CECR5'], dtype=object)"
      ]
     },
     "execution_count": 28,
     "metadata": {},
     "output_type": "execute_result"
    }
   ],
   "source": [
    "genes = phenotype.trait.values\n",
    "genes[0:10]"
   ]
  },
  {
   "cell_type": "code",
   "execution_count": 29,
   "id": "347a9488",
   "metadata": {},
   "outputs": [
    {
     "data": {
      "text/plain": [
       "'AC002472.1'"
      ]
     },
     "execution_count": 29,
     "metadata": {},
     "output_type": "execute_result"
    }
   ],
   "source": [
    "# (1) gene name (feature_id)\n",
    "gene_name = genes[0]\n",
    "gene_name"
   ]
  },
  {
   "cell_type": "code",
   "execution_count": 30,
   "id": "dc4751b0",
   "metadata": {},
   "outputs": [
    {
     "data": {
      "text/html": [
       "<div>\n",
       "<style scoped>\n",
       "    .dataframe tbody tr th:only-of-type {\n",
       "        vertical-align: middle;\n",
       "    }\n",
       "\n",
       "    .dataframe tbody tr th {\n",
       "        vertical-align: top;\n",
       "    }\n",
       "\n",
       "    .dataframe thead th {\n",
       "        text-align: right;\n",
       "    }\n",
       "</style>\n",
       "<table border=\"1\" class=\"dataframe\">\n",
       "  <thead>\n",
       "    <tr style=\"text-align: right;\">\n",
       "      <th></th>\n",
       "      <th>gene_id</th>\n",
       "      <th>seqid</th>\n",
       "      <th>start</th>\n",
       "      <th>end</th>\n",
       "      <th>strand</th>\n",
       "    </tr>\n",
       "    <tr>\n",
       "      <th>gene_name</th>\n",
       "      <th></th>\n",
       "      <th></th>\n",
       "      <th></th>\n",
       "      <th></th>\n",
       "      <th></th>\n",
       "    </tr>\n",
       "  </thead>\n",
       "  <tbody>\n",
       "    <tr>\n",
       "      <th>AL627309.1</th>\n",
       "      <td>ENSG00000237683</td>\n",
       "      <td>1</td>\n",
       "      <td>134901</td>\n",
       "      <td>139379</td>\n",
       "      <td>-</td>\n",
       "    </tr>\n",
       "    <tr>\n",
       "      <th>AL669831.1</th>\n",
       "      <td>ENSG00000269831</td>\n",
       "      <td>1</td>\n",
       "      <td>738532</td>\n",
       "      <td>739137</td>\n",
       "      <td>-</td>\n",
       "    </tr>\n",
       "  </tbody>\n",
       "</table>\n",
       "</div>"
      ],
      "text/plain": [
       "                    gene_id seqid   start     end strand\n",
       "gene_name                                               \n",
       "AL627309.1  ENSG00000237683     1  134901  139379      -\n",
       "AL669831.1  ENSG00000269831     1  738532  739137      -"
      ]
     },
     "execution_count": 30,
     "metadata": {},
     "output_type": "execute_result"
    }
   ],
   "source": [
    "# (2) annotation linking gene to genomic position\n",
    "annotation_file = mydir+\"GeneLocations.tsv\"\n",
    "anno_df = pd.read_csv(annotation_file, sep=\"\\t\", index_col=0)\n",
    "anno_df.head(2)"
   ]
  },
  {
   "cell_type": "code",
   "execution_count": 31,
   "id": "d527b8ce",
   "metadata": {},
   "outputs": [],
   "source": [
    "# (3) window size (cis)\n",
    "w = 100000"
   ]
  },
  {
   "cell_type": "code",
   "execution_count": 32,
   "id": "a62b81d3",
   "metadata": {},
   "outputs": [],
   "source": [
    "G_sel = cis_snp_selection(gene_name, anno_df, G, w)"
   ]
  },
  {
   "cell_type": "code",
   "execution_count": 33,
   "id": "5e73797d",
   "metadata": {},
   "outputs": [
    {
     "data": {
      "text/plain": [
       "(1034, 464)"
      ]
     },
     "execution_count": 33,
     "metadata": {},
     "output_type": "execute_result"
    }
   ],
   "source": [
    "G_sel.shape"
   ]
  },
  {
   "cell_type": "code",
   "execution_count": 34,
   "id": "5fe79cd6",
   "metadata": {},
   "outputs": [
    {
     "name": "stderr",
     "output_type": "stream",
     "text": [
      "/share/ScratchGeneral/anncuo/jupyter/conda_notebooks/envs/cellregmap_notebook/lib/python3.7/site-packages/xarray/core/indexing.py:1227: PerformanceWarning: Slicing with an out-of-order index is generating 2999 times more chunks\n",
      "  return self.array[key]\n",
      "/share/ScratchGeneral/anncuo/jupyter/conda_notebooks/envs/cellregmap_notebook/lib/python3.7/site-packages/xarray/core/indexing.py:1227: PerformanceWarning: Slicing is producing a large chunk. To accept the large\n",
      "chunk and silence this warning, set the option\n",
      "    >>> with dask.config.set(**{'array.slicing.split_large_chunks': False}):\n",
      "    ...     array[indexer]\n",
      "\n",
      "To avoid creating the large chunks, set the option\n",
      "    >>> with dask.config.set(**{'array.slicing.split_large_chunks': True}):\n",
      "    ...     array[indexer]\n",
      "  return self.array[key]\n"
     ]
    }
   ],
   "source": [
    "# expand out genotypes from cells to donors (and select relevant donors in the same step)\n",
    "G_expanded = G_sel.sel(sample=sample_mapping[\"individual_long\"].values)\n",
    "# assert all(hK_expanded.sample.values == G_expanded.sample.values)"
   ]
  },
  {
   "cell_type": "code",
   "execution_count": 35,
   "id": "0b720c74",
   "metadata": {},
   "outputs": [
    {
     "data": {
      "text/plain": [
       "(1267768, 464)"
      ]
     },
     "execution_count": 35,
     "metadata": {},
     "output_type": "execute_result"
    }
   ],
   "source": [
    "G_expanded.shape"
   ]
  },
  {
   "cell_type": "code",
   "execution_count": 36,
   "id": "784502a6",
   "metadata": {},
   "outputs": [],
   "source": [
    "del G"
   ]
  },
  {
   "cell_type": "code",
   "execution_count": 37,
   "id": "87e9f035",
   "metadata": {},
   "outputs": [],
   "source": [
    "#### context file"
   ]
  },
  {
   "cell_type": "code",
   "execution_count": 38,
   "id": "9d4d14c3",
   "metadata": {},
   "outputs": [],
   "source": [
    "# cells by MOFA factors (20)\n",
    "# C_file = input_files_dir+\"PCs.csv\"\n",
    "# C = pd.read_csv(C_file, index_col = 0)\n",
    "C_file = input_files_dir+\"PCs.csv.pkl\"\n",
    "C = pd.read_pickle(C_file)\n",
    "C = xr.DataArray(C.values, dims=[\"cell\", \"pc\"], coords={\"cell\": C.index.values, \"pc\": C.columns.values})\n",
    "C = C.sel(cell=sample_mapping[\"phenotype_sample_id\"].values)\n",
    "assert all(C.cell.values == sample_mapping[\"phenotype_sample_id\"].values)"
   ]
  },
  {
   "cell_type": "code",
   "execution_count": 39,
   "id": "5ee14785",
   "metadata": {},
   "outputs": [
    {
     "data": {
      "text/plain": [
       "(1267768, 50)"
      ]
     },
     "execution_count": 39,
     "metadata": {},
     "output_type": "execute_result"
    }
   ],
   "source": [
    "C.shape"
   ]
  },
  {
   "cell_type": "code",
   "execution_count": 40,
   "id": "a8cd7ace",
   "metadata": {},
   "outputs": [],
   "source": [
    "C_gauss = quantile_gaussianize(C)"
   ]
  },
  {
   "cell_type": "code",
   "execution_count": null,
   "id": "03358dc8",
   "metadata": {},
   "outputs": [],
   "source": []
  },
  {
   "cell_type": "code",
   "execution_count": 41,
   "id": "9f7719a6",
   "metadata": {},
   "outputs": [],
   "source": [
    "# select gene\n",
    "gene_name = 'TPTEP1'\n",
    "y = phenotype.sel(trait=gene_name)"
   ]
  },
  {
   "cell_type": "code",
   "execution_count": 42,
   "id": "b233bf5b",
   "metadata": {},
   "outputs": [
    {
     "data": {
      "text/plain": [
       "[<xarray.DataArray ()>\n",
       " array(0.98717983)\n",
       " Coordinates:\n",
       "     trait    <U6 'TPTEP1']"
      ]
     },
     "execution_count": 42,
     "metadata": {},
     "output_type": "execute_result"
    }
   ],
   "source": [
    "[(y == 0).astype(int).sum()/len(y)]"
   ]
  },
  {
   "cell_type": "code",
   "execution_count": 43,
   "id": "0afd2a7f",
   "metadata": {},
   "outputs": [
    {
     "data": {
      "image/png": "[encoded data removed]",
      "text/plain": [
       "<Figure size 432x288 with 1 Axes>"
      ]
     },
     "metadata": {
      "needs_background": "light"
     },
     "output_type": "display_data"
    }
   ],
   "source": [
    "plt.hist(y)\n",
    "plt.show()"
   ]
  },
  {
   "cell_type": "code",
   "execution_count": 44,
   "id": "f41e922c",
   "metadata": {},
   "outputs": [],
   "source": [
    "y = quantile_gaussianize(y)"
   ]
  },
  {
   "cell_type": "code",
   "execution_count": 45,
   "id": "35f141a4",
   "metadata": {},
   "outputs": [
    {
     "data": {
      "image/png": "[encoded data removed]",
      "text/plain": [
       "<Figure size 432x288 with 1 Axes>"
      ]
     },
     "metadata": {
      "needs_background": "light"
     },
     "output_type": "display_data"
    }
   ],
   "source": [
    "plt.hist(y)\n",
    "plt.show()"
   ]
  },
  {
   "cell_type": "code",
   "execution_count": 46,
   "id": "c964aea7",
   "metadata": {},
   "outputs": [],
   "source": [
    "n_cells = phenotype.shape[1]\n",
    "W = ones((n_cells, 1))"
   ]
  },
  {
   "cell_type": "code",
   "execution_count": 47,
   "id": "80dd9a54",
   "metadata": {},
   "outputs": [],
   "source": [
    "del phenotype"
   ]
  },
  {
   "cell_type": "code",
   "execution_count": 48,
   "id": "b409501d",
   "metadata": {},
   "outputs": [
    {
     "name": "stdout",
     "output_type": "stream",
     "text": [
      "--- 2.2708802223205566 seconds ---\n"
     ]
    }
   ],
   "source": [
    "start_time = time.time()\n",
    "GG = G_expanded.values\n",
    "print(\"--- %s seconds ---\" % (time.time() - start_time))"
   ]
  },
  {
   "cell_type": "code",
   "execution_count": 49,
   "id": "68c875f4",
   "metadata": {},
   "outputs": [],
   "source": [
    "del G_expanded\n",
    "del G_sel"
   ]
  },
  {
   "cell_type": "code",
   "execution_count": 53,
   "id": "84a4eca1",
   "metadata": {},
   "outputs": [],
   "source": [
    "myfolder = mydir+\"CellRegMap_example_files/\""
   ]
  },
  {
   "cell_type": "code",
   "execution_count": 57,
   "id": "45105d82",
   "metadata": {},
   "outputs": [],
   "source": [
    "import numpy as np\n",
    "np.save(myfolder+\"pheno.npy\",y)"
   ]
  },
  {
   "cell_type": "code",
   "execution_count": 58,
   "id": "f7768f70",
   "metadata": {},
   "outputs": [],
   "source": [
    "np.save(myfolder+\"covs.npy\",W)"
   ]
  },
  {
   "cell_type": "code",
   "execution_count": 59,
   "id": "2d593c97",
   "metadata": {},
   "outputs": [],
   "source": [
    "np.save(myfolder+\"context.npy\",C.values[:,0:10])"
   ]
  },
  {
   "cell_type": "code",
   "execution_count": 60,
   "id": "cdef6bfc",
   "metadata": {},
   "outputs": [],
   "source": [
    "np.save(myfolder+\"geno.npy\",GG[:,0:10])"
   ]
  },
  {
   "cell_type": "code",
   "execution_count": 61,
   "id": "b2d14904",
   "metadata": {},
   "outputs": [],
   "source": [
    "np.save(myfolder+\"hK\",hK_expanded)"
   ]
  },
  {
   "cell_type": "code",
   "execution_count": 52,
   "id": "8aff3ff7",
   "metadata": {},
   "outputs": [
    {
     "name": "stderr",
     "output_type": "stream",
     "text": [
      "\n",
      "KeyboardInterrupt\n",
      "\n"
     ]
    }
   ],
   "source": [
    "start_time = time.time()\n",
    "pvals = run_association(y, W, C.values[:,0:10], G=GG[:,0:10], hK=hK_expanded)[0]\n",
    "print(\"--- %s seconds ---\" % (time.time() - start_time))"
   ]
  },
  {
   "cell_type": "code",
   "execution_count": null,
   "id": "621474d6",
   "metadata": {},
   "outputs": [],
   "source": [
    "pv = pd.DataFrame({\"chrom\":G_expanded[:,0:10].chrom.values,\n",
    "               \"pv\":pvals,\n",
    "               \"variant\":G_expanded[:,0:10].snp.values})\n",
    "pv.head()"
   ]
  },
  {
   "cell_type": "code",
   "execution_count": null,
   "id": "615a8729",
   "metadata": {},
   "outputs": [],
   "source": []
  }
 ],
 "metadata": {
  "kernelspec": {
   "display_name": "Python (Jupyter - cellregmap)",
   "language": "python",
   "name": "cellregmap_notebook"
  },
  "language_info": {
   "codemirror_mode": {
    "name": "ipython",
    "version": 3
   },
   "file_extension": ".py",
   "mimetype": "text/x-python",
   "name": "python",
   "nbconvert_exporter": "python",
   "pygments_lexer": "ipython3",
   "version": "3.7.11"
  }
 },
 "nbformat": 4,
 "nbformat_minor": 5
}
